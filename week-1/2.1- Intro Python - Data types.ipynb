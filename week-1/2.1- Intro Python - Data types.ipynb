{
 "cells": [
  {
   "cell_type": "markdown",
   "metadata": {},
   "source": [
    "# Intro Python"
   ]
  },
  {
   "cell_type": "markdown",
   "metadata": {},
   "source": [
    "![elgif](https://media.giphy.com/media/coxQHKASG60HrHtvkt/giphy.gif)"
   ]
  },
  {
   "cell_type": "markdown",
   "metadata": {},
   "source": [
    "[PEP-8](https://peps.python.org/pep-0008/)"
   ]
  },
  {
   "cell_type": "code",
   "execution_count": 1,
   "metadata": {},
   "outputs": [
    {
     "name": "stdout",
     "output_type": "stream",
     "text": [
      "The Zen of Python, by Tim Peters\n",
      "\n",
      "Beautiful is better than ugly.\n",
      "Explicit is better than implicit.\n",
      "Simple is better than complex.\n",
      "Complex is better than complicated.\n",
      "Flat is better than nested.\n",
      "Sparse is better than dense.\n",
      "Readability counts.\n",
      "Special cases aren't special enough to break the rules.\n",
      "Although practicality beats purity.\n",
      "Errors should never pass silently.\n",
      "Unless explicitly silenced.\n",
      "In the face of ambiguity, refuse the temptation to guess.\n",
      "There should be one-- and preferably only one --obvious way to do it.\n",
      "Although that way may not be obvious at first unless you're Dutch.\n",
      "Now is better than never.\n",
      "Although never is often better than *right* now.\n",
      "If the implementation is hard to explain, it's a bad idea.\n",
      "If the implementation is easy to explain, it may be a good idea.\n",
      "Namespaces are one honking great idea -- let's do more of those!\n"
     ]
    }
   ],
   "source": [
    "import this"
   ]
  },
  {
   "cell_type": "markdown",
   "metadata": {},
   "source": [
    "![otrogif](https://media.giphy.com/media/MT5UUV1d4CXE2A37Dg/giphy.gif)"
   ]
  },
  {
   "cell_type": "markdown",
   "metadata": {
    "toc": true
   },
   "source": [
    "<h1>Table of Contents<span class=\"tocSkip\"></span></h1>\n",
    "<div class=\"toc\"><ul class=\"toc-item\"><li><span><a href=\"#Cell-types-in-Jupyter-Notebook\" data-toc-modified-id=\"Cell-types-in-Jupyter-Notebook-1\"><span class=\"toc-item-num\">1&nbsp;&nbsp;</span>Cell types in Jupyter Notebook</a></span><ul class=\"toc-item\"><li><span><a href=\"#Markdown\" data-toc-modified-id=\"Markdown-1.1\"><span class=\"toc-item-num\">1.1&nbsp;&nbsp;</span>Markdown</a></span></li></ul></li><li><span><a href=\"#Titles\" data-toc-modified-id=\"Titles-2\"><span class=\"toc-item-num\">2&nbsp;&nbsp;</span>Titles</a></span><ul class=\"toc-item\"><li><span><a href=\"#Code\" data-toc-modified-id=\"Code-2.1\"><span class=\"toc-item-num\">2.1&nbsp;&nbsp;</span>Code</a></span></li><li><span><a href=\"#Shortcuts\" data-toc-modified-id=\"Shortcuts-2.2\"><span class=\"toc-item-num\">2.2&nbsp;&nbsp;</span>Shortcuts</a></span></li></ul></li><li><span><a href=\"#Integer-numbers\" data-toc-modified-id=\"Integer-numbers-3\"><span class=\"toc-item-num\">3&nbsp;&nbsp;</span>Integer numbers</a></span></li><li><span><a href=\"#Real-numbers-(floats)\" data-toc-modified-id=\"Real-numbers-(floats)-4\"><span class=\"toc-item-num\">4&nbsp;&nbsp;</span>Real numbers (floats)</a></span></li><li><span><a href=\"#Basic-operations\" data-toc-modified-id=\"Basic-operations-5\"><span class=\"toc-item-num\">5&nbsp;&nbsp;</span>Basic operations</a></span><ul class=\"toc-item\"><li><span><a href=\"#built-in-and-imported-things\" data-toc-modified-id=\"built-in-and-imported-things-5.1\"><span class=\"toc-item-num\">5.1&nbsp;&nbsp;</span>built-in and imported things</a></span></li></ul></li><li><span><a href=\"#Strings-(character-strings)\" data-toc-modified-id=\"Strings-(character-strings)-6\"><span class=\"toc-item-num\">6&nbsp;&nbsp;</span>Strings (character strings)</a></span></li><li><span><a href=\"#Casting-in-Python\" data-toc-modified-id=\"Casting-in-Python-7\"><span class=\"toc-item-num\">7&nbsp;&nbsp;</span>Casting in Python</a></span><ul class=\"toc-item\"><li><span><a href=\"#Implicit-conversion\" data-toc-modified-id=\"Implicit-conversion-7.1\"><span class=\"toc-item-num\">7.1&nbsp;&nbsp;</span>Implicit conversion</a></span></li><li><span><a href=\"#explicit-conversion\" data-toc-modified-id=\"explicit-conversion-7.2\"><span class=\"toc-item-num\">7.2&nbsp;&nbsp;</span>explicit conversion</a></span><ul class=\"toc-item\"><li><span><a href=\"#Convert-float-to-int\" data-toc-modified-id=\"Convert-float-to-int-7.2.1\"><span class=\"toc-item-num\">7.2.1&nbsp;&nbsp;</span>Convert float to int</a></span></li><li><span><a href=\"#Convert-a-float-to-a-string\" data-toc-modified-id=\"Convert-a-float-to-a-string-7.2.2\"><span class=\"toc-item-num\">7.2.2&nbsp;&nbsp;</span>Convert a float to a string</a></span></li><li><span><a href=\"#Convert-int-to-str\" data-toc-modified-id=\"Convert-int-to-str-7.2.3\"><span class=\"toc-item-num\">7.2.3&nbsp;&nbsp;</span>Convert int to str</a></span></li></ul></li></ul></li><li><span><a href=\"#Input-and-output-data\" data-toc-modified-id=\"Input-and-output-data-8\"><span class=\"toc-item-num\">8&nbsp;&nbsp;</span>Input and output data</a></span><ul class=\"toc-item\"><li><span><a href=\"#Input\" data-toc-modified-id=\"Input-8.1\"><span class=\"toc-item-num\">8.1&nbsp;&nbsp;</span>Input</a></span></li><li><span><a href=\"#Print\" data-toc-modified-id=\"Print-8.2\"><span class=\"toc-item-num\">8.2&nbsp;&nbsp;</span>Print</a></span></li></ul></li><li><span><a href=\"#Format\" data-toc-modified-id=\"Format-9\"><span class=\"toc-item-num\">9&nbsp;&nbsp;</span>Format</a></span><ul class=\"toc-item\"><li><span><a href=\"#Format---1\" data-toc-modified-id=\"Format---1-9.1\"><span class=\"toc-item-num\">9.1&nbsp;&nbsp;</span>Format - 1</a></span></li><li><span><a href=\"#Format---2\" data-toc-modified-id=\"Format---2-9.2\"><span class=\"toc-item-num\">9.2&nbsp;&nbsp;</span>Format - 2</a></span></li></ul></li><li><span><a href=\"#Strings\" data-toc-modified-id=\"Strings-10\"><span class=\"toc-item-num\">10&nbsp;&nbsp;</span>Strings</a></span><ul class=\"toc-item\"><li><span><a href=\"#String-methods\" data-toc-modified-id=\"String-methods-10.1\"><span class=\"toc-item-num\">10.1&nbsp;&nbsp;</span>String methods</a></span></li></ul></li><li><span><a href=\"#Data-structures\" data-toc-modified-id=\"Data-structures-11\"><span class=\"toc-item-num\">11&nbsp;&nbsp;</span>Data structures</a></span><ul class=\"toc-item\"><li><span><a href=\"#Lists\" data-toc-modified-id=\"Lists-11.1\"><span class=\"toc-item-num\">11.1&nbsp;&nbsp;</span>Lists</a></span><ul class=\"toc-item\"><li><span><a href=\"#list-methods\" data-toc-modified-id=\"list-methods-11.1.1\"><span class=\"toc-item-num\">11.1.1&nbsp;&nbsp;</span>list methods</a></span></li></ul></li><li><span><a href=\"#Tuples\" data-toc-modified-id=\"Tuples-11.2\"><span class=\"toc-item-num\">11.2&nbsp;&nbsp;</span>Tuples</a></span></li><li><span><a href=\"#sets\" data-toc-modified-id=\"sets-11.3\"><span class=\"toc-item-num\">11.3&nbsp;&nbsp;</span>sets</a></span></li><li><span><a href=\"#Dictionaries\" data-toc-modified-id=\"Dictionaries-11.4\"><span class=\"toc-item-num\">11.4&nbsp;&nbsp;</span>Dictionaries</a></span></li></ul></li><li><span><a href=\"#Summary\" data-toc-modified-id=\"Summary-12\"><span class=\"toc-item-num\">12&nbsp;&nbsp;</span>Summary</a></span></li></ul></div>"
   ]
  },
  {
   "cell_type": "markdown",
   "metadata": {
    "lang": "en"
   },
   "source": [
    "## Cell types in Jupyter Notebook"
   ]
  },
  {
   "cell_type": "markdown",
   "metadata": {},
   "source": [
    "### Markdown"
   ]
  },
  {
   "cell_type": "markdown",
   "metadata": {},
   "source": [
    "print(\"Code cell\")"
   ]
  },
  {
   "cell_type": "markdown",
   "metadata": {},
   "source": [
    "# Titles"
   ]
  },
  {
   "cell_type": "markdown",
   "metadata": {},
   "source": [
    "## Titles"
   ]
  },
  {
   "cell_type": "markdown",
   "metadata": {},
   "source": [
    "- A bullet point"
   ]
  },
  {
   "cell_type": "markdown",
   "metadata": {},
   "source": [
    "[This is a link for google](https://wwww.google.es)"
   ]
  },
  {
   "cell_type": "markdown",
   "metadata": {},
   "source": [
    "![This is a link for google](data:image/png;base64,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)"
   ]
  },
  {
   "cell_type": "markdown",
   "metadata": {
    "lang": "en"
   },
   "source": [
    "### Code"
   ]
  },
  {
   "cell_type": "code",
   "execution_count": 2,
   "metadata": {},
   "outputs": [
    {
     "name": "stdout",
     "output_type": "stream",
     "text": [
      "Code cell\n"
     ]
    }
   ],
   "source": [
    "print(\"Code cell\")"
   ]
  },
  {
   "cell_type": "markdown",
   "metadata": {},
   "source": [
    "### Shortcuts"
   ]
  },
  {
   "cell_type": "code",
   "execution_count": 3,
   "metadata": {
    "scrolled": true
   },
   "outputs": [
    {
     "name": "stdout",
     "output_type": "stream",
     "text": [
      "I'm running this cell\n"
     ]
    }
   ],
   "source": [
    "print(\"I'm running this cell\")"
   ]
  },
  {
   "cell_type": "code",
   "execution_count": 27,
   "metadata": {},
   "outputs": [
    {
     "name": "stdout",
     "output_type": "stream",
     "text": [
      "30\n"
     ]
    }
   ],
   "source": [
    "print(a)"
   ]
  },
  {
   "cell_type": "code",
   "execution_count": 24,
   "metadata": {},
   "outputs": [],
   "source": [
    "a = 19"
   ]
  },
  {
   "cell_type": "code",
   "execution_count": 25,
   "metadata": {},
   "outputs": [
    {
     "name": "stdout",
     "output_type": "stream",
     "text": [
      "19\n"
     ]
    }
   ],
   "source": [
    "print(a)"
   ]
  },
  {
   "cell_type": "code",
   "execution_count": 26,
   "metadata": {},
   "outputs": [
    {
     "name": "stdout",
     "output_type": "stream",
     "text": [
      "30\n"
     ]
    }
   ],
   "source": [
    "a = 19\n",
    "a = 30\n",
    "print(a)"
   ]
  },
  {
   "cell_type": "code",
   "execution_count": 15,
   "metadata": {},
   "outputs": [
    {
     "name": "stdout",
     "output_type": "stream",
     "text": [
      "30\n"
     ]
    }
   ],
   "source": [
    "print(a)"
   ]
  },
  {
   "cell_type": "code",
   "execution_count": 6,
   "metadata": {},
   "outputs": [],
   "source": [
    "a_second_time = 20"
   ]
  },
  {
   "cell_type": "code",
   "execution_count": 7,
   "metadata": {},
   "outputs": [
    {
     "name": "stdout",
     "output_type": "stream",
     "text": [
      "20\n"
     ]
    }
   ],
   "source": [
    "print(a_second_time)"
   ]
  },
  {
   "cell_type": "markdown",
   "metadata": {},
   "source": [
    "To run the cell\n",
    "\n",
    "- `ctrl + enter`\n",
    "- `shift + enter` #this one runs the cell and jumps to the next one"
   ]
  },
  {
   "cell_type": "markdown",
   "metadata": {},
   "source": [
    "- `a` for new cell above\n",
    "- `b` for new cell below\n",
    "- `d + d for shortcut mode\n",
    "\n",
    "- `m` or `y` for switching between markdwon and code"
   ]
  },
  {
   "cell_type": "markdown",
   "metadata": {
    "lang": "en"
   },
   "source": [
    "# Type of data\n",
    "## Integer numbers"
   ]
  },
  {
   "cell_type": "code",
   "execution_count": 28,
   "metadata": {},
   "outputs": [],
   "source": [
    "a_number = 4"
   ]
  },
  {
   "cell_type": "code",
   "execution_count": 30,
   "metadata": {},
   "outputs": [
    {
     "name": "stdout",
     "output_type": "stream",
     "text": [
      "4\n"
     ]
    }
   ],
   "source": [
    "print(a_number)"
   ]
  },
  {
   "cell_type": "code",
   "execution_count": 32,
   "metadata": {},
   "outputs": [
    {
     "name": "stdout",
     "output_type": "stream",
     "text": [
      "Hello\n",
      "4\n"
     ]
    }
   ],
   "source": [
    "print(\"Hello\")\n",
    "print(a_number)"
   ]
  },
  {
   "cell_type": "code",
   "execution_count": 36,
   "metadata": {},
   "outputs": [
    {
     "data": {
      "text/plain": [
       "int"
      ]
     },
     "execution_count": 36,
     "metadata": {},
     "output_type": "execute_result"
    }
   ],
   "source": [
    "type(a_number)"
   ]
  },
  {
   "cell_type": "code",
   "execution_count": 37,
   "metadata": {},
   "outputs": [],
   "source": [
    "a_second_number = 4.0"
   ]
  },
  {
   "cell_type": "code",
   "execution_count": 38,
   "metadata": {},
   "outputs": [
    {
     "data": {
      "text/plain": [
       "4.0"
      ]
     },
     "execution_count": 38,
     "metadata": {},
     "output_type": "execute_result"
    }
   ],
   "source": [
    "a_second_number"
   ]
  },
  {
   "cell_type": "code",
   "execution_count": 39,
   "metadata": {},
   "outputs": [
    {
     "data": {
      "text/plain": [
       "float"
      ]
     },
     "execution_count": 39,
     "metadata": {},
     "output_type": "execute_result"
    }
   ],
   "source": [
    "type(a_second_number)"
   ]
  },
  {
   "cell_type": "code",
   "execution_count": 40,
   "metadata": {},
   "outputs": [],
   "source": [
    "a_third_number = \"4\""
   ]
  },
  {
   "cell_type": "code",
   "execution_count": null,
   "metadata": {},
   "outputs": [],
   "source": [
    "type(a_third_number)"
   ]
  },
  {
   "cell_type": "code",
   "execution_count": 42,
   "metadata": {},
   "outputs": [],
   "source": [
    "a_third_number_version_2 = '4'"
   ]
  },
  {
   "cell_type": "code",
   "execution_count": 43,
   "metadata": {},
   "outputs": [
    {
     "data": {
      "text/plain": [
       "str"
      ]
     },
     "execution_count": 43,
     "metadata": {},
     "output_type": "execute_result"
    }
   ],
   "source": [
    "type(a_third_number_version_2)"
   ]
  },
  {
   "cell_type": "markdown",
   "metadata": {
    "lang": "en"
   },
   "source": [
    "## Real numbers (floats)"
   ]
  },
  {
   "cell_type": "code",
   "execution_count": null,
   "metadata": {},
   "outputs": [],
   "source": []
  },
  {
   "cell_type": "markdown",
   "metadata": {
    "lang": "en"
   },
   "source": [
    "## Basic operations"
   ]
  },
  {
   "cell_type": "code",
   "execution_count": 72,
   "metadata": {},
   "outputs": [],
   "source": [
    "a = 10\n",
    "b = 3"
   ]
  },
  {
   "cell_type": "code",
   "execution_count": 73,
   "metadata": {},
   "outputs": [],
   "source": [
    "# sum\n",
    "\n",
    "c = a + b"
   ]
  },
  {
   "cell_type": "code",
   "execution_count": 74,
   "metadata": {},
   "outputs": [
    {
     "data": {
      "text/plain": [
       "13"
      ]
     },
     "execution_count": 74,
     "metadata": {},
     "output_type": "execute_result"
    }
   ],
   "source": [
    "c"
   ]
  },
  {
   "cell_type": "code",
   "execution_count": 75,
   "metadata": {},
   "outputs": [],
   "source": [
    "# substractions\n",
    "\n",
    "d = a - b"
   ]
  },
  {
   "cell_type": "code",
   "execution_count": 76,
   "metadata": {},
   "outputs": [
    {
     "data": {
      "text/plain": [
       "7"
      ]
     },
     "execution_count": 76,
     "metadata": {},
     "output_type": "execute_result"
    }
   ],
   "source": [
    "d"
   ]
  },
  {
   "cell_type": "code",
   "execution_count": 77,
   "metadata": {},
   "outputs": [
    {
     "data": {
      "text/plain": [
       "int"
      ]
     },
     "execution_count": 77,
     "metadata": {},
     "output_type": "execute_result"
    }
   ],
   "source": [
    "type(d)"
   ]
  },
  {
   "cell_type": "code",
   "execution_count": 78,
   "metadata": {},
   "outputs": [
    {
     "data": {
      "text/plain": [
       "3.3333333333333335"
      ]
     },
     "execution_count": 78,
     "metadata": {},
     "output_type": "execute_result"
    }
   ],
   "source": [
    "# division\n",
    "\n",
    "a / b"
   ]
  },
  {
   "cell_type": "code",
   "execution_count": 79,
   "metadata": {},
   "outputs": [
    {
     "data": {
      "text/plain": [
       "3"
      ]
     },
     "execution_count": 79,
     "metadata": {},
     "output_type": "execute_result"
    }
   ],
   "source": [
    "# floor division\n",
    "\n",
    "my_floor_division = a // b\n",
    "my_floor_division"
   ]
  },
  {
   "cell_type": "code",
   "execution_count": 81,
   "metadata": {},
   "outputs": [
    {
     "data": {
      "text/plain": [
       "1"
      ]
     },
     "execution_count": 81,
     "metadata": {},
     "output_type": "execute_result"
    }
   ],
   "source": [
    "# modulo\n",
    "\n",
    "remainder_of_division_modulo = a % b \n",
    "remainder_of_division_modulo"
   ]
  },
  {
   "cell_type": "code",
   "execution_count": 82,
   "metadata": {},
   "outputs": [
    {
     "name": "stdout",
     "output_type": "stream",
     "text": [
      "1\n"
     ]
    }
   ],
   "source": [
    "print(round(0.993837837))"
   ]
  },
  {
   "cell_type": "code",
   "execution_count": 85,
   "metadata": {},
   "outputs": [
    {
     "data": {
      "text/plain": [
       "0.9938"
      ]
     },
     "execution_count": 85,
     "metadata": {},
     "output_type": "execute_result"
    }
   ],
   "source": [
    "round(0.993837837, 4) #shift + tab (clicking on a built-in method): pop-up window with docs"
   ]
  },
  {
   "cell_type": "code",
   "execution_count": 83,
   "metadata": {
    "scrolled": true
   },
   "outputs": [
    {
     "name": "stdout",
     "output_type": "stream",
     "text": [
      "0\n"
     ]
    }
   ],
   "source": [
    "print(round(0.00065789))"
   ]
  },
  {
   "cell_type": "markdown",
   "metadata": {},
   "source": [
    "### built-in and imported things\n",
    "\n",
    "methods = functions = things that do things\n",
    "\n",
    "- print is a method\n",
    "- sum is a method\n",
    "\n",
    "some are built-in into python version\n",
    "asome need to be imported"
   ]
  },
  {
   "cell_type": "code",
   "execution_count": 8,
   "metadata": {},
   "outputs": [],
   "source": [
    "# pip/conda install something (library)\n",
    "# import the library"
   ]
  },
  {
   "cell_type": "code",
   "execution_count": 87,
   "metadata": {},
   "outputs": [],
   "source": [
    "import math"
   ]
  },
  {
   "cell_type": "code",
   "execution_count": 88,
   "metadata": {},
   "outputs": [
    {
     "data": {
      "text/plain": [
       "45678"
      ]
     },
     "execution_count": 88,
     "metadata": {},
     "output_type": "execute_result"
    }
   ],
   "source": [
    "math.floor(45678.876545678)"
   ]
  },
  {
   "cell_type": "code",
   "execution_count": 91,
   "metadata": {},
   "outputs": [
    {
     "data": {
      "text/plain": [
       "56781"
      ]
     },
     "execution_count": 91,
     "metadata": {},
     "output_type": "execute_result"
    }
   ],
   "source": [
    "math.ceil(56780.00383) #ceiling"
   ]
  },
  {
   "cell_type": "code",
   "execution_count": 10,
   "metadata": {},
   "outputs": [
    {
     "data": {
      "text/plain": [
       "'math'"
      ]
     },
     "execution_count": 10,
     "metadata": {},
     "output_type": "execute_result"
    }
   ],
   "source": [
    "\"math\" # shift & tab "
   ]
  },
  {
   "cell_type": "code",
   "execution_count": null,
   "metadata": {},
   "outputs": [],
   "source": [
    "\"math.\" #tab  -> dropdown window with available methods"
   ]
  },
  {
   "cell_type": "markdown",
   "metadata": {
    "lang": "en"
   },
   "source": [
    "## Strings (character strings)"
   ]
  },
  {
   "cell_type": "code",
   "execution_count": 92,
   "metadata": {},
   "outputs": [
    {
     "data": {
      "text/plain": [
       "'diyghjsFD'"
      ]
     },
     "execution_count": 92,
     "metadata": {},
     "output_type": "execute_result"
    }
   ],
   "source": [
    "\"diyghjsFD\""
   ]
  },
  {
   "cell_type": "code",
   "execution_count": 93,
   "metadata": {},
   "outputs": [
    {
     "data": {
      "text/plain": [
       "str"
      ]
     },
     "execution_count": 93,
     "metadata": {},
     "output_type": "execute_result"
    }
   ],
   "source": [
    "type(\"diyghjsFD\")"
   ]
  },
  {
   "cell_type": "code",
   "execution_count": 94,
   "metadata": {},
   "outputs": [],
   "source": [
    "example_string = \"this is an example\""
   ]
  },
  {
   "cell_type": "code",
   "execution_count": 95,
   "metadata": {},
   "outputs": [
    {
     "data": {
      "text/plain": [
       "str"
      ]
     },
     "execution_count": 95,
     "metadata": {},
     "output_type": "execute_result"
    }
   ],
   "source": [
    "type(example_string)"
   ]
  },
  {
   "cell_type": "code",
   "execution_count": 100,
   "metadata": {},
   "outputs": [],
   "source": [
    "number_in_quotes = \"4\""
   ]
  },
  {
   "cell_type": "code",
   "execution_count": 99,
   "metadata": {},
   "outputs": [
    {
     "data": {
      "text/plain": [
       "int"
      ]
     },
     "execution_count": 99,
     "metadata": {},
     "output_type": "execute_result"
    }
   ],
   "source": [
    "type(number_in_quotes)"
   ]
  },
  {
   "cell_type": "code",
   "execution_count": 101,
   "metadata": {},
   "outputs": [],
   "source": [
    "number_in_single_quotes = '4'"
   ]
  },
  {
   "cell_type": "code",
   "execution_count": 102,
   "metadata": {},
   "outputs": [
    {
     "data": {
      "text/plain": [
       "str"
      ]
     },
     "execution_count": 102,
     "metadata": {},
     "output_type": "execute_result"
    }
   ],
   "source": [
    "type(number_in_single_quotes)"
   ]
  },
  {
   "cell_type": "code",
   "execution_count": 106,
   "metadata": {},
   "outputs": [
    {
     "ename": "SyntaxError",
     "evalue": "EOL while scanning string literal (1421359127.py, line 1)",
     "output_type": "error",
     "traceback": [
      "\u001b[0;36m  Input \u001b[0;32mIn [106]\u001b[0;36m\u001b[0m\n\u001b[0;31m    number_in_single_quotes_2 = \"4'\u001b[0m\n\u001b[0m                                   ^\u001b[0m\n\u001b[0;31mSyntaxError\u001b[0m\u001b[0;31m:\u001b[0m EOL while scanning string literal\n"
     ]
    }
   ],
   "source": [
    "number_in_single_quotes_2 = \"4'"
   ]
  },
  {
   "cell_type": "code",
   "execution_count": 108,
   "metadata": {},
   "outputs": [
    {
     "data": {
      "text/plain": [
       "\"I'm feeling under the weather\""
      ]
     },
     "execution_count": 108,
     "metadata": {},
     "output_type": "execute_result"
    }
   ],
   "source": [
    "# Q: double over single quotes for strings?\n",
    "\n",
    "sentence_1 = \"I'm feeling under the weather\"\n",
    "sentence_1"
   ]
  },
  {
   "cell_type": "code",
   "execution_count": 109,
   "metadata": {},
   "outputs": [
    {
     "data": {
      "text/plain": [
       "'Im feeling under the weather'"
      ]
     },
     "execution_count": 109,
     "metadata": {},
     "output_type": "execute_result"
    }
   ],
   "source": [
    "sentence_2 = 'Im feeling under the weather'\n",
    "sentence_2"
   ]
  },
  {
   "cell_type": "code",
   "execution_count": 113,
   "metadata": {},
   "outputs": [],
   "source": [
    "multine_strings = \"\"\"uhsdjhsd\n",
    "sdsdsd\n",
    "\"\"\""
   ]
  },
  {
   "cell_type": "code",
   "execution_count": 114,
   "metadata": {},
   "outputs": [
    {
     "data": {
      "text/plain": [
       "'uhsdjhsd\\nsdsdsd\\n'"
      ]
     },
     "execution_count": 114,
     "metadata": {},
     "output_type": "execute_result"
    }
   ],
   "source": [
    "multine_strings"
   ]
  },
  {
   "cell_type": "code",
   "execution_count": 115,
   "metadata": {
    "scrolled": true
   },
   "outputs": [
    {
     "name": "stdout",
     "output_type": "stream",
     "text": [
      "uhsdjhsd\n",
      "sdsdsd\n",
      "\n"
     ]
    }
   ],
   "source": [
    "print(multine_strings)"
   ]
  },
  {
   "cell_type": "code",
   "execution_count": 116,
   "metadata": {
    "scrolled": true
   },
   "outputs": [
    {
     "name": "stdout",
     "output_type": "stream",
     "text": [
      "Random string\n"
     ]
    }
   ],
   "source": [
    "this_is_a_string = \"Random string\"\n",
    "print(this_is_a_string)"
   ]
  },
  {
   "cell_type": "code",
   "execution_count": 126,
   "metadata": {},
   "outputs": [],
   "source": [
    "string_1 = \"Hello \"\n",
    "string_2 = \", how are you doing.\""
   ]
  },
  {
   "cell_type": "code",
   "execution_count": 142,
   "metadata": {},
   "outputs": [
    {
     "name": "stdout",
     "output_type": "stream",
     "text": [
      "Hello \n",
      ", how are you doing.\n",
      "Hello \n",
      ", how are you doing.\n"
     ]
    }
   ],
   "source": [
    "#Q: add \\n to the strings -> same line\n",
    "\n",
    "#Example 1\n",
    "line_break = \"\\n\"\n",
    "print(string_1 + line_break + string_2) #same\n",
    "\n",
    "#Example 2\n",
    "print(\"Hello \" + \"\\n\" + \", how are you doing.\")  #same"
   ]
  },
  {
   "cell_type": "code",
   "execution_count": 127,
   "metadata": {},
   "outputs": [
    {
     "data": {
      "text/plain": [
       "'Hello , how are you doing.'"
      ]
     },
     "execution_count": 127,
     "metadata": {},
     "output_type": "execute_result"
    }
   ],
   "source": [
    "whole_sentence = string_1 + string_2\n",
    "whole_sentence"
   ]
  },
  {
   "cell_type": "code",
   "execution_count": 128,
   "metadata": {},
   "outputs": [
    {
     "data": {
      "text/plain": [
       "'Hello Hello Hello Hello Hello Hello Hello Hello Hello Hello Hello Hello Hello Hello Hello Hello Hello Hello Hello Hello '"
      ]
     },
     "execution_count": 128,
     "metadata": {},
     "output_type": "execute_result"
    }
   ],
   "source": [
    "string_1 * 20"
   ]
  },
  {
   "cell_type": "code",
   "execution_count": 129,
   "metadata": {},
   "outputs": [
    {
     "ename": "TypeError",
     "evalue": "unsupported operand type(s) for /: 'str' and 'int'",
     "output_type": "error",
     "traceback": [
      "\u001b[0;31m---------------------------------------------------------------------------\u001b[0m",
      "\u001b[0;31mTypeError\u001b[0m                                 Traceback (most recent call last)",
      "Input \u001b[0;32mIn [129]\u001b[0m, in \u001b[0;36m<cell line: 1>\u001b[0;34m()\u001b[0m\n\u001b[0;32m----> 1\u001b[0m \u001b[43mstring_1\u001b[49m\u001b[43m \u001b[49m\u001b[38;5;241;43m/\u001b[39;49m\u001b[43m \u001b[49m\u001b[38;5;241;43m2\u001b[39;49m\n",
      "\u001b[0;31mTypeError\u001b[0m: unsupported operand type(s) for /: 'str' and 'int'"
     ]
    }
   ],
   "source": [
    "string_1 / 2"
   ]
  },
  {
   "cell_type": "code",
   "execution_count": 146,
   "metadata": {},
   "outputs": [
    {
     "data": {
      "text/plain": [
       "str"
      ]
     },
     "execution_count": 146,
     "metadata": {},
     "output_type": "execute_result"
    }
   ],
   "source": [
    "type(\"🚀\") #emojis: ctrl + commd + space"
   ]
  },
  {
   "cell_type": "code",
   "execution_count": 148,
   "metadata": {},
   "outputs": [],
   "source": [
    "# icons on macOS: ctrl + command + space\n",
    "# icons on windows: windows key & ."
   ]
  },
  {
   "cell_type": "code",
   "execution_count": 147,
   "metadata": {},
   "outputs": [],
   "source": [
    "#print() -> built-in method, same as a function"
   ]
  },
  {
   "cell_type": "markdown",
   "metadata": {
    "lang": "en"
   },
   "source": [
    "## Casting in Python"
   ]
  },
  {
   "cell_type": "code",
   "execution_count": 11,
   "metadata": {},
   "outputs": [],
   "source": [
    "# int\n",
    "# floats\n",
    "# str"
   ]
  },
  {
   "cell_type": "markdown",
   "metadata": {
    "lang": "en"
   },
   "source": [
    "Casting means converting one data type to another. We have previously seen types such as int, string or float. Well, it is possible to convert from one type to another.\n",
    "But first of all, let's see the different types of cast or type conversion that can be done. There are two:\n",
    "\n",
    "**Implicit conversion:** This is done automatically by Python. It occurs when we perform certain operations with two different types.\n",
    "\n",
    "**Explicit conversion:** We do this explicitly, such as converting str to int with str()."
   ]
  },
  {
   "cell_type": "markdown",
   "metadata": {
    "lang": "en"
   },
   "source": [
    "### Implicit conversion\n",
    "This type conversion is done automatically by Python, practically without our realizing it. Still, it's important to know what's going on underneath to avoid future problems.\n",
    "\n",
    "The simplest example where we can see this behavior is the following:"
   ]
  },
  {
   "cell_type": "code",
   "execution_count": 151,
   "metadata": {},
   "outputs": [],
   "source": [
    "a = 5\n",
    "b = 4.0"
   ]
  },
  {
   "cell_type": "code",
   "execution_count": 152,
   "metadata": {},
   "outputs": [],
   "source": [
    "c = a + b"
   ]
  },
  {
   "cell_type": "code",
   "execution_count": 153,
   "metadata": {},
   "outputs": [
    {
     "data": {
      "text/plain": [
       "9.0"
      ]
     },
     "execution_count": 153,
     "metadata": {},
     "output_type": "execute_result"
    }
   ],
   "source": [
    "c"
   ]
  },
  {
   "cell_type": "code",
   "execution_count": 154,
   "metadata": {},
   "outputs": [
    {
     "data": {
      "text/plain": [
       "float"
      ]
     },
     "execution_count": 154,
     "metadata": {},
     "output_type": "execute_result"
    }
   ],
   "source": [
    "type(c)"
   ]
  },
  {
   "cell_type": "markdown",
   "metadata": {
    "lang": "en"
   },
   "source": [
    "- a is an int\n",
    "- b is a float\n",
    "\n",
    "But if we add a and b and store the result in a, we can see how internally Python has converted the int to float to perform the operation, and the resulting variable is float.\n",
    "However, there are other cases where Python is not as smart and is not capable of performing the conversion. If we try to add an int to a string, we will get a TypeError."
   ]
  },
  {
   "cell_type": "code",
   "execution_count": null,
   "metadata": {},
   "outputs": [],
   "source": []
  },
  {
   "cell_type": "markdown",
   "metadata": {
    "lang": "en"
   },
   "source": [
    "### explicit conversion\n",
    "On the other hand, we can make conversions between types or castings explicitly using different functions provided by Python. The most used are the following:\n",
    "\n",
    "`float(), str(), int(), list(), set()`"
   ]
  },
  {
   "cell_type": "code",
   "execution_count": 157,
   "metadata": {},
   "outputs": [],
   "source": [
    "four_as_string = \"4\""
   ]
  },
  {
   "cell_type": "code",
   "execution_count": 159,
   "metadata": {},
   "outputs": [
    {
     "data": {
      "text/plain": [
       "int"
      ]
     },
     "execution_count": 159,
     "metadata": {},
     "output_type": "execute_result"
    }
   ],
   "source": [
    "four_as_int = int(four_as_string)\n",
    "type(four_as_int)"
   ]
  },
  {
   "cell_type": "markdown",
   "metadata": {},
   "source": [
    "#### Convert float to int\n",
    "To convert from float to int we must use int(). But be careful, because the integer type cannot store decimals, so we will lose whatever is after the decimal point."
   ]
  },
  {
   "cell_type": "code",
   "execution_count": 169,
   "metadata": {},
   "outputs": [
    {
     "name": "stdout",
     "output_type": "stream",
     "text": [
      "The type of the variable, is:  <class 'float'>\n",
      "The actual value of the variable:  4.0\n"
     ]
    }
   ],
   "source": [
    "four_as_integer = 4\n",
    "four_as_float = float(four_as_integer)\n",
    "print(\"The type of the variable, is: \", type(four_as_float))\n",
    "print(\"The actual value of the variable: \", four_as_float)"
   ]
  },
  {
   "cell_type": "code",
   "execution_count": 162,
   "metadata": {},
   "outputs": [
    {
     "name": "stdout",
     "output_type": "stream",
     "text": [
      "The type of the variable, is:  <class 'float'>\n"
     ]
    },
    {
     "data": {
      "text/plain": [
       "float"
      ]
     },
     "execution_count": 162,
     "metadata": {},
     "output_type": "execute_result"
    }
   ],
   "source": [
    "print(\"The type of the variable, is: \", type(four_as_float))\n",
    "type(four_as_float)"
   ]
  },
  {
   "cell_type": "code",
   "execution_count": 165,
   "metadata": {},
   "outputs": [
    {
     "name": "stdout",
     "output_type": "stream",
     "text": [
      "<class 'float'>\n"
     ]
    }
   ],
   "source": [
    "print(str(type(four_as_float)))"
   ]
  },
  {
   "cell_type": "markdown",
   "metadata": {
    "lang": "en"
   },
   "source": [
    "#### Convert a float to a string\n",
    "We can convert a float to a string with str(). We can see in the following code how the type of a changes after the cast."
   ]
  },
  {
   "cell_type": "code",
   "execution_count": 170,
   "metadata": {},
   "outputs": [
    {
     "data": {
      "text/plain": [
       "'4.0'"
      ]
     },
     "execution_count": 170,
     "metadata": {},
     "output_type": "execute_result"
    }
   ],
   "source": [
    "str(4.0)"
   ]
  },
  {
   "cell_type": "markdown",
   "metadata": {
    "lang": "en"
   },
   "source": [
    "#### Convert int to str\n",
    "Like the conversion to float above, we can convert from string to int using int()."
   ]
  },
  {
   "cell_type": "code",
   "execution_count": 171,
   "metadata": {},
   "outputs": [
    {
     "data": {
      "text/plain": [
       "'4'"
      ]
     },
     "execution_count": 171,
     "metadata": {},
     "output_type": "execute_result"
    }
   ],
   "source": [
    "str(4)"
   ]
  },
  {
   "cell_type": "code",
   "execution_count": 181,
   "metadata": {},
   "outputs": [
    {
     "data": {
      "text/plain": [
       "4"
      ]
     },
     "execution_count": 181,
     "metadata": {},
     "output_type": "execute_result"
    }
   ],
   "source": [
    "int(\"4\")"
   ]
  },
  {
   "cell_type": "markdown",
   "metadata": {
    "lang": "en"
   },
   "source": [
    "## Input and output data\n",
    "### Input\n",
    "To assign a variable to a value entered by the user at the console, use the statement\n",
    "``python\n",
    "input(message) : Displays the message of the string by the terminal and returns a string with the input\n",
    "  ```"
   ]
  },
  {
   "cell_type": "code",
   "execution_count": 180,
   "metadata": {},
   "outputs": [
    {
     "name": "stdout",
     "output_type": "stream",
     "text": [
      "sddfdf\n"
     ]
    }
   ],
   "source": [
    "greeting = input()"
   ]
  },
  {
   "cell_type": "code",
   "execution_count": null,
   "metadata": {},
   "outputs": [],
   "source": [
    "greeting = input(\"Please input your greeting: \")"
   ]
  },
  {
   "cell_type": "code",
   "execution_count": null,
   "metadata": {},
   "outputs": [],
   "source": [
    "greeting"
   ]
  },
  {
   "cell_type": "code",
   "execution_count": 196,
   "metadata": {},
   "outputs": [
    {
     "name": "stdout",
     "output_type": "stream",
     "text": [
      "Please input your age: 4\n"
     ]
    }
   ],
   "source": [
    "age = int(input(\"Please input your age: \"))"
   ]
  },
  {
   "cell_type": "code",
   "execution_count": 197,
   "metadata": {},
   "outputs": [
    {
     "data": {
      "text/plain": [
       "4"
      ]
     },
     "execution_count": 197,
     "metadata": {},
     "output_type": "execute_result"
    }
   ],
   "source": [
    "age"
   ]
  },
  {
   "cell_type": "code",
   "execution_count": 198,
   "metadata": {},
   "outputs": [
    {
     "data": {
      "text/plain": [
       "2.0"
      ]
     },
     "execution_count": 198,
     "metadata": {},
     "output_type": "execute_result"
    }
   ],
   "source": [
    "age / 2"
   ]
  },
  {
   "cell_type": "code",
   "execution_count": 192,
   "metadata": {},
   "outputs": [],
   "source": [
    "# Anticipating possible errors / situation\n",
    "# Make sure the type wil be an int\n",
    "# Defensive programming"
   ]
  },
  {
   "cell_type": "markdown",
   "metadata": {
    "lang": "en"
   },
   "source": [
    "### Print\n",
    "The print() function prints the specified message to the screen, or to another standard output device.\n",
    "\n",
    "The message can be a string, or any other object, the object will be converted to a string before being written to the screen."
   ]
  },
  {
   "cell_type": "code",
   "execution_count": 199,
   "metadata": {},
   "outputs": [],
   "source": [
    "a_number = 5"
   ]
  },
  {
   "cell_type": "code",
   "execution_count": 200,
   "metadata": {},
   "outputs": [
    {
     "name": "stdout",
     "output_type": "stream",
     "text": [
      "5\n"
     ]
    }
   ],
   "source": [
    "print(a_number)"
   ]
  },
  {
   "cell_type": "code",
   "execution_count": 201,
   "metadata": {},
   "outputs": [
    {
     "name": "stdout",
     "output_type": "stream",
     "text": [
      "5\n"
     ]
    },
    {
     "data": {
      "text/plain": [
       "NoneType"
      ]
     },
     "execution_count": 201,
     "metadata": {},
     "output_type": "execute_result"
    }
   ],
   "source": [
    "type(print(a_number))"
   ]
  },
  {
   "cell_type": "code",
   "execution_count": null,
   "metadata": {},
   "outputs": [],
   "source": [
    "# print\n",
    "    #it prints on the screen\n",
    "    # returns None"
   ]
  },
  {
   "cell_type": "markdown",
   "metadata": {},
   "source": [
    "## Format"
   ]
  },
  {
   "cell_type": "markdown",
   "metadata": {},
   "source": [
    "### Format - 1"
   ]
  },
  {
   "cell_type": "code",
   "execution_count": 232,
   "metadata": {},
   "outputs": [],
   "source": [
    "name = 10"
   ]
  },
  {
   "cell_type": "code",
   "execution_count": 235,
   "metadata": {},
   "outputs": [],
   "source": [
    "greeting_string = f\"Hello my name is {name} {family_name}\""
   ]
  },
  {
   "cell_type": "code",
   "execution_count": 236,
   "metadata": {},
   "outputs": [
    {
     "data": {
      "text/plain": [
       "'Hello my name is 10 Larrachea'"
      ]
     },
     "execution_count": 236,
     "metadata": {},
     "output_type": "execute_result"
    }
   ],
   "source": [
    "greeting_string"
   ]
  },
  {
   "cell_type": "code",
   "execution_count": 237,
   "metadata": {},
   "outputs": [
    {
     "name": "stdout",
     "output_type": "stream",
     "text": [
      "Hello my name is {name} {family_name}\n"
     ]
    }
   ],
   "source": [
    "print(\"Hello my name is {name} {family_name}\")"
   ]
  },
  {
   "cell_type": "markdown",
   "metadata": {},
   "source": [
    "### Format - 2"
   ]
  },
  {
   "cell_type": "code",
   "execution_count": 222,
   "metadata": {},
   "outputs": [],
   "source": [
    "name_2 = \"Nerea\""
   ]
  },
  {
   "cell_type": "code",
   "execution_count": 223,
   "metadata": {},
   "outputs": [],
   "source": [
    "family_name = \"Larrachea\""
   ]
  },
  {
   "cell_type": "code",
   "execution_count": 224,
   "metadata": {},
   "outputs": [],
   "source": [
    "greeting_string_2 = \"Hello my name is {} {}\".format(name_2, family_name)"
   ]
  },
  {
   "cell_type": "code",
   "execution_count": 225,
   "metadata": {},
   "outputs": [
    {
     "data": {
      "text/plain": [
       "'Hello my name is Nerea Larrachea'"
      ]
     },
     "execution_count": 225,
     "metadata": {},
     "output_type": "execute_result"
    }
   ],
   "source": [
    "greeting_string_2"
   ]
  },
  {
   "cell_type": "code",
   "execution_count": 242,
   "metadata": {},
   "outputs": [
    {
     "name": "stdout",
     "output_type": "stream",
     "text": [
      "Hello this is a list: [1, 2, 3]\n"
     ]
    }
   ],
   "source": [
    "# Q: what if it was a list I'm trying to format into a string?\n",
    "\n",
    "a_list = [1, 2, 3]\n",
    "print(f\"Hello this is a list: {a_list}\")"
   ]
  },
  {
   "cell_type": "markdown",
   "metadata": {
    "lang": "es"
   },
   "source": [
    "## Strings"
   ]
  },
  {
   "cell_type": "markdown",
   "metadata": {
    "lang": "en"
   },
   "source": [
    "### String methods\n",
    "Methods are actions or functions that an object can perform. Just as Python offers a series of “built-in” functions, it also offers us a set of already created methods. These methods depend on the type of object we are working with."
   ]
  },
  {
   "cell_type": "code",
   "execution_count": 247,
   "metadata": {},
   "outputs": [
    {
     "data": {
      "text/plain": [
       "'this is a sentence'"
      ]
     },
     "execution_count": 247,
     "metadata": {},
     "output_type": "execute_result"
    }
   ],
   "source": [
    "a_string = \"this is a sentence\"\n",
    "a_string"
   ]
  },
  {
   "cell_type": "markdown",
   "metadata": {
    "lang": "en"
   },
   "source": [
    "We are going to explain in class some of the most used methods during bootcamp, keep in mind that you always have to keep in mind the [documentation](https://docs.python.org/3/library/stdtypes.html#string-methods )"
   ]
  },
  {
   "cell_type": "markdown",
   "metadata": {
    "lang": "en"
   },
   "source": [
    "`capitalize` Returns a copy of the string with its first character uppercase and the rest lowercase."
   ]
  },
  {
   "cell_type": "code",
   "execution_count": 250,
   "metadata": {
    "scrolled": true
   },
   "outputs": [
    {
     "data": {
      "text/plain": [
       "'This is a sentence'"
      ]
     },
     "execution_count": 250,
     "metadata": {},
     "output_type": "execute_result"
    }
   ],
   "source": [
    "capitalized_sentence = a_string.capitalize()\n",
    "capitalized_sentence"
   ]
  },
  {
   "cell_type": "code",
   "execution_count": 249,
   "metadata": {},
   "outputs": [
    {
     "data": {
      "text/plain": [
       "'this is a sentence'"
      ]
     },
     "execution_count": 249,
     "metadata": {},
     "output_type": "execute_result"
    }
   ],
   "source": [
    "a_string #1st?"
   ]
  },
  {
   "cell_type": "code",
   "execution_count": 252,
   "metadata": {},
   "outputs": [
    {
     "data": {
      "text/plain": [
       "'This is a sentence'"
      ]
     },
     "execution_count": 252,
     "metadata": {},
     "output_type": "execute_result"
    }
   ],
   "source": [
    "# Q: can I overwrite it with itself?:\n",
    "\n",
    "a_string = a_string.capitalize()\n",
    "a_string\n",
    "\n",
    "\n",
    "#1. Capitalized\n",
    "#2. non-capitalized\n",
    "#3. Error message\n",
    "\n",
    "#1 ✅"
   ]
  },
  {
   "cell_type": "markdown",
   "metadata": {
    "lang": "en"
   },
   "source": [
    "`upper` Returns a copy of the string with all characters in uppercase"
   ]
  },
  {
   "cell_type": "code",
   "execution_count": 253,
   "metadata": {},
   "outputs": [
    {
     "data": {
      "text/plain": [
       "'THIS IS A SENTENCE'"
      ]
     },
     "execution_count": 253,
     "metadata": {},
     "output_type": "execute_result"
    }
   ],
   "source": [
    "a_string.upper()"
   ]
  },
  {
   "cell_type": "markdown",
   "metadata": {
    "lang": "en"
   },
   "source": [
    "`isupper` Returns True if all uppercase characters in the string are uppercase and there is at least one uppercase character, False otherwise."
   ]
  },
  {
   "cell_type": "code",
   "execution_count": 258,
   "metadata": {},
   "outputs": [],
   "source": [
    "a_string_2 = 'THIS IS A SENTENCe' # at least one is lower, so it'll return false"
   ]
  },
  {
   "cell_type": "code",
   "execution_count": 259,
   "metadata": {},
   "outputs": [
    {
     "data": {
      "text/plain": [
       "False"
      ]
     },
     "execution_count": 259,
     "metadata": {},
     "output_type": "execute_result"
    }
   ],
   "source": [
    "a_string_2.isupper()"
   ]
  },
  {
   "cell_type": "markdown",
   "metadata": {
    "lang": "en"
   },
   "source": [
    "`lower` Returns a copy of the string with all lowercase characters"
   ]
  },
  {
   "cell_type": "code",
   "execution_count": 260,
   "metadata": {},
   "outputs": [
    {
     "data": {
      "text/plain": [
       "'this is a sentence'"
      ]
     },
     "execution_count": 260,
     "metadata": {},
     "output_type": "execute_result"
    }
   ],
   "source": [
    "a_string_2.lower()"
   ]
  },
  {
   "cell_type": "markdown",
   "metadata": {
    "lang": "en"
   },
   "source": [
    "`islower` is like isupper but....we check for lowercase"
   ]
  },
  {
   "cell_type": "code",
   "execution_count": 261,
   "metadata": {},
   "outputs": [
    {
     "data": {
      "text/plain": [
       "False"
      ]
     },
     "execution_count": 261,
     "metadata": {},
     "output_type": "execute_result"
    }
   ],
   "source": [
    "a_string_2.islower()"
   ]
  },
  {
   "cell_type": "markdown",
   "metadata": {
    "lang": "en"
   },
   "source": [
    "`swapcase` Returns a copy of the string with uppercase characters converted to lowercase and vice versa."
   ]
  },
  {
   "cell_type": "code",
   "execution_count": 262,
   "metadata": {},
   "outputs": [
    {
     "data": {
      "text/plain": [
       "'tHIS IS A SENTENCE'"
      ]
     },
     "execution_count": 262,
     "metadata": {},
     "output_type": "execute_result"
    }
   ],
   "source": [
    "a_string.swapcase()"
   ]
  },
  {
   "cell_type": "markdown",
   "metadata": {
    "lang": "en"
   },
   "source": [
    "`title` Returns an uppercase version of the string in which words start with an uppercase character and all other characters are lowercase."
   ]
  },
  {
   "cell_type": "code",
   "execution_count": 263,
   "metadata": {},
   "outputs": [
    {
     "data": {
      "text/plain": [
       "'This Is A Sentence'"
      ]
     },
     "execution_count": 263,
     "metadata": {},
     "output_type": "execute_result"
    }
   ],
   "source": [
    "a_string.title()"
   ]
  },
  {
   "cell_type": "markdown",
   "metadata": {
    "lang": "en"
   },
   "source": [
    "`join(iterable)`\n",
    "\n",
    "Returns a string that is the concatenation of the strings in the iterable. A TypeError will be raised if there are any non-string values ​​in the iterable, including bytes objects. The separator between elements is the string provided by this method."
   ]
  },
  {
   "cell_type": "code",
   "execution_count": 277,
   "metadata": {},
   "outputs": [],
   "source": [
    "a_list_of_strings = [\"Clara\", \"Albert\", \"Laura\"]"
   ]
  },
  {
   "cell_type": "code",
   "execution_count": 278,
   "metadata": {},
   "outputs": [
    {
     "data": {
      "text/plain": [
       "['Clara', 'Albert', 'Laura']"
      ]
     },
     "execution_count": 278,
     "metadata": {},
     "output_type": "execute_result"
    }
   ],
   "source": [
    "a_list_of_strings"
   ]
  },
  {
   "cell_type": "code",
   "execution_count": 279,
   "metadata": {},
   "outputs": [
    {
     "data": {
      "text/plain": [
       "'Clara🙏Albert🙏Laura'"
      ]
     },
     "execution_count": 279,
     "metadata": {},
     "output_type": "execute_result"
    }
   ],
   "source": [
    "\"🙏\".join(a_list_of_strings)"
   ]
  },
  {
   "cell_type": "code",
   "execution_count": 288,
   "metadata": {},
   "outputs": [],
   "source": [
    "# Q: iterables that are not strings\n",
    "\n",
    "a_list_of_things = [\"Laura\", \"4\"]\n",
    "#\" \".join(a_list_of_things)\n",
    "\n",
    "# You'd have to cast it into strings"
   ]
  },
  {
   "cell_type": "markdown",
   "metadata": {
    "lang": "en"
   },
   "source": [
    "`startswith` Returns True if the string starts with the prefix, otherwise returns False. prefix can also be a tuple of prefixes to search for. With optional start, check the string starting at that position. With optional end, stop matching the string at that position."
   ]
  },
  {
   "cell_type": "code",
   "execution_count": 292,
   "metadata": {},
   "outputs": [
    {
     "data": {
      "text/plain": [
       "True"
      ]
     },
     "execution_count": 292,
     "metadata": {},
     "output_type": "execute_result"
    }
   ],
   "source": [
    "a_string.startswith(\"T\") #case sensitive "
   ]
  },
  {
   "cell_type": "code",
   "execution_count": 293,
   "metadata": {},
   "outputs": [],
   "source": [
    "phone_number = \"+3467890989\""
   ]
  },
  {
   "cell_type": "code",
   "execution_count": 295,
   "metadata": {},
   "outputs": [
    {
     "data": {
      "text/plain": [
       "True"
      ]
     },
     "execution_count": 295,
     "metadata": {},
     "output_type": "execute_result"
    }
   ],
   "source": [
    "phone_number.startswith(\"+34\")"
   ]
  },
  {
   "cell_type": "markdown",
   "metadata": {
    "lang": "en"
   },
   "source": [
    "`endswith` Returns True if the string ends with the specified suffix, otherwise returns False."
   ]
  },
  {
   "cell_type": "code",
   "execution_count": 296,
   "metadata": {},
   "outputs": [
    {
     "data": {
      "text/plain": [
       "True"
      ]
     },
     "execution_count": 296,
     "metadata": {},
     "output_type": "execute_result"
    }
   ],
   "source": [
    "phone_number.endswith(\"9\")"
   ]
  },
  {
   "cell_type": "code",
   "execution_count": 297,
   "metadata": {},
   "outputs": [
    {
     "data": {
      "text/plain": [
       "True"
      ]
     },
     "execution_count": 297,
     "metadata": {},
     "output_type": "execute_result"
    }
   ],
   "source": [
    "# Q: check the last element of a list\n",
    "\n",
    "list_2 = [2, 3, 4]\n",
    "list_2[-1] == 4 #check the last position of the list"
   ]
  },
  {
   "cell_type": "code",
   "execution_count": 299,
   "metadata": {},
   "outputs": [
    {
     "name": "stdout",
     "output_type": "stream",
     "text": [
      "657483\n",
      "+4u4874\n",
      "574654\n"
     ]
    }
   ],
   "source": [
    "# Q: check one thing for every element\n",
    "\n",
    "# you'd be doing ONE thing\n",
    "# to EVERY element of an iterable\n",
    "\n",
    "list_numbers = [\"657483\", \"+4u4874\", \"574654\"]\n",
    "\n",
    "for i in list_numbers:\n",
    "    #print(i.startswith(\"+\"))\n",
    "    print(i)"
   ]
  },
  {
   "cell_type": "code",
   "execution_count": 300,
   "metadata": {},
   "outputs": [
    {
     "name": "stdout",
     "output_type": "stream",
     "text": [
      "657483\n"
     ]
    }
   ],
   "source": [
    "print(list_numbers[0])"
   ]
  },
  {
   "cell_type": "markdown",
   "metadata": {
    "lang": "en"
   },
   "source": [
    "`str.lstrip([chars])`\n",
    "Returns a copy of the string with the leading characters removed. The chars argument is a string that specifies the set of characters to remove. If omitted or none present, the chars argument removes whitespace by default. The chars argument is not a prefix, but all combinations of its values ​​are removed:"
   ]
  },
  {
   "cell_type": "code",
   "execution_count": 306,
   "metadata": {},
   "outputs": [
    {
     "data": {
      "text/plain": [
       "'a string'"
      ]
     },
     "execution_count": 306,
     "metadata": {},
     "output_type": "execute_result"
    }
   ],
   "source": [
    "\" a string \".strip()"
   ]
  },
  {
   "cell_type": "code",
   "execution_count": 307,
   "metadata": {},
   "outputs": [
    {
     "data": {
      "text/plain": [
       "'a string '"
      ]
     },
     "execution_count": 307,
     "metadata": {},
     "output_type": "execute_result"
    }
   ],
   "source": [
    "\" a string \".lstrip()"
   ]
  },
  {
   "cell_type": "markdown",
   "metadata": {
    "lang": "en"
   },
   "source": [
    "`lstrip` and `rstrip` do the same thing but with leading and trailing spaces"
   ]
  },
  {
   "cell_type": "code",
   "execution_count": 308,
   "metadata": {},
   "outputs": [
    {
     "data": {
      "text/plain": [
       "' a string'"
      ]
     },
     "execution_count": 308,
     "metadata": {},
     "output_type": "execute_result"
    }
   ],
   "source": [
    "\" a string \".rstrip()"
   ]
  },
  {
   "cell_type": "code",
   "execution_count": 313,
   "metadata": {},
   "outputs": [
    {
     "data": {
      "text/plain": [
       "'🚀 STRING'"
      ]
     },
     "execution_count": 313,
     "metadata": {},
     "output_type": "execute_result"
    }
   ],
   "source": [
    "# Q: Can I concatenate methods/functions?\n",
    "\n",
    "a_new_string = \" a string \".replace(\"a\", \"🚀\").upper().strip()\n",
    "a_new_string"
   ]
  },
  {
   "cell_type": "code",
   "execution_count": 315,
   "metadata": {},
   "outputs": [
    {
     "data": {
      "text/plain": [
       "' A STRING '"
      ]
     },
     "execution_count": 315,
     "metadata": {},
     "output_type": "execute_result"
    }
   ],
   "source": [
    "# Q: If two mehtods at once that are opposite, what will happen?\n",
    "\n",
    "#1. Error\n",
    "#2. Last one\n",
    "\n",
    "a_new_string = \" a string \".lower().upper()\n",
    "a_new_string\n",
    "\n",
    "#2 ✅"
   ]
  },
  {
   "cell_type": "code",
   "execution_count": 12,
   "metadata": {},
   "outputs": [],
   "source": [
    "# Always keep in mind that string operations\n",
    "# return a copy instead of the changed variable"
   ]
  },
  {
   "cell_type": "markdown",
   "metadata": {
    "lang": "en"
   },
   "source": [
    "`str.replace(old, new[, count])`\n",
    "Returns a copy of the string with all occurrences of the substring old replaced by new. If the optional count argument is given, only the first occurrences of count are replaced."
   ]
  },
  {
   "cell_type": "code",
   "execution_count": 325,
   "metadata": {},
   "outputs": [
    {
     "data": {
      "text/plain": [
       "' this string hAd some As in it AAAA A'"
      ]
     },
     "execution_count": 325,
     "metadata": {},
     "output_type": "execute_result"
    }
   ],
   "source": [
    "\" this string had some as in it aaaa a\".replace(\"a\", \"A\")"
   ]
  },
  {
   "cell_type": "code",
   "execution_count": 326,
   "metadata": {},
   "outputs": [
    {
     "data": {
      "text/plain": [
       "' this string hAd some As in it aaaa a'"
      ]
     },
     "execution_count": 326,
     "metadata": {},
     "output_type": "execute_result"
    }
   ],
   "source": [
    "\" this string had some as in it aaaa a\".replace(\"a\", \"A\", 2)"
   ]
  },
  {
   "cell_type": "markdown",
   "metadata": {
    "lang": "en"
   },
   "source": [
    "`str.split(sep=None)`\n",
    "Returns a list of the words in the string, using sep as the delimiter string."
   ]
  },
  {
   "cell_type": "code",
   "execution_count": 327,
   "metadata": {},
   "outputs": [],
   "source": [
    "sentence_commas = \"Hello, my, name is this, and ,something else\""
   ]
  },
  {
   "cell_type": "code",
   "execution_count": 328,
   "metadata": {},
   "outputs": [
    {
     "data": {
      "text/plain": [
       "['Hello', ' my', ' name is this', ' and ', 'something else']"
      ]
     },
     "execution_count": 328,
     "metadata": {},
     "output_type": "execute_result"
    }
   ],
   "source": [
    "sentence_commas.split(\",\")"
   ]
  },
  {
   "cell_type": "code",
   "execution_count": 330,
   "metadata": {},
   "outputs": [
    {
     "data": {
      "text/plain": [
       "['Hello', 'my', 'name', 'is', 'this', 'and', 'something', 'else']"
      ]
     },
     "execution_count": 330,
     "metadata": {},
     "output_type": "execute_result"
    }
   ],
   "source": [
    "sentence_commas.replace(\",\", \"\").split(\" \")"
   ]
  },
  {
   "cell_type": "code",
   "execution_count": 331,
   "metadata": {},
   "outputs": [
    {
     "data": {
      "text/plain": [
       "['Hello,', 'my,', 'name', 'is', 'this,', 'and', ',something', 'else']"
      ]
     },
     "execution_count": 331,
     "metadata": {},
     "output_type": "execute_result"
    }
   ],
   "source": [
    "a_list = sentence_commas.split(\" \")\n",
    "a_list"
   ]
  },
  {
   "cell_type": "code",
   "execution_count": 334,
   "metadata": {},
   "outputs": [
    {
     "data": {
      "text/plain": [
       "['Hello', 'my', 'name', 'is', 'this', 'and', 'something', 'else']"
      ]
     },
     "execution_count": 334,
     "metadata": {},
     "output_type": "execute_result"
    }
   ],
   "source": [
    "# Different approach\n",
    "new_list = []\n",
    "for i in a_list:\n",
    "    new_element = i.replace(\",\", \"\")\n",
    "    new_list.append(new_element)\n",
    "new_list"
   ]
  },
  {
   "cell_type": "markdown",
   "metadata": {
    "lang": "en"
   },
   "source": [
    "## Data structures\n",
    "There are 4 elements in python that allow us to store collections of data.\n",
    "- Lists\n",
    "- Tuples\n",
    "- sets\n",
    "- Dictionaries\n"
   ]
  },
  {
   "cell_type": "markdown",
   "metadata": {},
   "source": [
    "### Lists"
   ]
  },
  {
   "cell_type": "markdown",
   "metadata": {
    "lang": "en"
   },
   "source": [
    "Lists can contain different types of data"
   ]
  },
  {
   "cell_type": "code",
   "execution_count": 335,
   "metadata": {},
   "outputs": [],
   "source": [
    "a_list = [1, 1.0, \"10.0\", \"20\"]"
   ]
  },
  {
   "cell_type": "code",
   "execution_count": 337,
   "metadata": {},
   "outputs": [
    {
     "name": "stdout",
     "output_type": "stream",
     "text": [
      "[1, 1.0, '10.0', '20']\n"
     ]
    }
   ],
   "source": [
    "print(a_list)"
   ]
  },
  {
   "cell_type": "code",
   "execution_count": 336,
   "metadata": {},
   "outputs": [
    {
     "name": "stdout",
     "output_type": "stream",
     "text": [
      "1\n",
      "1.0\n",
      "10.0\n",
      "20\n"
     ]
    }
   ],
   "source": [
    "for i in a_list:\n",
    "    print(i)"
   ]
  },
  {
   "cell_type": "markdown",
   "metadata": {
    "lang": "en"
   },
   "source": [
    "#### list methods\n",
    "`append` Adds an item to the end of the list."
   ]
  },
  {
   "cell_type": "code",
   "execution_count": 338,
   "metadata": {},
   "outputs": [
    {
     "data": {
      "text/plain": [
       "[1, 1.0, '10.0', '20']"
      ]
     },
     "execution_count": 338,
     "metadata": {},
     "output_type": "execute_result"
    }
   ],
   "source": [
    "a_list"
   ]
  },
  {
   "cell_type": "code",
   "execution_count": 339,
   "metadata": {},
   "outputs": [],
   "source": [
    "a_list.append(\"a new item\")"
   ]
  },
  {
   "cell_type": "code",
   "execution_count": 340,
   "metadata": {},
   "outputs": [
    {
     "data": {
      "text/plain": [
       "[1, 1.0, '10.0', '20', 'a new item']"
      ]
     },
     "execution_count": 340,
     "metadata": {},
     "output_type": "execute_result"
    }
   ],
   "source": [
    "a_list"
   ]
  },
  {
   "cell_type": "code",
   "execution_count": 345,
   "metadata": {},
   "outputs": [],
   "source": [
    "# Q: what if I want to append more than one item?\n",
    "\n",
    "a_list.append([2, 3, 4, 6, 7])"
   ]
  },
  {
   "cell_type": "code",
   "execution_count": 346,
   "metadata": {},
   "outputs": [
    {
     "data": {
      "text/plain": [
       "[1, 1.0, '10.0', '20', 'a new item', 1, [2, 3, 4, 6, 7]]"
      ]
     },
     "execution_count": 346,
     "metadata": {},
     "output_type": "execute_result"
    }
   ],
   "source": [
    "a_list"
   ]
  },
  {
   "cell_type": "markdown",
   "metadata": {
    "lang": "en"
   },
   "source": [
    "`extend` Extend the list by adding all the items in the iterable to it"
   ]
  },
  {
   "cell_type": "code",
   "execution_count": 347,
   "metadata": {},
   "outputs": [],
   "source": [
    "a_list.extend([2, 3, 4, 6, 7])"
   ]
  },
  {
   "cell_type": "code",
   "execution_count": 348,
   "metadata": {},
   "outputs": [
    {
     "data": {
      "text/plain": [
       "[1, 1.0, '10.0', '20', 'a new item', 1, [2, 3, 4, 6, 7], 2, 3, 4, 6, 7]"
      ]
     },
     "execution_count": 348,
     "metadata": {},
     "output_type": "execute_result"
    }
   ],
   "source": [
    "a_list"
   ]
  },
  {
   "cell_type": "markdown",
   "metadata": {
    "lang": "en"
   },
   "source": [
    "`insert` Inserts an item at a given position. The first argument is the index of the item to be inserted before, so a.insert(0, x) inserts at the beginning of the list and a.insert(len(a), x) is equivalent to a.append(x )."
   ]
  },
  {
   "cell_type": "code",
   "execution_count": 351,
   "metadata": {},
   "outputs": [],
   "source": [
    "a_list.append(\"last position\")"
   ]
  },
  {
   "cell_type": "code",
   "execution_count": 353,
   "metadata": {},
   "outputs": [
    {
     "name": "stdout",
     "output_type": "stream",
     "text": [
      "[1, 1.0, '10.0', '20', 'a new item', 1, [2, 3, 4, 6, 7], 2, 3, 4, 6, 7, 'last position']\n"
     ]
    }
   ],
   "source": [
    "print(a_list)"
   ]
  },
  {
   "cell_type": "code",
   "execution_count": 356,
   "metadata": {},
   "outputs": [],
   "source": [
    "a_list.insert(4, \"the new element\") #the number will be its actual position"
   ]
  },
  {
   "cell_type": "code",
   "execution_count": 357,
   "metadata": {},
   "outputs": [
    {
     "data": {
      "text/plain": [
       "[1,\n",
       " 1.0,\n",
       " '10.0',\n",
       " '20',\n",
       " 'the new element',\n",
       " 'a new item',\n",
       " 1,\n",
       " [2, 3, 4, 6, 7],\n",
       " 2,\n",
       " 3,\n",
       " 4,\n",
       " 6,\n",
       " 7,\n",
       " 'last position']"
      ]
     },
     "execution_count": 357,
     "metadata": {},
     "output_type": "execute_result"
    }
   ],
   "source": [
    "a_list"
   ]
  },
  {
   "cell_type": "markdown",
   "metadata": {
    "lang": "en"
   },
   "source": [
    "`remove` Removes the first item in the list whose value is x. Throws a ValueError if no such item exists."
   ]
  },
  {
   "cell_type": "code",
   "execution_count": 358,
   "metadata": {},
   "outputs": [],
   "source": [
    "a_list.remove(1)"
   ]
  },
  {
   "cell_type": "code",
   "execution_count": 359,
   "metadata": {},
   "outputs": [
    {
     "data": {
      "text/plain": [
       "[1.0,\n",
       " '10.0',\n",
       " '20',\n",
       " 'the new element',\n",
       " 'a new item',\n",
       " 1,\n",
       " [2, 3, 4, 6, 7],\n",
       " 2,\n",
       " 3,\n",
       " 4,\n",
       " 6,\n",
       " 7,\n",
       " 'last position']"
      ]
     },
     "execution_count": 359,
     "metadata": {},
     "output_type": "execute_result"
    }
   ],
   "source": [
    "a_list"
   ]
  },
  {
   "cell_type": "code",
   "execution_count": null,
   "metadata": {},
   "outputs": [],
   "source": [
    "# create new list\n",
    "# check every element of the list\n",
    "# if the elemnent is a ONE\n",
    "# dont append it to the new list\n",
    "# otherwise, do append"
   ]
  },
  {
   "cell_type": "markdown",
   "metadata": {
    "lang": "en"
   },
   "source": [
    "`pop` Pops the item at the given position from the list and returns it. If no index is specified, a.pop() pops and returns the last element in the list."
   ]
  },
  {
   "cell_type": "code",
   "execution_count": null,
   "metadata": {},
   "outputs": [],
   "source": []
  },
  {
   "cell_type": "markdown",
   "metadata": {
    "lang": "en"
   },
   "source": [
    "`clear` Removes all elements from the list"
   ]
  },
  {
   "cell_type": "code",
   "execution_count": null,
   "metadata": {},
   "outputs": [],
   "source": []
  },
  {
   "cell_type": "markdown",
   "metadata": {
    "lang": "en"
   },
   "source": [
    "`count` Returns the number of times x appears in the list."
   ]
  },
  {
   "cell_type": "code",
   "execution_count": 3,
   "metadata": {},
   "outputs": [],
   "source": [
    "another_list = [1,2,3,4]\n",
    "another_list.count(2)"
   ]
  },
  {
   "cell_type": "markdown",
   "metadata": {
    "lang": "en"
   },
   "source": [
    "`list.sort()` See also [sorted()](https://docs.python.org/3/howto/sorting.html)."
   ]
  },
  {
   "cell_type": "code",
   "execution_count": null,
   "metadata": {},
   "outputs": [],
   "source": []
  },
  {
   "cell_type": "markdown",
   "metadata": {
    "lang": "en"
   },
   "source": [
    "`list.reverse()`\n",
    "Reverses list items in place."
   ]
  },
  {
   "cell_type": "code",
   "execution_count": null,
   "metadata": {},
   "outputs": [],
   "source": []
  },
  {
   "cell_type": "markdown",
   "metadata": {
    "lang": "en"
   },
   "source": [
    "`slicing` is not a method as such, but we can play with the elements of the lists and their positions"
   ]
  },
  {
   "cell_type": "code",
   "execution_count": null,
   "metadata": {},
   "outputs": [],
   "source": []
  },
  {
   "cell_type": "markdown",
   "metadata": {},
   "source": [
    "### Tuples"
   ]
  },
  {
   "cell_type": "markdown",
   "metadata": {
    "lang": "en"
   },
   "source": [
    "Tuples in Python are a data type or structure that allows you to store data in much the same way as lists, except that they are immutable. So we will not be able to:\n",
    " - change your items\n",
    " - add new values"
   ]
  },
  {
   "cell_type": "code",
   "execution_count": null,
   "metadata": {},
   "outputs": [],
   "source": []
  },
  {
   "cell_type": "markdown",
   "metadata": {
    "lang": "en"
   },
   "source": [
    "Advantages of tuples\n",
    " * faster\n",
    " * The data cannot be modified\n",
    " \n",
    "It is also possible that we use tuples when we want to return multiple values ​​in the `return` of a function"
   ]
  },
  {
   "cell_type": "code",
   "execution_count": null,
   "metadata": {},
   "outputs": [],
   "source": []
  },
  {
   "cell_type": "markdown",
   "metadata": {
    "lang": "en"
   },
   "source": [
    "### sets\n",
    "Sets are used to store multiple elements in a single variable. Unlike lists, they contain single elements and do not have an order."
   ]
  },
  {
   "cell_type": "code",
   "execution_count": null,
   "metadata": {},
   "outputs": [],
   "source": []
  },
  {
   "cell_type": "markdown",
   "metadata": {
    "lang": "en"
   },
   "source": [
    "`add` Adds an element to the set"
   ]
  },
  {
   "cell_type": "code",
   "execution_count": null,
   "metadata": {},
   "outputs": [],
   "source": []
  },
  {
   "cell_type": "markdown",
   "metadata": {
    "lang": "en"
   },
   "source": [
    "`clear` Clears all elements of the set"
   ]
  },
  {
   "cell_type": "code",
   "execution_count": null,
   "metadata": {},
   "outputs": [],
   "source": []
  },
  {
   "cell_type": "markdown",
   "metadata": {
    "lang": "en"
   },
   "source": [
    "`copy` Returns a copy of the set"
   ]
  },
  {
   "cell_type": "code",
   "execution_count": null,
   "metadata": {},
   "outputs": [],
   "source": []
  },
  {
   "cell_type": "markdown",
   "metadata": {
    "lang": "en"
   },
   "source": [
    "`difference()` Returns a set containing the difference between two or more sets. What it actually returns are the elements that are ONLY in the first set."
   ]
  },
  {
   "cell_type": "code",
   "execution_count": null,
   "metadata": {},
   "outputs": [],
   "source": []
  },
  {
   "cell_type": "markdown",
   "metadata": {
    "lang": "en"
   },
   "source": [
    "`discard` Removes the specified element"
   ]
  },
  {
   "cell_type": "code",
   "execution_count": null,
   "metadata": {},
   "outputs": [],
   "source": []
  },
  {
   "cell_type": "markdown",
   "metadata": {
    "lang": "en"
   },
   "source": [
    "`remove` Removes the specified element"
   ]
  },
  {
   "cell_type": "code",
   "execution_count": null,
   "metadata": {},
   "outputs": [],
   "source": []
  },
  {
   "cell_type": "markdown",
   "metadata": {
    "lang": "en"
   },
   "source": [
    "`intersection()` Returns a set that is the intersection of two or more sets"
   ]
  },
  {
   "cell_type": "code",
   "execution_count": null,
   "metadata": {},
   "outputs": [],
   "source": []
  },
  {
   "cell_type": "markdown",
   "metadata": {
    "lang": "en"
   },
   "source": [
    "`issubset` Returns whether or not another set contains this set"
   ]
  },
  {
   "cell_type": "code",
   "execution_count": null,
   "metadata": {},
   "outputs": [],
   "source": []
  },
  {
   "cell_type": "markdown",
   "metadata": {
    "lang": "en"
   },
   "source": [
    "`issuperset` Returns whether this set contains another set or not"
   ]
  },
  {
   "cell_type": "code",
   "execution_count": null,
   "metadata": {},
   "outputs": [],
   "source": []
  },
  {
   "cell_type": "markdown",
   "metadata": {
    "lang": "en"
   },
   "source": [
    "`pop` Removes an element from the set. It eliminates the last element of a set and, in addition, it returns it to us. Differentiates from lists that have no parameters to pass an index to"
   ]
  },
  {
   "cell_type": "code",
   "execution_count": null,
   "metadata": {},
   "outputs": [],
   "source": []
  },
  {
   "cell_type": "markdown",
   "metadata": {
    "lang": "en"
   },
   "source": [
    "`union` Returns a set containing the union of sets"
   ]
  },
  {
   "cell_type": "code",
   "execution_count": null,
   "metadata": {},
   "outputs": [],
   "source": []
  },
  {
   "cell_type": "markdown",
   "metadata": {
    "lang": "en"
   },
   "source": [
    "`update` Updates the set with another set, or any other iterable"
   ]
  },
  {
   "cell_type": "code",
   "execution_count": null,
   "metadata": {},
   "outputs": [],
   "source": []
  },
  {
   "cell_type": "markdown",
   "metadata": {
    "lang": "en"
   },
   "source": [
    "### Dictionaries"
   ]
  },
  {
   "cell_type": "code",
   "execution_count": 13,
   "metadata": {},
   "outputs": [],
   "source": [
    "# {key:value, key:value}"
   ]
  },
  {
   "cell_type": "code",
   "execution_count": null,
   "metadata": {},
   "outputs": [],
   "source": []
  },
  {
   "cell_type": "markdown",
   "metadata": {
    "lang": "en"
   },
   "source": [
    "`clear` Removes all elements from the dictionary"
   ]
  },
  {
   "cell_type": "code",
   "execution_count": null,
   "metadata": {},
   "outputs": [],
   "source": []
  },
  {
   "cell_type": "markdown",
   "metadata": {
    "lang": "en"
   },
   "source": [
    "`items()` Returns a list containing one tuple for each key-value pair"
   ]
  },
  {
   "cell_type": "code",
   "execution_count": null,
   "metadata": {},
   "outputs": [],
   "source": []
  },
  {
   "cell_type": "markdown",
   "metadata": {
    "lang": "en"
   },
   "source": [
    "`keys` Returns a list of the keys in the dictionary"
   ]
  },
  {
   "cell_type": "code",
   "execution_count": null,
   "metadata": {},
   "outputs": [],
   "source": []
  },
  {
   "cell_type": "markdown",
   "metadata": {
    "lang": "en"
   },
   "source": [
    "`values` Returns a list of all values ​​in the dictionary"
   ]
  },
  {
   "cell_type": "code",
   "execution_count": null,
   "metadata": {},
   "outputs": [],
   "source": []
  },
  {
   "cell_type": "markdown",
   "metadata": {
    "lang": "en"
   },
   "source": [
    "`pop()` Removes the element with the specified key. It returns me the value."
   ]
  },
  {
   "cell_type": "code",
   "execution_count": null,
   "metadata": {},
   "outputs": [],
   "source": []
  },
  {
   "cell_type": "markdown",
   "metadata": {
    "lang": "en"
   },
   "source": [
    "`popitem` Removes the last inserted key-value pair"
   ]
  },
  {
   "cell_type": "code",
   "execution_count": null,
   "metadata": {},
   "outputs": [],
   "source": []
  },
  {
   "cell_type": "markdown",
   "metadata": {
    "lang": "en"
   },
   "source": [
    "`update` Updates the dictionary with the specified key-value pairs"
   ]
  },
  {
   "cell_type": "code",
   "execution_count": null,
   "metadata": {},
   "outputs": [],
   "source": []
  },
  {
   "cell_type": "markdown",
   "metadata": {
    "lang": "en"
   },
   "source": [
    "## Summary\n",
    "It's your turn, what have we learned today?"
   ]
  },
  {
   "cell_type": "code",
   "execution_count": null,
   "metadata": {},
   "outputs": [],
   "source": []
  }
 ],
 "metadata": {
  "kernelspec": {
   "display_name": "Python 3",
   "language": "python",
   "name": "python3"
  },
  "language_info": {
   "codemirror_mode": {
    "name": "ipython",
    "version": 3
   },
   "file_extension": ".py",
   "mimetype": "text/x-python",
   "name": "python",
   "nbconvert_exporter": "python",
   "pygments_lexer": "ipython3",
   "version": "3.9.6"
  },
  "nbTranslate": {
   "displayLangs": [
    "en",
    "es"
   ],
   "hotkey": "alt-a",
   "langInMainMenu": true,
   "sourceLang": "es",
   "targetLang": "en",
   "useGoogleTranslate": true
  },
  "toc": {
   "base_numbering": 1,
   "nav_menu": {},
   "number_sections": true,
   "sideBar": true,
   "skip_h1_title": true,
   "title_cell": "Table of Contents",
   "title_sidebar": "Contents",
   "toc_cell": true,
   "toc_position": {
    "height": "calc(100% - 180px)",
    "left": "10px",
    "top": "150px",
    "width": "222.891px"
   },
   "toc_section_display": true,
   "toc_window_display": false
  },
  "varInspector": {
   "cols": {
    "lenName": 16,
    "lenType": 16,
    "lenVar": 40
   },
   "kernels_config": {
    "python": {
     "delete_cmd_postfix": "",
     "delete_cmd_prefix": "del ",
     "library": "var_list.py",
     "varRefreshCmd": "print(var_dic_list())"
    },
    "r": {
     "delete_cmd_postfix": ") ",
     "delete_cmd_prefix": "rm(",
     "library": "var_list.r",
     "varRefreshCmd": "cat(var_dic_list()) "
    }
   },
   "types_to_exclude": [
    "module",
    "function",
    "builtin_function_or_method",
    "instance",
    "_Feature"
   ],
   "window_display": false
  },
  "vscode": {
   "interpreter": {
    "hash": "31f2aee4e71d21fbe5cf8b01ff0e069b9275f58929596ceb00d14d90e3e16cd6"
   }
  }
 },
 "nbformat": 4,
 "nbformat_minor": 4
}
