{
 "cells": [
  {
   "cell_type": "markdown",
   "id": "bfd2fc1f",
   "metadata": {
    "lang": "en"
   },
   "source": [
    "# Object-oriented programming"
   ]
  },
  {
   "cell_type": "markdown",
   "id": "linear-pierre",
   "metadata": {
    "toc": true
   },
   "source": [
    "<h1>Table of Contents<span class=\"tocSkip\"></span></h1>\n",
    "<div class=\"toc\"><ul class=\"toc-item\"><li><span><a href=\"#What-is-OOP---Object-Oriented-Programming?\" data-toc-modified-id=\"What-is-OOP---Object-Oriented-Programming?-1\"><span class=\"toc-item-num\">1&nbsp;&nbsp;</span>What is OOP - Object Oriented Programming?</a></span><ul class=\"toc-item\"><li><span><a href=\"#Fundamental-Principles\" data-toc-modified-id=\"Fundamental-Principles-1.1\"><span class=\"toc-item-num\">1.1&nbsp;&nbsp;</span>Fundamental Principles</a></span></li></ul></li><li><span><a href=\"#Classes-and-instances\" data-toc-modified-id=\"Classes-and-instances-2\"><span class=\"toc-item-num\">2&nbsp;&nbsp;</span>Classes and instances</a></span></li><li><span><a href=\"#Definition-of-a-class\" data-toc-modified-id=\"Definition-of-a-class-3\"><span class=\"toc-item-num\">3&nbsp;&nbsp;</span>Definition of a class</a></span><ul class=\"toc-item\"><li><span><a href=\"#Self:\" data-toc-modified-id=\"Self:-3.1\"><span class=\"toc-item-num\">3.1&nbsp;&nbsp;</span>Self:</a></span><ul class=\"toc-item\"><li><span><a href=\"#Defining-a-function\" data-toc-modified-id=\"Defining-a-function-3.1.1\"><span class=\"toc-item-num\">3.1.1&nbsp;&nbsp;</span>Defining a function</a></span></li><li><span><a href=\"#Calling-a-function\" data-toc-modified-id=\"Calling-a-function-3.1.2\"><span class=\"toc-item-num\">3.1.2&nbsp;&nbsp;</span>Calling a function</a></span></li><li><span><a href=\"#Defining-a-class\" data-toc-modified-id=\"Defining-a-class-3.1.3\"><span class=\"toc-item-num\">3.1.3&nbsp;&nbsp;</span>Defining a class</a></span></li><li><span><a href=\"#Instansiating-a-class\" data-toc-modified-id=\"Instansiating-a-class-3.1.4\"><span class=\"toc-item-num\">3.1.4&nbsp;&nbsp;</span>Instansiating a class</a></span></li></ul></li><li><span><a href=\"#Exploring-a-class\" data-toc-modified-id=\"Exploring-a-class-3.2\"><span class=\"toc-item-num\">3.2&nbsp;&nbsp;</span>Exploring a class</a></span></li><li><span><a href=\"#Instance-Attributes\" data-toc-modified-id=\"Instance-Attributes-3.3\"><span class=\"toc-item-num\">3.3&nbsp;&nbsp;</span>Instance Attributes</a></span><ul class=\"toc-item\"><li><span><a href=\"#Default-attributes\" data-toc-modified-id=\"Default-attributes-3.3.1\"><span class=\"toc-item-num\">3.3.1&nbsp;&nbsp;</span>Default attributes</a></span></li></ul></li><li><span><a href=\"#Instance-Methods\" data-toc-modified-id=\"Instance-Methods-3.4\"><span class=\"toc-item-num\">3.4&nbsp;&nbsp;</span>Instance Methods</a></span><ul class=\"toc-item\"><li><span><a href=\"#Python-is-built-with-objects\" data-toc-modified-id=\"Python-is-built-with-objects-3.4.1\"><span class=\"toc-item-num\">3.4.1&nbsp;&nbsp;</span>Python is built with objects</a></span></li></ul></li><li><span><a href=\"#Class-variables\" data-toc-modified-id=\"Class-variables-3.5\"><span class=\"toc-item-num\">3.5&nbsp;&nbsp;</span>Class variables</a></span></li></ul></li><li><span><a href=\"#Before-continuing,-let's-take-a-breath-and-review-vocabulary\" data-toc-modified-id=\"Before-continuing,-let's-take-a-breath-and-review-vocabulary-4\"><span class=\"toc-item-num\">4&nbsp;&nbsp;</span>Before continuing, let's take a breath and review vocabulary</a></span><ul class=\"toc-item\"><li><ul class=\"toc-item\"><li><span><a href=\"#Easy-exercise\" data-toc-modified-id=\"Easy-exercise-4.0.1\"><span class=\"toc-item-num\">4.0.1&nbsp;&nbsp;</span>Easy exercise</a></span></li></ul></li></ul></li><li><span><a href=\"#Inheritance\" data-toc-modified-id=\"Inheritance-5\"><span class=\"toc-item-num\">5&nbsp;&nbsp;</span>Inheritance</a></span><ul class=\"toc-item\"><li><span><a href=\"#super()\" data-toc-modified-id=\"super()-5.1\"><span class=\"toc-item-num\">5.1&nbsp;&nbsp;</span>super()</a></span></li></ul></li><li><span><a href=\"#Summary\" data-toc-modified-id=\"Summary-6\"><span class=\"toc-item-num\">6&nbsp;&nbsp;</span>Summary</a></span></li><li><span><a href=\"#Furthermaterials\" data-toc-modified-id=\"Furthermaterials-7\"><span class=\"toc-item-num\">7&nbsp;&nbsp;</span>Furthermaterials</a></span><ul class=\"toc-item\"><li><span><a href=\"#Methods-ADVANCED-@classmethod@staticmethod\" data-toc-modified-id=\"Methods-ADVANCED-@classmethod@staticmethod-7.1\"><span class=\"toc-item-num\">7.1&nbsp;&nbsp;</span>Methods <strong>ADVANCED</strong> @classmethod@staticmethod</a></span></li></ul></li></ul></div>"
   ]
  },
  {
   "cell_type": "markdown",
   "id": "44bbe54e",
   "metadata": {
    "lang": "en"
   },
   "source": [
    "## What is OOP - Object Oriented Programming?"
   ]
  },
  {
   "cell_type": "markdown",
   "id": "da79b55b",
   "metadata": {
    "lang": "en"
   },
   "source": [
    "Object-oriented programming is a programming paradigm, that is, a programming style and technique, which goes beyond the implementation itself. This paradigm is based on the \"object\" concept, which can contain both data, in the form of fields called \"attributes\", and code for its manipulation in the form of procedures and functions, called \"methods\". Thanks to this, we can group everything under a single data type (the object \"class\"), which facilitates the modularity and reusability of the code.\n",
    "This has a strong implication in the design of IT solutions; Software engineering methodologies are based on object-oriented programming."
   ]
  },
  {
   "cell_type": "markdown",
   "id": "19380f68",
   "metadata": {
    "lang": "en"
   },
   "source": [
    "You can imagine objects as a new data type whose definition is given in a structure called class.\n",
    "Classes are often compared to cookie cutters and objects to the cookies themselves. While all cookies made from the same pan have the same shape, each one takes on individual attributes after baking. Things like color, texture, flavor... can be very different.\n",
    "In other words, the cookies share a manufacturing process and some attributes, but they are independent of each other and of the mold itself, and that makes each one unique.\n",
    "Extrapolating from the example, a class is just a script about how the objects that will be created with it should be."
   ]
  },
  {
   "cell_type": "markdown",
   "id": "fallen-brazil",
   "metadata": {},
   "source": [
    "![clases](https://files.realpython.com/media/Object-Oriented-Programming-OOP-in-Python-3_Watermarked.0d29780806d5.jpg)"
   ]
  },
  {
   "cell_type": "markdown",
   "id": "92d02d2c",
   "metadata": {
    "lang": "en"
   },
   "source": [
    "### Fundamental Principles"
   ]
  },
  {
   "cell_type": "markdown",
   "id": "0473322c",
   "metadata": {
    "lang": "en"
   },
   "source": [
    "1 - **Data abstraction**: Something we do naturally in our understanding of the world is the abstraction of concrete information in concepts or classes. For example, the concept of \"car\" evokes in us an idea of ​​a vehicle with four wheels, a steering wheel, an engine... Our car is a specific \"instance\" of that concept, and different from other cars, but we are capable of associating certain properties or characteristics to said concept above specific details. This ability to abstract a concept is essential for the development of human language and, of course, such a good idea has been transferred to the world of programming. In OOP, we call the abstract concept \"class\" and the realization of that concept \"object\". Your car is concrete, you can drive it, it is an object, an \"instance\" of the class \"car\".\n",
    "   \n",
    "   2 - **Encapsulation**: Each type of object contains its own information and can be manipulated in a particular way. A car can be driven and has a certain pressure in the wheels, a color, a certain level of gasoline, etc. With a GPS we can obtain our position coordinates and the batteries will have a certain charge. A dog barks, has a weight, an age. All those attributes and \"methods\" are \"encapsulated\" within the object, and are accessible only through a given object. The advantage is that we don't need to have, for example, a list with names, another with ages, another with weights... but rather a list of objects and each one contains, that is, encapsulates, its own information.\n",
    "   \n",
    "   3 - **Inheritance**: Some classes can specialize others. For this, the specialized class \"inherits\" the properties of the more general class, called the \"superclass\". For example, the \"Car\" and \"Truck\" classes can inherit from the \"Vehicle\" class. This is a way of reusing code, by being able to assume those common properties between several classes in a superior class. Python supports \"multiple inheritance\", so a class can be defined as a subclass of several classes from which it would inherit all its properties (attributes and methods) at once.\n",
    "   \n",
    "   4 - **Polymorphism**: A square can be drawn, a circle as well, just as any other shape can be drawn. \"Square\" and \"Circle\" would be subclasses of \"Shape\". The \"Shape\" superclass implements a draw() method, and both the \"Square\" subclass and the \"Circle\" subclass override this method to their particular case. So a function could accept an object of type \"Shape\" as a parameter and call the draw() method without knowing if the passed argument is a circle or a square. Each object knows its level of specialization and the concrete implementation of its methods. This ability to use superclass methods in code but resolve to subclass methods at run time is called \"Polymorphism\": the same variable can take different forms."
   ]
  },
  {
   "cell_type": "markdown",
   "id": "f325c4f9",
   "metadata": {
    "lang": "en"
   },
   "source": [
    "## Classes and instances"
   ]
  },
  {
   "cell_type": "markdown",
   "id": "f1423c0e",
   "metadata": {
    "lang": "en"
   },
   "source": [
    "A class is like an abstract type for objects that, in addition to storing values ​​called attributes, has associated a series of functions that we call methods. An instance of a class is the same as saying an object of that class. Instantiating a class refers to creating an object that belongs to that class.\n",
    "In Python, data types are classes, and any literal or variable of one of these types is an object that instantiates the type's class. For example: a = 2222 is equivalent to instantiating the PyLongObject class by assigning an internal attribute the value 2222. This is what happens at a low level, but we can consider that the variable a is of type int. We can know the type of any variable, that is, the class it instantiates, with the type() function, and the identifier of the instantiated object with the id() function."
   ]
  },
  {
   "cell_type": "code",
   "execution_count": 1,
   "id": "5b53afc4",
   "metadata": {},
   "outputs": [],
   "source": [
    "# car: class\n",
    "    # fiat 2020 -> instance of the car class\n",
    "    "
   ]
  },
  {
   "cell_type": "code",
   "execution_count": 2,
   "id": "e76f9578",
   "metadata": {},
   "outputs": [],
   "source": [
    "a = 33"
   ]
  },
  {
   "cell_type": "code",
   "execution_count": 3,
   "id": "326efb74",
   "metadata": {},
   "outputs": [
    {
     "data": {
      "text/plain": [
       "int"
      ]
     },
     "execution_count": 3,
     "metadata": {},
     "output_type": "execute_result"
    }
   ],
   "source": [
    "type(a)"
   ]
  },
  {
   "cell_type": "code",
   "execution_count": 4,
   "id": "911af98e",
   "metadata": {},
   "outputs": [],
   "source": [
    "a_string = \"Hello\""
   ]
  },
  {
   "cell_type": "code",
   "execution_count": 5,
   "id": "a008003a",
   "metadata": {},
   "outputs": [
    {
     "data": {
      "text/plain": [
       "str"
      ]
     },
     "execution_count": 5,
     "metadata": {},
     "output_type": "execute_result"
    }
   ],
   "source": [
    "type(a_string)"
   ]
  },
  {
   "cell_type": "code",
   "execution_count": 8,
   "id": "5851e95e",
   "metadata": {},
   "outputs": [],
   "source": [
    "# values/properties: has\n",
    "# instructions: does things"
   ]
  },
  {
   "cell_type": "code",
   "execution_count": 10,
   "id": "59021435",
   "metadata": {},
   "outputs": [
    {
     "data": {
      "text/plain": [
       "'HELLO'"
      ]
     },
     "execution_count": 10,
     "metadata": {},
     "output_type": "execute_result"
    }
   ],
   "source": [
    "a_string.upper() # method, function"
   ]
  },
  {
   "cell_type": "code",
   "execution_count": null,
   "id": "6ffef61d",
   "metadata": {},
   "outputs": [],
   "source": [
    "#something.function()"
   ]
  },
  {
   "cell_type": "code",
   "execution_count": 11,
   "id": "0c2ab65a",
   "metadata": {},
   "outputs": [
    {
     "data": {
      "text/plain": [
       "5"
      ]
     },
     "execution_count": 11,
     "metadata": {},
     "output_type": "execute_result"
    }
   ],
   "source": [
    "len(a_string)"
   ]
  },
  {
   "cell_type": "code",
   "execution_count": 12,
   "id": "6faaba20",
   "metadata": {},
   "outputs": [],
   "source": [
    "one_string = \"hello\"\n",
    "other_string = \"how are you\""
   ]
  },
  {
   "cell_type": "code",
   "execution_count": null,
   "id": "cf5499c7",
   "metadata": {},
   "outputs": [],
   "source": [
    "# class: str\n",
    "   # instance: \"hello\"\n",
    "    # instance: \"how are you\"\n",
    "    \n",
    "    # fiat: 4 wheels / move\n",
    "    # ferrari:  4 wheels / move\n"
   ]
  },
  {
   "cell_type": "code",
   "execution_count": null,
   "id": "d5243f2f",
   "metadata": {},
   "outputs": [],
   "source": [
    "# classes\n",
    "    # attribues -> variables\n",
    "    # methods -> functions"
   ]
  },
  {
   "cell_type": "markdown",
   "id": "e4bd50ab",
   "metadata": {
    "lang": "en"
   },
   "source": [
    "To know all the methods and attributes of a class we can use the dir() function both on an object and on the class."
   ]
  },
  {
   "cell_type": "code",
   "execution_count": 15,
   "id": "658686a0",
   "metadata": {},
   "outputs": [
    {
     "data": {
      "text/plain": [
       "'Hello'"
      ]
     },
     "execution_count": 15,
     "metadata": {},
     "output_type": "execute_result"
    }
   ],
   "source": [
    "a_string"
   ]
  },
  {
   "cell_type": "code",
   "execution_count": 18,
   "id": "bd093104",
   "metadata": {},
   "outputs": [
    {
     "data": {
      "text/plain": [
       "'hello'"
      ]
     },
     "execution_count": 18,
     "metadata": {},
     "output_type": "execute_result"
    }
   ],
   "source": [
    "a_string.lower()"
   ]
  },
  {
   "cell_type": "code",
   "execution_count": 19,
   "id": "e3a75b6f",
   "metadata": {},
   "outputs": [
    {
     "data": {
      "text/plain": [
       "False"
      ]
     },
     "execution_count": 19,
     "metadata": {},
     "output_type": "execute_result"
    }
   ],
   "source": [
    "a_string.isdigit()"
   ]
  },
  {
   "cell_type": "code",
   "execution_count": 20,
   "id": "a67c1e7c",
   "metadata": {},
   "outputs": [],
   "source": [
    "an_int = 10"
   ]
  },
  {
   "cell_type": "code",
   "execution_count": 23,
   "id": "e8c7fbb5",
   "metadata": {},
   "outputs": [],
   "source": [
    "#dir(an_int)"
   ]
  },
  {
   "cell_type": "code",
   "execution_count": 21,
   "id": "f030de1a",
   "metadata": {},
   "outputs": [
    {
     "ename": "AttributeError",
     "evalue": "'int' object has no attribute 'lower'",
     "output_type": "error",
     "traceback": [
      "\u001b[0;31m---------------------------------------------------------------------------\u001b[0m",
      "\u001b[0;31mAttributeError\u001b[0m                            Traceback (most recent call last)",
      "Input \u001b[0;32mIn [21]\u001b[0m, in \u001b[0;36m<cell line: 1>\u001b[0;34m()\u001b[0m\n\u001b[0;32m----> 1\u001b[0m \u001b[43man_int\u001b[49m\u001b[38;5;241;43m.\u001b[39;49m\u001b[43mlower\u001b[49m()\n",
      "\u001b[0;31mAttributeError\u001b[0m: 'int' object has no attribute 'lower'"
     ]
    }
   ],
   "source": [
    "an_int.lower()"
   ]
  },
  {
   "cell_type": "code",
   "execution_count": 25,
   "id": "7365fc43",
   "metadata": {},
   "outputs": [
    {
     "name": "stdout",
     "output_type": "stream",
     "text": [
      "['capitalize', 'casefold', 'center', 'count', 'encode', 'endswith', 'expandtabs', 'find', 'format', 'index', 'isalnum', 'isalpha', 'isascii', 'isdecimal', 'isdigit', 'isidentifier', 'islower', 'isnumeric', 'isprintable', 'isspace', 'istitle', 'isupper', 'join', 'ljust', 'lower', 'lstrip', 'maketrans', 'partition', 'replace', 'rfind', 'rindex', 'rjust', 'rpartition', 'rsplit', 'rstrip', 'split', 'splitlines', 'startswith', 'strip', 'swapcase', 'title', 'translate', 'upper', 'zfill']\n"
     ]
    }
   ],
   "source": [
    "print([i for i in dir(a_string) if \"_\" not in i])"
   ]
  },
  {
   "cell_type": "code",
   "execution_count": 27,
   "id": "885fdc7f",
   "metadata": {},
   "outputs": [
    {
     "data": {
      "text/plain": [
       "True"
      ]
     },
     "execution_count": 27,
     "metadata": {},
     "output_type": "execute_result"
    }
   ],
   "source": [
    "isinstance(a_string, str)"
   ]
  },
  {
   "cell_type": "code",
   "execution_count": 26,
   "id": "498241d5",
   "metadata": {},
   "outputs": [],
   "source": [
    "#dir(\"Hello there\")"
   ]
  },
  {
   "cell_type": "markdown",
   "id": "032f8630",
   "metadata": {},
   "source": [
    "You don't need to master this, just know what the `.__something__` means. It's a dunder/magic methods. Meant for Python internally"
   ]
  },
  {
   "cell_type": "code",
   "execution_count": 35,
   "id": "2c575e3e",
   "metadata": {},
   "outputs": [],
   "source": [
    "string_1 = \"This is string_1\""
   ]
  },
  {
   "cell_type": "code",
   "execution_count": 36,
   "id": "ca7c0935",
   "metadata": {},
   "outputs": [],
   "source": [
    "string_2 = \"This is string_2\""
   ]
  },
  {
   "cell_type": "code",
   "execution_count": 33,
   "id": "f01b41bf",
   "metadata": {},
   "outputs": [
    {
     "data": {
      "text/plain": [
       "'__add__'"
      ]
     },
     "execution_count": 33,
     "metadata": {},
     "output_type": "execute_result"
    }
   ],
   "source": [
    "[i for i in dir(a_string)][0] #duner methods -> double under _ _"
   ]
  },
  {
   "cell_type": "code",
   "execution_count": 37,
   "id": "16965334",
   "metadata": {},
   "outputs": [
    {
     "data": {
      "text/plain": [
       "'This is string_1This is string_2'"
      ]
     },
     "execution_count": 37,
     "metadata": {},
     "output_type": "execute_result"
    }
   ],
   "source": [
    "string_1 + string_2 #what we do"
   ]
  },
  {
   "cell_type": "code",
   "execution_count": 38,
   "id": "ba61a0ec",
   "metadata": {},
   "outputs": [
    {
     "data": {
      "text/plain": [
       "'This is string_1This is string_2'"
      ]
     },
     "execution_count": 38,
     "metadata": {},
     "output_type": "execute_result"
    }
   ],
   "source": [
    "string_1.__add__(string_2) #internally"
   ]
  },
  {
   "cell_type": "code",
   "execution_count": 39,
   "id": "60ffc9ae",
   "metadata": {},
   "outputs": [],
   "source": [
    "def greetings ():\n",
    "    \"\"\"\n",
    "    dfdfdf\"\"\"\n",
    "    pass"
   ]
  },
  {
   "cell_type": "code",
   "execution_count": 41,
   "id": "94f31a59",
   "metadata": {},
   "outputs": [
    {
     "data": {
      "text/plain": [
       "'\\n    dfdfdf'"
      ]
     },
     "execution_count": 41,
     "metadata": {},
     "output_type": "execute_result"
    }
   ],
   "source": [
    "greetings.__doc__"
   ]
  },
  {
   "cell_type": "code",
   "execution_count": null,
   "id": "3188d54b",
   "metadata": {},
   "outputs": [],
   "source": [
    "# variables: somehting = 10\n",
    "# methods def greeting () "
   ]
  },
  {
   "cell_type": "markdown",
   "id": "ffc3bd0b",
   "metadata": {
    "lang": "en"
   },
   "source": [
    "## Definition of a class"
   ]
  },
  {
   "cell_type": "markdown",
   "id": "8917064a",
   "metadata": {
    "lang": "en"
   },
   "source": [
    "We can define our own classes and indicate whether they inherit from others, what their internal attributes are, and what their methods are. Once the class is defined, it is possible to create objects from it. To create a class, simply group attributes and methods in the body of a **class** block.\n",
    "Imagine that you create software to manage a school, and you want to represent \"teachers\" in your Python code. Teachers will have some associated data (`attributes` in `class` jargon), and they will be able to *perform actions* through functions that we will call `methods` (again, `class` jargon).\n",
    "\n",
    "We could do it one by one:"
   ]
  },
  {
   "cell_type": "code",
   "execution_count": 42,
   "id": "8dde3580",
   "metadata": {},
   "outputs": [],
   "source": [
    "def greeting (name):\n",
    "    return name"
   ]
  },
  {
   "cell_type": "code",
   "execution_count": 43,
   "id": "ca232817",
   "metadata": {},
   "outputs": [
    {
     "data": {
      "text/plain": [
       "'Laura'"
      ]
     },
     "execution_count": 43,
     "metadata": {},
     "output_type": "execute_result"
    }
   ],
   "source": [
    "greeting (\"Laura\")"
   ]
  },
  {
   "cell_type": "code",
   "execution_count": 44,
   "id": "d3804da2",
   "metadata": {},
   "outputs": [
    {
     "data": {
      "text/plain": [
       "'Albert'"
      ]
     },
     "execution_count": 44,
     "metadata": {},
     "output_type": "execute_result"
    }
   ],
   "source": [
    "greeting (\"Albert\")"
   ]
  },
  {
   "cell_type": "code",
   "execution_count": null,
   "id": "5ad81e9d",
   "metadata": {},
   "outputs": [],
   "source": [
    "# structure info\n",
    "# structure methods"
   ]
  },
  {
   "cell_type": "code",
   "execution_count": 46,
   "id": "0a316da1",
   "metadata": {},
   "outputs": [],
   "source": [
    "albert_dict = {\n",
    "    \"name\": \"Albert\",\n",
    "    \"fname\": \"Coca\",\n",
    "    \"age\": 30,\n",
    "    \"role\": \"career\",\n",
    "    \"greeting\": lambda : print(\"Hello there\"),\n",
    "    \"hobbies\": [\"surfing\", \"climbing\", \"surfing\"]\n",
    "}"
   ]
  },
  {
   "cell_type": "code",
   "execution_count": 47,
   "id": "a0e255e8",
   "metadata": {},
   "outputs": [
    {
     "data": {
      "text/plain": [
       "'Albert'"
      ]
     },
     "execution_count": 47,
     "metadata": {},
     "output_type": "execute_result"
    }
   ],
   "source": [
    "albert_dict[\"name\"]"
   ]
  },
  {
   "cell_type": "code",
   "execution_count": 48,
   "id": "a26551f4",
   "metadata": {},
   "outputs": [
    {
     "data": {
      "text/plain": [
       "['surfing', 'climbing', 'surfing']"
      ]
     },
     "execution_count": 48,
     "metadata": {},
     "output_type": "execute_result"
    }
   ],
   "source": [
    "albert_dict[\"hobbies\"]"
   ]
  },
  {
   "cell_type": "code",
   "execution_count": 49,
   "id": "c3ee4347",
   "metadata": {},
   "outputs": [],
   "source": [
    "laura_dict = {\n",
    "    \"name\": \"laura\",\n",
    "    \"fname\": \"molas\",\n",
    "    \"age\": 20,\n",
    "    \"role\": \"marketing\",\n",
    "    \"greeting\": lambda : print(\"Hello there\"),\n",
    "    \"hobbies\": [\"surfing\", \"climbing\", \"surfing\"]\n",
    "}"
   ]
  },
  {
   "cell_type": "code",
   "execution_count": 50,
   "id": "271b7c10",
   "metadata": {},
   "outputs": [
    {
     "data": {
      "text/plain": [
       "{'name': 'laura',\n",
       " 'fname': 'molas',\n",
       " 'age': 20,\n",
       " 'role': 'marketing',\n",
       " 'greeting': <function __main__.<lambda>()>,\n",
       " 'hobbies': ['surfing', 'climbing', 'surfing']}"
      ]
     },
     "execution_count": 50,
     "metadata": {},
     "output_type": "execute_result"
    }
   ],
   "source": [
    "laura_dict"
   ]
  },
  {
   "cell_type": "code",
   "execution_count": 51,
   "id": "7e7b6024",
   "metadata": {},
   "outputs": [],
   "source": [
    "# REUSE CODE\n",
    "   # have it strucured "
   ]
  },
  {
   "cell_type": "code",
   "execution_count": null,
   "id": "f8813730",
   "metadata": {},
   "outputs": [],
   "source": [
    "# fiat\n",
    "    # wheels: 4\n",
    "\n",
    "\n",
    "# ferrari\n",
    "    # wheels: 4"
   ]
  },
  {
   "cell_type": "markdown",
   "id": "dffb2147",
   "metadata": {},
   "source": [
    "### Self: "
   ]
  },
  {
   "cell_type": "markdown",
   "id": "0acb0ad3",
   "metadata": {
    "lang": "en"
   },
   "source": [
    "I leave you [here](https://realpython.com/python-pep8/#naming-styles) a realpython article about the conventions for naming things (by things I mean variables, classes, functions... code tidbits )\n",
    "The Python user community has adopted a style guide that makes code easier to read and consistent between different user programs. This guide is not mandatory to follow, but it is highly recommended."
   ]
  },
  {
   "cell_type": "markdown",
   "id": "23576dae",
   "metadata": {},
   "source": [
    "#### Defining a function"
   ]
  },
  {
   "cell_type": "code",
   "execution_count": 52,
   "id": "0f5e008e",
   "metadata": {},
   "outputs": [],
   "source": [
    "def addition (a, b): #define\n",
    "    pass"
   ]
  },
  {
   "cell_type": "markdown",
   "id": "0789adf6",
   "metadata": {},
   "source": [
    "#### Calling a function"
   ]
  },
  {
   "cell_type": "code",
   "execution_count": 53,
   "id": "45113184",
   "metadata": {},
   "outputs": [],
   "source": [
    "addition(1, 2) # call"
   ]
  },
  {
   "cell_type": "markdown",
   "id": "9e4ef398",
   "metadata": {},
   "source": [
    "#### Defining a class"
   ]
  },
  {
   "cell_type": "code",
   "execution_count": 67,
   "id": "9e07079d",
   "metadata": {},
   "outputs": [],
   "source": [
    "class Staff (): #create, convention -> capitalized\n",
    "    pass"
   ]
  },
  {
   "cell_type": "markdown",
   "id": "dda40dab",
   "metadata": {},
   "source": [
    "#### Instansiating a class"
   ]
  },
  {
   "cell_type": "code",
   "execution_count": 68,
   "id": "557c0438",
   "metadata": {},
   "outputs": [],
   "source": [
    "albert = Staff ()   #   instance"
   ]
  },
  {
   "cell_type": "code",
   "execution_count": 69,
   "id": "e24e4964",
   "metadata": {},
   "outputs": [
    {
     "data": {
      "text/plain": [
       "__main__.Staff"
      ]
     },
     "execution_count": 69,
     "metadata": {},
     "output_type": "execute_result"
    }
   ],
   "source": [
    "type(albert)"
   ]
  },
  {
   "cell_type": "code",
   "execution_count": 70,
   "id": "d80fcd90",
   "metadata": {},
   "outputs": [
    {
     "data": {
      "text/plain": [
       "True"
      ]
     },
     "execution_count": 70,
     "metadata": {},
     "output_type": "execute_result"
    }
   ],
   "source": [
    "isinstance(albert, Staff)"
   ]
  },
  {
   "cell_type": "code",
   "execution_count": 71,
   "id": "95beecc7",
   "metadata": {},
   "outputs": [
    {
     "data": {
      "text/plain": [
       "False"
      ]
     },
     "execution_count": 71,
     "metadata": {},
     "output_type": "execute_result"
    }
   ],
   "source": [
    "isinstance(laura, Staff)"
   ]
  },
  {
   "cell_type": "code",
   "execution_count": 72,
   "id": "f3a7247b",
   "metadata": {},
   "outputs": [
    {
     "data": {
      "text/plain": [
       "<__main__.Staff at 0x7fd7fc468e20>"
      ]
     },
     "execution_count": 72,
     "metadata": {},
     "output_type": "execute_result"
    }
   ],
   "source": [
    "albert"
   ]
  },
  {
   "cell_type": "markdown",
   "id": "be46cddd",
   "metadata": {},
   "source": [
    "### Exploring a class"
   ]
  },
  {
   "cell_type": "code",
   "execution_count": null,
   "id": "4ddf3167",
   "metadata": {},
   "outputs": [],
   "source": [
    "[i for i in dir(albert) if \"_\" not in i] #methods & internal python things\n",
    "# After I create methods in the Staff class -> albert will do things"
   ]
  },
  {
   "cell_type": "markdown",
   "id": "81f9ca3e",
   "metadata": {},
   "source": [
    "### Instance Attributes\n",
    "They contain data that is unique to each instance."
   ]
  },
  {
   "cell_type": "code",
   "execution_count": 75,
   "id": "26ad3d96",
   "metadata": {},
   "outputs": [
    {
     "data": {
      "text/plain": [
       "<__main__.Staff at 0x7fd7fc468e20>"
      ]
     },
     "execution_count": 75,
     "metadata": {},
     "output_type": "execute_result"
    }
   ],
   "source": [
    "# age\n",
    "\n",
    "albert"
   ]
  },
  {
   "cell_type": "code",
   "execution_count": 79,
   "id": "bfab4240",
   "metadata": {},
   "outputs": [],
   "source": [
    "albert.age = 20 # I'm saving something into a instance"
   ]
  },
  {
   "cell_type": "code",
   "execution_count": 85,
   "id": "bd2371be",
   "metadata": {},
   "outputs": [
    {
     "data": {
      "text/plain": [
       "20"
      ]
     },
     "execution_count": 85,
     "metadata": {},
     "output_type": "execute_result"
    }
   ],
   "source": [
    "albert.age"
   ]
  },
  {
   "cell_type": "code",
   "execution_count": 80,
   "id": "4f922e68",
   "metadata": {},
   "outputs": [
    {
     "data": {
      "text/plain": [
       "<__main__.Staff at 0x7fd7fc468e20>"
      ]
     },
     "execution_count": 80,
     "metadata": {},
     "output_type": "execute_result"
    }
   ],
   "source": [
    "albert"
   ]
  },
  {
   "cell_type": "code",
   "execution_count": 81,
   "id": "f0842842",
   "metadata": {},
   "outputs": [
    {
     "data": {
      "text/plain": [
       "20"
      ]
     },
     "execution_count": 81,
     "metadata": {},
     "output_type": "execute_result"
    }
   ],
   "source": [
    "albert.age"
   ]
  },
  {
   "cell_type": "code",
   "execution_count": 82,
   "id": "dc9bc939",
   "metadata": {},
   "outputs": [],
   "source": [
    "albert.city = \"Mataró\""
   ]
  },
  {
   "cell_type": "code",
   "execution_count": 84,
   "id": "2d560f4d",
   "metadata": {},
   "outputs": [
    {
     "data": {
      "text/plain": [
       "{'age': 20, 'city': 'Mataró'}"
      ]
     },
     "execution_count": 84,
     "metadata": {},
     "output_type": "execute_result"
    }
   ],
   "source": [
    "albert.__dict__ #All the attributes he has"
   ]
  },
  {
   "cell_type": "code",
   "execution_count": null,
   "id": "fae4512d",
   "metadata": {},
   "outputs": [],
   "source": [
    "# Q: \n",
    "    # referenced happened before assignment\n",
    "        # b = ?\n",
    "    # I can create variables/attributes within a class\n",
    "        #albert.age = 10"
   ]
  },
  {
   "cell_type": "code",
   "execution_count": null,
   "id": "850118cd",
   "metadata": {},
   "outputs": [],
   "source": [
    "\"\"\"\n",
    "class Staff ():\n",
    "\n",
    "    #attributes\n",
    "    name = name\n",
    "    role = something\n",
    "    age = 30\n",
    "    \n",
    "    \n",
    "    # methods\n",
    "    def say_hi (name):\n",
    "        return f\"How are you doing, my name is {name}\"\n",
    "        \n",
    "    def upper (name):\n",
    "        return f\"How are you doing, my name is {name}\"\n",
    "\n",
    "\"\"\"\n",
    "\n",
    "\n",
    "\"\"\"\n",
    "laura = Staff()\n",
    "albert = Staff()\n",
    "clara = Staff()\n",
    "\n",
    "albert.age -> 30\n",
    "laura.age -> 30\n",
    "clara.say_hi()\n",
    "\n",
    "\n",
    "albert.upper()\n",
    "\n",
    "\"\"\""
   ]
  },
  {
   "cell_type": "code",
   "execution_count": 86,
   "id": "0094f719",
   "metadata": {},
   "outputs": [
    {
     "data": {
      "text/plain": [
       "'THIS IS A STRING'"
      ]
     },
     "execution_count": 86,
     "metadata": {},
     "output_type": "execute_result"
    }
   ],
   "source": [
    "\"This is a string\".upper()"
   ]
  },
  {
   "cell_type": "code",
   "execution_count": 89,
   "id": "023b2bf7",
   "metadata": {},
   "outputs": [
    {
     "data": {
      "text/plain": [
       "'sdsdsd'"
      ]
     },
     "execution_count": 89,
     "metadata": {},
     "output_type": "execute_result"
    }
   ],
   "source": [
    "a_new_string = \"sdsdsd\"\n",
    "a_new_string"
   ]
  },
  {
   "cell_type": "code",
   "execution_count": 90,
   "id": "66003b8c",
   "metadata": {},
   "outputs": [],
   "source": [
    "class Staff ():\n",
    "    pass"
   ]
  },
  {
   "cell_type": "code",
   "execution_count": 91,
   "id": "3183dcee",
   "metadata": {},
   "outputs": [],
   "source": [
    "laura = Staff ()"
   ]
  },
  {
   "cell_type": "code",
   "execution_count": 92,
   "id": "6a353f6e",
   "metadata": {},
   "outputs": [],
   "source": [
    "laura.age = 20"
   ]
  },
  {
   "cell_type": "code",
   "execution_count": 93,
   "id": "43ebb617",
   "metadata": {},
   "outputs": [],
   "source": [
    "clara = Staff ()"
   ]
  },
  {
   "cell_type": "code",
   "execution_count": 94,
   "id": "73e0fc4b",
   "metadata": {},
   "outputs": [
    {
     "ename": "AttributeError",
     "evalue": "'Staff' object has no attribute 'age'",
     "output_type": "error",
     "traceback": [
      "\u001b[0;31m---------------------------------------------------------------------------\u001b[0m",
      "\u001b[0;31mAttributeError\u001b[0m                            Traceback (most recent call last)",
      "Input \u001b[0;32mIn [94]\u001b[0m, in \u001b[0;36m<cell line: 1>\u001b[0;34m()\u001b[0m\n\u001b[0;32m----> 1\u001b[0m \u001b[43mclara\u001b[49m\u001b[38;5;241;43m.\u001b[39;49m\u001b[43mage\u001b[49m\n",
      "\u001b[0;31mAttributeError\u001b[0m: 'Staff' object has no attribute 'age'"
     ]
    }
   ],
   "source": [
    "clara.age"
   ]
  },
  {
   "cell_type": "code",
   "execution_count": 95,
   "id": "06fe62f5",
   "metadata": {
    "scrolled": true
   },
   "outputs": [
    {
     "data": {
      "text/plain": [
       "True"
      ]
     },
     "execution_count": 95,
     "metadata": {},
     "output_type": "execute_result"
    }
   ],
   "source": [
    "isinstance(laura, Staff)"
   ]
  },
  {
   "cell_type": "code",
   "execution_count": 96,
   "id": "ac31ad80",
   "metadata": {},
   "outputs": [
    {
     "data": {
      "text/plain": [
       "True"
      ]
     },
     "execution_count": 96,
     "metadata": {},
     "output_type": "execute_result"
    }
   ],
   "source": [
    "isinstance(clara, Staff)"
   ]
  },
  {
   "cell_type": "code",
   "execution_count": 97,
   "id": "a3c70c9a",
   "metadata": {},
   "outputs": [],
   "source": [
    "# Staff\n",
    "# holidays: 30\n",
    "\n",
    "    # Marketing -> 30 holidays\n",
    "    # Teaching (belongs to staff)-> 25"
   ]
  },
  {
   "cell_type": "code",
   "execution_count": null,
   "id": "e3bd7881",
   "metadata": {},
   "outputs": [],
   "source": [
    "# laura.age = 30"
   ]
  },
  {
   "cell_type": "code",
   "execution_count": null,
   "id": "181bc2ec",
   "metadata": {},
   "outputs": [],
   "source": []
  },
  {
   "cell_type": "code",
   "execution_count": null,
   "id": "7ef398ec",
   "metadata": {},
   "outputs": [],
   "source": [
    "\"\"\"\n",
    "CLASS, the concept of car; the concept of a string\n",
    "    VALUES -> attributes\n",
    "    FUNCTIONS -> methods\n",
    "    \n",
    "    \n",
    "BUILT-IN CLASSES \n",
    "USER- DEFINED CLASSES\n",
    "\n",
    "\n",
    "1. We can create our own classes\n",
    "2. Python is object-based\n",
    "\"\"\""
   ]
  },
  {
   "cell_type": "code",
   "execution_count": null,
   "id": "7f3680b0",
   "metadata": {},
   "outputs": [],
   "source": [
    "#\"aaaa\".upper() -> works\n",
    "#8.upper() -> doesnt work"
   ]
  },
  {
   "cell_type": "markdown",
   "id": "39ed3781",
   "metadata": {
    "lang": "en"
   },
   "source": [
    "Instead of doing it one by one, we can create these variables each time an object is instantiated with the special `__init__` method. This function defines all the actions that should be performed when we create a new object. The reason we have two underscores before and after the function name is to indicate that this function is internal to the object and should not be called from outside the object."
   ]
  },
  {
   "cell_type": "code",
   "execution_count": 102,
   "id": "d2f9c56a",
   "metadata": {},
   "outputs": [],
   "source": [
    "class Staff ():\n",
    "    # name\n",
    "    # fname\n",
    "    # time_off\n",
    "    pass"
   ]
  },
  {
   "cell_type": "code",
   "execution_count": 135,
   "id": "1bf7d83d",
   "metadata": {},
   "outputs": [],
   "source": [
    "class Staff ():\n",
    "    \n",
    "    def __init__ (self, name, fname): #__init__ needed -> new instances have the attrs\n",
    "        self.name = name\n",
    "        self.fname = fname\n",
    "    "
   ]
  },
  {
   "cell_type": "code",
   "execution_count": 136,
   "id": "50287c68",
   "metadata": {},
   "outputs": [],
   "source": [
    "albert = Staff(\"Albert\", \"Coca\")"
   ]
  },
  {
   "cell_type": "code",
   "execution_count": 137,
   "id": "f1a92a81",
   "metadata": {},
   "outputs": [
    {
     "data": {
      "text/plain": [
       "'Albert'"
      ]
     },
     "execution_count": 137,
     "metadata": {},
     "output_type": "execute_result"
    }
   ],
   "source": [
    "albert.name"
   ]
  },
  {
   "cell_type": "code",
   "execution_count": 138,
   "id": "51d71791",
   "metadata": {},
   "outputs": [
    {
     "data": {
      "text/plain": [
       "'Coca'"
      ]
     },
     "execution_count": 138,
     "metadata": {},
     "output_type": "execute_result"
    }
   ],
   "source": [
    "albert.fname"
   ]
  },
  {
   "cell_type": "code",
   "execution_count": 139,
   "id": "78f3d09b",
   "metadata": {},
   "outputs": [
    {
     "data": {
      "text/plain": [
       "{'name': 'Albert', 'fname': 'Coca'}"
      ]
     },
     "execution_count": 139,
     "metadata": {},
     "output_type": "execute_result"
    }
   ],
   "source": [
    "albert.__dict__"
   ]
  },
  {
   "cell_type": "code",
   "execution_count": 140,
   "id": "1022a53d",
   "metadata": {},
   "outputs": [],
   "source": [
    "info_albert = {\n",
    "    \"name\": \"Albert\",\n",
    "    \"age\": 30\n",
    "}"
   ]
  },
  {
   "cell_type": "code",
   "execution_count": 141,
   "id": "6af8c7e6",
   "metadata": {},
   "outputs": [
    {
     "data": {
      "text/plain": [
       "30"
      ]
     },
     "execution_count": 141,
     "metadata": {},
     "output_type": "execute_result"
    }
   ],
   "source": [
    "info_albert[\"age\"]"
   ]
  },
  {
   "cell_type": "code",
   "execution_count": 226,
   "id": "2bc7488a",
   "metadata": {},
   "outputs": [],
   "source": [
    "# Q: how do I set defaults?\n",
    "class Staff ():\n",
    "        \n",
    "    def __init__ (self, name, fname):\n",
    "        self.name = name.capitalize()\n",
    "        self.fname = fname\n",
    "        \n",
    "        # Default\n",
    "        self.time_off = 30\n",
    "        \n",
    "        #Default: as a result\n",
    "        self.email = self.name.lower() + \".\" + self.fname.lower() + \"@ironhack.com\"\n",
    "    "
   ]
  },
  {
   "cell_type": "code",
   "execution_count": 216,
   "id": "a7df8287",
   "metadata": {},
   "outputs": [],
   "source": [
    "albert = Staff (\"albert\", \"Coca\")"
   ]
  },
  {
   "cell_type": "code",
   "execution_count": 221,
   "id": "cabc8e43",
   "metadata": {},
   "outputs": [
    {
     "data": {
      "text/plain": [
       "'Albert'"
      ]
     },
     "execution_count": 221,
     "metadata": {},
     "output_type": "execute_result"
    }
   ],
   "source": [
    "albert.name"
   ]
  },
  {
   "cell_type": "code",
   "execution_count": 217,
   "id": "eb251471",
   "metadata": {},
   "outputs": [
    {
     "data": {
      "text/plain": [
       "30"
      ]
     },
     "execution_count": 217,
     "metadata": {},
     "output_type": "execute_result"
    }
   ],
   "source": [
    "albert.time_off"
   ]
  },
  {
   "cell_type": "code",
   "execution_count": 218,
   "id": "54211f85",
   "metadata": {},
   "outputs": [],
   "source": [
    "#albert.time_off = 20"
   ]
  },
  {
   "cell_type": "code",
   "execution_count": 219,
   "id": "1f02bde0",
   "metadata": {
    "scrolled": true
   },
   "outputs": [
    {
     "data": {
      "text/plain": [
       "'albert.coca@ironhack.com'"
      ]
     },
     "execution_count": 219,
     "metadata": {},
     "output_type": "execute_result"
    }
   ],
   "source": [
    "albert.email"
   ]
  },
  {
   "cell_type": "code",
   "execution_count": 220,
   "id": "2e13fa6a",
   "metadata": {},
   "outputs": [
    {
     "data": {
      "text/plain": [
       "'laura.molas@ironhack.com'"
      ]
     },
     "execution_count": 220,
     "metadata": {},
     "output_type": "execute_result"
    }
   ],
   "source": [
    "laura = Staff(\"Laura\", \"Molas\")\n",
    "laura.email"
   ]
  },
  {
   "cell_type": "code",
   "execution_count": 222,
   "id": "49e0d19f",
   "metadata": {},
   "outputs": [
    {
     "name": "stdout",
     "output_type": "stream",
     "text": [
      "30\n",
      "clara.fdz@ironhack.com\n"
     ]
    }
   ],
   "source": [
    "clara = Staff(\"Clara\", \"Fdz\")\n",
    "\n",
    "print(clara.time_off)\n",
    "print(clara.email)"
   ]
  },
  {
   "cell_type": "code",
   "execution_count": 223,
   "id": "4feac1a6",
   "metadata": {},
   "outputs": [],
   "source": [
    "clara.age = 30"
   ]
  },
  {
   "cell_type": "code",
   "execution_count": 239,
   "id": "0d6df317",
   "metadata": {},
   "outputs": [
    {
     "data": {
      "text/plain": [
       "{'name': 'Clara',\n",
       " 'fname': 'Fdz',\n",
       " 'time_off': 30,\n",
       " 'email': 'clara.fdz@ironhack.com',\n",
       " 'age': 30}"
      ]
     },
     "execution_count": 239,
     "metadata": {},
     "output_type": "execute_result"
    }
   ],
   "source": [
    "new_variable = clara.__dict__\n",
    "new_variable"
   ]
  },
  {
   "cell_type": "code",
   "execution_count": 225,
   "id": "8d4b5831",
   "metadata": {},
   "outputs": [
    {
     "data": {
      "text/plain": [
       "{'name': 'Albert',\n",
       " 'fname': 'Coca',\n",
       " 'time_off': 30,\n",
       " 'email': 'albert.coca@ironhack.com'}"
      ]
     },
     "execution_count": 225,
     "metadata": {},
     "output_type": "execute_result"
    }
   ],
   "source": [
    "albert.__dict__"
   ]
  },
  {
   "cell_type": "code",
   "execution_count": 242,
   "id": "c5c0aabc",
   "metadata": {},
   "outputs": [
    {
     "data": {
      "text/plain": [
       "['email', 'fname', 'name', 'time_off']"
      ]
     },
     "execution_count": 242,
     "metadata": {},
     "output_type": "execute_result"
    }
   ],
   "source": [
    "[i for i in dir(albert) if \"__\" not in i] #albert.__dict__"
   ]
  },
  {
   "cell_type": "code",
   "execution_count": 227,
   "id": "dc996dc1",
   "metadata": {},
   "outputs": [
    {
     "name": "stdout",
     "output_type": "stream",
     "text": [
      "<class '__main__.Staff'>\n"
     ]
    }
   ],
   "source": [
    "print(Staff)"
   ]
  },
  {
   "cell_type": "code",
   "execution_count": 231,
   "id": "9403d721",
   "metadata": {
    "scrolled": true
   },
   "outputs": [
    {
     "data": {
      "text/plain": [
       "['__class__', '__delattr__', '__dict__', '__dir__']"
      ]
     },
     "execution_count": 231,
     "metadata": {},
     "output_type": "execute_result"
    }
   ],
   "source": [
    "[i for i in dir(Staff)][:4] #first four ones"
   ]
  },
  {
   "cell_type": "code",
   "execution_count": 235,
   "id": "2f26057f",
   "metadata": {},
   "outputs": [
    {
     "data": {
      "text/plain": [
       "['time_off',\n",
       " 'email',\n",
       " '__str__',\n",
       " '__repr__',\n",
       " '__new__',\n",
       " '__lt__',\n",
       " '__init__',\n",
       " '__getattribute__',\n",
       " '__eq__',\n",
       " '__dict__']"
      ]
     },
     "execution_count": 235,
     "metadata": {},
     "output_type": "execute_result"
    }
   ],
   "source": [
    "[i for i in dir(albert)][::-3]"
   ]
  },
  {
   "cell_type": "code",
   "execution_count": 236,
   "id": "e095a0f2",
   "metadata": {},
   "outputs": [],
   "source": [
    "# Q: can I see every instance of a class?"
   ]
  },
  {
   "cell_type": "code",
   "execution_count": 202,
   "id": "9663b8e1",
   "metadata": {},
   "outputs": [
    {
     "data": {
      "text/plain": [
       "'\\n#Q: scope of functions\\n\\n#\\xa0Outter -> inner\\n\\nthe_num = 10\\ndef addition (a, b):\\n    return a + b * the_num\\n#\\xa0Inner -> outeer no\\n'"
      ]
     },
     "execution_count": 202,
     "metadata": {},
     "output_type": "execute_result"
    }
   ],
   "source": [
    "\"\"\"\n",
    "#Q: scope of functions\n",
    "\n",
    "# Outter -> inner\n",
    "\n",
    "the_num = 10\n",
    "def addition (a, b):\n",
    "    return a + b * the_num\n",
    "# Inner -> outeer no\n",
    "\"\"\""
   ]
  },
  {
   "cell_type": "code",
   "execution_count": 203,
   "id": "e0b44c7a",
   "metadata": {},
   "outputs": [],
   "source": [
    "#Q: \n",
    "#A: good practiec is that imports at very beginning and \n",
    "#always outside\n",
    "import math\n",
    "\n",
    "def some_function (some_value):\n",
    "    result = math.pi * 2 * some_value\n",
    "    return result"
   ]
  },
  {
   "cell_type": "code",
   "execution_count": 167,
   "id": "359713b5",
   "metadata": {},
   "outputs": [
    {
     "data": {
      "text/plain": [
       "18.84955592153876"
      ]
     },
     "execution_count": 167,
     "metadata": {},
     "output_type": "execute_result"
    }
   ],
   "source": [
    "some_function(3)"
   ]
  },
  {
   "cell_type": "code",
   "execution_count": 300,
   "id": "a98d61cb",
   "metadata": {},
   "outputs": [],
   "source": [
    "class Staff ():\n",
    "        \n",
    "    def __init__ (self, name, fname):\n",
    "        self.name = name.capitalize()\n",
    "        self.fname = fname\n",
    "        \n",
    "        # Default\n",
    "        self.time_off = 30\n",
    "        \n",
    "        #Default: as a result\n",
    "        self.email = self.name.lower() + \".\" + self.fname.lower() + \"@ironhack.com\"\n",
    "        \n",
    "    \n",
    "    def introduce (self):\n",
    "        return f\"Hello, my name is {self.name}!\"\n",
    "    "
   ]
  },
  {
   "cell_type": "code",
   "execution_count": 293,
   "id": "0d6bcdd2",
   "metadata": {},
   "outputs": [],
   "source": [
    "albert = Staff(\"Albert\", \"Coca\") # this runs the __init__"
   ]
  },
  {
   "cell_type": "code",
   "execution_count": 294,
   "id": "1f05a243",
   "metadata": {},
   "outputs": [
    {
     "data": {
      "text/plain": [
       "'Hello, my name is Albert!'"
      ]
     },
     "execution_count": 294,
     "metadata": {},
     "output_type": "execute_result"
    }
   ],
   "source": [
    "albert.introduce()"
   ]
  },
  {
   "cell_type": "code",
   "execution_count": 295,
   "id": "4f095268",
   "metadata": {},
   "outputs": [],
   "source": [
    "albert.age = 40"
   ]
  },
  {
   "cell_type": "code",
   "execution_count": 299,
   "id": "d172ac26",
   "metadata": {},
   "outputs": [
    {
     "data": {
      "text/plain": [
       "{'name': 'Albert',\n",
       " 'fname': 'Coca',\n",
       " 'time_off': 30,\n",
       " 'email': 'albert.coca@ironhack.com',\n",
       " 'age': 40}"
      ]
     },
     "execution_count": 299,
     "metadata": {},
     "output_type": "execute_result"
    }
   ],
   "source": [
    "albert.__dict__"
   ]
  },
  {
   "cell_type": "code",
   "execution_count": 296,
   "id": "4b2fc227",
   "metadata": {},
   "outputs": [],
   "source": [
    "lara = Staff(\"laura\", \"molas\")"
   ]
  },
  {
   "cell_type": "code",
   "execution_count": 297,
   "id": "650fcdfa",
   "metadata": {},
   "outputs": [
    {
     "data": {
      "text/plain": [
       "'laura.molas@ironhack.com'"
      ]
     },
     "execution_count": 297,
     "metadata": {},
     "output_type": "execute_result"
    }
   ],
   "source": [
    "lara.email"
   ]
  },
  {
   "cell_type": "code",
   "execution_count": 298,
   "id": "943fbc52",
   "metadata": {
    "scrolled": true
   },
   "outputs": [
    {
     "data": {
      "text/plain": [
       "'Hello, my name is Laura!'"
      ]
     },
     "execution_count": 298,
     "metadata": {},
     "output_type": "execute_result"
    }
   ],
   "source": [
    "lara.introduce()"
   ]
  },
  {
   "cell_type": "code",
   "execution_count": 255,
   "id": "ebbf0a71",
   "metadata": {},
   "outputs": [
    {
     "data": {
      "text/plain": [
       "'ASSDSR'"
      ]
     },
     "execution_count": 255,
     "metadata": {},
     "output_type": "execute_result"
    }
   ],
   "source": [
    "\"assdsr\".upper()"
   ]
  },
  {
   "cell_type": "code",
   "execution_count": 412,
   "id": "782ac337",
   "metadata": {},
   "outputs": [],
   "source": [
    "class Staff ():\n",
    "        \n",
    "    def __init__ (self, name, fname):\n",
    "        self.name = name.capitalize()\n",
    "        self.fname = fname\n",
    "        \n",
    "        # Default\n",
    "        self.time_off = 20\n",
    "        \n",
    "        #Default: as a result\n",
    "        self.email = self.name.lower() + \".\" + self.fname.lower() + \"@ironhack.com\"\n",
    "        \n",
    "    \n",
    "    def introduce (self):\n",
    "        return f\"Hello, my name is {self.name}!\"\n",
    "    \n",
    "    def takes_days_off (self):\n",
    "        if self.time_off > 0:\n",
    "            self.time_off -= 1\n",
    "            return f\"Now you have {self.time_off} days off available\"\n",
    "        else:\n",
    "            return f\"Sorry, you ran out of days\""
   ]
  },
  {
   "cell_type": "code",
   "execution_count": 413,
   "id": "eaeedda0",
   "metadata": {},
   "outputs": [],
   "source": [
    "albert = Staff (\"Albert\", \"Coca\")"
   ]
  },
  {
   "cell_type": "code",
   "execution_count": 414,
   "id": "6947ceaf",
   "metadata": {},
   "outputs": [
    {
     "data": {
      "text/plain": [
       "'Hello, my name is Albert!'"
      ]
     },
     "execution_count": 414,
     "metadata": {},
     "output_type": "execute_result"
    }
   ],
   "source": [
    "albert.introduce()"
   ]
  },
  {
   "cell_type": "code",
   "execution_count": 435,
   "id": "71f31aa7",
   "metadata": {},
   "outputs": [
    {
     "data": {
      "text/plain": [
       "'Sorry, you ran out of days'"
      ]
     },
     "execution_count": 435,
     "metadata": {},
     "output_type": "execute_result"
    }
   ],
   "source": [
    "albert.takes_days_off()"
   ]
  },
  {
   "cell_type": "code",
   "execution_count": 437,
   "id": "6617e908",
   "metadata": {},
   "outputs": [],
   "source": [
    "laura = Staff (\"Laura\", \"Molas\")"
   ]
  },
  {
   "cell_type": "code",
   "execution_count": 438,
   "id": "c65b928c",
   "metadata": {},
   "outputs": [
    {
     "data": {
      "text/plain": [
       "'Now you have 19 days off available'"
      ]
     },
     "execution_count": 438,
     "metadata": {},
     "output_type": "execute_result"
    }
   ],
   "source": [
    "laura.takes_days_off()"
   ]
  },
  {
   "cell_type": "code",
   "execution_count": null,
   "id": "73d1f8c8",
   "metadata": {},
   "outputs": [],
   "source": [
    "class Staff ():\n",
    "        \n",
    "    def __init__ (self, name, fname):\n",
    "        self.name = name.capitalize()\n",
    "        self.fname = fname\n",
    "        \n",
    "        # Default\n",
    "        self.time_off = 20\n",
    "        \n",
    "        #Default: as a result\n",
    "        self.email = self.name.lower() + \".\" + self.fname.lower() + \"@ironhack.com\"\n",
    "        \n",
    "    \n",
    "    def introduce (self):\n",
    "        return f\"Hello, my name is {self.name}!\"\n",
    "    \n",
    "    def takes_days_off (self, number):\n",
    "        if self.time_off > 0:\n",
    "            self.time_off -= 1\n",
    "            return f\"Now you have {self.time_off} days off available\"\n",
    "        else:\n",
    "            return f\"Sorry, you ran out of days\"\n",
    "    "
   ]
  },
  {
   "cell_type": "code",
   "execution_count": 447,
   "id": "9c4ef7ba",
   "metadata": {},
   "outputs": [],
   "source": [
    "days = 20\n",
    "def takes_days_off (days, *number):\n",
    "    if number:\n",
    "        days -= number[0]\n",
    "    else:\n",
    "        days -= 1\n",
    "        return f\"Now you have {days} days off available\""
   ]
  },
  {
   "cell_type": "code",
   "execution_count": 457,
   "id": "e5da8df0",
   "metadata": {},
   "outputs": [
    {
     "data": {
      "text/plain": [
       "'Now you have 19 days off available'"
      ]
     },
     "execution_count": 457,
     "metadata": {},
     "output_type": "execute_result"
    }
   ],
   "source": [
    "takes_days_off (days) #if I don't pass (if)"
   ]
  },
  {
   "cell_type": "code",
   "execution_count": 458,
   "id": "605147b6",
   "metadata": {},
   "outputs": [],
   "source": [
    "takes_days_off (days, 5) #if I pass (else)"
   ]
  },
  {
   "cell_type": "code",
   "execution_count": null,
   "id": "a3012708",
   "metadata": {},
   "outputs": [],
   "source": [
    "class Staff ():\n",
    "        \n",
    "    def __init__ (self, name, fname):\n",
    "        self.name = name.capitalize()\n",
    "        self.fname = fname\n",
    "        \n",
    "        # Default\n",
    "        self.time_off = 20\n",
    "        \n",
    "        #Default: as a result\n",
    "        self.email = self.name.lower() + \".\" + self.fname.lower() + \"@ironhack.com\"\n",
    "        \n",
    "        self.hobbies = []\n",
    "        \n",
    "    \n",
    "    def introduce (self):\n",
    "        return f\"Hello, my name is {self.name}!\"\n",
    "    \n",
    "    def takes_days_off (self, number):\n",
    "        if self.time_off > 0:\n",
    "            self.time_off -= 1\n",
    "            return f\"Now you have {self.time_off} days off available\"\n",
    "        else:\n",
    "            return f\"Sorry, you ran out of days\"\n",
    "    \n",
    "    def hobbies (): #passing an optional argument\n",
    "        # if a hobbie is passed:\n",
    "            # append the hobby to the list\n",
    "            # return the list\n",
    "        # if nothing:\n",
    "            # return the list of hobbies\n",
    "        \n",
    "        pass"
   ]
  },
  {
   "cell_type": "code",
   "execution_count": null,
   "id": "c8abcade",
   "metadata": {},
   "outputs": [],
   "source": [
    "albert.hobbies() #shows the hobbies"
   ]
  },
  {
   "cell_type": "code",
   "execution_count": null,
   "id": "d010cb01",
   "metadata": {},
   "outputs": [],
   "source": [
    "albert.hobbies(\"surfing\")"
   ]
  },
  {
   "cell_type": "code",
   "execution_count": null,
   "id": "c42df6a8",
   "metadata": {},
   "outputs": [],
   "source": []
  },
  {
   "cell_type": "code",
   "execution_count": null,
   "id": "f24d2136",
   "metadata": {},
   "outputs": [],
   "source": []
  },
  {
   "cell_type": "code",
   "execution_count": null,
   "id": "127e09c6",
   "metadata": {},
   "outputs": [],
   "source": []
  },
  {
   "cell_type": "code",
   "execution_count": null,
   "id": "1d32bc1f",
   "metadata": {},
   "outputs": [],
   "source": []
  },
  {
   "cell_type": "code",
   "execution_count": null,
   "id": "185ff47a",
   "metadata": {},
   "outputs": [],
   "source": []
  },
  {
   "cell_type": "markdown",
   "id": "a9b11397",
   "metadata": {
    "lang": "en"
   },
   "source": [
    "What does self do? It indicates that the data we are entering is for the object we are creating."
   ]
  },
  {
   "cell_type": "code",
   "execution_count": null,
   "id": "273d458e",
   "metadata": {},
   "outputs": [],
   "source": []
  },
  {
   "cell_type": "markdown",
   "id": "8751e24c",
   "metadata": {
    "lang": "en"
   },
   "source": [
    "#### Default attributes\n",
    "\n",
    "We can initialize the attributes with a default value in case later, when creating the instances, the user or ourselves do not put anything in any of the attributes"
   ]
  },
  {
   "cell_type": "code",
   "execution_count": null,
   "id": "755ea01e",
   "metadata": {},
   "outputs": [],
   "source": []
  },
  {
   "cell_type": "markdown",
   "id": "0ce1eb62",
   "metadata": {
    "lang": "en"
   },
   "source": [
    "### Instance Methods"
   ]
  },
  {
   "cell_type": "code",
   "execution_count": null,
   "id": "7f3ecad3",
   "metadata": {},
   "outputs": [],
   "source": []
  },
  {
   "cell_type": "markdown",
   "id": "3b7de249",
   "metadata": {
    "lang": "en"
   },
   "source": [
    "They are functions within the classes that will save us a lot of time"
   ]
  },
  {
   "cell_type": "code",
   "execution_count": null,
   "id": "5c9fef82",
   "metadata": {},
   "outputs": [],
   "source": []
  },
  {
   "cell_type": "markdown",
   "id": "fdda9183",
   "metadata": {},
   "source": [
    "_⚠️:  Target variables when instantiaing, ingnoring defaults?_"
   ]
  },
  {
   "cell_type": "code",
   "execution_count": null,
   "id": "aa27d407",
   "metadata": {},
   "outputs": [],
   "source": []
  },
  {
   "cell_type": "markdown",
   "id": "c584762d",
   "metadata": {
    "lang": "en"
   },
   "source": [
    "**watch out** 👀\n",
    "If we modify a class and add attributes or methods, we have to recreate the object so that it is initialized with those attributes and has those methods."
   ]
  },
  {
   "cell_type": "markdown",
   "id": "b6c1dbd0",
   "metadata": {
    "lang": "en"
   },
   "source": [
    "#### Python is built with objects\n",
    "In Python primitive data types are also objects that have associated attributes and methods."
   ]
  },
  {
   "cell_type": "code",
   "execution_count": null,
   "id": "d7a7a599",
   "metadata": {},
   "outputs": [],
   "source": []
  },
  {
   "cell_type": "markdown",
   "id": "e6af3733",
   "metadata": {
    "lang": "en"
   },
   "source": [
    "Whenever we do .something, it is because we are calling the methods/attributes of that class"
   ]
  },
  {
   "cell_type": "markdown",
   "id": "2b7c965f",
   "metadata": {
    "lang": "en"
   },
   "source": [
    "### Class variables"
   ]
  },
  {
   "cell_type": "code",
   "execution_count": null,
   "id": "e55d6664",
   "metadata": {},
   "outputs": [],
   "source": []
  },
  {
   "cell_type": "markdown",
   "id": "2a28ab69",
   "metadata": {
    "lang": "en"
   },
   "source": [
    "In general, class attributes should not be used, except to store constant values."
   ]
  },
  {
   "cell_type": "markdown",
   "id": "9ad7387e",
   "metadata": {
    "lang": "en"
   },
   "source": [
    "**Exercise**\n",
    "\n",
    "Create a class `Circle` with:\n",
    "- radius as instance/object variable\n",
    "- pi (math.pi) as class variable\n",
    "- a compute_area(self) method that returns the area of ​​the \"circle\" object"
   ]
  },
  {
   "cell_type": "code",
   "execution_count": null,
   "id": "a4099b74",
   "metadata": {},
   "outputs": [],
   "source": [
    "import math\n",
    "\n",
    "class circle_change ():\n",
    "    \n",
    "    PI = math.pi\n",
    "    \n",
    "    def __init__ (self, name, fname): \n",
    "        self.name = name\n",
    "        self.fname = fname\n",
    "        \n",
    "        self.time_off = 30\n",
    "    "
   ]
  },
  {
   "cell_type": "code",
   "execution_count": 68,
   "id": "focused-invite",
   "metadata": {},
   "outputs": [],
   "source": [
    "import math"
   ]
  },
  {
   "cell_type": "code",
   "execution_count": null,
   "id": "5664c0f1",
   "metadata": {},
   "outputs": [],
   "source": []
  },
  {
   "cell_type": "markdown",
   "id": "87cccad5",
   "metadata": {
    "lang": "en"
   },
   "source": [
    "## Before continuing, let's take a breath and review vocabulary"
   ]
  },
  {
   "cell_type": "markdown",
   "id": "9170647e",
   "metadata": {
    "lang": "en"
   },
   "source": [
    "- **Class**: The cookie mold. With the class we can generate instances or objects.\n",
    "- **Object**: The cookie we generated. Each object has different characteristics but under the same pattern as the class.\n",
    "- **Instance**: Same as object, it's a synonym :) hehe\n",
    "- **Attribute**: The different ingredients of each object. They are defined as arguments in the __init__ function but are saved as data when we instantiate an object by calling the class"
   ]
  },
  {
   "cell_type": "code",
   "execution_count": null,
   "id": "5c6951ca",
   "metadata": {},
   "outputs": [],
   "source": []
  },
  {
   "cell_type": "markdown",
   "id": "05499ca5",
   "metadata": {},
   "source": [
    "We can say that the attributes are the DATA, in this case \"Pau\" and \"Peracaula\".\n",
    "They are variables\n",
    "\n",
    "\n",
    "* **Class attribute**: Variables that belong to the class and that will be the same in all objects.\n",
    "* **Object/instance attribute**: The attributes explained above, specific to each object.\n",
    "* **Method**: Functions that do things"
   ]
  },
  {
   "cell_type": "markdown",
   "id": "8772dea7",
   "metadata": {
    "lang": "en"
   },
   "source": [
    "#### Easy exercise\n",
    "Kata --> https://www.codewars.com/kata/53f0f358b9cb376eca001079/train/python\n",
    "\n",
    "You can ignore the \"object\" for now"
   ]
  },
  {
   "cell_type": "code",
   "execution_count": 1,
   "id": "b6a27bcf",
   "metadata": {},
   "outputs": [],
   "source": []
  },
  {
   "cell_type": "markdown",
   "id": "pressed-proof",
   "metadata": {},
   "source": [
    "## Inheritance"
   ]
  },
  {
   "cell_type": "markdown",
   "id": "1f62f02d",
   "metadata": {
    "lang": "en"
   },
   "source": [
    "Inheritance allows defining new classes from existing classes. The class from which it is inherited is called the \"parent class\"/\"superclass\"/\"parent\". The class that it inherits is called a \"child class\" or \"subclass.\"\n",
    "The child class \"inherits\" all the properties of the parent class and allows us to override methods and attributes or add new ones. The fundamental advantage that the inheritance mechanism brings to programming is the ability to reuse code. Thus, a set of classes that share attributes and methods can inherit from a superclass where those methods and attributes are defined."
   ]
  },
  {
   "cell_type": "markdown",
   "id": "wanted-works",
   "metadata": {},
   "source": [
    "\n",
    "![miniyoda](https://media.giphy.com/media/j0eRJzyW7XjMpu1Pqd/giphy.gif)"
   ]
  },
  {
   "cell_type": "markdown",
   "id": "37b8b77c",
   "metadata": {
    "lang": "en"
   },
   "source": [
    "- Method defined in the `parent`, but not in the `child`\n",
    "\n",
    "In this case, the child will inherit the parent's method, it will work exactly the same and there is no need to override it.\n",
    "\n",
    "- Method defined in `Child`, but not in Parent\n",
    "\n",
    "The method only belongs to the child. Inheritance is one way.\n",
    "\n",
    "- Method set to \"both\".\n",
    "\n",
    "Two things can happen here, but both are a variant of the same fact. The method written in the `Child` class will override the one previously defined in Parent.\n",
    "\n",
    "However, if we want to use the original method and just add something else to it, we can always refer to the original (parent) method with `super()`. The `super()` function allows us to call any method of the parent class. Just remember to call it on the new define and make sure you get all the attributes it needs 😉 ."
   ]
  },
  {
   "cell_type": "code",
   "execution_count": null,
   "id": "253cfef7",
   "metadata": {},
   "outputs": [],
   "source": []
  },
  {
   "cell_type": "markdown",
   "id": "willing-workshop",
   "metadata": {},
   "source": [
    "### super()"
   ]
  },
  {
   "cell_type": "code",
   "execution_count": null,
   "id": "2800959e",
   "metadata": {},
   "outputs": [],
   "source": []
  },
  {
   "cell_type": "markdown",
   "id": "06927b5c",
   "metadata": {},
   "source": [
    "## Summary"
   ]
  },
  {
   "cell_type": "markdown",
   "id": "e26f2fec",
   "metadata": {
    "lang": "en"
   },
   "source": []
  },
  {
   "cell_type": "markdown",
   "id": "7d8865bd",
   "metadata": {
    "lang": "en"
   },
   "source": [
    "## Furthermaterials\n",
    "\n",
    "- Youtube Tutorial by [Corey Schafer](https://www.youtube.com/watch?v=ZDa-Z5JzLYM)\n",
    "- [Real Python](https://docs.hektorprofe.net/python/object-oriented-programming/classes-and-objects/)\n",
    "- [Interesting read](https://medium.com/@shaistha24/functional-programming-vs-object-oriented-programming-oop-which-is-better-82172e53a526) --> OOP vs Functional programming"
   ]
  },
  {
   "cell_type": "markdown",
   "id": "92bd3cce",
   "metadata": {
    "lang": "en"
   },
   "source": [
    "### Methods **ADVANCED** @classmethod@staticmethod\n",
    "* [Real Python - @classmethod/@stathicmethod](https://realpython.com/instance-class-and-static-methods-demystified/). Advanced Python with decorators (we'll mention them later)"
   ]
  }
 ],
 "metadata": {
  "kernelspec": {
   "display_name": "ironhack",
   "language": "python",
   "name": "ironhack"
  },
  "language_info": {
   "codemirror_mode": {
    "name": "ipython",
    "version": 3
   },
   "file_extension": ".py",
   "mimetype": "text/x-python",
   "name": "python",
   "nbconvert_exporter": "python",
   "pygments_lexer": "ipython3",
   "version": "3.8.13"
  },
  "nbTranslate": {
   "displayLangs": [
    "en",
    "es"
   ],
   "hotkey": "alt-a",
   "langInMainMenu": true,
   "sourceLang": "es",
   "targetLang": "en",
   "useGoogleTranslate": true
  },
  "toc": {
   "base_numbering": 1,
   "nav_menu": {},
   "number_sections": true,
   "sideBar": true,
   "skip_h1_title": true,
   "title_cell": "Table of Contents",
   "title_sidebar": "Contents",
   "toc_cell": true,
   "toc_position": {
    "height": "calc(100% - 180px)",
    "left": "10px",
    "top": "150px",
    "width": "288px"
   },
   "toc_section_display": true,
   "toc_window_display": true
  }
 },
 "nbformat": 4,
 "nbformat_minor": 5
}
