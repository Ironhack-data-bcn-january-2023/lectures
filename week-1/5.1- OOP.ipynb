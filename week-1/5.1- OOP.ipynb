{
 "cells": [
  {
   "cell_type": "markdown",
   "id": "bfd2fc1f",
   "metadata": {
    "lang": "en"
   },
   "source": [
    "# Object-oriented programming"
   ]
  },
  {
   "cell_type": "markdown",
   "id": "linear-pierre",
   "metadata": {
    "toc": true
   },
   "source": [
    "<h1>Table of Contents<span class=\"tocSkip\"></span></h1>\n",
    "<div class=\"toc\"><ul class=\"toc-item\"><li><span><a href=\"#What-is-OOP---Object-Oriented-Programming?\" data-toc-modified-id=\"What-is-OOP---Object-Oriented-Programming?-1\"><span class=\"toc-item-num\">1&nbsp;&nbsp;</span>What is OOP - Object Oriented Programming?</a></span><ul class=\"toc-item\"><li><span><a href=\"#Fundamental-Principles\" data-toc-modified-id=\"Fundamental-Principles-1.1\"><span class=\"toc-item-num\">1.1&nbsp;&nbsp;</span>Fundamental Principles</a></span></li></ul></li><li><span><a href=\"#Classes-and-instances\" data-toc-modified-id=\"Classes-and-instances-2\"><span class=\"toc-item-num\">2&nbsp;&nbsp;</span>Classes and instances</a></span></li><li><span><a href=\"#Definition-of-a-class\" data-toc-modified-id=\"Definition-of-a-class-3\"><span class=\"toc-item-num\">3&nbsp;&nbsp;</span>Definition of a class</a></span><ul class=\"toc-item\"><li><span><a href=\"#Self:\" data-toc-modified-id=\"Self:-3.1\"><span class=\"toc-item-num\">3.1&nbsp;&nbsp;</span>Self:</a></span><ul class=\"toc-item\"><li><span><a href=\"#Defining-a-function\" data-toc-modified-id=\"Defining-a-function-3.1.1\"><span class=\"toc-item-num\">3.1.1&nbsp;&nbsp;</span>Defining a function</a></span></li><li><span><a href=\"#Calling-a-function\" data-toc-modified-id=\"Calling-a-function-3.1.2\"><span class=\"toc-item-num\">3.1.2&nbsp;&nbsp;</span>Calling a function</a></span></li><li><span><a href=\"#Defining-a-class\" data-toc-modified-id=\"Defining-a-class-3.1.3\"><span class=\"toc-item-num\">3.1.3&nbsp;&nbsp;</span>Defining a class</a></span></li><li><span><a href=\"#Instansiating-a-class\" data-toc-modified-id=\"Instansiating-a-class-3.1.4\"><span class=\"toc-item-num\">3.1.4&nbsp;&nbsp;</span>Instansiating a class</a></span></li></ul></li><li><span><a href=\"#Exploring-a-class\" data-toc-modified-id=\"Exploring-a-class-3.2\"><span class=\"toc-item-num\">3.2&nbsp;&nbsp;</span>Exploring a class</a></span></li><li><span><a href=\"#Instance-Attributes\" data-toc-modified-id=\"Instance-Attributes-3.3\"><span class=\"toc-item-num\">3.3&nbsp;&nbsp;</span>Instance Attributes</a></span><ul class=\"toc-item\"><li><span><a href=\"#Default-attributes\" data-toc-modified-id=\"Default-attributes-3.3.1\"><span class=\"toc-item-num\">3.3.1&nbsp;&nbsp;</span>Default attributes</a></span></li></ul></li><li><span><a href=\"#Instance-Methods\" data-toc-modified-id=\"Instance-Methods-3.4\"><span class=\"toc-item-num\">3.4&nbsp;&nbsp;</span>Instance Methods</a></span><ul class=\"toc-item\"><li><span><a href=\"#Python-is-built-with-objects\" data-toc-modified-id=\"Python-is-built-with-objects-3.4.1\"><span class=\"toc-item-num\">3.4.1&nbsp;&nbsp;</span>Python is built with objects</a></span></li></ul></li><li><span><a href=\"#Class-variables\" data-toc-modified-id=\"Class-variables-3.5\"><span class=\"toc-item-num\">3.5&nbsp;&nbsp;</span>Class variables</a></span></li></ul></li><li><span><a href=\"#Before-continuing,-let's-take-a-breath-and-review-vocabulary\" data-toc-modified-id=\"Before-continuing,-let's-take-a-breath-and-review-vocabulary-4\"><span class=\"toc-item-num\">4&nbsp;&nbsp;</span>Before continuing, let's take a breath and review vocabulary</a></span><ul class=\"toc-item\"><li><ul class=\"toc-item\"><li><span><a href=\"#Easy-exercise\" data-toc-modified-id=\"Easy-exercise-4.0.1\"><span class=\"toc-item-num\">4.0.1&nbsp;&nbsp;</span>Easy exercise</a></span></li></ul></li></ul></li><li><span><a href=\"#Inheritance\" data-toc-modified-id=\"Inheritance-5\"><span class=\"toc-item-num\">5&nbsp;&nbsp;</span>Inheritance</a></span><ul class=\"toc-item\"><li><span><a href=\"#super()\" data-toc-modified-id=\"super()-5.1\"><span class=\"toc-item-num\">5.1&nbsp;&nbsp;</span>super()</a></span></li></ul></li><li><span><a href=\"#Summary\" data-toc-modified-id=\"Summary-6\"><span class=\"toc-item-num\">6&nbsp;&nbsp;</span>Summary</a></span></li><li><span><a href=\"#Furthermaterials\" data-toc-modified-id=\"Furthermaterials-7\"><span class=\"toc-item-num\">7&nbsp;&nbsp;</span>Furthermaterials</a></span><ul class=\"toc-item\"><li><span><a href=\"#Methods-ADVANCED-@classmethod@staticmethod\" data-toc-modified-id=\"Methods-ADVANCED-@classmethod@staticmethod-7.1\"><span class=\"toc-item-num\">7.1&nbsp;&nbsp;</span>Methods <strong>ADVANCED</strong> @classmethod@staticmethod</a></span></li></ul></li></ul></div>"
   ]
  },
  {
   "cell_type": "markdown",
   "id": "44bbe54e",
   "metadata": {
    "lang": "en"
   },
   "source": [
    "## What is OOP - Object Oriented Programming?"
   ]
  },
  {
   "cell_type": "markdown",
   "id": "da79b55b",
   "metadata": {
    "lang": "en"
   },
   "source": [
    "Object-oriented programming is a programming paradigm, that is, a programming style and technique, which goes beyond the implementation itself. This paradigm is based on the \"object\" concept, which can contain both data, in the form of fields called \"attributes\", and code for its manipulation in the form of procedures and functions, called \"methods\". Thanks to this, we can group everything under a single data type (the object \"class\"), which facilitates the modularity and reusability of the code.\n",
    "This has a strong implication in the design of IT solutions; Software engineering methodologies are based on object-oriented programming."
   ]
  },
  {
   "cell_type": "markdown",
   "id": "19380f68",
   "metadata": {
    "lang": "en"
   },
   "source": [
    "You can imagine objects as a new data type whose definition is given in a structure called class.\n",
    "Classes are often compared to cookie cutters and objects to the cookies themselves. While all cookies made from the same pan have the same shape, each one takes on individual attributes after baking. Things like color, texture, flavor... can be very different.\n",
    "In other words, the cookies share a manufacturing process and some attributes, but they are independent of each other and of the mold itself, and that makes each one unique.\n",
    "Extrapolating from the example, a class is just a script about how the objects that will be created with it should be."
   ]
  },
  {
   "cell_type": "markdown",
   "id": "fallen-brazil",
   "metadata": {},
   "source": [
    "![clases](https://files.realpython.com/media/Object-Oriented-Programming-OOP-in-Python-3_Watermarked.0d29780806d5.jpg)"
   ]
  },
  {
   "cell_type": "markdown",
   "id": "92d02d2c",
   "metadata": {
    "lang": "en"
   },
   "source": [
    "### Fundamental Principles"
   ]
  },
  {
   "cell_type": "markdown",
   "id": "0473322c",
   "metadata": {
    "lang": "en"
   },
   "source": [
    "1 - **Data abstraction**: Something we do naturally in our understanding of the world is the abstraction of concrete information in concepts or classes. For example, the concept of \"car\" evokes in us an idea of ​​a vehicle with four wheels, a steering wheel, an engine... Our car is a specific \"instance\" of that concept, and different from other cars, but we are capable of associating certain properties or characteristics to said concept above specific details. This ability to abstract a concept is essential for the development of human language and, of course, such a good idea has been transferred to the world of programming. In OOP, we call the abstract concept \"class\" and the realization of that concept \"object\". Your car is concrete, you can drive it, it is an object, an \"instance\" of the class \"car\".\n",
    "   \n",
    "   2 - **Encapsulation**: Each type of object contains its own information and can be manipulated in a particular way. A car can be driven and has a certain pressure in the wheels, a color, a certain level of gasoline, etc. With a GPS we can obtain our position coordinates and the batteries will have a certain charge. A dog barks, has a weight, an age. All those attributes and \"methods\" are \"encapsulated\" within the object, and are accessible only through a given object. The advantage is that we don't need to have, for example, a list with names, another with ages, another with weights... but rather a list of objects and each one contains, that is, encapsulates, its own information.\n",
    "   \n",
    "   3 - **Inheritance**: Some classes can specialize others. For this, the specialized class \"inherits\" the properties of the more general class, called the \"superclass\". For example, the \"Car\" and \"Truck\" classes can inherit from the \"Vehicle\" class. This is a way of reusing code, by being able to assume those common properties between several classes in a superior class. Python supports \"multiple inheritance\", so a class can be defined as a subclass of several classes from which it would inherit all its properties (attributes and methods) at once.\n",
    "   \n",
    "   4 - **Polymorphism**: A square can be drawn, a circle as well, just as any other shape can be drawn. \"Square\" and \"Circle\" would be subclasses of \"Shape\". The \"Shape\" superclass implements a draw() method, and both the \"Square\" subclass and the \"Circle\" subclass override this method to their particular case. So a function could accept an object of type \"Shape\" as a parameter and call the draw() method without knowing if the passed argument is a circle or a square. Each object knows its level of specialization and the concrete implementation of its methods. This ability to use superclass methods in code but resolve to subclass methods at run time is called \"Polymorphism\": the same variable can take different forms."
   ]
  },
  {
   "cell_type": "markdown",
   "id": "f325c4f9",
   "metadata": {
    "lang": "en"
   },
   "source": [
    "## Classes and instances"
   ]
  },
  {
   "cell_type": "markdown",
   "id": "f1423c0e",
   "metadata": {
    "lang": "en"
   },
   "source": [
    "A class is like an abstract type for objects that, in addition to storing values ​​called attributes, has associated a series of functions that we call methods. An instance of a class is the same as saying an object of that class. Instantiating a class refers to creating an object that belongs to that class.\n",
    "In Python, data types are classes, and any literal or variable of one of these types is an object that instantiates the type's class. For example: a = 2222 is equivalent to instantiating the PyLongObject class by assigning an internal attribute the value 2222. This is what happens at a low level, but we can consider that the variable a is of type int. We can know the type of any variable, that is, the class it instantiates, with the type() function, and the identifier of the instantiated object with the id() function."
   ]
  },
  {
   "cell_type": "code",
   "execution_count": 1,
   "id": "5b53afc4",
   "metadata": {},
   "outputs": [],
   "source": [
    "# car: class\n",
    "    # fiat 2020 -> instance of the car class\n",
    "    "
   ]
  },
  {
   "cell_type": "code",
   "execution_count": 2,
   "id": "1aa1b508",
   "metadata": {},
   "outputs": [],
   "source": [
    "a = 33"
   ]
  },
  {
   "cell_type": "code",
   "execution_count": 3,
   "id": "b3ed6ba0",
   "metadata": {},
   "outputs": [
    {
     "data": {
      "text/plain": [
       "int"
      ]
     },
     "execution_count": 3,
     "metadata": {},
     "output_type": "execute_result"
    }
   ],
   "source": [
    "type(a)"
   ]
  },
  {
   "cell_type": "code",
   "execution_count": 4,
   "id": "d44a67f3",
   "metadata": {},
   "outputs": [],
   "source": [
    "a_string = \"Hello\""
   ]
  },
  {
   "cell_type": "code",
   "execution_count": 5,
   "id": "d77c9dff",
   "metadata": {},
   "outputs": [
    {
     "data": {
      "text/plain": [
       "str"
      ]
     },
     "execution_count": 5,
     "metadata": {},
     "output_type": "execute_result"
    }
   ],
   "source": [
    "type(a_string)"
   ]
  },
  {
   "cell_type": "code",
   "execution_count": 8,
   "id": "2b927963",
   "metadata": {},
   "outputs": [],
   "source": [
    "# values/properties: has\n",
    "# instructions: does things"
   ]
  },
  {
   "cell_type": "code",
   "execution_count": 10,
   "id": "fcdb76ac",
   "metadata": {},
   "outputs": [
    {
     "data": {
      "text/plain": [
       "'HELLO'"
      ]
     },
     "execution_count": 10,
     "metadata": {},
     "output_type": "execute_result"
    }
   ],
   "source": [
    "a_string.upper() # method, function"
   ]
  },
  {
   "cell_type": "code",
   "execution_count": null,
   "id": "4be928be",
   "metadata": {},
   "outputs": [],
   "source": [
    "#something.function()"
   ]
  },
  {
   "cell_type": "code",
   "execution_count": 11,
   "id": "1136ca79",
   "metadata": {},
   "outputs": [
    {
     "data": {
      "text/plain": [
       "5"
      ]
     },
     "execution_count": 11,
     "metadata": {},
     "output_type": "execute_result"
    }
   ],
   "source": [
    "len(a_string)"
   ]
  },
  {
   "cell_type": "code",
   "execution_count": 12,
   "id": "b463cf3e",
   "metadata": {},
   "outputs": [],
   "source": [
    "one_string = \"hello\"\n",
    "other_string = \"how are you\""
   ]
  },
  {
   "cell_type": "code",
   "execution_count": null,
   "id": "45cc882b",
   "metadata": {},
   "outputs": [],
   "source": [
    "# class: str\n",
    "   # instance: \"hello\"\n",
    "    # instance: \"how are you\"\n",
    "    \n",
    "    # fiat: 4 wheels / move\n",
    "    # ferrari:  4 wheels / move\n"
   ]
  },
  {
   "cell_type": "code",
   "execution_count": null,
   "id": "43ca77a6",
   "metadata": {},
   "outputs": [],
   "source": [
    "# classes\n",
    "    # attribues -> variables\n",
    "    # methods -> functions"
   ]
  },
  {
   "cell_type": "markdown",
   "id": "e4bd50ab",
   "metadata": {
    "lang": "en"
   },
   "source": [
    "To know all the methods and attributes of a class we can use the dir() function both on an object and on the class."
   ]
  },
  {
   "cell_type": "code",
   "execution_count": 15,
   "id": "658686a0",
   "metadata": {},
   "outputs": [
    {
     "data": {
      "text/plain": [
       "'Hello'"
      ]
     },
     "execution_count": 15,
     "metadata": {},
     "output_type": "execute_result"
    }
   ],
   "source": [
    "a_string"
   ]
  },
  {
   "cell_type": "code",
   "execution_count": 18,
   "id": "45860ba0",
   "metadata": {},
   "outputs": [
    {
     "data": {
      "text/plain": [
       "'hello'"
      ]
     },
     "execution_count": 18,
     "metadata": {},
     "output_type": "execute_result"
    }
   ],
   "source": [
    "a_string.lower()"
   ]
  },
  {
   "cell_type": "code",
   "execution_count": 19,
   "id": "a21c7dc1",
   "metadata": {},
   "outputs": [
    {
     "data": {
      "text/plain": [
       "False"
      ]
     },
     "execution_count": 19,
     "metadata": {},
     "output_type": "execute_result"
    }
   ],
   "source": [
    "a_string.isdigit()"
   ]
  },
  {
   "cell_type": "code",
   "execution_count": 20,
   "id": "b8061352",
   "metadata": {},
   "outputs": [],
   "source": [
    "an_int = 10"
   ]
  },
  {
   "cell_type": "code",
   "execution_count": 23,
   "id": "c6f39dd6",
   "metadata": {},
   "outputs": [],
   "source": [
    "#dir(an_int)"
   ]
  },
  {
   "cell_type": "code",
   "execution_count": 21,
   "id": "6d18ea81",
   "metadata": {},
   "outputs": [
    {
     "ename": "AttributeError",
     "evalue": "'int' object has no attribute 'lower'",
     "output_type": "error",
     "traceback": [
      "\u001b[0;31m---------------------------------------------------------------------------\u001b[0m",
      "\u001b[0;31mAttributeError\u001b[0m                            Traceback (most recent call last)",
      "Input \u001b[0;32mIn [21]\u001b[0m, in \u001b[0;36m<cell line: 1>\u001b[0;34m()\u001b[0m\n\u001b[0;32m----> 1\u001b[0m \u001b[43man_int\u001b[49m\u001b[38;5;241;43m.\u001b[39;49m\u001b[43mlower\u001b[49m()\n",
      "\u001b[0;31mAttributeError\u001b[0m: 'int' object has no attribute 'lower'"
     ]
    }
   ],
   "source": [
    "an_int.lower()"
   ]
  },
  {
   "cell_type": "code",
   "execution_count": 25,
   "id": "3aaafe27",
   "metadata": {},
   "outputs": [
    {
     "name": "stdout",
     "output_type": "stream",
     "text": [
      "['capitalize', 'casefold', 'center', 'count', 'encode', 'endswith', 'expandtabs', 'find', 'format', 'index', 'isalnum', 'isalpha', 'isascii', 'isdecimal', 'isdigit', 'isidentifier', 'islower', 'isnumeric', 'isprintable', 'isspace', 'istitle', 'isupper', 'join', 'ljust', 'lower', 'lstrip', 'maketrans', 'partition', 'replace', 'rfind', 'rindex', 'rjust', 'rpartition', 'rsplit', 'rstrip', 'split', 'splitlines', 'startswith', 'strip', 'swapcase', 'title', 'translate', 'upper', 'zfill']\n"
     ]
    }
   ],
   "source": [
    "print([i for i in dir(a_string) if \"_\" not in i])"
   ]
  },
  {
   "cell_type": "code",
   "execution_count": 27,
   "id": "93858cd9",
   "metadata": {},
   "outputs": [
    {
     "data": {
      "text/plain": [
       "True"
      ]
     },
     "execution_count": 27,
     "metadata": {},
     "output_type": "execute_result"
    }
   ],
   "source": [
    "isinstance(a_string, str)"
   ]
  },
  {
   "cell_type": "code",
   "execution_count": 26,
   "id": "f20b26c5",
   "metadata": {},
   "outputs": [],
   "source": [
    "#dir(\"Hello there\")"
   ]
  },
  {
   "cell_type": "markdown",
   "id": "032f8630",
   "metadata": {},
   "source": [
    "You don't need to master this, just know what the `.__something__` means. It's a dunder/magic methods. Meant for Python internally"
   ]
  },
  {
   "cell_type": "code",
   "execution_count": 35,
   "id": "397d5d76",
   "metadata": {},
   "outputs": [],
   "source": [
    "string_1 = \"This is string_1\""
   ]
  },
  {
   "cell_type": "code",
   "execution_count": 36,
   "id": "a736e247",
   "metadata": {},
   "outputs": [],
   "source": [
    "string_2 = \"This is string_2\""
   ]
  },
  {
   "cell_type": "code",
   "execution_count": 33,
   "id": "f01b41bf",
   "metadata": {},
   "outputs": [
    {
     "data": {
      "text/plain": [
       "'__add__'"
      ]
     },
     "execution_count": 33,
     "metadata": {},
     "output_type": "execute_result"
    }
   ],
   "source": [
    "[i for i in dir(a_string)][0] #duner methods -> double under _ _"
   ]
  },
  {
   "cell_type": "code",
   "execution_count": 37,
   "id": "60429151",
   "metadata": {},
   "outputs": [
    {
     "data": {
      "text/plain": [
       "'This is string_1This is string_2'"
      ]
     },
     "execution_count": 37,
     "metadata": {},
     "output_type": "execute_result"
    }
   ],
   "source": [
    "string_1 + string_2 #what we do"
   ]
  },
  {
   "cell_type": "code",
   "execution_count": 38,
   "id": "eacfea47",
   "metadata": {},
   "outputs": [
    {
     "data": {
      "text/plain": [
       "'This is string_1This is string_2'"
      ]
     },
     "execution_count": 38,
     "metadata": {},
     "output_type": "execute_result"
    }
   ],
   "source": [
    "string_1.__add__(string_2) #internally"
   ]
  },
  {
   "cell_type": "code",
   "execution_count": 39,
   "id": "81bbeee6",
   "metadata": {},
   "outputs": [],
   "source": [
    "def greetings ():\n",
    "    \"\"\"\n",
    "    dfdfdf\"\"\"\n",
    "    pass"
   ]
  },
  {
   "cell_type": "code",
   "execution_count": 41,
   "id": "cc474202",
   "metadata": {},
   "outputs": [
    {
     "data": {
      "text/plain": [
       "'\\n    dfdfdf'"
      ]
     },
     "execution_count": 41,
     "metadata": {},
     "output_type": "execute_result"
    }
   ],
   "source": [
    "greetings.__doc__"
   ]
  },
  {
   "cell_type": "code",
   "execution_count": null,
   "id": "5e57cbe5",
   "metadata": {},
   "outputs": [],
   "source": [
    "# variables: somehting = 10\n",
    "# methods def greeting () "
   ]
  },
  {
   "cell_type": "markdown",
   "id": "ffc3bd0b",
   "metadata": {
    "lang": "en"
   },
   "source": [
    "## Definition of a class"
   ]
  },
  {
   "cell_type": "markdown",
   "id": "8917064a",
   "metadata": {
    "lang": "en"
   },
   "source": [
    "We can define our own classes and indicate whether they inherit from others, what their internal attributes are, and what their methods are. Once the class is defined, it is possible to create objects from it. To create a class, simply group attributes and methods in the body of a **class** block.\n",
    "Imagine that you create software to manage a school, and you want to represent \"teachers\" in your Python code. Teachers will have some associated data (`attributes` in `class` jargon), and they will be able to *perform actions* through functions that we will call `methods` (again, `class` jargon).\n",
    "\n",
    "We could do it one by one:"
   ]
  },
  {
   "cell_type": "code",
   "execution_count": 42,
   "id": "8dde3580",
   "metadata": {},
   "outputs": [],
   "source": [
    "def greeting (name):\n",
    "    return name"
   ]
  },
  {
   "cell_type": "code",
   "execution_count": 43,
   "id": "c9f6f34a",
   "metadata": {},
   "outputs": [
    {
     "data": {
      "text/plain": [
       "'Laura'"
      ]
     },
     "execution_count": 43,
     "metadata": {},
     "output_type": "execute_result"
    }
   ],
   "source": [
    "greeting (\"Laura\")"
   ]
  },
  {
   "cell_type": "code",
   "execution_count": 44,
   "id": "e05aa4b0",
   "metadata": {},
   "outputs": [
    {
     "data": {
      "text/plain": [
       "'Albert'"
      ]
     },
     "execution_count": 44,
     "metadata": {},
     "output_type": "execute_result"
    }
   ],
   "source": [
    "greeting (\"Albert\")"
   ]
  },
  {
   "cell_type": "code",
   "execution_count": null,
   "id": "68bb1b6b",
   "metadata": {},
   "outputs": [],
   "source": [
    "# structure info\n",
    "# structure methods"
   ]
  },
  {
   "cell_type": "code",
   "execution_count": 46,
   "id": "507abad7",
   "metadata": {},
   "outputs": [],
   "source": [
    "albert_dict = {\n",
    "    \"name\": \"Albert\",\n",
    "    \"fname\": \"Coca\",\n",
    "    \"age\": 30,\n",
    "    \"role\": \"career\",\n",
    "    \"greeting\": lambda : print(\"Hello there\"),\n",
    "    \"hobbies\": [\"surfing\", \"climbing\", \"surfing\"]\n",
    "}"
   ]
  },
  {
   "cell_type": "code",
   "execution_count": 47,
   "id": "a903c60c",
   "metadata": {},
   "outputs": [
    {
     "data": {
      "text/plain": [
       "'Albert'"
      ]
     },
     "execution_count": 47,
     "metadata": {},
     "output_type": "execute_result"
    }
   ],
   "source": [
    "albert_dict[\"name\"]"
   ]
  },
  {
   "cell_type": "code",
   "execution_count": 48,
   "id": "331246c7",
   "metadata": {},
   "outputs": [
    {
     "data": {
      "text/plain": [
       "['surfing', 'climbing', 'surfing']"
      ]
     },
     "execution_count": 48,
     "metadata": {},
     "output_type": "execute_result"
    }
   ],
   "source": [
    "albert_dict[\"hobbies\"]"
   ]
  },
  {
   "cell_type": "code",
   "execution_count": 49,
   "id": "4bfa2f8c",
   "metadata": {},
   "outputs": [],
   "source": [
    "laura_dict = {\n",
    "    \"name\": \"laura\",\n",
    "    \"fname\": \"molas\",\n",
    "    \"age\": 20,\n",
    "    \"role\": \"marketing\",\n",
    "    \"greeting\": lambda : print(\"Hello there\"),\n",
    "    \"hobbies\": [\"surfing\", \"climbing\", \"surfing\"]\n",
    "}"
   ]
  },
  {
   "cell_type": "code",
   "execution_count": 50,
   "id": "e15fb580",
   "metadata": {},
   "outputs": [
    {
     "data": {
      "text/plain": [
       "{'name': 'laura',\n",
       " 'fname': 'molas',\n",
       " 'age': 20,\n",
       " 'role': 'marketing',\n",
       " 'greeting': <function __main__.<lambda>()>,\n",
       " 'hobbies': ['surfing', 'climbing', 'surfing']}"
      ]
     },
     "execution_count": 50,
     "metadata": {},
     "output_type": "execute_result"
    }
   ],
   "source": [
    "laura_dict"
   ]
  },
  {
   "cell_type": "code",
   "execution_count": 51,
   "id": "b84167f9",
   "metadata": {},
   "outputs": [],
   "source": [
    "# REUSE CODE\n",
    "   # have it strucured "
   ]
  },
  {
   "cell_type": "code",
   "execution_count": null,
   "id": "0bacc7f2",
   "metadata": {},
   "outputs": [],
   "source": [
    "# fiat\n",
    "    # wheels: 4\n",
    "\n",
    "\n",
    "# ferrari\n",
    "    # wheels: 4"
   ]
  },
  {
   "cell_type": "markdown",
   "id": "dffb2147",
   "metadata": {},
   "source": [
    "### Self: "
   ]
  },
  {
   "cell_type": "markdown",
   "id": "0acb0ad3",
   "metadata": {
    "lang": "en"
   },
   "source": [
    "I leave you [here](https://realpython.com/python-pep8/#naming-styles) a realpython article about the conventions for naming things (by things I mean variables, classes, functions... code tidbits )\n",
    "The Python user community has adopted a style guide that makes code easier to read and consistent between different user programs. This guide is not mandatory to follow, but it is highly recommended."
   ]
  },
  {
   "cell_type": "markdown",
   "id": "23576dae",
   "metadata": {},
   "source": [
    "#### Defining a function"
   ]
  },
  {
   "cell_type": "code",
   "execution_count": 52,
   "id": "0f5e008e",
   "metadata": {},
   "outputs": [],
   "source": [
    "def addition (a, b): #define\n",
    "    pass"
   ]
  },
  {
   "cell_type": "markdown",
   "id": "0789adf6",
   "metadata": {},
   "source": [
    "#### Calling a function"
   ]
  },
  {
   "cell_type": "code",
   "execution_count": 53,
   "id": "45113184",
   "metadata": {},
   "outputs": [],
   "source": [
    "addition(1, 2) # call"
   ]
  },
  {
   "cell_type": "markdown",
   "id": "9e4ef398",
   "metadata": {},
   "source": [
    "#### Defining a class"
   ]
  },
  {
   "cell_type": "code",
   "execution_count": 67,
   "id": "9e07079d",
   "metadata": {},
   "outputs": [],
   "source": [
    "class Staff (): #create, convention -> capitalized\n",
    "    pass"
   ]
  },
  {
   "cell_type": "markdown",
   "id": "dda40dab",
   "metadata": {},
   "source": [
    "#### Instansiating a class"
   ]
  },
  {
   "cell_type": "code",
   "execution_count": 68,
   "id": "557c0438",
   "metadata": {},
   "outputs": [],
   "source": [
    "albert = Staff ()   #   instance"
   ]
  },
  {
   "cell_type": "code",
   "execution_count": 69,
   "id": "5981f320",
   "metadata": {},
   "outputs": [
    {
     "data": {
      "text/plain": [
       "__main__.Staff"
      ]
     },
     "execution_count": 69,
     "metadata": {},
     "output_type": "execute_result"
    }
   ],
   "source": [
    "type(albert)"
   ]
  },
  {
   "cell_type": "code",
   "execution_count": 70,
   "id": "4f7168dc",
   "metadata": {},
   "outputs": [
    {
     "data": {
      "text/plain": [
       "True"
      ]
     },
     "execution_count": 70,
     "metadata": {},
     "output_type": "execute_result"
    }
   ],
   "source": [
    "isinstance(albert, Staff)"
   ]
  },
  {
   "cell_type": "code",
   "execution_count": 71,
   "id": "2c6578b8",
   "metadata": {},
   "outputs": [
    {
     "data": {
      "text/plain": [
       "False"
      ]
     },
     "execution_count": 71,
     "metadata": {},
     "output_type": "execute_result"
    }
   ],
   "source": [
    "isinstance(laura, Staff)"
   ]
  },
  {
   "cell_type": "code",
   "execution_count": 72,
   "id": "c7d76f76",
   "metadata": {},
   "outputs": [
    {
     "data": {
      "text/plain": [
       "<__main__.Staff at 0x7fd7fc468e20>"
      ]
     },
     "execution_count": 72,
     "metadata": {},
     "output_type": "execute_result"
    }
   ],
   "source": [
    "albert"
   ]
  },
  {
   "cell_type": "markdown",
   "id": "be46cddd",
   "metadata": {},
   "source": [
    "### Exploring a class"
   ]
  },
  {
   "cell_type": "code",
   "execution_count": null,
   "id": "4ddf3167",
   "metadata": {},
   "outputs": [],
   "source": [
    "[i for i in dir(albert) if \"_\" not in i] #methods & internal python things\n",
    "# After I create methods in the Staff class -> albert will do things"
   ]
  },
  {
   "cell_type": "markdown",
   "id": "81f9ca3e",
   "metadata": {},
   "source": [
    "### Instance Attributes\n",
    "They contain data that is unique to each instance."
   ]
  },
  {
   "cell_type": "code",
   "execution_count": 75,
   "id": "26ad3d96",
   "metadata": {},
   "outputs": [
    {
     "data": {
      "text/plain": [
       "<__main__.Staff at 0x7fd7fc468e20>"
      ]
     },
     "execution_count": 75,
     "metadata": {},
     "output_type": "execute_result"
    }
   ],
   "source": [
    "# age\n",
    "\n",
    "albert"
   ]
  },
  {
   "cell_type": "code",
   "execution_count": 79,
   "id": "40892004",
   "metadata": {},
   "outputs": [],
   "source": [
    "albert.age = 20 # I'm saving something into a instance"
   ]
  },
  {
   "cell_type": "code",
   "execution_count": 85,
   "id": "0e0dd079",
   "metadata": {},
   "outputs": [
    {
     "data": {
      "text/plain": [
       "20"
      ]
     },
     "execution_count": 85,
     "metadata": {},
     "output_type": "execute_result"
    }
   ],
   "source": [
    "albert.age"
   ]
  },
  {
   "cell_type": "code",
   "execution_count": 80,
   "id": "c22f423e",
   "metadata": {},
   "outputs": [
    {
     "data": {
      "text/plain": [
       "<__main__.Staff at 0x7fd7fc468e20>"
      ]
     },
     "execution_count": 80,
     "metadata": {},
     "output_type": "execute_result"
    }
   ],
   "source": [
    "albert"
   ]
  },
  {
   "cell_type": "code",
   "execution_count": 81,
   "id": "247a5d5c",
   "metadata": {},
   "outputs": [
    {
     "data": {
      "text/plain": [
       "20"
      ]
     },
     "execution_count": 81,
     "metadata": {},
     "output_type": "execute_result"
    }
   ],
   "source": [
    "albert.age"
   ]
  },
  {
   "cell_type": "code",
   "execution_count": 82,
   "id": "c22645af",
   "metadata": {},
   "outputs": [],
   "source": [
    "albert.city = \"Mataró\""
   ]
  },
  {
   "cell_type": "code",
   "execution_count": 84,
   "id": "d982d776",
   "metadata": {},
   "outputs": [
    {
     "data": {
      "text/plain": [
       "{'age': 20, 'city': 'Mataró'}"
      ]
     },
     "execution_count": 84,
     "metadata": {},
     "output_type": "execute_result"
    }
   ],
   "source": [
    "albert.__dict__ #All the attributes he has"
   ]
  },
  {
   "cell_type": "code",
   "execution_count": null,
   "id": "d6a44785",
   "metadata": {},
   "outputs": [],
   "source": [
    "# Q: \n",
    "    # referenced happened before assignment\n",
    "        # b = ?\n",
    "    # I can create variables/attributes within a class\n",
    "        #albert.age = 10"
   ]
  },
  {
   "cell_type": "code",
   "execution_count": null,
   "id": "a6f48808",
   "metadata": {},
   "outputs": [],
   "source": [
    "\"\"\"\n",
    "class Staff ():\n",
    "\n",
    "    #attributes\n",
    "    name = name\n",
    "    role = something\n",
    "    age = 30\n",
    "    \n",
    "    \n",
    "    # methods\n",
    "    def say_hi (name):\n",
    "        return f\"How are you doing, my name is {name}\"\n",
    "        \n",
    "    def upper (name):\n",
    "        return f\"How are you doing, my name is {name}\"\n",
    "\n",
    "\"\"\"\n",
    "\n",
    "\n",
    "\"\"\"\n",
    "laura = Staff()\n",
    "albert = Staff()\n",
    "clara = Staff()\n",
    "\n",
    "albert.age -> 30\n",
    "laura.age -> 30\n",
    "clara.say_hi()\n",
    "\n",
    "\n",
    "albert.upper()\n",
    "\n",
    "\"\"\""
   ]
  },
  {
   "cell_type": "code",
   "execution_count": 86,
   "id": "f2cf4f4c",
   "metadata": {},
   "outputs": [
    {
     "data": {
      "text/plain": [
       "'THIS IS A STRING'"
      ]
     },
     "execution_count": 86,
     "metadata": {},
     "output_type": "execute_result"
    }
   ],
   "source": [
    "\"This is a string\".upper()"
   ]
  },
  {
   "cell_type": "code",
   "execution_count": 89,
   "id": "7af48efd",
   "metadata": {},
   "outputs": [
    {
     "data": {
      "text/plain": [
       "'sdsdsd'"
      ]
     },
     "execution_count": 89,
     "metadata": {},
     "output_type": "execute_result"
    }
   ],
   "source": [
    "a_new_string = \"sdsdsd\"\n",
    "a_new_string"
   ]
  },
  {
   "cell_type": "code",
   "execution_count": 90,
   "id": "1cf9adc3",
   "metadata": {},
   "outputs": [],
   "source": [
    "class Staff ():\n",
    "    pass"
   ]
  },
  {
   "cell_type": "code",
   "execution_count": 91,
   "id": "0b0e51f1",
   "metadata": {},
   "outputs": [],
   "source": [
    "laura = Staff ()"
   ]
  },
  {
   "cell_type": "code",
   "execution_count": 92,
   "id": "66cfff37",
   "metadata": {},
   "outputs": [],
   "source": [
    "laura.age = 20"
   ]
  },
  {
   "cell_type": "code",
   "execution_count": 93,
   "id": "a0793a0c",
   "metadata": {},
   "outputs": [],
   "source": [
    "clara = Staff ()"
   ]
  },
  {
   "cell_type": "code",
   "execution_count": 94,
   "id": "998966fb",
   "metadata": {},
   "outputs": [
    {
     "ename": "AttributeError",
     "evalue": "'Staff' object has no attribute 'age'",
     "output_type": "error",
     "traceback": [
      "\u001b[0;31m---------------------------------------------------------------------------\u001b[0m",
      "\u001b[0;31mAttributeError\u001b[0m                            Traceback (most recent call last)",
      "Input \u001b[0;32mIn [94]\u001b[0m, in \u001b[0;36m<cell line: 1>\u001b[0;34m()\u001b[0m\n\u001b[0;32m----> 1\u001b[0m \u001b[43mclara\u001b[49m\u001b[38;5;241;43m.\u001b[39;49m\u001b[43mage\u001b[49m\n",
      "\u001b[0;31mAttributeError\u001b[0m: 'Staff' object has no attribute 'age'"
     ]
    }
   ],
   "source": [
    "clara.age"
   ]
  },
  {
   "cell_type": "code",
   "execution_count": 95,
   "id": "e99d282d",
   "metadata": {
    "scrolled": true
   },
   "outputs": [
    {
     "data": {
      "text/plain": [
       "True"
      ]
     },
     "execution_count": 95,
     "metadata": {},
     "output_type": "execute_result"
    }
   ],
   "source": [
    "isinstance(laura, Staff)"
   ]
  },
  {
   "cell_type": "code",
   "execution_count": 96,
   "id": "e18a0f23",
   "metadata": {},
   "outputs": [
    {
     "data": {
      "text/plain": [
       "True"
      ]
     },
     "execution_count": 96,
     "metadata": {},
     "output_type": "execute_result"
    }
   ],
   "source": [
    "isinstance(clara, Staff)"
   ]
  },
  {
   "cell_type": "code",
   "execution_count": 97,
   "id": "dbb91f62",
   "metadata": {},
   "outputs": [],
   "source": [
    "# Staff\n",
    "# holidays: 30\n",
    "\n",
    "    # Marketing -> 30 holidays\n",
    "    # Teaching (belongs to staff)-> 25"
   ]
  },
  {
   "cell_type": "code",
   "execution_count": null,
   "id": "260beb87",
   "metadata": {},
   "outputs": [],
   "source": [
    "# laura.age = 30"
   ]
  },
  {
   "cell_type": "code",
   "execution_count": null,
   "id": "f54f1495",
   "metadata": {},
   "outputs": [],
   "source": []
  },
  {
   "cell_type": "code",
   "execution_count": null,
   "id": "e0eb148b",
   "metadata": {},
   "outputs": [],
   "source": [
    "\"\"\"\n",
    "CLASS, the concept of car; the concept of a string\n",
    "    VALUES -> attributes\n",
    "    FUNCTIONS -> methods\n",
    "    \n",
    "    \n",
    "BUILT-IN CLASSES \n",
    "USER- DEFINED CLASSES\n",
    "\n",
    "\n",
    "1. We can create our own classes\n",
    "2. Python is object-based\n",
    "\"\"\""
   ]
  },
  {
   "cell_type": "code",
   "execution_count": null,
   "id": "e12180c7",
   "metadata": {},
   "outputs": [],
   "source": [
    "#\"aaaa\".upper() -> works\n",
    "#8.upper() -> doesnt work"
   ]
  },
  {
   "cell_type": "markdown",
   "id": "39ed3781",
   "metadata": {
    "lang": "en"
   },
   "source": [
    "Instead of doing it one by one, we can create these variables each time an object is instantiated with the special `__init__` method. This function defines all the actions that should be performed when we create a new object. The reason we have two underscores before and after the function name is to indicate that this function is internal to the object and should not be called from outside the object."
   ]
  },
  {
   "cell_type": "code",
   "execution_count": 102,
   "id": "46dd9447",
   "metadata": {},
   "outputs": [],
   "source": [
    "class Staff ():\n",
    "    # name\n",
    "    # fname\n",
    "    # time_off\n",
    "    pass"
   ]
  },
  {
   "cell_type": "code",
   "execution_count": 135,
   "id": "62bb20a2",
   "metadata": {},
   "outputs": [],
   "source": [
    "class Staff ():\n",
    "    \n",
    "    def __init__ (self, name, fname): #__init__ needed -> new instances have the attrs\n",
    "        self.name = name\n",
    "        self.fname = fname\n",
    "    "
   ]
  },
  {
   "cell_type": "code",
   "execution_count": 136,
   "id": "67bcb40d",
   "metadata": {},
   "outputs": [],
   "source": [
    "albert = Staff(\"Albert\", \"Coca\")"
   ]
  },
  {
   "cell_type": "code",
   "execution_count": 137,
   "id": "d8c292ac",
   "metadata": {},
   "outputs": [
    {
     "data": {
      "text/plain": [
       "'Albert'"
      ]
     },
     "execution_count": 137,
     "metadata": {},
     "output_type": "execute_result"
    }
   ],
   "source": [
    "albert.name"
   ]
  },
  {
   "cell_type": "code",
   "execution_count": 138,
   "id": "ad47e344",
   "metadata": {},
   "outputs": [
    {
     "data": {
      "text/plain": [
       "'Coca'"
      ]
     },
     "execution_count": 138,
     "metadata": {},
     "output_type": "execute_result"
    }
   ],
   "source": [
    "albert.fname"
   ]
  },
  {
   "cell_type": "code",
   "execution_count": 139,
   "id": "9d1e7671",
   "metadata": {},
   "outputs": [
    {
     "data": {
      "text/plain": [
       "{'name': 'Albert', 'fname': 'Coca'}"
      ]
     },
     "execution_count": 139,
     "metadata": {},
     "output_type": "execute_result"
    }
   ],
   "source": [
    "albert.__dict__"
   ]
  },
  {
   "cell_type": "code",
   "execution_count": 140,
   "id": "ff206e7f",
   "metadata": {},
   "outputs": [],
   "source": [
    "info_albert = {\n",
    "    \"name\": \"Albert\",\n",
    "    \"age\": 30\n",
    "}"
   ]
  },
  {
   "cell_type": "code",
   "execution_count": 141,
   "id": "f9d9f0a5",
   "metadata": {},
   "outputs": [
    {
     "data": {
      "text/plain": [
       "30"
      ]
     },
     "execution_count": 141,
     "metadata": {},
     "output_type": "execute_result"
    }
   ],
   "source": [
    "info_albert[\"age\"]"
   ]
  },
  {
   "cell_type": "code",
   "execution_count": 226,
   "id": "50fd5364",
   "metadata": {},
   "outputs": [],
   "source": [
    "# Q: how do I set defaults?\n",
    "class Staff ():\n",
    "        \n",
    "    def __init__ (self, name, fname):\n",
    "        self.name = name.capitalize()\n",
    "        self.fname = fname\n",
    "        \n",
    "        # Default\n",
    "        self.time_off = 30\n",
    "        \n",
    "        #Default: as a result\n",
    "        self.email = self.name.lower() + \".\" + self.fname.lower() + \"@ironhack.com\"\n",
    "    "
   ]
  },
  {
   "cell_type": "code",
   "execution_count": 216,
   "id": "4959c9f4",
   "metadata": {},
   "outputs": [],
   "source": [
    "albert = Staff (\"albert\", \"Coca\")"
   ]
  },
  {
   "cell_type": "code",
   "execution_count": 221,
   "id": "38786ff8",
   "metadata": {},
   "outputs": [
    {
     "data": {
      "text/plain": [
       "'Albert'"
      ]
     },
     "execution_count": 221,
     "metadata": {},
     "output_type": "execute_result"
    }
   ],
   "source": [
    "albert.name"
   ]
  },
  {
   "cell_type": "code",
   "execution_count": 217,
   "id": "57cd32d5",
   "metadata": {},
   "outputs": [
    {
     "data": {
      "text/plain": [
       "30"
      ]
     },
     "execution_count": 217,
     "metadata": {},
     "output_type": "execute_result"
    }
   ],
   "source": [
    "albert.time_off"
   ]
  },
  {
   "cell_type": "code",
   "execution_count": 218,
   "id": "2611ff83",
   "metadata": {},
   "outputs": [],
   "source": [
    "#albert.time_off = 20"
   ]
  },
  {
   "cell_type": "code",
   "execution_count": 219,
   "id": "560ebaf1",
   "metadata": {
    "scrolled": true
   },
   "outputs": [
    {
     "data": {
      "text/plain": [
       "'albert.coca@ironhack.com'"
      ]
     },
     "execution_count": 219,
     "metadata": {},
     "output_type": "execute_result"
    }
   ],
   "source": [
    "albert.email"
   ]
  },
  {
   "cell_type": "code",
   "execution_count": 220,
   "id": "1cd2f7bb",
   "metadata": {},
   "outputs": [
    {
     "data": {
      "text/plain": [
       "'laura.molas@ironhack.com'"
      ]
     },
     "execution_count": 220,
     "metadata": {},
     "output_type": "execute_result"
    }
   ],
   "source": [
    "laura = Staff(\"Laura\", \"Molas\")\n",
    "laura.email"
   ]
  },
  {
   "cell_type": "code",
   "execution_count": 222,
   "id": "75dbae8b",
   "metadata": {},
   "outputs": [
    {
     "name": "stdout",
     "output_type": "stream",
     "text": [
      "30\n",
      "clara.fdz@ironhack.com\n"
     ]
    }
   ],
   "source": [
    "clara = Staff(\"Clara\", \"Fdz\")\n",
    "\n",
    "print(clara.time_off)\n",
    "print(clara.email)"
   ]
  },
  {
   "cell_type": "code",
   "execution_count": 223,
   "id": "b36fa1c7",
   "metadata": {},
   "outputs": [],
   "source": [
    "clara.age = 30"
   ]
  },
  {
   "cell_type": "code",
   "execution_count": 239,
   "id": "a27b1454",
   "metadata": {},
   "outputs": [
    {
     "data": {
      "text/plain": [
       "{'name': 'Clara',\n",
       " 'fname': 'Fdz',\n",
       " 'time_off': 30,\n",
       " 'email': 'clara.fdz@ironhack.com',\n",
       " 'age': 30}"
      ]
     },
     "execution_count": 239,
     "metadata": {},
     "output_type": "execute_result"
    }
   ],
   "source": [
    "new_variable = clara.__dict__\n",
    "new_variable"
   ]
  },
  {
   "cell_type": "code",
   "execution_count": 225,
   "id": "50aab533",
   "metadata": {},
   "outputs": [
    {
     "data": {
      "text/plain": [
       "{'name': 'Albert',\n",
       " 'fname': 'Coca',\n",
       " 'time_off': 30,\n",
       " 'email': 'albert.coca@ironhack.com'}"
      ]
     },
     "execution_count": 225,
     "metadata": {},
     "output_type": "execute_result"
    }
   ],
   "source": [
    "albert.__dict__"
   ]
  },
  {
   "cell_type": "code",
   "execution_count": 242,
   "id": "6d6ae953",
   "metadata": {},
   "outputs": [
    {
     "data": {
      "text/plain": [
       "['email', 'fname', 'name', 'time_off']"
      ]
     },
     "execution_count": 242,
     "metadata": {},
     "output_type": "execute_result"
    }
   ],
   "source": [
    "[i for i in dir(albert) if \"__\" not in i] #albert.__dict__"
   ]
  },
  {
   "cell_type": "code",
   "execution_count": 227,
   "id": "d48f08db",
   "metadata": {},
   "outputs": [
    {
     "name": "stdout",
     "output_type": "stream",
     "text": [
      "<class '__main__.Staff'>\n"
     ]
    }
   ],
   "source": [
    "print(Staff)"
   ]
  },
  {
   "cell_type": "code",
   "execution_count": 231,
   "id": "640a2467",
   "metadata": {
    "scrolled": true
   },
   "outputs": [
    {
     "data": {
      "text/plain": [
       "['__class__', '__delattr__', '__dict__', '__dir__']"
      ]
     },
     "execution_count": 231,
     "metadata": {},
     "output_type": "execute_result"
    }
   ],
   "source": [
    "[i for i in dir(Staff)][:4] #first four ones"
   ]
  },
  {
   "cell_type": "code",
   "execution_count": 235,
   "id": "f76d6d18",
   "metadata": {},
   "outputs": [
    {
     "data": {
      "text/plain": [
       "['time_off',\n",
       " 'email',\n",
       " '__str__',\n",
       " '__repr__',\n",
       " '__new__',\n",
       " '__lt__',\n",
       " '__init__',\n",
       " '__getattribute__',\n",
       " '__eq__',\n",
       " '__dict__']"
      ]
     },
     "execution_count": 235,
     "metadata": {},
     "output_type": "execute_result"
    }
   ],
   "source": [
    "[i for i in dir(albert)][::-3]"
   ]
  },
  {
   "cell_type": "code",
   "execution_count": 236,
   "id": "f27056ec",
   "metadata": {},
   "outputs": [],
   "source": [
    "# Q: can I see every instance of a class?"
   ]
  },
  {
   "cell_type": "code",
   "execution_count": 202,
   "id": "0cde3de4",
   "metadata": {},
   "outputs": [
    {
     "data": {
      "text/plain": [
       "'\\n#Q: scope of functions\\n\\n#\\xa0Outter -> inner\\n\\nthe_num = 10\\ndef addition (a, b):\\n    return a + b * the_num\\n#\\xa0Inner -> outeer no\\n'"
      ]
     },
     "execution_count": 202,
     "metadata": {},
     "output_type": "execute_result"
    }
   ],
   "source": [
    "\"\"\"\n",
    "#Q: scope of functions\n",
    "\n",
    "# Outter -> inner\n",
    "\n",
    "the_num = 10\n",
    "def addition (a, b):\n",
    "    return a + b * the_num\n",
    "# Inner -> outeer no\n",
    "\"\"\""
   ]
  },
  {
   "cell_type": "code",
   "execution_count": 203,
   "id": "780e41f4",
   "metadata": {},
   "outputs": [],
   "source": [
    "#Q: \n",
    "#A: good practiec is that imports at very beginning and \n",
    "#always outside\n",
    "import math\n",
    "\n",
    "def some_function (some_value):\n",
    "    result = math.pi * 2 * some_value\n",
    "    return result"
   ]
  },
  {
   "cell_type": "code",
   "execution_count": 167,
   "id": "3d20a954",
   "metadata": {},
   "outputs": [
    {
     "data": {
      "text/plain": [
       "18.84955592153876"
      ]
     },
     "execution_count": 167,
     "metadata": {},
     "output_type": "execute_result"
    }
   ],
   "source": [
    "some_function(3)"
   ]
  },
  {
   "cell_type": "code",
   "execution_count": 300,
   "id": "d222a5c6",
   "metadata": {},
   "outputs": [],
   "source": [
    "class Staff ():\n",
    "        \n",
    "    def __init__ (self, name, fname):\n",
    "        self.name = name.capitalize()\n",
    "        self.fname = fname\n",
    "        \n",
    "        # Default\n",
    "        self.time_off = 30\n",
    "        \n",
    "        #Default: as a result\n",
    "        self.email = self.name.lower() + \".\" + self.fname.lower() + \"@ironhack.com\"\n",
    "        \n",
    "    \n",
    "    def introduce (self):\n",
    "        return f\"Hello, my name is {self.name}!\"\n",
    "    "
   ]
  },
  {
   "cell_type": "code",
   "execution_count": 293,
   "id": "63528de6",
   "metadata": {},
   "outputs": [],
   "source": [
    "albert = Staff(\"Albert\", \"Coca\") # this runs the __init__"
   ]
  },
  {
   "cell_type": "code",
   "execution_count": 294,
   "id": "e23a224f",
   "metadata": {},
   "outputs": [
    {
     "data": {
      "text/plain": [
       "'Hello, my name is Albert!'"
      ]
     },
     "execution_count": 294,
     "metadata": {},
     "output_type": "execute_result"
    }
   ],
   "source": [
    "albert.introduce()"
   ]
  },
  {
   "cell_type": "code",
   "execution_count": 295,
   "id": "86420fb7",
   "metadata": {},
   "outputs": [],
   "source": [
    "albert.age = 40"
   ]
  },
  {
   "cell_type": "code",
   "execution_count": 299,
   "id": "e2b70636",
   "metadata": {},
   "outputs": [
    {
     "data": {
      "text/plain": [
       "{'name': 'Albert',\n",
       " 'fname': 'Coca',\n",
       " 'time_off': 30,\n",
       " 'email': 'albert.coca@ironhack.com',\n",
       " 'age': 40}"
      ]
     },
     "execution_count": 299,
     "metadata": {},
     "output_type": "execute_result"
    }
   ],
   "source": [
    "albert.__dict__"
   ]
  },
  {
   "cell_type": "code",
   "execution_count": 296,
   "id": "1137ad94",
   "metadata": {},
   "outputs": [],
   "source": [
    "lara = Staff(\"laura\", \"molas\")"
   ]
  },
  {
   "cell_type": "code",
   "execution_count": 297,
   "id": "65b94e25",
   "metadata": {},
   "outputs": [
    {
     "data": {
      "text/plain": [
       "'laura.molas@ironhack.com'"
      ]
     },
     "execution_count": 297,
     "metadata": {},
     "output_type": "execute_result"
    }
   ],
   "source": [
    "lara.email"
   ]
  },
  {
   "cell_type": "code",
   "execution_count": 298,
   "id": "6b5c890a",
   "metadata": {
    "scrolled": true
   },
   "outputs": [
    {
     "data": {
      "text/plain": [
       "'Hello, my name is Laura!'"
      ]
     },
     "execution_count": 298,
     "metadata": {},
     "output_type": "execute_result"
    }
   ],
   "source": [
    "lara.introduce()"
   ]
  },
  {
   "cell_type": "code",
   "execution_count": 255,
   "id": "0c313133",
   "metadata": {},
   "outputs": [
    {
     "data": {
      "text/plain": [
       "'ASSDSR'"
      ]
     },
     "execution_count": 255,
     "metadata": {},
     "output_type": "execute_result"
    }
   ],
   "source": [
    "\"assdsr\".upper()"
   ]
  },
  {
   "cell_type": "code",
   "execution_count": 412,
   "id": "797cab7f",
   "metadata": {},
   "outputs": [],
   "source": [
    "class Staff ():\n",
    "        \n",
    "    def __init__ (self, name, fname):\n",
    "        self.name = name.capitalize()\n",
    "        self.fname = fname\n",
    "        \n",
    "        # Default\n",
    "        self.time_off = 20\n",
    "        \n",
    "        #Default: as a result\n",
    "        self.email = self.name.lower() + \".\" + self.fname.lower() + \"@ironhack.com\"\n",
    "        \n",
    "    \n",
    "    def introduce (self):\n",
    "        return f\"Hello, my name is {self.name}!\"\n",
    "    \n",
    "    def takes_days_off (self):\n",
    "        if self.time_off > 0:\n",
    "            self.time_off -= 1\n",
    "            return f\"Now you have {self.time_off} days off available\"\n",
    "        else:\n",
    "            return f\"Sorry, you ran out of days\""
   ]
  },
  {
   "cell_type": "code",
   "execution_count": 413,
   "id": "11567c52",
   "metadata": {},
   "outputs": [],
   "source": [
    "albert = Staff (\"Albert\", \"Coca\")"
   ]
  },
  {
   "cell_type": "code",
   "execution_count": 414,
   "id": "187c02bd",
   "metadata": {},
   "outputs": [
    {
     "data": {
      "text/plain": [
       "'Hello, my name is Albert!'"
      ]
     },
     "execution_count": 414,
     "metadata": {},
     "output_type": "execute_result"
    }
   ],
   "source": [
    "albert.introduce()"
   ]
  },
  {
   "cell_type": "code",
   "execution_count": 435,
   "id": "1233b479",
   "metadata": {},
   "outputs": [
    {
     "data": {
      "text/plain": [
       "'Sorry, you ran out of days'"
      ]
     },
     "execution_count": 435,
     "metadata": {},
     "output_type": "execute_result"
    }
   ],
   "source": [
    "albert.takes_days_off()"
   ]
  },
  {
   "cell_type": "code",
   "execution_count": 437,
   "id": "de763c26",
   "metadata": {},
   "outputs": [],
   "source": [
    "laura = Staff (\"Laura\", \"Molas\")"
   ]
  },
  {
   "cell_type": "code",
   "execution_count": 438,
   "id": "286f03b2",
   "metadata": {},
   "outputs": [
    {
     "data": {
      "text/plain": [
       "'Now you have 19 days off available'"
      ]
     },
     "execution_count": 438,
     "metadata": {},
     "output_type": "execute_result"
    }
   ],
   "source": [
    "laura.takes_days_off()"
   ]
  },
  {
   "cell_type": "code",
   "execution_count": null,
   "id": "1f8e8dca",
   "metadata": {},
   "outputs": [],
   "source": [
    "class Staff ():\n",
    "        \n",
    "    def __init__ (self, name, fname):\n",
    "        self.name = name.capitalize()\n",
    "        self.fname = fname\n",
    "        \n",
    "        # Default\n",
    "        self.time_off = 20\n",
    "        \n",
    "        #Default: as a result\n",
    "        self.email = self.name.lower() + \".\" + self.fname.lower() + \"@ironhack.com\"\n",
    "        \n",
    "    \n",
    "    def introduce (self):\n",
    "        return f\"Hello, my name is {self.name}!\"\n",
    "    \n",
    "    def takes_days_off (self, number):\n",
    "        if self.time_off > 0:\n",
    "            self.time_off -= 1\n",
    "            return f\"Now you have {self.time_off} days off available\"\n",
    "        else:\n",
    "            return f\"Sorry, you ran out of days\"\n",
    "    "
   ]
  },
  {
   "cell_type": "code",
   "execution_count": 447,
   "id": "f56bb80e",
   "metadata": {},
   "outputs": [],
   "source": [
    "days = 20\n",
    "def takes_days_off (days, *number):\n",
    "    if number:\n",
    "        days -= number[0]\n",
    "    else:\n",
    "        days -= 1\n",
    "        return f\"Now you have {days} days off available\""
   ]
  },
  {
   "cell_type": "code",
   "execution_count": 457,
   "id": "6fcb7d55",
   "metadata": {},
   "outputs": [
    {
     "data": {
      "text/plain": [
       "'Now you have 19 days off available'"
      ]
     },
     "execution_count": 457,
     "metadata": {},
     "output_type": "execute_result"
    }
   ],
   "source": [
    "takes_days_off (days) #if I don't pass (if)"
   ]
  },
  {
   "cell_type": "code",
   "execution_count": 458,
   "id": "e2873e59",
   "metadata": {},
   "outputs": [],
   "source": [
    "takes_days_off (days, 5) #if I pass (else)"
   ]
  },
  {
   "cell_type": "code",
   "execution_count": 579,
   "id": "a66683ad",
   "metadata": {},
   "outputs": [],
   "source": [
    "class Staff ():\n",
    "        \n",
    "    def __init__ (self, name, fname):\n",
    "        self.name = name.capitalize()\n",
    "        self.fname = fname\n",
    "        \n",
    "        # Default\n",
    "        self.time_off = 20\n",
    "        \n",
    "        #Default: as a result\n",
    "        self.email = self.name.lower() + \".\" + self.fname.lower() + \"@ironhack.com\"\n",
    "        \n",
    "        self.hobbies = []\n",
    "        \n",
    "    \n",
    "    def introduce (self):\n",
    "        return f\"Hello, my name is {self.name}!\"\n",
    "    \n",
    "    def takes_days_off (self, number):\n",
    "        if self.time_off > 0:\n",
    "            self.time_off -= 1\n",
    "            return f\"Now you have {self.time_off} days off available\"\n",
    "        else:\n",
    "            return f\"Sorry, you ran out of days\"\n",
    "    \n",
    "    def hobbies_function (self, *hob): #passing an optional argument\n",
    "        if hob:\n",
    "            for i in hob:\n",
    "                self.hobbies.append(i)\n",
    "                print(f\"We added: {self.hobbies[-1]}\")\n",
    "            return self.hobbies_function()\n",
    "        else:\n",
    "            new = \", \".join([i for i in self.hobbies])\n",
    "            return f\"My hobbies are: {new}\"\n"
   ]
  },
  {
   "cell_type": "code",
   "execution_count": null,
   "id": "f0f800a1",
   "metadata": {},
   "outputs": [],
   "source": [
    "#Q:\n",
    "#[(1, 2), (1, 3), (4, 6)]\n",
    "#(\"reading\", \"climbing\",)\n",
    "#list(zip(elements))"
   ]
  },
  {
   "cell_type": "code",
   "execution_count": 576,
   "id": "87a9c36e",
   "metadata": {},
   "outputs": [],
   "source": [
    "albert = Staff (\"Albert\", \"Coca\")"
   ]
  },
  {
   "cell_type": "code",
   "execution_count": 578,
   "id": "aecb82c4",
   "metadata": {},
   "outputs": [
    {
     "name": "stdout",
     "output_type": "stream",
     "text": [
      "We added: reading\n",
      "We added: climbing\n"
     ]
    },
    {
     "data": {
      "text/plain": [
       "'My hobbies are: reading, climbing'"
      ]
     },
     "execution_count": 578,
     "metadata": {},
     "output_type": "execute_result"
    }
   ],
   "source": [
    "albert.hobbies_function(\"reading\",\"climbing\")"
   ]
  },
  {
   "cell_type": "code",
   "execution_count": 583,
   "id": "5b2a72ae",
   "metadata": {},
   "outputs": [
    {
     "data": {
      "text/plain": [
       "'Now you have 18 days off available'"
      ]
     },
     "execution_count": 583,
     "metadata": {},
     "output_type": "execute_result"
    }
   ],
   "source": [
    "albert.takes_days_off(1)"
   ]
  },
  {
   "cell_type": "code",
   "execution_count": 584,
   "id": "c0f4b60b",
   "metadata": {},
   "outputs": [
    {
     "data": {
      "text/plain": [
       "18"
      ]
     },
     "execution_count": 584,
     "metadata": {},
     "output_type": "execute_result"
    }
   ],
   "source": [
    "albert.time_off"
   ]
  },
  {
   "cell_type": "code",
   "execution_count": 585,
   "id": "2afe7a13",
   "metadata": {},
   "outputs": [
    {
     "data": {
      "text/plain": [
       "['email', 'fname', 'hobbies', 'introduce', 'name']"
      ]
     },
     "execution_count": 585,
     "metadata": {},
     "output_type": "execute_result"
    }
   ],
   "source": [
    "[i for i in dir(albert) if \"_\" not in i]"
   ]
  },
  {
   "cell_type": "code",
   "execution_count": 590,
   "id": "dfd4ae5b",
   "metadata": {},
   "outputs": [],
   "source": [
    "import pandas as pd\n",
    "\n",
    "df = pd.DataFrame([[4, 9]] * 3, columns= [\"A\", \"B\"]) "
   ]
  },
  {
   "cell_type": "code",
   "execution_count": 601,
   "id": "2044e69c",
   "metadata": {},
   "outputs": [],
   "source": [
    "#[i for i in dir(df) if \"_\" not in i]"
   ]
  },
  {
   "cell_type": "code",
   "execution_count": 602,
   "id": "52044a94",
   "metadata": {},
   "outputs": [
    {
     "data": {
      "text/plain": [
       "(3, 2)"
      ]
     },
     "execution_count": 602,
     "metadata": {},
     "output_type": "execute_result"
    }
   ],
   "source": [
    "df.shape"
   ]
  },
  {
   "cell_type": "code",
   "execution_count": 604,
   "id": "f875f66f",
   "metadata": {},
   "outputs": [
    {
     "data": {
      "text/plain": [
       "(3, 2)"
      ]
     },
     "execution_count": 604,
     "metadata": {},
     "output_type": "execute_result"
    }
   ],
   "source": [
    "class DataFrame ():\n",
    "    pass\n",
    "\n",
    "\n",
    "df = DataFrame(\"my_file.csv\")\n",
    "df.shape"
   ]
  },
  {
   "cell_type": "code",
   "execution_count": 609,
   "id": "d1b777c0",
   "metadata": {},
   "outputs": [
    {
     "data": {
      "text/plain": [
       "(200, 4)"
      ]
     },
     "execution_count": 609,
     "metadata": {},
     "output_type": "execute_result"
    }
   ],
   "source": [
    "import pandas as pd\n",
    "df = pd.read_csv(\"../datasets/Advertising.csv\")\n",
    "df.shape"
   ]
  },
  {
   "cell_type": "code",
   "execution_count": 591,
   "id": "31e4af93",
   "metadata": {},
   "outputs": [
    {
     "data": {
      "text/html": [
       "<div>\n",
       "<style scoped>\n",
       "    .dataframe tbody tr th:only-of-type {\n",
       "        vertical-align: middle;\n",
       "    }\n",
       "\n",
       "    .dataframe tbody tr th {\n",
       "        vertical-align: top;\n",
       "    }\n",
       "\n",
       "    .dataframe thead th {\n",
       "        text-align: right;\n",
       "    }\n",
       "</style>\n",
       "<table border=\"1\" class=\"dataframe\">\n",
       "  <thead>\n",
       "    <tr style=\"text-align: right;\">\n",
       "      <th></th>\n",
       "      <th>A</th>\n",
       "      <th>B</th>\n",
       "    </tr>\n",
       "  </thead>\n",
       "  <tbody>\n",
       "    <tr>\n",
       "      <th>0</th>\n",
       "      <td>4</td>\n",
       "      <td>9</td>\n",
       "    </tr>\n",
       "    <tr>\n",
       "      <th>1</th>\n",
       "      <td>4</td>\n",
       "      <td>9</td>\n",
       "    </tr>\n",
       "    <tr>\n",
       "      <th>2</th>\n",
       "      <td>4</td>\n",
       "      <td>9</td>\n",
       "    </tr>\n",
       "  </tbody>\n",
       "</table>\n",
       "</div>"
      ],
      "text/plain": [
       "   A  B\n",
       "0  4  9\n",
       "1  4  9\n",
       "2  4  9"
      ]
     },
     "execution_count": 591,
     "metadata": {},
     "output_type": "execute_result"
    }
   ],
   "source": [
    "df"
   ]
  },
  {
   "cell_type": "code",
   "execution_count": 593,
   "id": "dbac19fd",
   "metadata": {},
   "outputs": [
    {
     "data": {
      "text/plain": [
       "['A', 'B']"
      ]
     },
     "execution_count": 593,
     "metadata": {},
     "output_type": "execute_result"
    }
   ],
   "source": [
    "list(df.columns)"
   ]
  },
  {
   "cell_type": "code",
   "execution_count": 596,
   "id": "bae66ca1",
   "metadata": {},
   "outputs": [],
   "source": [
    "df.rename(columns = {\"A\": \"First\", \"B\":\"Second\"}, inplace=True)"
   ]
  },
  {
   "cell_type": "code",
   "execution_count": 598,
   "id": "98d12fac",
   "metadata": {},
   "outputs": [],
   "source": [
    "df.columns = [\"la primera\", \"la segunda\"]"
   ]
  },
  {
   "cell_type": "code",
   "execution_count": 599,
   "id": "fc65a794",
   "metadata": {},
   "outputs": [
    {
     "data": {
      "text/html": [
       "<div>\n",
       "<style scoped>\n",
       "    .dataframe tbody tr th:only-of-type {\n",
       "        vertical-align: middle;\n",
       "    }\n",
       "\n",
       "    .dataframe tbody tr th {\n",
       "        vertical-align: top;\n",
       "    }\n",
       "\n",
       "    .dataframe thead th {\n",
       "        text-align: right;\n",
       "    }\n",
       "</style>\n",
       "<table border=\"1\" class=\"dataframe\">\n",
       "  <thead>\n",
       "    <tr style=\"text-align: right;\">\n",
       "      <th></th>\n",
       "      <th>la primera</th>\n",
       "      <th>la segunda</th>\n",
       "    </tr>\n",
       "  </thead>\n",
       "  <tbody>\n",
       "    <tr>\n",
       "      <th>0</th>\n",
       "      <td>4</td>\n",
       "      <td>9</td>\n",
       "    </tr>\n",
       "    <tr>\n",
       "      <th>1</th>\n",
       "      <td>4</td>\n",
       "      <td>9</td>\n",
       "    </tr>\n",
       "    <tr>\n",
       "      <th>2</th>\n",
       "      <td>4</td>\n",
       "      <td>9</td>\n",
       "    </tr>\n",
       "  </tbody>\n",
       "</table>\n",
       "</div>"
      ],
      "text/plain": [
       "   la primera  la segunda\n",
       "0           4           9\n",
       "1           4           9\n",
       "2           4           9"
      ]
     },
     "execution_count": 599,
     "metadata": {},
     "output_type": "execute_result"
    }
   ],
   "source": [
    "df"
   ]
  },
  {
   "cell_type": "code",
   "execution_count": 597,
   "id": "13df459d",
   "metadata": {},
   "outputs": [
    {
     "data": {
      "text/plain": [
       "['First', 'Second']"
      ]
     },
     "execution_count": 597,
     "metadata": {},
     "output_type": "execute_result"
    }
   ],
   "source": [
    "list(df.columns)"
   ]
  },
  {
   "cell_type": "code",
   "execution_count": null,
   "id": "539b55dc",
   "metadata": {},
   "outputs": [],
   "source": []
  },
  {
   "cell_type": "code",
   "execution_count": null,
   "id": "f61f2cad",
   "metadata": {},
   "outputs": [],
   "source": []
  },
  {
   "cell_type": "code",
   "execution_count": null,
   "id": "f4fbba16",
   "metadata": {},
   "outputs": [],
   "source": []
  },
  {
   "cell_type": "code",
   "execution_count": 519,
   "id": "bb01f0f7",
   "metadata": {},
   "outputs": [],
   "source": [
    "#Q: modifiying a variable outside through a function\n",
    "number = 10\n",
    "\n",
    "def value (number):\n",
    "    return  number * 1000 + 2/3\n",
    "\n",
    "modified_value = value(number)"
   ]
  },
  {
   "cell_type": "code",
   "execution_count": 464,
   "id": "61c47eed",
   "metadata": {},
   "outputs": [
    {
     "data": {
      "text/plain": [
       "'Hello'"
      ]
     },
     "execution_count": 464,
     "metadata": {},
     "output_type": "execute_result"
    }
   ],
   "source": [
    "outside_variable"
   ]
  },
  {
   "cell_type": "code",
   "execution_count": null,
   "id": "91f799b2",
   "metadata": {},
   "outputs": [],
   "source": [
    "albert.hobbies() #shows the hobbies"
   ]
  },
  {
   "cell_type": "code",
   "execution_count": null,
   "id": "27bb0ad4",
   "metadata": {},
   "outputs": [],
   "source": [
    "albert.hobbies(\"surfing\")"
   ]
  },
  {
   "cell_type": "code",
   "execution_count": null,
   "id": "4c07e481",
   "metadata": {},
   "outputs": [],
   "source": []
  },
  {
   "cell_type": "code",
   "execution_count": null,
   "id": "6e63b3ea",
   "metadata": {},
   "outputs": [],
   "source": []
  },
  {
   "cell_type": "code",
   "execution_count": null,
   "id": "b8d885ec",
   "metadata": {},
   "outputs": [],
   "source": []
  },
  {
   "cell_type": "code",
   "execution_count": null,
   "id": "fe053da2",
   "metadata": {},
   "outputs": [],
   "source": []
  },
  {
   "cell_type": "code",
   "execution_count": null,
   "id": "7d89f3b3",
   "metadata": {},
   "outputs": [],
   "source": []
  },
  {
   "cell_type": "markdown",
   "id": "a9b11397",
   "metadata": {
    "lang": "en"
   },
   "source": [
    "What does self do? It indicates that the data we are entering is for the object we are creating."
   ]
  },
  {
   "cell_type": "code",
   "execution_count": null,
   "id": "273d458e",
   "metadata": {},
   "outputs": [],
   "source": []
  },
  {
   "cell_type": "markdown",
   "id": "8751e24c",
   "metadata": {
    "lang": "en"
   },
   "source": [
    "#### Default attributes\n",
    "\n",
    "We can initialize the attributes with a default value in case later, when creating the instances, the user or ourselves do not put anything in any of the attributes"
   ]
  },
  {
   "cell_type": "code",
   "execution_count": null,
   "id": "755ea01e",
   "metadata": {},
   "outputs": [],
   "source": []
  },
  {
   "cell_type": "markdown",
   "id": "0ce1eb62",
   "metadata": {
    "lang": "en"
   },
   "source": [
    "### Instance Methods"
   ]
  },
  {
   "cell_type": "code",
   "execution_count": null,
   "id": "7f3ecad3",
   "metadata": {},
   "outputs": [],
   "source": []
  },
  {
   "cell_type": "markdown",
   "id": "3b7de249",
   "metadata": {
    "lang": "en"
   },
   "source": [
    "They are functions within the classes that will save us a lot of time"
   ]
  },
  {
   "cell_type": "code",
   "execution_count": null,
   "id": "5c9fef82",
   "metadata": {},
   "outputs": [],
   "source": []
  },
  {
   "cell_type": "markdown",
   "id": "fdda9183",
   "metadata": {},
   "source": [
    "_⚠️:  Target variables when instantiaing, ingnoring defaults?_"
   ]
  },
  {
   "cell_type": "code",
   "execution_count": null,
   "id": "aa27d407",
   "metadata": {},
   "outputs": [],
   "source": []
  },
  {
   "cell_type": "markdown",
   "id": "c584762d",
   "metadata": {
    "lang": "en"
   },
   "source": [
    "**watch out** 👀\n",
    "If we modify a class and add attributes or methods, we have to recreate the object so that it is initialized with those attributes and has those methods."
   ]
  },
  {
   "cell_type": "markdown",
   "id": "b6c1dbd0",
   "metadata": {
    "lang": "en"
   },
   "source": [
    "#### Python is built with objects\n",
    "In Python primitive data types are also objects that have associated attributes and methods."
   ]
  },
  {
   "cell_type": "code",
   "execution_count": null,
   "id": "d7a7a599",
   "metadata": {},
   "outputs": [],
   "source": []
  },
  {
   "cell_type": "markdown",
   "id": "e6af3733",
   "metadata": {
    "lang": "en"
   },
   "source": [
    "Whenever we do .something, it is because we are calling the methods/attributes of that class"
   ]
  },
  {
   "cell_type": "markdown",
   "id": "2b7c965f",
   "metadata": {
    "lang": "en"
   },
   "source": [
    "### Class variables"
   ]
  },
  {
   "cell_type": "code",
   "execution_count": null,
   "id": "e55d6664",
   "metadata": {},
   "outputs": [],
   "source": []
  },
  {
   "cell_type": "markdown",
   "id": "2a28ab69",
   "metadata": {
    "lang": "en"
   },
   "source": [
    "In general, class attributes should not be used, except to store constant values."
   ]
  },
  {
   "cell_type": "markdown",
   "id": "9ad7387e",
   "metadata": {
    "lang": "en"
   },
   "source": [
    "**Exercise**\n",
    "\n",
    "Create a class `Circle` with:\n",
    "- radius as instance/object variable\n",
    "- pi (math.pi) as class variable\n",
    "- a compute_area(self) method that returns the area of ​​the \"circle\" object"
   ]
  },
  {
   "cell_type": "code",
   "execution_count": 617,
   "id": "e0cef404",
   "metadata": {},
   "outputs": [
    {
     "data": {
      "text/plain": [
       "78.5"
      ]
     },
     "execution_count": 617,
     "metadata": {},
     "output_type": "execute_result"
    }
   ],
   "source": [
    "# Gerard\n",
    "\n",
    "class Circle ():\n",
    "\n",
    "    def __init__(self, radius):\n",
    "        self.radius = radius\n",
    "        self.PI = 3.14\n",
    "        \n",
    "    def calculate_area (self):\n",
    "        return self.PI*self.radius**2\n",
    "    \n",
    "    \n",
    "gerard_circle = Circle(5)\n",
    "gerard_circle.calculate_area()"
   ]
  },
  {
   "cell_type": "code",
   "execution_count": 626,
   "id": "c640c37a",
   "metadata": {},
   "outputs": [
    {
     "ename": "NameError",
     "evalue": "name 'PI' is not defined",
     "output_type": "error",
     "traceback": [
      "\u001b[0;31m---------------------------------------------------------------------------\u001b[0m",
      "\u001b[0;31mNameError\u001b[0m                                 Traceback (most recent call last)",
      "Input \u001b[0;32mIn [626]\u001b[0m, in \u001b[0;36m<cell line: 1>\u001b[0;34m()\u001b[0m\n\u001b[0;32m----> 1\u001b[0m \u001b[43mPI\u001b[49m\n",
      "\u001b[0;31mNameError\u001b[0m: name 'PI' is not defined"
     ]
    }
   ],
   "source": [
    "#PI"
   ]
  },
  {
   "cell_type": "code",
   "execution_count": 630,
   "id": "2895c086",
   "metadata": {},
   "outputs": [],
   "source": [
    "# Andrés\n",
    "\n",
    "class Circle ():\n",
    "    \n",
    "    PI = math.pi\n",
    "    \n",
    "    def __init__ (self, radius): \n",
    "        self.radius = radius\n",
    "    \n",
    "    def calculate_area (self):\n",
    "        return self.PI*(self.radius**2)"
   ]
  },
  {
   "cell_type": "code",
   "execution_count": 634,
   "id": "fba458a4",
   "metadata": {},
   "outputs": [
    {
     "data": {
      "text/plain": [
       "str"
      ]
     },
     "execution_count": 634,
     "metadata": {},
     "output_type": "execute_result"
    }
   ],
   "source": [
    "type(\"dsdsd\")"
   ]
  },
  {
   "cell_type": "code",
   "execution_count": null,
   "id": "e659ba76",
   "metadata": {},
   "outputs": [],
   "source": [
    "Circle()"
   ]
  },
  {
   "cell_type": "code",
   "execution_count": 633,
   "id": "18a95819",
   "metadata": {},
   "outputs": [
    {
     "data": {
      "text/plain": [
       "201.06192982974676"
      ]
     },
     "execution_count": 633,
     "metadata": {},
     "output_type": "execute_result"
    }
   ],
   "source": [
    "dani_circle = Circle(8)\n",
    "dani_circle.calculate_area()"
   ]
  },
  {
   "cell_type": "code",
   "execution_count": null,
   "id": "6acd3f01",
   "metadata": {},
   "outputs": [],
   "source": []
  },
  {
   "cell_type": "code",
   "execution_count": 627,
   "id": "f8af6746",
   "metadata": {},
   "outputs": [],
   "source": [
    "def greeting (name):\n",
    "    return f\"Hello {name}\"\n",
    "greeting(\"Nerea\")"
   ]
  },
  {
   "cell_type": "code",
   "execution_count": 629,
   "id": "5f1c5451",
   "metadata": {},
   "outputs": [
    {
     "data": {
      "text/plain": [
       "'SDSD'"
      ]
     },
     "execution_count": 629,
     "metadata": {},
     "output_type": "execute_result"
    }
   ],
   "source": [
    "\"aaaaaaaa\".upper()\n",
    "\n",
    "class Estring():\n",
    "    def __init__(self):\n",
    "        pass\n",
    "    \n",
    "    def upper (\"aaaaaaaa\"):\n",
    "        return \"aaaaaaaa\".radius"
   ]
  },
  {
   "cell_type": "code",
   "execution_count": null,
   "id": "079e3f03",
   "metadata": {},
   "outputs": [],
   "source": [
    "albert = {\n",
    "    \"age\":30\n",
    "}"
   ]
  },
  {
   "cell_type": "code",
   "execution_count": null,
   "id": "d7343b54",
   "metadata": {},
   "outputs": [],
   "source": [
    "albert[\"age\"]"
   ]
  },
  {
   "cell_type": "code",
   "execution_count": null,
   "id": "d881c315",
   "metadata": {},
   "outputs": [],
   "source": []
  },
  {
   "cell_type": "code",
   "execution_count": 624,
   "id": "dfa5b758",
   "metadata": {},
   "outputs": [
    {
     "data": {
      "text/plain": [
       "0.0"
      ]
     },
     "execution_count": 624,
     "metadata": {},
     "output_type": "execute_result"
    }
   ],
   "source": [
    "another_circle = Circle()\n",
    "another_circle.calculate_area()"
   ]
  },
  {
   "cell_type": "code",
   "execution_count": 625,
   "id": "6f262097",
   "metadata": {},
   "outputs": [
    {
     "data": {
      "text/plain": [
       "12.566370614359172"
      ]
     },
     "execution_count": 625,
     "metadata": {},
     "output_type": "execute_result"
    }
   ],
   "source": [
    "another_circle_2 = Circle(2)\n",
    "another_circle_2.calculate_area()"
   ]
  },
  {
   "cell_type": "code",
   "execution_count": null,
   "id": "458b135c",
   "metadata": {},
   "outputs": [],
   "source": []
  },
  {
   "cell_type": "code",
   "execution_count": null,
   "id": "5794196c",
   "metadata": {},
   "outputs": [],
   "source": [
    "import math\n",
    "\n",
    "class circle_change ():\n",
    "    \n",
    "    PI = math.pi\n",
    "    \n",
    "    def __init__ (self, name, fname): \n",
    "        self.name = name\n",
    "        self.fname = fname\n",
    "        \n",
    "        self.time_off = 30\n",
    "    "
   ]
  },
  {
   "cell_type": "code",
   "execution_count": 68,
   "id": "focused-invite",
   "metadata": {},
   "outputs": [],
   "source": [
    "import math"
   ]
  },
  {
   "cell_type": "code",
   "execution_count": null,
   "id": "5664c0f1",
   "metadata": {},
   "outputs": [],
   "source": []
  },
  {
   "cell_type": "markdown",
   "id": "87cccad5",
   "metadata": {
    "lang": "en"
   },
   "source": [
    "## Before continuing, let's take a breath and review vocabulary"
   ]
  },
  {
   "cell_type": "markdown",
   "id": "9170647e",
   "metadata": {
    "lang": "en"
   },
   "source": [
    "- **Class**: The cookie mold. With the class we can generate instances or objects.\n",
    "- **Object**: The cookie we generated. Each object has different characteristics but under the same pattern as the class.\n",
    "- **Instance**: Same as object, it's a synonym :) hehe\n",
    "- **Attribute**: The different ingredients of each object. They are defined as arguments in the __init__ function but are saved as data when we instantiate an object by calling the class"
   ]
  },
  {
   "cell_type": "code",
   "execution_count": null,
   "id": "5c6951ca",
   "metadata": {},
   "outputs": [],
   "source": []
  },
  {
   "cell_type": "markdown",
   "id": "05499ca5",
   "metadata": {},
   "source": [
    "We can say that the attributes are the DATA, in this case \"Pau\" and \"Peracaula\".\n",
    "They are variables\n",
    "\n",
    "\n",
    "* **Class attribute**: Variables that belong to the class and that will be the same in all objects.\n",
    "* **Object/instance attribute**: The attributes explained above, specific to each object.\n",
    "* **Method**: Functions that do things"
   ]
  },
  {
   "cell_type": "markdown",
   "id": "8772dea7",
   "metadata": {
    "lang": "en"
   },
   "source": [
    "#### Easy exercise\n",
    "Kata --> https://www.codewars.com/kata/53f0f358b9cb376eca001079/train/python\n",
    "\n",
    "You can ignore the \"object\" for now"
   ]
  },
  {
   "cell_type": "code",
   "execution_count": 1,
   "id": "b6a27bcf",
   "metadata": {},
   "outputs": [],
   "source": []
  },
  {
   "cell_type": "markdown",
   "id": "pressed-proof",
   "metadata": {},
   "source": [
    "## Inheritance"
   ]
  },
  {
   "cell_type": "markdown",
   "id": "1f62f02d",
   "metadata": {
    "lang": "en"
   },
   "source": [
    "Inheritance allows defining new classes from existing classes. The class from which it is inherited is called the \"parent class\"/\"superclass\"/\"parent\". The class that it inherits is called a \"child class\" or \"subclass.\"\n",
    "The child class \"inherits\" all the properties of the parent class and allows us to override methods and attributes or add new ones. The fundamental advantage that the inheritance mechanism brings to programming is the ability to reuse code. Thus, a set of classes that share attributes and methods can inherit from a superclass where those methods and attributes are defined."
   ]
  },
  {
   "cell_type": "markdown",
   "id": "wanted-works",
   "metadata": {},
   "source": [
    "\n",
    "![miniyoda](https://media.giphy.com/media/j0eRJzyW7XjMpu1Pqd/giphy.gif)"
   ]
  },
  {
   "cell_type": "markdown",
   "id": "37b8b77c",
   "metadata": {
    "lang": "en"
   },
   "source": [
    "- Method defined in the `parent`, but not in the `child`\n",
    "\n",
    "In this case, the child will inherit the parent's method, it will work exactly the same and there is no need to override it.\n",
    "\n",
    "- Method defined in `Child`, but not in Parent\n",
    "\n",
    "The method only belongs to the child. Inheritance is one way.\n",
    "\n",
    "- Method set to \"both\".\n",
    "\n",
    "Two things can happen here, but both are a variant of the same fact. The method written in the `Child` class will override the one previously defined in Parent.\n",
    "\n",
    "However, if we want to use the original method and just add something else to it, we can always refer to the original (parent) method with `super()`. The `super()` function allows us to call any method of the parent class. Just remember to call it on the new define and make sure you get all the attributes it needs 😉 ."
   ]
  },
  {
   "cell_type": "code",
   "execution_count": 635,
   "id": "253cfef7",
   "metadata": {},
   "outputs": [],
   "source": [
    "class Staff ():\n",
    "        \n",
    "    def __init__ (self, name, fname):\n",
    "        self.name = name.capitalize()\n",
    "        self.fname = fname\n",
    "        \n",
    "        # Default\n",
    "        self.time_off = 20\n",
    "        \n",
    "        #Default: as a result\n",
    "        self.email = self.name.lower() + \".\" + self.fname.lower() + \"@ironhack.com\"\n",
    "        \n",
    "        self.hobbies = []\n",
    "        \n",
    "    \n",
    "    def introduce (self):\n",
    "        return f\"Hello, my name is {self.name}!\"\n",
    "    \n",
    "    def takes_days_off (self, number):\n",
    "        if self.time_off > 0:\n",
    "            self.time_off -= 1\n",
    "            return f\"Now you have {self.time_off} days off available\"\n",
    "        else:\n",
    "            return f\"Sorry, you ran out of days\"\n",
    "    \n",
    "    def hobbies_function (self, *hob): #passing an optional argument\n",
    "        if hob:\n",
    "            for i in hob:\n",
    "                self.hobbies.append(i)\n",
    "                print(f\"We added: {self.hobbies[-1]}\")\n",
    "            return self.hobbies_function()\n",
    "        else:\n",
    "            new = \", \".join([i for i in self.hobbies])\n",
    "            return f\"My hobbies are: {new}\"\n"
   ]
  },
  {
   "cell_type": "code",
   "execution_count": null,
   "id": "1ee31f54",
   "metadata": {},
   "outputs": [],
   "source": [
    "# Control panel -> uninstallking miniconda\n",
    "# Re-installing"
   ]
  },
  {
   "cell_type": "code",
   "execution_count": 700,
   "id": "a55569e7",
   "metadata": {},
   "outputs": [],
   "source": [
    "class Marketing (Staff):\n",
    "    \n",
    "    def __init__ (self, name, fname):\n",
    "        super().__init__(name, fname)\n",
    "        self.time_off = 50\n",
    "\n",
    "    \n",
    "    def role (self):\n",
    "        return \"My role is marketing\""
   ]
  },
  {
   "cell_type": "code",
   "execution_count": 701,
   "id": "72ba9eda",
   "metadata": {},
   "outputs": [],
   "source": [
    "laura = Marketing(\"Laura\", \"Molas\")"
   ]
  },
  {
   "cell_type": "code",
   "execution_count": 702,
   "id": "f1297920",
   "metadata": {},
   "outputs": [
    {
     "data": {
      "text/plain": [
       "'My role is marketing'"
      ]
     },
     "execution_count": 702,
     "metadata": {},
     "output_type": "execute_result"
    }
   ],
   "source": [
    "laura.role()"
   ]
  },
  {
   "cell_type": "code",
   "execution_count": 703,
   "id": "1e2cb455",
   "metadata": {},
   "outputs": [
    {
     "data": {
      "text/plain": [
       "50"
      ]
     },
     "execution_count": 703,
     "metadata": {},
     "output_type": "execute_result"
    }
   ],
   "source": [
    "laura.time_off"
   ]
  },
  {
   "cell_type": "code",
   "execution_count": 704,
   "id": "736e6387",
   "metadata": {},
   "outputs": [
    {
     "data": {
      "text/plain": [
       "'Now you have 49 days off available'"
      ]
     },
     "execution_count": 704,
     "metadata": {},
     "output_type": "execute_result"
    }
   ],
   "source": [
    "laura.takes_days_off(1)"
   ]
  },
  {
   "cell_type": "code",
   "execution_count": 661,
   "id": "02f8f581",
   "metadata": {},
   "outputs": [
    {
     "data": {
      "text/plain": [
       "'Hello, my name is Laura!'"
      ]
     },
     "execution_count": 661,
     "metadata": {},
     "output_type": "execute_result"
    }
   ],
   "source": [
    "laura.introduce()"
   ]
  },
  {
   "cell_type": "code",
   "execution_count": 644,
   "id": "42b24feb",
   "metadata": {},
   "outputs": [
    {
     "data": {
      "text/plain": [
       "{'name': 'Laura',\n",
       " 'fname': 'Molas',\n",
       " 'time_off': 20,\n",
       " 'email': 'laura.molas@ironhack.com',\n",
       " 'hobbies': []}"
      ]
     },
     "execution_count": 644,
     "metadata": {},
     "output_type": "execute_result"
    }
   ],
   "source": [
    "laura.__dict__"
   ]
  },
  {
   "cell_type": "markdown",
   "id": "willing-workshop",
   "metadata": {},
   "source": [
    "### super()"
   ]
  },
  {
   "cell_type": "code",
   "execution_count": null,
   "id": "2800959e",
   "metadata": {},
   "outputs": [],
   "source": []
  },
  {
   "cell_type": "markdown",
   "id": "06927b5c",
   "metadata": {},
   "source": [
    "## Summary"
   ]
  },
  {
   "cell_type": "markdown",
   "id": "e26f2fec",
   "metadata": {
    "lang": "en"
   },
   "source": []
  },
  {
   "cell_type": "markdown",
   "id": "7d8865bd",
   "metadata": {
    "lang": "en"
   },
   "source": [
    "## Furthermaterials\n",
    "\n",
    "- Youtube Tutorial by [Corey Schafer](https://www.youtube.com/watch?v=ZDa-Z5JzLYM)\n",
    "- [Real Python](https://docs.hektorprofe.net/python/object-oriented-programming/classes-and-objects/)\n",
    "- [Interesting read](https://medium.com/@shaistha24/functional-programming-vs-object-oriented-programming-oop-which-is-better-82172e53a526) --> OOP vs Functional programming"
   ]
  },
  {
   "cell_type": "markdown",
   "id": "92bd3cce",
   "metadata": {
    "lang": "en"
   },
   "source": [
    "### Methods **ADVANCED** @classmethod@staticmethod\n",
    "* [Real Python - @classmethod/@stathicmethod](https://realpython.com/instance-class-and-static-methods-demystified/). Advanced Python with decorators (we'll mention them later)"
   ]
  }
 ],
 "metadata": {
  "kernelspec": {
   "display_name": "ironhack",
   "language": "python",
   "name": "ironhack"
  },
  "language_info": {
   "codemirror_mode": {
    "name": "ipython",
    "version": 3
   },
   "file_extension": ".py",
   "mimetype": "text/x-python",
   "name": "python",
   "nbconvert_exporter": "python",
   "pygments_lexer": "ipython3",
   "version": "3.8.13"
  },
  "nbTranslate": {
   "displayLangs": [
    "en",
    "es"
   ],
   "hotkey": "alt-a",
   "langInMainMenu": true,
   "sourceLang": "es",
   "targetLang": "en",
   "useGoogleTranslate": true
  },
  "toc": {
   "base_numbering": 1,
   "nav_menu": {},
   "number_sections": true,
   "sideBar": true,
   "skip_h1_title": true,
   "title_cell": "Table of Contents",
   "title_sidebar": "Contents",
   "toc_cell": true,
   "toc_position": {
    "height": "calc(100% - 180px)",
    "left": "10px",
    "top": "150px",
    "width": "288px"
   },
   "toc_section_display": true,
   "toc_window_display": false
  }
 },
 "nbformat": 4,
 "nbformat_minor": 5
}
