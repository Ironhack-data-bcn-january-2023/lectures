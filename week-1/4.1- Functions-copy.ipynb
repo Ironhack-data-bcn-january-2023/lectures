{
 "cells": [
  {
   "cell_type": "markdown",
   "id": "9eb0f57b",
   "metadata": {
    "lang": "en"
   },
   "source": [
    "# Functional Programming"
   ]
  },
  {
   "cell_type": "markdown",
   "id": "conceptual-behalf",
   "metadata": {},
   "source": [
    "![elgif](https://media.giphy.com/media/CuMiNoTRz2bYc/giphy.gif)"
   ]
  },
  {
   "cell_type": "markdown",
   "id": "incorrect-serum",
   "metadata": {
    "toc": true
   },
   "source": [
    "<h1>Table of Contents<span class=\"tocSkip\"></span></h1>\n",
    "<div class=\"toc\"><ul class=\"toc-item\"><li><span><a href=\"#Your-contributions-🚀\" data-toc-modified-id=\"Your-contributions-🚀-1\"><span class=\"toc-item-num\">1&nbsp;&nbsp;</span>Your contributions 🚀</a></span></li><li><span><a href=\"#What-is-functional-programming?:-paradigms\" data-toc-modified-id=\"What-is-functional-programming?:-paradigms-2\"><span class=\"toc-item-num\">2&nbsp;&nbsp;</span>What is functional programming?: paradigms</a></span></li><li><span><a href=\"#Built-in-functions\" data-toc-modified-id=\"Built-in-functions-3\"><span class=\"toc-item-num\">3&nbsp;&nbsp;</span>Built-in functions</a></span></li><li><span><a href=\"#USER---DEFINED-FUNCTIONS\" data-toc-modified-id=\"USER---DEFINED-FUNCTIONS-4\"><span class=\"toc-item-num\">4&nbsp;&nbsp;</span>USER - DEFINED FUNCTIONS</a></span><ul class=\"toc-item\"><li><span><a href=\"#def\" data-toc-modified-id=\"def-4.1\"><span class=\"toc-item-num\">4.1&nbsp;&nbsp;</span>def</a></span></li><li><span><a href=\"#name\" data-toc-modified-id=\"name-4.2\"><span class=\"toc-item-num\">4.2&nbsp;&nbsp;</span>name</a></span></li><li><span><a href=\"#parameters\" data-toc-modified-id=\"parameters-4.3\"><span class=\"toc-item-num\">4.3&nbsp;&nbsp;</span>parameters</a></span></li><li><span><a href=\"#arguments\" data-toc-modified-id=\"arguments-4.4\"><span class=\"toc-item-num\">4.4&nbsp;&nbsp;</span>arguments</a></span><ul class=\"toc-item\"><li><span><a href=\"#default-parameters\" data-toc-modified-id=\"default-parameters-4.4.1\"><span class=\"toc-item-num\">4.4.1&nbsp;&nbsp;</span>default parameters</a></span></li><li><span><a href=\"#positional-arguments-&amp;-keyword-arguments\" data-toc-modified-id=\"positional-arguments-&amp;-keyword-arguments-4.4.2\"><span class=\"toc-item-num\">4.4.2&nbsp;&nbsp;</span>positional arguments &amp; keyword arguments</a></span></li><li><span><a href=\"#*args\" data-toc-modified-id=\"*args-4.4.3\"><span class=\"toc-item-num\">4.4.3&nbsp;&nbsp;</span><code>*args</code></a></span></li><li><span><a href=\"#**kwargs\" data-toc-modified-id=\"**kwargs-4.4.4\"><span class=\"toc-item-num\">4.4.4&nbsp;&nbsp;</span>**kwargs</a></span></li><li><span><a href=\"#order\" data-toc-modified-id=\"order-4.4.5\"><span class=\"toc-item-num\">4.4.5&nbsp;&nbsp;</span>order</a></span></li></ul></li><li><span><a href=\"#return\" data-toc-modified-id=\"return-4.5\"><span class=\"toc-item-num\">4.5&nbsp;&nbsp;</span>return</a></span></li><li><span><a href=\"#Docstrings:-documentation-strings\" data-toc-modified-id=\"Docstrings:-documentation-strings-4.6\"><span class=\"toc-item-num\">4.6&nbsp;&nbsp;</span>Docstrings: documentation strings</a></span></li><li><span><a href=\"#source-code\" data-toc-modified-id=\"source-code-4.7\"><span class=\"toc-item-num\">4.7&nbsp;&nbsp;</span>source code</a></span></li></ul></li><li><span><a href=\"#Let's-write-functions\" data-toc-modified-id=\"Let's-write-functions-5\"><span class=\"toc-item-num\">5&nbsp;&nbsp;</span>Let's write functions</a></span></li><li><span><a href=\"#Scope-of-functions\" data-toc-modified-id=\"Scope-of-functions-6\"><span class=\"toc-item-num\">6&nbsp;&nbsp;</span>Scope of functions</a></span></li><li><span><a href=\"#*Args\" data-toc-modified-id=\"*Args-7\"><span class=\"toc-item-num\">7&nbsp;&nbsp;</span>*Args</a></span></li><li><span><a href=\"#**Kwargs\" data-toc-modified-id=\"**Kwargs-8\"><span class=\"toc-item-num\">8&nbsp;&nbsp;</span>**Kwargs</a></span></li><li><span><a href=\"#Order-Matters\" data-toc-modified-id=\"Order-Matters-9\"><span class=\"toc-item-num\">9&nbsp;&nbsp;</span>Order Matters</a></span></li><li><span><a href=\"#Lambda\" data-toc-modified-id=\"Lambda-10\"><span class=\"toc-item-num\">10&nbsp;&nbsp;</span>Lambda</a></span><ul class=\"toc-item\"><li><span><a href=\"#Syntax-of-a-lambda\" data-toc-modified-id=\"Syntax-of-a-lambda-10.1\"><span class=\"toc-item-num\">10.1&nbsp;&nbsp;</span>Syntax of a lambda</a></span></li><li><span><a href=\"#lambda-examples\" data-toc-modified-id=\"lambda-examples-10.2\"><span class=\"toc-item-num\">10.2&nbsp;&nbsp;</span>lambda examples</a></span></li><li><span><a href=\"#lambda--as-the-option-of-some-other-built-in-functions\" data-toc-modified-id=\"lambda--as-the-option-of-some-other-built-in-functions-10.3\"><span class=\"toc-item-num\">10.3&nbsp;&nbsp;</span><code>lambda</code>  as the option of some other built-in functions</a></span></li></ul></li><li><span><a href=\"#Functions:-functions-as-return-of-another-function\" data-toc-modified-id=\"Functions:-functions-as-return-of-another-function-11\"><span class=\"toc-item-num\">11&nbsp;&nbsp;</span>Functions: functions as return of another function</a></span></li><li><span><a href=\"#Recursion\" data-toc-modified-id=\"Recursion-12\"><span class=\"toc-item-num\">12&nbsp;&nbsp;</span>Recursion</a></span></li><li><span><a href=\"#Summary\" data-toc-modified-id=\"Summary-13\"><span class=\"toc-item-num\">13&nbsp;&nbsp;</span>Summary</a></span></li></ul></div>"
   ]
  },
  {
   "cell_type": "markdown",
   "id": "c8dbbad6",
   "metadata": {
    "lang": "en"
   },
   "source": [
    "## Your contributions 🚀\n",
    "What do you think functions do/what properties do they have? Whare they useful for?"
   ]
  },
  {
   "cell_type": "markdown",
   "id": "4d00796e",
   "metadata": {},
   "source": [
    "- **things that do things**\n",
    "- they have methods (?)\n",
    "- they get values\n",
    "    - they can get values\n",
    "    - sometimes they don't\n",
    "    - arguments/parameters\n",
    "- they return things\n",
    "    - they can return things\n",
    "    - not necessarily\n",
    "- they're reusable -> you can just write once\n",
    "    - define functions\n",
    "    - call it many times\n",
    "- you can write functions within functions\n",
    "- easy way to save code\n",
    "    - re-usability\n",
    "- provides easier debugging\n",
    "    - organized\n",
    "- code within a little box\n",
    "    - fix an issue (bug) -> spot it and act on it\n"
   ]
  },
  {
   "cell_type": "markdown",
   "id": "199cb1a8",
   "metadata": {
    "lang": "en"
   },
   "source": [
    "## What is functional programming?: paradigms\n",
    "What does it mean that Python is multi-paradigm?\n",
    "According to Wikipedia:\n",
    "\n",
    "“Python is an interpreted programming language whose philosophy emphasizes the readability of its code. It is a multiparadigm programming language, since it supports object orientation, imperative programming and, to a lesser extent, functional programming.\n",
    "\n",
    "It means that it accepts different ways of working with language. Basically there are 3 predominant paradigms, or in other words, 3 global formats to organize a code."
   ]
  },
  {
   "cell_type": "markdown",
   "id": "1a292435",
   "metadata": {},
   "source": [
    "- **Imperative programming (structured)**: the code will be executed from the beginning of the file to the end without following any type of deviation. Its biggest advantage lies in its simplicity and low weight. Its danger is the spaghetti code, files with hundreds or thousands of lines where only a few human beings are able to modify and emerge victorious. It can look like this:"
   ]
  },
  {
   "cell_type": "code",
   "execution_count": 71,
   "id": "bc6a321a",
   "metadata": {},
   "outputs": [
    {
     "name": "stdout",
     "output_type": "stream",
     "text": [
      "8\n",
      "8\n",
      "8\n"
     ]
    }
   ],
   "source": [
    "# imperative programming\n",
    "a = 3\n",
    "b = 5\n",
    "\n",
    "print(a + b)\n",
    "a = 3\n",
    "b = 5\n",
    "\n",
    "print(a + b)\n",
    "a = 3\n",
    "b = 5\n",
    "\n",
    "print(a + b)\n",
    "a = 3\n",
    "b = 5"
   ]
  },
  {
   "cell_type": "markdown",
   "id": "02cb1e2b",
   "metadata": {},
   "source": [
    "- **Object Oriented Programming (OOP or Object Oriented Programming)**: where variables and functions are encapsulated in small modules capable of being cloned and modified. Its strong point is the ability to reuse and isolate to avoid problems with other features. The negative part lies in the complexity of creating good objects and debugging. It can look like this:\n"
   ]
  },
  {
   "cell_type": "code",
   "execution_count": 73,
   "id": "ae7850db",
   "metadata": {},
   "outputs": [
    {
     "name": "stdout",
     "output_type": "stream",
     "text": [
      "7\n",
      "red\n",
      "12\n",
      "black\n",
      "14\n",
      "6\n",
      "8\n"
     ]
    }
   ],
   "source": [
    "# object oriented programming\n",
    "class Car(object):\n",
    "    def __init__(self, model, passengers, color, speed):\n",
    "        self.model = model\n",
    "        self.passengers = passengers\n",
    "        self.color = color\n",
    "        self.speed = speed\n",
    "\n",
    "    def accelerate(self):\n",
    "        self.speed = self.speed + 2\n",
    "        print (self.speed)\n",
    "\n",
    "bmw = Car(\"BMW\", 4, \"red\", 5)\n",
    "ferrari = Car(\"Ferrari\", 2, \"black\", 10)\n",
    "ford = Car(\"Ford\", 6, \"blue\", 6)\n",
    "\n",
    "bmw.accelerate()\n",
    "print (bmw.color)\n",
    "\n",
    "ferrari.accelerate()\n",
    "print (ferrari.color)\n",
    "ferrari.accelerate() #note that the speed has been updated from the previous accelerate call\n",
    "\n",
    "print (ford.passengers)\n",
    "ford.accelerate()"
   ]
  },
  {
   "cell_type": "markdown",
   "id": "2a679fd0",
   "metadata": {},
   "source": [
    "- **Functional programming (FP or Functional programming)**: where the code is divided into simple functions capable of being invoked with variables or other functions. Its ease of use by atomicity achieves robust maintainability and compatibility with almost any language. In addition, its immutability of variables avoids many of the problems that object-oriented programming suffers."
   ]
  },
  {
   "cell_type": "code",
   "execution_count": 75,
   "id": "73ba3a6c",
   "metadata": {},
   "outputs": [
    {
     "data": {
      "text/plain": [
       "19"
      ]
     },
     "execution_count": 75,
     "metadata": {},
     "output_type": "execute_result"
    }
   ],
   "source": [
    "# 3. functional programming\n",
    "\n",
    "# defined\n",
    "def addition (a, b):\n",
    "    return a + b\n",
    "\n",
    "def substraction (a, b):\n",
    "    return a + b\n",
    "\n",
    "def multiplication (a, b):\n",
    "    return a + b\n",
    "\n",
    "def giving_feedback (a, b):\n",
    "    return f\"Hello, this is {a}\"\n",
    "\n",
    "\n",
    "# called\n",
    "addition (3, 5)\n",
    "\n",
    "\n",
    "addition (9, 10)"
   ]
  },
  {
   "cell_type": "markdown",
   "id": "7f89fd70",
   "metadata": {
    "lang": "en"
   },
   "source": [
    "## Built-in functions"
   ]
  },
  {
   "cell_type": "markdown",
   "id": "80919246",
   "metadata": {
    "lang": "en"
   },
   "source": [
    "The Python interpreter has a number of built-in functions and types that are always available. They are listed [here](https://docs.python.org/3/library/functions.html) in alphabetical order."
   ]
  },
  {
   "cell_type": "code",
   "execution_count": 107,
   "id": "8b5edc03",
   "metadata": {},
   "outputs": [],
   "source": [
    "a_string = \" this is a string\""
   ]
  },
  {
   "cell_type": "code",
   "execution_count": 108,
   "id": "1756b395",
   "metadata": {},
   "outputs": [
    {
     "data": {
      "text/plain": [
       "' THIS IS A STRING'"
      ]
     },
     "execution_count": 108,
     "metadata": {},
     "output_type": "execute_result"
    }
   ],
   "source": [
    "a_string.upper()"
   ]
  },
  {
   "cell_type": "code",
   "execution_count": 110,
   "id": "79eacbbb",
   "metadata": {},
   "outputs": [],
   "source": [
    "# method / function \n",
    "\n",
    "# upper() -> method for strings( a str function)"
   ]
  },
  {
   "cell_type": "code",
   "execution_count": 112,
   "id": "d2a4af2b",
   "metadata": {},
   "outputs": [
    {
     "data": {
      "text/plain": [
       "4.0"
      ]
     },
     "execution_count": 112,
     "metadata": {},
     "output_type": "execute_result"
    }
   ],
   "source": [
    "# Library function -> code someone else wrote\n",
    "# so I don't have to\n",
    "\n",
    "# re-using someone else's code\n",
    "\n",
    "import math\n",
    "math.pow(2, 2)"
   ]
  },
  {
   "cell_type": "code",
   "execution_count": 113,
   "id": "b8b4828e",
   "metadata": {},
   "outputs": [
    {
     "data": {
      "text/plain": [
       "<Response [200]>"
      ]
     },
     "execution_count": 113,
     "metadata": {},
     "output_type": "execute_result"
    }
   ],
   "source": [
    "import requests\n",
    "requests.get(\"https://www.google.es\")"
   ]
  },
  {
   "cell_type": "code",
   "execution_count": null,
   "id": "afa806b4",
   "metadata": {},
   "outputs": [],
   "source": [
    "# dependencies\n",
    "\n",
    "# 1. requirements.txt\n",
    "    # pip install -r  t\n",
    "# 2. envioronment_whatever.yml\n",
    "    # 'conda create envioronment_whatever.yml > new_env.yml'"
   ]
  },
  {
   "cell_type": "markdown",
   "id": "d36c02f5",
   "metadata": {
    "lang": "en"
   },
   "source": [
    "In case of built-in functions we can't extract the code with inspect, since Python itself is written in C... the Print function looks like this 👇🏻"
   ]
  },
  {
   "cell_type": "markdown",
   "id": "through-silicon",
   "metadata": {},
   "source": [
    "```C\n",
    "static PyObject *\n",
    "builtin_print(PyObject *self, PyObject *args, PyObject *kwds)\n",
    "{\n",
    "    static char *kwlist[] = {\"sep\", \"end\", \"file\", 0};\n",
    "    static PyObject *dummy_args = NULL;\n",
    "    static PyObject *unicode_newline = NULL, *unicode_space = NULL;\n",
    "    static PyObject *str_newline = NULL, *str_space = NULL;\n",
    "    PyObject *newline, *space;\n",
    "    PyObject *sep = NULL, *end = NULL, *file = NULL;\n",
    "    int i, err, use_unicode = 0;\n",
    "\n",
    "    if (dummy_args == NULL) {\n",
    "        if (!(dummy_args = PyTuple_New(0)))\n",
    "            return NULL;\n",
    "    }\n",
    "    if (str_newline == NULL) {\n",
    "        str_newline = PyString_FromString(\"\\n\");\n",
    "        if (str_newline == NULL)\n",
    "            return NULL;\n",
    "        str_space = PyString_FromString(\" \");\n",
    "        if (str_space == NULL) {\n",
    "            Py_CLEAR(str_newline);\n",
    "            return NULL;\n",
    "        }\n",
    "#ifdef Py_USING_UNICODE\n",
    "        unicode_newline = PyUnicode_FromString(\"\\n\");\n",
    "        if (unicode_newline == NULL) {\n",
    "            Py_CLEAR(str_newline);\n",
    "            Py_CLEAR(str_space);\n",
    "            return NULL;\n",
    "        }\n",
    "        unicode_space = PyUnicode_FromString(\" \");\n",
    "        if (unicode_space == NULL) {\n",
    "            Py_CLEAR(str_newline);\n",
    "            Py_CLEAR(str_space);\n",
    "            Py_CLEAR(unicode_space);\n",
    "            return NULL;\n",
    "        }\n",
    "#endif\n",
    "    }\n",
    "    if (!PyArg_ParseTupleAndKeywords(dummy_args, kwds, \"|OOO:print\",\n",
    "                                     kwlist, &sep, &end, &file))\n",
    "        return NULL;\n",
    "    if (file == NULL || file == Py_None) {\n",
    "        file = PySys_GetObject(\"stdout\");\n",
    "        /* sys.stdout may be None when FILE* stdout isn't connected */\n",
    "        if (file == Py_None)\n",
    "            Py_RETURN_NONE;\n",
    "    }\n",
    "    if (sep == Py_None) {\n",
    "        sep = NULL;\n",
    "    }\n",
    "    else if (sep) {\n",
    "        if (PyUnicode_Check(sep)) {\n",
    "            use_unicode = 1;\n",
    "        }\n",
    "        else if (!PyString_Check(sep)) {\n",
    "            PyErr_Format(PyExc_TypeError,\n",
    "                         \"sep must be None, str or unicode, not %.200s\",\n",
    "                         sep->ob_type->tp_name);\n",
    "            return NULL;\n",
    "        }\n",
    "    }\n",
    "    if (end == Py_None)\n",
    "        end = NULL;\n",
    "    else if (end) {\n",
    "        if (PyUnicode_Check(end)) {\n",
    "            use_unicode = 1;\n",
    "        }\n",
    "        else if (!PyString_Check(end)) {\n",
    "            PyErr_Format(PyExc_TypeError,\n",
    "                         \"end must be None, str or unicode, not %.200s\",\n",
    "                         end->ob_type->tp_name);\n",
    "            return NULL;\n",
    "        }\n",
    "    }\n",
    "\n",
    "    if (!use_unicode) {\n",
    "        for (i = 0; i < PyTuple_Size(args); i++) {\n",
    "            if (PyUnicode_Check(PyTuple_GET_ITEM(args, i))) {\n",
    "                use_unicode = 1;\n",
    "                break;\n",
    "            }\n",
    "        }\n",
    "    }\n",
    "    if (use_unicode) {\n",
    "        newline = unicode_newline;\n",
    "        space = unicode_space;\n",
    "    }\n",
    "    else {\n",
    "        newline = str_newline;\n",
    "        space = str_space;\n",
    "    }\n",
    "\n",
    "    for (i = 0; i < PyTuple_Size(args); i++) {\n",
    "        if (i > 0) {\n",
    "            if (sep == NULL)\n",
    "                err = PyFile_WriteObject(space, file,\n",
    "                                         Py_PRINT_RAW);\n",
    "            else\n",
    "                err = PyFile_WriteObject(sep, file,\n",
    "                                         Py_PRINT_RAW);\n",
    "            if (err)\n",
    "                return NULL;\n",
    "        }\n",
    "        err = PyFile_WriteObject(PyTuple_GetItem(args, i), file,\n",
    "                                 Py_PRINT_RAW);\n",
    "        if (err)\n",
    "            return NULL;\n",
    "    }\n",
    "\n",
    "    if (end == NULL)\n",
    "        err = PyFile_WriteObject(newline, file, Py_PRINT_RAW);\n",
    "    else\n",
    "        err = PyFile_WriteObject(end, file, Py_PRINT_RAW);\n",
    "    if (err)\n",
    "        return NULL;\n",
    "\n",
    "    Py_RETURN_NONE;\n",
    "}\n",
    "```"
   ]
  },
  {
   "cell_type": "code",
   "execution_count": 139,
   "id": "335d421c",
   "metadata": {},
   "outputs": [
    {
     "name": "stdout",
     "output_type": "stream",
     "text": [
      "Hello\n"
     ]
    }
   ],
   "source": [
    "print(\"Hello\")"
   ]
  },
  {
   "cell_type": "markdown",
   "id": "9197a86b",
   "metadata": {},
   "source": [
    "## USER - DEFINED FUNCTIONS"
   ]
  },
  {
   "cell_type": "markdown",
   "id": "054f974c",
   "metadata": {},
   "source": [
    "- `def` \n",
    "- `name` \n",
    "- `params` \n",
    "- `args` \n",
    "-  `return`\n",
    "- `docstrings` \n",
    "\n",
    "- `source coude`"
   ]
  },
  {
   "cell_type": "markdown",
   "id": "85d6428d",
   "metadata": {
    "lang": "en"
   },
   "source": [
    "**Syntax for DEFINING a function**\n",
    "```python\n",
    "\n",
    "def name_function(input params):\n",
    "    # the colon and the indentation imply being in the function\n",
    "    take an action\n",
    "    return() # return a certain value\n",
    "\n",
    "```\n",
    "\n",
    "**Syntax for CALLING a function**\n",
    "\n",
    "`name_of_the_function(argument1, argument2, ...)`\n",
    "\n",
    "or, if you want to save the result in a variable\n",
    "\n",
    "`result = name_of_the_function(argument1, argument2, ...)`"
   ]
  },
  {
   "cell_type": "markdown",
   "id": "d14ec799",
   "metadata": {},
   "source": [
    "### def"
   ]
  },
  {
   "cell_type": "code",
   "execution_count": 1,
   "id": "60702d17",
   "metadata": {},
   "outputs": [],
   "source": [
    "def name ():\n",
    "    pass"
   ]
  },
  {
   "cell_type": "markdown",
   "id": "f2e75efb",
   "metadata": {},
   "source": [
    "### name"
   ]
  },
  {
   "cell_type": "code",
   "execution_count": 4,
   "id": "6c5f47f4",
   "metadata": {},
   "outputs": [],
   "source": [
    "# too general\n",
    "def function ():\n",
    "    pass"
   ]
  },
  {
   "cell_type": "code",
   "execution_count": 5,
   "id": "f9cdca17",
   "metadata": {},
   "outputs": [],
   "source": [
    "# not consistent format\n",
    "def CALculator ():\n",
    "    pass"
   ]
  },
  {
   "cell_type": "code",
   "execution_count": 6,
   "id": "2f77305a",
   "metadata": {},
   "outputs": [],
   "source": [
    "# not camelCase \n",
    "def thisCalculates ():\n",
    "    pass"
   ]
  },
  {
   "cell_type": "code",
   "execution_count": 3,
   "id": "55f5150c",
   "metadata": {},
   "outputs": [],
   "source": [
    "# verbs & lowercase: ✅\n",
    "def calculator ():\n",
    "    pass"
   ]
  },
  {
   "cell_type": "markdown",
   "id": "80ee81e1",
   "metadata": {},
   "source": [
    "### parameters"
   ]
  },
  {
   "cell_type": "markdown",
   "id": "0f6ac445",
   "metadata": {},
   "source": [
    "`()`"
   ]
  },
  {
   "cell_type": "code",
   "execution_count": 78,
   "id": "0408282e",
   "metadata": {},
   "outputs": [],
   "source": [
    "def printer ():\n",
    "    print(\"I don't have any params/arguments!\")"
   ]
  },
  {
   "cell_type": "code",
   "execution_count": 79,
   "id": "e12d7e0c",
   "metadata": {},
   "outputs": [
    {
     "name": "stdout",
     "output_type": "stream",
     "text": [
      "I don't have any params/arguments!\n"
     ]
    }
   ],
   "source": [
    "printer ()"
   ]
  },
  {
   "cell_type": "markdown",
   "id": "e088026f",
   "metadata": {},
   "source": [
    "`(param_1, param_2)`"
   ]
  },
  {
   "cell_type": "code",
   "execution_count": 8,
   "id": "436854c9",
   "metadata": {},
   "outputs": [],
   "source": [
    "def adder (param_1, param_2):\n",
    "    return param_1 + param_2"
   ]
  },
  {
   "cell_type": "markdown",
   "id": "5308ad65",
   "metadata": {},
   "source": [
    "### arguments"
   ]
  },
  {
   "cell_type": "code",
   "execution_count": 9,
   "id": "6cc6305b",
   "metadata": {},
   "outputs": [
    {
     "data": {
      "text/plain": [
       "12"
      ]
     },
     "execution_count": 9,
     "metadata": {},
     "output_type": "execute_result"
    }
   ],
   "source": [
    "adder (2, 10)"
   ]
  },
  {
   "cell_type": "markdown",
   "id": "7309abcc",
   "metadata": {},
   "source": [
    "Formal parameters for a function are listed in the function declaration and used in the body of the function definition.\n",
    "\n",
    "An argument is what is used when referring to parameters. When you write a function call, the arguments are listed in parentheses after the function name. When the function call is executed, the arguments are inserted for the parameters.\n",
    "\n",
    "Let's say then that the parameters are those \"imaginary\" variables that will have the same name in the definition and in the body of the function.\n",
    "The arguments are the REAL DATA that we use when we call the function."
   ]
  },
  {
   "cell_type": "markdown",
   "id": "ffbf4a28",
   "metadata": {},
   "source": [
    "#### default parameters"
   ]
  },
  {
   "cell_type": "markdown",
   "id": "501292a2",
   "metadata": {},
   "source": [
    "`(param_1, param_default = defaultvalue)` "
   ]
  },
  {
   "cell_type": "markdown",
   "id": "c7273601",
   "metadata": {},
   "source": [
    "1. `greetings_default(myself, someone_else, language=\"en\")`"
   ]
  },
  {
   "cell_type": "code",
   "execution_count": 20,
   "id": "0bbdff41",
   "metadata": {},
   "outputs": [],
   "source": [
    "def greetings_default(myself, someone_else, language=\"en\"):\n",
    "    \n",
    "    if language == \"en\":\n",
    "        return f\"Hello, my name is {myself}. Are you {someone_else}?\"\n",
    "    else:\n",
    "        return f\"Hola soy {myself}. ¿Tú eres {someone_else}?💃\""
   ]
  },
  {
   "cell_type": "code",
   "execution_count": 24,
   "id": "63af7464",
   "metadata": {},
   "outputs": [
    {
     "data": {
      "text/plain": [
       "'Hello, my name is Albert. Are you Nerea?'"
      ]
     },
     "execution_count": 24,
     "metadata": {},
     "output_type": "execute_result"
    }
   ],
   "source": [
    "greetings_default(\"Albert\", \"Nerea\")"
   ]
  },
  {
   "cell_type": "code",
   "execution_count": 25,
   "id": "6bc250d8",
   "metadata": {},
   "outputs": [
    {
     "data": {
      "text/plain": [
       "'Hola soy Albert. ¿Tú eres Nerea?💃'"
      ]
     },
     "execution_count": 25,
     "metadata": {},
     "output_type": "execute_result"
    }
   ],
   "source": [
    "greetings_default(\"Albert\", \"Nerea\", language=\"es\")"
   ]
  },
  {
   "cell_type": "code",
   "execution_count": 26,
   "id": "86d22c9c",
   "metadata": {},
   "outputs": [
    {
     "data": {
      "text/plain": [
       "'Hola soy Albert. ¿Tú eres Nerea?💃'"
      ]
     },
     "execution_count": 26,
     "metadata": {},
     "output_type": "execute_result"
    }
   ],
   "source": [
    "greetings_default(\"Albert\", \"Nerea\", language=\"es\")"
   ]
  },
  {
   "cell_type": "markdown",
   "id": "e1d44463",
   "metadata": {},
   "source": [
    "2. `calculation (num_1, num_2, operation=\"+\")`"
   ]
  },
  {
   "cell_type": "code",
   "execution_count": 29,
   "id": "e9045036",
   "metadata": {},
   "outputs": [],
   "source": [
    "def calculation (num_1, num_2, operation=\"+\"):\n",
    "    \n",
    "    if operation == \"+\":\n",
    "        result = num_1 + num_2\n",
    "    elif operation == \"*\":\n",
    "        result =  num_1 * num_2\n",
    "    elif operation == \"/\":\n",
    "        result = num_1 / num_2\n",
    "    else:\n",
    "        return f\"You're missing operation\"\n",
    "    \n",
    "    return result"
   ]
  },
  {
   "cell_type": "code",
   "execution_count": 30,
   "id": "cfdfe814",
   "metadata": {},
   "outputs": [
    {
     "data": {
      "text/plain": [
       "5"
      ]
     },
     "execution_count": 30,
     "metadata": {},
     "output_type": "execute_result"
    }
   ],
   "source": [
    "calculation (3, 2)"
   ]
  },
  {
   "cell_type": "code",
   "execution_count": 31,
   "id": "79b3f972",
   "metadata": {},
   "outputs": [
    {
     "data": {
      "text/plain": [
       "6"
      ]
     },
     "execution_count": 31,
     "metadata": {},
     "output_type": "execute_result"
    }
   ],
   "source": [
    "calculation (3, 2, operation=\"*\")"
   ]
  },
  {
   "cell_type": "code",
   "execution_count": 32,
   "id": "3fc8f1a7",
   "metadata": {},
   "outputs": [
    {
     "data": {
      "text/plain": [
       "1.5"
      ]
     },
     "execution_count": 32,
     "metadata": {},
     "output_type": "execute_result"
    }
   ],
   "source": [
    "calculation (3, 2, operation=\"/\")"
   ]
  },
  {
   "cell_type": "code",
   "execution_count": 33,
   "id": "47b56bc7",
   "metadata": {},
   "outputs": [],
   "source": [
    "# calculation(10) # TypeError: calculation() missing 1 required positional argument: 'num_2'"
   ]
  },
  {
   "cell_type": "code",
   "execution_count": 34,
   "id": "85c2a3e7",
   "metadata": {},
   "outputs": [
    {
     "data": {
      "text/plain": [
       "\"You're missing operation\""
      ]
     },
     "execution_count": 34,
     "metadata": {},
     "output_type": "execute_result"
    }
   ],
   "source": [
    "calculation(10, 30, 30)"
   ]
  },
  {
   "cell_type": "markdown",
   "id": "f7d058d7",
   "metadata": {},
   "source": [
    "#### positional arguments & keyword arguments"
   ]
  },
  {
   "cell_type": "markdown",
   "id": "bd194129",
   "metadata": {},
   "source": [
    "`def addition (num_1, )`"
   ]
  },
  {
   "cell_type": "markdown",
   "id": "b77b53ca",
   "metadata": {},
   "source": [
    "#### `*args`\n",
    "In Python, the special parameter `*args` in a function is used to optionally pass a variable number of **positional** arguments."
   ]
  },
  {
   "cell_type": "markdown",
   "id": "2bb755bc",
   "metadata": {},
   "source": [
    "`two arguments`"
   ]
  },
  {
   "cell_type": "code",
   "execution_count": null,
   "id": "d0dc3ab5",
   "metadata": {},
   "outputs": [],
   "source": [
    "def addition_positional (a, b):\n",
    "    return a + b"
   ]
  },
  {
   "cell_type": "code",
   "execution_count": null,
   "id": "95e8111c",
   "metadata": {},
   "outputs": [],
   "source": [
    "addition_positional (3, 5)"
   ]
  },
  {
   "cell_type": "markdown",
   "id": "7fee6e45",
   "metadata": {},
   "source": [
    "`unkown number of arguments`"
   ]
  },
  {
   "cell_type": "code",
   "execution_count": 229,
   "id": "bd9220c4",
   "metadata": {},
   "outputs": [],
   "source": [
    "def addition_args (*numbers):\n",
    "    sum_ = 0\n",
    "    for i in numbers: \n",
    "        sum_ += i\n",
    "    return sum_"
   ]
  },
  {
   "cell_type": "code",
   "execution_count": 231,
   "id": "ca7f91f8",
   "metadata": {
    "scrolled": true
   },
   "outputs": [
    {
     "data": {
      "text/plain": [
       "608"
      ]
     },
     "execution_count": 231,
     "metadata": {},
     "output_type": "execute_result"
    }
   ],
   "source": [
    "addition_args (3, 5, 100, 500)"
   ]
  },
  {
   "cell_type": "markdown",
   "id": "17a04c9e",
   "metadata": {},
   "source": [
    "`otherwise`: errors"
   ]
  },
  {
   "cell_type": "code",
   "execution_count": 365,
   "id": "6d493c0a",
   "metadata": {},
   "outputs": [],
   "source": [
    "#addition_positional(3, 5, 10)"
   ]
  },
  {
   "cell_type": "markdown",
   "id": "67833de1",
   "metadata": {},
   "source": [
    "#### **kwargs"
   ]
  },
  {
   "cell_type": "code",
   "execution_count": null,
   "id": "031caf2e",
   "metadata": {},
   "outputs": [],
   "source": []
  },
  {
   "cell_type": "markdown",
   "id": "5f771d55",
   "metadata": {},
   "source": [
    "#### order"
   ]
  },
  {
   "cell_type": "markdown",
   "id": "404f25e8",
   "metadata": {},
   "source": [
    "`def example(arg1, arg2, *args,**kwargs)`"
   ]
  },
  {
   "cell_type": "markdown",
   "id": "5a76c906",
   "metadata": {},
   "source": [
    "### return\n",
    "\n",
    "- return gives you something back\n",
    "- there can be more than one return\n",
    "- after a function returns something, the execution STOPS"
   ]
  },
  {
   "cell_type": "markdown",
   "id": "2103c1e7",
   "metadata": {},
   "source": [
    "`function with return`"
   ]
  },
  {
   "cell_type": "code",
   "execution_count": 56,
   "id": "6a9559aa",
   "metadata": {},
   "outputs": [],
   "source": [
    "# DOES THINGS\n",
    "   # Downloads a file from the internet \n",
    "    # Return something? no"
   ]
  },
  {
   "cell_type": "code",
   "execution_count": 57,
   "id": "5807080c",
   "metadata": {},
   "outputs": [],
   "source": [
    "def say_hello_return (name):\n",
    "    return f\"Hello {name}\" #does things and gives me something back"
   ]
  },
  {
   "cell_type": "code",
   "execution_count": 58,
   "id": "6c793b13",
   "metadata": {},
   "outputs": [
    {
     "data": {
      "text/plain": [
       "'Hello Nerea'"
      ]
     },
     "execution_count": 58,
     "metadata": {},
     "output_type": "execute_result"
    }
   ],
   "source": [
    "say_hello_return(\"Nerea\")"
   ]
  },
  {
   "cell_type": "code",
   "execution_count": 59,
   "id": "987b212e",
   "metadata": {},
   "outputs": [
    {
     "name": "stdout",
     "output_type": "stream",
     "text": [
      "Hello Nerea\n"
     ]
    },
    {
     "data": {
      "text/plain": [
       "NoneType"
      ]
     },
     "execution_count": 59,
     "metadata": {},
     "output_type": "execute_result"
    }
   ],
   "source": [
    "type(say_hello_print(\"Nerea\"))"
   ]
  },
  {
   "cell_type": "markdown",
   "id": "b1b909ef",
   "metadata": {},
   "source": [
    "`function with no return`: NoneType"
   ]
  },
  {
   "cell_type": "code",
   "execution_count": 60,
   "id": "a6fe6b06",
   "metadata": {},
   "outputs": [],
   "source": [
    "# DO RETURN THINGS\n",
    "    # save the result into a variable\n",
    "    # act on that result"
   ]
  },
  {
   "cell_type": "code",
   "execution_count": 61,
   "id": "352044e1",
   "metadata": {},
   "outputs": [],
   "source": [
    "def say_hello_print (name):\n",
    "    print (f\"Hello {name}\") #does things and doesn't give me anything back"
   ]
  },
  {
   "cell_type": "code",
   "execution_count": 62,
   "id": "eb889592",
   "metadata": {},
   "outputs": [
    {
     "name": "stdout",
     "output_type": "stream",
     "text": [
      "Hello Nerea\n"
     ]
    }
   ],
   "source": [
    "say_hello_print(\"Nerea\")"
   ]
  },
  {
   "cell_type": "markdown",
   "id": "5c0ee93a",
   "metadata": {},
   "source": [
    "`accessing the value of the result of the function`: print & return"
   ]
  },
  {
   "cell_type": "code",
   "execution_count": 63,
   "id": "f9c74cc9",
   "metadata": {},
   "outputs": [],
   "source": [
    "sentence_return = say_hello_return(\"Nerea\")"
   ]
  },
  {
   "cell_type": "code",
   "execution_count": 64,
   "id": "d59f40c5",
   "metadata": {},
   "outputs": [
    {
     "data": {
      "text/plain": [
       "'HELLO NEREA'"
      ]
     },
     "execution_count": 64,
     "metadata": {},
     "output_type": "execute_result"
    }
   ],
   "source": [
    "sentence_return.upper()"
   ]
  },
  {
   "cell_type": "code",
   "execution_count": 68,
   "id": "a3cb4604",
   "metadata": {},
   "outputs": [
    {
     "name": "stdout",
     "output_type": "stream",
     "text": [
      "Hello Nerea\n"
     ]
    }
   ],
   "source": [
    "sentence_print = say_hello_print(\"Nerea\")"
   ]
  },
  {
   "cell_type": "code",
   "execution_count": 70,
   "id": "902649d5",
   "metadata": {},
   "outputs": [],
   "source": [
    "# sentence_print.upper() # AttributeError: 'NoneType' object has no attribute 'upper'"
   ]
  },
  {
   "cell_type": "markdown",
   "id": "4dd9cbca",
   "metadata": {},
   "source": [
    "`more than one return`"
   ]
  },
  {
   "cell_type": "code",
   "execution_count": 97,
   "id": "26ea441c",
   "metadata": {},
   "outputs": [],
   "source": [
    "def two_numbers (num_1, num_2):\n",
    "    if num_1 > num_2:\n",
    "        return f\"{num_1} is greater\"\n",
    "    else:\n",
    "        return f\"{num_1} is NOT greater!\"\n",
    "    \n",
    "    print(\"This will never get executed\")"
   ]
  },
  {
   "cell_type": "code",
   "execution_count": 98,
   "id": "5761a59f",
   "metadata": {},
   "outputs": [
    {
     "data": {
      "text/plain": [
       "'10 is greater'"
      ]
     },
     "execution_count": 98,
     "metadata": {},
     "output_type": "execute_result"
    }
   ],
   "source": [
    "two_numbers (10, 2)"
   ]
  },
  {
   "cell_type": "code",
   "execution_count": 99,
   "id": "7630f24a",
   "metadata": {},
   "outputs": [
    {
     "data": {
      "text/plain": [
       "'2 is NOT greater!'"
      ]
     },
     "execution_count": 99,
     "metadata": {},
     "output_type": "execute_result"
    }
   ],
   "source": [
    "two_numbers (2, 10)"
   ]
  },
  {
   "cell_type": "markdown",
   "id": "0717ac4d",
   "metadata": {},
   "source": [
    "### Docstrings: documentation strings"
   ]
  },
  {
   "cell_type": "markdown",
   "id": "49be14dc",
   "metadata": {},
   "source": [
    "- The code is written 1 time.\n",
    "- The code is read 100 times.\n",
    "- Help your colleagues understand your work.\n",
    "\n",
    "![lafoto](https://res.cloudinary.com/highflyer910/image/upload/v1589577574/1_1_httqnc.jpg)"
   ]
  },
  {
   "cell_type": "markdown",
   "id": "ffd2ecb0",
   "metadata": {},
   "source": [
    "In this example, we have defined a cat function that returns meow. We have declared a docstring that explains what the function does. To get the docstring of a function, we need to display the doc attribute (print(cat.__doc__))\n",
    "Photo reference, description and more info about docstring [here](https://techiestuff.netlify.app/blog/what-is-a-python-docstring/)"
   ]
  },
  {
   "cell_type": "code",
   "execution_count": 12,
   "id": "8db41335",
   "metadata": {},
   "outputs": [],
   "source": [
    "def cat (animal):\n",
    "    \"\"\"This function mewos to you\n",
    "    :animal: str. It is the animal that does the thing\n",
    "    :return: str: a formatted string\n",
    "    \"\"\"\n",
    "    \n",
    "    return f\"The animal {animal} mewos\""
   ]
  },
  {
   "cell_type": "markdown",
   "id": "7eae7533",
   "metadata": {},
   "source": [
    "### source code"
   ]
  },
  {
   "cell_type": "code",
   "execution_count": 16,
   "id": "dde94afb",
   "metadata": {},
   "outputs": [],
   "source": [
    "def greetings (name):\n",
    "    \"\"\"This function says hello and your name\n",
    "    \"\"\"\n",
    "    return f\"Hello, my name is {name}!\""
   ]
  },
  {
   "cell_type": "code",
   "execution_count": 17,
   "id": "abd51c17",
   "metadata": {},
   "outputs": [
    {
     "name": "stdout",
     "output_type": "stream",
     "text": [
      "def greetings (name):\n",
      "    \"\"\"This function says hello and your name\n",
      "    \"\"\"\n",
      "    return f\"Hello, my name is {name}!\"\n",
      "\n"
     ]
    }
   ],
   "source": [
    "import inspect\n",
    "print(inspect.getsource(greetings))"
   ]
  },
  {
   "cell_type": "code",
   "execution_count": 135,
   "id": "ce0c931e",
   "metadata": {},
   "outputs": [
    {
     "data": {
      "text/plain": [
       "'Hello, my name is Laura!'"
      ]
     },
     "execution_count": 135,
     "metadata": {},
     "output_type": "execute_result"
    }
   ],
   "source": [
    "greetings(\"Laura\")"
   ]
  },
  {
   "cell_type": "code",
   "execution_count": 137,
   "id": "0c33b3fc",
   "metadata": {},
   "outputs": [
    {
     "name": "stdout",
     "output_type": "stream",
     "text": [
      "This function says hello and your name\n",
      "    \n"
     ]
    }
   ],
   "source": [
    "print(greetings.__doc__)"
   ]
  },
  {
   "cell_type": "code",
   "execution_count": 165,
   "id": "effaa2ad",
   "metadata": {},
   "outputs": [],
   "source": [
    "def say_hello_return(name):\n",
    "    return f\"Hello {name}\" # return "
   ]
  },
  {
   "cell_type": "code",
   "execution_count": 166,
   "id": "e2bcab4c",
   "metadata": {},
   "outputs": [
    {
     "data": {
      "text/plain": [
       "'Hello Nerea'"
      ]
     },
     "execution_count": 166,
     "metadata": {},
     "output_type": "execute_result"
    }
   ],
   "source": [
    "say_hello_return(\"Nerea\")"
   ]
  },
  {
   "cell_type": "code",
   "execution_count": 168,
   "id": "0f4f73cb",
   "metadata": {},
   "outputs": [
    {
     "data": {
      "text/plain": [
       "'Hello Nerea'"
      ]
     },
     "execution_count": 168,
     "metadata": {},
     "output_type": "execute_result"
    }
   ],
   "source": [
    "upper_result = say_hello_return(\"Nerea\")\n",
    "upper_result"
   ]
  },
  {
   "cell_type": "code",
   "execution_count": 192,
   "id": "6c7450bb",
   "metadata": {},
   "outputs": [
    {
     "data": {
      "text/plain": [
       "'Hello Nerea'"
      ]
     },
     "execution_count": 192,
     "metadata": {},
     "output_type": "execute_result"
    }
   ],
   "source": [
    "upper_result"
   ]
  },
  {
   "cell_type": "code",
   "execution_count": 169,
   "id": "6d3f5e54",
   "metadata": {},
   "outputs": [
    {
     "data": {
      "text/plain": [
       "'HELLO NEREA'"
      ]
     },
     "execution_count": 169,
     "metadata": {},
     "output_type": "execute_result"
    }
   ],
   "source": [
    "upper_result.upper()"
   ]
  },
  {
   "cell_type": "code",
   "execution_count": 174,
   "id": "e0c38daf",
   "metadata": {},
   "outputs": [],
   "source": [
    "import os"
   ]
  },
  {
   "cell_type": "code",
   "execution_count": 175,
   "id": "2e90e755",
   "metadata": {},
   "outputs": [
    {
     "name": "stdout",
     "output_type": "stream",
     "text": [
      "/Users/fernandocosta/IRONHACK/lectures/week-1\n"
     ]
    },
    {
     "data": {
      "text/plain": [
       "0"
      ]
     },
     "execution_count": 175,
     "metadata": {},
     "output_type": "execute_result"
    }
   ],
   "source": [
    "os.system(\"pwd\")"
   ]
  },
  {
   "cell_type": "code",
   "execution_count": 190,
   "id": "203ad865",
   "metadata": {},
   "outputs": [],
   "source": [
    "def donwload_script (url, name):\n",
    "    \"\"\"\n",
    "    Download smething from the internet\n",
    "    and keep the path\"\"\"\n",
    "    \n",
    "    #1. Downloading the file\n",
    "    os.system(f\"curl {url} > {name}.py\")\n",
    "    os.system(f\"python {name}.py\")\n",
    "    \n",
    "    #2. Running the file\n",
    "    os.system(\"say executing script\")\n",
    "    os.system(f\"rm -f {name}\")\n",
    "    \n",
    "    \n",
    "    #3. Gettinf feedback"
   ]
  },
  {
   "cell_type": "code",
   "execution_count": 191,
   "id": "9f84cda7",
   "metadata": {},
   "outputs": [
    {
     "name": "stderr",
     "output_type": "stream",
     "text": [
      "  % Total    % Received % Xferd  Average Speed   Time    Time     Time  Current\n",
      "                                 Dload  Upload   Total   Spent    Left  Speed\n",
      "100    20  100    20    0     0     57      0 --:--:-- --:--:-- --:--:--    57\n"
     ]
    },
    {
     "name": "stdout",
     "output_type": "stream",
     "text": [
      "Hello world\n"
     ]
    }
   ],
   "source": [
    "donwload_script (\"https://raw.githubusercontent.com/Ironhack-data-bcn-january-2023/lectures/main/example_3.py\", \"hellothere.py\")"
   ]
  },
  {
   "cell_type": "code",
   "execution_count": 202,
   "id": "cfd8b314",
   "metadata": {},
   "outputs": [],
   "source": [
    "def donwload_script (url, name):\n",
    "    \"\"\"\n",
    "    Download smething from the internet\n",
    "    and keep the path\"\"\"\n",
    "    \n",
    "    os.system(f\"curl {url} > {name}.py\")\n",
    "    os.system(f\"python {name}.py\")"
   ]
  },
  {
   "cell_type": "code",
   "execution_count": 198,
   "id": "d6f50f5e",
   "metadata": {},
   "outputs": [
    {
     "name": "stderr",
     "output_type": "stream",
     "text": [
      "  % Total    % Received % Xferd  Average Speed   Time    Time     Time  Current\n",
      "                                 Dload  Upload   Total   Spent    Left  Speed\n",
      "\r",
      "  0     0    0     0    0     0      0      0 --:--:-- --:--:-- --:--:--     0"
     ]
    },
    {
     "name": "stdout",
     "output_type": "stream",
     "text": [
      "Hello world\n",
      "/Users/fernandocosta/IRONHACK/lectures/week-1\n"
     ]
    },
    {
     "name": "stderr",
     "output_type": "stream",
     "text": [
      "\r",
      "100    20  100    20    0     0     53      0 --:--:-- --:--:-- --:--:--    53\n"
     ]
    },
    {
     "data": {
      "text/plain": [
       "0"
      ]
     },
     "execution_count": 198,
     "metadata": {},
     "output_type": "execute_result"
    }
   ],
   "source": [
    "donwload_script (\"https://raw.githubusercontent.com/Ironhack-data-bcn-january-2023/lectures/main/example_3.py\", \"hellothere.py\")"
   ]
  },
  {
   "cell_type": "code",
   "execution_count": 199,
   "id": "bcfbce1b",
   "metadata": {
    "scrolled": true
   },
   "outputs": [
    {
     "name": "stderr",
     "output_type": "stream",
     "text": [
      "  % Total    % Received % Xferd  Average Speed   Time    Time     Time  Current\n",
      "                                 Dload  Upload   Total   Spent    Left  Speed\n",
      "\r",
      "  0     0    0     0    0     0      0      0 --:--:-- --:--:-- --:--:--     0\r",
      "100    20  100    20    0     0    286      0 --:--:-- --:--:-- --:--:--   289\n"
     ]
    },
    {
     "name": "stdout",
     "output_type": "stream",
     "text": [
      "Hello world\n",
      "/Users/fernandocosta/IRONHACK/lectures/week-1\n"
     ]
    }
   ],
   "source": [
    "path_saved = donwload_script (\"https://raw.githubusercontent.com/Ironhack-data-bcn-january-2023/lectures/main/example_3.py\", \"hellothere.py\")"
   ]
  },
  {
   "cell_type": "code",
   "execution_count": 201,
   "id": "972a199c",
   "metadata": {},
   "outputs": [
    {
     "data": {
      "text/plain": [
       "0"
      ]
     },
     "execution_count": 201,
     "metadata": {},
     "output_type": "execute_result"
    }
   ],
   "source": [
    "path_saved"
   ]
  },
  {
   "cell_type": "code",
   "execution_count": null,
   "id": "45bcc816",
   "metadata": {},
   "outputs": [],
   "source": [
    "donwload_script (\"https://raw.githubusercontent.com/Ironhack-data-bcn-january-2023/lectures/main/example_3.py\", \"hellothere.py\")"
   ]
  },
  {
   "cell_type": "code",
   "execution_count": 207,
   "id": "e04d6fd0",
   "metadata": {},
   "outputs": [
    {
     "name": "stdout",
     "output_type": "stream",
     "text": [
      "3\n"
     ]
    },
    {
     "data": {
      "text/plain": [
       "NoneType"
      ]
     },
     "execution_count": 207,
     "metadata": {},
     "output_type": "execute_result"
    }
   ],
   "source": [
    "type(addition_print(1, 2))"
   ]
  },
  {
   "cell_type": "code",
   "execution_count": 205,
   "id": "e40e8a0b",
   "metadata": {},
   "outputs": [],
   "source": [
    "def addition_return(a, b):\n",
    "    return a+b"
   ]
  },
  {
   "cell_type": "code",
   "execution_count": 206,
   "id": "2a637ab1",
   "metadata": {},
   "outputs": [
    {
     "data": {
      "text/plain": [
       "3"
      ]
     },
     "execution_count": 206,
     "metadata": {},
     "output_type": "execute_result"
    }
   ],
   "source": [
    "addition_return(1, 2)"
   ]
  },
  {
   "cell_type": "code",
   "execution_count": 208,
   "id": "f20ad24d",
   "metadata": {
    "scrolled": true
   },
   "outputs": [
    {
     "data": {
      "text/plain": [
       "int"
      ]
     },
     "execution_count": 208,
     "metadata": {},
     "output_type": "execute_result"
    }
   ],
   "source": [
    "type(addition_return(1, 2))"
   ]
  },
  {
   "cell_type": "code",
   "execution_count": null,
   "id": "ffcbac3d",
   "metadata": {},
   "outputs": [],
   "source": [
    "# If you run functions\n",
    "    # NoneType\n",
    "    # NoneType is not suscriptable\n",
    "    # DEBUGGING -> MESSAGE\n",
    "        # \"Nonetype\"? -> do you need to return?"
   ]
  },
  {
   "cell_type": "markdown",
   "id": "f65b59cf",
   "metadata": {
    "lang": "en"
   },
   "source": [
    "## Let's write functions"
   ]
  },
  {
   "cell_type": "markdown",
   "id": "8b6148b3",
   "metadata": {
    "lang": "en"
   },
   "source": [
    "**Example**: I am given a time in the following format: `\"04:52\"`, minutes and seconds. Calculate the integer number of seconds."
   ]
  },
  {
   "cell_type": "markdown",
   "id": "86c5ccda",
   "metadata": {
    "lang": "en"
   },
   "source": [
    "## Scope of functions"
   ]
  },
  {
   "cell_type": "code",
   "execution_count": null,
   "id": "7cb837df",
   "metadata": {},
   "outputs": [],
   "source": []
  },
  {
   "cell_type": "markdown",
   "id": "80ccf4fe",
   "metadata": {},
   "source": [
    "[Extra: global variables](https://www.w3schools.com/python/python_variables_global.asp)"
   ]
  },
  {
   "cell_type": "code",
   "execution_count": null,
   "id": "ec82d0e4",
   "metadata": {},
   "outputs": [],
   "source": []
  },
  {
   "cell_type": "markdown",
   "id": "ed14ae9a",
   "metadata": {
    "lang": "en"
   },
   "source": [
    "## *Args\n",
    "In Python, the special parameter `*args` in a function is used to optionally pass a variable number of positional arguments."
   ]
  },
  {
   "cell_type": "markdown",
   "id": "d6f3043e",
   "metadata": {
    "lang": "en"
   },
   "source": [
    "## **Kwargs"
   ]
  },
  {
   "cell_type": "markdown",
   "id": "98ca1af5",
   "metadata": {
    "lang": "en"
   },
   "source": [
    "We can also pass a dictionary as an argument using the parameter names (**kwargs) as keys.\n",
    "Use **kwargs to optionally pass a variable number of named arguments to a function.\n",
    "It is a dictionary whose keys become parameters and their values ​​become the arguments of the parameters.\n",
    "The **kwargs parameter receives the arguments as a dictionary."
   ]
  },
  {
   "cell_type": "code",
   "execution_count": 404,
   "id": "83308f1a",
   "metadata": {},
   "outputs": [],
   "source": [
    "def positional_and_kwargs (a, b, *args, **kwargs):\n",
    "    print(a)\n",
    "    print(b)\n",
    "    print(args)\n",
    "    for key ,value in kwargs.items():\n",
    "        print(f\"My {key} is {value}\")"
   ]
  },
  {
   "cell_type": "code",
   "execution_count": 367,
   "id": "285b0163",
   "metadata": {
    "scrolled": true
   },
   "outputs": [
    {
     "name": "stdout",
     "output_type": "stream",
     "text": [
      "5\n",
      "My name is Nerea\n",
      "My age is 25\n",
      "My role is ta\n"
     ]
    }
   ],
   "source": [
    "positional_and_kwargs (5, name=\"Nerea\", age=25, role=\"ta\")"
   ]
  },
  {
   "cell_type": "code",
   "execution_count": 370,
   "id": "1b1c031d",
   "metadata": {},
   "outputs": [
    {
     "name": "stdout",
     "output_type": "stream",
     "text": [
      "5\n",
      "My name is Nerea\n",
      "My age is 25\n",
      "My role is ta\n"
     ]
    }
   ],
   "source": [
    "positional_and_kwargs (5, name=\"Nerea\", age=25, role=\"ta\")"
   ]
  },
  {
   "cell_type": "code",
   "execution_count": 405,
   "id": "dea5db2b",
   "metadata": {},
   "outputs": [
    {
     "name": "stdout",
     "output_type": "stream",
     "text": [
      "3\n",
      "5\n",
      "([1, 2, 34],)\n",
      "My name is nerea\n",
      "My age is 25\n"
     ]
    }
   ],
   "source": [
    "positional_and_kwargs (3, 5, [1, 2, 34], **info)"
   ]
  },
  {
   "cell_type": "code",
   "execution_count": 391,
   "id": "dddc3ba5",
   "metadata": {},
   "outputs": [],
   "source": [
    "info = {\n",
    "    \"name\":\"nerea\",\n",
    "    \"age\": 25\n",
    "}"
   ]
  },
  {
   "cell_type": "code",
   "execution_count": 393,
   "id": "9c03107f",
   "metadata": {},
   "outputs": [],
   "source": [
    "info_someone_else = {\n",
    "    \"name\": \"clara\",\n",
    "    \"age\": 30,\n",
    "    \"location\": \"poblenou\",\n",
    "    \"idk\":\"something else\"\n",
    "}"
   ]
  },
  {
   "cell_type": "code",
   "execution_count": 402,
   "id": "fe4d7c25",
   "metadata": {},
   "outputs": [
    {
     "ename": "TypeError",
     "evalue": "positional_and_kwargs() takes 1 positional argument but 2 were given",
     "output_type": "error",
     "traceback": [
      "\u001b[0;31m---------------------------------------------------------------------------\u001b[0m",
      "\u001b[0;31mTypeError\u001b[0m                                 Traceback (most recent call last)",
      "Input \u001b[0;32mIn [402]\u001b[0m, in \u001b[0;36m<cell line: 1>\u001b[0;34m()\u001b[0m\n\u001b[0;32m----> 1\u001b[0m \u001b[43mpositional_and_kwargs\u001b[49m\u001b[43m(\u001b[49m\u001b[38;5;241;43m10\u001b[39;49m\u001b[43m,\u001b[49m\u001b[43m \u001b[49m\u001b[43minfo\u001b[49m\u001b[43m)\u001b[49m\n",
      "\u001b[0;31mTypeError\u001b[0m: positional_and_kwargs() takes 1 positional argument but 2 were given"
     ]
    }
   ],
   "source": [
    "positional_and_kwargs(10, info)"
   ]
  },
  {
   "cell_type": "code",
   "execution_count": 400,
   "id": "a9c5f02d",
   "metadata": {},
   "outputs": [
    {
     "name": "stdout",
     "output_type": "stream",
     "text": [
      "10\n",
      "My name is nerea\n",
      "My age is 25\n"
     ]
    }
   ],
   "source": [
    "positional_and_kwargs(10, **info)"
   ]
  },
  {
   "cell_type": "code",
   "execution_count": 398,
   "id": "b8776320",
   "metadata": {},
   "outputs": [
    {
     "name": "stdout",
     "output_type": "stream",
     "text": [
      "10\n",
      "My name is clara\n",
      "My age is 30\n",
      "My location is poblenou\n",
      "My idk is something else\n"
     ]
    }
   ],
   "source": [
    "positional_and_kwargs(10, **info_someone_else)"
   ]
  },
  {
   "cell_type": "code",
   "execution_count": 368,
   "id": "232579f0",
   "metadata": {
    "scrolled": true
   },
   "outputs": [
    {
     "name": "stdout",
     "output_type": "stream",
     "text": [
      "5\n",
      "My greeting is Hey there\n",
      "My name is Nerea\n",
      "My age is 49\n",
      "My role is ta\n",
      "My another_kw_arg is this does something\n"
     ]
    }
   ],
   "source": [
    "positional_and_kwargs (5, greeting=\"Hey there\", name=\"Nerea\", age=49, role=\"ta\", another_kw_arg=\"this does something\")"
   ]
  },
  {
   "cell_type": "code",
   "execution_count": 372,
   "id": "6d3e5fb5",
   "metadata": {},
   "outputs": [],
   "source": [
    "def printer_function (positional_1, positional_2, *args, **kwargs):\n",
    "    print(positional_1)\n",
    "    print(positional_2)\n",
    "    print(args)\n",
    "    print(kwargs)"
   ]
  },
  {
   "cell_type": "code",
   "execution_count": 376,
   "id": "46abd9d6",
   "metadata": {},
   "outputs": [
    {
     "name": "stdout",
     "output_type": "stream",
     "text": [
      "1\n",
      "second\n",
      "(2, 3, 4, 5, 5, 45, 5, 5, 5)\n",
      "{'hello': 'hi', 'another': 'hello'}\n"
     ]
    }
   ],
   "source": [
    "printer_function (1, \"second\", 2, 3, 4, 5, 5, 45, 5, 5, 5, hello=\"hi\", another=\"hello\")"
   ]
  },
  {
   "cell_type": "code",
   "execution_count": null,
   "id": "0f1b3fa6",
   "metadata": {},
   "outputs": [],
   "source": [
    "order goes like this -> (a, b, *args, **kwargs)"
   ]
  },
  {
   "cell_type": "code",
   "execution_count": 414,
   "id": "07c80dff",
   "metadata": {},
   "outputs": [],
   "source": [
    "def big_addition (positional, *args, **kwargs):\n",
    "    total = 0\n",
    "    \n",
    "    # 1. positional\n",
    "    total += positional\n",
    "    \n",
    "    #2. *args: if it's an int OR if it's a list\n",
    "    for i in args:\n",
    "        if type(i) == int:\n",
    "            total += i\n",
    "        elif type(i) == list:\n",
    "            total += sum(i)\n",
    "    \n",
    "    #3. dictionary\n",
    "    total += sum(list(kwargs.values()))\n",
    "    \n",
    "    return total"
   ]
  },
  {
   "cell_type": "code",
   "execution_count": 415,
   "id": "6bc537a5",
   "metadata": {},
   "outputs": [
    {
     "data": {
      "text/plain": [
       "3114"
      ]
     },
     "execution_count": 415,
     "metadata": {},
     "output_type": "execute_result"
    }
   ],
   "source": [
    "big_addition(100, 2, 3, 4, 5, [1000, 1000, 1000])"
   ]
  },
  {
   "cell_type": "code",
   "execution_count": 416,
   "id": "f8ee9865",
   "metadata": {},
   "outputs": [],
   "source": [
    "list_big = [1000, 1000, 1000]"
   ]
  },
  {
   "cell_type": "code",
   "execution_count": 417,
   "id": "683bbb97",
   "metadata": {},
   "outputs": [
    {
     "data": {
      "text/plain": [
       "3144"
      ]
     },
     "execution_count": 417,
     "metadata": {},
     "output_type": "execute_result"
    }
   ],
   "source": [
    "big_addition(100, 2, 3, 4, 5, *list_big, **info)"
   ]
  },
  {
   "cell_type": "code",
   "execution_count": 406,
   "id": "e3608389",
   "metadata": {},
   "outputs": [],
   "source": [
    "info = {\n",
    "    \"1\": 10,\n",
    "    \"2\":20\n",
    "}"
   ]
  },
  {
   "cell_type": "code",
   "execution_count": 413,
   "id": "3a64fdae",
   "metadata": {},
   "outputs": [
    {
     "data": {
      "text/plain": [
       "30"
      ]
     },
     "execution_count": 413,
     "metadata": {},
     "output_type": "execute_result"
    }
   ],
   "source": [
    "sum(list(info.values()))"
   ]
  },
  {
   "cell_type": "markdown",
   "id": "daf6126f",
   "metadata": {
    "lang": "en"
   },
   "source": [
    "## Order Matters\n",
    "The order of the parameters when defining a function matters...\n",
    "```python\n",
    "def example(arg1, arg2, *args,**kwargs)\n",
    "```"
   ]
  },
  {
   "cell_type": "code",
   "execution_count": null,
   "id": "2e4f825a",
   "metadata": {},
   "outputs": [],
   "source": []
  },
  {
   "cell_type": "code",
   "execution_count": null,
   "id": "132faa6f",
   "metadata": {},
   "outputs": [],
   "source": []
  },
  {
   "cell_type": "markdown",
   "id": "28a2d72b",
   "metadata": {
    "lang": "en"
   },
   "source": [
    "## Lambda\n",
    "A lambda function is an anonymous function, with no identifier, that can be declared in place. Since we can take functions as arguments and assign them to variables, the notation that makes it possible to create lambda functions is very handy in many cases.\n",
    "\n",
    "\n",
    "### Syntax of a lambda\n",
    "```python\n",
    "lambda <param list>:<return expression>\n",
    "```\n"
   ]
  },
  {
   "cell_type": "code",
   "execution_count": 443,
   "id": "a12e25f3",
   "metadata": {},
   "outputs": [
    {
     "data": {
      "text/plain": [
       "<function __main__.<lambda>(a, b)>"
      ]
     },
     "execution_count": 443,
     "metadata": {},
     "output_type": "execute_result"
    }
   ],
   "source": [
    "lambda a, b: a + b"
   ]
  },
  {
   "cell_type": "markdown",
   "id": "2ef194d2",
   "metadata": {},
   "source": [
    "### lambda examples"
   ]
  },
  {
   "cell_type": "code",
   "execution_count": 444,
   "id": "061c51e8",
   "metadata": {},
   "outputs": [
    {
     "data": {
      "text/plain": [
       "8"
      ]
     },
     "execution_count": 444,
     "metadata": {},
     "output_type": "execute_result"
    }
   ],
   "source": [
    "result = lambda a, b: a + b\n",
    "result(3, 5)"
   ]
  },
  {
   "cell_type": "code",
   "execution_count": 439,
   "id": "f69c2462",
   "metadata": {},
   "outputs": [],
   "source": [
    "def addition (a, b):\n",
    "    return a + b"
   ]
  },
  {
   "cell_type": "code",
   "execution_count": 442,
   "id": "b2fbcfb2",
   "metadata": {},
   "outputs": [
    {
     "data": {
      "text/plain": [
       "8"
      ]
     },
     "execution_count": 442,
     "metadata": {},
     "output_type": "execute_result"
    }
   ],
   "source": [
    "addition(3, 5)"
   ]
  },
  {
   "cell_type": "markdown",
   "id": "460a76bd",
   "metadata": {},
   "source": [
    "### `lambda`  as the option of some other built-in functions"
   ]
  },
  {
   "cell_type": "markdown",
   "id": "85df84e3",
   "metadata": {
    "lang": "en"
   },
   "source": [
    "It is also possible to use these anonymous functions as arguments in calls to other functions. For example, in a call to sorted() or list.sort() we can use a lambda function as an argument to the key parameter:"
   ]
  },
  {
   "cell_type": "code",
   "execution_count": 431,
   "id": "24bc7b31",
   "metadata": {},
   "outputs": [],
   "source": [
    "list_of_tuples = [(\"zbcn\", 345678), (\"mad\", 111), (\"vlc\", 345670000)]"
   ]
  },
  {
   "cell_type": "code",
   "execution_count": 445,
   "id": "148d66f8",
   "metadata": {},
   "outputs": [
    {
     "data": {
      "text/plain": [
       "[('mad', 111), ('zbcn', 345678), ('vlc', 345670000)]"
      ]
     },
     "execution_count": 445,
     "metadata": {},
     "output_type": "execute_result"
    }
   ],
   "source": [
    "sorted(list_of_tuples, key= lambda anything: anything[-1])"
   ]
  },
  {
   "cell_type": "code",
   "execution_count": 446,
   "id": "b5493ccd",
   "metadata": {},
   "outputs": [],
   "source": [
    "def greater (a, b):\n",
    "    \n",
    "    if a > b:\n",
    "        return a\n",
    "    elif b > a:\n",
    "        return b"
   ]
  },
  {
   "cell_type": "code",
   "execution_count": 447,
   "id": "bd958d5d",
   "metadata": {},
   "outputs": [
    {
     "data": {
      "text/plain": [
       "5"
      ]
     },
     "execution_count": 447,
     "metadata": {},
     "output_type": "execute_result"
    }
   ],
   "source": [
    "greater (5, 3)"
   ]
  },
  {
   "cell_type": "code",
   "execution_count": 448,
   "id": "1384bc38",
   "metadata": {},
   "outputs": [
    {
     "data": {
      "text/plain": [
       "5"
      ]
     },
     "execution_count": 448,
     "metadata": {},
     "output_type": "execute_result"
    }
   ],
   "source": [
    "greater (3, 5)"
   ]
  },
  {
   "cell_type": "markdown",
   "id": "33c9623f",
   "metadata": {},
   "source": [
    "## Functions: functions as return of another function"
   ]
  },
  {
   "cell_type": "code",
   "execution_count": 101,
   "id": "948880c4",
   "metadata": {},
   "outputs": [],
   "source": [
    "def greater_function (a, b):\n",
    "    if a > b:\n",
    "        return a\n",
    "    elif b > a:\n",
    "        return b"
   ]
  },
  {
   "cell_type": "code",
   "execution_count": 102,
   "id": "d65ae0e9",
   "metadata": {},
   "outputs": [],
   "source": [
    "def lesser_function (a, b):\n",
    "    if a < b:\n",
    "        return a\n",
    "    elif b < a:\n",
    "        return b"
   ]
  },
  {
   "cell_type": "code",
   "execution_count": 103,
   "id": "0de3d767",
   "metadata": {},
   "outputs": [],
   "source": [
    "def comparison (type_of_comparison):\n",
    "    \n",
    "    if type_of_comparison == \"greater\":\n",
    "        return greater_function\n",
    "        \n",
    "    elif type_of_comparison == \"lesser\":\n",
    "        return lesser_function # - i defined it earlier"
   ]
  },
  {
   "cell_type": "code",
   "execution_count": 104,
   "id": "7abe467a",
   "metadata": {},
   "outputs": [
    {
     "data": {
      "text/plain": [
       "10"
      ]
     },
     "execution_count": 104,
     "metadata": {},
     "output_type": "execute_result"
    }
   ],
   "source": [
    "comparison(\"greater\")(3, 10)"
   ]
  },
  {
   "cell_type": "code",
   "execution_count": 105,
   "id": "602738c8",
   "metadata": {},
   "outputs": [
    {
     "data": {
      "text/plain": [
       "3"
      ]
     },
     "execution_count": 105,
     "metadata": {},
     "output_type": "execute_result"
    }
   ],
   "source": [
    "comparison(\"lesser\")(3, 10)"
   ]
  },
  {
   "cell_type": "code",
   "execution_count": 106,
   "id": "7bde9ab9",
   "metadata": {},
   "outputs": [],
   "source": [
    "def comparison (type_of_comparison):\n",
    "    \n",
    "    if type_of_comparison == \"greater\":\n",
    "        return greater_function\n",
    "        \n",
    "    elif type_of_comparison == \"lesser\":\n",
    "        return lambda x, y: x if x < y else y"
   ]
  },
  {
   "cell_type": "code",
   "execution_count": 107,
   "id": "c61792bc",
   "metadata": {},
   "outputs": [
    {
     "data": {
      "text/plain": [
       "10"
      ]
     },
     "execution_count": 107,
     "metadata": {},
     "output_type": "execute_result"
    }
   ],
   "source": [
    "comparison(\"greater\")(3, 10)"
   ]
  },
  {
   "cell_type": "code",
   "execution_count": 108,
   "id": "dbab341d",
   "metadata": {},
   "outputs": [
    {
     "data": {
      "text/plain": [
       "3"
      ]
     },
     "execution_count": 108,
     "metadata": {},
     "output_type": "execute_result"
    }
   ],
   "source": [
    "comparison(\"lesser\")(3, 10)"
   ]
  },
  {
   "cell_type": "markdown",
   "id": "f90508d9",
   "metadata": {
    "lang": "en"
   },
   "source": [
    "## Recursion\n",
    "It is called recursive call (or recursion), to those functions that in their algorithm, refer to itself.\n",
    "\n",
    "Recursive calls are usually very useful in very specific cases, but due to their great feasibility of falling into infinite iterations, adequate preventive measures should be taken and only used when strictly necessary and there is no viable alternative way to solve the problem. avoiding recursion.\n",
    "\n",
    "Python supports recursive calls, allowing a function to call itself, just as it does when calling another function."
   ]
  },
  {
   "cell_type": "code",
   "execution_count": 112,
   "id": "ca62a447",
   "metadata": {},
   "outputs": [],
   "source": [
    "def user ():\n",
    "    \"\"\"Have the user input a value lower than 5\n",
    "    \"\"\"\n",
    "    print(\"running function use again\")\n",
    "\n",
    "    num = int(input(\"Please enter a value: \"))\n",
    "    \n",
    "    if num >= 5:\n",
    "        user()\n",
    "    else:\n",
    "        print(\"Your number is correct\")"
   ]
  },
  {
   "cell_type": "code",
   "execution_count": 113,
   "id": "b8968aeb",
   "metadata": {},
   "outputs": [
    {
     "name": "stdout",
     "output_type": "stream",
     "text": [
      "running function use again\n",
      "Please enter a value: 3\n",
      "Your number is correct\n"
     ]
    }
   ],
   "source": [
    "user()"
   ]
  },
  {
   "cell_type": "markdown",
   "id": "15f2f7fc",
   "metadata": {},
   "source": [
    "`ins't it the same as a while loop?`"
   ]
  },
  {
   "cell_type": "code",
   "execution_count": 115,
   "id": "4f95fc32",
   "metadata": {},
   "outputs": [],
   "source": [
    "def countdown_recursive (number):\n",
    "    \n",
    "    number -= 1\n",
    "    \n",
    "    if number > 0:\n",
    "        #print(number)\n",
    "        countdown_recursive (number)"
   ]
  },
  {
   "cell_type": "code",
   "execution_count": 116,
   "id": "e07a56c8",
   "metadata": {},
   "outputs": [],
   "source": [
    "def countdown_while (number):\n",
    "    \n",
    "    number -= 1\n",
    "    \n",
    "    while number > 0:\n",
    "        #print(number)\n",
    "        number -= 1"
   ]
  },
  {
   "cell_type": "code",
   "execution_count": 485,
   "id": "a4432118",
   "metadata": {},
   "outputs": [],
   "source": [
    "import time"
   ]
  },
  {
   "cell_type": "code",
   "execution_count": 117,
   "id": "757a8031",
   "metadata": {
    "scrolled": true
   },
   "outputs": [
    {
     "name": "stdout",
     "output_type": "stream",
     "text": [
      "CPU times: user 2 µs, sys: 0 ns, total: 2 µs\n",
      "Wall time: 5.25 µs\n"
     ]
    }
   ],
   "source": [
    "%time\n",
    "countdown_recursive (1000) # RecursionError: maximum recursion depth exceeded in comparison"
   ]
  },
  {
   "cell_type": "code",
   "execution_count": 118,
   "id": "c2a6243d",
   "metadata": {},
   "outputs": [
    {
     "name": "stdout",
     "output_type": "stream",
     "text": [
      "CPU times: user 3 µs, sys: 1 µs, total: 4 µs\n",
      "Wall time: 5.96 µs\n"
     ]
    }
   ],
   "source": [
    "%time\n",
    "countdown_while (1000)"
   ]
  },
  {
   "cell_type": "markdown",
   "id": "4cb268d0",
   "metadata": {
    "lang": "en"
   },
   "source": [
    "## Summary\n",
    "It's your turn. What have we learned today?"
   ]
  },
  {
   "cell_type": "code",
   "execution_count": null,
   "id": "c17743e7",
   "metadata": {},
   "outputs": [],
   "source": []
  }
 ],
 "metadata": {
  "kernelspec": {
   "display_name": "ironhack",
   "language": "python",
   "name": "ironhack"
  },
  "language_info": {
   "codemirror_mode": {
    "name": "ipython",
    "version": 3
   },
   "file_extension": ".py",
   "mimetype": "text/x-python",
   "name": "python",
   "nbconvert_exporter": "python",
   "pygments_lexer": "ipython3",
   "version": "3.8.13"
  },
  "nbTranslate": {
   "displayLangs": [
    "en",
    "es"
   ],
   "hotkey": "alt-a",
   "langInMainMenu": true,
   "sourceLang": "es",
   "targetLang": "en",
   "useGoogleTranslate": true
  },
  "toc": {
   "base_numbering": 1,
   "nav_menu": {},
   "number_sections": true,
   "sideBar": true,
   "skip_h1_title": true,
   "title_cell": "Table of Contents",
   "title_sidebar": "Contents",
   "toc_cell": true,
   "toc_position": {
    "height": "calc(100% - 180px)",
    "left": "10px",
    "top": "150px",
    "width": "288px"
   },
   "toc_section_display": true,
   "toc_window_display": false
  }
 },
 "nbformat": 4,
 "nbformat_minor": 5
}
