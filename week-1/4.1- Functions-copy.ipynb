{
 "cells": [
  {
   "cell_type": "markdown",
   "id": "9eb0f57b",
   "metadata": {
    "lang": "en"
   },
   "source": [
    "# Functional Programming"
   ]
  },
  {
   "cell_type": "markdown",
   "id": "conceptual-behalf",
   "metadata": {},
   "source": [
    "![elgif](https://media.giphy.com/media/CuMiNoTRz2bYc/giphy.gif)"
   ]
  },
  {
   "cell_type": "markdown",
   "id": "incorrect-serum",
   "metadata": {
    "toc": true
   },
   "source": [
    "<h1>Table of Contents<span class=\"tocSkip\"></span></h1>\n",
    "<div class=\"toc\"><ul class=\"toc-item\"><li><span><a href=\"#Your-contributions-🚀\" data-toc-modified-id=\"Your-contributions-🚀-1\"><span class=\"toc-item-num\">1&nbsp;&nbsp;</span>Your contributions 🚀</a></span></li><li><span><a href=\"#What-is-functional-programming?\" data-toc-modified-id=\"What-is-functional-programming?-2\"><span class=\"toc-item-num\">2&nbsp;&nbsp;</span>What is functional programming?</a></span></li><li><span><a href=\"#Built-in-functions\" data-toc-modified-id=\"Built-in-functions-3\"><span class=\"toc-item-num\">3&nbsp;&nbsp;</span>Built-in functions</a></span></li><li><span><a href=\"#USER---DEFINED-FUNCTIONS\" data-toc-modified-id=\"USER---DEFINED-FUNCTIONS-4\"><span class=\"toc-item-num\">4&nbsp;&nbsp;</span>USER - DEFINED FUNCTIONS</a></span><ul class=\"toc-item\"><li><span><a href=\"#Function-Syntax\" data-toc-modified-id=\"Function-Syntax-4.1\"><span class=\"toc-item-num\">4.1&nbsp;&nbsp;</span>Function Syntax</a></span></li><li><span><a href=\"#def\" data-toc-modified-id=\"def-4.2\"><span class=\"toc-item-num\">4.2&nbsp;&nbsp;</span>def</a></span></li><li><span><a href=\"#Name\" data-toc-modified-id=\"Name-4.3\"><span class=\"toc-item-num\">4.3&nbsp;&nbsp;</span>Name</a></span></li><li><span><a href=\"#parameters\" data-toc-modified-id=\"parameters-4.4\"><span class=\"toc-item-num\">4.4&nbsp;&nbsp;</span>parameters</a></span></li><li><span><a href=\"#arguments\" data-toc-modified-id=\"arguments-4.5\"><span class=\"toc-item-num\">4.5&nbsp;&nbsp;</span>arguments</a></span><ul class=\"toc-item\"><li><span><a href=\"#*args\" data-toc-modified-id=\"*args-4.5.1\"><span class=\"toc-item-num\">4.5.1&nbsp;&nbsp;</span>*args</a></span></li><li><span><a href=\"#**kwargs\" data-toc-modified-id=\"**kwargs-4.5.2\"><span class=\"toc-item-num\">4.5.2&nbsp;&nbsp;</span>**kwargs</a></span></li></ul></li><li><span><a href=\"#return\" data-toc-modified-id=\"return-4.6\"><span class=\"toc-item-num\">4.6&nbsp;&nbsp;</span>return</a></span></li><li><span><a href=\"#Extract-the-source-code-of-a-function\" data-toc-modified-id=\"Extract-the-source-code-of-a-function-4.7\"><span class=\"toc-item-num\">4.7&nbsp;&nbsp;</span>Extract the source code of a function</a></span></li></ul></li><li><span><a href=\"#Parameters-vs-Arguments\" data-toc-modified-id=\"Parameters-vs-Arguments-5\"><span class=\"toc-item-num\">5&nbsp;&nbsp;</span>Parameters vs Arguments</a></span></li><li><span><a href=\"#Functions-that-have-no-parameters\" data-toc-modified-id=\"Functions-that-have-no-parameters-6\"><span class=\"toc-item-num\">6&nbsp;&nbsp;</span>Functions that have no parameters</a></span></li><li><span><a href=\"#Functions-that-have-no-return\" data-toc-modified-id=\"Functions-that-have-no-return-7\"><span class=\"toc-item-num\">7&nbsp;&nbsp;</span>Functions that have no return</a></span></li><li><span><a href=\"#Let's-write-functions\" data-toc-modified-id=\"Let's-write-functions-8\"><span class=\"toc-item-num\">8&nbsp;&nbsp;</span>Let's write functions</a></span></li><li><span><a href=\"#Default-parameters\" data-toc-modified-id=\"Default-parameters-9\"><span class=\"toc-item-num\">9&nbsp;&nbsp;</span>Default parameters</a></span></li><li><span><a href=\"#PLEASE-don't-confuse-PRINTs-inside-a-function-with-RETURNs!\" data-toc-modified-id=\"PLEASE-don't-confuse-PRINTs-inside-a-function-with-RETURNs!-10\"><span class=\"toc-item-num\">10&nbsp;&nbsp;</span>PLEASE don't confuse PRINTs inside a function with RETURNs!</a></span></li><li><span><a href=\"#Docstring\" data-toc-modified-id=\"Docstring-11\"><span class=\"toc-item-num\">11&nbsp;&nbsp;</span>Docstring</a></span></li><li><span><a href=\"#Scope-of-functions\" data-toc-modified-id=\"Scope-of-functions-12\"><span class=\"toc-item-num\">12&nbsp;&nbsp;</span>Scope of functions</a></span></li><li><span><a href=\"#*Args\" data-toc-modified-id=\"*Args-13\"><span class=\"toc-item-num\">13&nbsp;&nbsp;</span>*Args</a></span></li><li><span><a href=\"#**Kwargs\" data-toc-modified-id=\"**Kwargs-14\"><span class=\"toc-item-num\">14&nbsp;&nbsp;</span>**Kwargs</a></span></li><li><span><a href=\"#Order-Matters\" data-toc-modified-id=\"Order-Matters-15\"><span class=\"toc-item-num\">15&nbsp;&nbsp;</span>Order Matters</a></span></li><li><span><a href=\"#Lambda\" data-toc-modified-id=\"Lambda-16\"><span class=\"toc-item-num\">16&nbsp;&nbsp;</span>Lambda</a></span><ul class=\"toc-item\"><li><span><a href=\"#Syntax-of-a-lambda\" data-toc-modified-id=\"Syntax-of-a-lambda-16.1\"><span class=\"toc-item-num\">16.1&nbsp;&nbsp;</span>Syntax of a lambda</a></span></li><li><span><a href=\"#lambda-examples\" data-toc-modified-id=\"lambda-examples-16.2\"><span class=\"toc-item-num\">16.2&nbsp;&nbsp;</span>lambda examples</a></span></li></ul></li><li><span><a href=\"#Recursion\" data-toc-modified-id=\"Recursion-17\"><span class=\"toc-item-num\">17&nbsp;&nbsp;</span>Recursion</a></span></li><li><span><a href=\"#Summary\" data-toc-modified-id=\"Summary-18\"><span class=\"toc-item-num\">18&nbsp;&nbsp;</span>Summary</a></span></li></ul></div>"
   ]
  },
  {
   "cell_type": "markdown",
   "id": "c8dbbad6",
   "metadata": {
    "lang": "en"
   },
   "source": [
    "## Your contributions 🚀\n",
    "What do you think functions do/what properties do they have? Whare they useful for?"
   ]
  },
  {
   "cell_type": "markdown",
   "id": "4d00796e",
   "metadata": {},
   "source": [
    "- **things that do things**\n",
    "- they have methods (?)\n",
    "- they get values\n",
    "    - they can get values\n",
    "    - sometimes they don't\n",
    "    - arguments/parameters\n",
    "- they return things\n",
    "    - they can return things\n",
    "    - not necessarily\n",
    "- they're reusable -> you can just write once\n",
    "    - define functions\n",
    "    - call it many times\n",
    "- you can write functions within functions\n",
    "- easy way to save code\n",
    "    - re-usability\n",
    "- provides easier debugging\n",
    "    - organized\n",
    "- code within a little box\n",
    "    - fix an issue (bug) -> spot it and act on it\n"
   ]
  },
  {
   "cell_type": "markdown",
   "id": "199cb1a8",
   "metadata": {
    "lang": "en"
   },
   "source": [
    "## What is functional programming?\n",
    "What does it mean that Python is multi-paradigm?\n",
    "According to Wikipedia:\n",
    "\n",
    "“Python is an interpreted programming language whose philosophy emphasizes the readability of its code. It is a multiparadigm programming language, since it supports object orientation, imperative programming and, to a lesser extent, functional programming.\n",
    "\n",
    "It means that it accepts different ways of working with language. Basically there are 3 predominant paradigms, or in other words, 3 global formats to organize a code."
   ]
  },
  {
   "cell_type": "markdown",
   "id": "52956b93",
   "metadata": {},
   "source": [
    "- **Imperative programming (structured)**: the code will be executed from the beginning of the file to the end without following any type of deviation. Its biggest advantage lies in its simplicity and low weight. Its danger is the spaghetti code, files with hundreds or thousands of lines where only a few human beings are able to modify and emerge victorious. It can look like this:"
   ]
  },
  {
   "cell_type": "code",
   "execution_count": 105,
   "id": "bc6a321a",
   "metadata": {},
   "outputs": [
    {
     "name": "stdout",
     "output_type": "stream",
     "text": [
      "8\n"
     ]
    }
   ],
   "source": [
    "# imperative\n",
    "a = 3\n",
    "b = 5\n",
    "\n",
    "print(a + b)\n",
    "a = 3\n",
    "b = 5\n",
    "\n",
    "print(a + b)\n",
    "a = 3\n",
    "b = 5\n",
    "\n",
    "print(a + b)\n",
    "a = 3\n",
    "b = 5\n",
    "\n",
    "print(a + b)\n",
    "a = 3\n",
    "b = 5\n",
    "\n",
    "print(a + b)\n",
    "a = 3\n",
    "b = 5\n",
    "\n",
    "print(a + b)\n",
    "a = 3\n",
    "b = 5\n",
    "\n",
    "print(a + b)a = 3\n",
    "b = 5\n",
    "\n",
    "print(a + b)"
   ]
  },
  {
   "cell_type": "markdown",
   "id": "d5509764",
   "metadata": {},
   "source": [
    "- **Object Oriented Programming (OOP or Object Oriented Programming)**: where variables and functions are encapsulated in small modules capable of being cloned and modified. Its strong point is the ability to reuse and isolate to avoid problems with other features. The negative part lies in the complexity of creating good objects and debugging. It can look like this:\n"
   ]
  },
  {
   "cell_type": "code",
   "execution_count": 1,
   "id": "bb2166a1",
   "metadata": {},
   "outputs": [
    {
     "name": "stdout",
     "output_type": "stream",
     "text": [
      "7\n",
      "red\n",
      "12\n",
      "black\n",
      "14\n",
      "6\n",
      "8\n"
     ]
    }
   ],
   "source": [
    "class Car(object):\n",
    "    def __init__(self, model, passengers, color, speed):\n",
    "        self.model = model\n",
    "        self.passengers = passengers\n",
    "        self.color = color\n",
    "        self.speed = speed\n",
    "\n",
    "    def accelerate(self):\n",
    "        self.speed = self.speed + 2\n",
    "        print (self.speed)\n",
    "\n",
    "bmw = Car(\"BMW\", 4, \"red\", 5)\n",
    "ferrari = Car(\"Ferrari\", 2, \"black\", 10)\n",
    "ford = Car(\"Ford\", 6, \"blue\", 6)\n",
    "\n",
    "bmw.accelerate()\n",
    "print (bmw.color)\n",
    "\n",
    "ferrari.accelerate()\n",
    "print (ferrari.color)\n",
    "ferrari.accelerate() #note that the speed has been updated from the previous accelerate call\n",
    "\n",
    "print (ford.passengers)\n",
    "ford.accelerate()"
   ]
  },
  {
   "cell_type": "markdown",
   "id": "a9cbc034",
   "metadata": {},
   "source": [
    "- **Functional programming (FP or Functional programming)**: where the code is divided into simple functions capable of being invoked with variables or other functions. Its ease of use by atomicity achieves robust maintainability and compatibility with almost any language. In addition, its immutability of variables avoids many of the problems that object-oriented programming suffers."
   ]
  },
  {
   "cell_type": "code",
   "execution_count": 104,
   "id": "73ba3a6c",
   "metadata": {},
   "outputs": [
    {
     "data": {
      "text/plain": [
       "8"
      ]
     },
     "execution_count": 104,
     "metadata": {},
     "output_type": "execute_result"
    }
   ],
   "source": [
    "# 3. functional\n",
    "\n",
    "# defined\n",
    "def addition (a, b):\n",
    "    return a + b\n",
    "\n",
    "def substraction (a, b):\n",
    "    return a + b\n",
    "\n",
    "def multiplicatio n (a, b):\n",
    "    return a + b\n",
    "\n",
    "def giving_feedback (a, b):\n",
    "    return f\"Hello, this is {a}\"\n",
    "\n",
    "\n",
    "# called\n",
    "addition (3, 5)\n",
    "\n",
    "\n",
    "addition (9, 10)"
   ]
  },
  {
   "cell_type": "markdown",
   "id": "7f89fd70",
   "metadata": {
    "lang": "en"
   },
   "source": [
    "## Built-in functions"
   ]
  },
  {
   "cell_type": "markdown",
   "id": "80919246",
   "metadata": {
    "lang": "en"
   },
   "source": [
    "The Python interpreter has a number of built-in functions and types that are always available. They are listed [here](https://docs.python.org/3/library/functions.html) in alphabetical order."
   ]
  },
  {
   "cell_type": "code",
   "execution_count": 107,
   "id": "8b5edc03",
   "metadata": {},
   "outputs": [],
   "source": [
    "a_string = \" this is a string\""
   ]
  },
  {
   "cell_type": "code",
   "execution_count": 108,
   "id": "1756b395",
   "metadata": {},
   "outputs": [
    {
     "data": {
      "text/plain": [
       "' THIS IS A STRING'"
      ]
     },
     "execution_count": 108,
     "metadata": {},
     "output_type": "execute_result"
    }
   ],
   "source": [
    "a_string.upper()"
   ]
  },
  {
   "cell_type": "code",
   "execution_count": 110,
   "id": "79eacbbb",
   "metadata": {},
   "outputs": [],
   "source": [
    "# method / function \n",
    "\n",
    "# upper() -> method for strings( a str function)"
   ]
  },
  {
   "cell_type": "code",
   "execution_count": 112,
   "id": "d2a4af2b",
   "metadata": {},
   "outputs": [
    {
     "data": {
      "text/plain": [
       "4.0"
      ]
     },
     "execution_count": 112,
     "metadata": {},
     "output_type": "execute_result"
    }
   ],
   "source": [
    "# Library function -> code someone else wrote\n",
    "# so I don't have to\n",
    "\n",
    "# re-using someone else's code\n",
    "\n",
    "import math\n",
    "math.pow(2, 2)"
   ]
  },
  {
   "cell_type": "code",
   "execution_count": 113,
   "id": "b8b4828e",
   "metadata": {},
   "outputs": [
    {
     "data": {
      "text/plain": [
       "<Response [200]>"
      ]
     },
     "execution_count": 113,
     "metadata": {},
     "output_type": "execute_result"
    }
   ],
   "source": [
    "import requests\n",
    "requests.get(\"https://www.google.es\")"
   ]
  },
  {
   "cell_type": "code",
   "execution_count": null,
   "id": "afa806b4",
   "metadata": {},
   "outputs": [],
   "source": [
    "# dependencies\n",
    "\n",
    "# 1. requirements.txt\n",
    "    # pip install -r  t\n",
    "# 2. envioronment_whatever.yml\n",
    "    # 'conda create envioronment_whatever.yml > new_env.yml'"
   ]
  },
  {
   "cell_type": "markdown",
   "id": "d36c02f5",
   "metadata": {
    "lang": "en"
   },
   "source": [
    "In case of built-in functions we can't extract the code with inspect, since Python itself is written in C... the Print function looks like this 👇🏻"
   ]
  },
  {
   "cell_type": "markdown",
   "id": "through-silicon",
   "metadata": {},
   "source": [
    "```C\n",
    "static PyObject *\n",
    "builtin_print(PyObject *self, PyObject *args, PyObject *kwds)\n",
    "{\n",
    "    static char *kwlist[] = {\"sep\", \"end\", \"file\", 0};\n",
    "    static PyObject *dummy_args = NULL;\n",
    "    static PyObject *unicode_newline = NULL, *unicode_space = NULL;\n",
    "    static PyObject *str_newline = NULL, *str_space = NULL;\n",
    "    PyObject *newline, *space;\n",
    "    PyObject *sep = NULL, *end = NULL, *file = NULL;\n",
    "    int i, err, use_unicode = 0;\n",
    "\n",
    "    if (dummy_args == NULL) {\n",
    "        if (!(dummy_args = PyTuple_New(0)))\n",
    "            return NULL;\n",
    "    }\n",
    "    if (str_newline == NULL) {\n",
    "        str_newline = PyString_FromString(\"\\n\");\n",
    "        if (str_newline == NULL)\n",
    "            return NULL;\n",
    "        str_space = PyString_FromString(\" \");\n",
    "        if (str_space == NULL) {\n",
    "            Py_CLEAR(str_newline);\n",
    "            return NULL;\n",
    "        }\n",
    "#ifdef Py_USING_UNICODE\n",
    "        unicode_newline = PyUnicode_FromString(\"\\n\");\n",
    "        if (unicode_newline == NULL) {\n",
    "            Py_CLEAR(str_newline);\n",
    "            Py_CLEAR(str_space);\n",
    "            return NULL;\n",
    "        }\n",
    "        unicode_space = PyUnicode_FromString(\" \");\n",
    "        if (unicode_space == NULL) {\n",
    "            Py_CLEAR(str_newline);\n",
    "            Py_CLEAR(str_space);\n",
    "            Py_CLEAR(unicode_space);\n",
    "            return NULL;\n",
    "        }\n",
    "#endif\n",
    "    }\n",
    "    if (!PyArg_ParseTupleAndKeywords(dummy_args, kwds, \"|OOO:print\",\n",
    "                                     kwlist, &sep, &end, &file))\n",
    "        return NULL;\n",
    "    if (file == NULL || file == Py_None) {\n",
    "        file = PySys_GetObject(\"stdout\");\n",
    "        /* sys.stdout may be None when FILE* stdout isn't connected */\n",
    "        if (file == Py_None)\n",
    "            Py_RETURN_NONE;\n",
    "    }\n",
    "    if (sep == Py_None) {\n",
    "        sep = NULL;\n",
    "    }\n",
    "    else if (sep) {\n",
    "        if (PyUnicode_Check(sep)) {\n",
    "            use_unicode = 1;\n",
    "        }\n",
    "        else if (!PyString_Check(sep)) {\n",
    "            PyErr_Format(PyExc_TypeError,\n",
    "                         \"sep must be None, str or unicode, not %.200s\",\n",
    "                         sep->ob_type->tp_name);\n",
    "            return NULL;\n",
    "        }\n",
    "    }\n",
    "    if (end == Py_None)\n",
    "        end = NULL;\n",
    "    else if (end) {\n",
    "        if (PyUnicode_Check(end)) {\n",
    "            use_unicode = 1;\n",
    "        }\n",
    "        else if (!PyString_Check(end)) {\n",
    "            PyErr_Format(PyExc_TypeError,\n",
    "                         \"end must be None, str or unicode, not %.200s\",\n",
    "                         end->ob_type->tp_name);\n",
    "            return NULL;\n",
    "        }\n",
    "    }\n",
    "\n",
    "    if (!use_unicode) {\n",
    "        for (i = 0; i < PyTuple_Size(args); i++) {\n",
    "            if (PyUnicode_Check(PyTuple_GET_ITEM(args, i))) {\n",
    "                use_unicode = 1;\n",
    "                break;\n",
    "            }\n",
    "        }\n",
    "    }\n",
    "    if (use_unicode) {\n",
    "        newline = unicode_newline;\n",
    "        space = unicode_space;\n",
    "    }\n",
    "    else {\n",
    "        newline = str_newline;\n",
    "        space = str_space;\n",
    "    }\n",
    "\n",
    "    for (i = 0; i < PyTuple_Size(args); i++) {\n",
    "        if (i > 0) {\n",
    "            if (sep == NULL)\n",
    "                err = PyFile_WriteObject(space, file,\n",
    "                                         Py_PRINT_RAW);\n",
    "            else\n",
    "                err = PyFile_WriteObject(sep, file,\n",
    "                                         Py_PRINT_RAW);\n",
    "            if (err)\n",
    "                return NULL;\n",
    "        }\n",
    "        err = PyFile_WriteObject(PyTuple_GetItem(args, i), file,\n",
    "                                 Py_PRINT_RAW);\n",
    "        if (err)\n",
    "            return NULL;\n",
    "    }\n",
    "\n",
    "    if (end == NULL)\n",
    "        err = PyFile_WriteObject(newline, file, Py_PRINT_RAW);\n",
    "    else\n",
    "        err = PyFile_WriteObject(end, file, Py_PRINT_RAW);\n",
    "    if (err)\n",
    "        return NULL;\n",
    "\n",
    "    Py_RETURN_NONE;\n",
    "}\n",
    "```"
   ]
  },
  {
   "cell_type": "code",
   "execution_count": 139,
   "id": "335d421c",
   "metadata": {},
   "outputs": [
    {
     "name": "stdout",
     "output_type": "stream",
     "text": [
      "Hello\n"
     ]
    }
   ],
   "source": [
    "print(\"Hello\")"
   ]
  },
  {
   "cell_type": "markdown",
   "id": "c5c42ac7",
   "metadata": {},
   "source": [
    "## USER - DEFINED FUNCTIONS"
   ]
  },
  {
   "cell_type": "code",
   "execution_count": null,
   "id": "a5d0034f",
   "metadata": {},
   "outputs": [],
   "source": [
    "- `def`\n",
    "-\n",
    "-\n",
    "-\n",
    "-      "
   ]
  },
  {
   "cell_type": "markdown",
   "id": "85d6428d",
   "metadata": {
    "lang": "en"
   },
   "source": [
    "\n",
    "Syntax for defining a function:\n",
    "```python\n",
    "\n",
    "def name_function(input params):\n",
    "    # the colon and the indentation imply being in the function\n",
    "    take an action\n",
    "    return() # return a certain value\n",
    "\n",
    "```\n",
    "\n",
    "Function execution:\n",
    "```python\n",
    "name_of_the_function(argument1, argument2, ...)\n",
    "```\n",
    "or, if you want to save the result in a variable\n",
    "```python\n",
    "result = name_of_the_function(argument1, argument2, ...)\n",
    "```"
   ]
  },
  {
   "cell_type": "markdown",
   "id": "1e67e0ed",
   "metadata": {},
   "source": [
    "### def"
   ]
  },
  {
   "cell_type": "markdown",
   "id": "2af35bd1",
   "metadata": {},
   "source": [
    "### Name"
   ]
  },
  {
   "cell_type": "markdown",
   "id": "a81f33dd",
   "metadata": {},
   "source": [
    "### parameters"
   ]
  },
  {
   "cell_type": "code",
   "execution_count": null,
   "id": "f035b3d6",
   "metadata": {},
   "outputs": [],
   "source": []
  },
  {
   "cell_type": "markdown",
   "id": "531eb885",
   "metadata": {},
   "source": [
    "### arguments"
   ]
  },
  {
   "cell_type": "markdown",
   "id": "d30c9649",
   "metadata": {},
   "source": [
    "#### *args"
   ]
  },
  {
   "cell_type": "markdown",
   "id": "11b95377",
   "metadata": {},
   "source": [
    "#### **kwargs"
   ]
  },
  {
   "cell_type": "markdown",
   "id": "48ec40f9",
   "metadata": {},
   "source": [
    "### return"
   ]
  },
  {
   "cell_type": "code",
   "execution_count": null,
   "id": "8866273d",
   "metadata": {},
   "outputs": [],
   "source": [
    "def addition_1 (a, b):\n",
    "    sum_ = a + b\n",
    "    return sum_\n",
    "\n",
    "def addition_2 (a, b):\n",
    "    return a + b"
   ]
  },
  {
   "cell_type": "code",
   "execution_count": 151,
   "id": "9be3bc1b",
   "metadata": {},
   "outputs": [],
   "source": [
    "def say_hello(name):\n",
    "    return f\"Hello {name}\".upper().capitalize().split(\" \")[0].upper()"
   ]
  },
  {
   "cell_type": "code",
   "execution_count": 152,
   "id": "a5edab0a",
   "metadata": {},
   "outputs": [
    {
     "data": {
      "text/plain": [
       "'HELLO'"
      ]
     },
     "execution_count": 152,
     "metadata": {},
     "output_type": "execute_result"
    }
   ],
   "source": [
    "say_hello(\"Nerea\")"
   ]
  },
  {
   "cell_type": "code",
   "execution_count": 149,
   "id": "dc4319bb",
   "metadata": {},
   "outputs": [],
   "source": [
    "def say_hello_2 (name):\n",
    "    sentence = f\"Hello {name}\"\n",
    "    sentence_upper = sentence.upper()\n",
    "    return sentence_upper"
   ]
  },
  {
   "cell_type": "code",
   "execution_count": 150,
   "id": "d0a011e6",
   "metadata": {},
   "outputs": [
    {
     "data": {
      "text/plain": [
       "'HELLO NEREA'"
      ]
     },
     "execution_count": 150,
     "metadata": {},
     "output_type": "execute_result"
    }
   ],
   "source": [
    "say_hello_2 (\"Nerea\")"
   ]
  },
  {
   "cell_type": "code",
   "execution_count": 153,
   "id": "3be1a01b",
   "metadata": {},
   "outputs": [
    {
     "data": {
      "text/plain": [
       "'HELLO'"
      ]
     },
     "execution_count": 153,
     "metadata": {},
     "output_type": "execute_result"
    }
   ],
   "source": [
    "result = say_hello(\"Nerea\")\n",
    "result"
   ]
  },
  {
   "cell_type": "code",
   "execution_count": 155,
   "id": "a215ac4a",
   "metadata": {},
   "outputs": [
    {
     "data": {
      "text/plain": [
       "'HELLO NEREA'"
      ]
     },
     "execution_count": 155,
     "metadata": {},
     "output_type": "execute_result"
    }
   ],
   "source": [
    "result_2 = say_hello_2(\"Nerea\")\n",
    "result_2"
   ]
  },
  {
   "cell_type": "code",
   "execution_count": null,
   "id": "c1a22bd3",
   "metadata": {},
   "outputs": [],
   "source": [
    "def addition_2 (a, b):\n",
    "    print(a + b)"
   ]
  },
  {
   "cell_type": "code",
   "execution_count": null,
   "id": "6f2c5291",
   "metadata": {},
   "outputs": [],
   "source": [
    "def addition (a, b):\n",
    "    return a + b"
   ]
  },
  {
   "cell_type": "code",
   "execution_count": 156,
   "id": "c2d52b80",
   "metadata": {},
   "outputs": [],
   "source": [
    "def say_hello(name):\n",
    "    return f\"Hello {name}\".upper().capitalize().split(\" \")[0].upper()"
   ]
  },
  {
   "cell_type": "code",
   "execution_count": 157,
   "id": "befcdc11",
   "metadata": {},
   "outputs": [
    {
     "data": {
      "text/plain": [
       "'HELLO'"
      ]
     },
     "execution_count": 157,
     "metadata": {},
     "output_type": "execute_result"
    }
   ],
   "source": [
    "say_hello(\"Clara\")"
   ]
  },
  {
   "cell_type": "code",
   "execution_count": 158,
   "id": "e4715618",
   "metadata": {},
   "outputs": [
    {
     "ename": "TypeError",
     "evalue": "say_hello() missing 1 required positional argument: 'name'",
     "output_type": "error",
     "traceback": [
      "\u001b[0;31m---------------------------------------------------------------------------\u001b[0m",
      "\u001b[0;31mTypeError\u001b[0m                                 Traceback (most recent call last)",
      "Input \u001b[0;32mIn [158]\u001b[0m, in \u001b[0;36m<cell line: 1>\u001b[0;34m()\u001b[0m\n\u001b[0;32m----> 1\u001b[0m \u001b[43msay_hello\u001b[49m\u001b[43m(\u001b[49m\u001b[43m)\u001b[49m\n",
      "\u001b[0;31mTypeError\u001b[0m: say_hello() missing 1 required positional argument: 'name'"
     ]
    }
   ],
   "source": [
    "say_hello()"
   ]
  },
  {
   "cell_type": "code",
   "execution_count": 159,
   "id": "8019a0f1",
   "metadata": {},
   "outputs": [
    {
     "ename": "TypeError",
     "evalue": "say_hello() takes 1 positional argument but 2 were given",
     "output_type": "error",
     "traceback": [
      "\u001b[0;31m---------------------------------------------------------------------------\u001b[0m",
      "\u001b[0;31mTypeError\u001b[0m                                 Traceback (most recent call last)",
      "Input \u001b[0;32mIn [159]\u001b[0m, in \u001b[0;36m<cell line: 1>\u001b[0;34m()\u001b[0m\n\u001b[0;32m----> 1\u001b[0m \u001b[43msay_hello\u001b[49m\u001b[43m(\u001b[49m\u001b[38;5;124;43m\"\u001b[39;49m\u001b[38;5;124;43mClara\u001b[39;49m\u001b[38;5;124;43m\"\u001b[39;49m\u001b[43m,\u001b[49m\u001b[43m \u001b[49m\u001b[38;5;124;43m\"\u001b[39;49m\u001b[38;5;124;43mFer\u001b[39;49m\u001b[38;5;124;43m\"\u001b[39;49m\u001b[43m)\u001b[49m\n",
      "\u001b[0;31mTypeError\u001b[0m: say_hello() takes 1 positional argument but 2 were given"
     ]
    }
   ],
   "source": [
    "say_hello(\"Clara\", \"Fer\")"
   ]
  },
  {
   "cell_type": "code",
   "execution_count": 160,
   "id": "6a9559aa",
   "metadata": {},
   "outputs": [],
   "source": [
    "# DOES THINGS\n",
    "   # Downloads a file from the internet \n",
    "    # Return something? no"
   ]
  },
  {
   "cell_type": "code",
   "execution_count": null,
   "id": "a6fe6b06",
   "metadata": {},
   "outputs": [],
   "source": [
    "# DO RETURN THINGS\n",
    "    # save the result into a variable\n",
    "    # act on that result"
   ]
  },
  {
   "cell_type": "code",
   "execution_count": 163,
   "id": "9d7f3cfe",
   "metadata": {},
   "outputs": [],
   "source": [
    "def say_hello_print(name):\n",
    "    print (f\"Hello {name}\") #does things"
   ]
  },
  {
   "cell_type": "code",
   "execution_count": 164,
   "id": "586e3b3c",
   "metadata": {},
   "outputs": [
    {
     "name": "stdout",
     "output_type": "stream",
     "text": [
      "Hello Nerea\n"
     ]
    }
   ],
   "source": [
    "say_hello_print(\"Nerea\")"
   ]
  },
  {
   "cell_type": "markdown",
   "id": "3ea6d549",
   "metadata": {
    "lang": "en"
   },
   "source": [
    "### Extract the source code of a function\n",
    "While we're talking about built-ints, out of curiosity, if we need to extract the code from a previously written function..."
   ]
  },
  {
   "cell_type": "code",
   "execution_count": 132,
   "id": "dde94afb",
   "metadata": {},
   "outputs": [],
   "source": [
    "def greetings (name):\n",
    "    \"\"\"This function says hello and your name\n",
    "    \"\"\"\n",
    "    return f\"Hello, my name is {name}!\""
   ]
  },
  {
   "cell_type": "code",
   "execution_count": 133,
   "id": "5e3d6992",
   "metadata": {},
   "outputs": [
    {
     "data": {
      "text/plain": [
       "'Hello, my name is Fer!'"
      ]
     },
     "execution_count": 133,
     "metadata": {},
     "output_type": "execute_result"
    }
   ],
   "source": [
    "greetings(\"Fer\")"
   ]
  },
  {
   "cell_type": "code",
   "execution_count": 134,
   "id": "fb56b807",
   "metadata": {},
   "outputs": [
    {
     "data": {
      "text/plain": [
       "'Hello, my name is Nerea!'"
      ]
     },
     "execution_count": 134,
     "metadata": {},
     "output_type": "execute_result"
    }
   ],
   "source": [
    "greetings(\"Nerea\")"
   ]
  },
  {
   "cell_type": "code",
   "execution_count": 135,
   "id": "ce0c931e",
   "metadata": {},
   "outputs": [
    {
     "data": {
      "text/plain": [
       "'Hello, my name is Laura!'"
      ]
     },
     "execution_count": 135,
     "metadata": {},
     "output_type": "execute_result"
    }
   ],
   "source": [
    "greetings(\"Laura\")"
   ]
  },
  {
   "cell_type": "code",
   "execution_count": 136,
   "id": "e712a0f9",
   "metadata": {},
   "outputs": [
    {
     "name": "stdout",
     "output_type": "stream",
     "text": [
      "def greetings (name):\n",
      "    \"\"\"This function says hello and your name\n",
      "    \"\"\"\n",
      "    return f\"Hello, my name is {name}!\"\n",
      "\n"
     ]
    }
   ],
   "source": [
    "import inspect\n",
    "print(inspect.getsource(greetings))"
   ]
  },
  {
   "cell_type": "code",
   "execution_count": 137,
   "id": "0c33b3fc",
   "metadata": {},
   "outputs": [
    {
     "name": "stdout",
     "output_type": "stream",
     "text": [
      "This function says hello and your name\n",
      "    \n"
     ]
    }
   ],
   "source": [
    "print(greetings.__doc__)"
   ]
  },
  {
   "cell_type": "code",
   "execution_count": 165,
   "id": "effaa2ad",
   "metadata": {},
   "outputs": [],
   "source": [
    "def say_hello_return(name):\n",
    "    return f\"Hello {name}\" # return "
   ]
  },
  {
   "cell_type": "code",
   "execution_count": 166,
   "id": "e2bcab4c",
   "metadata": {},
   "outputs": [
    {
     "data": {
      "text/plain": [
       "'Hello Nerea'"
      ]
     },
     "execution_count": 166,
     "metadata": {},
     "output_type": "execute_result"
    }
   ],
   "source": [
    "say_hello_return(\"Nerea\")"
   ]
  },
  {
   "cell_type": "code",
   "execution_count": 168,
   "id": "0f4f73cb",
   "metadata": {},
   "outputs": [
    {
     "data": {
      "text/plain": [
       "'Hello Nerea'"
      ]
     },
     "execution_count": 168,
     "metadata": {},
     "output_type": "execute_result"
    }
   ],
   "source": [
    "upper_result = say_hello_return(\"Nerea\")\n",
    "upper_result"
   ]
  },
  {
   "cell_type": "code",
   "execution_count": 192,
   "id": "6c7450bb",
   "metadata": {},
   "outputs": [
    {
     "data": {
      "text/plain": [
       "'Hello Nerea'"
      ]
     },
     "execution_count": 192,
     "metadata": {},
     "output_type": "execute_result"
    }
   ],
   "source": [
    "upper_result"
   ]
  },
  {
   "cell_type": "code",
   "execution_count": 169,
   "id": "6d3f5e54",
   "metadata": {},
   "outputs": [
    {
     "data": {
      "text/plain": [
       "'HELLO NEREA'"
      ]
     },
     "execution_count": 169,
     "metadata": {},
     "output_type": "execute_result"
    }
   ],
   "source": [
    "upper_result.upper()"
   ]
  },
  {
   "cell_type": "code",
   "execution_count": 174,
   "id": "e0c38daf",
   "metadata": {},
   "outputs": [],
   "source": [
    "import os"
   ]
  },
  {
   "cell_type": "code",
   "execution_count": 175,
   "id": "2e90e755",
   "metadata": {},
   "outputs": [
    {
     "name": "stdout",
     "output_type": "stream",
     "text": [
      "/Users/fernandocosta/IRONHACK/lectures/week-1\n"
     ]
    },
    {
     "data": {
      "text/plain": [
       "0"
      ]
     },
     "execution_count": 175,
     "metadata": {},
     "output_type": "execute_result"
    }
   ],
   "source": [
    "os.system(\"pwd\")"
   ]
  },
  {
   "cell_type": "code",
   "execution_count": 190,
   "id": "203ad865",
   "metadata": {},
   "outputs": [],
   "source": [
    "def donwload_script (url, name):\n",
    "    \"\"\"\n",
    "    Download smething from the internet\n",
    "    and keep the path\"\"\"\n",
    "    \n",
    "    #1. Downloading the file\n",
    "    os.system(f\"curl {url} > {name}.py\")\n",
    "    os.system(f\"python {name}.py\")\n",
    "    \n",
    "    #2. Running the file\n",
    "    os.system(\"say executing script\")\n",
    "    os.system(f\"rm -f {name}\")\n",
    "    \n",
    "    \n",
    "    #3. Gettinf feedback"
   ]
  },
  {
   "cell_type": "code",
   "execution_count": 191,
   "id": "9f84cda7",
   "metadata": {},
   "outputs": [
    {
     "name": "stderr",
     "output_type": "stream",
     "text": [
      "  % Total    % Received % Xferd  Average Speed   Time    Time     Time  Current\n",
      "                                 Dload  Upload   Total   Spent    Left  Speed\n",
      "100    20  100    20    0     0     57      0 --:--:-- --:--:-- --:--:--    57\n"
     ]
    },
    {
     "name": "stdout",
     "output_type": "stream",
     "text": [
      "Hello world\n"
     ]
    }
   ],
   "source": [
    "donwload_script (\"https://raw.githubusercontent.com/Ironhack-data-bcn-january-2023/lectures/main/example_3.py\", \"hellothere.py\")"
   ]
  },
  {
   "cell_type": "code",
   "execution_count": 202,
   "id": "cfd8b314",
   "metadata": {},
   "outputs": [],
   "source": [
    "def donwload_script (url, name):\n",
    "    \"\"\"\n",
    "    Download smething from the internet\n",
    "    and keep the path\"\"\"\n",
    "    \n",
    "    os.system(f\"curl {url} > {name}.py\")\n",
    "    os.system(f\"python {name}.py\")"
   ]
  },
  {
   "cell_type": "code",
   "execution_count": 198,
   "id": "d6f50f5e",
   "metadata": {},
   "outputs": [
    {
     "name": "stderr",
     "output_type": "stream",
     "text": [
      "  % Total    % Received % Xferd  Average Speed   Time    Time     Time  Current\n",
      "                                 Dload  Upload   Total   Spent    Left  Speed\n",
      "\r",
      "  0     0    0     0    0     0      0      0 --:--:-- --:--:-- --:--:--     0"
     ]
    },
    {
     "name": "stdout",
     "output_type": "stream",
     "text": [
      "Hello world\n",
      "/Users/fernandocosta/IRONHACK/lectures/week-1\n"
     ]
    },
    {
     "name": "stderr",
     "output_type": "stream",
     "text": [
      "\r",
      "100    20  100    20    0     0     53      0 --:--:-- --:--:-- --:--:--    53\n"
     ]
    },
    {
     "data": {
      "text/plain": [
       "0"
      ]
     },
     "execution_count": 198,
     "metadata": {},
     "output_type": "execute_result"
    }
   ],
   "source": [
    "donwload_script (\"https://raw.githubusercontent.com/Ironhack-data-bcn-january-2023/lectures/main/example_3.py\", \"hellothere.py\")"
   ]
  },
  {
   "cell_type": "code",
   "execution_count": 199,
   "id": "bcfbce1b",
   "metadata": {
    "scrolled": true
   },
   "outputs": [
    {
     "name": "stderr",
     "output_type": "stream",
     "text": [
      "  % Total    % Received % Xferd  Average Speed   Time    Time     Time  Current\n",
      "                                 Dload  Upload   Total   Spent    Left  Speed\n",
      "\r",
      "  0     0    0     0    0     0      0      0 --:--:-- --:--:-- --:--:--     0\r",
      "100    20  100    20    0     0    286      0 --:--:-- --:--:-- --:--:--   289\n"
     ]
    },
    {
     "name": "stdout",
     "output_type": "stream",
     "text": [
      "Hello world\n",
      "/Users/fernandocosta/IRONHACK/lectures/week-1\n"
     ]
    }
   ],
   "source": [
    "path_saved = donwload_script (\"https://raw.githubusercontent.com/Ironhack-data-bcn-january-2023/lectures/main/example_3.py\", \"hellothere.py\")"
   ]
  },
  {
   "cell_type": "code",
   "execution_count": 201,
   "id": "972a199c",
   "metadata": {},
   "outputs": [
    {
     "data": {
      "text/plain": [
       "0"
      ]
     },
     "execution_count": 201,
     "metadata": {},
     "output_type": "execute_result"
    }
   ],
   "source": [
    "path_saved"
   ]
  },
  {
   "cell_type": "code",
   "execution_count": null,
   "id": "45bcc816",
   "metadata": {},
   "outputs": [],
   "source": [
    "donwload_script (\"https://raw.githubusercontent.com/Ironhack-data-bcn-january-2023/lectures/main/example_3.py\", \"hellothere.py\")"
   ]
  },
  {
   "cell_type": "code",
   "execution_count": null,
   "id": "ba530b74",
   "metadata": {},
   "outputs": [],
   "source": [
    "pass -> placeholders (when defining functions anyway)"
   ]
  },
  {
   "cell_type": "code",
   "execution_count": null,
   "id": "fccbbf38",
   "metadata": {},
   "outputs": [],
   "source": [
    "# return: allows me to access the result of a function\n",
    "# no-return: doesn't allow me to access it. just use it"
   ]
  },
  {
   "cell_type": "code",
   "execution_count": null,
   "id": "4a6c378c",
   "metadata": {},
   "outputs": [],
   "source": [
    "# A function either returns what you tell it to\n",
    "\n",
    "#OR\n",
    "\n",
    "#it will \"return\", the value of a function that\n",
    "doesn't return anything -> NoneType"
   ]
  },
  {
   "cell_type": "code",
   "execution_count": 203,
   "id": "22af2493",
   "metadata": {},
   "outputs": [],
   "source": [
    "def addition_print(a, b):\n",
    "    print(a+b)"
   ]
  },
  {
   "cell_type": "code",
   "execution_count": 204,
   "id": "8faaa521",
   "metadata": {},
   "outputs": [
    {
     "name": "stdout",
     "output_type": "stream",
     "text": [
      "3\n"
     ]
    }
   ],
   "source": [
    "addition_print(1, 2)"
   ]
  },
  {
   "cell_type": "code",
   "execution_count": 207,
   "id": "e04d6fd0",
   "metadata": {},
   "outputs": [
    {
     "name": "stdout",
     "output_type": "stream",
     "text": [
      "3\n"
     ]
    },
    {
     "data": {
      "text/plain": [
       "NoneType"
      ]
     },
     "execution_count": 207,
     "metadata": {},
     "output_type": "execute_result"
    }
   ],
   "source": [
    "type(addition_print(1, 2))"
   ]
  },
  {
   "cell_type": "code",
   "execution_count": 205,
   "id": "e40e8a0b",
   "metadata": {},
   "outputs": [],
   "source": [
    "def addition_return(a, b):\n",
    "    return a+b"
   ]
  },
  {
   "cell_type": "code",
   "execution_count": 206,
   "id": "2a637ab1",
   "metadata": {},
   "outputs": [
    {
     "data": {
      "text/plain": [
       "3"
      ]
     },
     "execution_count": 206,
     "metadata": {},
     "output_type": "execute_result"
    }
   ],
   "source": [
    "addition_return(1, 2)"
   ]
  },
  {
   "cell_type": "code",
   "execution_count": 208,
   "id": "f20ad24d",
   "metadata": {},
   "outputs": [
    {
     "data": {
      "text/plain": [
       "int"
      ]
     },
     "execution_count": 208,
     "metadata": {},
     "output_type": "execute_result"
    }
   ],
   "source": [
    "type(addition_return(1, 2))"
   ]
  },
  {
   "cell_type": "code",
   "execution_count": null,
   "id": "ffcbac3d",
   "metadata": {},
   "outputs": [],
   "source": [
    "# If you run functions\n",
    "    # NoneType\n",
    "    # NoneType is not suscriptable\n",
    "    # DEBUGGING -> MESSAGE\n",
    "        # \"Nonetype\"? -> do you need to return?"
   ]
  },
  {
   "cell_type": "markdown",
   "id": "f2c07b7a",
   "metadata": {
    "lang": "en"
   },
   "source": [
    "## Parameters vs Arguments\n",
    "Formal parameters for a function are listed in the function declaration and used in the body of the function definition.\n",
    "\n",
    "An argument is what is used when referring to parameters. When you write a function call, the arguments are listed in parentheses after the function name. When the function call is executed, the arguments are inserted for the parameters.\n",
    "\n",
    "Let's say then that the parameters are those \"imaginary\" variables that will have the same name in the definition and in the body of the function.\n",
    "The arguments are the REAL DATA that we use when we call the function."
   ]
  },
  {
   "cell_type": "code",
   "execution_count": 216,
   "id": "1fceabf4",
   "metadata": {},
   "outputs": [
    {
     "data": {
      "text/plain": [
       "'hi my name is nerea'"
      ]
     },
     "execution_count": 216,
     "metadata": {},
     "output_type": "execute_result"
    }
   ],
   "source": [
    "# parameter\n",
    "def addition (a, b):\n",
    "    return f\"{a} my name is {b}\"\n",
    "\n",
    "# argument\n",
    "addition (\"hi\", \"nerea\")"
   ]
  },
  {
   "cell_type": "code",
   "execution_count": 217,
   "id": "72bfea73",
   "metadata": {},
   "outputs": [
    {
     "ename": "TypeError",
     "evalue": "addition() missing 1 required positional argument: 'name'",
     "output_type": "error",
     "traceback": [
      "\u001b[0;31m---------------------------------------------------------------------------\u001b[0m",
      "\u001b[0;31mTypeError\u001b[0m                                 Traceback (most recent call last)",
      "Input \u001b[0;32mIn [217]\u001b[0m, in \u001b[0;36m<cell line: 1>\u001b[0;34m()\u001b[0m\n\u001b[0;32m----> 1\u001b[0m \u001b[43maddition\u001b[49m\u001b[43m(\u001b[49m\u001b[38;5;124;43m\"\u001b[39;49m\u001b[38;5;124;43mhello\u001b[39;49m\u001b[38;5;124;43m\"\u001b[39;49m\u001b[43m)\u001b[49m\n",
      "\u001b[0;31mTypeError\u001b[0m: addition() missing 1 required positional argument: 'name'"
     ]
    }
   ],
   "source": [
    "addition(\"hello\")"
   ]
  },
  {
   "cell_type": "code",
   "execution_count": null,
   "id": "f1faf724",
   "metadata": {},
   "outputs": [],
   "source": [
    "#name: parameter\n",
    "#nerea: argument"
   ]
  },
  {
   "cell_type": "markdown",
   "id": "a7bd2e8f",
   "metadata": {},
   "source": [
    "What function returns is just _\"the return\"_\n",
    "We can return as many things as we want"
   ]
  },
  {
   "cell_type": "markdown",
   "id": "f4adbaec",
   "metadata": {
    "lang": "en"
   },
   "source": [
    "## Functions that have no parameters"
   ]
  },
  {
   "cell_type": "code",
   "execution_count": null,
   "id": "3de41a24",
   "metadata": {},
   "outputs": [],
   "source": []
  },
  {
   "cell_type": "markdown",
   "id": "e39c76af",
   "metadata": {
    "lang": "en"
   },
   "source": [
    "## Functions that have no return\n",
    "They do \"stuff\" but they don't return anything... and if a function doesn't have a return, then it returns:\n",
    "```python\n",
    "None\n",
    "```"
   ]
  },
  {
   "cell_type": "markdown",
   "id": "c4c03c79",
   "metadata": {},
   "source": [
    "# Mini recap\n",
    "\n",
    "- functions: something that do things\n",
    "- re-usable\n",
    "- kept in one place: debug\n",
    "\n",
    "\n",
    "- they do things: return? \n",
    "    - if return: i can access the value\n",
    "    - have things done, that's it -> value NoneType (error messages)\n",
    "        - probably printing when you should return?\n",
    "\n",
    "\n",
    "- parameters and argumentsa\n",
    "    - parameters: template/placeholder. when we define it\n",
    "    - arguments: when we pass them\n",
    "    \n",
    "    \n",
    "- define: create\n",
    "- call the functions: use\n",
    "- pass args: when we make use of the parameter; addition(3, 5)\n",
    "    - `requires positional arguments but 1 was given` \n",
    "    \n",
    "- paradigms:\n",
    "    - functional: today\n",
    "    - imperative: line by line, do things\n",
    "    - OOP: class (functions & things)\n",
    "\n",
    "- DOCS\n",
    "    - docstrings: \"\"\"Description\"\"\"\n",
    "        - my_little_function.__doc__\n",
    "        - using inspect -> source code\n",
    "    - comments\n",
    "        #1. downloads\n",
    "        #2. modifies the file we downloaded\n",
    "        #3. feedback on the process\n",
    "        \n",
    "        "
   ]
  },
  {
   "cell_type": "code",
   "execution_count": null,
   "id": "60fde32b",
   "metadata": {},
   "outputs": [],
   "source": []
  },
  {
   "cell_type": "code",
   "execution_count": null,
   "id": "4e5e4330",
   "metadata": {},
   "outputs": [],
   "source": []
  },
  {
   "cell_type": "code",
   "execution_count": null,
   "id": "79feabb9",
   "metadata": {},
   "outputs": [],
   "source": []
  },
  {
   "cell_type": "code",
   "execution_count": null,
   "id": "927b80e1",
   "metadata": {},
   "outputs": [],
   "source": []
  },
  {
   "cell_type": "code",
   "execution_count": null,
   "id": "73ae79ee",
   "metadata": {},
   "outputs": [],
   "source": []
  },
  {
   "cell_type": "markdown",
   "id": "f65b59cf",
   "metadata": {
    "lang": "en"
   },
   "source": [
    "## Let's write functions"
   ]
  },
  {
   "cell_type": "markdown",
   "id": "8b6148b3",
   "metadata": {
    "lang": "en"
   },
   "source": [
    "**Example**: I am given a time in the following format: `\"04:52\"`, minutes and seconds. Calculate the integer number of seconds."
   ]
  },
  {
   "cell_type": "code",
   "execution_count": null,
   "id": "2ca344b4",
   "metadata": {},
   "outputs": [],
   "source": [
    "#1. What do we have: type=str, \"xx:yy\"\n",
    "    # identify: minutes\n",
    "    # identify: seconds\n",
    "    \n",
    "    # calculation: min*60, add that secs\n",
    "\n",
    "#2. Goal: type=int, sum"
   ]
  },
  {
   "cell_type": "code",
   "execution_count": null,
   "id": "6be7fec6",
   "metadata": {},
   "outputs": [],
   "source": [
    "# transform from str -> int (cast)\n",
    "    \n",
    "# find: mins & seconds\n",
    "    #split: identify"
   ]
  },
  {
   "cell_type": "code",
   "execution_count": null,
   "id": "71f94ea0",
   "metadata": {},
   "outputs": [],
   "source": [
    "def mins_secs ():\n",
    "    pass\n",
    "\n",
    "mins_secs(\"04:52\")\n",
    "mins_secs(4, 20)"
   ]
  },
  {
   "cell_type": "code",
   "execution_count": 289,
   "id": "141cc4fc",
   "metadata": {},
   "outputs": [],
   "source": [
    "# define function\n",
    "   # take a string: mis:seconds\n",
    "    # return: total amount of seconds"
   ]
  },
  {
   "cell_type": "code",
   "execution_count": 291,
   "id": "52209ed4",
   "metadata": {},
   "outputs": [],
   "source": [
    "def mins_secs ():\n",
    "    pass"
   ]
  },
  {
   "cell_type": "code",
   "execution_count": 295,
   "id": "42b15a11",
   "metadata": {},
   "outputs": [],
   "source": [
    "# Gerard\n",
    "\n",
    "def seconds_count (time):\n",
    "    time_list = time.split(\":\")\n",
    "    new_time = [int(i) for i in time_list]\n",
    "    return new_time[0]*60 + new_time[1]"
   ]
  },
  {
   "cell_type": "code",
   "execution_count": 296,
   "id": "538d539f",
   "metadata": {},
   "outputs": [
    {
     "data": {
      "text/plain": [
       "292"
      ]
     },
     "execution_count": 296,
     "metadata": {},
     "output_type": "execute_result"
    }
   ],
   "source": [
    "seconds_count (\"04:52\")"
   ]
  },
  {
   "cell_type": "code",
   "execution_count": 297,
   "id": "8ff1b13c",
   "metadata": {},
   "outputs": [
    {
     "data": {
      "text/plain": [
       "292"
      ]
     },
     "execution_count": 297,
     "metadata": {},
     "output_type": "execute_result"
    }
   ],
   "source": [
    "seconds_count (\"4:52\")"
   ]
  },
  {
   "cell_type": "code",
   "execution_count": 298,
   "id": "540b5a25",
   "metadata": {},
   "outputs": [
    {
     "data": {
      "text/plain": [
       "4323"
      ]
     },
     "execution_count": 298,
     "metadata": {},
     "output_type": "execute_result"
    }
   ],
   "source": [
    "seconds_count (\"70:123\")"
   ]
  },
  {
   "cell_type": "code",
   "execution_count": 299,
   "id": "fdb46322",
   "metadata": {},
   "outputs": [
    {
     "data": {
      "text/plain": [
       "'ESA HORA NO EXISTE'"
      ]
     },
     "execution_count": 299,
     "metadata": {},
     "output_type": "execute_result"
    }
   ],
   "source": [
    "# Gonzalo\n",
    "\n",
    "def realtime (a):\n",
    "    minute=int(a[0:2])\n",
    "    second=int(a[3:5])\n",
    "    if minute>60 or second >60:\n",
    "        return \"ESA HORA NO EXISTE\"\n",
    "    else:\n",
    "        return minute*60+second\n",
    "    \n",
    "    \n",
    "# Gonzalo 2\n",
    "\n",
    "def realtime (a):\n",
    "    minute=int(a.partition(\":\")[0])\n",
    "    second=int(a.partition(\":\")[-1])\n",
    "    if minute>60 or second >60:\n",
    "        return \"ESA HORA NO EXISTE\"\n",
    "    else:\n",
    "        return minute*60+second\n",
    "    \n",
    "# Gonzalo\n",
    "\n",
    "def realtime (a):\n",
    "    minute=int(a.partition(\":\")[0])\n",
    "    second=int(a.partition(\":\")[-1])\n",
    "    \n",
    "    if minute>60 or second >60:\n",
    "        return \"ESA HORA NO EXISTE\"\n",
    "    else:\n",
    "        return minute*60+second\n",
    "\n",
    "realtime(\"70:123\")"
   ]
  },
  {
   "cell_type": "code",
   "execution_count": 300,
   "id": "4489e8f5",
   "metadata": {},
   "outputs": [
    {
     "data": {
      "text/plain": [
       "123"
      ]
     },
     "execution_count": 300,
     "metadata": {},
     "output_type": "execute_result"
    }
   ],
   "source": [
    "# David\n",
    "\n",
    "def time_ (a):\n",
    "    seconds = int(a[3:])\n",
    "    return seconds\n",
    "\n",
    "time_(\"70:123\")"
   ]
  },
  {
   "cell_type": "code",
   "execution_count": 302,
   "id": "1ec2c5ae",
   "metadata": {},
   "outputs": [
    {
     "data": {
      "text/plain": [
       "'04:5204:5204:5204:5204:5204:5204:5204:5204:5204:5204:5204:5204:5204:5204:5204:5204:5204:5204:5204:5204:5204:5204:5204:5204:5204:5204:5204:5204:5204:5204:5204:5204:5204:5204:5204:5204:5204:5204:5204:5204:5204:5204:5204:5204:5204:5204:5204:5204:5204:5204:5204:5204:5204:5204:5204:5204:5204:5204:5204:5204:52'"
      ]
     },
     "execution_count": 302,
     "metadata": {},
     "output_type": "execute_result"
    }
   ],
   "source": [
    "# Tom\n",
    "\n",
    "def counter(a, b):\n",
    "    return (a*60 + b)\n",
    "\n",
    "counter(\"04:52\", \"04:52\")"
   ]
  },
  {
   "cell_type": "code",
   "execution_count": 294,
   "id": "e6df427b",
   "metadata": {},
   "outputs": [],
   "source": [
    "# Dani\n",
    "\n",
    "def clock (time):\n",
    "    x = time.split(\":\")\n",
    "    return x[-1]\n",
    "clock(\"04:52\")"
   ]
  },
  {
   "cell_type": "code",
   "execution_count": null,
   "id": "ec393869",
   "metadata": {},
   "outputs": [],
   "source": [
    "# Andrés\n",
    "\n",
    "def total_seconds (string):\n",
    "    time = str(string).split(\":\")\n",
    "    hours = int(time[0]) * 3600\n",
    "    seconds = int(time[1]) * 60\n",
    "    return hours + seconds"
   ]
  },
  {
   "cell_type": "code",
   "execution_count": null,
   "id": "6bbb46b8",
   "metadata": {},
   "outputs": [],
   "source": [
    "# Graham\n",
    "\n",
    "def seconds_count (time_int):\n",
    "    return int(time_int.split(\":\")[1]) + int(time_int.split(\":\")[0])*60"
   ]
  },
  {
   "cell_type": "code",
   "execution_count": 313,
   "id": "5eea6077",
   "metadata": {},
   "outputs": [
    {
     "data": {
      "text/plain": [
       "'element_1'"
      ]
     },
     "execution_count": 313,
     "metadata": {},
     "output_type": "execute_result"
    }
   ],
   "source": [
    "\"element_0:element_1\".split(\":\")[1]"
   ]
  },
  {
   "cell_type": "code",
   "execution_count": null,
   "id": "6353ae39",
   "metadata": {},
   "outputs": [],
   "source": [
    "# Sergi\n",
    "\n",
    "def seconds(a):\n",
    "    time_list= a.split(':')\n",
    "    mins = int(time_list[0])\n",
    "    sec = int(time_list[1])\n",
    "    total_seconds = mins*60+sec\n",
    "    return total_seconds\n",
    "seconds('4:52')"
   ]
  },
  {
   "cell_type": "markdown",
   "id": "e498ddf7",
   "metadata": {
    "lang": "en"
   },
   "source": [
    "We have a lot of code for ONE functionality, which we could REUSE for different cases\n",
    "**THIS IS WHAT FUNCTIONS ARE FOR**\n",
    "We then turn it into a function"
   ]
  },
  {
   "cell_type": "markdown",
   "id": "0f4e7d38",
   "metadata": {
    "lang": "en"
   },
   "source": [
    "## Default parameters"
   ]
  },
  {
   "cell_type": "code",
   "execution_count": 314,
   "id": "0a0bb1fe",
   "metadata": {},
   "outputs": [
    {
     "name": "stdout",
     "output_type": "stream",
     "text": [
      "Please input something: a\n"
     ]
    },
    {
     "data": {
      "text/plain": [
       "'a'"
      ]
     },
     "execution_count": 314,
     "metadata": {},
     "output_type": "execute_result"
    }
   ],
   "source": [
    "input(\"Please input something: \")"
   ]
  },
  {
   "cell_type": "code",
   "execution_count": 315,
   "id": "8d6c4073",
   "metadata": {},
   "outputs": [
    {
     "name": "stdout",
     "output_type": "stream",
     "text": [
      "not to pass it\n"
     ]
    },
    {
     "data": {
      "text/plain": [
       "'not to pass it'"
      ]
     },
     "execution_count": 315,
     "metadata": {},
     "output_type": "execute_result"
    }
   ],
   "source": [
    "input()"
   ]
  },
  {
   "cell_type": "code",
   "execution_count": 386,
   "id": "0bbdff41",
   "metadata": {},
   "outputs": [],
   "source": [
    "def greetings_default(myself, someone_else, language=\"en\"):\n",
    "    \n",
    "    if language == \"en\":\n",
    "        return f\"Hello, it's {myself}, and you are {someone_else}\"\n",
    "    else:\n",
    "        return f\"Hola soy {myself} y tú {someone_else}💃\""
   ]
  },
  {
   "cell_type": "code",
   "execution_count": 387,
   "id": "63af7464",
   "metadata": {},
   "outputs": [
    {
     "data": {
      "text/plain": [
       "\"Hello, it's Nerea, and you are Albert\""
      ]
     },
     "execution_count": 387,
     "metadata": {},
     "output_type": "execute_result"
    }
   ],
   "source": [
    "greetings_default(\"Nerea\", \"Albert\")"
   ]
  },
  {
   "cell_type": "code",
   "execution_count": 388,
   "id": "6bc250d8",
   "metadata": {},
   "outputs": [
    {
     "data": {
      "text/plain": [
       "'Hola soy Albert y tú Nerea💃'"
      ]
     },
     "execution_count": 388,
     "metadata": {},
     "output_type": "execute_result"
    }
   ],
   "source": [
    "greetings_default(\"Albert\", \"Nerea\", language=\"es\")"
   ]
  },
  {
   "cell_type": "code",
   "execution_count": 389,
   "id": "86d22c9c",
   "metadata": {},
   "outputs": [
    {
     "data": {
      "text/plain": [
       "'Hola soy Albert y tú Nerea💃'"
      ]
     },
     "execution_count": 389,
     "metadata": {},
     "output_type": "execute_result"
    }
   ],
   "source": [
    "greetings_default(\"Albert\", \"Nerea\", language=\"es\")"
   ]
  },
  {
   "cell_type": "code",
   "execution_count": 390,
   "id": "56841655",
   "metadata": {},
   "outputs": [],
   "source": [
    "def substraction (a, b):\n",
    "    return a - b"
   ]
  },
  {
   "cell_type": "code",
   "execution_count": 328,
   "id": "f094da50",
   "metadata": {},
   "outputs": [
    {
     "data": {
      "text/plain": [
       "95"
      ]
     },
     "execution_count": 328,
     "metadata": {},
     "output_type": "execute_result"
    }
   ],
   "source": [
    "substraction (100, 5)"
   ]
  },
  {
   "cell_type": "code",
   "execution_count": 329,
   "id": "7ce9af82",
   "metadata": {},
   "outputs": [
    {
     "data": {
      "text/plain": [
       "-95"
      ]
     },
     "execution_count": 329,
     "metadata": {},
     "output_type": "execute_result"
    }
   ],
   "source": [
    "substraction (5, 100)"
   ]
  },
  {
   "cell_type": "code",
   "execution_count": null,
   "id": "d846b722",
   "metadata": {},
   "outputs": [],
   "source": [
    "#positional arguments \n",
    "#keywords arguments"
   ]
  },
  {
   "cell_type": "code",
   "execution_count": 349,
   "id": "e9045036",
   "metadata": {},
   "outputs": [],
   "source": [
    "def calculation (num_1, num_2, operation=\"+\"):\n",
    "    \n",
    "    if operation == \"+\":\n",
    "        result = num_1 + num_2\n",
    "    elif operation == \"*\":\n",
    "        result =  num_1 * num_2\n",
    "    elif operation == \"/\":\n",
    "        result = num_1 / num_2\n",
    "    else:\n",
    "        return f\"You're missing operation\"\n",
    "    \n",
    "    return result"
   ]
  },
  {
   "cell_type": "code",
   "execution_count": 350,
   "id": "cfdfe814",
   "metadata": {},
   "outputs": [
    {
     "data": {
      "text/plain": [
       "5"
      ]
     },
     "execution_count": 350,
     "metadata": {},
     "output_type": "execute_result"
    }
   ],
   "source": [
    "calculation (3, 2)"
   ]
  },
  {
   "cell_type": "code",
   "execution_count": 351,
   "id": "79b3f972",
   "metadata": {},
   "outputs": [
    {
     "data": {
      "text/plain": [
       "6"
      ]
     },
     "execution_count": 351,
     "metadata": {},
     "output_type": "execute_result"
    }
   ],
   "source": [
    "calculation (3, 2, operation=\"*\")"
   ]
  },
  {
   "cell_type": "code",
   "execution_count": 352,
   "id": "3fc8f1a7",
   "metadata": {},
   "outputs": [
    {
     "data": {
      "text/plain": [
       "1.5"
      ]
     },
     "execution_count": 352,
     "metadata": {},
     "output_type": "execute_result"
    }
   ],
   "source": [
    "calculation (3, 2, operation=\"/\")"
   ]
  },
  {
   "cell_type": "code",
   "execution_count": 353,
   "id": "47b56bc7",
   "metadata": {},
   "outputs": [
    {
     "ename": "TypeError",
     "evalue": "calculation() missing 1 required positional argument: 'num_2'",
     "output_type": "error",
     "traceback": [
      "\u001b[0;31m---------------------------------------------------------------------------\u001b[0m",
      "\u001b[0;31mTypeError\u001b[0m                                 Traceback (most recent call last)",
      "Input \u001b[0;32mIn [353]\u001b[0m, in \u001b[0;36m<cell line: 1>\u001b[0;34m()\u001b[0m\n\u001b[0;32m----> 1\u001b[0m \u001b[43mcalculation\u001b[49m\u001b[43m(\u001b[49m\u001b[38;5;241;43m10\u001b[39;49m\u001b[43m)\u001b[49m\n",
      "\u001b[0;31mTypeError\u001b[0m: calculation() missing 1 required positional argument: 'num_2'"
     ]
    }
   ],
   "source": [
    "calculation(10)"
   ]
  },
  {
   "cell_type": "code",
   "execution_count": 354,
   "id": "85c2a3e7",
   "metadata": {},
   "outputs": [
    {
     "data": {
      "text/plain": [
       "\"You're missing operation\""
      ]
     },
     "execution_count": 354,
     "metadata": {},
     "output_type": "execute_result"
    }
   ],
   "source": [
    "calculation(10, 30, 30)"
   ]
  },
  {
   "cell_type": "code",
   "execution_count": 363,
   "id": "67b3eed9",
   "metadata": {},
   "outputs": [
    {
     "data": {
      "text/plain": [
       "0.3333333333333333"
      ]
     },
     "execution_count": 363,
     "metadata": {},
     "output_type": "execute_result"
    }
   ],
   "source": [
    "calculation(10, 30, \"/\")"
   ]
  },
  {
   "cell_type": "code",
   "execution_count": null,
   "id": "eb46bc37",
   "metadata": {},
   "outputs": [],
   "source": [
    "input(prompt=\"Please enter a number\")\n",
    "input(\"Please enter a number\")"
   ]
  },
  {
   "cell_type": "code",
   "execution_count": 355,
   "id": "7acc7ecf",
   "metadata": {},
   "outputs": [],
   "source": [
    "def addition (num_1, num_2):\n",
    "    return num_1 + num_2"
   ]
  },
  {
   "cell_type": "code",
   "execution_count": 356,
   "id": "1e902e04",
   "metadata": {},
   "outputs": [
    {
     "data": {
      "text/plain": [
       "14"
      ]
     },
     "execution_count": 356,
     "metadata": {},
     "output_type": "execute_result"
    }
   ],
   "source": [
    "addition(10, 4)"
   ]
  },
  {
   "cell_type": "code",
   "execution_count": 357,
   "id": "71be6aac",
   "metadata": {},
   "outputs": [
    {
     "ename": "TypeError",
     "evalue": "addition() takes 2 positional arguments but 3 were given",
     "output_type": "error",
     "traceback": [
      "\u001b[0;31m---------------------------------------------------------------------------\u001b[0m",
      "\u001b[0;31mTypeError\u001b[0m                                 Traceback (most recent call last)",
      "Input \u001b[0;32mIn [357]\u001b[0m, in \u001b[0;36m<cell line: 1>\u001b[0;34m()\u001b[0m\n\u001b[0;32m----> 1\u001b[0m \u001b[43maddition\u001b[49m\u001b[43m(\u001b[49m\u001b[38;5;241;43m10\u001b[39;49m\u001b[43m,\u001b[49m\u001b[43m \u001b[49m\u001b[38;5;241;43m4\u001b[39;49m\u001b[43m,\u001b[49m\u001b[43m \u001b[49m\u001b[38;5;241;43m20\u001b[39;49m\u001b[43m)\u001b[49m\n",
      "\u001b[0;31mTypeError\u001b[0m: addition() takes 2 positional arguments but 3 were given"
     ]
    }
   ],
   "source": [
    "addition(10, 4, 20) # -> cover for a variable/unknown amount of arguments"
   ]
  },
  {
   "cell_type": "code",
   "execution_count": 359,
   "id": "e3dfc3c6",
   "metadata": {},
   "outputs": [],
   "source": [
    "def addition_variable (*args):\n",
    "    total = 0\n",
    "    for i in args:\n",
    "        total += i\n",
    "    return total"
   ]
  },
  {
   "cell_type": "code",
   "execution_count": 360,
   "id": "2663b89f",
   "metadata": {},
   "outputs": [
    {
     "data": {
      "text/plain": [
       "0"
      ]
     },
     "execution_count": 360,
     "metadata": {},
     "output_type": "execute_result"
    }
   ],
   "source": [
    "addition_variable ()"
   ]
  },
  {
   "cell_type": "code",
   "execution_count": 361,
   "id": "6c12eede",
   "metadata": {},
   "outputs": [
    {
     "data": {
      "text/plain": [
       "5"
      ]
     },
     "execution_count": 361,
     "metadata": {},
     "output_type": "execute_result"
    }
   ],
   "source": [
    "addition_variable (1, 4)"
   ]
  },
  {
   "cell_type": "code",
   "execution_count": 362,
   "id": "1eca13ac",
   "metadata": {},
   "outputs": [
    {
     "data": {
      "text/plain": [
       "39"
      ]
     },
     "execution_count": 362,
     "metadata": {},
     "output_type": "execute_result"
    }
   ],
   "source": [
    "addition_variable (1, 5, 4, 6, 23)"
   ]
  },
  {
   "cell_type": "code",
   "execution_count": null,
   "id": "a701094c",
   "metadata": {},
   "outputs": [],
   "source": [
    "# positional arguments: the order does matter\n",
    "# kwargs: by name\n",
    "\n",
    "# variable of args: *args / *things / *idk\n",
    "# variable of kwatgs: **kwargs / **things / **idk\n"
   ]
  },
  {
   "cell_type": "markdown",
   "id": "32e7775a",
   "metadata": {
    "lang": "en"
   },
   "source": [
    "## PLEASE don't confuse PRINTs inside a function with RETURNs!"
   ]
  },
  {
   "cell_type": "code",
   "execution_count": null,
   "id": "70691b15",
   "metadata": {},
   "outputs": [],
   "source": []
  },
  {
   "cell_type": "markdown",
   "id": "5bbfe19b",
   "metadata": {
    "lang": "en"
   },
   "source": [
    "## Docstring\n",
    "- The code is written 1 time.\n",
    "- The code is read 100 times.\n",
    "- Help your colleagues understand your work.\n",
    "\n",
    "![lafoto](https://res.cloudinary.com/highflyer910/image/upload/v1589577574/1_1_httqnc.jpg)\n",
    "\n",
    "\n",
    "In this example, we have defined a cat function that returns meow. We have declared a docstring that explains what the function does. To get the docstring of a function, we need to display the doc attribute (print(cat.__doc__))\n",
    "Photo reference, description and more info about docstring [here](https://techiestuff.netlify.app/blog/what-is-a-python-docstring/)"
   ]
  },
  {
   "cell_type": "code",
   "execution_count": null,
   "id": "abe64156",
   "metadata": {},
   "outputs": [],
   "source": [
    "def cat (animal):\n",
    "    \"\"\"This function mewos to you\n",
    "    :animal: str. It is the animal that does the thing\n",
    "    :return: str: a formatted string\n",
    "    \"\"\"\n",
    "    \n",
    "    return f\"The animal {animal} mewos\""
   ]
  },
  {
   "cell_type": "markdown",
   "id": "86c5ccda",
   "metadata": {
    "lang": "en"
   },
   "source": [
    "## Scope of functions"
   ]
  },
  {
   "cell_type": "code",
   "execution_count": null,
   "id": "7cb837df",
   "metadata": {},
   "outputs": [],
   "source": []
  },
  {
   "cell_type": "markdown",
   "id": "80ccf4fe",
   "metadata": {},
   "source": [
    "[Extra: global variables](https://www.w3schools.com/python/python_variables_global.asp)"
   ]
  },
  {
   "cell_type": "code",
   "execution_count": null,
   "id": "ec82d0e4",
   "metadata": {},
   "outputs": [],
   "source": []
  },
  {
   "cell_type": "markdown",
   "id": "ed14ae9a",
   "metadata": {
    "lang": "en"
   },
   "source": [
    "## *Args\n",
    "In Python, the special parameter `*args` in a function is used to optionally pass a variable number of positional arguments."
   ]
  },
  {
   "cell_type": "markdown",
   "id": "2bb755bc",
   "metadata": {},
   "source": [
    "`two arguments`"
   ]
  },
  {
   "cell_type": "code",
   "execution_count": null,
   "id": "d0dc3ab5",
   "metadata": {},
   "outputs": [],
   "source": [
    "def addition_positional (a, b):\n",
    "    return a + b"
   ]
  },
  {
   "cell_type": "code",
   "execution_count": null,
   "id": "95e8111c",
   "metadata": {},
   "outputs": [],
   "source": [
    "addition_positional (3, 5)"
   ]
  },
  {
   "cell_type": "markdown",
   "id": "7fee6e45",
   "metadata": {},
   "source": [
    "`unkown number of arguments`"
   ]
  },
  {
   "cell_type": "code",
   "execution_count": 229,
   "id": "bd9220c4",
   "metadata": {},
   "outputs": [],
   "source": [
    "def addition_args (*numbers):\n",
    "    sum_ = 0\n",
    "    for i in numbers: \n",
    "        sum_ += i\n",
    "    return sum_"
   ]
  },
  {
   "cell_type": "code",
   "execution_count": 231,
   "id": "ca7f91f8",
   "metadata": {
    "scrolled": true
   },
   "outputs": [
    {
     "data": {
      "text/plain": [
       "608"
      ]
     },
     "execution_count": 231,
     "metadata": {},
     "output_type": "execute_result"
    }
   ],
   "source": [
    "addition_args (3, 5, 100, 500)"
   ]
  },
  {
   "cell_type": "markdown",
   "id": "17a04c9e",
   "metadata": {},
   "source": [
    "`otherwise`: errors"
   ]
  },
  {
   "cell_type": "code",
   "execution_count": 365,
   "id": "6d493c0a",
   "metadata": {},
   "outputs": [],
   "source": [
    "#addition_positional(3, 5, 10)"
   ]
  },
  {
   "cell_type": "markdown",
   "id": "d6f3043e",
   "metadata": {
    "lang": "en"
   },
   "source": [
    "## **Kwargs"
   ]
  },
  {
   "cell_type": "markdown",
   "id": "98ca1af5",
   "metadata": {
    "lang": "en"
   },
   "source": [
    "We can also pass a dictionary as an argument using the parameter names (**kwargs) as keys.\n",
    "Use **kwargs to optionally pass a variable number of named arguments to a function.\n",
    "It is a dictionary whose keys become parameters and their values ​​become the arguments of the parameters.\n",
    "The **kwargs parameter receives the arguments as a dictionary."
   ]
  },
  {
   "cell_type": "code",
   "execution_count": 404,
   "id": "83308f1a",
   "metadata": {},
   "outputs": [],
   "source": [
    "def positional_and_kwargs (a, b, *args, **kwargs):\n",
    "    print(a)\n",
    "    print(b)\n",
    "    print(args)\n",
    "    for key ,value in kwargs.items():\n",
    "        print(f\"My {key} is {value}\")"
   ]
  },
  {
   "cell_type": "code",
   "execution_count": 367,
   "id": "285b0163",
   "metadata": {
    "scrolled": true
   },
   "outputs": [
    {
     "name": "stdout",
     "output_type": "stream",
     "text": [
      "5\n",
      "My name is Nerea\n",
      "My age is 25\n",
      "My role is ta\n"
     ]
    }
   ],
   "source": [
    "positional_and_kwargs (5, name=\"Nerea\", age=25, role=\"ta\")"
   ]
  },
  {
   "cell_type": "code",
   "execution_count": 370,
   "id": "1b1c031d",
   "metadata": {},
   "outputs": [
    {
     "name": "stdout",
     "output_type": "stream",
     "text": [
      "5\n",
      "My name is Nerea\n",
      "My age is 25\n",
      "My role is ta\n"
     ]
    }
   ],
   "source": [
    "positional_and_kwargs (5, name=\"Nerea\", age=25, role=\"ta\")"
   ]
  },
  {
   "cell_type": "code",
   "execution_count": 405,
   "id": "dea5db2b",
   "metadata": {},
   "outputs": [
    {
     "name": "stdout",
     "output_type": "stream",
     "text": [
      "3\n",
      "5\n",
      "([1, 2, 34],)\n",
      "My name is nerea\n",
      "My age is 25\n"
     ]
    }
   ],
   "source": [
    "positional_and_kwargs (3, 5, [1, 2, 34], **info)"
   ]
  },
  {
   "cell_type": "code",
   "execution_count": 391,
   "id": "dddc3ba5",
   "metadata": {},
   "outputs": [],
   "source": [
    "info = {\n",
    "    \"name\":\"nerea\",\n",
    "    \"age\": 25\n",
    "}"
   ]
  },
  {
   "cell_type": "code",
   "execution_count": 393,
   "id": "9c03107f",
   "metadata": {},
   "outputs": [],
   "source": [
    "info_someone_else = {\n",
    "    \"name\": \"clara\",\n",
    "    \"age\": 30,\n",
    "    \"location\": \"poblenou\",\n",
    "    \"idk\":\"something else\"\n",
    "}"
   ]
  },
  {
   "cell_type": "code",
   "execution_count": 402,
   "id": "fe4d7c25",
   "metadata": {},
   "outputs": [
    {
     "ename": "TypeError",
     "evalue": "positional_and_kwargs() takes 1 positional argument but 2 were given",
     "output_type": "error",
     "traceback": [
      "\u001b[0;31m---------------------------------------------------------------------------\u001b[0m",
      "\u001b[0;31mTypeError\u001b[0m                                 Traceback (most recent call last)",
      "Input \u001b[0;32mIn [402]\u001b[0m, in \u001b[0;36m<cell line: 1>\u001b[0;34m()\u001b[0m\n\u001b[0;32m----> 1\u001b[0m \u001b[43mpositional_and_kwargs\u001b[49m\u001b[43m(\u001b[49m\u001b[38;5;241;43m10\u001b[39;49m\u001b[43m,\u001b[49m\u001b[43m \u001b[49m\u001b[43minfo\u001b[49m\u001b[43m)\u001b[49m\n",
      "\u001b[0;31mTypeError\u001b[0m: positional_and_kwargs() takes 1 positional argument but 2 were given"
     ]
    }
   ],
   "source": [
    "positional_and_kwargs(10, info)"
   ]
  },
  {
   "cell_type": "code",
   "execution_count": 400,
   "id": "a9c5f02d",
   "metadata": {},
   "outputs": [
    {
     "name": "stdout",
     "output_type": "stream",
     "text": [
      "10\n",
      "My name is nerea\n",
      "My age is 25\n"
     ]
    }
   ],
   "source": [
    "positional_and_kwargs(10, **info)"
   ]
  },
  {
   "cell_type": "code",
   "execution_count": 398,
   "id": "b8776320",
   "metadata": {},
   "outputs": [
    {
     "name": "stdout",
     "output_type": "stream",
     "text": [
      "10\n",
      "My name is clara\n",
      "My age is 30\n",
      "My location is poblenou\n",
      "My idk is something else\n"
     ]
    }
   ],
   "source": [
    "positional_and_kwargs(10, **info_someone_else)"
   ]
  },
  {
   "cell_type": "code",
   "execution_count": null,
   "id": "5fa958b4",
   "metadata": {},
   "outputs": [],
   "source": []
  },
  {
   "cell_type": "code",
   "execution_count": 368,
   "id": "232579f0",
   "metadata": {
    "scrolled": true
   },
   "outputs": [
    {
     "name": "stdout",
     "output_type": "stream",
     "text": [
      "5\n",
      "My greeting is Hey there\n",
      "My name is Nerea\n",
      "My age is 49\n",
      "My role is ta\n",
      "My another_kw_arg is this does something\n"
     ]
    }
   ],
   "source": [
    "positional_and_kwargs (5, greeting=\"Hey there\", name=\"Nerea\", age=49, role=\"ta\", another_kw_arg=\"this does something\")"
   ]
  },
  {
   "cell_type": "code",
   "execution_count": 372,
   "id": "6d3e5fb5",
   "metadata": {},
   "outputs": [],
   "source": [
    "def printer_function (positional_1, positional_2, *args, **kwargs):\n",
    "    print(positional_1)\n",
    "    print(positional_2)\n",
    "    print(args)\n",
    "    print(kwargs)"
   ]
  },
  {
   "cell_type": "code",
   "execution_count": 376,
   "id": "46abd9d6",
   "metadata": {},
   "outputs": [
    {
     "name": "stdout",
     "output_type": "stream",
     "text": [
      "1\n",
      "second\n",
      "(2, 3, 4, 5, 5, 45, 5, 5, 5)\n",
      "{'hello': 'hi', 'another': 'hello'}\n"
     ]
    }
   ],
   "source": [
    "printer_function (1, \"second\", 2, 3, 4, 5, 5, 45, 5, 5, 5, hello=\"hi\", another=\"hello\")"
   ]
  },
  {
   "cell_type": "code",
   "execution_count": null,
   "id": "0f1b3fa6",
   "metadata": {},
   "outputs": [],
   "source": [
    "order goes like this -> (a, b, *args, **kwargs)"
   ]
  },
  {
   "cell_type": "code",
   "execution_count": 414,
   "id": "07c80dff",
   "metadata": {},
   "outputs": [],
   "source": [
    "def big_addition (positional, *args, **kwargs):\n",
    "    total = 0\n",
    "    \n",
    "    # 1. positional\n",
    "    total += positional\n",
    "    \n",
    "    #2. *args: if it's an int OR if it's a list\n",
    "    for i in args:\n",
    "        if type(i) == int:\n",
    "            total += i\n",
    "        elif type(i) == list:\n",
    "            total += sum(i)\n",
    "    \n",
    "    #3. dictionary\n",
    "    total += sum(list(kwargs.values()))\n",
    "    \n",
    "    return total"
   ]
  },
  {
   "cell_type": "code",
   "execution_count": 415,
   "id": "6bc537a5",
   "metadata": {},
   "outputs": [
    {
     "data": {
      "text/plain": [
       "3114"
      ]
     },
     "execution_count": 415,
     "metadata": {},
     "output_type": "execute_result"
    }
   ],
   "source": [
    "big_addition(100, 2, 3, 4, 5, [1000, 1000, 1000])"
   ]
  },
  {
   "cell_type": "code",
   "execution_count": 416,
   "id": "f8ee9865",
   "metadata": {},
   "outputs": [],
   "source": [
    "list_big = [1000, 1000, 1000]"
   ]
  },
  {
   "cell_type": "code",
   "execution_count": 417,
   "id": "683bbb97",
   "metadata": {},
   "outputs": [
    {
     "data": {
      "text/plain": [
       "3144"
      ]
     },
     "execution_count": 417,
     "metadata": {},
     "output_type": "execute_result"
    }
   ],
   "source": [
    "big_addition(100, 2, 3, 4, 5, *list_big, **info)"
   ]
  },
  {
   "cell_type": "code",
   "execution_count": 406,
   "id": "e3608389",
   "metadata": {},
   "outputs": [],
   "source": [
    "info = {\n",
    "    \"1\": 10,\n",
    "    \"2\":20\n",
    "}"
   ]
  },
  {
   "cell_type": "code",
   "execution_count": 413,
   "id": "3a64fdae",
   "metadata": {},
   "outputs": [
    {
     "data": {
      "text/plain": [
       "30"
      ]
     },
     "execution_count": 413,
     "metadata": {},
     "output_type": "execute_result"
    }
   ],
   "source": [
    "sum(list(info.values()))"
   ]
  },
  {
   "cell_type": "markdown",
   "id": "daf6126f",
   "metadata": {
    "lang": "en"
   },
   "source": [
    "## Order Matters\n",
    "The order of the parameters when defining a function matters...\n",
    "```python\n",
    "def example(arg1, arg2, *args,**kwargs)\n",
    "```"
   ]
  },
  {
   "cell_type": "code",
   "execution_count": null,
   "id": "2e4f825a",
   "metadata": {},
   "outputs": [],
   "source": []
  },
  {
   "cell_type": "code",
   "execution_count": null,
   "id": "132faa6f",
   "metadata": {},
   "outputs": [],
   "source": []
  },
  {
   "cell_type": "markdown",
   "id": "28a2d72b",
   "metadata": {
    "lang": "en"
   },
   "source": [
    "## Lambda\n",
    "A lambda function is an anonymous function, with no identifier, that can be declared in place. Since we can take functions as arguments and assign them to variables, the notation that makes it possible to create lambda functions is very handy in many cases.\n",
    "### Syntax of a lambda\n",
    "```python\n",
    "lambda <param list>:<return expression>\n",
    "```\n",
    "### lambda examples"
   ]
  },
  {
   "cell_type": "code",
   "execution_count": 439,
   "id": "f69c2462",
   "metadata": {},
   "outputs": [],
   "source": [
    "def addition (a, b):\n",
    "    return a + b"
   ]
  },
  {
   "cell_type": "code",
   "execution_count": 442,
   "id": "b2fbcfb2",
   "metadata": {},
   "outputs": [
    {
     "data": {
      "text/plain": [
       "8"
      ]
     },
     "execution_count": 442,
     "metadata": {},
     "output_type": "execute_result"
    }
   ],
   "source": [
    "addition(3, 5)"
   ]
  },
  {
   "cell_type": "code",
   "execution_count": 443,
   "id": "a12e25f3",
   "metadata": {},
   "outputs": [
    {
     "data": {
      "text/plain": [
       "<function __main__.<lambda>(a, b)>"
      ]
     },
     "execution_count": 443,
     "metadata": {},
     "output_type": "execute_result"
    }
   ],
   "source": [
    "lambda a, b: a + b"
   ]
  },
  {
   "cell_type": "code",
   "execution_count": 444,
   "id": "061c51e8",
   "metadata": {},
   "outputs": [
    {
     "data": {
      "text/plain": [
       "8"
      ]
     },
     "execution_count": 444,
     "metadata": {},
     "output_type": "execute_result"
    }
   ],
   "source": [
    "result = lambda a, b: a + b\n",
    "result(3, 5)"
   ]
  },
  {
   "cell_type": "code",
   "execution_count": 418,
   "id": "d83e5bbf",
   "metadata": {},
   "outputs": [],
   "source": [
    "def string_to_upper (x):\n",
    "    return x.upper()"
   ]
  },
  {
   "cell_type": "code",
   "execution_count": 419,
   "id": "71c2ab71",
   "metadata": {},
   "outputs": [
    {
     "data": {
      "text/plain": [
       "'HELLOOOO'"
      ]
     },
     "execution_count": 419,
     "metadata": {},
     "output_type": "execute_result"
    }
   ],
   "source": [
    "string_to_upper(\"helloooo\")"
   ]
  },
  {
   "cell_type": "code",
   "execution_count": 420,
   "id": "fbf9fb79",
   "metadata": {},
   "outputs": [
    {
     "data": {
      "text/plain": [
       "<function __main__.<lambda>(x)>"
      ]
     },
     "execution_count": 420,
     "metadata": {},
     "output_type": "execute_result"
    }
   ],
   "source": [
    "#lambda x: x.upper()"
   ]
  },
  {
   "cell_type": "code",
   "execution_count": 421,
   "id": "feee6c13",
   "metadata": {},
   "outputs": [
    {
     "data": {
      "text/plain": [
       "'Sddsd'"
      ]
     },
     "execution_count": 421,
     "metadata": {},
     "output_type": "execute_result"
    }
   ],
   "source": [
    "\"sddsd\".capitalize()"
   ]
  },
  {
   "cell_type": "code",
   "execution_count": 431,
   "id": "24bc7b31",
   "metadata": {},
   "outputs": [],
   "source": [
    "list_of_tuples = [(\"zbcn\", 345678), (\"mad\", 111), (\"vlc\", 345670000)]"
   ]
  },
  {
   "cell_type": "code",
   "execution_count": 445,
   "id": "148d66f8",
   "metadata": {},
   "outputs": [
    {
     "data": {
      "text/plain": [
       "[('mad', 111), ('zbcn', 345678), ('vlc', 345670000)]"
      ]
     },
     "execution_count": 445,
     "metadata": {},
     "output_type": "execute_result"
    }
   ],
   "source": [
    "sorted(list_of_tuples, key= lambda anything: anything[-1])"
   ]
  },
  {
   "cell_type": "code",
   "execution_count": null,
   "id": "32ebc559",
   "metadata": {},
   "outputs": [],
   "source": [
    "column.apply(i_created_function)\n",
    "\n",
    "def upper_string(x):\n",
    "    return x.upper()\n",
    "\n",
    "#pandas.columns.apply(lambda each_cell: each_cell.upper())"
   ]
  },
  {
   "cell_type": "code",
   "execution_count": null,
   "id": "0cfa4d56",
   "metadata": {},
   "outputs": [],
   "source": [
    "# can functions receive another functioncs as arguments?\n",
    "#a: yes"
   ]
  },
  {
   "cell_type": "code",
   "execution_count": 446,
   "id": "b5493ccd",
   "metadata": {},
   "outputs": [],
   "source": [
    "def greater (a, b):\n",
    "    \n",
    "    if a > b:\n",
    "        return a\n",
    "    elif b > a:\n",
    "        return b"
   ]
  },
  {
   "cell_type": "code",
   "execution_count": 447,
   "id": "bd958d5d",
   "metadata": {},
   "outputs": [
    {
     "data": {
      "text/plain": [
       "5"
      ]
     },
     "execution_count": 447,
     "metadata": {},
     "output_type": "execute_result"
    }
   ],
   "source": [
    "greater (5, 3)"
   ]
  },
  {
   "cell_type": "code",
   "execution_count": 448,
   "id": "1384bc38",
   "metadata": {},
   "outputs": [
    {
     "data": {
      "text/plain": [
       "5"
      ]
     },
     "execution_count": 448,
     "metadata": {},
     "output_type": "execute_result"
    }
   ],
   "source": [
    "greater (3, 5)"
   ]
  },
  {
   "cell_type": "code",
   "execution_count": 464,
   "id": "0de3d767",
   "metadata": {},
   "outputs": [],
   "source": [
    "def greater_function (a, b):\n",
    "    if a > b:\n",
    "        return a\n",
    "    elif b > a:\n",
    "        return b\n",
    "\n",
    "# I could define the lesser function\n",
    "def lesser_function (a, b):\n",
    "    if a < b:\n",
    "        return a\n",
    "    elif b < a:\n",
    "        return b\n",
    "\n",
    "\n",
    "def comparison (type_of_comparison):\n",
    "    \n",
    "    if type_of_comparison == \"greater\":\n",
    "        return greater_function\n",
    "        \n",
    "    elif type_of_comparison == \"lesser\":\n",
    "        #return lesser_function # - i defined it earlier\n",
    "        return lambda x, y: x if x < y else y"
   ]
  },
  {
   "cell_type": "code",
   "execution_count": 462,
   "id": "c61792bc",
   "metadata": {},
   "outputs": [
    {
     "data": {
      "text/plain": [
       "10"
      ]
     },
     "execution_count": 462,
     "metadata": {},
     "output_type": "execute_result"
    }
   ],
   "source": [
    "comparison(\"greater\")(3, 10)"
   ]
  },
  {
   "cell_type": "code",
   "execution_count": 463,
   "id": "cf707b1f",
   "metadata": {},
   "outputs": [
    {
     "data": {
      "text/plain": [
       "3"
      ]
     },
     "execution_count": 463,
     "metadata": {},
     "output_type": "execute_result"
    }
   ],
   "source": [
    "comparison(\"lesser\")(3, 10)"
   ]
  },
  {
   "cell_type": "markdown",
   "id": "85df84e3",
   "metadata": {
    "lang": "en"
   },
   "source": [
    "It is also possible to use these anonymous functions as arguments in calls to other functions. For example, in a call to sorted() or list.sort() we can use a lambda function as an argument to the key parameter:"
   ]
  },
  {
   "cell_type": "code",
   "execution_count": null,
   "id": "5e340c4c",
   "metadata": {},
   "outputs": [],
   "source": []
  },
  {
   "cell_type": "markdown",
   "id": "b8f268d7",
   "metadata": {
    "lang": "en"
   },
   "source": [
    "Lastly, if we want to return the result of a function to another function, we can use any known function in the scope of the returning function, or use a lambda function:"
   ]
  },
  {
   "cell_type": "code",
   "execution_count": null,
   "id": "c2627d18",
   "metadata": {},
   "outputs": [],
   "source": []
  },
  {
   "cell_type": "markdown",
   "id": "f90508d9",
   "metadata": {
    "lang": "en"
   },
   "source": [
    "## Recursion\n",
    "It is called recursive call (or recursion), to those functions that in their algorithm, refer to itself.\n",
    "\n",
    "Recursive calls are usually very useful in very specific cases, but due to their great feasibility of falling into infinite iterations, adequate preventive measures should be taken and only used when strictly necessary and there is no viable alternative way to solve the problem. avoiding recursion.\n",
    "\n",
    "Python supports recursive calls, allowing a function to call itself, just as it does when calling another function."
   ]
  },
  {
   "cell_type": "code",
   "execution_count": 477,
   "id": "ca62a447",
   "metadata": {},
   "outputs": [],
   "source": [
    "def user ():\n",
    "    \"\"\"Have the user input a value lower than 5\n",
    "    \"\"\"\n",
    "    print(\"running function use again\")\n",
    "\n",
    "    num = int(input(\"Please enter a value: \"))\n",
    "    \n",
    "    #1\n",
    "    #2\n",
    "    #3\n",
    "\n",
    "    if num >= 5:\n",
    "        user()\n",
    "    else:\n",
    "        print(\"Your number is correct\")"
   ]
  },
  {
   "cell_type": "code",
   "execution_count": 478,
   "id": "b8968aeb",
   "metadata": {},
   "outputs": [
    {
     "name": "stdout",
     "output_type": "stream",
     "text": [
      "running function use again\n",
      "Please enter a value: 3\n",
      "Your number is correct\n"
     ]
    }
   ],
   "source": [
    "user()"
   ]
  },
  {
   "cell_type": "code",
   "execution_count": 485,
   "id": "a4432118",
   "metadata": {},
   "outputs": [],
   "source": [
    "import time"
   ]
  },
  {
   "cell_type": "code",
   "execution_count": 496,
   "id": "4f95fc32",
   "metadata": {},
   "outputs": [],
   "source": [
    "def countdown_recursive (number):\n",
    "    \n",
    "    number -= 1\n",
    "    \n",
    "    if number > 0:\n",
    "        #print(number)\n",
    "        countdown_recursive (number)"
   ]
  },
  {
   "cell_type": "code",
   "execution_count": 505,
   "id": "757a8031",
   "metadata": {
    "scrolled": true
   },
   "outputs": [
    {
     "name": "stdout",
     "output_type": "stream",
     "text": [
      "CPU times: user 2 µs, sys: 1 µs, total: 3 µs\n",
      "Wall time: 4.77 µs\n"
     ]
    },
    {
     "ename": "RecursionError",
     "evalue": "maximum recursion depth exceeded in comparison",
     "output_type": "error",
     "traceback": [
      "\u001b[0;31m---------------------------------------------------------------------------\u001b[0m",
      "\u001b[0;31mRecursionError\u001b[0m                            Traceback (most recent call last)",
      "Input \u001b[0;32mIn [505]\u001b[0m, in \u001b[0;36m<cell line: 2>\u001b[0;34m()\u001b[0m\n\u001b[1;32m      1\u001b[0m get_ipython()\u001b[38;5;241m.\u001b[39mrun_line_magic(\u001b[38;5;124m'\u001b[39m\u001b[38;5;124mtime\u001b[39m\u001b[38;5;124m'\u001b[39m, \u001b[38;5;124m'\u001b[39m\u001b[38;5;124m'\u001b[39m)\n\u001b[0;32m----> 2\u001b[0m \u001b[43mcountdown_recursive\u001b[49m\u001b[43m \u001b[49m\u001b[43m(\u001b[49m\u001b[38;5;241;43m10000\u001b[39;49m\u001b[43m)\u001b[49m\n",
      "Input \u001b[0;32mIn [496]\u001b[0m, in \u001b[0;36mcountdown_recursive\u001b[0;34m(number)\u001b[0m\n\u001b[1;32m      3\u001b[0m number \u001b[38;5;241m-\u001b[39m\u001b[38;5;241m=\u001b[39m \u001b[38;5;241m1\u001b[39m\n\u001b[1;32m      5\u001b[0m \u001b[38;5;28;01mif\u001b[39;00m number \u001b[38;5;241m>\u001b[39m \u001b[38;5;241m0\u001b[39m:\n\u001b[1;32m      6\u001b[0m     \u001b[38;5;66;03m#print(number)\u001b[39;00m\n\u001b[0;32m----> 7\u001b[0m     \u001b[43mcountdown_recursive\u001b[49m\u001b[43m \u001b[49m\u001b[43m(\u001b[49m\u001b[43mnumber\u001b[49m\u001b[43m)\u001b[49m\n",
      "Input \u001b[0;32mIn [496]\u001b[0m, in \u001b[0;36mcountdown_recursive\u001b[0;34m(number)\u001b[0m\n\u001b[1;32m      3\u001b[0m number \u001b[38;5;241m-\u001b[39m\u001b[38;5;241m=\u001b[39m \u001b[38;5;241m1\u001b[39m\n\u001b[1;32m      5\u001b[0m \u001b[38;5;28;01mif\u001b[39;00m number \u001b[38;5;241m>\u001b[39m \u001b[38;5;241m0\u001b[39m:\n\u001b[1;32m      6\u001b[0m     \u001b[38;5;66;03m#print(number)\u001b[39;00m\n\u001b[0;32m----> 7\u001b[0m     \u001b[43mcountdown_recursive\u001b[49m\u001b[43m \u001b[49m\u001b[43m(\u001b[49m\u001b[43mnumber\u001b[49m\u001b[43m)\u001b[49m\n",
      "    \u001b[0;31m[... skipping similar frames: countdown_recursive at line 7 (2969 times)]\u001b[0m\n",
      "Input \u001b[0;32mIn [496]\u001b[0m, in \u001b[0;36mcountdown_recursive\u001b[0;34m(number)\u001b[0m\n\u001b[1;32m      3\u001b[0m number \u001b[38;5;241m-\u001b[39m\u001b[38;5;241m=\u001b[39m \u001b[38;5;241m1\u001b[39m\n\u001b[1;32m      5\u001b[0m \u001b[38;5;28;01mif\u001b[39;00m number \u001b[38;5;241m>\u001b[39m \u001b[38;5;241m0\u001b[39m:\n\u001b[1;32m      6\u001b[0m     \u001b[38;5;66;03m#print(number)\u001b[39;00m\n\u001b[0;32m----> 7\u001b[0m     \u001b[43mcountdown_recursive\u001b[49m\u001b[43m \u001b[49m\u001b[43m(\u001b[49m\u001b[43mnumber\u001b[49m\u001b[43m)\u001b[49m\n",
      "Input \u001b[0;32mIn [496]\u001b[0m, in \u001b[0;36mcountdown_recursive\u001b[0;34m(number)\u001b[0m\n\u001b[1;32m      1\u001b[0m \u001b[38;5;28;01mdef\u001b[39;00m \u001b[38;5;21mcountdown_recursive\u001b[39m (number):\n\u001b[1;32m      3\u001b[0m     number \u001b[38;5;241m-\u001b[39m\u001b[38;5;241m=\u001b[39m \u001b[38;5;241m1\u001b[39m\n\u001b[0;32m----> 5\u001b[0m     \u001b[38;5;28;01mif\u001b[39;00m \u001b[43mnumber\u001b[49m\u001b[43m \u001b[49m\u001b[38;5;241;43m>\u001b[39;49m\u001b[43m \u001b[49m\u001b[38;5;241;43m0\u001b[39;49m:\n\u001b[1;32m      6\u001b[0m         \u001b[38;5;66;03m#print(number)\u001b[39;00m\n\u001b[1;32m      7\u001b[0m         countdown_recursive (number)\n",
      "\u001b[0;31mRecursionError\u001b[0m: maximum recursion depth exceeded in comparison"
     ]
    }
   ],
   "source": [
    "%time\n",
    "countdown_recursive (10000)"
   ]
  },
  {
   "cell_type": "code",
   "execution_count": 506,
   "id": "4ec2bd2f",
   "metadata": {},
   "outputs": [],
   "source": [
    "# RecursionError: maximum recursion depth exceeded in comparison"
   ]
  },
  {
   "cell_type": "code",
   "execution_count": 507,
   "id": "8d45e056",
   "metadata": {},
   "outputs": [],
   "source": [
    "def countdown_while (number):\n",
    "    \n",
    "    number -= 1\n",
    "    \n",
    "    while number > 0:\n",
    "        #print(number)\n",
    "        number -= 1"
   ]
  },
  {
   "cell_type": "code",
   "execution_count": 501,
   "id": "c2a6243d",
   "metadata": {},
   "outputs": [
    {
     "name": "stdout",
     "output_type": "stream",
     "text": [
      "CPU times: user 1 µs, sys: 0 ns, total: 1 µs\n",
      "Wall time: 3.81 µs\n"
     ]
    }
   ],
   "source": [
    "%time\n",
    "countdown_while (10000)"
   ]
  },
  {
   "cell_type": "markdown",
   "id": "4cb268d0",
   "metadata": {
    "lang": "en"
   },
   "source": [
    "## Summary\n",
    "It's your turn. What have we learned today?"
   ]
  },
  {
   "cell_type": "markdown",
   "id": "1282abc0",
   "metadata": {},
   "source": [
    "TYPES\n",
    "- user defined functions\n",
    "- built-in functions\n",
    "- lambda\n",
    "\n",
    "\n",
    "USER DEFINED\n",
    "\n",
    "def name (param):\n",
    "    return\n",
    "\n",
    "\n",
    "- naming: variables nouns\n",
    "    - verbs: if possible; printer / adder / \n",
    "    - lowercase\n",
    "    \n",
    "- params:\n",
    "    - args when passed\n",
    "    - optional\n",
    "        - default\n",
    "        - variable amount: *args\n",
    "\n",
    "- args:\n",
    "    - positional\n",
    "    - variable in amount\n",
    " \n",
    "\n",
    "- kwargs\n",
    "   - non-positional: its name\n",
    "   - variable in amount\n",
    "   \n",
    "   \n",
    "- return\n",
    "    - access the result in the future\n",
    "\n",
    "- print\n",
    "    - NoneType\n",
    "    \n",
    "- DOCS\n",
    "    \"\"\"Description\n",
    "    \"\"\"\n",
    "\n",
    "- recursion\n",
    "    - watch out for memory\n",
    " \n",
    "- lambda input : output\n",
    "    - useful in pandas\n",
    "    - maybe it's an option in some things like sorted ()\n",
    "   \n",
    "- ENCAPSULATE YOUR CODE\n",
    "   - imperative paradigm\n",
    "       - do this\n",
    "       - then this \n",
    "       - then that\n",
    "     \n",
    "     def formatting_string():\n",
    "           - do this\n",
    "           - then this \n",
    "           - then that\n",
    "     \n",
    "        return "
   ]
  }
 ],
 "metadata": {
  "kernelspec": {
   "display_name": "ironhack",
   "language": "python",
   "name": "ironhack"
  },
  "language_info": {
   "codemirror_mode": {
    "name": "ipython",
    "version": 3
   },
   "file_extension": ".py",
   "mimetype": "text/x-python",
   "name": "python",
   "nbconvert_exporter": "python",
   "pygments_lexer": "ipython3",
   "version": "3.8.13"
  },
  "nbTranslate": {
   "displayLangs": [
    "en",
    "es"
   ],
   "hotkey": "alt-a",
   "langInMainMenu": true,
   "sourceLang": "es",
   "targetLang": "en",
   "useGoogleTranslate": true
  },
  "toc": {
   "base_numbering": 1,
   "nav_menu": {},
   "number_sections": true,
   "sideBar": true,
   "skip_h1_title": true,
   "title_cell": "Table of Contents",
   "title_sidebar": "Contents",
   "toc_cell": true,
   "toc_position": {
    "height": "calc(100% - 180px)",
    "left": "10px",
    "top": "150px",
    "width": "288px"
   },
   "toc_section_display": true,
   "toc_window_display": false
  }
 },
 "nbformat": 4,
 "nbformat_minor": 5
}
