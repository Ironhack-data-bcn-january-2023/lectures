{
 "cells": [
  {
   "cell_type": "markdown",
   "id": "4476bce5",
   "metadata": {
    "lang": "en"
   },
   "source": [
    "# List Comprehensions"
   ]
  },
  {
   "cell_type": "markdown",
   "id": "ambient-dodge",
   "metadata": {},
   "source": [
    "![elgif](https://media.giphy.com/media/8vZY0QZZjJZqmfResk/giphy.gif)"
   ]
  },
  {
   "cell_type": "markdown",
   "id": "2d0ea60c",
   "metadata": {
    "lang": "en"
   },
   "source": [
    "## But what is this?\n",
    "List compressions are a very powerful tool, creating one list based on another, on a single readable line."
   ]
  },
  {
   "cell_type": "markdown",
   "id": "a6776c39",
   "metadata": {
    "lang": "en"
   },
   "source": [
    "If we wanted to have a list like this but with all the words in uppercase using a loop..."
   ]
  },
  {
   "cell_type": "code",
   "execution_count": 2,
   "id": "0dd9ead9",
   "metadata": {},
   "outputs": [
    {
     "data": {
      "text/plain": [
       "['BARCELONA', 'MADRID', 'GIRONA', 'MURCIA']"
      ]
     },
     "execution_count": 2,
     "metadata": {},
     "output_type": "execute_result"
    }
   ],
   "source": [
    "list_of_words = [\"barcelona\", \"madrid\", \"girona\", \"murcia\"]\n",
    "#result: new_list_upper = [\"BARCELONA\", \"MADRID\", \"GIRONA\", \"MURCI\"]\n",
    "\n",
    "\n",
    "new_list_upper = []\n",
    "for i in list_of_words:\n",
    "    new_list_upper.append(i.upper())\n",
    "new_list_upper"
   ]
  },
  {
   "cell_type": "markdown",
   "id": "012339ec",
   "metadata": {
    "lang": "en"
   },
   "source": [
    "How can we do it with list comprehension?"
   ]
  },
  {
   "cell_type": "code",
   "execution_count": 3,
   "id": "5a1fd615",
   "metadata": {},
   "outputs": [
    {
     "data": {
      "text/plain": [
       "['BARCELONA', 'MADRID', 'GIRONA', 'MURCIA']"
      ]
     },
     "execution_count": 3,
     "metadata": {},
     "output_type": "execute_result"
    }
   ],
   "source": [
    "upper_comp = [i.upper() for i in list_of_words]\n",
    "upper_comp"
   ]
  },
  {
   "cell_type": "markdown",
   "id": "third-policy",
   "metadata": {},
   "source": [
    "![imagen_compr](https://stsewd.dev/charla-comprension-de-listas/img/listComprehensions.gif)"
   ]
  },
  {
   "cell_type": "code",
   "execution_count": null,
   "id": "331c62c4",
   "metadata": {},
   "outputs": [],
   "source": []
  },
  {
   "cell_type": "markdown",
   "id": "aa4b9751",
   "metadata": {
    "lang": "en"
   },
   "source": [
    "## Easy challenge 🤔\n",
    "We want a list containing the squares of the numbers 1 to 10."
   ]
  },
  {
   "cell_type": "code",
   "execution_count": 4,
   "id": "693ad0b8",
   "metadata": {},
   "outputs": [
    {
     "data": {
      "text/plain": [
       "[1, 2, 3, 4, 5, 6, 7, 8, 9, 10]"
      ]
     },
     "execution_count": 4,
     "metadata": {},
     "output_type": "execute_result"
    }
   ],
   "source": [
    "new_list = []\n",
    "\n",
    "for i in range(1, 11):\n",
    "    new_list.append(i)\n",
    "new_list"
   ]
  },
  {
   "cell_type": "code",
   "execution_count": 6,
   "id": "f7a3cdb5",
   "metadata": {},
   "outputs": [
    {
     "data": {
      "text/plain": [
       "[1, 4, 9, 16, 25, 36, 49, 64, 81, 100]"
      ]
     },
     "execution_count": 6,
     "metadata": {},
     "output_type": "execute_result"
    }
   ],
   "source": [
    "numbers_up_to_10 = [i**2 for i in range(1, 11)]\n",
    "numbers_up_to_10"
   ]
  },
  {
   "cell_type": "markdown",
   "id": "54ce8e78",
   "metadata": {
    "lang": "en"
   },
   "source": [
    "## Advantage\n",
    "Understanding the list:\n",
    " *we don't need an empty list to start* we don't use the `.append` method."
   ]
  },
  {
   "cell_type": "code",
   "execution_count": null,
   "id": "06e40a30",
   "metadata": {},
   "outputs": [],
   "source": []
  },
  {
   "cell_type": "markdown",
   "id": "04427900",
   "metadata": {
    "lang": "en"
   },
   "source": [
    "## Easy challenge 🤔\n",
    "Create a new list, substituting \"e's\" for \"a's\" in each word in the original `words` list."
   ]
  },
  {
   "cell_type": "code",
   "execution_count": null,
   "id": "e540056e",
   "metadata": {},
   "outputs": [],
   "source": []
  },
  {
   "cell_type": "markdown",
   "id": "2c1733cd",
   "metadata": {},
   "source": [
    "### For loop"
   ]
  },
  {
   "cell_type": "code",
   "execution_count": null,
   "id": "6d238946",
   "metadata": {},
   "outputs": [],
   "source": []
  },
  {
   "cell_type": "markdown",
   "id": "998fd911",
   "metadata": {},
   "source": [
    "### Comprehension list"
   ]
  },
  {
   "cell_type": "code",
   "execution_count": null,
   "id": "c10cc958",
   "metadata": {},
   "outputs": [],
   "source": []
  },
  {
   "cell_type": "markdown",
   "id": "69146175",
   "metadata": {
    "lang": "en"
   },
   "source": [
    "## Conditions (we put IF in the comprehension)"
   ]
  },
  {
   "cell_type": "markdown",
   "id": "worthy-major",
   "metadata": {},
   "source": [
    "<img width=600 src=\"https://www.mrdbourke.com/content/images/2019/09/python-list-comprehension-article.png\">"
   ]
  },
  {
   "cell_type": "markdown",
   "id": "27f79aae",
   "metadata": {
    "lang": "en"
   },
   "source": [
    "## Easy challenge 🤔\n",
    "We want a new list with words shorter than 7 characters."
   ]
  },
  {
   "cell_type": "code",
   "execution_count": 31,
   "id": "7c2806dc",
   "metadata": {},
   "outputs": [],
   "source": [
    "list_of_words = [\"barcelona\", \"madrid\", \"girona\", \"murcia\"]"
   ]
  },
  {
   "cell_type": "markdown",
   "id": "4e443e54",
   "metadata": {},
   "source": [
    "### For loop"
   ]
  },
  {
   "cell_type": "code",
   "execution_count": 32,
   "id": "f15cf479",
   "metadata": {},
   "outputs": [
    {
     "data": {
      "text/plain": [
       "['madrid', 'girona', 'murcia']"
      ]
     },
     "execution_count": 32,
     "metadata": {},
     "output_type": "execute_result"
    }
   ],
   "source": [
    "new_list = []\n",
    "for i in list_of_words:\n",
    "    if len(i) < 7:\n",
    "        new_list.append(i)\n",
    "new_list"
   ]
  },
  {
   "cell_type": "markdown",
   "id": "efa2cc76",
   "metadata": {},
   "source": [
    "### Comprehension list"
   ]
  },
  {
   "cell_type": "code",
   "execution_count": 33,
   "id": "97be5669",
   "metadata": {},
   "outputs": [
    {
     "data": {
      "text/plain": [
       "['madrid', 'girona', 'murcia']"
      ]
     },
     "execution_count": 33,
     "metadata": {},
     "output_type": "execute_result"
    }
   ],
   "source": [
    "cities_less_than_seven = [i for i in list_of_words if len(i) < 7]\n",
    "cities_less_than_seven"
   ]
  },
  {
   "cell_type": "markdown",
   "id": "3a362f88",
   "metadata": {
    "lang": "en"
   },
   "source": [
    "## If / Else in comprehension\n",
    "You can include an else statement with a block of code that is implemented if the condition is false."
   ]
  },
  {
   "cell_type": "code",
   "execution_count": null,
   "id": "e653c205",
   "metadata": {},
   "outputs": [],
   "source": []
  },
  {
   "cell_type": "markdown",
   "id": "e5430c1d",
   "metadata": {
    "lang": "en"
   },
   "source": [
    "Be careful with the syntax, in this case it will change, the syntax of the comprehension will be:\n",
    "\n",
    "`[element if / else for element in whatever]`"
   ]
  },
  {
   "cell_type": "code",
   "execution_count": 35,
   "id": "529ac0c7",
   "metadata": {},
   "outputs": [
    {
     "data": {
      "text/plain": [
       "[1, 4, 9, 16, 25, 36, 49, 64, 81]"
      ]
     },
     "execution_count": 35,
     "metadata": {},
     "output_type": "execute_result"
    }
   ],
   "source": [
    "numbers_up_to_10 = [i**2 for i in range(1, 11) if i**2 < 100]\n",
    "numbers_up_to_10"
   ]
  },
  {
   "cell_type": "markdown",
   "id": "6e95c674",
   "metadata": {
    "lang": "es"
   },
   "source": [
    "## Nested list comprehensions"
   ]
  },
  {
   "cell_type": "code",
   "execution_count": 39,
   "id": "5a4ad215",
   "metadata": {},
   "outputs": [
    {
     "data": {
      "text/plain": [
       "'Mataró'"
      ]
     },
     "execution_count": 39,
     "metadata": {},
     "output_type": "execute_result"
    }
   ],
   "source": [
    "list_nested = [[\"Albert\", \"Mataró\"], [\"Clara\", \"Poblenou\"]]\n",
    "list_nested[0][1]"
   ]
  },
  {
   "cell_type": "code",
   "execution_count": null,
   "id": "2a5eb1d0",
   "metadata": {},
   "outputs": [],
   "source": [
    "[\"albert\", \"mataró\", \"clara\", \"poblenou\"]"
   ]
  },
  {
   "cell_type": "markdown",
   "id": "18296b82",
   "metadata": {},
   "source": [
    "### For loop"
   ]
  },
  {
   "cell_type": "markdown",
   "id": "3dceac52",
   "metadata": {
    "lang": "en"
   },
   "source": [
    "Let's create a list of lists with a for loop"
   ]
  },
  {
   "cell_type": "code",
   "execution_count": 40,
   "id": "680728f4",
   "metadata": {},
   "outputs": [
    {
     "data": {
      "text/plain": [
       "['Albert', 'Mataró', 'Clara', 'Poblenou']"
      ]
     },
     "execution_count": 40,
     "metadata": {},
     "output_type": "execute_result"
    }
   ],
   "source": [
    "new_list = []\n",
    "\n",
    "for i in list_nested:\n",
    "    for k in i:\n",
    "        new_list.append(k)\n",
    "new_list        "
   ]
  },
  {
   "cell_type": "markdown",
   "id": "ac27117f",
   "metadata": {},
   "source": [
    "### Comprehension list: nested lists"
   ]
  },
  {
   "cell_type": "code",
   "execution_count": 41,
   "id": "ab1a0ff9",
   "metadata": {},
   "outputs": [
    {
     "data": {
      "text/plain": [
       "['Albert', 'Mataró', 'Clara', 'Poblenou']"
      ]
     },
     "execution_count": 41,
     "metadata": {},
     "output_type": "execute_result"
    }
   ],
   "source": [
    "unnested_list = [k for i in list_nested for k in i]\n",
    "unnested_list"
   ]
  },
  {
   "cell_type": "markdown",
   "id": "90d83e6c",
   "metadata": {},
   "source": [
    "#### Unflattening a nested list with a for loop"
   ]
  },
  {
   "cell_type": "code",
   "execution_count": null,
   "id": "0a425b28",
   "metadata": {},
   "outputs": [],
   "source": [
    "regular_comp = [target for loop instruction]\n",
    "one_if_comp = [target for loop instruction if condition]\n",
    "\n",
    "this one changes -> if_else_comp = [element if / else for element in whatever]"
   ]
  },
  {
   "cell_type": "markdown",
   "id": "e9c37ab7",
   "metadata": {},
   "source": [
    "#### Unflattening a nested list with a comprehension list"
   ]
  },
  {
   "cell_type": "markdown",
   "id": "3cbc2ea4",
   "metadata": {
    "lang": "en"
   },
   "source": [
    "## Dictionary comprehensions"
   ]
  },
  {
   "cell_type": "code",
   "execution_count": 43,
   "id": "4ec88b0b",
   "metadata": {},
   "outputs": [],
   "source": [
    "sports_list = [\"swimming\", \"climbing\", \"running\"]"
   ]
  },
  {
   "cell_type": "code",
   "execution_count": null,
   "id": "3fcebbbf",
   "metadata": {},
   "outputs": [],
   "source": [
    "{item: len(item)}\n",
    "\n",
    "sports = {\n",
    "    \"football\":9, \n",
    "    \"climbing\": 8\n",
    "}"
   ]
  },
  {
   "cell_type": "code",
   "execution_count": 44,
   "id": "e631ad06",
   "metadata": {},
   "outputs": [
    {
     "data": {
      "text/plain": [
       "{'swimming': 8, 'climbing': 8, 'running': 7}"
      ]
     },
     "execution_count": 44,
     "metadata": {},
     "output_type": "execute_result"
    }
   ],
   "source": [
    "# for loop\n",
    "new_dict = {}\n",
    "for i in sports_list:\n",
    "    new_dict[i] = len(i)\n",
    "new_dict"
   ]
  },
  {
   "cell_type": "code",
   "execution_count": 45,
   "id": "a9088fec",
   "metadata": {},
   "outputs": [
    {
     "data": {
      "text/plain": [
       "{'swimming': 8, 'climbing': 8, 'running': 7}"
      ]
     },
     "execution_count": 45,
     "metadata": {},
     "output_type": "execute_result"
    }
   ],
   "source": [
    "dict_sports = {i:len(i) for i in sports_list}\n",
    "dict_sports"
   ]
  },
  {
   "cell_type": "markdown",
   "id": "a199d32c",
   "metadata": {
    "lang": "en"
   },
   "source": [
    "How would we do it with a normal loop?"
   ]
  },
  {
   "cell_type": "code",
   "execution_count": null,
   "id": "353ac8c3",
   "metadata": {},
   "outputs": [],
   "source": []
  },
  {
   "cell_type": "markdown",
   "id": "11a48040",
   "metadata": {},
   "source": [
    "### For loop"
   ]
  },
  {
   "cell_type": "code",
   "execution_count": null,
   "id": "0fa07fa4",
   "metadata": {},
   "outputs": [],
   "source": []
  },
  {
   "cell_type": "markdown",
   "id": "c8d2e4fa",
   "metadata": {
    "lang": "en"
   },
   "source": [
    "### Comprehension dict"
   ]
  },
  {
   "cell_type": "code",
   "execution_count": null,
   "id": "3a7dd446",
   "metadata": {},
   "outputs": [],
   "source": []
  },
  {
   "cell_type": "markdown",
   "id": "c33cdd0a",
   "metadata": {
    "lang": "en"
   },
   "source": [
    "## Challenge 🤔\n",
    "They give you a list of words. Write a dictionary containing the length of each word."
   ]
  },
  {
   "cell_type": "code",
   "execution_count": null,
   "id": "aa9b4055",
   "metadata": {},
   "outputs": [],
   "source": []
  },
  {
   "cell_type": "markdown",
   "id": "6ecdeb74",
   "metadata": {},
   "source": [
    "### For loop"
   ]
  },
  {
   "cell_type": "code",
   "execution_count": null,
   "id": "500e00ef",
   "metadata": {},
   "outputs": [],
   "source": []
  },
  {
   "cell_type": "markdown",
   "id": "c62375e0",
   "metadata": {},
   "source": [
    "### Comprehension dict"
   ]
  },
  {
   "cell_type": "code",
   "execution_count": null,
   "id": "1cafe384",
   "metadata": {},
   "outputs": [],
   "source": []
  },
  {
   "cell_type": "markdown",
   "id": "0389e710",
   "metadata": {
    "lang": "en"
   },
   "source": [
    "## Last Challenge: comprehension SET\n",
    "Also output, with a set comprehension, only unique country codes"
   ]
  },
  {
   "cell_type": "code",
   "execution_count": 47,
   "id": "73ceed64",
   "metadata": {},
   "outputs": [],
   "source": [
    "languages = [\"es-93\", \"fr-763\", \"es-97\", \"ita-90\"]"
   ]
  },
  {
   "cell_type": "code",
   "execution_count": null,
   "id": "54e0634b",
   "metadata": {},
   "outputs": [],
   "source": [
    "# []\n",
    "# (\"es\", \"fr\", \"it\")"
   ]
  },
  {
   "cell_type": "code",
   "execution_count": null,
   "id": "2a5d4668",
   "metadata": {},
   "outputs": [],
   "source": [
    "\"ita-90\"\n",
    "\"es-97\"\n",
    "\n",
    "#[:]"
   ]
  },
  {
   "cell_type": "code",
   "execution_count": 49,
   "id": "aea8d36b",
   "metadata": {},
   "outputs": [
    {
     "data": {
      "text/plain": [
       "'ita'"
      ]
     },
     "execution_count": 49,
     "metadata": {},
     "output_type": "execute_result"
    }
   ],
   "source": [
    "\"ita-90\".split(\"-\")[0]"
   ]
  },
  {
   "cell_type": "code",
   "execution_count": 53,
   "id": "4c1846f5",
   "metadata": {},
   "outputs": [
    {
     "data": {
      "text/plain": [
       "{'es', 'fr', 'ita'}"
      ]
     },
     "execution_count": 53,
     "metadata": {},
     "output_type": "execute_result"
    }
   ],
   "source": [
    "new_list = []\n",
    "\n",
    "for i in languages: \n",
    "    lang = i.split(\"-\")[0]\n",
    "    new_list.append(lang)\n",
    "set(new_list)"
   ]
  },
  {
   "cell_type": "code",
   "execution_count": 54,
   "id": "32d64738",
   "metadata": {},
   "outputs": [
    {
     "data": {
      "text/plain": [
       "{'es', 'fr', 'ita'}"
      ]
     },
     "execution_count": 54,
     "metadata": {},
     "output_type": "execute_result"
    }
   ],
   "source": [
    "lang_set = {i.split(\"-\")[0] for i in languages}\n",
    "lang_set"
   ]
  },
  {
   "cell_type": "markdown",
   "id": "19d8a0d8",
   "metadata": {},
   "source": [
    "# RECAP"
   ]
  },
  {
   "cell_type": "markdown",
   "id": "12b348d6",
   "metadata": {},
   "source": [
    "- quick way to crearte lists, append, and evaluate conditions\n",
    "- efficient\n",
    "- easy to reasd and write (if they're simple enough)\n",
    "- we can use if\n",
    "- we can use if else\n",
    "\n",
    "- transforming things on the spot\n",
    "- unnesting structures\n"
   ]
  }
 ],
 "metadata": {
  "kernelspec": {
   "display_name": "ironhack",
   "language": "python",
   "name": "ironhack"
  },
  "language_info": {
   "codemirror_mode": {
    "name": "ipython",
    "version": 3
   },
   "file_extension": ".py",
   "mimetype": "text/x-python",
   "name": "python",
   "nbconvert_exporter": "python",
   "pygments_lexer": "ipython3",
   "version": "3.8.13"
  },
  "nbTranslate": {
   "displayLangs": [
    "en",
    "es"
   ],
   "hotkey": "alt-a",
   "langInMainMenu": true,
   "sourceLang": "es",
   "targetLang": "en",
   "useGoogleTranslate": true
  },
  "toc": {
   "base_numbering": 1,
   "nav_menu": {},
   "number_sections": true,
   "sideBar": false,
   "skip_h1_title": true,
   "title_cell": "Table of Contents",
   "title_sidebar": "Contents",
   "toc_cell": false,
   "toc_position": {
    "height": "466px",
    "left": "91px",
    "top": "111.125px",
    "width": "256px"
   },
   "toc_section_display": true,
   "toc_window_display": false
  }
 },
 "nbformat": 4,
 "nbformat_minor": 5
}
