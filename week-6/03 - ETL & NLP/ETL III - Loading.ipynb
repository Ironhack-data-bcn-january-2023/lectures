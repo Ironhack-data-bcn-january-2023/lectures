{
 "cells": [
  {
   "cell_type": "markdown",
   "id": "congressional-reservoir",
   "metadata": {
    "toc": true
   },
   "source": [
    "<h1>Table of Contents<span class=\"tocSkip\"></span></h1>\n",
    "<div class=\"toc\"><ul class=\"toc-item\"><li><span><a href=\"#Loading-the-data-into-a-SQL-database-🙂\" data-toc-modified-id=\"Loading-the-data-into-a-SQL-database-🙂-1\"><span class=\"toc-item-num\">1&nbsp;&nbsp;</span>Loading the data into a SQL database 🙂</a></span><ul class=\"toc-item\"><li><ul class=\"toc-item\"><li><span><a href=\"#We-connect-with-SQL\" data-toc-modified-id=\"We-connect-with-SQL-1.0.1\"><span class=\"toc-item-num\">1.0.1&nbsp;&nbsp;</span>We connect with SQL</a></span></li></ul></li><li><span><a href=\"#Defensive-programming,-checking-functions:-what-if-I-re-reun-the-code?\" data-toc-modified-id=\"Defensive-programming,-checking-functions:-what-if-I-re-reun-the-code?-1.1\"><span class=\"toc-item-num\">1.1&nbsp;&nbsp;</span>Defensive programming, checking functions: what if I re-reun the code?</a></span></li></ul></li></ul></div>"
   ]
  },
  {
   "cell_type": "code",
   "execution_count": 17,
   "id": "1f534d21",
   "metadata": {},
   "outputs": [],
   "source": [
    "import pandas as pd\n",
    "import sqlalchemy as alch\n",
    "from getpass import getpass\n",
    "import re"
   ]
  },
  {
   "cell_type": "markdown",
   "id": "efdad34f",
   "metadata": {
    "lang": "en"
   },
   "source": [
    "## Loading the data into a SQL database 🙂"
   ]
  },
  {
   "cell_type": "code",
   "execution_count": null,
   "id": "69ec89c0",
   "metadata": {},
   "outputs": [],
   "source": []
  },
  {
   "cell_type": "markdown",
   "id": "e1917c30",
   "metadata": {
    "lang": "en"
   },
   "source": [
    "#### We connect with SQL"
   ]
  },
  {
   "cell_type": "code",
   "execution_count": null,
   "id": "7436ad50",
   "metadata": {},
   "outputs": [],
   "source": []
  },
  {
   "cell_type": "markdown",
   "id": "b038bd71",
   "metadata": {
    "lang": "en"
   },
   "source": [
    "### Defensive programming, checking functions: what if I re-reun the code?"
   ]
  },
  {
   "cell_type": "code",
   "execution_count": null,
   "id": "0f274731",
   "metadata": {},
   "outputs": [],
   "source": [
    "# Python way: length of query"
   ]
  },
  {
   "cell_type": "code",
   "execution_count": 2,
   "id": "f68c58cf",
   "metadata": {},
   "outputs": [],
   "source": [
    "# SQL way: WHERE NOT IN (subquery)"
   ]
  },
  {
   "cell_type": "code",
   "execution_count": null,
   "id": "b36042da",
   "metadata": {},
   "outputs": [],
   "source": []
  },
  {
   "cell_type": "markdown",
   "id": "b55cda8d",
   "metadata": {},
   "source": [
    "- We start with a datafrme\n",
    "- We check for values of the dataframe to exist\n",
    "- If they don't exist: insert\n",
    "- If they do: don't do anything\n",
    "    \n",
    "- Once with one value\n",
    "- Iterate over the dataframe: for each value of the column, we can insert into the table that we need"
   ]
  }
 ],
 "metadata": {
  "kernelspec": {
   "display_name": "ironhack",
   "language": "python",
   "name": "ironhack"
  },
  "language_info": {
   "codemirror_mode": {
    "name": "ipython",
    "version": 3
   },
   "file_extension": ".py",
   "mimetype": "text/x-python",
   "name": "python",
   "nbconvert_exporter": "python",
   "pygments_lexer": "ipython3",
   "version": "3.8.13"
  },
  "nbTranslate": {
   "displayLangs": [
    "en",
    "es"
   ],
   "hotkey": "alt-a",
   "langInMainMenu": true,
   "sourceLang": "es",
   "targetLang": "en",
   "useGoogleTranslate": true
  },
  "toc": {
   "base_numbering": 1,
   "nav_menu": {},
   "number_sections": true,
   "sideBar": true,
   "skip_h1_title": true,
   "title_cell": "Table of Contents",
   "title_sidebar": "Contents",
   "toc_cell": true,
   "toc_position": {},
   "toc_section_display": true,
   "toc_window_display": false
  }
 },
 "nbformat": 4,
 "nbformat_minor": 5
}
