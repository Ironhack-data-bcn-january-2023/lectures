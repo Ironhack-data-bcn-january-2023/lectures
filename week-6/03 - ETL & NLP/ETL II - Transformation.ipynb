{
 "cells": [
  {
   "cell_type": "markdown",
   "id": "congressional-reservoir",
   "metadata": {
    "toc": true
   },
   "source": [
    "<h1>Table of Contents<span class=\"tocSkip\"></span></h1>\n",
    "<div class=\"toc\"><ul class=\"toc-item\"><li><span><a href=\"#We-explore-the-data-we-have\" data-toc-modified-id=\"We-explore-the-data-we-have-1\"><span class=\"toc-item-num\">1&nbsp;&nbsp;</span>We explore the data we have</a></span></li><li><span><a href=\"#Mission-1:-Transformation\" data-toc-modified-id=\"Mission-1:-Transformation-2\"><span class=\"toc-item-num\">2&nbsp;&nbsp;</span>Mission 1: Transformation</a></span><ul class=\"toc-item\"><li><span><a href=\"#Let's-clean-it-up-with-Regex\" data-toc-modified-id=\"Let's-clean-it-up-with-Regex-2.1\"><span class=\"toc-item-num\">2.1&nbsp;&nbsp;</span>Let's clean it up with Regex</a></span></li></ul></li></ul></div>"
   ]
  },
  {
   "cell_type": "code",
   "execution_count": 3,
   "id": "1f534d21",
   "metadata": {},
   "outputs": [],
   "source": [
    "import pandas as pd\n",
    "import sqlalchemy as alch\n",
    "from getpass import getpass\n",
    "import re"
   ]
  },
  {
   "cell_type": "markdown",
   "id": "eda0c57d",
   "metadata": {
    "lang": "en"
   },
   "source": [
    "## We explore the data we have"
   ]
  },
  {
   "cell_type": "code",
   "execution_count": 6,
   "id": "7f990240",
   "metadata": {},
   "outputs": [],
   "source": [
    "df = pd.read_csv(\"lyrics-andres.csv\")"
   ]
  },
  {
   "cell_type": "code",
   "execution_count": 18,
   "id": "6b74857d",
   "metadata": {},
   "outputs": [
    {
     "data": {
      "text/plain": [
       "'La Vecina Lyrics[Letra de \"La Vecina\"]\\n\\nTodas las mañanas cuando salgo de mi casa\\nMe encuentro a una vecina que sabe que esta divina\\nMe mira de reojo y enseguida me sonrojo\\nSe da una vueltecita y me deja una sonrisita\\nSe pone su perfume que me atrapa y me consume\\nY se va por la escalera\\nComo toda una bandeeeeraaaa\\nYo siento que de pronto ella se desaparece\\nMe quedo como un tonto\\nEsperando a que regrese...\\n(Chorus)\\nAnda mi linda vecina\\nYo se que estas divina\\nTodo por ti yo lo hiciera\\nSi tu me lo pidieras (oooh, siii)\\nQuiero desde mi ventana\\nSaltar hasta tu cama\\nY que sin miedo y sin freno\\nMe entierres tu veneno\\n\\nMe siento ya tan triste\\nQue no salgo con mis panas\\nEstoy tan estresado\\nQue me están saliendo canas\\nEn mi corazoncito\\nAlgo raro esta pasando\\nY es que de mi vecina yo me estoy enamo-ran-do!\\n\\n(Chorus)\\n\\nY así paso semanas, días y noches en vela\\nNo como, ya no duermo, ya ni veo la novela\\nYo quiero convencerla pa\\' que se venga conmigo\\nPero ella me repite que yo solo soy su ami-go...\\n\\n(Chorus)\\nYou might also likeMe entierres tu veneno (x4)\\nMe entierres tu...Embed'"
      ]
     },
     "execution_count": 18,
     "metadata": {},
     "output_type": "execute_result"
    }
   ],
   "source": [
    "example = df[\"lyrics\"][11]\n",
    "example"
   ]
  },
  {
   "cell_type": "code",
   "execution_count": null,
   "id": "c3cac625",
   "metadata": {},
   "outputs": [],
   "source": [
    "# (chorus)\n",
    "# (x4)\n",
    "# [dfdfdf]"
   ]
  },
  {
   "cell_type": "markdown",
   "id": "3999e24d",
   "metadata": {
    "lang": "en"
   },
   "source": [
    "## Mission 1: Transformation"
   ]
  },
  {
   "cell_type": "code",
   "execution_count": null,
   "id": "ec3d873d",
   "metadata": {},
   "outputs": [],
   "source": []
  },
  {
   "cell_type": "markdown",
   "id": "569e00fa",
   "metadata": {
    "lang": "en"
   },
   "source": [
    "### Let's clean it up with Regex\n",
    "We see that a pattern is fulfilled, and that is that they are phrases or words between brackets"
   ]
  },
  {
   "cell_type": "code",
   "execution_count": 19,
   "id": "e2a228e9",
   "metadata": {},
   "outputs": [],
   "source": [
    "import re"
   ]
  },
  {
   "cell_type": "markdown",
   "id": "89fbabc8",
   "metadata": {},
   "source": [
    "`removing brackets`"
   ]
  },
  {
   "cell_type": "code",
   "execution_count": 25,
   "id": "34ccd0fc",
   "metadata": {},
   "outputs": [
    {
     "data": {
      "text/html": [
       "<div>\n",
       "<style scoped>\n",
       "    .dataframe tbody tr th:only-of-type {\n",
       "        vertical-align: middle;\n",
       "    }\n",
       "\n",
       "    .dataframe tbody tr th {\n",
       "        vertical-align: top;\n",
       "    }\n",
       "\n",
       "    .dataframe thead th {\n",
       "        text-align: right;\n",
       "    }\n",
       "</style>\n",
       "<table border=\"1\" class=\"dataframe\">\n",
       "  <thead>\n",
       "    <tr style=\"text-align: right;\">\n",
       "      <th></th>\n",
       "      <th>name</th>\n",
       "      <th>artist</th>\n",
       "      <th>album_name</th>\n",
       "      <th>popularity</th>\n",
       "      <th>user</th>\n",
       "      <th>lyrics</th>\n",
       "    </tr>\n",
       "  </thead>\n",
       "  <tbody>\n",
       "    <tr>\n",
       "      <th>3</th>\n",
       "      <td>Valle De Balas</td>\n",
       "      <td>Desorden Público</td>\n",
       "      <td>Plomo Revienta</td>\n",
       "      <td>22</td>\n",
       "      <td>marianamartinh</td>\n",
       "      <td>Valle De Balas LyricsLa ciudad se encierra a v...</td>\n",
       "    </tr>\n",
       "  </tbody>\n",
       "</table>\n",
       "</div>"
      ],
      "text/plain": [
       "             name            artist      album_name  popularity  \\\n",
       "3  Valle De Balas  Desorden Público  Plomo Revienta          22   \n",
       "\n",
       "             user                                             lyrics  \n",
       "3  marianamartinh  Valle De Balas LyricsLa ciudad se encierra a v...  "
      ]
     },
     "execution_count": 25,
     "metadata": {},
     "output_type": "execute_result"
    }
   ],
   "source": [
    "df.sample()"
   ]
  },
  {
   "cell_type": "code",
   "execution_count": 53,
   "id": "c234f2ee",
   "metadata": {},
   "outputs": [],
   "source": [
    "df[\"lyrics\"] = df[\"lyrics\"].str.replace(pattern, \"\", regex=True)\n",
    "df[\"lyrics\"] = df[\"lyrics\"].str.replace(r\"\\[.+\\]\", \"\", regex=True)"
   ]
  },
  {
   "cell_type": "markdown",
   "id": "806e843f",
   "metadata": {},
   "source": [
    "`changing quotes`"
   ]
  },
  {
   "cell_type": "code",
   "execution_count": 56,
   "id": "1ce80925",
   "metadata": {},
   "outputs": [],
   "source": [
    "df[\"lyrics\"] = df[\"lyrics\"].str.replace(r\"'\", \"`\", regex=True)"
   ]
  },
  {
   "cell_type": "code",
   "execution_count": 58,
   "id": "0b7e2c50",
   "metadata": {},
   "outputs": [],
   "source": [
    "def little_cleaning_function (df):\n",
    "    df[\"lyrics\"] = df[\"lyrics\"].str.replace(r\"\\(.+\\)\", \"\", regex=True)\n",
    "    df[\"lyrics\"] = df[\"lyrics\"].str.replace(r\"\\[.+\\]\", \"\", regex=True)\n",
    "    df[\"lyrics\"] = df[\"lyrics\"].str.replace(r\"'\", \"`\", regex=True)\n",
    "    return df"
   ]
  },
  {
   "cell_type": "code",
   "execution_count": 65,
   "id": "c6a44e6f",
   "metadata": {},
   "outputs": [
    {
     "data": {
      "text/html": [
       "<div>\n",
       "<style scoped>\n",
       "    .dataframe tbody tr th:only-of-type {\n",
       "        vertical-align: middle;\n",
       "    }\n",
       "\n",
       "    .dataframe tbody tr th {\n",
       "        vertical-align: top;\n",
       "    }\n",
       "\n",
       "    .dataframe thead th {\n",
       "        text-align: right;\n",
       "    }\n",
       "</style>\n",
       "<table border=\"1\" class=\"dataframe\">\n",
       "  <thead>\n",
       "    <tr style=\"text-align: right;\">\n",
       "      <th></th>\n",
       "      <th>name</th>\n",
       "      <th>artist</th>\n",
       "      <th>album_name</th>\n",
       "      <th>popularity</th>\n",
       "      <th>user</th>\n",
       "      <th>lyrics</th>\n",
       "    </tr>\n",
       "  </thead>\n",
       "  <tbody>\n",
       "    <tr>\n",
       "      <th>8</th>\n",
       "      <td>Caminando por Caracas</td>\n",
       "      <td>Piero</td>\n",
       "      <td>Piero</td>\n",
       "      <td>0</td>\n",
       "      <td>soyarepita</td>\n",
       "      <td>CONGRESOS E INTELECTUALES EN LOS INICIOS DE UN...</td>\n",
       "    </tr>\n",
       "  </tbody>\n",
       "</table>\n",
       "</div>"
      ],
      "text/plain": [
       "                    name artist album_name  popularity        user  \\\n",
       "8  Caminando por Caracas  Piero      Piero           0  soyarepita   \n",
       "\n",
       "                                              lyrics  \n",
       "8  CONGRESOS E INTELECTUALES EN LOS INICIOS DE UN...  "
      ]
     },
     "execution_count": 65,
     "metadata": {},
     "output_type": "execute_result"
    }
   ],
   "source": [
    "df.sample()"
   ]
  },
  {
   "cell_type": "code",
   "execution_count": 66,
   "id": "17ef1c9b",
   "metadata": {},
   "outputs": [],
   "source": [
    "df.to_csv(\"cleaned-lyrics-andres.csv\", index=False)"
   ]
  }
 ],
 "metadata": {
  "kernelspec": {
   "display_name": "ironhack",
   "language": "python",
   "name": "ironhack"
  },
  "language_info": {
   "codemirror_mode": {
    "name": "ipython",
    "version": 3
   },
   "file_extension": ".py",
   "mimetype": "text/x-python",
   "name": "python",
   "nbconvert_exporter": "python",
   "pygments_lexer": "ipython3",
   "version": "3.8.13"
  },
  "nbTranslate": {
   "displayLangs": [
    "en",
    "es"
   ],
   "hotkey": "alt-a",
   "langInMainMenu": true,
   "sourceLang": "es",
   "targetLang": "en",
   "useGoogleTranslate": true
  },
  "toc": {
   "base_numbering": 1,
   "nav_menu": {},
   "number_sections": true,
   "sideBar": true,
   "skip_h1_title": true,
   "title_cell": "Table of Contents",
   "title_sidebar": "Contents",
   "toc_cell": true,
   "toc_position": {},
   "toc_section_display": true,
   "toc_window_display": false
  }
 },
 "nbformat": 4,
 "nbformat_minor": 5
}
