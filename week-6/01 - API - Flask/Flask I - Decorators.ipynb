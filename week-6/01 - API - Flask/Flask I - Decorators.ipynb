{
 "cells": [
  {
   "cell_type": "markdown",
   "metadata": {
    "toc": true
   },
   "source": [
    "<h1>Table of Contents<span class=\"tocSkip\"></span></h1>\n",
    "<div class=\"toc\"><ul class=\"toc-item\"><li><span><a href=\"#What-is-Flask?\" data-toc-modified-id=\"What-is-Flask?-1\"><span class=\"toc-item-num\">1&nbsp;&nbsp;</span>What is Flask?</a></span><ul class=\"toc-item\"><li><span><a href=\"#Doc-de-Flask\" data-toc-modified-id=\"Doc-de-Flask-1.1\"><span class=\"toc-item-num\">1.1&nbsp;&nbsp;</span>Doc de Flask</a></span></li><li><span><a href=\"#Other-frameworks\" data-toc-modified-id=\"Other-frameworks-1.2\"><span class=\"toc-item-num\">1.2&nbsp;&nbsp;</span>Other frameworks</a></span></li></ul></li><li><span><a href=\"#Introduction-to-decorators\" data-toc-modified-id=\"Introduction-to-decorators-2\"><span class=\"toc-item-num\">2&nbsp;&nbsp;</span>Introduction to decorators</a></span><ul class=\"toc-item\"><li><span><a href=\"#What-are-decorators?\" data-toc-modified-id=\"What-are-decorators?-2.1\"><span class=\"toc-item-num\">2.1&nbsp;&nbsp;</span>What are decorators?</a></span></li><li><span><a href=\"#Structure\" data-toc-modified-id=\"Structure-2.2\"><span class=\"toc-item-num\">2.2&nbsp;&nbsp;</span>Structure</a></span></li><li><span><a href=\"#Let's-go-there\" data-toc-modified-id=\"Let's-go-there-2.3\"><span class=\"toc-item-num\">2.3&nbsp;&nbsp;</span>Let's go there</a></span></li><li><span><a href=\"#Modifying-another-function\" data-toc-modified-id=\"Modifying-another-function-2.4\"><span class=\"toc-item-num\">2.4&nbsp;&nbsp;</span>Modifying another function</a></span></li><li><span><a href=\"#Decorators-for-exception-handlers\" data-toc-modified-id=\"Decorators-for-exception-handlers-2.5\"><span class=\"toc-item-num\">2.5&nbsp;&nbsp;</span>Decorators for exception handlers</a></span></li><li><span><a href=\"#Verbosity/error-handling\" data-toc-modified-id=\"Verbosity/error-handling-2.6\"><span class=\"toc-item-num\">2.6&nbsp;&nbsp;</span>Verbosity/error handling</a></span></li><li><span><a href=\"#Time\" data-toc-modified-id=\"Time-2.7\"><span class=\"toc-item-num\">2.7&nbsp;&nbsp;</span>Time</a></span></li></ul></li><li><span><a href=\"#Let's-create-an-API\" data-toc-modified-id=\"Let's-create-an-API-3\"><span class=\"toc-item-num\">3&nbsp;&nbsp;</span>Let's create an API</a></span><ul class=\"toc-item\"><li><span><a href=\"#Let's-go-🔥\" data-toc-modified-id=\"Let's-go-🔥-3.1\"><span class=\"toc-item-num\">3.1&nbsp;&nbsp;</span>Let's go 🔥</a></span></li></ul></li><li><span><a href=\"#Summary\" data-toc-modified-id=\"Summary-4\"><span class=\"toc-item-num\">4&nbsp;&nbsp;</span>Summary</a></span></li></ul></div>"
   ]
  },
  {
   "cell_type": "markdown",
   "metadata": {
    "lang": "en"
   },
   "source": [
    "# API WITH PYTHON"
   ]
  },
  {
   "cell_type": "markdown",
   "metadata": {
    "lang": "en"
   },
   "source": [
    "## What is Flask?"
   ]
  },
  {
   "cell_type": "markdown",
   "metadata": {
    "lang": "en"
   },
   "source": [
    "Flask is a minimalist framework written in Python that allows you to create APIs quickly and with a minimum number of lines of code."
   ]
  },
  {
   "cell_type": "markdown",
   "metadata": {},
   "source": [
    "### Doc de Flask"
   ]
  },
  {
   "cell_type": "markdown",
   "metadata": {},
   "source": [
    "- https://flask.palletsprojects.com/en/1.1.x/quickstart/#a-minimal-application"
   ]
  },
  {
   "cell_type": "markdown",
   "metadata": {
    "lang": "en"
   },
   "source": [
    "### Other frameworks"
   ]
  },
  {
   "cell_type": "markdown",
   "metadata": {},
   "source": [
    "- https://www.streamlit.io/\n",
    "- https://fastapi.tiangolo.com/"
   ]
  },
  {
   "cell_type": "markdown",
   "metadata": {
    "lang": "en"
   },
   "source": [
    "## Introduction to decorators"
   ]
  },
  {
   "cell_type": "markdown",
   "metadata": {
    "lang": "en"
   },
   "source": [
    "### What are decorators?"
   ]
  },
  {
   "cell_type": "markdown",
   "metadata": {
    "lang": "en"
   },
   "source": [
    "Decorators are themselves functions, which take a function as an argument and return another function.\n",
    "Functions that add \"functionality\" to other functions.\n",
    "There are really 3 functions:\n",
    "a, b and c\n",
    "\n",
    "Where:\n",
    "A is a function that receives as parameter B to return C\n",
    "\n",
    "\n",
    "\n",
    "Decorators were added in Python 2.4 to make it easier to read and understand the wrapper of functions and methods (a function that receives a function and returns an enhanced one). The original use case was to be able to define methods as class methods or static methods, at the head of their definition. The syntax before decorators was:\n",
    "\n",
    "```python\n",
    "class WhatFor(object):\n",
    "    define it(cls):\n",
    "        print 'work with %s' % cls\n",
    "    it = classmethod(it)\n",
    "    defuncommon():\n",
    "        print 'I could be a global function'\n",
    "    uncommon = staticmethod(uncommon)\n",
    "```\n",
    "\n",
    "This syntax became difficult to read when the methods became large, or various transformations were done on the methods.\n",
    "The decorator syntax is lighter and easier to understand:\n",
    "\n",
    "```python\n",
    "class WhatFor(object):\n",
    "    @classmethod\n",
    "    define it(cls):\n",
    "        print 'work with %s' % cls@staticmethod\n",
    "    defuncommon():\n",
    "        print 'I could be a global function'\n",
    "```"
   ]
  },
  {
   "cell_type": "markdown",
   "metadata": {
    "lang": "en"
   },
   "source": [
    "### Structure\n",
    "How to write a decorator\n",
    "There are many ways to write custom decorators, but the easiest and most readable way is to write a function that returns a subfunction that wraps the original function call.\n",
    "A generic pattern is:\n",
    "\n",
    "```python\n",
    "def mydecorator(function):\n",
    "    def _mydecorator(*args,**kw):\n",
    "        # do some stuff before the real\n",
    "        # function gets called\n",
    "        res = function(*args, **kw)\n",
    "    return _mydecorator\n",
    "```"
   ]
  },
  {
   "cell_type": "markdown",
   "metadata": {
    "lang": "en"
   },
   "source": [
    "### Let's go there\n",
    "We remember 🤔\n",
    "\n",
    "There are really 3 functions:\n",
    "a, b and c\n",
    "\n",
    "Where:\n",
    " A is a function that receives as parameter B to return C"
   ]
  },
  {
   "cell_type": "code",
   "execution_count": null,
   "metadata": {},
   "outputs": [],
   "source": [
    "def decorator_function_A(one_function_B): \n",
    "    def inner_function_C(*args,**kw): \n",
    "        # code for the inner function\n",
    "        pass\n",
    "    return inner_function_C\n",
    "\n",
    "#decorator_function  = Function A\n",
    "#one_function  = Function B\n",
    "#inner_function = Function C"
   ]
  },
  {
   "cell_type": "markdown",
   "metadata": {},
   "source": [
    "### Modifying another function"
   ]
  },
  {
   "cell_type": "code",
   "execution_count": 3,
   "metadata": {},
   "outputs": [],
   "source": [
    "import random\n",
    "items = [\"lettuce\", \"tomato\", \"cheese\"]\n",
    "\n",
    "def random_item (list_):\n",
    "    return random.choice(list_)\n"
   ]
  },
  {
   "cell_type": "code",
   "execution_count": 9,
   "metadata": {},
   "outputs": [
    {
     "data": {
      "text/plain": [
       "'lettuce'"
      ]
     },
     "execution_count": 9,
     "metadata": {},
     "output_type": "execute_result"
    }
   ],
   "source": [
    "random_item(items)"
   ]
  },
  {
   "cell_type": "code",
   "execution_count": 18,
   "metadata": {},
   "outputs": [],
   "source": [
    "def my_decorator_printer (fn):\n",
    "    def inner_wrapper(*args, **kwargs):\n",
    "        # 1. Does things\n",
    "        print(\"This is the item you chose: \")\n",
    "        \n",
    "        # 2. Call the other function (which will be: random_item)\n",
    "        return fn(*args, **kwargs)\n",
    "    return inner_wrapper"
   ]
  },
  {
   "cell_type": "code",
   "execution_count": null,
   "metadata": {},
   "outputs": [],
   "source": [
    "def my_decorator_printer (fn):\n",
    "    def do_things (*args, **kwargs):\n",
    "        print(\"This is the item you chose: \")\n",
    "        return fn(*args, **kwargs)\n",
    "    return do_things"
   ]
  },
  {
   "cell_type": "code",
   "execution_count": 29,
   "metadata": {},
   "outputs": [],
   "source": [
    "def printer ():\n",
    "    print(\"This is the item you chose: \")"
   ]
  },
  {
   "cell_type": "code",
   "execution_count": 30,
   "metadata": {},
   "outputs": [],
   "source": [
    "def random_item (list_):\n",
    "    printer ()\n",
    "    return random.choice(list_)"
   ]
  },
  {
   "cell_type": "code",
   "execution_count": 21,
   "metadata": {},
   "outputs": [],
   "source": [
    "@my_decorator_printer\n",
    "def suma (a, b):\n",
    "    return a +b"
   ]
  },
  {
   "cell_type": "code",
   "execution_count": 23,
   "metadata": {},
   "outputs": [],
   "source": [
    "@my_decorator_printer\n",
    "def a_string ():\n",
    "    return f\"This is a string\""
   ]
  },
  {
   "cell_type": "code",
   "execution_count": 24,
   "metadata": {},
   "outputs": [
    {
     "name": "stdout",
     "output_type": "stream",
     "text": [
      "This is the item you chose: \n"
     ]
    },
    {
     "data": {
      "text/plain": [
       "'This is a string'"
      ]
     },
     "execution_count": 24,
     "metadata": {},
     "output_type": "execute_result"
    }
   ],
   "source": [
    "a_string()"
   ]
  },
  {
   "cell_type": "code",
   "execution_count": 22,
   "metadata": {},
   "outputs": [
    {
     "name": "stdout",
     "output_type": "stream",
     "text": [
      "This is the item you chose: \n"
     ]
    },
    {
     "data": {
      "text/plain": [
       "8"
      ]
     },
     "execution_count": 22,
     "metadata": {},
     "output_type": "execute_result"
    }
   ],
   "source": [
    "suma(3, 5)"
   ]
  },
  {
   "cell_type": "code",
   "execution_count": 20,
   "metadata": {},
   "outputs": [
    {
     "name": "stdout",
     "output_type": "stream",
     "text": [
      "This is the item you chose: \n"
     ]
    },
    {
     "data": {
      "text/plain": [
       "'tomato'"
      ]
     },
     "execution_count": 20,
     "metadata": {},
     "output_type": "execute_result"
    }
   ],
   "source": [
    "random_item (items)"
   ]
  },
  {
   "cell_type": "code",
   "execution_count": null,
   "metadata": {},
   "outputs": [],
   "source": [
    "random_item (list_)"
   ]
  },
  {
   "cell_type": "markdown",
   "metadata": {},
   "source": [
    "### Decorators for exception handlers"
   ]
  },
  {
   "cell_type": "code",
   "execution_count": 25,
   "metadata": {},
   "outputs": [],
   "source": [
    "def area_square (length):\n",
    "    return length * length"
   ]
  },
  {
   "cell_type": "code",
   "execution_count": 26,
   "metadata": {},
   "outputs": [
    {
     "data": {
      "text/plain": [
       "9"
      ]
     },
     "execution_count": 26,
     "metadata": {},
     "output_type": "execute_result"
    }
   ],
   "source": [
    "area_square (3)"
   ]
  },
  {
   "cell_type": "code",
   "execution_count": 27,
   "metadata": {},
   "outputs": [
    {
     "data": {
      "text/plain": [
       "625"
      ]
     },
     "execution_count": 27,
     "metadata": {},
     "output_type": "execute_result"
    }
   ],
   "source": [
    "area_square (25)"
   ]
  },
  {
   "cell_type": "code",
   "execution_count": 28,
   "metadata": {},
   "outputs": [
    {
     "ename": "TypeError",
     "evalue": "can't multiply sequence by non-int of type 'str'",
     "output_type": "error",
     "traceback": [
      "\u001b[0;31m---------------------------------------------------------------------------\u001b[0m",
      "\u001b[0;31mTypeError\u001b[0m                                 Traceback (most recent call last)",
      "Input \u001b[0;32mIn [28]\u001b[0m, in \u001b[0;36m<cell line: 1>\u001b[0;34m()\u001b[0m\n\u001b[0;32m----> 1\u001b[0m \u001b[43marea_square\u001b[49m\u001b[43m \u001b[49m\u001b[43m(\u001b[49m\u001b[38;5;124;43m\"\u001b[39;49m\u001b[38;5;124;43m25\u001b[39;49m\u001b[38;5;124;43m\"\u001b[39;49m\u001b[43m)\u001b[49m\n",
      "Input \u001b[0;32mIn [25]\u001b[0m, in \u001b[0;36marea_square\u001b[0;34m(length)\u001b[0m\n\u001b[1;32m      1\u001b[0m \u001b[38;5;28;01mdef\u001b[39;00m \u001b[38;5;21marea_square\u001b[39m (length):\n\u001b[0;32m----> 2\u001b[0m     \u001b[38;5;28;01mreturn\u001b[39;00m \u001b[43mlength\u001b[49m\u001b[43m \u001b[49m\u001b[38;5;241;43m*\u001b[39;49m\u001b[43m \u001b[49m\u001b[43mlength\u001b[49m\n",
      "\u001b[0;31mTypeError\u001b[0m: can't multiply sequence by non-int of type 'str'"
     ]
    }
   ],
   "source": [
    "area_square (\"25\")"
   ]
  },
  {
   "cell_type": "code",
   "execution_count": 88,
   "metadata": {},
   "outputs": [],
   "source": [
    "def decorator_error_handler (my_function):\n",
    "    def do_things (*args, **kwargs):\n",
    "        try:\n",
    "            return my_function(*args, **kwargs)\n",
    "        except:\n",
    "            return f\"The function {my_function.__name__} cannot take these arguments\"\n",
    "            \n",
    "    return do_things"
   ]
  },
  {
   "cell_type": "code",
   "execution_count": 89,
   "metadata": {},
   "outputs": [],
   "source": [
    "@decorator_error_handler\n",
    "def area_square (length):\n",
    "    return length * length"
   ]
  },
  {
   "cell_type": "code",
   "execution_count": 90,
   "metadata": {},
   "outputs": [
    {
     "data": {
      "text/plain": [
       "625"
      ]
     },
     "execution_count": 90,
     "metadata": {},
     "output_type": "execute_result"
    }
   ],
   "source": [
    "area_square (25)"
   ]
  },
  {
   "cell_type": "code",
   "execution_count": 91,
   "metadata": {},
   "outputs": [
    {
     "data": {
      "text/plain": [
       "'The function area_square cannot take these arguments'"
      ]
     },
     "execution_count": 91,
     "metadata": {},
     "output_type": "execute_result"
    }
   ],
   "source": [
    "area_square (\"25\")"
   ]
  },
  {
   "cell_type": "code",
   "execution_count": 92,
   "metadata": {},
   "outputs": [
    {
     "data": {
      "text/plain": [
       "'The function area_square cannot take these arguments'"
      ]
     },
     "execution_count": 92,
     "metadata": {},
     "output_type": "execute_result"
    }
   ],
   "source": [
    "area_square (\"25\")"
   ]
  },
  {
   "cell_type": "markdown",
   "metadata": {
    "lang": "en"
   },
   "source": [
    "### Verbosity/error handling"
   ]
  },
  {
   "cell_type": "code",
   "execution_count": 1,
   "metadata": {},
   "outputs": [],
   "source": [
    "import os"
   ]
  },
  {
   "cell_type": "code",
   "execution_count": 4,
   "metadata": {},
   "outputs": [
    {
     "data": {
      "text/plain": [
       "0"
      ]
     },
     "execution_count": 4,
     "metadata": {},
     "output_type": "execute_result"
    }
   ],
   "source": [
    "os.system(\"say ola\")"
   ]
  },
  {
   "cell_type": "code",
   "execution_count": 35,
   "metadata": {},
   "outputs": [],
   "source": [
    "def decorator_voice (my_function):\n",
    "    def do_things (*args, **kwargs):\n",
    "        try:\n",
    "            os.system(\"say -v Samantha 'done'\")\n",
    "            return my_function(*args, **kwargs)\n",
    "        except:\n",
    "            return f\"The function {my_function.__name__} cannot take these arguments\"\n",
    "            \n",
    "    return do_things"
   ]
  },
  {
   "cell_type": "code",
   "execution_count": 36,
   "metadata": {},
   "outputs": [],
   "source": [
    "@decorator_voice\n",
    "@decorator_error_handler\n",
    "\n",
    "def area_square (length):\n",
    "    return length * length"
   ]
  },
  {
   "cell_type": "code",
   "execution_count": 38,
   "metadata": {},
   "outputs": [
    {
     "name": "stderr",
     "output_type": "stream",
     "text": [
      "sh: -c: line 0: unexpected EOF while looking for matching `''\n",
      "sh: -c: line 1: syntax error: unexpected end of file\n"
     ]
    },
    {
     "data": {
      "text/plain": [
       "'The function area_square cannot take these arguments'"
      ]
     },
     "execution_count": 38,
     "metadata": {},
     "output_type": "execute_result"
    }
   ],
   "source": [
    "area_square (\"25\")"
   ]
  },
  {
   "cell_type": "markdown",
   "metadata": {},
   "source": [
    "### Time"
   ]
  },
  {
   "cell_type": "code",
   "execution_count": 83,
   "metadata": {},
   "outputs": [],
   "source": [
    "from datetime import datetime"
   ]
  },
  {
   "cell_type": "code",
   "execution_count": 84,
   "metadata": {},
   "outputs": [],
   "source": [
    "def time_log (my_function):\n",
    "    def do_things (*args, **kwargs):\n",
    "        feedback = f'The function {my_function.__name__} run on {datetime.today().strftime(\"%y-%m-%d %H:%M:%S\")}'\n",
    "        os.system(f\"echo {feedback} >> logger.txt\")\n",
    "        return my_function(*args, **kwargs)\n",
    "            \n",
    "    return do_things"
   ]
  },
  {
   "cell_type": "code",
   "execution_count": 85,
   "metadata": {},
   "outputs": [],
   "source": [
    "@time_log\n",
    "def area_square (length):\n",
    "    return length * length"
   ]
  },
  {
   "cell_type": "code",
   "execution_count": 86,
   "metadata": {},
   "outputs": [
    {
     "data": {
      "text/plain": [
       "625"
      ]
     },
     "execution_count": 86,
     "metadata": {},
     "output_type": "execute_result"
    }
   ],
   "source": [
    "area_square (25)"
   ]
  },
  {
   "cell_type": "code",
   "execution_count": 87,
   "metadata": {},
   "outputs": [],
   "source": [
    "link = \"https://raw.githubusercontent.com/Ironhack-data-bcn-january-2023/lectures/main/datasets/Advertising.csv\""
   ]
  },
  {
   "cell_type": "code",
   "execution_count": 88,
   "metadata": {},
   "outputs": [],
   "source": [
    "@time_log\n",
    "def request_github(link):\n",
    "    os.system(f\"curl {link} >> hello.csv\")"
   ]
  },
  {
   "cell_type": "code",
   "execution_count": 89,
   "metadata": {},
   "outputs": [
    {
     "name": "stderr",
     "output_type": "stream",
     "text": [
      "  % Total    % Received % Xferd  Average Speed   Time    Time     Time  Current\n",
      "                                 Dload  Upload   Total   Spent    Left  Speed\n",
      "\r",
      "  0     0    0     0    0     0      0      0 --:--:-- --:--:-- --:--:--     0\r",
      "100  4012  100  4012    0     0  70249      0 --:--:-- --:--:-- --:--:-- 70385\n"
     ]
    }
   ],
   "source": [
    "request_github(link)"
   ]
  },
  {
   "cell_type": "code",
   "execution_count": 94,
   "metadata": {},
   "outputs": [
    {
     "name": "stdout",
     "output_type": "stream",
     "text": [
      "CPU times: user 794 µs, sys: 1.72 ms, total: 2.51 ms\n",
      "Wall time: 10.9 ms\n"
     ]
    },
    {
     "data": {
      "text/plain": [
       "9"
      ]
     },
     "execution_count": 94,
     "metadata": {},
     "output_type": "execute_result"
    }
   ],
   "source": [
    "%%time\n",
    "area_square(3)"
   ]
  },
  {
   "cell_type": "code",
   "execution_count": 90,
   "metadata": {},
   "outputs": [],
   "source": [
    "!open logger.txt "
   ]
  },
  {
   "cell_type": "markdown",
   "metadata": {
    "lang": "en"
   },
   "source": [
    "## Let's create an API"
   ]
  },
  {
   "cell_type": "markdown",
   "metadata": {
    "lang": "en"
   },
   "source": [
    "API stands for Application Programming Interface.\n",
    "APIs allow your products and services to communicate with others, without the need to know how they are implemented.\n",
    "We are going to use an API as an intermediary element between a database and a user who wants to consult it without knowing programming."
   ]
  },
  {
   "cell_type": "code",
   "execution_count": null,
   "metadata": {},
   "outputs": [],
   "source": [
    "#!pip install flask"
   ]
  },
  {
   "cell_type": "code",
   "execution_count": 1,
   "metadata": {},
   "outputs": [],
   "source": [
    "import requests"
   ]
  },
  {
   "cell_type": "code",
   "execution_count": 58,
   "metadata": {},
   "outputs": [
    {
     "data": {
      "text/plain": [
       "<Response [200]>"
      ]
     },
     "execution_count": 58,
     "metadata": {},
     "output_type": "execute_result"
    }
   ],
   "source": [
    "requests.get(\"http://127.0.0.1:5000/\")"
   ]
  },
  {
   "cell_type": "code",
   "execution_count": 59,
   "metadata": {},
   "outputs": [],
   "source": [
    "params = {\n",
    "    \"id_\":\"9304020\",\n",
    "    \"date\":\"1965-01-16\",\n",
    "    \"name\": \"Fer\",\n",
    "    \"fname\": \"Costa\",\n",
    "    \"gender\": \"M\",\n",
    "    \"date_2\": \"1995-09-23\"\n",
    "}"
   ]
  },
  {
   "cell_type": "code",
   "execution_count": 60,
   "metadata": {
    "scrolled": true
   },
   "outputs": [
    {
     "data": {
      "text/plain": [
       "<Response [200]>"
      ]
     },
     "execution_count": 60,
     "metadata": {},
     "output_type": "execute_result"
    }
   ],
   "source": [
    "requests.get(\"http://127.0.0.1:5000/insert-into-employees\", params = params)"
   ]
  },
  {
   "cell_type": "markdown",
   "metadata": {
    "lang": "en"
   },
   "source": [
    "### Let's go 🔥"
   ]
  },
  {
   "cell_type": "code",
   "execution_count": null,
   "metadata": {},
   "outputs": [
    {
     "name": "stdout",
     "output_type": "stream",
     "text": [
      " * Serving Flask app '__main__' (lazy loading)\n",
      " * Environment: production\n",
      "\u001b[31m   WARNING: This is a development server. Do not use it in a production deployment.\u001b[0m\n",
      "\u001b[2m   Use a production WSGI server instead.\u001b[0m\n",
      " * Debug mode: off\n"
     ]
    },
    {
     "name": "stderr",
     "output_type": "stream",
     "text": [
      " * Running on http://127.0.0.1:5000 (Press CTRL+C to quit)\n",
      "127.0.0.1 - - [20/Feb/2023 11:41:01] \"GET /campus/madrid HTTP/1.1\" 200 -\n",
      "127.0.0.1 - - [20/Feb/2023 11:41:03] \"GET /campus/madrid HTTP/1.1\" 200 -\n",
      "127.0.0.1 - - [20/Feb/2023 11:41:06] \"GET /campus/madrid HTTP/1.1\" 200 -\n",
      "127.0.0.1 - - [20/Feb/2023 11:41:07] \"GET /campus/madrid HTTP/1.1\" 200 -\n",
      "127.0.0.1 - - [20/Feb/2023 11:41:12] \"GET /campus/madrid HTTP/1.1\" 200 -\n",
      "[2023-02-20 11:41:15,120] ERROR in app: Exception on /campus/bcn [GET]\n",
      "Traceback (most recent call last):\n",
      "  File \"/Users/fernandocosta/opt/anaconda3/envs/ironhack/lib/python3.8/site-packages/flask/app.py\", line 2077, in wsgi_app\n",
      "    response = self.full_dispatch_request()\n",
      "  File \"/Users/fernandocosta/opt/anaconda3/envs/ironhack/lib/python3.8/site-packages/flask/app.py\", line 1526, in full_dispatch_request\n",
      "    return self.finalize_request(rv)\n",
      "  File \"/Users/fernandocosta/opt/anaconda3/envs/ironhack/lib/python3.8/site-packages/flask/app.py\", line 1545, in finalize_request\n",
      "    response = self.make_response(rv)\n",
      "  File \"/Users/fernandocosta/opt/anaconda3/envs/ironhack/lib/python3.8/site-packages/flask/app.py\", line 1701, in make_response\n",
      "    raise TypeError(\n",
      "TypeError: The view function for 'campus_location' did not return a valid response. The function either returned None or ended without a return statement.\n",
      "127.0.0.1 - - [20/Feb/2023 11:41:15] \"GET /campus/bcn HTTP/1.1\" 500 -\n",
      "127.0.0.1 - - [20/Feb/2023 11:41:17] \"GET /campus/barcelona HTTP/1.1\" 200 -\n"
     ]
    }
   ],
   "source": [
    "from flask import Flask\n",
    "import random\n",
    "\n",
    "app = Flask (__name__)\n",
    "\n",
    "@app.route(\"/hello-world\")\n",
    "def hello ():\n",
    "    return f\"Hello world!\"\n",
    "\n",
    "@app.route(\"/random/<therange>\")\n",
    "def random_number (therange):\n",
    "    therange = int(therange)\n",
    "    return str(random.randint(0, therange))\n",
    "\n",
    "@app.route(\"/campus/<location>\")\n",
    "def campus_location (location):\n",
    "    if location == \"barcelona\":\n",
    "        return \"Carrer de Pamplona, 96\"\n",
    "    elif location == \"madrid\":\n",
    "        return \"Paseo de la chopera, 14\"\n",
    "\n",
    "app.run()"
   ]
  },
  {
   "cell_type": "markdown",
   "metadata": {},
   "source": [
    "Curious about `__name__ == \"name\"`? [Here's](https://medium.com/python-features/understanding-if-name-main-in-python-a37a3d4ab0c3) some reading.\n",
    "\n",
    "But as the article says: \"We use if __name__ == “__main__” block to prevent (certain) code from being run when the module is imported\" "
   ]
  },
  {
   "cell_type": "markdown",
   "metadata": {},
   "source": [
    "## Summary"
   ]
  },
  {
   "cell_type": "markdown",
   "metadata": {
    "lang": "en"
   },
   "source": [
    "It's your turn. What have we seen today?"
   ]
  },
  {
   "cell_type": "code",
   "execution_count": null,
   "metadata": {},
   "outputs": [],
   "source": []
  }
 ],
 "metadata": {
  "kernelspec": {
   "display_name": "ironhack",
   "language": "python",
   "name": "ironhack"
  },
  "language_info": {
   "codemirror_mode": {
    "name": "ipython",
    "version": 3
   },
   "file_extension": ".py",
   "mimetype": "text/x-python",
   "name": "python",
   "nbconvert_exporter": "python",
   "pygments_lexer": "ipython3",
   "version": "3.8.13"
  },
  "nbTranslate": {
   "displayLangs": [
    "en",
    "es"
   ],
   "hotkey": "alt-a",
   "langInMainMenu": true,
   "sourceLang": "es",
   "targetLang": "en",
   "useGoogleTranslate": true
  },
  "toc": {
   "base_numbering": 1,
   "nav_menu": {},
   "number_sections": true,
   "sideBar": true,
   "skip_h1_title": true,
   "title_cell": "Table of Contents",
   "title_sidebar": "Contents",
   "toc_cell": true,
   "toc_position": {
    "height": "calc(100% - 180px)",
    "left": "10px",
    "top": "150px",
    "width": "207.003px"
   },
   "toc_section_display": true,
   "toc_window_display": false
  }
 },
 "nbformat": 4,
 "nbformat_minor": 4
}
