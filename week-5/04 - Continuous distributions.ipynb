{
 "cells": [
  {
   "cell_type": "markdown",
   "metadata": {
    "lang": "en"
   },
   "source": [
    "# Continuous probability distributions"
   ]
  },
  {
   "cell_type": "markdown",
   "metadata": {},
   "source": [
    "![ungif](https://media.giphy.com/media/RhHHTsjhLvfWw/giphy.gif)"
   ]
  },
  {
   "cell_type": "markdown",
   "metadata": {
    "toc": true
   },
   "source": [
    "<h1>Table of Contents<span class=\"tocSkip\"></span></h1>\n",
    "<div class=\"toc\"><ul class=\"toc-item\"><li><span><a href=\"#Continuous-probability-distributions\" data-toc-modified-id=\"Continuous-probability-distributions-1\"><span class=\"toc-item-num\">1&nbsp;&nbsp;</span>Continuous probability distributions</a></span><ul class=\"toc-item\"><li><span><a href=\"#Distributions\" data-toc-modified-id=\"Distributions-1.1\"><span class=\"toc-item-num\">1.1&nbsp;&nbsp;</span>Distributions</a></span></li><li><span><a href=\"#Functions\" data-toc-modified-id=\"Functions-1.2\"><span class=\"toc-item-num\">1.2&nbsp;&nbsp;</span>Functions</a></span></li></ul></li><li><span><a href=\"#Uniform-distribution\" data-toc-modified-id=\"Uniform-distribution-2\"><span class=\"toc-item-num\">2&nbsp;&nbsp;</span>Uniform distribution</a></span><ul class=\"toc-item\"><li><span><a href=\"#Uniform-distribution-on-the-interval-[0,-1]\" data-toc-modified-id=\"Uniform-distribution-on-the-interval-[0,-1]-2.1\"><span class=\"toc-item-num\">2.1&nbsp;&nbsp;</span>Uniform distribution on the interval [0, 1]</a></span></li><li><span><a href=\"#Cumulative-distribution-function---Uniform-distribution\" data-toc-modified-id=\"Cumulative-distribution-function---Uniform-distribution-2.2\"><span class=\"toc-item-num\">2.2&nbsp;&nbsp;</span>Cumulative distribution function - Uniform distribution</a></span></li><li><span><a href=\"#Uniform-distribution-on-the-interval-[a,-b]\" data-toc-modified-id=\"Uniform-distribution-on-the-interval-[a,-b]-2.3\"><span class=\"toc-item-num\">2.3&nbsp;&nbsp;</span>Uniform distribution on the interval [a, b]</a></span></li><li><span><a href=\"#Plot-the-CDF---Uniform-distribution\" data-toc-modified-id=\"Plot-the-CDF---Uniform-distribution-2.4\"><span class=\"toc-item-num\">2.4&nbsp;&nbsp;</span>Plot the CDF - Uniform distribution</a></span></li></ul></li><li><span><a href=\"#Exponential-distribution\" data-toc-modified-id=\"Exponential-distribution-3\"><span class=\"toc-item-num\">3&nbsp;&nbsp;</span>Exponential distribution</a></span><ul class=\"toc-item\"><li><span><a href=\"#Not-to-be-confused-with-Poisson...-Be-careful!\" data-toc-modified-id=\"Not-to-be-confused-with-Poisson...-Be-careful!-3.1\"><span class=\"toc-item-num\">3.1&nbsp;&nbsp;</span>Not to be confused with Poisson... Be careful!</a></span></li><li><span><a href=\"#Probability-Distribution-Function-(PDF)---Exponential-distribution\" data-toc-modified-id=\"Probability-Distribution-Function-(PDF)---Exponential-distribution-3.2\"><span class=\"toc-item-num\">3.2&nbsp;&nbsp;</span>Probability Distribution Function (PDF) - Exponential distribution</a></span></li></ul></li><li><span><a href=\"#Normal-distribution\" data-toc-modified-id=\"Normal-distribution-4\"><span class=\"toc-item-num\">4&nbsp;&nbsp;</span>Normal distribution</a></span><ul class=\"toc-item\"><li><ul class=\"toc-item\"><li><span><a href=\"#Intro\" data-toc-modified-id=\"Intro-4.0.1\"><span class=\"toc-item-num\">4.0.1&nbsp;&nbsp;</span>Intro</a></span></li><li><span><a href=\"#scipy's-norm\" data-toc-modified-id=\"scipy's-norm-4.0.2\"><span class=\"toc-item-num\">4.0.2&nbsp;&nbsp;</span>scipy's <code>norm</code></a></span></li><li><span><a href=\"#We-sample-with-normal\" data-toc-modified-id=\"We-sample-with-normal-4.0.3\"><span class=\"toc-item-num\">4.0.3&nbsp;&nbsp;</span>We sample with normal</a></span></li><li><span><a href=\"#Probability-density-function\" data-toc-modified-id=\"Probability-density-function-4.0.4\"><span class=\"toc-item-num\">4.0.4&nbsp;&nbsp;</span>Probability density function</a></span></li><li><span><a href=\"#Percent-point-function-(PPF)\" data-toc-modified-id=\"Percent-point-function-(PPF)-4.0.5\"><span class=\"toc-item-num\">4.0.5&nbsp;&nbsp;</span>Percent point function (PPF)</a></span></li></ul></li><li><span><a href=\"#Other-continuous-probability-distributions\" data-toc-modified-id=\"Other-continuous-probability-distributions-4.1\"><span class=\"toc-item-num\">4.1&nbsp;&nbsp;</span>Other continuous probability distributions</a></span></li></ul></li><li><span><a href=\"#Summary\" data-toc-modified-id=\"Summary-5\"><span class=\"toc-item-num\">5&nbsp;&nbsp;</span>Summary</a></span></li></ul></div>"
   ]
  },
  {
   "cell_type": "code",
   "execution_count": 45,
   "metadata": {},
   "outputs": [],
   "source": [
    "# Viz mantra\n",
    "from matplotlib import pyplot as plt\n",
    "%matplotlib inline\n",
    "%config Inlinebackend.figure_format = 'retina'\n",
    "\n",
    "import seaborn as sns\n",
    "sns.set_context('poster')\n",
    "sns.set(rc={'figure.figsize': (16., 9.)})\n",
    "sns.set_style('whitegrid')\n",
    "\n",
    "import pylab as p\n",
    "import numpy as np\n",
    "import pandas as pd"
   ]
  },
  {
   "cell_type": "markdown",
   "metadata": {
    "lang": "en"
   },
   "source": [
    "## Continuous probability distributions"
   ]
  },
  {
   "cell_type": "markdown",
   "metadata": {
    "lang": "en"
   },
   "source": [
    "**Continuous probability distributions** are those that can take any value in a given range. In particular, they can take infinitely many different values.\n",
    "\n",
    "X is a continuous random variable.\n",
    "\n",
    "X follows a continuous probability distribution."
   ]
  },
  {
   "cell_type": "markdown",
   "metadata": {},
   "source": [
    "### Distributions\n",
    "\n",
    "- Uniform, `uniform`\n",
    "- Exponential, `expon`\n",
    "- Normal, `norm`\n",
    "\n",
    "### Functions\n",
    "\n",
    "- `pdf`\n",
    "- `cdf`\n",
    "- `ppf` \n"
   ]
  },
  {
   "cell_type": "markdown",
   "metadata": {
    "lang": "en"
   },
   "source": [
    "## Uniform distribution"
   ]
  },
  {
   "cell_type": "markdown",
   "metadata": {
    "lang": "en"
   },
   "source": [
    "### Uniform distribution on the interval [0, 1]\n",
    "All numbers in the integer [0, 1] are equally likely\n",
    "In a continuous probability distribution, it only makes sense to talk about the probability of an interval, not a particular number."
   ]
  },
  {
   "cell_type": "markdown",
   "metadata": {},
   "source": [
    "<img src=\"https://upload.wikimedia.org/wikipedia/commons/thumb/2/28/Unit-interval.svg/1200px-Unit-interval.svg.png\" width=500>"
   ]
  },
  {
   "cell_type": "markdown",
   "metadata": {},
   "source": [
    "$P(x \\leq 0.4)=0.4$"
   ]
  },
  {
   "cell_type": "markdown",
   "metadata": {},
   "source": [
    "$P(x \\geq 0.7)=0.3$"
   ]
  },
  {
   "cell_type": "markdown",
   "metadata": {},
   "source": [
    "$P(x \\leq 1)= 1$"
   ]
  },
  {
   "cell_type": "markdown",
   "metadata": {},
   "source": [
    "$P(x \\geq 0)=1$"
   ]
  },
  {
   "cell_type": "markdown",
   "metadata": {},
   "source": [
    "$P(0.1 \\leq x \\leq 0.4)=0.4 - 0.1=0.3$"
   ]
  },
  {
   "cell_type": "markdown",
   "metadata": {
    "lang": "en"
   },
   "source": [
    "For every number $c, d \\in [0, 1]$ we have"
   ]
  },
  {
   "cell_type": "markdown",
   "metadata": {
    "colab_type": "text",
    "id": "5dn6JLn8GhnC"
   },
   "source": [
    "$$P(c < x <= d) = d-c$$"
   ]
  },
  {
   "cell_type": "markdown",
   "metadata": {
    "lang": "en"
   },
   "source": [
    "Let's use distribution instantiation in Python to generate samples from a $U(0, 1)$ distribution."
   ]
  },
  {
   "cell_type": "code",
   "execution_count": 46,
   "metadata": {},
   "outputs": [],
   "source": [
    "from scipy.stats import uniform"
   ]
  },
  {
   "cell_type": "code",
   "execution_count": 48,
   "metadata": {},
   "outputs": [],
   "source": [
    "my_uniform = uniform(0, 1)"
   ]
  },
  {
   "cell_type": "code",
   "execution_count": 49,
   "metadata": {},
   "outputs": [],
   "source": [
    "import seaborn as sns"
   ]
  },
  {
   "cell_type": "code",
   "execution_count": 50,
   "metadata": {},
   "outputs": [
    {
     "data": {
      "text/plain": [
       "array([0.54245175])"
      ]
     },
     "execution_count": 50,
     "metadata": {},
     "output_type": "execute_result"
    }
   ],
   "source": [
    "my_uniform.rvs(1)"
   ]
  },
  {
   "cell_type": "code",
   "execution_count": 51,
   "metadata": {},
   "outputs": [],
   "source": [
    "sample = my_uniform.rvs(10000)\n",
    "#sample"
   ]
  },
  {
   "cell_type": "code",
   "execution_count": 52,
   "metadata": {},
   "outputs": [
    {
     "data": {
      "image/png": "[encoded data removed]",
      "text/plain": [
       "<Figure size 1152x648 with 1 Axes>"
      ]
     },
     "metadata": {},
     "output_type": "display_data"
    }
   ],
   "source": [
    "sns.histplot(x = sample);"
   ]
  },
  {
   "cell_type": "code",
   "execution_count": 53,
   "metadata": {},
   "outputs": [
    {
     "data": {
      "text/plain": [
       "0.5014232610923685"
      ]
     },
     "execution_count": 53,
     "metadata": {},
     "output_type": "execute_result"
    }
   ],
   "source": [
    "my_uniform.rvs(100000).mean()"
   ]
  },
  {
   "cell_type": "code",
   "execution_count": 54,
   "metadata": {},
   "outputs": [
    {
     "data": {
      "text/plain": [
       "0.5"
      ]
     },
     "execution_count": 54,
     "metadata": {},
     "output_type": "execute_result"
    }
   ],
   "source": [
    "my_uniform.mean()"
   ]
  },
  {
   "cell_type": "markdown",
   "metadata": {
    "lang": "en"
   },
   "source": [
    "### Cumulative distribution function - Uniform distribution"
   ]
  },
  {
   "cell_type": "markdown",
   "metadata": {
    "lang": "en"
   },
   "source": [
    "The PMF is a way to describe the distribution of a discrete random variable... but the PMF cannot be defined for continuous random variables. The cumulative distribution function (CDF) of a random variable is another method of describing the distribution of random variables. The advantage of the CDF is that it can be defined for any type of random variable (as we have already seen in the case of discrete variables)."
   ]
  },
  {
   "cell_type": "markdown",
   "metadata": {
    "lang": "en"
   },
   "source": [
    "`.cdf(x)` tells us the probability of $X<x$"
   ]
  },
  {
   "cell_type": "markdown",
   "metadata": {
    "lang": "en"
   },
   "source": [
    "So, **what is the probability that a number less than or equal than 1 will come up?**"
   ]
  },
  {
   "cell_type": "code",
   "execution_count": 55,
   "metadata": {},
   "outputs": [
    {
     "data": {
      "text/plain": [
       "<scipy.stats._distn_infrastructure.rv_frozen at 0x7fb61f217b80>"
      ]
     },
     "execution_count": 55,
     "metadata": {},
     "output_type": "execute_result"
    }
   ],
   "source": [
    "my_uniform"
   ]
  },
  {
   "cell_type": "code",
   "execution_count": 56,
   "metadata": {},
   "outputs": [
    {
     "data": {
      "text/plain": [
       "array([0.18176745, 0.02910827, 0.69794167, 0.10229866, 0.19481603])"
      ]
     },
     "execution_count": 56,
     "metadata": {},
     "output_type": "execute_result"
    }
   ],
   "source": [
    "my_uniform.rvs(100000)[:5]"
   ]
  },
  {
   "cell_type": "code",
   "execution_count": 57,
   "metadata": {},
   "outputs": [
    {
     "data": {
      "text/plain": [
       "1.0"
      ]
     },
     "execution_count": 57,
     "metadata": {},
     "output_type": "execute_result"
    }
   ],
   "source": [
    "my_uniform.cdf(1)"
   ]
  },
  {
   "cell_type": "markdown",
   "metadata": {
    "lang": "en"
   },
   "source": [
    "What if a number less than 0 comes out?"
   ]
  },
  {
   "cell_type": "code",
   "execution_count": 58,
   "metadata": {
    "scrolled": true
   },
   "outputs": [
    {
     "data": {
      "text/plain": [
       "0.4"
      ]
     },
     "execution_count": 58,
     "metadata": {},
     "output_type": "execute_result"
    }
   ],
   "source": [
    "my_uniform.cdf(0.4)"
   ]
  },
  {
   "cell_type": "markdown",
   "metadata": {
    "lang": "en"
   },
   "source": [
    "It happens that... What is the probability that I get a number between 0.2 and 0.7? Well, then the probability is that I get a number less than 0.7 and subtract the probability that I get a number less than 0.2....\n",
    "$P(0.2 < X < 0.7) = P(X < 0.7) - P(X < 0.2)$"
   ]
  },
  {
   "cell_type": "markdown",
   "metadata": {
    "lang": "en"
   },
   "source": [
    "Then\n",
    "$P(X < 0.2) + P(0.2 < X < 0.7) = P(X < 0.7)$"
   ]
  },
  {
   "cell_type": "markdown",
   "metadata": {
    "lang": "en"
   },
   "source": [
    "### Uniform distribution on the interval [a, b]"
   ]
  },
  {
   "cell_type": "markdown",
   "metadata": {
    "lang": "en"
   },
   "source": [
    "All numbers in the interval [a, b] are equiprobable"
   ]
  },
  {
   "cell_type": "markdown",
   "metadata": {},
   "source": [
    "$X \\sim U(a, b)$"
   ]
  },
  {
   "cell_type": "markdown",
   "metadata": {},
   "source": [
    "$P(x \\leq b)=1$"
   ]
  },
  {
   "cell_type": "markdown",
   "metadata": {},
   "source": [
    "$P(x \\geq a)=1$"
   ]
  },
  {
   "cell_type": "markdown",
   "metadata": {
    "lang": "en"
   },
   "source": [
    "$\\frac{a+b}{2}$ is the mean between $a$ and $b$"
   ]
  },
  {
   "cell_type": "markdown",
   "metadata": {},
   "source": [
    "$P(x \\leq \\frac{a+b}{2})=0.5$"
   ]
  },
  {
   "cell_type": "markdown",
   "metadata": {
    "lang": "en"
   },
   "source": [
    "Let's use distribution instantiation in Python to generate samples from a $U(a, b)$ distribution."
   ]
  },
  {
   "cell_type": "code",
   "execution_count": 36,
   "metadata": {},
   "outputs": [],
   "source": [
    "from scipy.stats import uniform"
   ]
  },
  {
   "cell_type": "code",
   "execution_count": 69,
   "metadata": {},
   "outputs": [
    {
     "data": {
      "image/png": "[encoded data removed]",
      "text/plain": [
       "<Figure size 1152x648 with 1 Axes>"
      ]
     },
     "metadata": {},
     "output_type": "display_data"
    }
   ],
   "source": [
    "x = np.linspace(-0.5, 1.5, 100)\n",
    "y = my_uniform.cdf(x)\n",
    "plt.plot(x, y);"
   ]
  },
  {
   "cell_type": "markdown",
   "metadata": {},
   "source": [
    "`uniform` receives `a` y `h`"
   ]
  },
  {
   "cell_type": "code",
   "execution_count": null,
   "metadata": {},
   "outputs": [],
   "source": [
    "#interval_uniform = uniform(0, 1)"
   ]
  },
  {
   "cell_type": "code",
   "execution_count": 37,
   "metadata": {},
   "outputs": [],
   "source": [
    "interval_uniform = uniform(4, 10) #  values 4-14"
   ]
  },
  {
   "cell_type": "markdown",
   "metadata": {},
   "source": [
    "`.rvs` generates a sample drawn from the distribution"
   ]
  },
  {
   "cell_type": "code",
   "execution_count": 39,
   "metadata": {
    "lang": "en"
   },
   "outputs": [
    {
     "data": {
      "text/plain": [
       "array([ 5.2387868 , 12.51836882,  9.54850075,  4.15964847,  5.27084905,\n",
       "        4.09645508,  8.7551637 ,  7.07104816,  9.65463593,  4.42357417,\n",
       "       11.01542514, 11.95425563,  4.9530001 , 10.07561542, 11.70451499,\n",
       "       13.49957413,  6.35320077, 13.02731764, 12.33665789,  8.34440378,\n",
       "       12.83419807, 13.26585036, 10.69754246,  4.77631703, 11.22843516,\n",
       "       11.77444636,  8.33562964,  5.795619  ,  6.93731676,  4.43266688,\n",
       "        7.9207843 , 11.15530822, 12.84315845,  9.00775144,  7.34583215,\n",
       "        9.41202867,  8.14301609, 10.118371  , 11.58742694, 10.62299129,\n",
       "       13.00595688,  8.28121896, 11.79090787, 13.49063438,  9.97954553,\n",
       "        8.4740296 ,  5.3764097 , 13.47147966,  8.54745369, 11.27426653,\n",
       "        6.2886696 ,  4.79847658, 11.7764389 , 12.97153086, 10.69017322,\n",
       "       10.76767547, 12.4694406 ,  4.72863445,  8.88527736, 10.05593236,\n",
       "       13.29263721, 13.27377654,  8.72282901, 10.88186997,  9.43406389,\n",
       "       11.41429931, 11.68859814, 11.13564404, 10.64229524,  9.89729628,\n",
       "        4.53063264,  8.71527767, 12.9145603 ,  4.57944749,  5.99746349,\n",
       "        4.33403037,  5.79124936, 11.94947137,  9.81686236, 11.17543795,\n",
       "       10.61773254,  6.37749731,  8.03231802,  6.28054883,  4.44380506,\n",
       "        9.55704091,  8.09152948,  7.95365787, 12.22559694, 11.68945509,\n",
       "       12.81452421, 11.72603255,  8.37371562,  7.9223628 , 10.18834954,\n",
       "       10.0957624 ,  4.67973232, 10.96921648,  4.21932835, 13.98772078])"
      ]
     },
     "execution_count": 39,
     "metadata": {},
     "output_type": "execute_result"
    }
   ],
   "source": [
    "interval_uniform.rvs(100)"
   ]
  },
  {
   "cell_type": "markdown",
   "metadata": {
    "lang": "en"
   },
   "source": [
    "What will the mean be?"
   ]
  },
  {
   "cell_type": "code",
   "execution_count": null,
   "metadata": {},
   "outputs": [],
   "source": []
  },
  {
   "cell_type": "markdown",
   "metadata": {
    "lang": "en"
   },
   "source": [
    "`.cdf` Come on, cdf is easy!\n",
    "`.cdf(x)` Remember, it gives us the probability that a number is $X<x$"
   ]
  },
  {
   "cell_type": "code",
   "execution_count": null,
   "metadata": {
    "lang": "en"
   },
   "outputs": [],
   "source": []
  },
  {
   "cell_type": "markdown",
   "metadata": {
    "lang": "en"
   },
   "source": [
    "### Plot the CDF - Uniform distribution\n",
    "X --> I choose a series of points\n",
    "\n",
    "Y --> I get the cdf of those points taking into account my uniform distribution that we remember that we have initialized between 4 and 10"
   ]
  },
  {
   "cell_type": "code",
   "execution_count": null,
   "metadata": {},
   "outputs": [],
   "source": [
    "from scipy.stats import uniform\n",
    "my_uniform = uniform (5, 10)"
   ]
  },
  {
   "cell_type": "markdown",
   "metadata": {
    "lang": "en"
   },
   "source": [
    "- One thing that we observe in this simple function but that is common to all of them is that the distribution is always increasing.\n",
    "- Takes the value 1 on the right (tends to 1)\n",
    "- The CDF takes the value 0 on the left (and accumulates probability up to 1)"
   ]
  },
  {
   "cell_type": "markdown",
   "metadata": {
    "lang": "en"
   },
   "source": [
    "## Exponential distribution"
   ]
  },
  {
   "cell_type": "markdown",
   "metadata": {
    "lang": "en"
   },
   "source": [
    "Model the time it takes for a random event to occur:\n",
    " * Time for the next person to appear in a queue\n",
    " * Time for the next call to occur in the call center\n",
    " * Time until the next earthquake occurs\n",
    " * Next customer walking in the store\n",
    " * Time for the next radioactive particle to decay\n",
    " * Time for the next DNA element to mutate"
   ]
  },
  {
   "cell_type": "markdown",
   "metadata": {
    "lang": "en"
   },
   "source": [
    "\"The average time of appearance of a new patient is 5 minutes\"\n",
    "\n",
    "\"The time of appearance of a new patient follows an exponential distribution with mean 5\""
   ]
  },
  {
   "cell_type": "markdown",
   "metadata": {
    "lang": "en"
   },
   "source": [
    "### Not to be confused with Poisson... Be careful!\n",
    "The Poisson gave us the number of occurrences in a period of time. I fix the time and the events happen once, or twice, or 7.....\n",
    "The exponential isn't like that though...it's more like I close my eyes, then open them and count the time until the next occurrence happens.\n",
    "The Poisson is a distribution of DISCRETE variables and the exponential is CONTINUOUS."
   ]
  },
  {
   "cell_type": "markdown",
   "metadata": {
    "lang": "en"
   },
   "source": [
    "The exponential is the reciprocal distribution of the Poisson distribution"
   ]
  },
  {
   "cell_type": "markdown",
   "metadata": {
    "lang": "en"
   },
   "source": [
    "⚠️ Curiosity: he exponential distribution has the characteristic of being without memory... I'll let you investigate it on google...."
   ]
  },
  {
   "cell_type": "code",
   "execution_count": 70,
   "metadata": {},
   "outputs": [],
   "source": [
    "from scipy.stats import expon"
   ]
  },
  {
   "cell_type": "markdown",
   "metadata": {
    "lang": "en"
   },
   "source": [
    "The exponential, like the Poisson, is a 1-parameter distribution function.\n",
    "Monoparametric: the time it takes for people to arrive"
   ]
  },
  {
   "cell_type": "markdown",
   "metadata": {},
   "source": [
    "$X \\sim Exp(\\mu)$"
   ]
  },
  {
   "cell_type": "markdown",
   "metadata": {
    "lang": "en"
   },
   "source": [
    "This parameter is the mean, called `mu`, $\\mu$\n",
    "The `scipy` library calls it `scale`"
   ]
  },
  {
   "cell_type": "markdown",
   "metadata": {
    "lang": "en"
   },
   "source": [
    "**EXAMPLE**\n",
    "Let's model the customers who arrive every 30 seconds on average at the supermarket queue"
   ]
  },
  {
   "cell_type": "code",
   "execution_count": null,
   "metadata": {},
   "outputs": [],
   "source": [
    "#POISSON: LAM: AVG OF 6 PEOPLE # how many\n",
    "#EXPONENTIAL: MU: SOMEONE APPEARS EVERY 30s # how long until the next one"
   ]
  },
  {
   "cell_type": "code",
   "execution_count": 71,
   "metadata": {},
   "outputs": [],
   "source": [
    "mu = 30\n",
    "\n",
    "supermarket = expon(mu)"
   ]
  },
  {
   "cell_type": "markdown",
   "metadata": {
    "lang": "en"
   },
   "source": [
    "Let's generate a random sample `.rvs` ... what will we get?"
   ]
  },
  {
   "cell_type": "code",
   "execution_count": 72,
   "metadata": {},
   "outputs": [
    {
     "data": {
      "text/plain": [
       "array([30.69014719])"
      ]
     },
     "execution_count": 72,
     "metadata": {},
     "output_type": "execute_result"
    }
   ],
   "source": [
    "supermarket.rvs(1) "
   ]
  },
  {
   "cell_type": "code",
   "execution_count": 73,
   "metadata": {},
   "outputs": [
    {
     "data": {
      "text/plain": [
       "array([30.58880818, 30.01061142, 30.98254783, 30.18489511, 31.21292227,\n",
       "       30.38439931, 31.4571964 , 30.07357418, 30.08575873, 30.95313032])"
      ]
     },
     "execution_count": 73,
     "metadata": {},
     "output_type": "execute_result"
    }
   ],
   "source": [
    "supermarket.rvs(10) "
   ]
  },
  {
   "cell_type": "code",
   "execution_count": 88,
   "metadata": {},
   "outputs": [],
   "source": [
    "one_thousand = supermarket.rvs(10000);"
   ]
  },
  {
   "cell_type": "code",
   "execution_count": 89,
   "metadata": {},
   "outputs": [
    {
     "data": {
      "text/plain": [
       "40.471778363296764"
      ]
     },
     "execution_count": 89,
     "metadata": {},
     "output_type": "execute_result"
    }
   ],
   "source": [
    "one_thousand.max()"
   ]
  },
  {
   "cell_type": "code",
   "execution_count": 90,
   "metadata": {},
   "outputs": [
    {
     "data": {
      "text/plain": [
       "30.00015273531164"
      ]
     },
     "execution_count": 90,
     "metadata": {},
     "output_type": "execute_result"
    }
   ],
   "source": [
    "one_thousand.min()"
   ]
  },
  {
   "cell_type": "code",
   "execution_count": 91,
   "metadata": {},
   "outputs": [
    {
     "data": {
      "image/png": "[encoded data removed]",
      "text/plain": [
       "<Figure size 1152x648 with 1 Axes>"
      ]
     },
     "metadata": {},
     "output_type": "display_data"
    }
   ],
   "source": [
    "fig = sns.histplot(one_thousand)\n",
    "fig.axvline(x=one_thousand.mean(), color = \"red\", label=\"Average\")\n",
    "plt.legend();"
   ]
  },
  {
   "cell_type": "code",
   "execution_count": 98,
   "metadata": {},
   "outputs": [
    {
     "data": {
      "image/png": "[encoded data removed]",
      "text/plain": [
       "<Figure size 1152x648 with 1 Axes>"
      ]
     },
     "metadata": {},
     "output_type": "display_data"
    }
   ],
   "source": [
    "x = np.linspace(25, 35, 100)\n",
    "y = supermarket.cdf(x)\n",
    "plt.plot(x, y);"
   ]
  },
  {
   "cell_type": "markdown",
   "metadata": {
    "lang": "en"
   },
   "source": [
    "What did the CDF do? returns the probability that the next one takes LESS than 30 seconds"
   ]
  },
  {
   "cell_type": "code",
   "execution_count": null,
   "metadata": {},
   "outputs": [],
   "source": []
  },
  {
   "cell_type": "markdown",
   "metadata": {},
   "source": [
    "### Probability Distribution Function (PDF) - Exponential distribution"
   ]
  },
  {
   "cell_type": "markdown",
   "metadata": {
    "lang": "en"
   },
   "source": [
    "PDF is the probability density function, the analog of the PMF in discrete ones."
   ]
  },
  {
   "cell_type": "code",
   "execution_count": null,
   "metadata": {},
   "outputs": [],
   "source": []
  },
  {
   "cell_type": "markdown",
   "metadata": {
    "lang": "en"
   },
   "source": [
    "The area under the curve is the probability of times in the given interval, so...\n",
    "\n",
    "The high zones are more probable and the low zones less probable, the pdf is not really giving me the probability of each point, what it does is the integral of the function to see how much area there is under the curve.\n",
    "\n",
    "Entire zone is 1 (100%)"
   ]
  },
  {
   "cell_type": "markdown",
   "metadata": {
    "lang": "en"
   },
   "source": [
    "`.cdf` is the cumulative distribution function\n",
    "\n",
    "`.cdf(x)` tells us the probability of $X<x$"
   ]
  },
  {
   "cell_type": "code",
   "execution_count": null,
   "metadata": {},
   "outputs": [],
   "source": []
  },
  {
   "cell_type": "markdown",
   "metadata": {
    "lang": "en"
   },
   "source": [
    "The CDF of an exponential distribution:\n",
    "- Start at 0\n",
    "- Ends in 1\n",
    "- It accumulates less and less\n",
    "- It is the integral of the pdf"
   ]
  },
  {
   "cell_type": "markdown",
   "metadata": {
    "lang": "en"
   },
   "source": [
    "We recover examples from the beginning:\n",
    "- When will I receive the next call in the call center?\n",
    "\n",
    "I can't know, I know that calls take an average of 11 seconds, and I can more or less calculate the probability that it happens in less or more seconds..."
   ]
  },
  {
   "cell_type": "markdown",
   "metadata": {
    "lang": "en"
   },
   "source": [
    "It is the reciprocal probability to the Poisson... Let's say that if I say that if at the bus stop I have an exponential probability with a mean of 2 minutes, if I fix an hour of time, I could also say that then we have a Poisson with a mean of 30.\n",
    "Poisson measures discrete occurrences, the exponential counts the time until the next occurrence"
   ]
  },
  {
   "cell_type": "code",
   "execution_count": null,
   "metadata": {},
   "outputs": [],
   "source": []
  },
  {
   "cell_type": "markdown",
   "metadata": {
    "lang": "en"
   },
   "source": [
    "## Normal distribution"
   ]
  },
  {
   "cell_type": "markdown",
   "metadata": {},
   "source": [
    "#### Intro"
   ]
  },
  {
   "cell_type": "markdown",
   "metadata": {
    "lang": "en"
   },
   "source": [
    "The normal distribution is the most important probability distribution in statistics, as it fits many natural and social phenomena:\n",
    " * the heights\n",
    " * blood pressure\n",
    " * IQ scores\n",
    " * ...\n",
    "\n",
    "It is also known as the Gaussian distribution or the bell curve."
   ]
  },
  {
   "cell_type": "markdown",
   "metadata": {},
   "source": [
    "#### scipy's `norm`"
   ]
  },
  {
   "cell_type": "code",
   "execution_count": null,
   "metadata": {},
   "outputs": [],
   "source": [
    "from scipy.stats import norm"
   ]
  },
  {
   "cell_type": "markdown",
   "metadata": {
    "lang": "en"
   },
   "source": [
    "The normal, is a 2-parameter distribution function\n",
    "$X \\sim N(\\mu, \\sigma)$\n",
    "\n",
    "These parameters are:\n",
    " * the mean, called $\\mu$\n",
    " * the standard deviation, $\\sigma$"
   ]
  },
  {
   "cell_type": "markdown",
   "metadata": {},
   "source": [
    "<img src=\"https://upload.wikimedia.org/wikipedia/commons/thumb/7/74/Normal_Distribution_PDF.svg/2560px-Normal_Distribution_PDF.svg.png\" width=700>"
   ]
  },
  {
   "cell_type": "markdown",
   "metadata": {
    "lang": "en"
   },
   "source": [
    "`scipy` calls them `loc` and `scale`"
   ]
  },
  {
   "cell_type": "markdown",
   "metadata": {
    "lang": "en"
   },
   "source": [
    "Let us model a country in which heights have:\n",
    " * an average of 170cm\n",
    " * a deviation of 10cm"
   ]
  },
  {
   "cell_type": "code",
   "execution_count": null,
   "metadata": {},
   "outputs": [],
   "source": []
  },
  {
   "cell_type": "markdown",
   "metadata": {
    "lang": "en"
   },
   "source": [
    "#### We sample with normal"
   ]
  },
  {
   "cell_type": "markdown",
   "metadata": {
    "lang": "en"
   },
   "source": [
    "`.rvs` generates a sample drawn from the distribution"
   ]
  },
  {
   "cell_type": "code",
   "execution_count": null,
   "metadata": {},
   "outputs": [],
   "source": []
  },
  {
   "cell_type": "markdown",
   "metadata": {
    "lang": "en"
   },
   "source": [
    "#### Probability density function"
   ]
  },
  {
   "cell_type": "markdown",
   "metadata": {
    "lang": "en"
   },
   "source": [
    "`.pdf` Probability density function.\n",
    "[Wikipedia](https://es.wikipedia.org/wiki/Funci%C3%B3n_de_densidad_de_probability) says that:\n",
    "In probability theory, the probability density function, density function, or simply density of a continuous random variable describes the relative probability according to which said random variable will take a certain value.\n",
    "The probability that the random variable falls in a specific region of the possibility space will be given by the integral of the density of this variable between one and another limit of said region.\n",
    "The probability density function (PDF or PDF in English) is positive throughout its domain and its integral over the entire space is of unit value."
   ]
  },
  {
   "cell_type": "code",
   "execution_count": null,
   "metadata": {},
   "outputs": [],
   "source": []
  },
  {
   "cell_type": "markdown",
   "metadata": {
    "lang": "en"
   },
   "source": [
    "The PDF in a value of a continuous does not give me much information, it is not the probability that someone measures exactly 160 because we have already said that the probability of that particular value tends to 0. If I tell you what is the probability that someone measures between 160 and 180 you will have to draw two verticals and paint the area under the curve, yes, the information it gives us is that there is more probability of measuring 165 than 160 or in my distribution there are more people who measure 165 than 160"
   ]
  },
  {
   "cell_type": "code",
   "execution_count": null,
   "metadata": {},
   "outputs": [],
   "source": []
  },
  {
   "cell_type": "markdown",
   "metadata": {
    "lang": "en"
   },
   "source": [
    "The total area under the curve is 1"
   ]
  },
  {
   "cell_type": "markdown",
   "metadata": {
    "lang": "en"
   },
   "source": [
    "As this distribution is **continuous**, we cannot ADD several .pdf values, but we have to INTEGRATE (area under the curve) up to 170"
   ]
  },
  {
   "cell_type": "markdown",
   "metadata": {},
   "source": [
    "$P(X < 170)$"
   ]
  },
  {
   "cell_type": "code",
   "execution_count": null,
   "metadata": {},
   "outputs": [],
   "source": []
  },
  {
   "cell_type": "markdown",
   "metadata": {
    "lang": "en"
   },
   "source": [
    "What is the proportion of people in the interval ($\\mu - \\sigma, \\mu + \\sigma)$?\n",
    "\n",
    "$P(160 < X < 180)$"
   ]
  },
  {
   "cell_type": "code",
   "execution_count": null,
   "metadata": {},
   "outputs": [],
   "source": []
  },
  {
   "cell_type": "markdown",
   "metadata": {
    "lang": "en"
   },
   "source": [
    "What is the proportion of people in the interval ($\\mu - 3\\sigma, \\mu + 3\\sigma)$?"
   ]
  },
  {
   "cell_type": "markdown",
   "metadata": {
    "lang": "en"
   },
   "source": [
    "In a normal distribution, this is ALWAYS true."
   ]
  },
  {
   "cell_type": "markdown",
   "metadata": {},
   "source": [
    "<img src=\"https://miro.medium.com/max/700/1*IZ2II2HYKeoMrdLU5jW6Dw.png\" width=800>"
   ]
  },
  {
   "cell_type": "markdown",
   "metadata": {
    "lang": "en"
   },
   "source": [
    "How do you interpret this... we repeat ourselves a bit:\n",
    "\n",
    "Australian lizards measure:\n",
    "- Average 6.2\n",
    "- Standard deviation 1\n",
    "\n",
    "**Means:**\n",
    "- Between 5.2 and 7.2 are 68% of the lizards\n",
    "- Between 4.2 and 8.2 are 95.45% of the lizards\n",
    "- Between 3.2 and 9.2 are 99.73% of the lizards"
   ]
  },
  {
   "cell_type": "markdown",
   "metadata": {
    "lang": "en"
   },
   "source": [
    "#### Percent point function (PPF)\n",
    "Do we remember how this is interpreted?"
   ]
  },
  {
   "cell_type": "code",
   "execution_count": null,
   "metadata": {},
   "outputs": [],
   "source": []
  },
  {
   "cell_type": "markdown",
   "metadata": {
    "lang": "en"
   },
   "source": [
    "Basically it is the [Quantile Function](https://es.wikipedia.org/wiki/Funci%C3%B3n_cuantil), it gives us the inverse and tells us the percentile."
   ]
  },
  {
   "cell_type": "markdown",
   "metadata": {
    "lang": "en"
   },
   "source": [
    "* *CDF(height) = gives us the probability of measuring less than that height\n",
    "* *PPF(probability) = gives us the heightº"
   ]
  },
  {
   "cell_type": "markdown",
   "metadata": {
    "lang": "en"
   },
   "source": [
    "What height is such that 80% of the people are shorter than someone?"
   ]
  },
  {
   "cell_type": "code",
   "execution_count": null,
   "metadata": {},
   "outputs": [],
   "source": []
  },
  {
   "cell_type": "markdown",
   "metadata": {
    "lang": "en"
   },
   "source": [
    "### Other continuous probability distributions"
   ]
  },
  {
   "cell_type": "markdown",
   "metadata": {
    "lang": "en"
   },
   "source": [
    "* Student's $t$ distribution\n",
    "* Snedecor's $F$ distribution\n",
    "* Chi square distribution"
   ]
  },
  {
   "cell_type": "markdown",
   "metadata": {
    "lang": "en"
   },
   "source": [
    "## Summary\n"
   ]
  },
  {
   "cell_type": "code",
   "execution_count": null,
   "metadata": {},
   "outputs": [],
   "source": []
  },
  {
   "cell_type": "markdown",
   "metadata": {},
   "source": [
    "[4 Reasons Why Data Scientists Should Have Love Affairs with Probability Distributions](https://medium.com/@minaienick/4-reasons-data-scientists-should-have-love-affairs-with-probability-distributions-b7d5051dc7aa)"
   ]
  }
 ],
 "metadata": {
  "colab": {
   "collapsed_sections": [],
   "name": "ProbabilityDistribution (1).ipynb",
   "provenance": []
  },
  "kernelspec": {
   "display_name": "ironhack",
   "language": "python",
   "name": "ironhack"
  },
  "language_info": {
   "codemirror_mode": {
    "name": "ipython",
    "version": 3
   },
   "file_extension": ".py",
   "mimetype": "text/x-python",
   "name": "python",
   "nbconvert_exporter": "python",
   "pygments_lexer": "ipython3",
   "version": "3.8.13"
  },
  "nbTranslate": {
   "displayLangs": [
    "en",
    "es"
   ],
   "hotkey": "alt-a",
   "langInMainMenu": true,
   "sourceLang": "es",
   "targetLang": "en",
   "useGoogleTranslate": true
  },
  "toc": {
   "base_numbering": 1,
   "nav_menu": {},
   "number_sections": true,
   "sideBar": true,
   "skip_h1_title": true,
   "title_cell": "Table of Contents",
   "title_sidebar": "Contents",
   "toc_cell": true,
   "toc_position": {
    "height": "calc(100% - 180px)",
    "left": "10px",
    "top": "150px",
    "width": "212.819px"
   },
   "toc_section_display": true,
   "toc_window_display": false
  },
  "varInspector": {
   "cols": {
    "lenName": 16,
    "lenType": 16,
    "lenVar": 40
   },
   "kernels_config": {
    "python": {
     "delete_cmd_postfix": "",
     "delete_cmd_prefix": "del ",
     "library": "var_list.py",
     "varRefreshCmd": "print(var_dic_list())"
    },
    "r": {
     "delete_cmd_postfix": ") ",
     "delete_cmd_prefix": "rm(",
     "library": "var_list.r",
     "varRefreshCmd": "cat(var_dic_list()) "
    }
   },
   "types_to_exclude": [
    "module",
    "function",
    "builtin_function_or_method",
    "instance",
    "_Feature"
   ],
   "window_display": false
  }
 },
 "nbformat": 4,
 "nbformat_minor": 1
}
