{
 "cells": [
  {
   "cell_type": "markdown",
   "metadata": {
    "toc": true
   },
   "source": [
    "<h1>Table of Contents<span class=\"tocSkip\"></span></h1>\n",
    "<div class=\"toc\"><ul class=\"toc-item\"><li><ul class=\"toc-item\"><li><span><a href=\"#GeoDataframe-/-Carto\" data-toc-modified-id=\"GeoDataframe-/-Carto-0.1\"><span class=\"toc-item-num\">0.1&nbsp;&nbsp;</span>GeoDataframe / Carto</a></span></li></ul></li><li><span><a href=\"#Geocode-API\" data-toc-modified-id=\"Geocode-API-1\"><span class=\"toc-item-num\">1&nbsp;&nbsp;</span>Geocode API</a></span></li><li><span><a href=\"#Foursquare-API\" data-toc-modified-id=\"Foursquare-API-2\"><span class=\"toc-item-num\">2&nbsp;&nbsp;</span>Foursquare API</a></span><ul class=\"toc-item\"><li><span><a href=\"#I-want-to-see-all-the-bookstores--in-Madrid-on-Foursquare\" data-toc-modified-id=\"I-want-to-see-all-the-bookstores--in-Madrid-on-Foursquare-2.1\"><span class=\"toc-item-num\">2.1&nbsp;&nbsp;</span>I want to see all the bookstores  in Madrid on Foursquare</a></span><ul class=\"toc-item\"><li><span><a href=\"#Setting-up\" data-toc-modified-id=\"Setting-up-2.1.1\"><span class=\"toc-item-num\">2.1.1&nbsp;&nbsp;</span>Setting up</a></span></li><li><span><a href=\"#Ready-to-query:-url-&amp;-headers\" data-toc-modified-id=\"Ready-to-query:-url-&amp;-headers-2.1.2\"><span class=\"toc-item-num\">2.1.2&nbsp;&nbsp;</span>Ready to query: url &amp; headers</a></span></li></ul></li></ul></li><li><span><a href=\"#Processing-the-response\" data-toc-modified-id=\"Processing-the-response-3\"><span class=\"toc-item-num\">3&nbsp;&nbsp;</span>Processing the response</a></span><ul class=\"toc-item\"><li><span><a href=\"#What-elements-do-I-want?\" data-toc-modified-id=\"What-elements-do-I-want?-3.1\"><span class=\"toc-item-num\">3.1&nbsp;&nbsp;</span>What elements do I want?</a></span></li><li><span><a href=\"#Extraction\" data-toc-modified-id=\"Extraction-3.2\"><span class=\"toc-item-num\">3.2&nbsp;&nbsp;</span>Extraction</a></span></li><li><span><a href=\"#Transformation\" data-toc-modified-id=\"Transformation-3.3\"><span class=\"toc-item-num\">3.3&nbsp;&nbsp;</span>Transformation</a></span></li></ul></li><li><span><a href=\"#The-Little-Map-of-CartoFrames\" data-toc-modified-id=\"The-Little-Map-of-CartoFrames-4\"><span class=\"toc-item-num\">4&nbsp;&nbsp;</span>The Little Map of CartoFrames</a></span></li><li><span><a href=\"#We-export/import-to-MongoDB\" data-toc-modified-id=\"We-export/import-to-MongoDB-5\"><span class=\"toc-item-num\">5&nbsp;&nbsp;</span>We export/import to MongoDB</a></span><ul class=\"toc-item\"><li><span><a href=\"#Exporting\" data-toc-modified-id=\"Exporting-5.1\"><span class=\"toc-item-num\">5.1&nbsp;&nbsp;</span>Exporting</a></span></li><li><span><a href=\"#Importing\" data-toc-modified-id=\"Importing-5.2\"><span class=\"toc-item-num\">5.2&nbsp;&nbsp;</span>Importing</a></span></li><li><span><a href=\"#Load-into-Mongo\" data-toc-modified-id=\"Load-into-Mongo-5.3\"><span class=\"toc-item-num\">5.3&nbsp;&nbsp;</span>Load into Mongo</a></span><ul class=\"toc-item\"><li><ul class=\"toc-item\"><li><span><a href=\"#1.-Extraction\" data-toc-modified-id=\"1.-Extraction-5.3.0.1\"><span class=\"toc-item-num\">5.3.0.1&nbsp;&nbsp;</span>1. Extraction</a></span></li><li><span><a href=\"#2.-Processing-/-transformation\" data-toc-modified-id=\"2.-Processing-/-transformation-5.3.0.2\"><span class=\"toc-item-num\">5.3.0.2&nbsp;&nbsp;</span>2. Processing / transformation</a></span></li><li><span><a href=\"#3.-Visualization\" data-toc-modified-id=\"3.-Visualization-5.3.0.3\"><span class=\"toc-item-num\">5.3.0.3&nbsp;&nbsp;</span>3. Visualization</a></span></li><li><span><a href=\"#4.-Loading-into-a-database\" data-toc-modified-id=\"4.-Loading-into-a-database-5.3.0.4\"><span class=\"toc-item-num\">5.3.0.4&nbsp;&nbsp;</span>4. Loading into a database</a></span></li></ul></li></ul></li><li><span><a href=\"#Sanity-check:-are-you-in-Kenya?\" data-toc-modified-id=\"Sanity-check:-are-you-in-Kenya?-5.4\"><span class=\"toc-item-num\">5.4&nbsp;&nbsp;</span>Sanity check: are you in Kenya?</a></span></li><li><span><a href=\"#token-must-be-hidden-and-deleted-from-the-notebook\" data-toc-modified-id=\"token-must-be-hidden-and-deleted-from-the-notebook-5.5\"><span class=\"toc-item-num\">5.5&nbsp;&nbsp;</span>token must be hidden and deleted from the notebook</a></span></li><li><span><a href=\"#limit-your-queries-until-you-know-for-sure-it-works,-then-scale-it-up\" data-toc-modified-id=\"limit-your-queries-until-you-know-for-sure-it-works,-then-scale-it-up-5.6\"><span class=\"toc-item-num\">5.6&nbsp;&nbsp;</span>limit your queries until you know for sure it works, then scale it up</a></span></li></ul></li></ul></div>"
   ]
  },
  {
   "cell_type": "markdown",
   "metadata": {},
   "source": [
    "### GeoDataframe / Carto"
   ]
  },
  {
   "cell_type": "markdown",
   "metadata": {},
   "source": [
    "![mapa](../images/geo_portada.jpg)"
   ]
  },
  {
   "cell_type": "code",
   "execution_count": 2,
   "metadata": {},
   "outputs": [],
   "source": [
    "#! pip install cartoframes"
   ]
  },
  {
   "cell_type": "code",
   "execution_count": 45,
   "metadata": {},
   "outputs": [],
   "source": [
    "import os\n",
    "import requests\n",
    "import json\n",
    "from dotenv import load_dotenv\n",
    "import pandas as pd\n",
    "\n",
    "import geopandas as gpd\n",
    "from cartoframes.viz import Map, Layer, popup_element"
   ]
  },
  {
   "cell_type": "markdown",
   "metadata": {},
   "source": [
    "⚠️\n",
    "\n",
    "ImportError: cannot import name 'soft_unicode' from 'markupsafe' (/Users/user/opt/anaconda3/envs/ironhack/lib/python3.8/site-packages/markupsafe/__init__.py) ?\n",
    "\n",
    "`pip install markupsafe==2.0.1` ?"
   ]
  },
  {
   "cell_type": "markdown",
   "metadata": {},
   "source": [
    "1. Geocode API\n",
    "2. Foursquare API\n",
    "3. Cartomap"
   ]
  },
  {
   "cell_type": "markdown",
   "metadata": {},
   "source": [
    "## Geocode API"
   ]
  },
  {
   "cell_type": "markdown",
   "metadata": {
    "lang": "en"
   },
   "source": [
    "There are APIs for a lot of things, here I leave you [Geocode](https://geocode.xyz/)"
   ]
  },
  {
   "cell_type": "code",
   "execution_count": null,
   "metadata": {},
   "outputs": [],
   "source": [
    "# Location"
   ]
  },
  {
   "cell_type": "code",
   "execution_count": 46,
   "metadata": {},
   "outputs": [],
   "source": [
    "where = \"Madrid, Spain\""
   ]
  },
  {
   "cell_type": "code",
   "execution_count": null,
   "metadata": {},
   "outputs": [],
   "source": [
    "# Expected coordinates"
   ]
  },
  {
   "cell_type": "markdown",
   "metadata": {},
   "source": [
    "`mad_long = 40.4107367` <br>\n",
    "`mad_lat = -3.707267119`"
   ]
  },
  {
   "cell_type": "code",
   "execution_count": null,
   "metadata": {},
   "outputs": [],
   "source": [
    "# How to get coordinates from a location"
   ]
  },
  {
   "cell_type": "markdown",
   "metadata": {
    "lang": "en"
   },
   "source": [
    "```python\n",
    "url_geocode = f\"https://geocode.xyz/{Adress I want to convert}?json=1\"\n",
    "```"
   ]
  },
  {
   "cell_type": "markdown",
   "metadata": {
    "lang": "en"
   },
   "source": [
    "What is type point?\n",
    "```python\n",
    "place_coordinates = {\"type\": \"Point\", \"coordinates\": [latitude, longitude]}\n",
    "```"
   ]
  },
  {
   "cell_type": "code",
   "execution_count": 48,
   "metadata": {},
   "outputs": [],
   "source": [
    "url_geocode = f\"https://geocode.xyz/{where}?json=1\""
   ]
  },
  {
   "cell_type": "code",
   "execution_count": 49,
   "metadata": {},
   "outputs": [
    {
     "data": {
      "text/plain": [
       "'https://geocode.xyz/Madrid, Spain?json=1'"
      ]
     },
     "execution_count": 49,
     "metadata": {},
     "output_type": "execute_result"
    }
   ],
   "source": [
    "url_geocode"
   ]
  },
  {
   "cell_type": "code",
   "execution_count": 51,
   "metadata": {},
   "outputs": [
    {
     "data": {
      "text/plain": [
       "{'success': False,\n",
       " 'error': {'code': '006',\n",
       "  'message': 'Request Throttled. Over Rate limit: up to 2 per sec. See geocode.xyz/pricing',\n",
       "  'requests': '6'}}"
      ]
     },
     "execution_count": 51,
     "metadata": {},
     "output_type": "execute_result"
    }
   ],
   "source": [
    "requests.get(url_geocode).json()"
   ]
  },
  {
   "cell_type": "markdown",
   "metadata": {
    "lang": "en"
   },
   "source": [
    "Sometimes Geocode Fails, so plan is to get the coordinates from the web"
   ]
  },
  {
   "cell_type": "code",
   "execution_count": 52,
   "metadata": {},
   "outputs": [],
   "source": [
    "mad_long = 40.4107367\n",
    "mad_lat = -3.707267119"
   ]
  },
  {
   "cell_type": "code",
   "execution_count": 57,
   "metadata": {},
   "outputs": [],
   "source": [
    "import time"
   ]
  },
  {
   "cell_type": "code",
   "execution_count": 60,
   "metadata": {},
   "outputs": [],
   "source": [
    "def get_coordinates (place):\n",
    "    url_geocode = f\"https://geocode.xyz/{place}?json=1\"\n",
    "    \n",
    "    # place_coordinates = {\"type\": \"Point\", \n",
    "                            # \"coordinates\": [latitude, longitude]}\n",
    "    \n",
    "    try:\n",
    "        res = requests.get(url_geocode).json()\n",
    "        return res\n",
    "    except:\n",
    "        print(f\"Sorry, no matches for {place}\")\n",
    "        time.sleep(3)\n",
    "        get_coordiunates (place)"
   ]
  },
  {
   "cell_type": "code",
   "execution_count": 61,
   "metadata": {
    "scrolled": true
   },
   "outputs": [
    {
     "data": {
      "text/plain": [
       "{'success': False,\n",
       " 'error': {'code': '006',\n",
       "  'message': 'Request Throttled. Over Rate limit: up to 2 per sec. See geocode.xyz/pricing',\n",
       "  'requests': '16'}}"
      ]
     },
     "execution_count": 61,
     "metadata": {},
     "output_type": "execute_result"
    }
   ],
   "source": [
    "get_coordinates (\"Madrid, Spain\")"
   ]
  },
  {
   "cell_type": "markdown",
   "metadata": {},
   "source": [
    "## Foursquare API"
   ]
  },
  {
   "cell_type": "markdown",
   "metadata": {},
   "source": [
    "### I want to see all the bookstores  in Madrid on Foursquare"
   ]
  },
  {
   "cell_type": "markdown",
   "metadata": {},
   "source": [
    "#### Setting up"
   ]
  },
  {
   "cell_type": "markdown",
   "metadata": {
    "lang": "en"
   },
   "source": [
    "I'm sorry to tell you that the first thing is to read the API documentation.\n",
    "- https://developer.foursquare.com/docs/places-api-overview\n",
    "- https://developer.foursquare.com/reference/api-explorer-overview"
   ]
  },
  {
   "cell_type": "markdown",
   "metadata": {},
   "source": [
    "1. Sign-up for the foursquare places API [here](https://foursquare.com/products/places-api/)\n",
    "2. Create a New Project\n",
    "3. Generate `CLIENT_ID` & `CLIENT_SECRET` so that you can generate TOKEN\n",
    "4. Save your credentials locally on a `.env` file on the root of your project"
   ]
  },
  {
   "cell_type": "markdown",
   "metadata": {},
   "source": [
    "1. https://foursquare.com/developers/orgs/62e1bdd8a3409370dc466164/projects/63598a1b1cdc2f7d810cf839/settings\n",
    "2. https://developer.foursquare.com/reference/place-search"
   ]
  },
  {
   "cell_type": "markdown",
   "metadata": {},
   "source": [
    "```shell\n",
    "!touch .env #creates the file\n",
    "!echo \"token='mytoken' >> .env\" #appends into the file\n",
    "!touch .gitignore\n",
    "!echo \".env\" >> .gitignore\n",
    "```"
   ]
  },
  {
   "cell_type": "code",
   "execution_count": 62,
   "metadata": {},
   "outputs": [
    {
     "data": {
      "text/plain": [
       "True"
      ]
     },
     "execution_count": 62,
     "metadata": {},
     "output_type": "execute_result"
    }
   ],
   "source": [
    "load_dotenv() # for the projects"
   ]
  },
  {
   "cell_type": "code",
   "execution_count": 63,
   "metadata": {},
   "outputs": [],
   "source": [
    "from getpass import getpass"
   ]
  },
  {
   "cell_type": "code",
   "execution_count": 66,
   "metadata": {},
   "outputs": [
    {
     "name": "stdout",
     "output_type": "stream",
     "text": [
      "········\n"
     ]
    }
   ],
   "source": [
    "token = getpass()"
   ]
  },
  {
   "cell_type": "markdown",
   "metadata": {},
   "source": [
    "#### Ready to query: url & headers"
   ]
  },
  {
   "cell_type": "markdown",
   "metadata": {
    "lang": "en"
   },
   "source": [
    "Foursquare parameters are explained [here.](https://developer.foursquare.com/docs/places-api-overview)"
   ]
  },
  {
   "cell_type": "code",
   "execution_count": 69,
   "metadata": {},
   "outputs": [],
   "source": [
    "query = \"libreria\""
   ]
  },
  {
   "cell_type": "code",
   "execution_count": 101,
   "metadata": {},
   "outputs": [
    {
     "data": {
      "text/plain": [
       "<Response [200]>"
      ]
     },
     "execution_count": 101,
     "metadata": {},
     "output_type": "execute_result"
    }
   ],
   "source": [
    "url = \"https://api.foursquare.com/v3/places/search?query=libreria&ll=40.4107367%2C-3.707267119\"\n",
    "\n",
    "headers = {\n",
    "    \"accept\": \"application/json\",\n",
    "    \"Authorization\": token\n",
    "}\n",
    "\n",
    "response = requests.get(url, headers=headers)\n",
    "response"
   ]
  },
  {
   "cell_type": "code",
   "execution_count": 102,
   "metadata": {},
   "outputs": [
    {
     "data": {
      "text/plain": [
       "10"
      ]
     },
     "execution_count": 102,
     "metadata": {},
     "output_type": "execute_result"
    }
   ],
   "source": [
    "len(response.json()[\"results\"])"
   ]
  },
  {
   "cell_type": "code",
   "execution_count": 104,
   "metadata": {},
   "outputs": [
    {
     "data": {
      "text/plain": [
       "{'fsq_id': '4cbddb3c43ec6dcb849db931',\n",
       " 'categories': [{'id': 17018,\n",
       "   'name': 'Bookstore',\n",
       "   'icon': {'prefix': 'https://ss3.4sqi.net/img/categories_v2/shops/bookstore_',\n",
       "    'suffix': '.png'}}],\n",
       " 'chains': [],\n",
       " 'distance': 3315,\n",
       " 'geocodes': {'main': {'latitude': 40.440264, 'longitude': -3.712913}},\n",
       " 'link': '/v3/places/4cbddb3c43ec6dcb849db931',\n",
       " 'location': {'address': 'Blasco de Garay, 98',\n",
       "  'admin_region': 'Comunidad de Madrid',\n",
       "  'country': 'ES',\n",
       "  'cross_street': '',\n",
       "  'formatted_address': 'Blasco de Garay, 98, Madrid Madrid',\n",
       "  'locality': 'Madrid',\n",
       "  'region': 'Madrid'},\n",
       " 'name': 'Libreria Internacional',\n",
       " 'related_places': {},\n",
       " 'timezone': 'Europe/Madrid'}"
      ]
     },
     "execution_count": 104,
     "metadata": {},
     "output_type": "execute_result"
    }
   ],
   "source": [
    "response.json()[\"results\"][0]"
   ]
  },
  {
   "cell_type": "code",
   "execution_count": 105,
   "metadata": {},
   "outputs": [
    {
     "data": {
      "text/plain": [
       "{'latitude': 40.440264, 'longitude': -3.712913}"
      ]
     },
     "execution_count": 105,
     "metadata": {},
     "output_type": "execute_result"
    }
   ],
   "source": [
    "coordinates = response.json()[\"results\"][0][\"geocodes\"][\"main\"]\n",
    "coordinates"
   ]
  },
  {
   "cell_type": "code",
   "execution_count": 106,
   "metadata": {},
   "outputs": [],
   "source": [
    "lat, lon = coordinates[\"latitude\"], coordinates[\"longitude\"]"
   ]
  },
  {
   "cell_type": "code",
   "execution_count": 107,
   "metadata": {},
   "outputs": [
    {
     "data": {
      "text/plain": [
       "'Libreria Internacional'"
      ]
     },
     "execution_count": 107,
     "metadata": {},
     "output_type": "execute_result"
    }
   ],
   "source": [
    "name = response.json()[\"results\"][0][\"name\"]\n",
    "name"
   ]
  },
  {
   "cell_type": "code",
   "execution_count": 108,
   "metadata": {},
   "outputs": [],
   "source": [
    "def name_coordinates (dict_):\n",
    "    \n",
    "    processed_dict = {\"name\": dict_[\"name\"],\n",
    "                     \"lat\": dict_[\"geocodes\"][\"main\"][\"latitude\"],\n",
    "                     \"lon\": dict_[\"geocodes\"][\"main\"][\"longitude\"]}\n",
    "    \n",
    "    return processed_dict"
   ]
  },
  {
   "cell_type": "code",
   "execution_count": 109,
   "metadata": {},
   "outputs": [
    {
     "data": {
      "text/plain": [
       "{'name': 'Libreria Internacional', 'lat': 40.440264, 'lon': -3.712913}"
      ]
     },
     "execution_count": 109,
     "metadata": {},
     "output_type": "execute_result"
    }
   ],
   "source": [
    "name_coordinates (response.json()[\"results\"][0])"
   ]
  },
  {
   "cell_type": "code",
   "execution_count": 110,
   "metadata": {},
   "outputs": [],
   "source": [
    "new_list = []\n",
    "for i in response.json()[\"results\"]:\n",
    "    new_list.append(name_coordinates(i))"
   ]
  },
  {
   "cell_type": "code",
   "execution_count": 111,
   "metadata": {},
   "outputs": [
    {
     "data": {
      "text/plain": [
       "[{'name': 'Libreria Internacional', 'lat': 40.440264, 'lon': -3.712913},\n",
       " {'name': 'Libreria Cafe el Dinosaurio Todavia Estaba Alli',\n",
       "  'lat': 40.411689,\n",
       "  'lon': -3.7004},\n",
       " {'name': 'Librería de Montaña - Desnivel',\n",
       "  'lat': 40.413352,\n",
       "  'lon': -3.699878},\n",
       " {'name': 'Pasajes Librería Internacional',\n",
       "  'lat': 40.427468,\n",
       "  'lon': -3.694975},\n",
       " {'name': 'Libreria Rafael Alberti', 'lat': 40.431933, 'lon': -3.718822},\n",
       " {'name': 'A Punto librería y escuela de cocina',\n",
       "  'lat': 40.424171,\n",
       "  'lon': -3.697437},\n",
       " {'name': 'Libreria la Lumbre', 'lat': 40.402826, 'lon': -3.675282},\n",
       " {'name': 'Librería San Ginés', 'lat': 40.416986, 'lon': -3.706819},\n",
       " {'name': 'Tuuu Librería', 'lat': 40.431316, 'lon': -3.698024},\n",
       " {'name': 'Librería Antonio Machado', 'lat': 40.425151, 'lon': -3.695952}]"
      ]
     },
     "execution_count": 111,
     "metadata": {},
     "output_type": "execute_result"
    }
   ],
   "source": [
    "new_list"
   ]
  },
  {
   "cell_type": "code",
   "execution_count": 112,
   "metadata": {},
   "outputs": [
    {
     "data": {
      "text/html": [
       "<div>\n",
       "<style scoped>\n",
       "    .dataframe tbody tr th:only-of-type {\n",
       "        vertical-align: middle;\n",
       "    }\n",
       "\n",
       "    .dataframe tbody tr th {\n",
       "        vertical-align: top;\n",
       "    }\n",
       "\n",
       "    .dataframe thead th {\n",
       "        text-align: right;\n",
       "    }\n",
       "</style>\n",
       "<table border=\"1\" class=\"dataframe\">\n",
       "  <thead>\n",
       "    <tr style=\"text-align: right;\">\n",
       "      <th></th>\n",
       "      <th>name</th>\n",
       "      <th>lat</th>\n",
       "      <th>lon</th>\n",
       "    </tr>\n",
       "  </thead>\n",
       "  <tbody>\n",
       "    <tr>\n",
       "      <th>0</th>\n",
       "      <td>Libreria Internacional</td>\n",
       "      <td>40.440264</td>\n",
       "      <td>-3.712913</td>\n",
       "    </tr>\n",
       "    <tr>\n",
       "      <th>1</th>\n",
       "      <td>Libreria Cafe el Dinosaurio Todavia Estaba Alli</td>\n",
       "      <td>40.411689</td>\n",
       "      <td>-3.700400</td>\n",
       "    </tr>\n",
       "    <tr>\n",
       "      <th>2</th>\n",
       "      <td>Librería de Montaña - Desnivel</td>\n",
       "      <td>40.413352</td>\n",
       "      <td>-3.699878</td>\n",
       "    </tr>\n",
       "    <tr>\n",
       "      <th>3</th>\n",
       "      <td>Pasajes Librería Internacional</td>\n",
       "      <td>40.427468</td>\n",
       "      <td>-3.694975</td>\n",
       "    </tr>\n",
       "    <tr>\n",
       "      <th>4</th>\n",
       "      <td>Libreria Rafael Alberti</td>\n",
       "      <td>40.431933</td>\n",
       "      <td>-3.718822</td>\n",
       "    </tr>\n",
       "    <tr>\n",
       "      <th>5</th>\n",
       "      <td>A Punto librería y escuela de cocina</td>\n",
       "      <td>40.424171</td>\n",
       "      <td>-3.697437</td>\n",
       "    </tr>\n",
       "    <tr>\n",
       "      <th>6</th>\n",
       "      <td>Libreria la Lumbre</td>\n",
       "      <td>40.402826</td>\n",
       "      <td>-3.675282</td>\n",
       "    </tr>\n",
       "    <tr>\n",
       "      <th>7</th>\n",
       "      <td>Librería San Ginés</td>\n",
       "      <td>40.416986</td>\n",
       "      <td>-3.706819</td>\n",
       "    </tr>\n",
       "    <tr>\n",
       "      <th>8</th>\n",
       "      <td>Tuuu Librería</td>\n",
       "      <td>40.431316</td>\n",
       "      <td>-3.698024</td>\n",
       "    </tr>\n",
       "    <tr>\n",
       "      <th>9</th>\n",
       "      <td>Librería Antonio Machado</td>\n",
       "      <td>40.425151</td>\n",
       "      <td>-3.695952</td>\n",
       "    </tr>\n",
       "  </tbody>\n",
       "</table>\n",
       "</div>"
      ],
      "text/plain": [
       "                                              name        lat       lon\n",
       "0                           Libreria Internacional  40.440264 -3.712913\n",
       "1  Libreria Cafe el Dinosaurio Todavia Estaba Alli  40.411689 -3.700400\n",
       "2                   Librería de Montaña - Desnivel  40.413352 -3.699878\n",
       "3                   Pasajes Librería Internacional  40.427468 -3.694975\n",
       "4                          Libreria Rafael Alberti  40.431933 -3.718822\n",
       "5             A Punto librería y escuela de cocina  40.424171 -3.697437\n",
       "6                               Libreria la Lumbre  40.402826 -3.675282\n",
       "7                               Librería San Ginés  40.416986 -3.706819\n",
       "8                                    Tuuu Librería  40.431316 -3.698024\n",
       "9                         Librería Antonio Machado  40.425151 -3.695952"
      ]
     },
     "execution_count": 112,
     "metadata": {},
     "output_type": "execute_result"
    }
   ],
   "source": [
    "df = pd.DataFrame(new_list)\n",
    "df"
   ]
  },
  {
   "cell_type": "markdown",
   "metadata": {},
   "source": [
    "## Processing the response"
   ]
  },
  {
   "cell_type": "markdown",
   "metadata": {},
   "source": [
    "### What elements do I want?"
   ]
  },
  {
   "cell_type": "code",
   "execution_count": null,
   "metadata": {},
   "outputs": [],
   "source": []
  },
  {
   "cell_type": "markdown",
   "metadata": {},
   "source": [
    "# RECAP\n",
    "\n",
    "### Extraction\n",
    "\n",
    "0. Get the token\n",
    "1. Went into the docs tried an example through here: https://developer.foursquare.com/reference/place-search\n",
    "2. You copy the code into python\n",
    "3. Check that it works\n",
    "4. Parameters: \"&query=libreria\" -> f\"&query={query}\"\n",
    "5. Save into a function FOR QUERYING THE API\n",
    "\n",
    "--------\n",
    "### Transformation\n",
    "\n",
    "6. Process the result of that function to target meaningful info\n",
    "    - Testing one by one: one item at a time\n",
    "7. Loop the result of the first function to get the info for each element\n",
    "8. A list of dictionaties -> dataframe"
   ]
  },
  {
   "cell_type": "markdown",
   "metadata": {
    "lang": "en"
   },
   "source": [
    "## The Little Map of CartoFrames"
   ]
  },
  {
   "cell_type": "markdown",
   "metadata": {
    "lang": "en"
   },
   "source": [
    "For the geometry column we have to put in this order Longitude, Latitude ⚠️🚨"
   ]
  },
  {
   "cell_type": "code",
   "execution_count": null,
   "metadata": {},
   "outputs": [],
   "source": []
  },
  {
   "cell_type": "markdown",
   "metadata": {
    "lang": "en"
   },
   "source": [
    "https://carto.com/developers/cartoframes/"
   ]
  },
  {
   "cell_type": "code",
   "execution_count": null,
   "metadata": {},
   "outputs": [],
   "source": []
  },
  {
   "cell_type": "markdown",
   "metadata": {
    "lang": "en"
   },
   "source": [
    "## We export/import to MongoDB"
   ]
  },
  {
   "cell_type": "markdown",
   "metadata": {},
   "source": [
    "### Exporting"
   ]
  },
  {
   "cell_type": "code",
   "execution_count": null,
   "metadata": {},
   "outputs": [],
   "source": []
  },
  {
   "cell_type": "markdown",
   "metadata": {},
   "source": [
    "### Importing"
   ]
  },
  {
   "cell_type": "code",
   "execution_count": null,
   "metadata": {},
   "outputs": [],
   "source": []
  },
  {
   "cell_type": "markdown",
   "metadata": {},
   "source": [
    "### Load into Mongo"
   ]
  },
  {
   "cell_type": "code",
   "execution_count": null,
   "metadata": {},
   "outputs": [],
   "source": []
  },
  {
   "cell_type": "markdown",
   "metadata": {},
   "source": [
    "# Recap\n"
   ]
  },
  {
   "cell_type": "markdown",
   "metadata": {},
   "source": [
    "##### 1. Extraction\n",
    "\n",
    "- Signed up for foursquare API\n",
    "- We created an app and got a token\n",
    "- Explored the examples to do requests from the docs\n",
    "- We did requests\n",
    "- We gathered the code into functions\n",
    "\n",
    "##### 2. Processing / transformation\n",
    "- We processed the results of the requests\n",
    "- Saved into a list\n",
    "\n",
    "##### 3. Visualization\n",
    "\n",
    "- Geopandas to plot things\n",
    "    - Create a new column from lat and lon -> geometry\n",
    "- With geometry column -> carto map\n",
    "\n",
    "\n",
    "##### 4. Loading into a database\n",
    "- Loop the dictionary to insert_one(document)\n"
   ]
  },
  {
   "cell_type": "markdown",
   "metadata": {},
   "source": [
    "# TIPS\n",
    "### Sanity check: are you in Kenya?\n",
    "### token must be hidden and deleted from the notebook\n",
    "### limit your queries until you know for sure it works, then scale it up"
   ]
  },
  {
   "cell_type": "markdown",
   "metadata": {},
   "source": [
    "# TO-DO\n",
    "\n",
    "1. Get **tokens** (sign-up, create a project, get tokens). If you have issues with them, DO contact the foursquare team, as they are very quick in responding\n",
    "\n",
    "\n",
    "2. **Query** something using this function:  `get_results_from_foursquare (query, location, limit)`"
   ]
  },
  {
   "cell_type": "markdown",
   "metadata": {},
   "source": [
    "# Use-case\n",
    "3. Can you get the 10 closest coffeshops to Ironhack? ☕️\n",
    "4. Save it into a dataframe 📒\n",
    "5. Visualize it using either Folium or Carto (Carto will need a geodataframe) 🗺"
   ]
  },
  {
   "cell_type": "markdown",
   "metadata": {},
   "source": [
    "```python\n",
    "def get_results_from_foursquare (query, location, limit=1):\n",
    "    \n",
    "    # Doing the call for foursquare     \n",
    "    ll = f\"{location[1]}%2C{location[0]}\"\n",
    "    url = f\"https://api.foursquare.com/v3/places/search?query={query}&ll={ll}&limit={str(limit)}\"\n",
    "\n",
    "    headers = {\n",
    "        \"accept\": \"application/json\",\n",
    "        \"Authorization\": token_fsq,\n",
    "    }\n",
    "    \n",
    "    response = requests.get(url, headers=headers).json()\n",
    "    \n",
    "    return response\n",
    "```"
   ]
  }
 ],
 "metadata": {
  "kernelspec": {
   "display_name": "ironhack",
   "language": "python",
   "name": "ironhack"
  },
  "language_info": {
   "codemirror_mode": {
    "name": "ipython",
    "version": 3
   },
   "file_extension": ".py",
   "mimetype": "text/x-python",
   "name": "python",
   "nbconvert_exporter": "python",
   "pygments_lexer": "ipython3",
   "version": "3.8.13"
  },
  "nbTranslate": {
   "displayLangs": [
    "en",
    "es"
   ],
   "hotkey": "alt-a",
   "langInMainMenu": true,
   "sourceLang": "es",
   "targetLang": "en",
   "useGoogleTranslate": true
  },
  "toc": {
   "base_numbering": 1,
   "nav_menu": {},
   "number_sections": true,
   "sideBar": true,
   "skip_h1_title": true,
   "title_cell": "Table of Contents",
   "title_sidebar": "Contents",
   "toc_cell": true,
   "toc_position": {
    "height": "calc(100% - 180px)",
    "left": "10px",
    "top": "150px",
    "width": "165px"
   },
   "toc_section_display": true,
   "toc_window_display": true
  }
 },
 "nbformat": 4,
 "nbformat_minor": 4
}
