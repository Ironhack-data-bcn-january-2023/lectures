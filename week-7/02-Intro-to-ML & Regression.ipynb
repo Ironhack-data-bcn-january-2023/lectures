{
 "cells": [
  {
   "cell_type": "markdown",
   "id": "e36d109e",
   "metadata": {
    "lang": "en"
   },
   "source": [
    "# Intro to Machine Learning"
   ]
  },
  {
   "cell_type": "markdown",
   "id": "aerial-american",
   "metadata": {},
   "source": [
    "![elgifderigor](https://media.giphy.com/media/NsBknNwmmWE8WU1q2U/giphy.gif)"
   ]
  },
  {
   "cell_type": "markdown",
   "id": "simple-vault",
   "metadata": {
    "toc": true
   },
   "source": [
    "<h1>Table of Contents<span class=\"tocSkip\"></span></h1>\n",
    "<div class=\"toc\"><ul class=\"toc-item\"><li><span><a href=\"#Some-concepts\" data-toc-modified-id=\"Some-concepts-1\"><span class=\"toc-item-num\">1&nbsp;&nbsp;</span>Some concepts</a></span><ul class=\"toc-item\"><li><span><a href=\"#Estimators\" data-toc-modified-id=\"Estimators-1.1\"><span class=\"toc-item-num\">1.1&nbsp;&nbsp;</span>Estimators</a></span></li><li><span><a href=\"#Bias-Error\" data-toc-modified-id=\"Bias-Error-1.2\"><span class=\"toc-item-num\">1.2&nbsp;&nbsp;</span>Bias Error</a></span></li><li><span><a href=\"#Variance-Error\" data-toc-modified-id=\"Variance-Error-1.3\"><span class=\"toc-item-num\">1.3&nbsp;&nbsp;</span>Variance Error</a></span></li></ul></li><li><span><a href=\"#Types-of-Machine-Learning\" data-toc-modified-id=\"Types-of-Machine-Learning-2\"><span class=\"toc-item-num\">2&nbsp;&nbsp;</span>Types of Machine Learning</a></span></li><li><span><a href=\"#Features\" data-toc-modified-id=\"Features-3\"><span class=\"toc-item-num\">3&nbsp;&nbsp;</span>Features</a></span></li><li><span><a href=\"#Underfitting-and-Overfitting\" data-toc-modified-id=\"Underfitting-and-Overfitting-4\"><span class=\"toc-item-num\">4&nbsp;&nbsp;</span>Underfitting and Overfitting</a></span></li><li><span><a href=\"#Let's-do-it?\" data-toc-modified-id=\"Let's-do-it?-5\"><span class=\"toc-item-num\">5&nbsp;&nbsp;</span>Let's do it?</a></span><ul class=\"toc-item\"><li><span><a href=\"#Let's-practice-ML-with-a-regression-example\" data-toc-modified-id=\"Let's-practice-ML-with-a-regression-example-5.1\"><span class=\"toc-item-num\">5.1&nbsp;&nbsp;</span>Let's practice ML with a regression example</a></span></li><li><span><a href=\"#We-load-a-dataset\" data-toc-modified-id=\"We-load-a-dataset-5.2\"><span class=\"toc-item-num\">5.2&nbsp;&nbsp;</span>We load a dataset</a></span></li><li><span><a href=\"#Train-/-Test-Split---What-is-this?\" data-toc-modified-id=\"Train-/-Test-Split---What-is-this?-5.3\"><span class=\"toc-item-num\">5.3&nbsp;&nbsp;</span>Train / Test Split - What is this?</a></span></li><li><span><a href=\"#Preparing-data-for-train-test-split\" data-toc-modified-id=\"Preparing-data-for-train-test-split-5.4\"><span class=\"toc-item-num\">5.4&nbsp;&nbsp;</span>Preparing data for train test split</a></span></li><li><span><a href=\"#Optional-train-test-split-parameters\" data-toc-modified-id=\"Optional-train-test-split-parameters-5.5\"><span class=\"toc-item-num\">5.5&nbsp;&nbsp;</span>Optional train test split parameters</a></span></li><li><span><a href=\"#We-already-have-the-dataset-divided,-now-we-are-going-to-import-a-model-and-train-it\" data-toc-modified-id=\"We-already-have-the-dataset-divided,-now-we-are-going-to-import-a-model-and-train-it-5.6\"><span class=\"toc-item-num\">5.6&nbsp;&nbsp;</span>We already have the dataset divided, now we are going to import a model and train it</a></span></li><li><span><a href=\"#We-create-our-predictions\" data-toc-modified-id=\"We-create-our-predictions-5.7\"><span class=\"toc-item-num\">5.7&nbsp;&nbsp;</span>We create our predictions</a></span></li><li><span><a href=\"#We-measure-our-model\" data-toc-modified-id=\"We-measure-our-model-5.8\"><span class=\"toc-item-num\">5.8&nbsp;&nbsp;</span>We measure our model</a></span><ul class=\"toc-item\"><li><span><a href=\"#Example-with-a-real-case-of-a-colleague-who-gives-me-data-from-a-house-in-Boston\" data-toc-modified-id=\"Example-with-a-real-case-of-a-colleague-who-gives-me-data-from-a-house-in-Boston-5.8.1\"><span class=\"toc-item-num\">5.8.1&nbsp;&nbsp;</span>Example with a real case of a colleague who gives me data from a house in Boston</a></span></li></ul></li></ul></li><li><span><a href=\"#Extra!-Training-different-models-at-the-same-time\" data-toc-modified-id=\"Extra!-Training-different-models-at-the-same-time-6\"><span class=\"toc-item-num\">6&nbsp;&nbsp;</span>Extra! Training different models at the same time</a></span><ul class=\"toc-item\"><li><span><a href=\"#Store-all-the-models-we-are-going-to-train-in-a-dictionary\" data-toc-modified-id=\"Store-all-the-models-we-are-going-to-train-in-a-dictionary-6.1\"><span class=\"toc-item-num\">6.1&nbsp;&nbsp;</span>Store all the models we are going to train in a dictionary</a></span></li><li><span><a href=\"#Iterate-over-the-models-to-train-them\" data-toc-modified-id=\"Iterate-over-the-models-to-train-them-6.2\"><span class=\"toc-item-num\">6.2&nbsp;&nbsp;</span>Iterate over the models to train them</a></span></li></ul></li><li><span><a href=\"#Feature-Selection\" data-toc-modified-id=\"Feature-Selection-7\"><span class=\"toc-item-num\">7&nbsp;&nbsp;</span>Feature Selection</a></span></li><li><span><a href=\"#Cross-Validation\" data-toc-modified-id=\"Cross-Validation-8\"><span class=\"toc-item-num\">8&nbsp;&nbsp;</span>Cross Validation</a></span><ul class=\"toc-item\"><li><span><a href=\"#We-make-CV-to-a-single-model\" data-toc-modified-id=\"We-make-CV-to-a-single-model-8.1\"><span class=\"toc-item-num\">8.1&nbsp;&nbsp;</span>We make CV to a single model</a></span></li><li><span><a href=\"#CV-looping-through-all-models\" data-toc-modified-id=\"CV-looping-through-all-models-8.2\"><span class=\"toc-item-num\">8.2&nbsp;&nbsp;</span>CV looping through all models</a></span></li></ul></li><li><span><a href=\"#Summary\" data-toc-modified-id=\"Summary-9\"><span class=\"toc-item-num\">9&nbsp;&nbsp;</span>Summary</a></span></li></ul></div>"
   ]
  },
  {
   "cell_type": "markdown",
   "id": "d25fa2aa",
   "metadata": {},
   "source": [
    "![sklearn](../images/ext_sklearn.jpeg)"
   ]
  },
  {
   "cell_type": "markdown",
   "id": "7fe8bdd5",
   "metadata": {
    "lang": "en"
   },
   "source": [
    "## Some concepts\n",
    "To understand how a machine learning algorithm learns from data to predict an outcome, it is essential to understand the underlying concepts that go into training an algorithm."
   ]
  },
  {
   "cell_type": "markdown",
   "id": "ab999f7d",
   "metadata": {
    "lang": "en"
   },
   "source": [
    "### Estimators\n",
    "Estimate is a statistical term for finding some estimate of an unknown parameter, given some data. Point estimation is the attempt to provide the best prediction of some quantity of interest.\n",
    "The amount of interest can be:\n",
    " - A single parameter\n",
    " - A vector of parameters - for example, the weights in linear regression\n",
    " - A full function\n",
    "\n",
    "### Bias Error\n",
    "\n",
    "It is the difference between the expected prediction of our model and the true values. Although in the end our goal is always to build models that can predict data very close to the true values, it is not always that easy because some algorithms are simply too rigid to learn complex signals from the data set.\n",
    "\n",
    "Imagine fitting a linear regression to a data set that has a non-linear pattern, no matter how many more observations you collect, a linear regression will not be able to model the curves on that data. This is known as underfitting.\n",
    "\n",
    "In general, parametric algorithms like linear regression have a high bias that makes them quick to learn and easier to understand, but generally less flexible. In turn, they have a lower predictive performance in complex problems.\n",
    "\n",
    "### Variance Error\n",
    "\n",
    "It refers to the amount that the estimate of the objective function will change if different training data is used. The objective function is estimated from the training data by a Machine Learning algorithm, so we should expect the algorithm to have some variance. Ideally it shouldn't change too much from one training dataset to another, which means the algorithm is good at choosing the hidden underlying mapping between the input and output variables.\n",
    "\n",
    "Machine learning algorithms that have a large variance are heavily influenced by the details of the training data, this means that the details of the training influence the number and types of parameters used to characterize the mapping function.\n",
    "\n",
    "Generally, non-parametric machine learning algorithms that have a lot of flexibility have a lot of variation.\n",
    "\n",
    "- Low variance: suggests small changes in the estimate of the objective function with changes in the training data set.\n",
    "- High variance: suggests large changes in the estimate of the objective function with changes in the training data set.\n",
    "Low variance machine learning algorithms include: linear regression, linear discriminant analysis, and logistic regression.\n",
    "\n",
    "On the other hand, the algorithms with high variance are: decision trees, k-nearest neighbors and support vector machines."
   ]
  },
  {
   "cell_type": "markdown",
   "id": "f6ee9c76",
   "metadata": {},
   "source": [
    "<img src=\"https://nvsyashwanth.github.io/machinelearningmaster/assets/images/bias_variance.jpg\" width=\"400\">"
   ]
  },
  {
   "cell_type": "markdown",
   "id": "94b75a54",
   "metadata": {
    "lang": "en"
   },
   "source": [
    "## Types of Machine Learning\n",
    "**- Supervised**\n",
    "The model is trained with labeled data, that is, with data whose basic truth is known. When presented with data and a label, the model infers patterns.\n",
    "\n",
    "**- Unsupervised**\n",
    "There are no basic truths. The model looks for previously undetected patterns, with which to separate the different data points into different clusters.\n",
    "\n",
    "**- Reinforcement**\n",
    "There is also no basic truth. The model's action is valued and a reward or punishment is given accordingly. The goal of the model is to get as many rewards as possible."
   ]
  },
  {
   "cell_type": "markdown",
   "id": "794bb12e",
   "metadata": {
    "lang": "en"
   },
   "source": [
    "## Features\n",
    "**Features** are independent individual variables that act as input to your system. Prediction models use features to\n",
    "make predictions.\n",
    "\n",
    "**Target**\n",
    "The goal is the output of the input variables. They can be the individual classes to which the input variables are assigned in the case of a classification problem or the range of output values ​​in a regression problem."
   ]
  },
  {
   "cell_type": "markdown",
   "id": "b69f061c",
   "metadata": {
    "lang": "en"
   },
   "source": [
    "## Underfitting and Overfitting\n",
    "Splitting a data set can also be important to detect if your model suffers from one of two common problems, called underfitting and overfitting:\n",
    "\n",
    "**underfitting** is usually the consequence of a model being unable to encapsulate relationships between data. For example, this can occur when trying to represent nonlinear relationships with a linear model. Underfitted models are likely to perform poorly on both the training and test sets.\n",
    "\n",
    "**overfitting** usually occurs when a model has an excessively complex structure and learns both relationships between data and noise. These models tend to have poor generalization ability. Although they work well with training data, they tend to perform poorly with unseen (test) data."
   ]
  },
  {
   "cell_type": "markdown",
   "id": "42891daf",
   "metadata": {},
   "source": [
    "<img src=\"https://community.alteryx.com/t5/image/serverpage/image-id/52874iE986B6E19F3248CF?v=v2\" width=\"500\">"
   ]
  },
  {
   "cell_type": "markdown",
   "id": "1d818b71",
   "metadata": {
    "lang": "en"
   },
   "source": [
    "Bias and variance in machine learning --> https://www.analyticslane.com/2019/05/24/the-concepts-of-bias-and-variance-in-machine-learning/"
   ]
  },
  {
   "cell_type": "markdown",
   "id": "97bb69f4",
   "metadata": {
    "lang": "en"
   },
   "source": [
    "## Let's do it?"
   ]
  },
  {
   "cell_type": "markdown",
   "id": "e3cc9340",
   "metadata": {
    "lang": "en"
   },
   "source": [
    "### Let's practice ML with a regression example"
   ]
  },
  {
   "cell_type": "code",
   "execution_count": 239,
   "id": "8e4ad270",
   "metadata": {},
   "outputs": [],
   "source": [
    "import pandas as pd\n",
    "import seaborn as sns"
   ]
  },
  {
   "cell_type": "code",
   "execution_count": 238,
   "id": "b6ee1ce9",
   "metadata": {},
   "outputs": [],
   "source": [
    "boston = pd.read_csv(\"../datasets/boston.csv\")"
   ]
  },
  {
   "cell_type": "markdown",
   "id": "4eb3fc2d",
   "metadata": {},
   "source": [
    "[Datasets source](https://scikit-learn.org/stable/datasets/toy_dataset.html#boston-house-prices-dataset)"
   ]
  },
  {
   "cell_type": "markdown",
   "id": "47d3c508",
   "metadata": {
    "lang": "en"
   },
   "source": [
    "### We load a dataset"
   ]
  },
  {
   "cell_type": "code",
   "execution_count": 56,
   "id": "46f166e2",
   "metadata": {},
   "outputs": [
    {
     "data": {
      "text/html": [
       "<div>\n",
       "<style scoped>\n",
       "    .dataframe tbody tr th:only-of-type {\n",
       "        vertical-align: middle;\n",
       "    }\n",
       "\n",
       "    .dataframe tbody tr th {\n",
       "        vertical-align: top;\n",
       "    }\n",
       "\n",
       "    .dataframe thead th {\n",
       "        text-align: right;\n",
       "    }\n",
       "</style>\n",
       "<table border=\"1\" class=\"dataframe\">\n",
       "  <thead>\n",
       "    <tr style=\"text-align: right;\">\n",
       "      <th></th>\n",
       "      <th>CRIM</th>\n",
       "      <th>ZN</th>\n",
       "      <th>INDUS</th>\n",
       "      <th>CHAS</th>\n",
       "      <th>NOX</th>\n",
       "      <th>RM</th>\n",
       "      <th>AGE</th>\n",
       "      <th>DIS</th>\n",
       "      <th>RAD</th>\n",
       "      <th>TAX</th>\n",
       "      <th>PTRATIO</th>\n",
       "      <th>B</th>\n",
       "      <th>LSTAT</th>\n",
       "    </tr>\n",
       "  </thead>\n",
       "  <tbody>\n",
       "    <tr>\n",
       "      <th>0</th>\n",
       "      <td>0.00632</td>\n",
       "      <td>18.0</td>\n",
       "      <td>2.31</td>\n",
       "      <td>0.0</td>\n",
       "      <td>0.538</td>\n",
       "      <td>6.575</td>\n",
       "      <td>65.2</td>\n",
       "      <td>4.0900</td>\n",
       "      <td>1.0</td>\n",
       "      <td>296.0</td>\n",
       "      <td>15.3</td>\n",
       "      <td>396.90</td>\n",
       "      <td>4.98</td>\n",
       "    </tr>\n",
       "    <tr>\n",
       "      <th>1</th>\n",
       "      <td>0.02731</td>\n",
       "      <td>0.0</td>\n",
       "      <td>7.07</td>\n",
       "      <td>0.0</td>\n",
       "      <td>0.469</td>\n",
       "      <td>6.421</td>\n",
       "      <td>78.9</td>\n",
       "      <td>4.9671</td>\n",
       "      <td>2.0</td>\n",
       "      <td>242.0</td>\n",
       "      <td>17.8</td>\n",
       "      <td>396.90</td>\n",
       "      <td>9.14</td>\n",
       "    </tr>\n",
       "    <tr>\n",
       "      <th>2</th>\n",
       "      <td>0.02729</td>\n",
       "      <td>0.0</td>\n",
       "      <td>7.07</td>\n",
       "      <td>0.0</td>\n",
       "      <td>0.469</td>\n",
       "      <td>7.185</td>\n",
       "      <td>61.1</td>\n",
       "      <td>4.9671</td>\n",
       "      <td>2.0</td>\n",
       "      <td>242.0</td>\n",
       "      <td>17.8</td>\n",
       "      <td>392.83</td>\n",
       "      <td>4.03</td>\n",
       "    </tr>\n",
       "    <tr>\n",
       "      <th>3</th>\n",
       "      <td>0.03237</td>\n",
       "      <td>0.0</td>\n",
       "      <td>2.18</td>\n",
       "      <td>0.0</td>\n",
       "      <td>0.458</td>\n",
       "      <td>6.998</td>\n",
       "      <td>45.8</td>\n",
       "      <td>6.0622</td>\n",
       "      <td>3.0</td>\n",
       "      <td>222.0</td>\n",
       "      <td>18.7</td>\n",
       "      <td>394.63</td>\n",
       "      <td>2.94</td>\n",
       "    </tr>\n",
       "    <tr>\n",
       "      <th>4</th>\n",
       "      <td>0.06905</td>\n",
       "      <td>0.0</td>\n",
       "      <td>2.18</td>\n",
       "      <td>0.0</td>\n",
       "      <td>0.458</td>\n",
       "      <td>7.147</td>\n",
       "      <td>54.2</td>\n",
       "      <td>6.0622</td>\n",
       "      <td>3.0</td>\n",
       "      <td>222.0</td>\n",
       "      <td>18.7</td>\n",
       "      <td>396.90</td>\n",
       "      <td>5.33</td>\n",
       "    </tr>\n",
       "    <tr>\n",
       "      <th>...</th>\n",
       "      <td>...</td>\n",
       "      <td>...</td>\n",
       "      <td>...</td>\n",
       "      <td>...</td>\n",
       "      <td>...</td>\n",
       "      <td>...</td>\n",
       "      <td>...</td>\n",
       "      <td>...</td>\n",
       "      <td>...</td>\n",
       "      <td>...</td>\n",
       "      <td>...</td>\n",
       "      <td>...</td>\n",
       "      <td>...</td>\n",
       "    </tr>\n",
       "    <tr>\n",
       "      <th>501</th>\n",
       "      <td>0.06263</td>\n",
       "      <td>0.0</td>\n",
       "      <td>11.93</td>\n",
       "      <td>0.0</td>\n",
       "      <td>0.573</td>\n",
       "      <td>6.593</td>\n",
       "      <td>69.1</td>\n",
       "      <td>2.4786</td>\n",
       "      <td>1.0</td>\n",
       "      <td>273.0</td>\n",
       "      <td>21.0</td>\n",
       "      <td>391.99</td>\n",
       "      <td>9.67</td>\n",
       "    </tr>\n",
       "    <tr>\n",
       "      <th>502</th>\n",
       "      <td>0.04527</td>\n",
       "      <td>0.0</td>\n",
       "      <td>11.93</td>\n",
       "      <td>0.0</td>\n",
       "      <td>0.573</td>\n",
       "      <td>6.120</td>\n",
       "      <td>76.7</td>\n",
       "      <td>2.2875</td>\n",
       "      <td>1.0</td>\n",
       "      <td>273.0</td>\n",
       "      <td>21.0</td>\n",
       "      <td>396.90</td>\n",
       "      <td>9.08</td>\n",
       "    </tr>\n",
       "    <tr>\n",
       "      <th>503</th>\n",
       "      <td>0.06076</td>\n",
       "      <td>0.0</td>\n",
       "      <td>11.93</td>\n",
       "      <td>0.0</td>\n",
       "      <td>0.573</td>\n",
       "      <td>6.976</td>\n",
       "      <td>91.0</td>\n",
       "      <td>2.1675</td>\n",
       "      <td>1.0</td>\n",
       "      <td>273.0</td>\n",
       "      <td>21.0</td>\n",
       "      <td>396.90</td>\n",
       "      <td>5.64</td>\n",
       "    </tr>\n",
       "    <tr>\n",
       "      <th>504</th>\n",
       "      <td>0.10959</td>\n",
       "      <td>0.0</td>\n",
       "      <td>11.93</td>\n",
       "      <td>0.0</td>\n",
       "      <td>0.573</td>\n",
       "      <td>6.794</td>\n",
       "      <td>89.3</td>\n",
       "      <td>2.3889</td>\n",
       "      <td>1.0</td>\n",
       "      <td>273.0</td>\n",
       "      <td>21.0</td>\n",
       "      <td>393.45</td>\n",
       "      <td>6.48</td>\n",
       "    </tr>\n",
       "    <tr>\n",
       "      <th>505</th>\n",
       "      <td>0.04741</td>\n",
       "      <td>0.0</td>\n",
       "      <td>11.93</td>\n",
       "      <td>0.0</td>\n",
       "      <td>0.573</td>\n",
       "      <td>6.030</td>\n",
       "      <td>80.8</td>\n",
       "      <td>2.5050</td>\n",
       "      <td>1.0</td>\n",
       "      <td>273.0</td>\n",
       "      <td>21.0</td>\n",
       "      <td>396.90</td>\n",
       "      <td>7.88</td>\n",
       "    </tr>\n",
       "  </tbody>\n",
       "</table>\n",
       "<p>506 rows × 13 columns</p>\n",
       "</div>"
      ],
      "text/plain": [
       "        CRIM    ZN  INDUS  CHAS    NOX     RM   AGE     DIS  RAD    TAX  \\\n",
       "0    0.00632  18.0   2.31   0.0  0.538  6.575  65.2  4.0900  1.0  296.0   \n",
       "1    0.02731   0.0   7.07   0.0  0.469  6.421  78.9  4.9671  2.0  242.0   \n",
       "2    0.02729   0.0   7.07   0.0  0.469  7.185  61.1  4.9671  2.0  242.0   \n",
       "3    0.03237   0.0   2.18   0.0  0.458  6.998  45.8  6.0622  3.0  222.0   \n",
       "4    0.06905   0.0   2.18   0.0  0.458  7.147  54.2  6.0622  3.0  222.0   \n",
       "..       ...   ...    ...   ...    ...    ...   ...     ...  ...    ...   \n",
       "501  0.06263   0.0  11.93   0.0  0.573  6.593  69.1  2.4786  1.0  273.0   \n",
       "502  0.04527   0.0  11.93   0.0  0.573  6.120  76.7  2.2875  1.0  273.0   \n",
       "503  0.06076   0.0  11.93   0.0  0.573  6.976  91.0  2.1675  1.0  273.0   \n",
       "504  0.10959   0.0  11.93   0.0  0.573  6.794  89.3  2.3889  1.0  273.0   \n",
       "505  0.04741   0.0  11.93   0.0  0.573  6.030  80.8  2.5050  1.0  273.0   \n",
       "\n",
       "     PTRATIO       B  LSTAT  \n",
       "0       15.3  396.90   4.98  \n",
       "1       17.8  396.90   9.14  \n",
       "2       17.8  392.83   4.03  \n",
       "3       18.7  394.63   2.94  \n",
       "4       18.7  396.90   5.33  \n",
       "..       ...     ...    ...  \n",
       "501     21.0  391.99   9.67  \n",
       "502     21.0  396.90   9.08  \n",
       "503     21.0  396.90   5.64  \n",
       "504     21.0  393.45   6.48  \n",
       "505     21.0  396.90   7.88  \n",
       "\n",
       "[506 rows x 13 columns]"
      ]
     },
     "execution_count": 56,
     "metadata": {},
     "output_type": "execute_result"
    }
   ],
   "source": [
    "boston"
   ]
  },
  {
   "cell_type": "code",
   "execution_count": 58,
   "id": "b871805e",
   "metadata": {},
   "outputs": [
    {
     "data": {
      "image/png": "[encoded data removed]",
      "text/plain": [
       "<Figure size 432x288 with 1 Axes>"
      ]
     },
     "metadata": {
      "needs_background": "light"
     },
     "output_type": "display_data"
    }
   ],
   "source": [
    "sns.histplot(boston[\"ZN\"]);"
   ]
  },
  {
   "cell_type": "markdown",
   "id": "135909da",
   "metadata": {},
   "source": [
    "- CRIM - per capita crime rate by town\n",
    "- ZN - proportion of residential land zoned for lots over 25,000 sq.ft.\n",
    "- INDUS - proportion of non-retail business acres per town.\n",
    "- CHAS - Charles River dummy variable (1 if tract bounds river; 0 otherwise)\n",
    "- NOX - nitric oxides concentration (parts per 10 million)\n",
    "- RM - average number of rooms per dwelling\n",
    "- AGE - proportion of owner-occupied units built prior to 1940\n",
    "- DIS - weighted distances to five Boston employment centres\n",
    "- RAD - index of accessibility to radial highways\n",
    "- TAX - full-value property-tax rate per 10,000\n",
    "- PTRATIO - pupil-teacher ratio by town\n",
    "- B - 1000(Bk - 0.63)^2 where Bk is the proportion of blacks by town\n",
    "- LSTAT - % lower status of the population\n",
    "- MEDV - Median value of owner-occupied homes in 1000's"
   ]
  },
  {
   "cell_type": "markdown",
   "id": "0a57701d",
   "metadata": {
    "lang": "en"
   },
   "source": [
    "### Train / Test Split - What is this?"
   ]
  },
  {
   "cell_type": "markdown",
   "id": "d75e15f7",
   "metadata": {},
   "source": [
    "<img src=\"https://www.dataquest.io/wp-content/uploads/kaggle_train_test_split.svg\" width=\"500\">"
   ]
  },
  {
   "cell_type": "markdown",
   "id": "f3ab1891",
   "metadata": {
    "lang": "en"
   },
   "source": [
    "The training-test split is a technique for evaluating the performance of a machine learning algorithm.\n",
    "\n",
    "It can be used for classification or regression problems and can be used for any supervised learning algorithm.\n",
    "\n",
    "The procedure consists of taking a data set and dividing it into two subsets. The first subset is used to fit the model and is called the training data set. The second subset is not used to train the model; instead, the model is given the input from the dataset, then predictions are made and compared to expected values. This second data set is called the test data set.\n",
    "\n",
    "Training dataset: Used to fit the machine learning model.\n",
    "Test dataset: Used to evaluate the fitted machine learning model.\n",
    "The goal is to estimate the performance of the machine learning model with new data: data not used to train the model.\n",
    "\n",
    "This is how we hope to use the model in practice. That is, fit it on the available data with known inputs and outputs, and then make predictions about new examples in the future where we don't have the expected output or target values.\n",
    "\n",
    "The training-test procedure is adequate when a sufficiently large data set is available."
   ]
  },
  {
   "cell_type": "markdown",
   "id": "e3b7641d",
   "metadata": {
    "lang": "en"
   },
   "source": [
    "### Preparing data for train test split"
   ]
  },
  {
   "cell_type": "code",
   "execution_count": 87,
   "id": "99da4d94",
   "metadata": {},
   "outputs": [],
   "source": [
    "X = boston.drop(\"MEDV\", axis=1) #X: predictive variableS, features\n",
    "y = boston.MEDV # y: target"
   ]
  },
  {
   "cell_type": "markdown",
   "id": "0dd02e98",
   "metadata": {
    "lang": "en"
   },
   "source": [
    "### Optional train test split parameters\n",
    "\n",
    "**train_size** is the number that defines the size of the training set. If you provide a float then it must be between 0.0 and 1.0 and will define the part of the dataset used for testing. If you provide an int, then it will represent the total number of training samples. The default value is None.\n",
    "\n",
    "**test_size** is the number that defines the size of the test suite. It is very similar to train_size. You must provide either train_size or test_size. If neither is provided, the default portion of the dataset to use for testing is 0.25, or 25 percent.\n",
    "\n",
    "**random_state** is the object that controls randomness during splitting. It can be an int or an instance of RandomState. The default value is None."
   ]
  },
  {
   "cell_type": "code",
   "execution_count": 273,
   "id": "private-subdivision",
   "metadata": {},
   "outputs": [],
   "source": [
    "from sklearn.model_selection import train_test_split"
   ]
  },
  {
   "cell_type": "code",
   "execution_count": 274,
   "id": "52f65e30",
   "metadata": {},
   "outputs": [],
   "source": [
    "X_train, X_test, y_train, y_test = train_test_split(X, y, test_size=0.2)"
   ]
  },
  {
   "cell_type": "code",
   "execution_count": 275,
   "id": "5b5913b7",
   "metadata": {},
   "outputs": [
    {
     "data": {
      "text/plain": [
       "(506, 13)"
      ]
     },
     "execution_count": 275,
     "metadata": {},
     "output_type": "execute_result"
    }
   ],
   "source": [
    "X.shape #Features"
   ]
  },
  {
   "cell_type": "code",
   "execution_count": 276,
   "id": "cf4af957",
   "metadata": {},
   "outputs": [
    {
     "data": {
      "text/plain": [
       "(506,)"
      ]
     },
     "execution_count": 276,
     "metadata": {},
     "output_type": "execute_result"
    }
   ],
   "source": [
    "y.shape"
   ]
  },
  {
   "cell_type": "code",
   "execution_count": 277,
   "id": "cea7ee94",
   "metadata": {},
   "outputs": [
    {
     "data": {
      "text/plain": [
       "(404, 13)"
      ]
     },
     "execution_count": 277,
     "metadata": {},
     "output_type": "execute_result"
    }
   ],
   "source": [
    "X_train.shape"
   ]
  },
  {
   "cell_type": "code",
   "execution_count": 278,
   "id": "f34a2bbc",
   "metadata": {},
   "outputs": [
    {
     "data": {
      "text/plain": [
       "(102, 13)"
      ]
     },
     "execution_count": 278,
     "metadata": {},
     "output_type": "execute_result"
    }
   ],
   "source": [
    "X_test.shape"
   ]
  },
  {
   "cell_type": "code",
   "execution_count": 279,
   "id": "402d9ed4",
   "metadata": {
    "scrolled": true
   },
   "outputs": [
    {
     "data": {
      "text/plain": [
       "(404,)"
      ]
     },
     "execution_count": 279,
     "metadata": {},
     "output_type": "execute_result"
    }
   ],
   "source": [
    "y_train.shape"
   ]
  },
  {
   "cell_type": "code",
   "execution_count": 280,
   "id": "c6bfe8e7",
   "metadata": {},
   "outputs": [
    {
     "data": {
      "text/plain": [
       "(102,)"
      ]
     },
     "execution_count": 280,
     "metadata": {},
     "output_type": "execute_result"
    }
   ],
   "source": [
    "y_test.shape"
   ]
  },
  {
   "cell_type": "markdown",
   "id": "2813454a",
   "metadata": {
    "lang": "en"
   },
   "source": [
    "### We already have the dataset divided, now we are going to import a model and train it"
   ]
  },
  {
   "cell_type": "code",
   "execution_count": 281,
   "id": "ultimate-tumor",
   "metadata": {},
   "outputs": [],
   "source": [
    "from sklearn.linear_model import LinearRegression as LinReg"
   ]
  },
  {
   "cell_type": "code",
   "execution_count": 282,
   "id": "26211249",
   "metadata": {},
   "outputs": [],
   "source": [
    "lr = LinReg()"
   ]
  },
  {
   "cell_type": "code",
   "execution_count": 283,
   "id": "e8b79787",
   "metadata": {},
   "outputs": [
    {
     "data": {
      "text/html": [
       "<style>#sk-container-id-11 {color: black;background-color: white;}#sk-container-id-11 pre{padding: 0;}#sk-container-id-11 div.sk-toggleable {background-color: white;}#sk-container-id-11 label.sk-toggleable__label {cursor: pointer;display: block;width: 100%;margin-bottom: 0;padding: 0.3em;box-sizing: border-box;text-align: center;}#sk-container-id-11 label.sk-toggleable__label-arrow:before {content: \"▸\";float: left;margin-right: 0.25em;color: #696969;}#sk-container-id-11 label.sk-toggleable__label-arrow:hover:before {color: black;}#sk-container-id-11 div.sk-estimator:hover label.sk-toggleable__label-arrow:before {color: black;}#sk-container-id-11 div.sk-toggleable__content {max-height: 0;max-width: 0;overflow: hidden;text-align: left;background-color: #f0f8ff;}#sk-container-id-11 div.sk-toggleable__content pre {margin: 0.2em;color: black;border-radius: 0.25em;background-color: #f0f8ff;}#sk-container-id-11 input.sk-toggleable__control:checked~div.sk-toggleable__content {max-height: 200px;max-width: 100%;overflow: auto;}#sk-container-id-11 input.sk-toggleable__control:checked~label.sk-toggleable__label-arrow:before {content: \"▾\";}#sk-container-id-11 div.sk-estimator input.sk-toggleable__control:checked~label.sk-toggleable__label {background-color: #d4ebff;}#sk-container-id-11 div.sk-label input.sk-toggleable__control:checked~label.sk-toggleable__label {background-color: #d4ebff;}#sk-container-id-11 input.sk-hidden--visually {border: 0;clip: rect(1px 1px 1px 1px);clip: rect(1px, 1px, 1px, 1px);height: 1px;margin: -1px;overflow: hidden;padding: 0;position: absolute;width: 1px;}#sk-container-id-11 div.sk-estimator {font-family: monospace;background-color: #f0f8ff;border: 1px dotted black;border-radius: 0.25em;box-sizing: border-box;margin-bottom: 0.5em;}#sk-container-id-11 div.sk-estimator:hover {background-color: #d4ebff;}#sk-container-id-11 div.sk-parallel-item::after {content: \"\";width: 100%;border-bottom: 1px solid gray;flex-grow: 1;}#sk-container-id-11 div.sk-label:hover label.sk-toggleable__label {background-color: #d4ebff;}#sk-container-id-11 div.sk-serial::before {content: \"\";position: absolute;border-left: 1px solid gray;box-sizing: border-box;top: 0;bottom: 0;left: 50%;z-index: 0;}#sk-container-id-11 div.sk-serial {display: flex;flex-direction: column;align-items: center;background-color: white;padding-right: 0.2em;padding-left: 0.2em;position: relative;}#sk-container-id-11 div.sk-item {position: relative;z-index: 1;}#sk-container-id-11 div.sk-parallel {display: flex;align-items: stretch;justify-content: center;background-color: white;position: relative;}#sk-container-id-11 div.sk-item::before, #sk-container-id-11 div.sk-parallel-item::before {content: \"\";position: absolute;border-left: 1px solid gray;box-sizing: border-box;top: 0;bottom: 0;left: 50%;z-index: -1;}#sk-container-id-11 div.sk-parallel-item {display: flex;flex-direction: column;z-index: 1;position: relative;background-color: white;}#sk-container-id-11 div.sk-parallel-item:first-child::after {align-self: flex-end;width: 50%;}#sk-container-id-11 div.sk-parallel-item:last-child::after {align-self: flex-start;width: 50%;}#sk-container-id-11 div.sk-parallel-item:only-child::after {width: 0;}#sk-container-id-11 div.sk-dashed-wrapped {border: 1px dashed gray;margin: 0 0.4em 0.5em 0.4em;box-sizing: border-box;padding-bottom: 0.4em;background-color: white;}#sk-container-id-11 div.sk-label label {font-family: monospace;font-weight: bold;display: inline-block;line-height: 1.2em;}#sk-container-id-11 div.sk-label-container {text-align: center;}#sk-container-id-11 div.sk-container {/* jupyter's `normalize.less` sets `[hidden] { display: none; }` but bootstrap.min.css set `[hidden] { display: none !important; }` so we also need the `!important` here to be able to override the default hidden behavior on the sphinx rendered scikit-learn.org. See: https://github.com/scikit-learn/scikit-learn/issues/21755 */display: inline-block !important;position: relative;}#sk-container-id-11 div.sk-text-repr-fallback {display: none;}</style><div id=\"sk-container-id-11\" class=\"sk-top-container\"><div class=\"sk-text-repr-fallback\"><pre>LinearRegression()</pre><b>In a Jupyter environment, please rerun this cell to show the HTML representation or trust the notebook. <br />On GitHub, the HTML representation is unable to render, please try loading this page with nbviewer.org.</b></div><div class=\"sk-container\" hidden><div class=\"sk-item\"><div class=\"sk-estimator sk-toggleable\"><input class=\"sk-toggleable__control sk-hidden--visually\" id=\"sk-estimator-id-11\" type=\"checkbox\" checked><label for=\"sk-estimator-id-11\" class=\"sk-toggleable__label sk-toggleable__label-arrow\">LinearRegression</label><div class=\"sk-toggleable__content\"><pre>LinearRegression()</pre></div></div></div></div></div>"
      ],
      "text/plain": [
       "LinearRegression()"
      ]
     },
     "execution_count": 283,
     "metadata": {},
     "output_type": "execute_result"
    }
   ],
   "source": [
    "lr.fit(X_train, y_train)"
   ]
  },
  {
   "cell_type": "code",
   "execution_count": 284,
   "id": "48056e9c",
   "metadata": {},
   "outputs": [
    {
     "data": {
      "text/plain": [
       "array([-1.08771750e-01,  3.79354740e-02,  1.47824980e-02,  2.07298068e+00,\n",
       "       -1.58875930e+01,  3.70429048e+00,  3.28435748e-03, -1.40961681e+00,\n",
       "        3.06750523e-01, -1.19105524e-02, -8.43580344e-01,  8.53832797e-03,\n",
       "       -5.81796128e-01])"
      ]
     },
     "execution_count": 284,
     "metadata": {},
     "output_type": "execute_result"
    }
   ],
   "source": [
    "lr.coef_"
   ]
  },
  {
   "cell_type": "code",
   "execution_count": 285,
   "id": "af14e6d4",
   "metadata": {},
   "outputs": [
    {
     "data": {
      "text/plain": [
       "34.66038337903436"
      ]
     },
     "execution_count": 285,
     "metadata": {},
     "output_type": "execute_result"
    }
   ],
   "source": [
    "lr.intercept_"
   ]
  },
  {
   "cell_type": "markdown",
   "id": "5570f80d",
   "metadata": {
    "lang": "en"
   },
   "source": [
    "### We create our predictions"
   ]
  },
  {
   "cell_type": "code",
   "execution_count": 286,
   "id": "343209e5",
   "metadata": {},
   "outputs": [],
   "source": [
    "y_pred = lr.predict(X_test)"
   ]
  },
  {
   "cell_type": "code",
   "execution_count": 287,
   "id": "9bceec04",
   "metadata": {},
   "outputs": [
    {
     "data": {
      "text/plain": [
       "array([31.26819172, 16.38028639, 22.29383377, 19.21000016, 18.85025394,\n",
       "       39.49383624, 22.17074668, 13.19547176, 35.98139948, 38.32434616,\n",
       "       27.61930457, 22.11926061, 23.71635405, 13.17992444, 20.19681219,\n",
       "       13.30364477, 18.34779817, 18.54384083, 40.61271696, 19.48199853,\n",
       "       27.18604751, 27.99779736, 18.5940802 , 18.95529222, 28.25871596,\n",
       "       42.15895811, 21.45685037, 21.55046162, 41.24814678, 19.92978387,\n",
       "       18.57545839, 20.7600356 , 16.948982  , 23.39781302, 19.26939932,\n",
       "       24.59255376,  3.24477589, 19.90543229, 25.37677345, 22.42036769,\n",
       "       15.94202273, 34.31042373, 17.46411634, 15.88313994,  8.487408  ,\n",
       "       26.47489821, 29.50638851, 20.42956052, 19.3704445 , 37.66560282,\n",
       "       24.46161362, 25.13934828, 19.8363653 , 22.72098417, 16.7480394 ,\n",
       "       18.60787996, 19.88756878, 18.33654177, 15.89906667, 17.14386642,\n",
       "       16.47998717, 20.50722499, 31.9921317 , 11.66340189, 25.64877592,\n",
       "       28.45882797, 35.17796344, 26.74338522, 39.99064701, 17.59745968,\n",
       "       26.35918386, 34.0386008 , 22.93272868, 42.94220883, 13.43203156,\n",
       "       20.61610596, 23.37376894, 15.70287583, 21.74609895, 40.10088073,\n",
       "       33.50403461, 11.61042647, 20.33542848, 21.87372831, 24.07213005,\n",
       "       11.42548063, 25.27516262, 24.67644492, 26.48262913, 22.87202918,\n",
       "       24.64160095, 25.72243706, 25.26564157, 20.90985146, 22.99357115,\n",
       "        9.46954769, 30.37921869, 29.99963963, 20.09128357,  0.04433341,\n",
       "       20.33115506,  9.86325032])"
      ]
     },
     "execution_count": 287,
     "metadata": {},
     "output_type": "execute_result"
    }
   ],
   "source": [
    "y_pred"
   ]
  },
  {
   "cell_type": "code",
   "execution_count": 288,
   "id": "ef4c1861",
   "metadata": {},
   "outputs": [
    {
     "data": {
      "text/plain": [
       "(102,)"
      ]
     },
     "execution_count": 288,
     "metadata": {},
     "output_type": "execute_result"
    }
   ],
   "source": [
    "y_pred.shape"
   ]
  },
  {
   "cell_type": "markdown",
   "id": "7e96d06c",
   "metadata": {
    "lang": "en"
   },
   "source": [
    "### We measure our model"
   ]
  },
  {
   "cell_type": "code",
   "execution_count": 289,
   "id": "treated-remedy",
   "metadata": {},
   "outputs": [],
   "source": [
    "from sklearn import metrics\n",
    "import numpy as np"
   ]
  },
  {
   "cell_type": "code",
   "execution_count": 290,
   "id": "ae51869b",
   "metadata": {},
   "outputs": [
    {
     "name": "stdout",
     "output_type": "stream",
     "text": [
      "MAE, error: 3.4734213429669447\n",
      "MSE, error: 22.41064559132874\n",
      "RMSE, error: 4.733988338740257\n",
      "r2: 0.7690211003873179\n"
     ]
    }
   ],
   "source": [
    "print(f\"MAE, error: {metrics.mean_absolute_error(y_test, y_pred)}\")\n",
    "print(f\"MSE, error: {metrics.mean_squared_error(y_test, y_pred)}\")\n",
    "print(f\"RMSE, error: {np.sqrt(metrics.mean_squared_error(y_test, y_pred))}\")\n",
    "print(f\"r2: {metrics.r2_score(y_test, y_pred)}\")"
   ]
  },
  {
   "cell_type": "markdown",
   "id": "85fae727",
   "metadata": {
    "lang": "en"
   },
   "source": [
    "#### Example with a real case of a colleague who gives me data from a house in Boston"
   ]
  },
  {
   "cell_type": "code",
   "execution_count": 291,
   "id": "8bd120cc",
   "metadata": {},
   "outputs": [
    {
     "data": {
      "text/html": [
       "<div>\n",
       "<style scoped>\n",
       "    .dataframe tbody tr th:only-of-type {\n",
       "        vertical-align: middle;\n",
       "    }\n",
       "\n",
       "    .dataframe tbody tr th {\n",
       "        vertical-align: top;\n",
       "    }\n",
       "\n",
       "    .dataframe thead th {\n",
       "        text-align: right;\n",
       "    }\n",
       "</style>\n",
       "<table border=\"1\" class=\"dataframe\">\n",
       "  <thead>\n",
       "    <tr style=\"text-align: right;\">\n",
       "      <th></th>\n",
       "      <th>CRIM</th>\n",
       "      <th>ZN</th>\n",
       "      <th>INDUS</th>\n",
       "      <th>CHAS</th>\n",
       "      <th>NOX</th>\n",
       "      <th>RM</th>\n",
       "      <th>AGE</th>\n",
       "      <th>DIS</th>\n",
       "      <th>RAD</th>\n",
       "      <th>TAX</th>\n",
       "      <th>PTRATIO</th>\n",
       "      <th>B</th>\n",
       "      <th>LSTAT</th>\n",
       "      <th>MEDV</th>\n",
       "    </tr>\n",
       "  </thead>\n",
       "  <tbody>\n",
       "    <tr>\n",
       "      <th>118</th>\n",
       "      <td>0.13058</td>\n",
       "      <td>0.0</td>\n",
       "      <td>10.01</td>\n",
       "      <td>0.0</td>\n",
       "      <td>0.547</td>\n",
       "      <td>5.872</td>\n",
       "      <td>73.1</td>\n",
       "      <td>2.4775</td>\n",
       "      <td>6.0</td>\n",
       "      <td>432.0</td>\n",
       "      <td>17.8</td>\n",
       "      <td>338.63</td>\n",
       "      <td>15.37</td>\n",
       "      <td>20.4</td>\n",
       "    </tr>\n",
       "  </tbody>\n",
       "</table>\n",
       "</div>"
      ],
      "text/plain": [
       "        CRIM   ZN  INDUS  CHAS    NOX     RM   AGE     DIS  RAD    TAX  \\\n",
       "118  0.13058  0.0  10.01   0.0  0.547  5.872  73.1  2.4775  6.0  432.0   \n",
       "\n",
       "     PTRATIO       B  LSTAT  MEDV  \n",
       "118     17.8  338.63  15.37  20.4  "
      ]
     },
     "execution_count": 291,
     "metadata": {},
     "output_type": "execute_result"
    }
   ],
   "source": [
    "boston.sample()"
   ]
  },
  {
   "cell_type": "code",
   "execution_count": 292,
   "id": "b4e5de65",
   "metadata": {},
   "outputs": [],
   "source": [
    "data = [{\n",
    "    \"CRIM\": 0.04337,\n",
    "    \"ZN\": 30,\n",
    "    \"INDUS\": 8,\n",
    "    \"CHAS\": 0, \n",
    "    \"NOX\": 0.2345,\n",
    "    \"RM\": 9.8,\n",
    "    \"AGE\":30,\n",
    "    \"DIS\": 3.55,\n",
    "    \"RAD\": 4.0,\n",
    "    \"TAX\": 345, \n",
    "    \"PTRATIO\": 19.0,\n",
    "    \"B\":343,\n",
    "    \"LSTAT\": 4.5,\n",
    "    }]"
   ]
  },
  {
   "cell_type": "code",
   "execution_count": 293,
   "id": "2b402725",
   "metadata": {},
   "outputs": [
    {
     "data": {
      "text/html": [
       "<div>\n",
       "<style scoped>\n",
       "    .dataframe tbody tr th:only-of-type {\n",
       "        vertical-align: middle;\n",
       "    }\n",
       "\n",
       "    .dataframe tbody tr th {\n",
       "        vertical-align: top;\n",
       "    }\n",
       "\n",
       "    .dataframe thead th {\n",
       "        text-align: right;\n",
       "    }\n",
       "</style>\n",
       "<table border=\"1\" class=\"dataframe\">\n",
       "  <thead>\n",
       "    <tr style=\"text-align: right;\">\n",
       "      <th></th>\n",
       "      <th>CRIM</th>\n",
       "      <th>ZN</th>\n",
       "      <th>INDUS</th>\n",
       "      <th>CHAS</th>\n",
       "      <th>NOX</th>\n",
       "      <th>RM</th>\n",
       "      <th>AGE</th>\n",
       "      <th>DIS</th>\n",
       "      <th>RAD</th>\n",
       "      <th>TAX</th>\n",
       "      <th>PTRATIO</th>\n",
       "      <th>B</th>\n",
       "      <th>LSTAT</th>\n",
       "    </tr>\n",
       "  </thead>\n",
       "  <tbody>\n",
       "    <tr>\n",
       "      <th>0</th>\n",
       "      <td>0.04337</td>\n",
       "      <td>30</td>\n",
       "      <td>8</td>\n",
       "      <td>0</td>\n",
       "      <td>0.2345</td>\n",
       "      <td>9.8</td>\n",
       "      <td>30</td>\n",
       "      <td>3.55</td>\n",
       "      <td>4.0</td>\n",
       "      <td>345</td>\n",
       "      <td>19.0</td>\n",
       "      <td>343</td>\n",
       "      <td>4.5</td>\n",
       "    </tr>\n",
       "  </tbody>\n",
       "</table>\n",
       "</div>"
      ],
      "text/plain": [
       "      CRIM  ZN  INDUS  CHAS     NOX   RM  AGE   DIS  RAD  TAX  PTRATIO    B  \\\n",
       "0  0.04337  30      8     0  0.2345  9.8   30  3.55  4.0  345     19.0  343   \n",
       "\n",
       "   LSTAT  \n",
       "0    4.5  "
      ]
     },
     "execution_count": 293,
     "metadata": {},
     "output_type": "execute_result"
    }
   ],
   "source": [
    "df.sample()"
   ]
  },
  {
   "cell_type": "code",
   "execution_count": 294,
   "id": "a1cd51a3",
   "metadata": {},
   "outputs": [
    {
     "data": {
      "text/plain": [
       "array([44.98318619])"
      ]
     },
     "execution_count": 294,
     "metadata": {},
     "output_type": "execute_result"
    }
   ],
   "source": [
    "df = pd.DataFrame(data)\n",
    "\n",
    "lr.predict(df) # My equation I found by training with the actual data"
   ]
  },
  {
   "cell_type": "markdown",
   "id": "dd821128",
   "metadata": {
    "lang": "en"
   },
   "source": [
    "## Extra! Training different models at the same time"
   ]
  },
  {
   "cell_type": "code",
   "execution_count": 295,
   "id": "designed-stomach",
   "metadata": {},
   "outputs": [],
   "source": [
    "from sklearn.linear_model import Ridge, Lasso\n",
    "\n",
    "from sklearn.linear_model import SGDRegressor\n",
    "\n",
    "from sklearn.neighbors import KNeighborsRegressor\n",
    "\n",
    "from sklearn.ensemble import GradientBoostingRegressor\n",
    "\n",
    "from sklearn.svm import SVR"
   ]
  },
  {
   "cell_type": "markdown",
   "id": "7b63a201",
   "metadata": {
    "lang": "en"
   },
   "source": [
    "### Store all the models we are going to train in a dictionary"
   ]
  },
  {
   "cell_type": "code",
   "execution_count": 296,
   "id": "84ed8459",
   "metadata": {},
   "outputs": [],
   "source": [
    "models = {\n",
    "    \"lr\": LinReg(),\n",
    "    \"ridge\": Ridge(),\n",
    "    \"lasso\": Lasso(),\n",
    "    \"sgd\": SGDRegressor(),\n",
    "    \"knn\": KNeighborsRegressor(),\n",
    "    \"grad\": GradientBoostingRegressor(),\n",
    "    \"svr\": SVR()\n",
    "}"
   ]
  },
  {
   "cell_type": "markdown",
   "id": "53e8c182",
   "metadata": {
    "lang": "en"
   },
   "source": [
    "### Iterate over the models to train them"
   ]
  },
  {
   "cell_type": "markdown",
   "id": "067bc0ac",
   "metadata": {},
   "source": [
    "<img src=\"https://www.dataquest.io/wp-content/uploads/kaggle_train_test_split.svg\" width=\"500\">"
   ]
  },
  {
   "cell_type": "code",
   "execution_count": 297,
   "id": "7a79dd06",
   "metadata": {},
   "outputs": [
    {
     "name": "stdout",
     "output_type": "stream",
     "text": [
      "Training 🏋️: LinearRegression() \n",
      "Training 🏋️: Ridge() \n",
      "Training 🏋️: Lasso() \n",
      "Training 🏋️: SGDRegressor() \n",
      "Training 🏋️: KNeighborsRegressor() \n",
      "Training 🏋️: GradientBoostingRegressor() \n",
      "Training 🏋️: SVR() \n"
     ]
    }
   ],
   "source": [
    "for model in models.values():\n",
    "    print(f\"Training 🏋️: {model} \")\n",
    "    model.fit(X_train, y_train)"
   ]
  },
  {
   "cell_type": "code",
   "execution_count": 298,
   "id": "a9e30ad2",
   "metadata": {},
   "outputs": [
    {
     "name": "stdout",
     "output_type": "stream",
     "text": [
      "------------lr------------\n",
      "\n",
      "MAE, error: 3.4734213429669447\n",
      "MSE, error: 22.41064559132874\n",
      "RMSE, error: 4.733988338740257\n",
      "r2: 0.7690211003873179\n",
      "\n",
      "\n",
      "------------ridge------------\n",
      "\n",
      "MAE, error: 3.5263108848512315\n",
      "MSE, error: 23.05139787128235\n",
      "RMSE, error: 4.801187131458463\n",
      "r2: 0.7624170846330699\n",
      "\n",
      "\n",
      "------------lasso------------\n",
      "\n",
      "MAE, error: 4.076670627189101\n",
      "MSE, error: 31.91737168018764\n",
      "RMSE, error: 5.649546148159836\n",
      "r2: 0.6710385089454436\n",
      "\n",
      "\n",
      "------------sgd------------\n",
      "\n",
      "MAE, error: 191498788715926.1\n",
      "MSE, error: 3.976229365359178e+28\n",
      "RMSE, error: 199404848621069.84\n",
      "r2: -4.0981643285352694e+26\n",
      "\n",
      "\n",
      "------------knn------------\n",
      "\n",
      "MAE, error: 4.129019607843137\n",
      "MSE, error: 35.14115294117647\n",
      "RMSE, error: 5.927997380328071\n",
      "r2: 0.6378120922757113\n",
      "\n",
      "\n",
      "------------grad------------\n",
      "\n",
      "MAE, error: 2.4655535574421377\n",
      "MSE, error: 18.154552126032563\n",
      "RMSE, error: 4.2608158991010825\n",
      "r2: 0.8128872077360152\n",
      "\n",
      "\n",
      "------------svr------------\n",
      "\n",
      "MAE, error: 5.425186705125722\n",
      "MSE, error: 78.56140916551296\n",
      "RMSE, error: 8.863487415544345\n",
      "r2: 0.19029428370894275\n",
      "\n",
      "\n"
     ]
    }
   ],
   "source": [
    "for name, model in models.items():\n",
    "    y_pred = model.predict(X_test)\n",
    "    print(f\"------------{name}------------\\n\")\n",
    "    print(f\"MAE, error: {metrics.mean_absolute_error(y_test, y_pred)}\")\n",
    "    print(f\"MSE, error: {metrics.mean_squared_error(y_test, y_pred)}\")\n",
    "    print(f\"RMSE, error: {np.sqrt(metrics.mean_squared_error(y_test, y_pred))}\")\n",
    "    print(f\"r2: {metrics.r2_score(y_test, y_pred)}\")\n",
    "    print(\"\\n\")"
   ]
  },
  {
   "cell_type": "code",
   "execution_count": 299,
   "id": "617d7b89",
   "metadata": {},
   "outputs": [],
   "source": [
    "# Gradient Boost regressor is the one that works best for\n",
    "# our data with a .2 split"
   ]
  },
  {
   "cell_type": "code",
   "execution_count": 300,
   "id": "e3bd5cc4",
   "metadata": {},
   "outputs": [],
   "source": [
    "from sklearn.datasets import load_diabetes"
   ]
  },
  {
   "cell_type": "code",
   "execution_count": null,
   "id": "bce499bc",
   "metadata": {},
   "outputs": [],
   "source": []
  },
  {
   "cell_type": "markdown",
   "id": "a18ea72b",
   "metadata": {
    "lang": "en"
   },
   "source": [
    "## Feature Selection"
   ]
  },
  {
   "cell_type": "code",
   "execution_count": 338,
   "id": "003082cd",
   "metadata": {},
   "outputs": [],
   "source": [
    "from sklearn.feature_selection import RFE"
   ]
  },
  {
   "cell_type": "code",
   "execution_count": null,
   "id": "de5dcd66",
   "metadata": {},
   "outputs": [],
   "source": [
    "from sklearn.datasets import make_regression\n",
    "from sklearn.linear_model import LinearRegression\n",
    "from sklearn.feature_selection import RFE\n",
    "from sklearn.model_selection import GridSearchCV\n",
    "\n",
    "X, y = make_regression(random_state=0)\n",
    "\n",
    "lm = LinearRegression()\n",
    "rfe = RFE(lm)\n",
    "\n",
    "grid = GridSearchCV(rfe, {\"n_features_to_select\": [3, 4]},\n",
    "                   scoring= 'neg_mean_squared_error')\n",
    "grid.fit(X, y)\n",
    "\n",
    "# This is how to get the support\n",
    "grid.best_estimator_.support_"
   ]
  },
  {
   "cell_type": "markdown",
   "id": "2fca4400",
   "metadata": {
    "lang": "en"
   },
   "source": [
    "Given an external estimator that assigns weights to features (for example, the coefficients of a linear model), the goal of recursive feature elimination (RFE) is to select them by recursively considering smaller and smaller sets of features. First, the estimator is trained with the initial set of features and the importance of each of them is obtained through some specific or callable attribute. The less important features of the current set are then removed. This procedure is repeated recursively on the pruned set until the desired number of features to select is reached."
   ]
  },
  {
   "cell_type": "markdown",
   "id": "a8ecdf71",
   "metadata": {},
   "source": [
    "[Docs](https://scikit-learn.org/stable/modules/generated/sklearn.feature_selection.SelectFromModel.html)"
   ]
  },
  {
   "cell_type": "code",
   "execution_count": 339,
   "id": "804a2a03",
   "metadata": {},
   "outputs": [
    {
     "data": {
      "text/plain": [
       "{'lr': LinearRegression(),\n",
       " 'ridge': Ridge(),\n",
       " 'lasso': Lasso(),\n",
       " 'sgd': SGDRegressor(),\n",
       " 'knn': KNeighborsRegressor(),\n",
       " 'grad': GradientBoostingRegressor(),\n",
       " 'svr': SVR()}"
      ]
     },
     "execution_count": 339,
     "metadata": {},
     "output_type": "execute_result"
    }
   ],
   "source": [
    "models"
   ]
  },
  {
   "cell_type": "code",
   "execution_count": 348,
   "id": "ea892fd6",
   "metadata": {},
   "outputs": [
    {
     "data": {
      "text/html": [
       "<style>#sk-container-id-15 {color: black;background-color: white;}#sk-container-id-15 pre{padding: 0;}#sk-container-id-15 div.sk-toggleable {background-color: white;}#sk-container-id-15 label.sk-toggleable__label {cursor: pointer;display: block;width: 100%;margin-bottom: 0;padding: 0.3em;box-sizing: border-box;text-align: center;}#sk-container-id-15 label.sk-toggleable__label-arrow:before {content: \"▸\";float: left;margin-right: 0.25em;color: #696969;}#sk-container-id-15 label.sk-toggleable__label-arrow:hover:before {color: black;}#sk-container-id-15 div.sk-estimator:hover label.sk-toggleable__label-arrow:before {color: black;}#sk-container-id-15 div.sk-toggleable__content {max-height: 0;max-width: 0;overflow: hidden;text-align: left;background-color: #f0f8ff;}#sk-container-id-15 div.sk-toggleable__content pre {margin: 0.2em;color: black;border-radius: 0.25em;background-color: #f0f8ff;}#sk-container-id-15 input.sk-toggleable__control:checked~div.sk-toggleable__content {max-height: 200px;max-width: 100%;overflow: auto;}#sk-container-id-15 input.sk-toggleable__control:checked~label.sk-toggleable__label-arrow:before {content: \"▾\";}#sk-container-id-15 div.sk-estimator input.sk-toggleable__control:checked~label.sk-toggleable__label {background-color: #d4ebff;}#sk-container-id-15 div.sk-label input.sk-toggleable__control:checked~label.sk-toggleable__label {background-color: #d4ebff;}#sk-container-id-15 input.sk-hidden--visually {border: 0;clip: rect(1px 1px 1px 1px);clip: rect(1px, 1px, 1px, 1px);height: 1px;margin: -1px;overflow: hidden;padding: 0;position: absolute;width: 1px;}#sk-container-id-15 div.sk-estimator {font-family: monospace;background-color: #f0f8ff;border: 1px dotted black;border-radius: 0.25em;box-sizing: border-box;margin-bottom: 0.5em;}#sk-container-id-15 div.sk-estimator:hover {background-color: #d4ebff;}#sk-container-id-15 div.sk-parallel-item::after {content: \"\";width: 100%;border-bottom: 1px solid gray;flex-grow: 1;}#sk-container-id-15 div.sk-label:hover label.sk-toggleable__label {background-color: #d4ebff;}#sk-container-id-15 div.sk-serial::before {content: \"\";position: absolute;border-left: 1px solid gray;box-sizing: border-box;top: 0;bottom: 0;left: 50%;z-index: 0;}#sk-container-id-15 div.sk-serial {display: flex;flex-direction: column;align-items: center;background-color: white;padding-right: 0.2em;padding-left: 0.2em;position: relative;}#sk-container-id-15 div.sk-item {position: relative;z-index: 1;}#sk-container-id-15 div.sk-parallel {display: flex;align-items: stretch;justify-content: center;background-color: white;position: relative;}#sk-container-id-15 div.sk-item::before, #sk-container-id-15 div.sk-parallel-item::before {content: \"\";position: absolute;border-left: 1px solid gray;box-sizing: border-box;top: 0;bottom: 0;left: 50%;z-index: -1;}#sk-container-id-15 div.sk-parallel-item {display: flex;flex-direction: column;z-index: 1;position: relative;background-color: white;}#sk-container-id-15 div.sk-parallel-item:first-child::after {align-self: flex-end;width: 50%;}#sk-container-id-15 div.sk-parallel-item:last-child::after {align-self: flex-start;width: 50%;}#sk-container-id-15 div.sk-parallel-item:only-child::after {width: 0;}#sk-container-id-15 div.sk-dashed-wrapped {border: 1px dashed gray;margin: 0 0.4em 0.5em 0.4em;box-sizing: border-box;padding-bottom: 0.4em;background-color: white;}#sk-container-id-15 div.sk-label label {font-family: monospace;font-weight: bold;display: inline-block;line-height: 1.2em;}#sk-container-id-15 div.sk-label-container {text-align: center;}#sk-container-id-15 div.sk-container {/* jupyter's `normalize.less` sets `[hidden] { display: none; }` but bootstrap.min.css set `[hidden] { display: none !important; }` so we also need the `!important` here to be able to override the default hidden behavior on the sphinx rendered scikit-learn.org. See: https://github.com/scikit-learn/scikit-learn/issues/21755 */display: inline-block !important;position: relative;}#sk-container-id-15 div.sk-text-repr-fallback {display: none;}</style><div id=\"sk-container-id-15\" class=\"sk-top-container\"><div class=\"sk-text-repr-fallback\"><pre>SVR()</pre><b>In a Jupyter environment, please rerun this cell to show the HTML representation or trust the notebook. <br />On GitHub, the HTML representation is unable to render, please try loading this page with nbviewer.org.</b></div><div class=\"sk-container\" hidden><div class=\"sk-item\"><div class=\"sk-estimator sk-toggleable\"><input class=\"sk-toggleable__control sk-hidden--visually\" id=\"sk-estimator-id-15\" type=\"checkbox\" checked><label for=\"sk-estimator-id-15\" class=\"sk-toggleable__label sk-toggleable__label-arrow\">SVR</label><div class=\"sk-toggleable__content\"><pre>SVR()</pre></div></div></div></div></div>"
      ],
      "text/plain": [
       "SVR()"
      ]
     },
     "execution_count": 348,
     "metadata": {},
     "output_type": "execute_result"
    }
   ],
   "source": [
    "estimator = SVR(kernel=\"rbf\")\n",
    "estimator"
   ]
  },
  {
   "cell_type": "code",
   "execution_count": 349,
   "id": "6b1a62df",
   "metadata": {},
   "outputs": [],
   "source": [
    "selector = RFE(estimator, step=1)"
   ]
  },
  {
   "cell_type": "code",
   "execution_count": 350,
   "id": "1cc3fd81",
   "metadata": {},
   "outputs": [
    {
     "ename": "ValueError",
     "evalue": "when `importance_getter=='auto'`, the underlying estimator SVR should have `coef_` or `feature_importances_` attribute. Either pass a fitted estimator to feature selector or call fit before calling transform.",
     "output_type": "error",
     "traceback": [
      "\u001b[0;31m---------------------------------------------------------------------------\u001b[0m",
      "\u001b[0;31mValueError\u001b[0m                                Traceback (most recent call last)",
      "Input \u001b[0;32mIn [350]\u001b[0m, in \u001b[0;36m<cell line: 1>\u001b[0;34m()\u001b[0m\n\u001b[0;32m----> 1\u001b[0m \u001b[43mselector\u001b[49m\u001b[38;5;241;43m.\u001b[39;49m\u001b[43mfit\u001b[49m\u001b[43m(\u001b[49m\u001b[43mX_test\u001b[49m\u001b[43m,\u001b[49m\u001b[43m \u001b[49m\u001b[43my_test\u001b[49m\u001b[43m)\u001b[49m\n",
      "File \u001b[0;32m~/opt/anaconda3/envs/ironhack/lib/python3.8/site-packages/sklearn/feature_selection/_rfe.py:235\u001b[0m, in \u001b[0;36mRFE.fit\u001b[0;34m(self, X, y, **fit_params)\u001b[0m\n\u001b[1;32m    215\u001b[0m \u001b[38;5;28;01mdef\u001b[39;00m \u001b[38;5;21mfit\u001b[39m(\u001b[38;5;28mself\u001b[39m, X, y, \u001b[38;5;241m*\u001b[39m\u001b[38;5;241m*\u001b[39mfit_params):\n\u001b[1;32m    216\u001b[0m     \u001b[38;5;124;03m\"\"\"Fit the RFE model and then the underlying estimator on the selected features.\u001b[39;00m\n\u001b[1;32m    217\u001b[0m \n\u001b[1;32m    218\u001b[0m \u001b[38;5;124;03m    Parameters\u001b[39;00m\n\u001b[0;32m   (...)\u001b[0m\n\u001b[1;32m    233\u001b[0m \u001b[38;5;124;03m        Fitted estimator.\u001b[39;00m\n\u001b[1;32m    234\u001b[0m \u001b[38;5;124;03m    \"\"\"\u001b[39;00m\n\u001b[0;32m--> 235\u001b[0m     \u001b[38;5;28;01mreturn\u001b[39;00m \u001b[38;5;28;43mself\u001b[39;49m\u001b[38;5;241;43m.\u001b[39;49m\u001b[43m_fit\u001b[49m\u001b[43m(\u001b[49m\u001b[43mX\u001b[49m\u001b[43m,\u001b[49m\u001b[43m \u001b[49m\u001b[43my\u001b[49m\u001b[43m,\u001b[49m\u001b[43m \u001b[49m\u001b[38;5;241;43m*\u001b[39;49m\u001b[38;5;241;43m*\u001b[39;49m\u001b[43mfit_params\u001b[49m\u001b[43m)\u001b[49m\n",
      "File \u001b[0;32m~/opt/anaconda3/envs/ironhack/lib/python3.8/site-packages/sklearn/feature_selection/_rfe.py:299\u001b[0m, in \u001b[0;36mRFE._fit\u001b[0;34m(self, X, y, step_score, **fit_params)\u001b[0m\n\u001b[1;32m    296\u001b[0m estimator\u001b[38;5;241m.\u001b[39mfit(X[:, features], y, \u001b[38;5;241m*\u001b[39m\u001b[38;5;241m*\u001b[39mfit_params)\n\u001b[1;32m    298\u001b[0m \u001b[38;5;66;03m# Get importance and rank them\u001b[39;00m\n\u001b[0;32m--> 299\u001b[0m importances \u001b[38;5;241m=\u001b[39m \u001b[43m_get_feature_importances\u001b[49m\u001b[43m(\u001b[49m\n\u001b[1;32m    300\u001b[0m \u001b[43m    \u001b[49m\u001b[43mestimator\u001b[49m\u001b[43m,\u001b[49m\n\u001b[1;32m    301\u001b[0m \u001b[43m    \u001b[49m\u001b[38;5;28;43mself\u001b[39;49m\u001b[38;5;241;43m.\u001b[39;49m\u001b[43mimportance_getter\u001b[49m\u001b[43m,\u001b[49m\n\u001b[1;32m    302\u001b[0m \u001b[43m    \u001b[49m\u001b[43mtransform_func\u001b[49m\u001b[38;5;241;43m=\u001b[39;49m\u001b[38;5;124;43m\"\u001b[39;49m\u001b[38;5;124;43msquare\u001b[39;49m\u001b[38;5;124;43m\"\u001b[39;49m\u001b[43m,\u001b[49m\n\u001b[1;32m    303\u001b[0m \u001b[43m\u001b[49m\u001b[43m)\u001b[49m\n\u001b[1;32m    304\u001b[0m ranks \u001b[38;5;241m=\u001b[39m np\u001b[38;5;241m.\u001b[39margsort(importances)\n\u001b[1;32m    306\u001b[0m \u001b[38;5;66;03m# for sparse case ranks is matrix\u001b[39;00m\n",
      "File \u001b[0;32m~/opt/anaconda3/envs/ironhack/lib/python3.8/site-packages/sklearn/feature_selection/_base.py:208\u001b[0m, in \u001b[0;36m_get_feature_importances\u001b[0;34m(estimator, getter, transform_func, norm_order)\u001b[0m\n\u001b[1;32m    206\u001b[0m         getter \u001b[38;5;241m=\u001b[39m attrgetter(\u001b[38;5;124m\"\u001b[39m\u001b[38;5;124mfeature_importances_\u001b[39m\u001b[38;5;124m\"\u001b[39m)\n\u001b[1;32m    207\u001b[0m     \u001b[38;5;28;01melse\u001b[39;00m:\n\u001b[0;32m--> 208\u001b[0m         \u001b[38;5;28;01mraise\u001b[39;00m \u001b[38;5;167;01mValueError\u001b[39;00m(\n\u001b[1;32m    209\u001b[0m             \u001b[38;5;124m\"\u001b[39m\u001b[38;5;124mwhen `importance_getter==\u001b[39m\u001b[38;5;124m'\u001b[39m\u001b[38;5;124mauto\u001b[39m\u001b[38;5;124m'\u001b[39m\u001b[38;5;124m`, the underlying \u001b[39m\u001b[38;5;124m\"\u001b[39m\n\u001b[1;32m    210\u001b[0m             \u001b[38;5;124mf\u001b[39m\u001b[38;5;124m\"\u001b[39m\u001b[38;5;124mestimator \u001b[39m\u001b[38;5;132;01m{\u001b[39;00mestimator\u001b[38;5;241m.\u001b[39m\u001b[38;5;18m__class__\u001b[39m\u001b[38;5;241m.\u001b[39m\u001b[38;5;18m__name__\u001b[39m\u001b[38;5;132;01m}\u001b[39;00m\u001b[38;5;124m should have \u001b[39m\u001b[38;5;124m\"\u001b[39m\n\u001b[1;32m    211\u001b[0m             \u001b[38;5;124m\"\u001b[39m\u001b[38;5;124m`coef_` or `feature_importances_` attribute. Either \u001b[39m\u001b[38;5;124m\"\u001b[39m\n\u001b[1;32m    212\u001b[0m             \u001b[38;5;124m\"\u001b[39m\u001b[38;5;124mpass a fitted estimator to feature selector or call fit \u001b[39m\u001b[38;5;124m\"\u001b[39m\n\u001b[1;32m    213\u001b[0m             \u001b[38;5;124m\"\u001b[39m\u001b[38;5;124mbefore calling transform.\u001b[39m\u001b[38;5;124m\"\u001b[39m\n\u001b[1;32m    214\u001b[0m         )\n\u001b[1;32m    215\u001b[0m \u001b[38;5;28;01melse\u001b[39;00m:\n\u001b[1;32m    216\u001b[0m     getter \u001b[38;5;241m=\u001b[39m attrgetter(getter)\n",
      "\u001b[0;31mValueError\u001b[0m: when `importance_getter=='auto'`, the underlying estimator SVR should have `coef_` or `feature_importances_` attribute. Either pass a fitted estimator to feature selector or call fit before calling transform."
     ]
    }
   ],
   "source": [
    "selector.fit(X_test, y_test)"
   ]
  },
  {
   "cell_type": "code",
   "execution_count": 351,
   "id": "f60f79bf",
   "metadata": {},
   "outputs": [
    {
     "ename": "AttributeError",
     "evalue": "'RFE' object has no attribute 'ranking_'",
     "output_type": "error",
     "traceback": [
      "\u001b[0;31m---------------------------------------------------------------------------\u001b[0m",
      "\u001b[0;31mAttributeError\u001b[0m                            Traceback (most recent call last)",
      "Input \u001b[0;32mIn [351]\u001b[0m, in \u001b[0;36m<cell line: 1>\u001b[0;34m()\u001b[0m\n\u001b[0;32m----> 1\u001b[0m \u001b[43mselector\u001b[49m\u001b[38;5;241;43m.\u001b[39;49m\u001b[43mranking_\u001b[49m\n",
      "\u001b[0;31mAttributeError\u001b[0m: 'RFE' object has no attribute 'ranking_'"
     ]
    }
   ],
   "source": [
    "selector.ranking_"
   ]
  },
  {
   "cell_type": "code",
   "execution_count": 352,
   "id": "1ab7b0a7",
   "metadata": {},
   "outputs": [
    {
     "ename": "AttributeError",
     "evalue": "'RFE' object has no attribute 'n_features_'",
     "output_type": "error",
     "traceback": [
      "\u001b[0;31m---------------------------------------------------------------------------\u001b[0m",
      "\u001b[0;31mAttributeError\u001b[0m                            Traceback (most recent call last)",
      "Input \u001b[0;32mIn [352]\u001b[0m, in \u001b[0;36m<cell line: 1>\u001b[0;34m()\u001b[0m\n\u001b[0;32m----> 1\u001b[0m \u001b[43mselector\u001b[49m\u001b[38;5;241;43m.\u001b[39;49m\u001b[43mn_features_\u001b[49m\n",
      "\u001b[0;31mAttributeError\u001b[0m: 'RFE' object has no attribute 'n_features_'"
     ]
    }
   ],
   "source": [
    "selector.n_features_"
   ]
  },
  {
   "cell_type": "markdown",
   "id": "2625af8c",
   "metadata": {
    "lang": "en"
   },
   "source": [
    "The ranking of the features, so that ranking_[i] corresponds to the ranking position of the i-th feature. Selected features (i.e. best estimates) are assigned rank 1."
   ]
  },
  {
   "cell_type": "markdown",
   "id": "2cba144d",
   "metadata": {
    "lang": "en"
   },
   "source": [
    "## Cross Validation\n",
    "Let's read a bit of the [documentation](https://scikit-learn.org/stable/modules/cross_validation.html)\n",
    "\n",
    "**Wikipedia tells us**\n",
    "Cross validation or cross-validation is a technique used to evaluate the results of a statistical analysis and ensure that they are independent of the partition between training and test data. It consists of repeating and calculating the arithmetic mean obtained from the evaluation measures on different partitions. It is used in environments where the main objective is prediction and the accuracy of a model that will be carried out in practice is to be estimated. It is a technique widely used in artificial intelligence projects to validate generated models."
   ]
  },
  {
   "cell_type": "code",
   "execution_count": 302,
   "id": "cellular-orchestra",
   "metadata": {},
   "outputs": [],
   "source": [
    "from sklearn.model_selection import cross_val_score as cvs"
   ]
  },
  {
   "cell_type": "markdown",
   "id": "disabled-walnut",
   "metadata": {},
   "source": [
    "![kfoldcv](https://scikit-learn.org/stable/_images/grid_search_cross_validation.png)"
   ]
  },
  {
   "cell_type": "markdown",
   "id": "825c9d4d",
   "metadata": {
    "lang": "en"
   },
   "source": [
    "Cross-Validation: K-fold with 5 splits\n",
    "What we normally do when training the model is to pass all the records to it and have it do the fit().\n",
    "With K-Folds -in this example of 5 splits- to train, instead of passing all the records directly to the model, we will do this:\n",
    "\n",
    "**Iterate 5 times:**\n",
    "- We will set aside 1/5 of samples\n",
    "- We train the model with the remaining 4/5 samples\n",
    "- We will measure the r2 obtained on those we had set aside.\n",
    "- This means that we do 5 independent trainings.\n",
    "- The final R2 will be the average of the 5 previous r2."
   ]
  },
  {
   "cell_type": "markdown",
   "id": "9ae76a93",
   "metadata": {
    "lang": "en"
   },
   "source": [
    "### We make CV to a single model"
   ]
  },
  {
   "cell_type": "code",
   "execution_count": 303,
   "id": "joined-payroll",
   "metadata": {},
   "outputs": [],
   "source": [
    "from sklearn.model_selection import cross_val_score as cvs"
   ]
  },
  {
   "cell_type": "code",
   "execution_count": 304,
   "id": "e10b5ed1",
   "metadata": {},
   "outputs": [
    {
     "data": {
      "text/html": [
       "<style>#sk-container-id-12 {color: black;background-color: white;}#sk-container-id-12 pre{padding: 0;}#sk-container-id-12 div.sk-toggleable {background-color: white;}#sk-container-id-12 label.sk-toggleable__label {cursor: pointer;display: block;width: 100%;margin-bottom: 0;padding: 0.3em;box-sizing: border-box;text-align: center;}#sk-container-id-12 label.sk-toggleable__label-arrow:before {content: \"▸\";float: left;margin-right: 0.25em;color: #696969;}#sk-container-id-12 label.sk-toggleable__label-arrow:hover:before {color: black;}#sk-container-id-12 div.sk-estimator:hover label.sk-toggleable__label-arrow:before {color: black;}#sk-container-id-12 div.sk-toggleable__content {max-height: 0;max-width: 0;overflow: hidden;text-align: left;background-color: #f0f8ff;}#sk-container-id-12 div.sk-toggleable__content pre {margin: 0.2em;color: black;border-radius: 0.25em;background-color: #f0f8ff;}#sk-container-id-12 input.sk-toggleable__control:checked~div.sk-toggleable__content {max-height: 200px;max-width: 100%;overflow: auto;}#sk-container-id-12 input.sk-toggleable__control:checked~label.sk-toggleable__label-arrow:before {content: \"▾\";}#sk-container-id-12 div.sk-estimator input.sk-toggleable__control:checked~label.sk-toggleable__label {background-color: #d4ebff;}#sk-container-id-12 div.sk-label input.sk-toggleable__control:checked~label.sk-toggleable__label {background-color: #d4ebff;}#sk-container-id-12 input.sk-hidden--visually {border: 0;clip: rect(1px 1px 1px 1px);clip: rect(1px, 1px, 1px, 1px);height: 1px;margin: -1px;overflow: hidden;padding: 0;position: absolute;width: 1px;}#sk-container-id-12 div.sk-estimator {font-family: monospace;background-color: #f0f8ff;border: 1px dotted black;border-radius: 0.25em;box-sizing: border-box;margin-bottom: 0.5em;}#sk-container-id-12 div.sk-estimator:hover {background-color: #d4ebff;}#sk-container-id-12 div.sk-parallel-item::after {content: \"\";width: 100%;border-bottom: 1px solid gray;flex-grow: 1;}#sk-container-id-12 div.sk-label:hover label.sk-toggleable__label {background-color: #d4ebff;}#sk-container-id-12 div.sk-serial::before {content: \"\";position: absolute;border-left: 1px solid gray;box-sizing: border-box;top: 0;bottom: 0;left: 50%;z-index: 0;}#sk-container-id-12 div.sk-serial {display: flex;flex-direction: column;align-items: center;background-color: white;padding-right: 0.2em;padding-left: 0.2em;position: relative;}#sk-container-id-12 div.sk-item {position: relative;z-index: 1;}#sk-container-id-12 div.sk-parallel {display: flex;align-items: stretch;justify-content: center;background-color: white;position: relative;}#sk-container-id-12 div.sk-item::before, #sk-container-id-12 div.sk-parallel-item::before {content: \"\";position: absolute;border-left: 1px solid gray;box-sizing: border-box;top: 0;bottom: 0;left: 50%;z-index: -1;}#sk-container-id-12 div.sk-parallel-item {display: flex;flex-direction: column;z-index: 1;position: relative;background-color: white;}#sk-container-id-12 div.sk-parallel-item:first-child::after {align-self: flex-end;width: 50%;}#sk-container-id-12 div.sk-parallel-item:last-child::after {align-self: flex-start;width: 50%;}#sk-container-id-12 div.sk-parallel-item:only-child::after {width: 0;}#sk-container-id-12 div.sk-dashed-wrapped {border: 1px dashed gray;margin: 0 0.4em 0.5em 0.4em;box-sizing: border-box;padding-bottom: 0.4em;background-color: white;}#sk-container-id-12 div.sk-label label {font-family: monospace;font-weight: bold;display: inline-block;line-height: 1.2em;}#sk-container-id-12 div.sk-label-container {text-align: center;}#sk-container-id-12 div.sk-container {/* jupyter's `normalize.less` sets `[hidden] { display: none; }` but bootstrap.min.css set `[hidden] { display: none !important; }` so we also need the `!important` here to be able to override the default hidden behavior on the sphinx rendered scikit-learn.org. See: https://github.com/scikit-learn/scikit-learn/issues/21755 */display: inline-block !important;position: relative;}#sk-container-id-12 div.sk-text-repr-fallback {display: none;}</style><div id=\"sk-container-id-12\" class=\"sk-top-container\"><div class=\"sk-text-repr-fallback\"><pre>GradientBoostingRegressor()</pre><b>In a Jupyter environment, please rerun this cell to show the HTML representation or trust the notebook. <br />On GitHub, the HTML representation is unable to render, please try loading this page with nbviewer.org.</b></div><div class=\"sk-container\" hidden><div class=\"sk-item\"><div class=\"sk-estimator sk-toggleable\"><input class=\"sk-toggleable__control sk-hidden--visually\" id=\"sk-estimator-id-12\" type=\"checkbox\" checked><label for=\"sk-estimator-id-12\" class=\"sk-toggleable__label sk-toggleable__label-arrow\">GradientBoostingRegressor</label><div class=\"sk-toggleable__content\"><pre>GradientBoostingRegressor()</pre></div></div></div></div></div>"
      ],
      "text/plain": [
       "GradientBoostingRegressor()"
      ]
     },
     "execution_count": 304,
     "metadata": {},
     "output_type": "execute_result"
    }
   ],
   "source": [
    "models[\"grad\"]"
   ]
  },
  {
   "cell_type": "code",
   "execution_count": 329,
   "id": "b2adaada",
   "metadata": {},
   "outputs": [],
   "source": [
    "scores = cvs(models[\"grad\"], X, y, scoring=\"r2\", cv=7)"
   ]
  },
  {
   "cell_type": "code",
   "execution_count": 330,
   "id": "cb68a854",
   "metadata": {},
   "outputs": [
    {
     "data": {
      "text/plain": [
       "0.6137859050146467"
      ]
     },
     "execution_count": 330,
     "metadata": {},
     "output_type": "execute_result"
    }
   ],
   "source": [
    "np.mean(scores)"
   ]
  },
  {
   "cell_type": "markdown",
   "id": "d76a1794",
   "metadata": {
    "lang": "en"
   },
   "source": [
    "### CV looping through all models"
   ]
  },
  {
   "cell_type": "code",
   "execution_count": 332,
   "id": "fd68acbb",
   "metadata": {},
   "outputs": [
    {
     "name": "stdout",
     "output_type": "stream",
     "text": [
      "Model:  lr Score:  0.45059442471362804\n",
      "Model:  ridge Score:  0.457817641075765\n",
      "Model:  lasso Score:  0.40692484407346685\n",
      "Model:  sgd Score:  -9.199873068545731e+26\n",
      "Model:  knn Score:  -0.9195733160578522\n",
      "Model:  grad Score:  0.6267246334825012\n",
      "Model:  svr Score:  -0.12280436638937706\n"
     ]
    }
   ],
   "source": [
    "for name, model in models.items():\n",
    "    scores = cvs(model, X, y, scoring = \"r2\", cv=7)\n",
    "    print(\"Model: \", name, \"Score: \", np.mean(scores))"
   ]
  },
  {
   "cell_type": "markdown",
   "id": "d5ea6610",
   "metadata": {
    "lang": "en"
   },
   "source": [
    "## Summary"
   ]
  },
  {
   "cell_type": "markdown",
   "id": "c15d6c2a",
   "metadata": {},
   "source": [
    "- Pre-process\n",
    "- Decide on the X, y\n",
    "- Use some models: fit\n",
    "- Split: X_train, X_test, y_train, y_test\n",
    "- y_pred vs. y_test\n",
    "- Errors & r2: MAE, MSE, RMSE, r2\n",
    "- CV: split by different parts"
   ]
  }
 ],
 "metadata": {
  "kernelspec": {
   "display_name": "ironhack",
   "language": "python",
   "name": "ironhack"
  },
  "language_info": {
   "codemirror_mode": {
    "name": "ipython",
    "version": 3
   },
   "file_extension": ".py",
   "mimetype": "text/x-python",
   "name": "python",
   "nbconvert_exporter": "python",
   "pygments_lexer": "ipython3",
   "version": "3.8.13"
  },
  "nbTranslate": {
   "displayLangs": [
    "en",
    "es"
   ],
   "hotkey": "alt-a",
   "langInMainMenu": true,
   "sourceLang": "es",
   "targetLang": "en",
   "useGoogleTranslate": true
  },
  "toc": {
   "base_numbering": 1,
   "nav_menu": {},
   "number_sections": true,
   "sideBar": true,
   "skip_h1_title": true,
   "title_cell": "Table of Contents",
   "title_sidebar": "Contents",
   "toc_cell": true,
   "toc_position": {
    "height": "calc(100% - 180px)",
    "left": "10px",
    "top": "150px",
    "width": "288px"
   },
   "toc_section_display": true,
   "toc_window_display": false
  },
  "varInspector": {
   "cols": {
    "lenName": 16,
    "lenType": 16,
    "lenVar": 40
   },
   "kernels_config": {
    "python": {
     "delete_cmd_postfix": "",
     "delete_cmd_prefix": "del ",
     "library": "var_list.py",
     "varRefreshCmd": "print(var_dic_list())"
    },
    "r": {
     "delete_cmd_postfix": ") ",
     "delete_cmd_prefix": "rm(",
     "library": "var_list.r",
     "varRefreshCmd": "cat(var_dic_list()) "
    }
   },
   "types_to_exclude": [
    "module",
    "function",
    "builtin_function_or_method",
    "instance",
    "_Feature"
   ],
   "window_display": false
  }
 },
 "nbformat": 4,
 "nbformat_minor": 5
}
