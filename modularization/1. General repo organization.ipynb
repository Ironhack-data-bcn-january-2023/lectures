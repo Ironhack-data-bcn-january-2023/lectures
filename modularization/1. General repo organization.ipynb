{
 "cells": [
  {
   "cell_type": "markdown",
   "id": "461c4c16",
   "metadata": {},
   "source": [
    "# General organization of your repo"
   ]
  },
  {
   "cell_type": "markdown",
   "id": "f700e174",
   "metadata": {},
   "source": [
    "```python\n",
    "/src\n",
    "    cleaning\n",
    "    visualization\n",
    "notebook-1\n",
    "notebook-2\n",
    "notebook-3\n",
    "main.py\n",
    ".gitignore\n",
    "README.md\n",
    "```"
   ]
  }
 ],
 "metadata": {
  "kernelspec": {
   "display_name": "ironhack",
   "language": "python",
   "name": "ironhack"
  },
  "language_info": {
   "codemirror_mode": {
    "name": "ipython",
    "version": 3
   },
   "file_extension": ".py",
   "mimetype": "text/x-python",
   "name": "python",
   "nbconvert_exporter": "python",
   "pygments_lexer": "ipython3",
   "version": "3.8.13"
  },
  "toc": {
   "base_numbering": 1,
   "nav_menu": {},
   "number_sections": true,
   "sideBar": true,
   "skip_h1_title": false,
   "title_cell": "Table of Contents",
   "title_sidebar": "Contents",
   "toc_cell": false,
   "toc_position": {},
   "toc_section_display": true,
   "toc_window_display": true
  }
 },
 "nbformat": 4,
 "nbformat_minor": 5
}
