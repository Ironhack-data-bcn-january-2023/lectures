{
 "cells": [
  {
   "cell_type": "markdown",
   "id": "b823de73",
   "metadata": {
    "toc": true
   },
   "source": [
    "<h1>Table of Contents<span class=\"tocSkip\"></span></h1>\n",
    "<div class=\"toc\"><ul class=\"toc-item\"><li><span><a href=\"#Data-aggregation\" data-toc-modified-id=\"Data-aggregation-1\"><span class=\"toc-item-num\">1&nbsp;&nbsp;</span>Data aggregation</a></span><ul class=\"toc-item\"><li><span><a href=\"#groupby\" data-toc-modified-id=\"groupby-1.1\"><span class=\"toc-item-num\">1.1&nbsp;&nbsp;</span>groupby</a></span><ul class=\"toc-item\"><li><span><a href=\"#groupby-&amp;-aggregate\" data-toc-modified-id=\"groupby-&amp;-aggregate-1.1.1\"><span class=\"toc-item-num\">1.1.1&nbsp;&nbsp;</span>groupby &amp; aggregate</a></span></li></ul></li><li><span><a href=\"#Pivot-Tables\" data-toc-modified-id=\"Pivot-Tables-1.2\"><span class=\"toc-item-num\">1.2&nbsp;&nbsp;</span>Pivot Tables</a></span></li><li><span><a href=\"#Differences-between-pivot-table-and-groupby-function\" data-toc-modified-id=\"Differences-between-pivot-table-and-groupby-function-1.3\"><span class=\"toc-item-num\">1.3&nbsp;&nbsp;</span>Differences between pivot table and groupby function</a></span></li><li><span><a href=\"#Crosstab-Function\" data-toc-modified-id=\"Crosstab-Function-1.4\"><span class=\"toc-item-num\">1.4&nbsp;&nbsp;</span>Crosstab Function</a></span></li></ul></li><li><span><a href=\"#Data-combination:-mixing-dataframes\" data-toc-modified-id=\"Data-combination:-mixing-dataframes-2\"><span class=\"toc-item-num\">2&nbsp;&nbsp;</span>Data combination: mixing dataframes</a></span><ul class=\"toc-item\"><li><span><a href=\"#Concat\" data-toc-modified-id=\"Concat-2.1\"><span class=\"toc-item-num\">2.1&nbsp;&nbsp;</span>Concat</a></span><ul class=\"toc-item\"><li><span><a href=\"#Concatenating-on-axis-0-(rows)\" data-toc-modified-id=\"Concatenating-on-axis-0-(rows)-2.1.1\"><span class=\"toc-item-num\">2.1.1&nbsp;&nbsp;</span>Concatenating on axis 0 (rows)</a></span></li><li><span><a href=\"#Concatenating-on-axis-1-(columns)\" data-toc-modified-id=\"Concatenating-on-axis-1-(columns)-2.1.2\"><span class=\"toc-item-num\">2.1.2&nbsp;&nbsp;</span>Concatenating on axis 1 (columns)</a></span></li></ul></li><li><span><a href=\"#Merge\" data-toc-modified-id=\"Merge-2.2\"><span class=\"toc-item-num\">2.2&nbsp;&nbsp;</span>Merge</a></span><ul class=\"toc-item\"><li><span><a href=\"#LEFT-Merge\" data-toc-modified-id=\"LEFT-Merge-2.2.1\"><span class=\"toc-item-num\">2.2.1&nbsp;&nbsp;</span>LEFT Merge</a></span></li><li><span><a href=\"#RIGHT-Merge\" data-toc-modified-id=\"RIGHT-Merge-2.2.2\"><span class=\"toc-item-num\">2.2.2&nbsp;&nbsp;</span>RIGHT Merge</a></span></li><li><span><a href=\"#INNER-Merge\" data-toc-modified-id=\"INNER-Merge-2.2.3\"><span class=\"toc-item-num\">2.2.3&nbsp;&nbsp;</span>INNER Merge</a></span></li><li><span><a href=\"#OUTER-Merge\" data-toc-modified-id=\"OUTER-Merge-2.2.4\"><span class=\"toc-item-num\">2.2.4&nbsp;&nbsp;</span>OUTER Merge</a></span></li></ul></li><li><span><a href=\"#Merging-/-Concatenating-in-two-different-columns\" data-toc-modified-id=\"Merging-/-Concatenating-in-two-different-columns-2.3\"><span class=\"toc-item-num\">2.3&nbsp;&nbsp;</span>Merging / Concatenating in two different columns</a></span><ul class=\"toc-item\"><li><span><a href=\"#Concatenating-in-two-different-columns\" data-toc-modified-id=\"Concatenating-in-two-different-columns-2.3.1\"><span class=\"toc-item-num\">2.3.1&nbsp;&nbsp;</span>Concatenating in two different columns</a></span></li><li><span><a href=\"#Merging-in-two-different-columns\" data-toc-modified-id=\"Merging-in-two-different-columns-2.3.2\"><span class=\"toc-item-num\">2.3.2&nbsp;&nbsp;</span>Merging in two different columns</a></span></li></ul></li><li><span><a href=\"#Join\" data-toc-modified-id=\"Join-2.4\"><span class=\"toc-item-num\">2.4&nbsp;&nbsp;</span>Join</a></span></li><li><span><a href=\"#Differences-between-join-&amp;-merge\" data-toc-modified-id=\"Differences-between-join-&amp;-merge-2.5\"><span class=\"toc-item-num\">2.5&nbsp;&nbsp;</span>Differences between join &amp; merge</a></span></li></ul></li><li><span><a href=\"#Export-data\" data-toc-modified-id=\"Export-data-3\"><span class=\"toc-item-num\">3&nbsp;&nbsp;</span>Export data</a></span></li><li><span><a href=\"#Pandas-usual-methods\" data-toc-modified-id=\"Pandas-usual-methods-4\"><span class=\"toc-item-num\">4&nbsp;&nbsp;</span>Pandas usual methods</a></span></li><li><span><a href=\"#Further-materials\" data-toc-modified-id=\"Further-materials-5\"><span class=\"toc-item-num\">5&nbsp;&nbsp;</span>Further materials</a></span></li></ul></div>"
   ]
  },
  {
   "cell_type": "markdown",
   "id": "ad2d0378",
   "metadata": {},
   "source": [
    "![](https://miro.medium.com/max/1400/1*6d5dw6dPhy4vBp2vRW6uzw.webp)"
   ]
  },
  {
   "cell_type": "code",
   "execution_count": 1,
   "id": "90c4e96b",
   "metadata": {},
   "outputs": [],
   "source": [
    "import pandas as pd\n",
    "import numpy as np"
   ]
  },
  {
   "cell_type": "markdown",
   "id": "6cc1f24d",
   "metadata": {},
   "source": [
    "## Data aggregation"
   ]
  },
  {
   "cell_type": "markdown",
   "id": "d7cd8b73",
   "metadata": {},
   "source": [
    "`groupby, pivot table & cross_tab`"
   ]
  },
  {
   "cell_type": "markdown",
   "id": "c51e74f4",
   "metadata": {
    "lang": "en"
   },
   "source": [
    "### groupby\n",
    "Pandas GroupBy is a powerful and versatile function in Python. It allows us to split your data into separate groups to perform calculations for better analysis.\n",
    "A DataFrame can be grouped on its rows (axis=0) or on its columns (axis=1). Once this is done, a function is applied to each group, producing a new value. Finally, the results of all those function applications are combined into a result object. The shape of the resulting object will usually depend on what is done with the data."
   ]
  },
  {
   "cell_type": "markdown",
   "id": "a50c2b5d",
   "metadata": {},
   "source": [
    "`CUANTITATIVE.groupby(CATEGORICAL).calculation()`"
   ]
  },
  {
   "cell_type": "code",
   "execution_count": null,
   "id": "556d2e49",
   "metadata": {},
   "outputs": [],
   "source": []
  },
  {
   "cell_type": "markdown",
   "id": "surprised-malpractice",
   "metadata": {},
   "source": [
    "https://pandas.pydata.org/docs/reference/api/pandas.DataFrame.groupby.html"
   ]
  },
  {
   "cell_type": "markdown",
   "id": "edb0b955",
   "metadata": {},
   "source": [
    "```groupby(df, by, ...)```.\n",
    "* ```by```   columns on which grouping is to be done\n",
    "* ```agg```  the aggregate function can be used separately"
   ]
  },
  {
   "cell_type": "code",
   "execution_count": null,
   "id": "fc2d48fa",
   "metadata": {},
   "outputs": [],
   "source": []
  },
  {
   "cell_type": "markdown",
   "id": "e36c6bb3",
   "metadata": {},
   "source": [
    "`groupby the departments and their mean age`"
   ]
  },
  {
   "cell_type": "code",
   "execution_count": null,
   "id": "a75e5b9b",
   "metadata": {},
   "outputs": [],
   "source": []
  },
  {
   "cell_type": "markdown",
   "id": "a968b6e9",
   "metadata": {},
   "source": [
    "`groupby the departments and their maximum age`"
   ]
  },
  {
   "cell_type": "code",
   "execution_count": null,
   "id": "aaddcf10",
   "metadata": {},
   "outputs": [],
   "source": []
  },
  {
   "cell_type": "markdown",
   "id": "28133159",
   "metadata": {},
   "source": [
    "`groupby the departments and their min age`"
   ]
  },
  {
   "cell_type": "code",
   "execution_count": null,
   "id": "d22af593",
   "metadata": {},
   "outputs": [],
   "source": []
  },
  {
   "cell_type": "markdown",
   "id": "08947d4b",
   "metadata": {},
   "source": [
    "`groupby: 2+`: Different Education Fields and their Mean Salaries in each of the Department"
   ]
  },
  {
   "cell_type": "code",
   "execution_count": null,
   "id": "5b4b0582",
   "metadata": {},
   "outputs": [],
   "source": []
  },
  {
   "cell_type": "markdown",
   "id": "13345cef",
   "metadata": {},
   "source": [
    "`more fields`"
   ]
  },
  {
   "cell_type": "code",
   "execution_count": null,
   "id": "8239824e",
   "metadata": {},
   "outputs": [],
   "source": []
  },
  {
   "cell_type": "markdown",
   "id": "7b533d07",
   "metadata": {},
   "source": [
    "#### groupby & aggregate"
   ]
  },
  {
   "cell_type": "markdown",
   "id": "1d23b8f4",
   "metadata": {
    "lang": "en"
   },
   "source": [
    "Another way to groupby with agg syntax\n",
    "https://pandas.pydata.org/docs/reference/api/pandas.core.groupby.DataFrameGroupBy.aggregate.html\n",
    "\n",
    "- mean\n",
    "- sum\n",
    "-count"
   ]
  },
  {
   "cell_type": "markdown",
   "id": "0acc8190",
   "metadata": {
    "lang": "en"
   },
   "source": [
    "Suppose we want to calculate the mean of column data1 using the labels of key1. There are several ways to do it. One is to access data1 and call groupby with the column (a String) in key1.\n",
    "The data (a Series) has been aggregated based on the group key, producing a new String that is now indexed by the unique values ​​of the key1 column. The resulting index has the name 'key1' because the DataFrame column `df['key1']` did."
   ]
  },
  {
   "cell_type": "code",
   "execution_count": null,
   "id": "2af0ca45",
   "metadata": {},
   "outputs": [],
   "source": []
  },
  {
   "cell_type": "markdown",
   "id": "4930acad",
   "metadata": {},
   "source": [
    "### Pivot Tables"
   ]
  },
  {
   "cell_type": "markdown",
   "id": "d041aaaa",
   "metadata": {},
   "source": [
    "[groupby vs pivot table](https://towardsdatascience.com/a-comparison-of-groupby-and-pivot-in-pythons-pandas-module-527909e78d6b?source=userActivityShare-4c6d9a33c6-1674605913&_branch_match_id=1146490620103499300&_branch_referrer=H4sIAAAAAAAAA8soKSkottLXz8nMy9bLTU3JLM3VS87P1TfKCvCtKvOvCCpPAgAN4ht%2FIwAAAA%3D%3D)"
   ]
  },
  {
   "cell_type": "markdown",
   "id": "c979e8b6",
   "metadata": {},
   "source": [
    "```pivot_table(df, values=None, index=None, columns=None, aggfunc='mean', ...)```"
   ]
  },
  {
   "cell_type": "markdown",
   "id": "6b9f9abd",
   "metadata": {},
   "source": [
    "* We can create a spreadsheet-style pivot table as a DataFrame. The levels in the pivot table will be stored in MultiIndex objects (hierarchical indexes) on the index and columns of the result DataFrame."
   ]
  },
  {
   "cell_type": "markdown",
   "id": "9f7b8eec",
   "metadata": {},
   "source": [
    "`pivot table`: the department and their mean ages"
   ]
  },
  {
   "cell_type": "code",
   "execution_count": null,
   "id": "0e3cfabd",
   "metadata": {},
   "outputs": [],
   "source": []
  },
  {
   "cell_type": "markdown",
   "id": "2f4e6d7f",
   "metadata": {},
   "source": [
    "`pivot table`: the department and their max ages"
   ]
  },
  {
   "cell_type": "code",
   "execution_count": null,
   "id": "66accc9a",
   "metadata": {},
   "outputs": [],
   "source": []
  },
  {
   "cell_type": "markdown",
   "id": "23fdbbe2",
   "metadata": {},
   "source": [
    "`pivot table`: the department and their min ages"
   ]
  },
  {
   "cell_type": "code",
   "execution_count": null,
   "id": "cbf6e0b8",
   "metadata": {},
   "outputs": [],
   "source": []
  },
  {
   "cell_type": "markdown",
   "id": "4b08ccf2",
   "metadata": {},
   "source": [
    "`pivot table`: the department and their min ages"
   ]
  },
  {
   "cell_type": "code",
   "execution_count": null,
   "id": "aa8f6c04",
   "metadata": {},
   "outputs": [],
   "source": []
  },
  {
   "cell_type": "markdown",
   "id": "d6e9e0c6",
   "metadata": {},
   "source": [
    "`multi-index pivot table`: Department and Education Field and check the maximum salary values of employees\n"
   ]
  },
  {
   "cell_type": "code",
   "execution_count": null,
   "id": "d6817500",
   "metadata": {},
   "outputs": [],
   "source": []
  },
  {
   "cell_type": "markdown",
   "id": "86f96d76",
   "metadata": {},
   "source": [
    "### Differences between pivot table and groupby function"
   ]
  },
  {
   "cell_type": "code",
   "execution_count": null,
   "id": "70db1f16",
   "metadata": {},
   "outputs": [],
   "source": []
  },
  {
   "cell_type": "markdown",
   "id": "6c4911c5",
   "metadata": {},
   "source": [
    "`groupby`: team mean age by team abbreviation & season."
   ]
  },
  {
   "cell_type": "code",
   "execution_count": null,
   "id": "2b545d9d",
   "metadata": {},
   "outputs": [],
   "source": []
  },
  {
   "cell_type": "markdown",
   "id": "4176d163",
   "metadata": {},
   "source": [
    "`pivot_table`: team mean age by team abbreviation & season."
   ]
  },
  {
   "cell_type": "code",
   "execution_count": null,
   "id": "58a42f7d",
   "metadata": {},
   "outputs": [],
   "source": []
  },
  {
   "cell_type": "markdown",
   "id": "9b715869",
   "metadata": {},
   "source": [
    "### Crosstab Function"
   ]
  },
  {
   "cell_type": "markdown",
   "id": "cd2a7925",
   "metadata": {},
   "source": [
    "* Compute a simple cross tabulation of two (or more) factors. By default computes a frequency table of the factors unless an array of values and an aggregation function are passed"
   ]
  },
  {
   "cell_type": "markdown",
   "id": "1c5afb57",
   "metadata": {},
   "source": [
    "```crosstab(df, values=None, index=None, columns=None, aggfunc='mean', ...)```"
   ]
  },
  {
   "cell_type": "code",
   "execution_count": null,
   "id": "ebfa0b80",
   "metadata": {},
   "outputs": [],
   "source": []
  },
  {
   "cell_type": "markdown",
   "id": "f465cda9",
   "metadata": {},
   "source": [
    "------------------------------------------------------------------------------------------------------------------------------------------------------------------------------------------------------------"
   ]
  },
  {
   "cell_type": "markdown",
   "id": "978c1560",
   "metadata": {},
   "source": [
    "## Data combination: mixing dataframes"
   ]
  },
  {
   "cell_type": "markdown",
   "id": "10d3eb62",
   "metadata": {
    "lang": "en"
   },
   "source": [
    "- https://realpython.com/pandas-merge-join-and-concat/\n",
    "- https://pandas.pydata.org/pandas-docs/stable/user_guide/merging.html"
   ]
  },
  {
   "cell_type": "markdown",
   "id": "82c60a7d",
   "metadata": {},
   "source": [
    "### Concat\n",
    "We join dataframes along axis 0 one below the other. Align columns by label."
   ]
  },
  {
   "cell_type": "code",
   "execution_count": 2,
   "id": "ac484cd6",
   "metadata": {
    "scrolled": false
   },
   "outputs": [
    {
     "data": {
      "text/html": [
       "<div>\n",
       "<style scoped>\n",
       "    .dataframe tbody tr th:only-of-type {\n",
       "        vertical-align: middle;\n",
       "    }\n",
       "\n",
       "    .dataframe tbody tr th {\n",
       "        vertical-align: top;\n",
       "    }\n",
       "\n",
       "    .dataframe thead th {\n",
       "        text-align: right;\n",
       "    }\n",
       "</style>\n",
       "<table border=\"1\" class=\"dataframe\">\n",
       "  <thead>\n",
       "    <tr style=\"text-align: right;\">\n",
       "      <th></th>\n",
       "      <th>age</th>\n",
       "      <th>gender</th>\n",
       "      <th>occupation</th>\n",
       "      <th>zip_code</th>\n",
       "    </tr>\n",
       "    <tr>\n",
       "      <th>user_id</th>\n",
       "      <th></th>\n",
       "      <th></th>\n",
       "      <th></th>\n",
       "      <th></th>\n",
       "    </tr>\n",
       "  </thead>\n",
       "  <tbody>\n",
       "    <tr>\n",
       "      <th>600</th>\n",
       "      <td>34</td>\n",
       "      <td>M</td>\n",
       "      <td>programmer</td>\n",
       "      <td>02320</td>\n",
       "    </tr>\n",
       "  </tbody>\n",
       "</table>\n",
       "</div>"
      ],
      "text/plain": [
       "         age gender  occupation zip_code\n",
       "user_id                                 \n",
       "600       34      M  programmer    02320"
      ]
     },
     "execution_count": 2,
     "metadata": {},
     "output_type": "execute_result"
    }
   ],
   "source": [
    "df = pd.read_csv('https://raw.githubusercontent.com/justmarkham/DAT8/master/data/u.user',\n",
    "                             sep='|', \n",
    "                             index_col='user_id')\n",
    "df.sample()"
   ]
  },
  {
   "cell_type": "code",
   "execution_count": null,
   "id": "d327cc20",
   "metadata": {},
   "outputs": [],
   "source": []
  },
  {
   "cell_type": "markdown",
   "id": "0ac7695b",
   "metadata": {},
   "source": [
    "#### Concatenating on axis 0 (rows)"
   ]
  },
  {
   "cell_type": "code",
   "execution_count": null,
   "id": "643aef33",
   "metadata": {},
   "outputs": [],
   "source": []
  },
  {
   "cell_type": "markdown",
   "id": "7b5d00f5",
   "metadata": {},
   "source": [
    "#### Concatenating on axis 1 (columns)"
   ]
  },
  {
   "cell_type": "code",
   "execution_count": null,
   "id": "c2184257",
   "metadata": {},
   "outputs": [],
   "source": []
  },
  {
   "cell_type": "markdown",
   "id": "ccd65ff4",
   "metadata": {},
   "source": [
    "![sql joins](https://upload.wikimedia.org/wikipedia/commons/9/9d/SQL_Joins.svg)"
   ]
  },
  {
   "cell_type": "markdown",
   "id": "weekly-klein",
   "metadata": {},
   "source": [
    "### Merge"
   ]
  },
  {
   "cell_type": "markdown",
   "id": "8efd9a95",
   "metadata": {
    "lang": "en"
   },
   "source": [
    "[Merge()](https://pandas.pydata.org/docs/reference/api/pandas.DataFrame.merge.html) is most useful when you want to merge rows that share data."
   ]
  },
  {
   "cell_type": "code",
   "execution_count": 3,
   "id": "b45d2d37",
   "metadata": {},
   "outputs": [],
   "source": [
    "import numpy as nps\n",
    "import pandas as pd   \n",
    "from IPython.display import display_html "
   ]
  },
  {
   "cell_type": "code",
   "execution_count": 4,
   "id": "94d240f4",
   "metadata": {},
   "outputs": [],
   "source": [
    "df1 = pd.DataFrame(\n",
    "    {\n",
    "        \"key1\": [\"K0\", \"K0\", \"K1\", \"K2\"],\n",
    "        \"key2\": [\"K0\", \"K1\", \"K0\", \"K1\"],\n",
    "        \"A\": [\"A0\", \"A1\", \"A2\", \"A3\"],\n",
    "        \"B\": [\"B0\", \"B1\", \"B2\", \"B3\"],\n",
    "    }\n",
    ")\n",
    "\n",
    "\n",
    "df2 = pd.DataFrame(\n",
    "    {\n",
    "        \"key1\": [\"K0\", \"K1\", \"K1\", \"K2\"],\n",
    "        \"key2\": [\"K0\", \"K0\", \"K0\", \"K0\"],\n",
    "        \"C\": [\"C0\", \"C1\", \"C2\", \"C3\"],\n",
    "        \"D\": [\"D0\", \"D1\", \"D2\", \"D3\"],\n",
    "    }\n",
    ")\n",
    "\n",
    "df3 = pd.DataFrame(\n",
    "    {\n",
    "        \"key1\": [\"K90\", \"K1\", \"K1\", \"K2\"],\n",
    "        \"key2\": [\"K0\", \"K0\", \"K5\", \"K0\"],\n",
    "        \"C\": [\"C0\", \"C1\", \"C2\", \"C3\"],\n",
    "        \"Y\": [\"D0\", \"D70\", \"D2\", \"D5\"],\n",
    "    }\n",
    ")"
   ]
  },
  {
   "cell_type": "code",
   "execution_count": 5,
   "id": "a0378289",
   "metadata": {},
   "outputs": [
    {
     "data": {
      "text/html": [
       "<style  type=\"text/css\" >\n",
       "</style><table id=\"T_e889722a_9cfb_11ed_9bf5_88e9fe6f0718\" style='display:inline'><caption>Left table</caption><thead>    <tr>        <th class=\"blank level0\" ></th>        <th class=\"col_heading level0 col0\" >key1</th>        <th class=\"col_heading level0 col1\" >key2</th>        <th class=\"col_heading level0 col2\" >A</th>        <th class=\"col_heading level0 col3\" >B</th>    </tr></thead><tbody>\n",
       "                <tr>\n",
       "                        <th id=\"T_e889722a_9cfb_11ed_9bf5_88e9fe6f0718level0_row0\" class=\"row_heading level0 row0\" >0</th>\n",
       "                        <td id=\"T_e889722a_9cfb_11ed_9bf5_88e9fe6f0718row0_col0\" class=\"data row0 col0\" >K0</td>\n",
       "                        <td id=\"T_e889722a_9cfb_11ed_9bf5_88e9fe6f0718row0_col1\" class=\"data row0 col1\" >K0</td>\n",
       "                        <td id=\"T_e889722a_9cfb_11ed_9bf5_88e9fe6f0718row0_col2\" class=\"data row0 col2\" >A0</td>\n",
       "                        <td id=\"T_e889722a_9cfb_11ed_9bf5_88e9fe6f0718row0_col3\" class=\"data row0 col3\" >B0</td>\n",
       "            </tr>\n",
       "            <tr>\n",
       "                        <th id=\"T_e889722a_9cfb_11ed_9bf5_88e9fe6f0718level0_row1\" class=\"row_heading level0 row1\" >1</th>\n",
       "                        <td id=\"T_e889722a_9cfb_11ed_9bf5_88e9fe6f0718row1_col0\" class=\"data row1 col0\" >K0</td>\n",
       "                        <td id=\"T_e889722a_9cfb_11ed_9bf5_88e9fe6f0718row1_col1\" class=\"data row1 col1\" >K1</td>\n",
       "                        <td id=\"T_e889722a_9cfb_11ed_9bf5_88e9fe6f0718row1_col2\" class=\"data row1 col2\" >A1</td>\n",
       "                        <td id=\"T_e889722a_9cfb_11ed_9bf5_88e9fe6f0718row1_col3\" class=\"data row1 col3\" >B1</td>\n",
       "            </tr>\n",
       "            <tr>\n",
       "                        <th id=\"T_e889722a_9cfb_11ed_9bf5_88e9fe6f0718level0_row2\" class=\"row_heading level0 row2\" >2</th>\n",
       "                        <td id=\"T_e889722a_9cfb_11ed_9bf5_88e9fe6f0718row2_col0\" class=\"data row2 col0\" >K1</td>\n",
       "                        <td id=\"T_e889722a_9cfb_11ed_9bf5_88e9fe6f0718row2_col1\" class=\"data row2 col1\" >K0</td>\n",
       "                        <td id=\"T_e889722a_9cfb_11ed_9bf5_88e9fe6f0718row2_col2\" class=\"data row2 col2\" >A2</td>\n",
       "                        <td id=\"T_e889722a_9cfb_11ed_9bf5_88e9fe6f0718row2_col3\" class=\"data row2 col3\" >B2</td>\n",
       "            </tr>\n",
       "            <tr>\n",
       "                        <th id=\"T_e889722a_9cfb_11ed_9bf5_88e9fe6f0718level0_row3\" class=\"row_heading level0 row3\" >3</th>\n",
       "                        <td id=\"T_e889722a_9cfb_11ed_9bf5_88e9fe6f0718row3_col0\" class=\"data row3 col0\" >K2</td>\n",
       "                        <td id=\"T_e889722a_9cfb_11ed_9bf5_88e9fe6f0718row3_col1\" class=\"data row3 col1\" >K1</td>\n",
       "                        <td id=\"T_e889722a_9cfb_11ed_9bf5_88e9fe6f0718row3_col2\" class=\"data row3 col2\" >A3</td>\n",
       "                        <td id=\"T_e889722a_9cfb_11ed_9bf5_88e9fe6f0718row3_col3\" class=\"data row3 col3\" >B3</td>\n",
       "            </tr>\n",
       "    </tbody></table><style  type=\"text/css\" >\n",
       "</style><table id=\"T_e889b550_9cfb_11ed_9bf5_88e9fe6f0718\" style='display:inline'><caption>Right table</caption><thead>    <tr>        <th class=\"blank level0\" ></th>        <th class=\"col_heading level0 col0\" >key1</th>        <th class=\"col_heading level0 col1\" >key2</th>        <th class=\"col_heading level0 col2\" >C</th>        <th class=\"col_heading level0 col3\" >D</th>    </tr></thead><tbody>\n",
       "                <tr>\n",
       "                        <th id=\"T_e889b550_9cfb_11ed_9bf5_88e9fe6f0718level0_row0\" class=\"row_heading level0 row0\" >0</th>\n",
       "                        <td id=\"T_e889b550_9cfb_11ed_9bf5_88e9fe6f0718row0_col0\" class=\"data row0 col0\" >K0</td>\n",
       "                        <td id=\"T_e889b550_9cfb_11ed_9bf5_88e9fe6f0718row0_col1\" class=\"data row0 col1\" >K0</td>\n",
       "                        <td id=\"T_e889b550_9cfb_11ed_9bf5_88e9fe6f0718row0_col2\" class=\"data row0 col2\" >C0</td>\n",
       "                        <td id=\"T_e889b550_9cfb_11ed_9bf5_88e9fe6f0718row0_col3\" class=\"data row0 col3\" >D0</td>\n",
       "            </tr>\n",
       "            <tr>\n",
       "                        <th id=\"T_e889b550_9cfb_11ed_9bf5_88e9fe6f0718level0_row1\" class=\"row_heading level0 row1\" >1</th>\n",
       "                        <td id=\"T_e889b550_9cfb_11ed_9bf5_88e9fe6f0718row1_col0\" class=\"data row1 col0\" >K1</td>\n",
       "                        <td id=\"T_e889b550_9cfb_11ed_9bf5_88e9fe6f0718row1_col1\" class=\"data row1 col1\" >K0</td>\n",
       "                        <td id=\"T_e889b550_9cfb_11ed_9bf5_88e9fe6f0718row1_col2\" class=\"data row1 col2\" >C1</td>\n",
       "                        <td id=\"T_e889b550_9cfb_11ed_9bf5_88e9fe6f0718row1_col3\" class=\"data row1 col3\" >D1</td>\n",
       "            </tr>\n",
       "            <tr>\n",
       "                        <th id=\"T_e889b550_9cfb_11ed_9bf5_88e9fe6f0718level0_row2\" class=\"row_heading level0 row2\" >2</th>\n",
       "                        <td id=\"T_e889b550_9cfb_11ed_9bf5_88e9fe6f0718row2_col0\" class=\"data row2 col0\" >K1</td>\n",
       "                        <td id=\"T_e889b550_9cfb_11ed_9bf5_88e9fe6f0718row2_col1\" class=\"data row2 col1\" >K0</td>\n",
       "                        <td id=\"T_e889b550_9cfb_11ed_9bf5_88e9fe6f0718row2_col2\" class=\"data row2 col2\" >C2</td>\n",
       "                        <td id=\"T_e889b550_9cfb_11ed_9bf5_88e9fe6f0718row2_col3\" class=\"data row2 col3\" >D2</td>\n",
       "            </tr>\n",
       "            <tr>\n",
       "                        <th id=\"T_e889b550_9cfb_11ed_9bf5_88e9fe6f0718level0_row3\" class=\"row_heading level0 row3\" >3</th>\n",
       "                        <td id=\"T_e889b550_9cfb_11ed_9bf5_88e9fe6f0718row3_col0\" class=\"data row3 col0\" >K2</td>\n",
       "                        <td id=\"T_e889b550_9cfb_11ed_9bf5_88e9fe6f0718row3_col1\" class=\"data row3 col1\" >K0</td>\n",
       "                        <td id=\"T_e889b550_9cfb_11ed_9bf5_88e9fe6f0718row3_col2\" class=\"data row3 col2\" >C3</td>\n",
       "                        <td id=\"T_e889b550_9cfb_11ed_9bf5_88e9fe6f0718row3_col3\" class=\"data row3 col3\" >D3</td>\n",
       "            </tr>\n",
       "    </tbody></table>"
      ]
     },
     "metadata": {},
     "output_type": "display_data"
    }
   ],
   "source": [
    "df1_styler = df1.style.set_table_attributes(\"style='display:inline'\").set_caption('Left table')\n",
    "df2_styler = df2.style.set_table_attributes(\"style='display:inline'\").set_caption('Right table')\n",
    "display_html(df1_styler._repr_html_()+ df2_styler._repr_html_(), raw=True)"
   ]
  },
  {
   "cell_type": "code",
   "execution_count": 6,
   "id": "061cd607",
   "metadata": {},
   "outputs": [
    {
     "data": {
      "text/html": [
       "<div>\n",
       "<style scoped>\n",
       "    .dataframe tbody tr th:only-of-type {\n",
       "        vertical-align: middle;\n",
       "    }\n",
       "\n",
       "    .dataframe tbody tr th {\n",
       "        vertical-align: top;\n",
       "    }\n",
       "\n",
       "    .dataframe thead th {\n",
       "        text-align: right;\n",
       "    }\n",
       "</style>\n",
       "<table border=\"1\" class=\"dataframe\">\n",
       "  <thead>\n",
       "    <tr style=\"text-align: right;\">\n",
       "      <th></th>\n",
       "      <th>key1</th>\n",
       "      <th>key2</th>\n",
       "      <th>A</th>\n",
       "      <th>B</th>\n",
       "      <th>C</th>\n",
       "      <th>D</th>\n",
       "    </tr>\n",
       "  </thead>\n",
       "  <tbody>\n",
       "    <tr>\n",
       "      <th>0</th>\n",
       "      <td>K0</td>\n",
       "      <td>K0</td>\n",
       "      <td>A0</td>\n",
       "      <td>B0</td>\n",
       "      <td>C0</td>\n",
       "      <td>D0</td>\n",
       "    </tr>\n",
       "    <tr>\n",
       "      <th>1</th>\n",
       "      <td>K1</td>\n",
       "      <td>K0</td>\n",
       "      <td>A2</td>\n",
       "      <td>B2</td>\n",
       "      <td>C1</td>\n",
       "      <td>D1</td>\n",
       "    </tr>\n",
       "    <tr>\n",
       "      <th>2</th>\n",
       "      <td>K1</td>\n",
       "      <td>K0</td>\n",
       "      <td>A2</td>\n",
       "      <td>B2</td>\n",
       "      <td>C2</td>\n",
       "      <td>D2</td>\n",
       "    </tr>\n",
       "  </tbody>\n",
       "</table>\n",
       "</div>"
      ],
      "text/plain": [
       "  key1 key2   A   B   C   D\n",
       "0   K0   K0  A0  B0  C0  D0\n",
       "1   K1   K0  A2  B2  C1  D1\n",
       "2   K1   K0  A2  B2  C2  D2"
      ]
     },
     "execution_count": 6,
     "metadata": {},
     "output_type": "execute_result"
    }
   ],
   "source": [
    "# merge, default is inner\n",
    "\n",
    "result = pd.merge(df1, df2)\n",
    "result"
   ]
  },
  {
   "cell_type": "code",
   "execution_count": 7,
   "id": "7e223ab0",
   "metadata": {},
   "outputs": [
    {
     "data": {
      "text/html": [
       "<div>\n",
       "<style scoped>\n",
       "    .dataframe tbody tr th:only-of-type {\n",
       "        vertical-align: middle;\n",
       "    }\n",
       "\n",
       "    .dataframe tbody tr th {\n",
       "        vertical-align: top;\n",
       "    }\n",
       "\n",
       "    .dataframe thead th {\n",
       "        text-align: right;\n",
       "    }\n",
       "</style>\n",
       "<table border=\"1\" class=\"dataframe\">\n",
       "  <thead>\n",
       "    <tr style=\"text-align: right;\">\n",
       "      <th></th>\n",
       "      <th>key1</th>\n",
       "      <th>key2</th>\n",
       "      <th>A</th>\n",
       "      <th>B</th>\n",
       "      <th>C</th>\n",
       "      <th>D</th>\n",
       "    </tr>\n",
       "  </thead>\n",
       "  <tbody>\n",
       "    <tr>\n",
       "      <th>0</th>\n",
       "      <td>K0</td>\n",
       "      <td>K0</td>\n",
       "      <td>A0</td>\n",
       "      <td>B0</td>\n",
       "      <td>C0</td>\n",
       "      <td>D0</td>\n",
       "    </tr>\n",
       "    <tr>\n",
       "      <th>1</th>\n",
       "      <td>K1</td>\n",
       "      <td>K0</td>\n",
       "      <td>A2</td>\n",
       "      <td>B2</td>\n",
       "      <td>C1</td>\n",
       "      <td>D1</td>\n",
       "    </tr>\n",
       "    <tr>\n",
       "      <th>2</th>\n",
       "      <td>K1</td>\n",
       "      <td>K0</td>\n",
       "      <td>A2</td>\n",
       "      <td>B2</td>\n",
       "      <td>C2</td>\n",
       "      <td>D2</td>\n",
       "    </tr>\n",
       "  </tbody>\n",
       "</table>\n",
       "</div>"
      ],
      "text/plain": [
       "  key1 key2   A   B   C   D\n",
       "0   K0   K0  A0  B0  C0  D0\n",
       "1   K1   K0  A2  B2  C1  D1\n",
       "2   K1   K0  A2  B2  C2  D2"
      ]
     },
     "execution_count": 7,
     "metadata": {},
     "output_type": "execute_result"
    }
   ],
   "source": [
    "result_on = pd.merge(df1, df2, on=[\"key1\", \"key2\"])\n",
    "result_on"
   ]
  },
  {
   "cell_type": "markdown",
   "id": "d71c38f1",
   "metadata": {},
   "source": [
    "#### LEFT Merge"
   ]
  },
  {
   "cell_type": "code",
   "execution_count": 8,
   "id": "d8de1abc",
   "metadata": {},
   "outputs": [
    {
     "data": {
      "text/html": [
       "<style  type=\"text/css\" >\n",
       "</style><table id=\"T_e897070a_9cfb_11ed_9bf5_88e9fe6f0718\" style='display:inline'><caption>Left table</caption><thead>    <tr>        <th class=\"blank level0\" ></th>        <th class=\"col_heading level0 col0\" >key1</th>        <th class=\"col_heading level0 col1\" >key2</th>        <th class=\"col_heading level0 col2\" >A</th>        <th class=\"col_heading level0 col3\" >B</th>    </tr></thead><tbody>\n",
       "                <tr>\n",
       "                        <th id=\"T_e897070a_9cfb_11ed_9bf5_88e9fe6f0718level0_row0\" class=\"row_heading level0 row0\" >0</th>\n",
       "                        <td id=\"T_e897070a_9cfb_11ed_9bf5_88e9fe6f0718row0_col0\" class=\"data row0 col0\" >K0</td>\n",
       "                        <td id=\"T_e897070a_9cfb_11ed_9bf5_88e9fe6f0718row0_col1\" class=\"data row0 col1\" >K0</td>\n",
       "                        <td id=\"T_e897070a_9cfb_11ed_9bf5_88e9fe6f0718row0_col2\" class=\"data row0 col2\" >A0</td>\n",
       "                        <td id=\"T_e897070a_9cfb_11ed_9bf5_88e9fe6f0718row0_col3\" class=\"data row0 col3\" >B0</td>\n",
       "            </tr>\n",
       "            <tr>\n",
       "                        <th id=\"T_e897070a_9cfb_11ed_9bf5_88e9fe6f0718level0_row1\" class=\"row_heading level0 row1\" >1</th>\n",
       "                        <td id=\"T_e897070a_9cfb_11ed_9bf5_88e9fe6f0718row1_col0\" class=\"data row1 col0\" >K0</td>\n",
       "                        <td id=\"T_e897070a_9cfb_11ed_9bf5_88e9fe6f0718row1_col1\" class=\"data row1 col1\" >K1</td>\n",
       "                        <td id=\"T_e897070a_9cfb_11ed_9bf5_88e9fe6f0718row1_col2\" class=\"data row1 col2\" >A1</td>\n",
       "                        <td id=\"T_e897070a_9cfb_11ed_9bf5_88e9fe6f0718row1_col3\" class=\"data row1 col3\" >B1</td>\n",
       "            </tr>\n",
       "            <tr>\n",
       "                        <th id=\"T_e897070a_9cfb_11ed_9bf5_88e9fe6f0718level0_row2\" class=\"row_heading level0 row2\" >2</th>\n",
       "                        <td id=\"T_e897070a_9cfb_11ed_9bf5_88e9fe6f0718row2_col0\" class=\"data row2 col0\" >K1</td>\n",
       "                        <td id=\"T_e897070a_9cfb_11ed_9bf5_88e9fe6f0718row2_col1\" class=\"data row2 col1\" >K0</td>\n",
       "                        <td id=\"T_e897070a_9cfb_11ed_9bf5_88e9fe6f0718row2_col2\" class=\"data row2 col2\" >A2</td>\n",
       "                        <td id=\"T_e897070a_9cfb_11ed_9bf5_88e9fe6f0718row2_col3\" class=\"data row2 col3\" >B2</td>\n",
       "            </tr>\n",
       "            <tr>\n",
       "                        <th id=\"T_e897070a_9cfb_11ed_9bf5_88e9fe6f0718level0_row3\" class=\"row_heading level0 row3\" >3</th>\n",
       "                        <td id=\"T_e897070a_9cfb_11ed_9bf5_88e9fe6f0718row3_col0\" class=\"data row3 col0\" >K2</td>\n",
       "                        <td id=\"T_e897070a_9cfb_11ed_9bf5_88e9fe6f0718row3_col1\" class=\"data row3 col1\" >K1</td>\n",
       "                        <td id=\"T_e897070a_9cfb_11ed_9bf5_88e9fe6f0718row3_col2\" class=\"data row3 col2\" >A3</td>\n",
       "                        <td id=\"T_e897070a_9cfb_11ed_9bf5_88e9fe6f0718row3_col3\" class=\"data row3 col3\" >B3</td>\n",
       "            </tr>\n",
       "    </tbody></table><style  type=\"text/css\" >\n",
       "</style><table id=\"T_e897389c_9cfb_11ed_9bf5_88e9fe6f0718\" style='display:inline'><caption>Right table</caption><thead>    <tr>        <th class=\"blank level0\" ></th>        <th class=\"col_heading level0 col0\" >key1</th>        <th class=\"col_heading level0 col1\" >key2</th>        <th class=\"col_heading level0 col2\" >C</th>        <th class=\"col_heading level0 col3\" >D</th>    </tr></thead><tbody>\n",
       "                <tr>\n",
       "                        <th id=\"T_e897389c_9cfb_11ed_9bf5_88e9fe6f0718level0_row0\" class=\"row_heading level0 row0\" >0</th>\n",
       "                        <td id=\"T_e897389c_9cfb_11ed_9bf5_88e9fe6f0718row0_col0\" class=\"data row0 col0\" >K0</td>\n",
       "                        <td id=\"T_e897389c_9cfb_11ed_9bf5_88e9fe6f0718row0_col1\" class=\"data row0 col1\" >K0</td>\n",
       "                        <td id=\"T_e897389c_9cfb_11ed_9bf5_88e9fe6f0718row0_col2\" class=\"data row0 col2\" >C0</td>\n",
       "                        <td id=\"T_e897389c_9cfb_11ed_9bf5_88e9fe6f0718row0_col3\" class=\"data row0 col3\" >D0</td>\n",
       "            </tr>\n",
       "            <tr>\n",
       "                        <th id=\"T_e897389c_9cfb_11ed_9bf5_88e9fe6f0718level0_row1\" class=\"row_heading level0 row1\" >1</th>\n",
       "                        <td id=\"T_e897389c_9cfb_11ed_9bf5_88e9fe6f0718row1_col0\" class=\"data row1 col0\" >K1</td>\n",
       "                        <td id=\"T_e897389c_9cfb_11ed_9bf5_88e9fe6f0718row1_col1\" class=\"data row1 col1\" >K0</td>\n",
       "                        <td id=\"T_e897389c_9cfb_11ed_9bf5_88e9fe6f0718row1_col2\" class=\"data row1 col2\" >C1</td>\n",
       "                        <td id=\"T_e897389c_9cfb_11ed_9bf5_88e9fe6f0718row1_col3\" class=\"data row1 col3\" >D1</td>\n",
       "            </tr>\n",
       "            <tr>\n",
       "                        <th id=\"T_e897389c_9cfb_11ed_9bf5_88e9fe6f0718level0_row2\" class=\"row_heading level0 row2\" >2</th>\n",
       "                        <td id=\"T_e897389c_9cfb_11ed_9bf5_88e9fe6f0718row2_col0\" class=\"data row2 col0\" >K1</td>\n",
       "                        <td id=\"T_e897389c_9cfb_11ed_9bf5_88e9fe6f0718row2_col1\" class=\"data row2 col1\" >K0</td>\n",
       "                        <td id=\"T_e897389c_9cfb_11ed_9bf5_88e9fe6f0718row2_col2\" class=\"data row2 col2\" >C2</td>\n",
       "                        <td id=\"T_e897389c_9cfb_11ed_9bf5_88e9fe6f0718row2_col3\" class=\"data row2 col3\" >D2</td>\n",
       "            </tr>\n",
       "            <tr>\n",
       "                        <th id=\"T_e897389c_9cfb_11ed_9bf5_88e9fe6f0718level0_row3\" class=\"row_heading level0 row3\" >3</th>\n",
       "                        <td id=\"T_e897389c_9cfb_11ed_9bf5_88e9fe6f0718row3_col0\" class=\"data row3 col0\" >K2</td>\n",
       "                        <td id=\"T_e897389c_9cfb_11ed_9bf5_88e9fe6f0718row3_col1\" class=\"data row3 col1\" >K0</td>\n",
       "                        <td id=\"T_e897389c_9cfb_11ed_9bf5_88e9fe6f0718row3_col2\" class=\"data row3 col2\" >C3</td>\n",
       "                        <td id=\"T_e897389c_9cfb_11ed_9bf5_88e9fe6f0718row3_col3\" class=\"data row3 col3\" >D3</td>\n",
       "            </tr>\n",
       "    </tbody></table><style  type=\"text/css\" >\n",
       "</style><table id=\"T_e8976a88_9cfb_11ed_9bf5_88e9fe6f0718\" style='display:inline'><caption>left_merge</caption><thead>    <tr>        <th class=\"blank level0\" ></th>        <th class=\"col_heading level0 col0\" >key1</th>        <th class=\"col_heading level0 col1\" >key2</th>        <th class=\"col_heading level0 col2\" >A</th>        <th class=\"col_heading level0 col3\" >B</th>        <th class=\"col_heading level0 col4\" >C</th>        <th class=\"col_heading level0 col5\" >D</th>    </tr></thead><tbody>\n",
       "                <tr>\n",
       "                        <th id=\"T_e8976a88_9cfb_11ed_9bf5_88e9fe6f0718level0_row0\" class=\"row_heading level0 row0\" >0</th>\n",
       "                        <td id=\"T_e8976a88_9cfb_11ed_9bf5_88e9fe6f0718row0_col0\" class=\"data row0 col0\" >K0</td>\n",
       "                        <td id=\"T_e8976a88_9cfb_11ed_9bf5_88e9fe6f0718row0_col1\" class=\"data row0 col1\" >K0</td>\n",
       "                        <td id=\"T_e8976a88_9cfb_11ed_9bf5_88e9fe6f0718row0_col2\" class=\"data row0 col2\" >A0</td>\n",
       "                        <td id=\"T_e8976a88_9cfb_11ed_9bf5_88e9fe6f0718row0_col3\" class=\"data row0 col3\" >B0</td>\n",
       "                        <td id=\"T_e8976a88_9cfb_11ed_9bf5_88e9fe6f0718row0_col4\" class=\"data row0 col4\" >C0</td>\n",
       "                        <td id=\"T_e8976a88_9cfb_11ed_9bf5_88e9fe6f0718row0_col5\" class=\"data row0 col5\" >D0</td>\n",
       "            </tr>\n",
       "            <tr>\n",
       "                        <th id=\"T_e8976a88_9cfb_11ed_9bf5_88e9fe6f0718level0_row1\" class=\"row_heading level0 row1\" >1</th>\n",
       "                        <td id=\"T_e8976a88_9cfb_11ed_9bf5_88e9fe6f0718row1_col0\" class=\"data row1 col0\" >K0</td>\n",
       "                        <td id=\"T_e8976a88_9cfb_11ed_9bf5_88e9fe6f0718row1_col1\" class=\"data row1 col1\" >K1</td>\n",
       "                        <td id=\"T_e8976a88_9cfb_11ed_9bf5_88e9fe6f0718row1_col2\" class=\"data row1 col2\" >A1</td>\n",
       "                        <td id=\"T_e8976a88_9cfb_11ed_9bf5_88e9fe6f0718row1_col3\" class=\"data row1 col3\" >B1</td>\n",
       "                        <td id=\"T_e8976a88_9cfb_11ed_9bf5_88e9fe6f0718row1_col4\" class=\"data row1 col4\" >nan</td>\n",
       "                        <td id=\"T_e8976a88_9cfb_11ed_9bf5_88e9fe6f0718row1_col5\" class=\"data row1 col5\" >nan</td>\n",
       "            </tr>\n",
       "            <tr>\n",
       "                        <th id=\"T_e8976a88_9cfb_11ed_9bf5_88e9fe6f0718level0_row2\" class=\"row_heading level0 row2\" >2</th>\n",
       "                        <td id=\"T_e8976a88_9cfb_11ed_9bf5_88e9fe6f0718row2_col0\" class=\"data row2 col0\" >K1</td>\n",
       "                        <td id=\"T_e8976a88_9cfb_11ed_9bf5_88e9fe6f0718row2_col1\" class=\"data row2 col1\" >K0</td>\n",
       "                        <td id=\"T_e8976a88_9cfb_11ed_9bf5_88e9fe6f0718row2_col2\" class=\"data row2 col2\" >A2</td>\n",
       "                        <td id=\"T_e8976a88_9cfb_11ed_9bf5_88e9fe6f0718row2_col3\" class=\"data row2 col3\" >B2</td>\n",
       "                        <td id=\"T_e8976a88_9cfb_11ed_9bf5_88e9fe6f0718row2_col4\" class=\"data row2 col4\" >C1</td>\n",
       "                        <td id=\"T_e8976a88_9cfb_11ed_9bf5_88e9fe6f0718row2_col5\" class=\"data row2 col5\" >D1</td>\n",
       "            </tr>\n",
       "            <tr>\n",
       "                        <th id=\"T_e8976a88_9cfb_11ed_9bf5_88e9fe6f0718level0_row3\" class=\"row_heading level0 row3\" >3</th>\n",
       "                        <td id=\"T_e8976a88_9cfb_11ed_9bf5_88e9fe6f0718row3_col0\" class=\"data row3 col0\" >K1</td>\n",
       "                        <td id=\"T_e8976a88_9cfb_11ed_9bf5_88e9fe6f0718row3_col1\" class=\"data row3 col1\" >K0</td>\n",
       "                        <td id=\"T_e8976a88_9cfb_11ed_9bf5_88e9fe6f0718row3_col2\" class=\"data row3 col2\" >A2</td>\n",
       "                        <td id=\"T_e8976a88_9cfb_11ed_9bf5_88e9fe6f0718row3_col3\" class=\"data row3 col3\" >B2</td>\n",
       "                        <td id=\"T_e8976a88_9cfb_11ed_9bf5_88e9fe6f0718row3_col4\" class=\"data row3 col4\" >C2</td>\n",
       "                        <td id=\"T_e8976a88_9cfb_11ed_9bf5_88e9fe6f0718row3_col5\" class=\"data row3 col5\" >D2</td>\n",
       "            </tr>\n",
       "            <tr>\n",
       "                        <th id=\"T_e8976a88_9cfb_11ed_9bf5_88e9fe6f0718level0_row4\" class=\"row_heading level0 row4\" >4</th>\n",
       "                        <td id=\"T_e8976a88_9cfb_11ed_9bf5_88e9fe6f0718row4_col0\" class=\"data row4 col0\" >K2</td>\n",
       "                        <td id=\"T_e8976a88_9cfb_11ed_9bf5_88e9fe6f0718row4_col1\" class=\"data row4 col1\" >K1</td>\n",
       "                        <td id=\"T_e8976a88_9cfb_11ed_9bf5_88e9fe6f0718row4_col2\" class=\"data row4 col2\" >A3</td>\n",
       "                        <td id=\"T_e8976a88_9cfb_11ed_9bf5_88e9fe6f0718row4_col3\" class=\"data row4 col3\" >B3</td>\n",
       "                        <td id=\"T_e8976a88_9cfb_11ed_9bf5_88e9fe6f0718row4_col4\" class=\"data row4 col4\" >nan</td>\n",
       "                        <td id=\"T_e8976a88_9cfb_11ed_9bf5_88e9fe6f0718row4_col5\" class=\"data row4 col5\" >nan</td>\n",
       "            </tr>\n",
       "    </tbody></table>"
      ]
     },
     "metadata": {},
     "output_type": "display_data"
    }
   ],
   "source": [
    "left_merge = pd.merge(df1, df2, how=\"left\")\n",
    "\n",
    "\n",
    "df1_styler = df1.style.set_table_attributes(\"style='display:inline'\").set_caption('Left table')\n",
    "df2_styler = df2.style.set_table_attributes(\"style='display:inline'\").set_caption('Right table')\n",
    "left_merge = left_merge.style.set_table_attributes(\"style='display:inline'\").set_caption(\"left_merge\")\n",
    "\n",
    "display_html(df1_styler._repr_html_()+ df2_styler._repr_html_() + left_merge._repr_html_(), raw=True)"
   ]
  },
  {
   "cell_type": "markdown",
   "id": "364ddbeb",
   "metadata": {},
   "source": [
    "#### RIGHT Merge"
   ]
  },
  {
   "cell_type": "code",
   "execution_count": 9,
   "id": "0ccee3bd",
   "metadata": {
    "scrolled": true
   },
   "outputs": [
    {
     "data": {
      "text/html": [
       "<style  type=\"text/css\" >\n",
       "</style><table id=\"T_e89a2098_9cfb_11ed_9bf5_88e9fe6f0718\" style='display:inline'><caption>Left table</caption><thead>    <tr>        <th class=\"blank level0\" ></th>        <th class=\"col_heading level0 col0\" >key1</th>        <th class=\"col_heading level0 col1\" >key2</th>        <th class=\"col_heading level0 col2\" >A</th>        <th class=\"col_heading level0 col3\" >B</th>    </tr></thead><tbody>\n",
       "                <tr>\n",
       "                        <th id=\"T_e89a2098_9cfb_11ed_9bf5_88e9fe6f0718level0_row0\" class=\"row_heading level0 row0\" >0</th>\n",
       "                        <td id=\"T_e89a2098_9cfb_11ed_9bf5_88e9fe6f0718row0_col0\" class=\"data row0 col0\" >K0</td>\n",
       "                        <td id=\"T_e89a2098_9cfb_11ed_9bf5_88e9fe6f0718row0_col1\" class=\"data row0 col1\" >K0</td>\n",
       "                        <td id=\"T_e89a2098_9cfb_11ed_9bf5_88e9fe6f0718row0_col2\" class=\"data row0 col2\" >A0</td>\n",
       "                        <td id=\"T_e89a2098_9cfb_11ed_9bf5_88e9fe6f0718row0_col3\" class=\"data row0 col3\" >B0</td>\n",
       "            </tr>\n",
       "            <tr>\n",
       "                        <th id=\"T_e89a2098_9cfb_11ed_9bf5_88e9fe6f0718level0_row1\" class=\"row_heading level0 row1\" >1</th>\n",
       "                        <td id=\"T_e89a2098_9cfb_11ed_9bf5_88e9fe6f0718row1_col0\" class=\"data row1 col0\" >K0</td>\n",
       "                        <td id=\"T_e89a2098_9cfb_11ed_9bf5_88e9fe6f0718row1_col1\" class=\"data row1 col1\" >K1</td>\n",
       "                        <td id=\"T_e89a2098_9cfb_11ed_9bf5_88e9fe6f0718row1_col2\" class=\"data row1 col2\" >A1</td>\n",
       "                        <td id=\"T_e89a2098_9cfb_11ed_9bf5_88e9fe6f0718row1_col3\" class=\"data row1 col3\" >B1</td>\n",
       "            </tr>\n",
       "            <tr>\n",
       "                        <th id=\"T_e89a2098_9cfb_11ed_9bf5_88e9fe6f0718level0_row2\" class=\"row_heading level0 row2\" >2</th>\n",
       "                        <td id=\"T_e89a2098_9cfb_11ed_9bf5_88e9fe6f0718row2_col0\" class=\"data row2 col0\" >K1</td>\n",
       "                        <td id=\"T_e89a2098_9cfb_11ed_9bf5_88e9fe6f0718row2_col1\" class=\"data row2 col1\" >K0</td>\n",
       "                        <td id=\"T_e89a2098_9cfb_11ed_9bf5_88e9fe6f0718row2_col2\" class=\"data row2 col2\" >A2</td>\n",
       "                        <td id=\"T_e89a2098_9cfb_11ed_9bf5_88e9fe6f0718row2_col3\" class=\"data row2 col3\" >B2</td>\n",
       "            </tr>\n",
       "            <tr>\n",
       "                        <th id=\"T_e89a2098_9cfb_11ed_9bf5_88e9fe6f0718level0_row3\" class=\"row_heading level0 row3\" >3</th>\n",
       "                        <td id=\"T_e89a2098_9cfb_11ed_9bf5_88e9fe6f0718row3_col0\" class=\"data row3 col0\" >K2</td>\n",
       "                        <td id=\"T_e89a2098_9cfb_11ed_9bf5_88e9fe6f0718row3_col1\" class=\"data row3 col1\" >K1</td>\n",
       "                        <td id=\"T_e89a2098_9cfb_11ed_9bf5_88e9fe6f0718row3_col2\" class=\"data row3 col2\" >A3</td>\n",
       "                        <td id=\"T_e89a2098_9cfb_11ed_9bf5_88e9fe6f0718row3_col3\" class=\"data row3 col3\" >B3</td>\n",
       "            </tr>\n",
       "    </tbody></table><style  type=\"text/css\" >\n",
       "</style><table id=\"T_e89a54d2_9cfb_11ed_9bf5_88e9fe6f0718\" style='display:inline'><caption>Right table</caption><thead>    <tr>        <th class=\"blank level0\" ></th>        <th class=\"col_heading level0 col0\" >key1</th>        <th class=\"col_heading level0 col1\" >key2</th>        <th class=\"col_heading level0 col2\" >C</th>        <th class=\"col_heading level0 col3\" >D</th>    </tr></thead><tbody>\n",
       "                <tr>\n",
       "                        <th id=\"T_e89a54d2_9cfb_11ed_9bf5_88e9fe6f0718level0_row0\" class=\"row_heading level0 row0\" >0</th>\n",
       "                        <td id=\"T_e89a54d2_9cfb_11ed_9bf5_88e9fe6f0718row0_col0\" class=\"data row0 col0\" >K0</td>\n",
       "                        <td id=\"T_e89a54d2_9cfb_11ed_9bf5_88e9fe6f0718row0_col1\" class=\"data row0 col1\" >K0</td>\n",
       "                        <td id=\"T_e89a54d2_9cfb_11ed_9bf5_88e9fe6f0718row0_col2\" class=\"data row0 col2\" >C0</td>\n",
       "                        <td id=\"T_e89a54d2_9cfb_11ed_9bf5_88e9fe6f0718row0_col3\" class=\"data row0 col3\" >D0</td>\n",
       "            </tr>\n",
       "            <tr>\n",
       "                        <th id=\"T_e89a54d2_9cfb_11ed_9bf5_88e9fe6f0718level0_row1\" class=\"row_heading level0 row1\" >1</th>\n",
       "                        <td id=\"T_e89a54d2_9cfb_11ed_9bf5_88e9fe6f0718row1_col0\" class=\"data row1 col0\" >K1</td>\n",
       "                        <td id=\"T_e89a54d2_9cfb_11ed_9bf5_88e9fe6f0718row1_col1\" class=\"data row1 col1\" >K0</td>\n",
       "                        <td id=\"T_e89a54d2_9cfb_11ed_9bf5_88e9fe6f0718row1_col2\" class=\"data row1 col2\" >C1</td>\n",
       "                        <td id=\"T_e89a54d2_9cfb_11ed_9bf5_88e9fe6f0718row1_col3\" class=\"data row1 col3\" >D1</td>\n",
       "            </tr>\n",
       "            <tr>\n",
       "                        <th id=\"T_e89a54d2_9cfb_11ed_9bf5_88e9fe6f0718level0_row2\" class=\"row_heading level0 row2\" >2</th>\n",
       "                        <td id=\"T_e89a54d2_9cfb_11ed_9bf5_88e9fe6f0718row2_col0\" class=\"data row2 col0\" >K1</td>\n",
       "                        <td id=\"T_e89a54d2_9cfb_11ed_9bf5_88e9fe6f0718row2_col1\" class=\"data row2 col1\" >K0</td>\n",
       "                        <td id=\"T_e89a54d2_9cfb_11ed_9bf5_88e9fe6f0718row2_col2\" class=\"data row2 col2\" >C2</td>\n",
       "                        <td id=\"T_e89a54d2_9cfb_11ed_9bf5_88e9fe6f0718row2_col3\" class=\"data row2 col3\" >D2</td>\n",
       "            </tr>\n",
       "            <tr>\n",
       "                        <th id=\"T_e89a54d2_9cfb_11ed_9bf5_88e9fe6f0718level0_row3\" class=\"row_heading level0 row3\" >3</th>\n",
       "                        <td id=\"T_e89a54d2_9cfb_11ed_9bf5_88e9fe6f0718row3_col0\" class=\"data row3 col0\" >K2</td>\n",
       "                        <td id=\"T_e89a54d2_9cfb_11ed_9bf5_88e9fe6f0718row3_col1\" class=\"data row3 col1\" >K0</td>\n",
       "                        <td id=\"T_e89a54d2_9cfb_11ed_9bf5_88e9fe6f0718row3_col2\" class=\"data row3 col2\" >C3</td>\n",
       "                        <td id=\"T_e89a54d2_9cfb_11ed_9bf5_88e9fe6f0718row3_col3\" class=\"data row3 col3\" >D3</td>\n",
       "            </tr>\n",
       "    </tbody></table><style  type=\"text/css\" >\n",
       "</style><table id=\"T_e89a7cf0_9cfb_11ed_9bf5_88e9fe6f0718\" style='display:inline'><caption>right_merge</caption><thead>    <tr>        <th class=\"blank level0\" ></th>        <th class=\"col_heading level0 col0\" >key1</th>        <th class=\"col_heading level0 col1\" >key2</th>        <th class=\"col_heading level0 col2\" >A</th>        <th class=\"col_heading level0 col3\" >B</th>        <th class=\"col_heading level0 col4\" >C</th>        <th class=\"col_heading level0 col5\" >D</th>    </tr></thead><tbody>\n",
       "                <tr>\n",
       "                        <th id=\"T_e89a7cf0_9cfb_11ed_9bf5_88e9fe6f0718level0_row0\" class=\"row_heading level0 row0\" >0</th>\n",
       "                        <td id=\"T_e89a7cf0_9cfb_11ed_9bf5_88e9fe6f0718row0_col0\" class=\"data row0 col0\" >K0</td>\n",
       "                        <td id=\"T_e89a7cf0_9cfb_11ed_9bf5_88e9fe6f0718row0_col1\" class=\"data row0 col1\" >K0</td>\n",
       "                        <td id=\"T_e89a7cf0_9cfb_11ed_9bf5_88e9fe6f0718row0_col2\" class=\"data row0 col2\" >A0</td>\n",
       "                        <td id=\"T_e89a7cf0_9cfb_11ed_9bf5_88e9fe6f0718row0_col3\" class=\"data row0 col3\" >B0</td>\n",
       "                        <td id=\"T_e89a7cf0_9cfb_11ed_9bf5_88e9fe6f0718row0_col4\" class=\"data row0 col4\" >C0</td>\n",
       "                        <td id=\"T_e89a7cf0_9cfb_11ed_9bf5_88e9fe6f0718row0_col5\" class=\"data row0 col5\" >D0</td>\n",
       "            </tr>\n",
       "            <tr>\n",
       "                        <th id=\"T_e89a7cf0_9cfb_11ed_9bf5_88e9fe6f0718level0_row1\" class=\"row_heading level0 row1\" >1</th>\n",
       "                        <td id=\"T_e89a7cf0_9cfb_11ed_9bf5_88e9fe6f0718row1_col0\" class=\"data row1 col0\" >K1</td>\n",
       "                        <td id=\"T_e89a7cf0_9cfb_11ed_9bf5_88e9fe6f0718row1_col1\" class=\"data row1 col1\" >K0</td>\n",
       "                        <td id=\"T_e89a7cf0_9cfb_11ed_9bf5_88e9fe6f0718row1_col2\" class=\"data row1 col2\" >A2</td>\n",
       "                        <td id=\"T_e89a7cf0_9cfb_11ed_9bf5_88e9fe6f0718row1_col3\" class=\"data row1 col3\" >B2</td>\n",
       "                        <td id=\"T_e89a7cf0_9cfb_11ed_9bf5_88e9fe6f0718row1_col4\" class=\"data row1 col4\" >C1</td>\n",
       "                        <td id=\"T_e89a7cf0_9cfb_11ed_9bf5_88e9fe6f0718row1_col5\" class=\"data row1 col5\" >D1</td>\n",
       "            </tr>\n",
       "            <tr>\n",
       "                        <th id=\"T_e89a7cf0_9cfb_11ed_9bf5_88e9fe6f0718level0_row2\" class=\"row_heading level0 row2\" >2</th>\n",
       "                        <td id=\"T_e89a7cf0_9cfb_11ed_9bf5_88e9fe6f0718row2_col0\" class=\"data row2 col0\" >K1</td>\n",
       "                        <td id=\"T_e89a7cf0_9cfb_11ed_9bf5_88e9fe6f0718row2_col1\" class=\"data row2 col1\" >K0</td>\n",
       "                        <td id=\"T_e89a7cf0_9cfb_11ed_9bf5_88e9fe6f0718row2_col2\" class=\"data row2 col2\" >A2</td>\n",
       "                        <td id=\"T_e89a7cf0_9cfb_11ed_9bf5_88e9fe6f0718row2_col3\" class=\"data row2 col3\" >B2</td>\n",
       "                        <td id=\"T_e89a7cf0_9cfb_11ed_9bf5_88e9fe6f0718row2_col4\" class=\"data row2 col4\" >C2</td>\n",
       "                        <td id=\"T_e89a7cf0_9cfb_11ed_9bf5_88e9fe6f0718row2_col5\" class=\"data row2 col5\" >D2</td>\n",
       "            </tr>\n",
       "            <tr>\n",
       "                        <th id=\"T_e89a7cf0_9cfb_11ed_9bf5_88e9fe6f0718level0_row3\" class=\"row_heading level0 row3\" >3</th>\n",
       "                        <td id=\"T_e89a7cf0_9cfb_11ed_9bf5_88e9fe6f0718row3_col0\" class=\"data row3 col0\" >K2</td>\n",
       "                        <td id=\"T_e89a7cf0_9cfb_11ed_9bf5_88e9fe6f0718row3_col1\" class=\"data row3 col1\" >K0</td>\n",
       "                        <td id=\"T_e89a7cf0_9cfb_11ed_9bf5_88e9fe6f0718row3_col2\" class=\"data row3 col2\" >nan</td>\n",
       "                        <td id=\"T_e89a7cf0_9cfb_11ed_9bf5_88e9fe6f0718row3_col3\" class=\"data row3 col3\" >nan</td>\n",
       "                        <td id=\"T_e89a7cf0_9cfb_11ed_9bf5_88e9fe6f0718row3_col4\" class=\"data row3 col4\" >C3</td>\n",
       "                        <td id=\"T_e89a7cf0_9cfb_11ed_9bf5_88e9fe6f0718row3_col5\" class=\"data row3 col5\" >D3</td>\n",
       "            </tr>\n",
       "    </tbody></table>"
      ]
     },
     "metadata": {},
     "output_type": "display_data"
    }
   ],
   "source": [
    "right_merge = pd.merge(df1, df2, how=\"right\")\n",
    "\n",
    "\n",
    "df1_styler = df1.style.set_table_attributes(\"style='display:inline'\").set_caption('Left table')\n",
    "df2_styler = df2.style.set_table_attributes(\"style='display:inline'\").set_caption('Right table')\n",
    "right_merge = right_merge.style.set_table_attributes(\"style='display:inline'\").set_caption(\"right_merge\")\n",
    "\n",
    "display_html(df1_styler._repr_html_()+ df2_styler._repr_html_() + right_merge._repr_html_(), raw=True)"
   ]
  },
  {
   "cell_type": "markdown",
   "id": "0b9cac56",
   "metadata": {},
   "source": [
    "#### INNER Merge"
   ]
  },
  {
   "cell_type": "code",
   "execution_count": 10,
   "id": "0ebb4de2",
   "metadata": {
    "scrolled": false
   },
   "outputs": [
    {
     "data": {
      "text/html": [
       "<style  type=\"text/css\" >\n",
       "</style><table id=\"T_e89db604_9cfb_11ed_9bf5_88e9fe6f0718\" style='display:inline'><caption>Left table</caption><thead>    <tr>        <th class=\"blank level0\" ></th>        <th class=\"col_heading level0 col0\" >key1</th>        <th class=\"col_heading level0 col1\" >key2</th>        <th class=\"col_heading level0 col2\" >A</th>        <th class=\"col_heading level0 col3\" >B</th>    </tr></thead><tbody>\n",
       "                <tr>\n",
       "                        <th id=\"T_e89db604_9cfb_11ed_9bf5_88e9fe6f0718level0_row0\" class=\"row_heading level0 row0\" >0</th>\n",
       "                        <td id=\"T_e89db604_9cfb_11ed_9bf5_88e9fe6f0718row0_col0\" class=\"data row0 col0\" >K0</td>\n",
       "                        <td id=\"T_e89db604_9cfb_11ed_9bf5_88e9fe6f0718row0_col1\" class=\"data row0 col1\" >K0</td>\n",
       "                        <td id=\"T_e89db604_9cfb_11ed_9bf5_88e9fe6f0718row0_col2\" class=\"data row0 col2\" >A0</td>\n",
       "                        <td id=\"T_e89db604_9cfb_11ed_9bf5_88e9fe6f0718row0_col3\" class=\"data row0 col3\" >B0</td>\n",
       "            </tr>\n",
       "            <tr>\n",
       "                        <th id=\"T_e89db604_9cfb_11ed_9bf5_88e9fe6f0718level0_row1\" class=\"row_heading level0 row1\" >1</th>\n",
       "                        <td id=\"T_e89db604_9cfb_11ed_9bf5_88e9fe6f0718row1_col0\" class=\"data row1 col0\" >K0</td>\n",
       "                        <td id=\"T_e89db604_9cfb_11ed_9bf5_88e9fe6f0718row1_col1\" class=\"data row1 col1\" >K1</td>\n",
       "                        <td id=\"T_e89db604_9cfb_11ed_9bf5_88e9fe6f0718row1_col2\" class=\"data row1 col2\" >A1</td>\n",
       "                        <td id=\"T_e89db604_9cfb_11ed_9bf5_88e9fe6f0718row1_col3\" class=\"data row1 col3\" >B1</td>\n",
       "            </tr>\n",
       "            <tr>\n",
       "                        <th id=\"T_e89db604_9cfb_11ed_9bf5_88e9fe6f0718level0_row2\" class=\"row_heading level0 row2\" >2</th>\n",
       "                        <td id=\"T_e89db604_9cfb_11ed_9bf5_88e9fe6f0718row2_col0\" class=\"data row2 col0\" >K1</td>\n",
       "                        <td id=\"T_e89db604_9cfb_11ed_9bf5_88e9fe6f0718row2_col1\" class=\"data row2 col1\" >K0</td>\n",
       "                        <td id=\"T_e89db604_9cfb_11ed_9bf5_88e9fe6f0718row2_col2\" class=\"data row2 col2\" >A2</td>\n",
       "                        <td id=\"T_e89db604_9cfb_11ed_9bf5_88e9fe6f0718row2_col3\" class=\"data row2 col3\" >B2</td>\n",
       "            </tr>\n",
       "            <tr>\n",
       "                        <th id=\"T_e89db604_9cfb_11ed_9bf5_88e9fe6f0718level0_row3\" class=\"row_heading level0 row3\" >3</th>\n",
       "                        <td id=\"T_e89db604_9cfb_11ed_9bf5_88e9fe6f0718row3_col0\" class=\"data row3 col0\" >K2</td>\n",
       "                        <td id=\"T_e89db604_9cfb_11ed_9bf5_88e9fe6f0718row3_col1\" class=\"data row3 col1\" >K1</td>\n",
       "                        <td id=\"T_e89db604_9cfb_11ed_9bf5_88e9fe6f0718row3_col2\" class=\"data row3 col2\" >A3</td>\n",
       "                        <td id=\"T_e89db604_9cfb_11ed_9bf5_88e9fe6f0718row3_col3\" class=\"data row3 col3\" >B3</td>\n",
       "            </tr>\n",
       "    </tbody></table><style  type=\"text/css\" >\n",
       "</style><table id=\"T_e89de246_9cfb_11ed_9bf5_88e9fe6f0718\" style='display:inline'><caption>Right table</caption><thead>    <tr>        <th class=\"blank level0\" ></th>        <th class=\"col_heading level0 col0\" >key1</th>        <th class=\"col_heading level0 col1\" >key2</th>        <th class=\"col_heading level0 col2\" >C</th>        <th class=\"col_heading level0 col3\" >D</th>    </tr></thead><tbody>\n",
       "                <tr>\n",
       "                        <th id=\"T_e89de246_9cfb_11ed_9bf5_88e9fe6f0718level0_row0\" class=\"row_heading level0 row0\" >0</th>\n",
       "                        <td id=\"T_e89de246_9cfb_11ed_9bf5_88e9fe6f0718row0_col0\" class=\"data row0 col0\" >K0</td>\n",
       "                        <td id=\"T_e89de246_9cfb_11ed_9bf5_88e9fe6f0718row0_col1\" class=\"data row0 col1\" >K0</td>\n",
       "                        <td id=\"T_e89de246_9cfb_11ed_9bf5_88e9fe6f0718row0_col2\" class=\"data row0 col2\" >C0</td>\n",
       "                        <td id=\"T_e89de246_9cfb_11ed_9bf5_88e9fe6f0718row0_col3\" class=\"data row0 col3\" >D0</td>\n",
       "            </tr>\n",
       "            <tr>\n",
       "                        <th id=\"T_e89de246_9cfb_11ed_9bf5_88e9fe6f0718level0_row1\" class=\"row_heading level0 row1\" >1</th>\n",
       "                        <td id=\"T_e89de246_9cfb_11ed_9bf5_88e9fe6f0718row1_col0\" class=\"data row1 col0\" >K1</td>\n",
       "                        <td id=\"T_e89de246_9cfb_11ed_9bf5_88e9fe6f0718row1_col1\" class=\"data row1 col1\" >K0</td>\n",
       "                        <td id=\"T_e89de246_9cfb_11ed_9bf5_88e9fe6f0718row1_col2\" class=\"data row1 col2\" >C1</td>\n",
       "                        <td id=\"T_e89de246_9cfb_11ed_9bf5_88e9fe6f0718row1_col3\" class=\"data row1 col3\" >D1</td>\n",
       "            </tr>\n",
       "            <tr>\n",
       "                        <th id=\"T_e89de246_9cfb_11ed_9bf5_88e9fe6f0718level0_row2\" class=\"row_heading level0 row2\" >2</th>\n",
       "                        <td id=\"T_e89de246_9cfb_11ed_9bf5_88e9fe6f0718row2_col0\" class=\"data row2 col0\" >K1</td>\n",
       "                        <td id=\"T_e89de246_9cfb_11ed_9bf5_88e9fe6f0718row2_col1\" class=\"data row2 col1\" >K0</td>\n",
       "                        <td id=\"T_e89de246_9cfb_11ed_9bf5_88e9fe6f0718row2_col2\" class=\"data row2 col2\" >C2</td>\n",
       "                        <td id=\"T_e89de246_9cfb_11ed_9bf5_88e9fe6f0718row2_col3\" class=\"data row2 col3\" >D2</td>\n",
       "            </tr>\n",
       "            <tr>\n",
       "                        <th id=\"T_e89de246_9cfb_11ed_9bf5_88e9fe6f0718level0_row3\" class=\"row_heading level0 row3\" >3</th>\n",
       "                        <td id=\"T_e89de246_9cfb_11ed_9bf5_88e9fe6f0718row3_col0\" class=\"data row3 col0\" >K2</td>\n",
       "                        <td id=\"T_e89de246_9cfb_11ed_9bf5_88e9fe6f0718row3_col1\" class=\"data row3 col1\" >K0</td>\n",
       "                        <td id=\"T_e89de246_9cfb_11ed_9bf5_88e9fe6f0718row3_col2\" class=\"data row3 col2\" >C3</td>\n",
       "                        <td id=\"T_e89de246_9cfb_11ed_9bf5_88e9fe6f0718row3_col3\" class=\"data row3 col3\" >D3</td>\n",
       "            </tr>\n",
       "    </tbody></table><style  type=\"text/css\" >\n",
       "</style><table id=\"T_e89e0a64_9cfb_11ed_9bf5_88e9fe6f0718\" style='display:inline'><caption>inner_merge</caption><thead>    <tr>        <th class=\"blank level0\" ></th>        <th class=\"col_heading level0 col0\" >key1</th>        <th class=\"col_heading level0 col1\" >key2</th>        <th class=\"col_heading level0 col2\" >A</th>        <th class=\"col_heading level0 col3\" >B</th>        <th class=\"col_heading level0 col4\" >C</th>        <th class=\"col_heading level0 col5\" >D</th>    </tr></thead><tbody>\n",
       "                <tr>\n",
       "                        <th id=\"T_e89e0a64_9cfb_11ed_9bf5_88e9fe6f0718level0_row0\" class=\"row_heading level0 row0\" >0</th>\n",
       "                        <td id=\"T_e89e0a64_9cfb_11ed_9bf5_88e9fe6f0718row0_col0\" class=\"data row0 col0\" >K0</td>\n",
       "                        <td id=\"T_e89e0a64_9cfb_11ed_9bf5_88e9fe6f0718row0_col1\" class=\"data row0 col1\" >K0</td>\n",
       "                        <td id=\"T_e89e0a64_9cfb_11ed_9bf5_88e9fe6f0718row0_col2\" class=\"data row0 col2\" >A0</td>\n",
       "                        <td id=\"T_e89e0a64_9cfb_11ed_9bf5_88e9fe6f0718row0_col3\" class=\"data row0 col3\" >B0</td>\n",
       "                        <td id=\"T_e89e0a64_9cfb_11ed_9bf5_88e9fe6f0718row0_col4\" class=\"data row0 col4\" >C0</td>\n",
       "                        <td id=\"T_e89e0a64_9cfb_11ed_9bf5_88e9fe6f0718row0_col5\" class=\"data row0 col5\" >D0</td>\n",
       "            </tr>\n",
       "            <tr>\n",
       "                        <th id=\"T_e89e0a64_9cfb_11ed_9bf5_88e9fe6f0718level0_row1\" class=\"row_heading level0 row1\" >1</th>\n",
       "                        <td id=\"T_e89e0a64_9cfb_11ed_9bf5_88e9fe6f0718row1_col0\" class=\"data row1 col0\" >K1</td>\n",
       "                        <td id=\"T_e89e0a64_9cfb_11ed_9bf5_88e9fe6f0718row1_col1\" class=\"data row1 col1\" >K0</td>\n",
       "                        <td id=\"T_e89e0a64_9cfb_11ed_9bf5_88e9fe6f0718row1_col2\" class=\"data row1 col2\" >A2</td>\n",
       "                        <td id=\"T_e89e0a64_9cfb_11ed_9bf5_88e9fe6f0718row1_col3\" class=\"data row1 col3\" >B2</td>\n",
       "                        <td id=\"T_e89e0a64_9cfb_11ed_9bf5_88e9fe6f0718row1_col4\" class=\"data row1 col4\" >C1</td>\n",
       "                        <td id=\"T_e89e0a64_9cfb_11ed_9bf5_88e9fe6f0718row1_col5\" class=\"data row1 col5\" >D1</td>\n",
       "            </tr>\n",
       "            <tr>\n",
       "                        <th id=\"T_e89e0a64_9cfb_11ed_9bf5_88e9fe6f0718level0_row2\" class=\"row_heading level0 row2\" >2</th>\n",
       "                        <td id=\"T_e89e0a64_9cfb_11ed_9bf5_88e9fe6f0718row2_col0\" class=\"data row2 col0\" >K1</td>\n",
       "                        <td id=\"T_e89e0a64_9cfb_11ed_9bf5_88e9fe6f0718row2_col1\" class=\"data row2 col1\" >K0</td>\n",
       "                        <td id=\"T_e89e0a64_9cfb_11ed_9bf5_88e9fe6f0718row2_col2\" class=\"data row2 col2\" >A2</td>\n",
       "                        <td id=\"T_e89e0a64_9cfb_11ed_9bf5_88e9fe6f0718row2_col3\" class=\"data row2 col3\" >B2</td>\n",
       "                        <td id=\"T_e89e0a64_9cfb_11ed_9bf5_88e9fe6f0718row2_col4\" class=\"data row2 col4\" >C2</td>\n",
       "                        <td id=\"T_e89e0a64_9cfb_11ed_9bf5_88e9fe6f0718row2_col5\" class=\"data row2 col5\" >D2</td>\n",
       "            </tr>\n",
       "    </tbody></table>"
      ]
     },
     "metadata": {},
     "output_type": "display_data"
    }
   ],
   "source": [
    "inner_merge = pd.merge(df1, df2, how=\"inner\")\n",
    "\n",
    "\n",
    "df1_styler = df1.style.set_table_attributes(\"style='display:inline'\").set_caption('Left table')\n",
    "df2_styler = df2.style.set_table_attributes(\"style='display:inline'\").set_caption('Right table')\n",
    "inner_merge = inner_merge.style.set_table_attributes(\"style='display:inline'\").set_caption(\"inner_merge\")\n",
    "\n",
    "display_html(df1_styler._repr_html_()+ df2_styler._repr_html_() + inner_merge._repr_html_(), raw=True)"
   ]
  },
  {
   "cell_type": "markdown",
   "id": "d84be3ac",
   "metadata": {},
   "source": [
    "#### OUTER Merge"
   ]
  },
  {
   "cell_type": "code",
   "execution_count": 11,
   "id": "c2d03df5",
   "metadata": {
    "scrolled": false
   },
   "outputs": [
    {
     "data": {
      "text/html": [
       "<style  type=\"text/css\" >\n",
       "</style><table id=\"T_e8a1188a_9cfb_11ed_9bf5_88e9fe6f0718\" style='display:inline'><caption>Left table</caption><thead>    <tr>        <th class=\"blank level0\" ></th>        <th class=\"col_heading level0 col0\" >key1</th>        <th class=\"col_heading level0 col1\" >key2</th>        <th class=\"col_heading level0 col2\" >A</th>        <th class=\"col_heading level0 col3\" >B</th>    </tr></thead><tbody>\n",
       "                <tr>\n",
       "                        <th id=\"T_e8a1188a_9cfb_11ed_9bf5_88e9fe6f0718level0_row0\" class=\"row_heading level0 row0\" >0</th>\n",
       "                        <td id=\"T_e8a1188a_9cfb_11ed_9bf5_88e9fe6f0718row0_col0\" class=\"data row0 col0\" >K0</td>\n",
       "                        <td id=\"T_e8a1188a_9cfb_11ed_9bf5_88e9fe6f0718row0_col1\" class=\"data row0 col1\" >K0</td>\n",
       "                        <td id=\"T_e8a1188a_9cfb_11ed_9bf5_88e9fe6f0718row0_col2\" class=\"data row0 col2\" >A0</td>\n",
       "                        <td id=\"T_e8a1188a_9cfb_11ed_9bf5_88e9fe6f0718row0_col3\" class=\"data row0 col3\" >B0</td>\n",
       "            </tr>\n",
       "            <tr>\n",
       "                        <th id=\"T_e8a1188a_9cfb_11ed_9bf5_88e9fe6f0718level0_row1\" class=\"row_heading level0 row1\" >1</th>\n",
       "                        <td id=\"T_e8a1188a_9cfb_11ed_9bf5_88e9fe6f0718row1_col0\" class=\"data row1 col0\" >K0</td>\n",
       "                        <td id=\"T_e8a1188a_9cfb_11ed_9bf5_88e9fe6f0718row1_col1\" class=\"data row1 col1\" >K1</td>\n",
       "                        <td id=\"T_e8a1188a_9cfb_11ed_9bf5_88e9fe6f0718row1_col2\" class=\"data row1 col2\" >A1</td>\n",
       "                        <td id=\"T_e8a1188a_9cfb_11ed_9bf5_88e9fe6f0718row1_col3\" class=\"data row1 col3\" >B1</td>\n",
       "            </tr>\n",
       "            <tr>\n",
       "                        <th id=\"T_e8a1188a_9cfb_11ed_9bf5_88e9fe6f0718level0_row2\" class=\"row_heading level0 row2\" >2</th>\n",
       "                        <td id=\"T_e8a1188a_9cfb_11ed_9bf5_88e9fe6f0718row2_col0\" class=\"data row2 col0\" >K1</td>\n",
       "                        <td id=\"T_e8a1188a_9cfb_11ed_9bf5_88e9fe6f0718row2_col1\" class=\"data row2 col1\" >K0</td>\n",
       "                        <td id=\"T_e8a1188a_9cfb_11ed_9bf5_88e9fe6f0718row2_col2\" class=\"data row2 col2\" >A2</td>\n",
       "                        <td id=\"T_e8a1188a_9cfb_11ed_9bf5_88e9fe6f0718row2_col3\" class=\"data row2 col3\" >B2</td>\n",
       "            </tr>\n",
       "            <tr>\n",
       "                        <th id=\"T_e8a1188a_9cfb_11ed_9bf5_88e9fe6f0718level0_row3\" class=\"row_heading level0 row3\" >3</th>\n",
       "                        <td id=\"T_e8a1188a_9cfb_11ed_9bf5_88e9fe6f0718row3_col0\" class=\"data row3 col0\" >K2</td>\n",
       "                        <td id=\"T_e8a1188a_9cfb_11ed_9bf5_88e9fe6f0718row3_col1\" class=\"data row3 col1\" >K1</td>\n",
       "                        <td id=\"T_e8a1188a_9cfb_11ed_9bf5_88e9fe6f0718row3_col2\" class=\"data row3 col2\" >A3</td>\n",
       "                        <td id=\"T_e8a1188a_9cfb_11ed_9bf5_88e9fe6f0718row3_col3\" class=\"data row3 col3\" >B3</td>\n",
       "            </tr>\n",
       "    </tbody></table><style  type=\"text/css\" >\n",
       "</style><table id=\"T_e8a14986_9cfb_11ed_9bf5_88e9fe6f0718\" style='display:inline'><caption>Right table</caption><thead>    <tr>        <th class=\"blank level0\" ></th>        <th class=\"col_heading level0 col0\" >key1</th>        <th class=\"col_heading level0 col1\" >key2</th>        <th class=\"col_heading level0 col2\" >C</th>        <th class=\"col_heading level0 col3\" >D</th>    </tr></thead><tbody>\n",
       "                <tr>\n",
       "                        <th id=\"T_e8a14986_9cfb_11ed_9bf5_88e9fe6f0718level0_row0\" class=\"row_heading level0 row0\" >0</th>\n",
       "                        <td id=\"T_e8a14986_9cfb_11ed_9bf5_88e9fe6f0718row0_col0\" class=\"data row0 col0\" >K0</td>\n",
       "                        <td id=\"T_e8a14986_9cfb_11ed_9bf5_88e9fe6f0718row0_col1\" class=\"data row0 col1\" >K0</td>\n",
       "                        <td id=\"T_e8a14986_9cfb_11ed_9bf5_88e9fe6f0718row0_col2\" class=\"data row0 col2\" >C0</td>\n",
       "                        <td id=\"T_e8a14986_9cfb_11ed_9bf5_88e9fe6f0718row0_col3\" class=\"data row0 col3\" >D0</td>\n",
       "            </tr>\n",
       "            <tr>\n",
       "                        <th id=\"T_e8a14986_9cfb_11ed_9bf5_88e9fe6f0718level0_row1\" class=\"row_heading level0 row1\" >1</th>\n",
       "                        <td id=\"T_e8a14986_9cfb_11ed_9bf5_88e9fe6f0718row1_col0\" class=\"data row1 col0\" >K1</td>\n",
       "                        <td id=\"T_e8a14986_9cfb_11ed_9bf5_88e9fe6f0718row1_col1\" class=\"data row1 col1\" >K0</td>\n",
       "                        <td id=\"T_e8a14986_9cfb_11ed_9bf5_88e9fe6f0718row1_col2\" class=\"data row1 col2\" >C1</td>\n",
       "                        <td id=\"T_e8a14986_9cfb_11ed_9bf5_88e9fe6f0718row1_col3\" class=\"data row1 col3\" >D1</td>\n",
       "            </tr>\n",
       "            <tr>\n",
       "                        <th id=\"T_e8a14986_9cfb_11ed_9bf5_88e9fe6f0718level0_row2\" class=\"row_heading level0 row2\" >2</th>\n",
       "                        <td id=\"T_e8a14986_9cfb_11ed_9bf5_88e9fe6f0718row2_col0\" class=\"data row2 col0\" >K1</td>\n",
       "                        <td id=\"T_e8a14986_9cfb_11ed_9bf5_88e9fe6f0718row2_col1\" class=\"data row2 col1\" >K0</td>\n",
       "                        <td id=\"T_e8a14986_9cfb_11ed_9bf5_88e9fe6f0718row2_col2\" class=\"data row2 col2\" >C2</td>\n",
       "                        <td id=\"T_e8a14986_9cfb_11ed_9bf5_88e9fe6f0718row2_col3\" class=\"data row2 col3\" >D2</td>\n",
       "            </tr>\n",
       "            <tr>\n",
       "                        <th id=\"T_e8a14986_9cfb_11ed_9bf5_88e9fe6f0718level0_row3\" class=\"row_heading level0 row3\" >3</th>\n",
       "                        <td id=\"T_e8a14986_9cfb_11ed_9bf5_88e9fe6f0718row3_col0\" class=\"data row3 col0\" >K2</td>\n",
       "                        <td id=\"T_e8a14986_9cfb_11ed_9bf5_88e9fe6f0718row3_col1\" class=\"data row3 col1\" >K0</td>\n",
       "                        <td id=\"T_e8a14986_9cfb_11ed_9bf5_88e9fe6f0718row3_col2\" class=\"data row3 col2\" >C3</td>\n",
       "                        <td id=\"T_e8a14986_9cfb_11ed_9bf5_88e9fe6f0718row3_col3\" class=\"data row3 col3\" >D3</td>\n",
       "            </tr>\n",
       "    </tbody></table><style  type=\"text/css\" >\n",
       "</style><table id=\"T_e8a174b0_9cfb_11ed_9bf5_88e9fe6f0718\" style='display:inline'><caption>outer_merge</caption><thead>    <tr>        <th class=\"blank level0\" ></th>        <th class=\"col_heading level0 col0\" >key1</th>        <th class=\"col_heading level0 col1\" >key2</th>        <th class=\"col_heading level0 col2\" >A</th>        <th class=\"col_heading level0 col3\" >B</th>        <th class=\"col_heading level0 col4\" >C</th>        <th class=\"col_heading level0 col5\" >D</th>    </tr></thead><tbody>\n",
       "                <tr>\n",
       "                        <th id=\"T_e8a174b0_9cfb_11ed_9bf5_88e9fe6f0718level0_row0\" class=\"row_heading level0 row0\" >0</th>\n",
       "                        <td id=\"T_e8a174b0_9cfb_11ed_9bf5_88e9fe6f0718row0_col0\" class=\"data row0 col0\" >K0</td>\n",
       "                        <td id=\"T_e8a174b0_9cfb_11ed_9bf5_88e9fe6f0718row0_col1\" class=\"data row0 col1\" >K0</td>\n",
       "                        <td id=\"T_e8a174b0_9cfb_11ed_9bf5_88e9fe6f0718row0_col2\" class=\"data row0 col2\" >A0</td>\n",
       "                        <td id=\"T_e8a174b0_9cfb_11ed_9bf5_88e9fe6f0718row0_col3\" class=\"data row0 col3\" >B0</td>\n",
       "                        <td id=\"T_e8a174b0_9cfb_11ed_9bf5_88e9fe6f0718row0_col4\" class=\"data row0 col4\" >C0</td>\n",
       "                        <td id=\"T_e8a174b0_9cfb_11ed_9bf5_88e9fe6f0718row0_col5\" class=\"data row0 col5\" >D0</td>\n",
       "            </tr>\n",
       "            <tr>\n",
       "                        <th id=\"T_e8a174b0_9cfb_11ed_9bf5_88e9fe6f0718level0_row1\" class=\"row_heading level0 row1\" >1</th>\n",
       "                        <td id=\"T_e8a174b0_9cfb_11ed_9bf5_88e9fe6f0718row1_col0\" class=\"data row1 col0\" >K0</td>\n",
       "                        <td id=\"T_e8a174b0_9cfb_11ed_9bf5_88e9fe6f0718row1_col1\" class=\"data row1 col1\" >K1</td>\n",
       "                        <td id=\"T_e8a174b0_9cfb_11ed_9bf5_88e9fe6f0718row1_col2\" class=\"data row1 col2\" >A1</td>\n",
       "                        <td id=\"T_e8a174b0_9cfb_11ed_9bf5_88e9fe6f0718row1_col3\" class=\"data row1 col3\" >B1</td>\n",
       "                        <td id=\"T_e8a174b0_9cfb_11ed_9bf5_88e9fe6f0718row1_col4\" class=\"data row1 col4\" >nan</td>\n",
       "                        <td id=\"T_e8a174b0_9cfb_11ed_9bf5_88e9fe6f0718row1_col5\" class=\"data row1 col5\" >nan</td>\n",
       "            </tr>\n",
       "            <tr>\n",
       "                        <th id=\"T_e8a174b0_9cfb_11ed_9bf5_88e9fe6f0718level0_row2\" class=\"row_heading level0 row2\" >2</th>\n",
       "                        <td id=\"T_e8a174b0_9cfb_11ed_9bf5_88e9fe6f0718row2_col0\" class=\"data row2 col0\" >K1</td>\n",
       "                        <td id=\"T_e8a174b0_9cfb_11ed_9bf5_88e9fe6f0718row2_col1\" class=\"data row2 col1\" >K0</td>\n",
       "                        <td id=\"T_e8a174b0_9cfb_11ed_9bf5_88e9fe6f0718row2_col2\" class=\"data row2 col2\" >A2</td>\n",
       "                        <td id=\"T_e8a174b0_9cfb_11ed_9bf5_88e9fe6f0718row2_col3\" class=\"data row2 col3\" >B2</td>\n",
       "                        <td id=\"T_e8a174b0_9cfb_11ed_9bf5_88e9fe6f0718row2_col4\" class=\"data row2 col4\" >C1</td>\n",
       "                        <td id=\"T_e8a174b0_9cfb_11ed_9bf5_88e9fe6f0718row2_col5\" class=\"data row2 col5\" >D1</td>\n",
       "            </tr>\n",
       "            <tr>\n",
       "                        <th id=\"T_e8a174b0_9cfb_11ed_9bf5_88e9fe6f0718level0_row3\" class=\"row_heading level0 row3\" >3</th>\n",
       "                        <td id=\"T_e8a174b0_9cfb_11ed_9bf5_88e9fe6f0718row3_col0\" class=\"data row3 col0\" >K1</td>\n",
       "                        <td id=\"T_e8a174b0_9cfb_11ed_9bf5_88e9fe6f0718row3_col1\" class=\"data row3 col1\" >K0</td>\n",
       "                        <td id=\"T_e8a174b0_9cfb_11ed_9bf5_88e9fe6f0718row3_col2\" class=\"data row3 col2\" >A2</td>\n",
       "                        <td id=\"T_e8a174b0_9cfb_11ed_9bf5_88e9fe6f0718row3_col3\" class=\"data row3 col3\" >B2</td>\n",
       "                        <td id=\"T_e8a174b0_9cfb_11ed_9bf5_88e9fe6f0718row3_col4\" class=\"data row3 col4\" >C2</td>\n",
       "                        <td id=\"T_e8a174b0_9cfb_11ed_9bf5_88e9fe6f0718row3_col5\" class=\"data row3 col5\" >D2</td>\n",
       "            </tr>\n",
       "            <tr>\n",
       "                        <th id=\"T_e8a174b0_9cfb_11ed_9bf5_88e9fe6f0718level0_row4\" class=\"row_heading level0 row4\" >4</th>\n",
       "                        <td id=\"T_e8a174b0_9cfb_11ed_9bf5_88e9fe6f0718row4_col0\" class=\"data row4 col0\" >K2</td>\n",
       "                        <td id=\"T_e8a174b0_9cfb_11ed_9bf5_88e9fe6f0718row4_col1\" class=\"data row4 col1\" >K1</td>\n",
       "                        <td id=\"T_e8a174b0_9cfb_11ed_9bf5_88e9fe6f0718row4_col2\" class=\"data row4 col2\" >A3</td>\n",
       "                        <td id=\"T_e8a174b0_9cfb_11ed_9bf5_88e9fe6f0718row4_col3\" class=\"data row4 col3\" >B3</td>\n",
       "                        <td id=\"T_e8a174b0_9cfb_11ed_9bf5_88e9fe6f0718row4_col4\" class=\"data row4 col4\" >nan</td>\n",
       "                        <td id=\"T_e8a174b0_9cfb_11ed_9bf5_88e9fe6f0718row4_col5\" class=\"data row4 col5\" >nan</td>\n",
       "            </tr>\n",
       "            <tr>\n",
       "                        <th id=\"T_e8a174b0_9cfb_11ed_9bf5_88e9fe6f0718level0_row5\" class=\"row_heading level0 row5\" >5</th>\n",
       "                        <td id=\"T_e8a174b0_9cfb_11ed_9bf5_88e9fe6f0718row5_col0\" class=\"data row5 col0\" >K2</td>\n",
       "                        <td id=\"T_e8a174b0_9cfb_11ed_9bf5_88e9fe6f0718row5_col1\" class=\"data row5 col1\" >K0</td>\n",
       "                        <td id=\"T_e8a174b0_9cfb_11ed_9bf5_88e9fe6f0718row5_col2\" class=\"data row5 col2\" >nan</td>\n",
       "                        <td id=\"T_e8a174b0_9cfb_11ed_9bf5_88e9fe6f0718row5_col3\" class=\"data row5 col3\" >nan</td>\n",
       "                        <td id=\"T_e8a174b0_9cfb_11ed_9bf5_88e9fe6f0718row5_col4\" class=\"data row5 col4\" >C3</td>\n",
       "                        <td id=\"T_e8a174b0_9cfb_11ed_9bf5_88e9fe6f0718row5_col5\" class=\"data row5 col5\" >D3</td>\n",
       "            </tr>\n",
       "    </tbody></table>"
      ]
     },
     "metadata": {},
     "output_type": "display_data"
    }
   ],
   "source": [
    "outer_merge = pd.merge(df1, df2, how=\"outer\")\n",
    "\n",
    "df1_styler = df1.style.set_table_attributes(\"style='display:inline'\").set_caption('Left table')\n",
    "df2_styler = df2.style.set_table_attributes(\"style='display:inline'\").set_caption('Right table')\n",
    "outer_merge = outer_merge.style.set_table_attributes(\"style='display:inline'\").set_caption(\"outer_merge\")\n",
    "\n",
    "display_html(df1_styler._repr_html_()+ df2_styler._repr_html_() + outer_merge._repr_html_(), raw=True)"
   ]
  },
  {
   "cell_type": "code",
   "execution_count": 12,
   "id": "d808d5f0",
   "metadata": {
    "scrolled": true
   },
   "outputs": [
    {
     "data": {
      "text/html": [
       "<div>\n",
       "<style scoped>\n",
       "    .dataframe tbody tr th:only-of-type {\n",
       "        vertical-align: middle;\n",
       "    }\n",
       "\n",
       "    .dataframe tbody tr th {\n",
       "        vertical-align: top;\n",
       "    }\n",
       "\n",
       "    .dataframe thead th {\n",
       "        text-align: right;\n",
       "    }\n",
       "</style>\n",
       "<table border=\"1\" class=\"dataframe\">\n",
       "  <thead>\n",
       "    <tr style=\"text-align: right;\">\n",
       "      <th></th>\n",
       "      <th>key1</th>\n",
       "      <th>key2</th>\n",
       "      <th>A</th>\n",
       "      <th>B</th>\n",
       "      <th>C</th>\n",
       "      <th>D</th>\n",
       "      <th>Y</th>\n",
       "    </tr>\n",
       "  </thead>\n",
       "  <tbody>\n",
       "    <tr>\n",
       "      <th>0</th>\n",
       "      <td>K0</td>\n",
       "      <td>K0</td>\n",
       "      <td>A0</td>\n",
       "      <td>B0</td>\n",
       "      <td>C0</td>\n",
       "      <td>D0</td>\n",
       "      <td>NaN</td>\n",
       "    </tr>\n",
       "    <tr>\n",
       "      <th>1</th>\n",
       "      <td>K1</td>\n",
       "      <td>K0</td>\n",
       "      <td>A2</td>\n",
       "      <td>B2</td>\n",
       "      <td>C1</td>\n",
       "      <td>D1</td>\n",
       "      <td>D70</td>\n",
       "    </tr>\n",
       "    <tr>\n",
       "      <th>2</th>\n",
       "      <td>K1</td>\n",
       "      <td>K0</td>\n",
       "      <td>A2</td>\n",
       "      <td>B2</td>\n",
       "      <td>C2</td>\n",
       "      <td>D2</td>\n",
       "      <td>NaN</td>\n",
       "    </tr>\n",
       "  </tbody>\n",
       "</table>\n",
       "</div>"
      ],
      "text/plain": [
       "  key1 key2   A   B   C   D    Y\n",
       "0   K0   K0  A0  B0  C0  D0  NaN\n",
       "1   K1   K0  A2  B2  C1  D1  D70\n",
       "2   K1   K0  A2  B2  C2  D2  NaN"
      ]
     },
     "execution_count": 12,
     "metadata": {},
     "output_type": "execute_result"
    }
   ],
   "source": [
    "#Q:  Merging on an already merged table: merging more than 1 df\n",
    "\n",
    "result_on_itself = pd.merge(result_on, df3, how=\"left\") #, suffixes=[\"a\", \"_right\"]\n",
    "result_on_itself"
   ]
  },
  {
   "cell_type": "markdown",
   "id": "e6ce32d1",
   "metadata": {},
   "source": [
    "### Merging / Concatenating in two different columns"
   ]
  },
  {
   "cell_type": "code",
   "execution_count": 13,
   "id": "7a64637f",
   "metadata": {},
   "outputs": [],
   "source": [
    "df1_docs = pd.DataFrame({'lkey': ['foo', 'bar', 'baz', 'foo'],\n",
    "                    'value': [1, 2, 3, 5]})\n",
    "df2_docs = pd.DataFrame({'rkey': ['foo', 'bar', 'baz', 'foo'],\n",
    "                    'value': [5, 6, 7, 8]})"
   ]
  },
  {
   "cell_type": "code",
   "execution_count": 14,
   "id": "81d632df",
   "metadata": {},
   "outputs": [
    {
     "data": {
      "text/html": [
       "<style  type=\"text/css\" >\n",
       "</style><table id=\"T_e8a76294_9cfb_11ed_9bf5_88e9fe6f0718\" style='display:inline'><caption>Left table</caption><thead>    <tr>        <th class=\"blank level0\" ></th>        <th class=\"col_heading level0 col0\" >lkey</th>        <th class=\"col_heading level0 col1\" >value</th>    </tr></thead><tbody>\n",
       "                <tr>\n",
       "                        <th id=\"T_e8a76294_9cfb_11ed_9bf5_88e9fe6f0718level0_row0\" class=\"row_heading level0 row0\" >0</th>\n",
       "                        <td id=\"T_e8a76294_9cfb_11ed_9bf5_88e9fe6f0718row0_col0\" class=\"data row0 col0\" >foo</td>\n",
       "                        <td id=\"T_e8a76294_9cfb_11ed_9bf5_88e9fe6f0718row0_col1\" class=\"data row0 col1\" >1</td>\n",
       "            </tr>\n",
       "            <tr>\n",
       "                        <th id=\"T_e8a76294_9cfb_11ed_9bf5_88e9fe6f0718level0_row1\" class=\"row_heading level0 row1\" >1</th>\n",
       "                        <td id=\"T_e8a76294_9cfb_11ed_9bf5_88e9fe6f0718row1_col0\" class=\"data row1 col0\" >bar</td>\n",
       "                        <td id=\"T_e8a76294_9cfb_11ed_9bf5_88e9fe6f0718row1_col1\" class=\"data row1 col1\" >2</td>\n",
       "            </tr>\n",
       "            <tr>\n",
       "                        <th id=\"T_e8a76294_9cfb_11ed_9bf5_88e9fe6f0718level0_row2\" class=\"row_heading level0 row2\" >2</th>\n",
       "                        <td id=\"T_e8a76294_9cfb_11ed_9bf5_88e9fe6f0718row2_col0\" class=\"data row2 col0\" >baz</td>\n",
       "                        <td id=\"T_e8a76294_9cfb_11ed_9bf5_88e9fe6f0718row2_col1\" class=\"data row2 col1\" >3</td>\n",
       "            </tr>\n",
       "            <tr>\n",
       "                        <th id=\"T_e8a76294_9cfb_11ed_9bf5_88e9fe6f0718level0_row3\" class=\"row_heading level0 row3\" >3</th>\n",
       "                        <td id=\"T_e8a76294_9cfb_11ed_9bf5_88e9fe6f0718row3_col0\" class=\"data row3 col0\" >foo</td>\n",
       "                        <td id=\"T_e8a76294_9cfb_11ed_9bf5_88e9fe6f0718row3_col1\" class=\"data row3 col1\" >5</td>\n",
       "            </tr>\n",
       "    </tbody></table><style  type=\"text/css\" >\n",
       "</style><table id=\"T_e8a786ac_9cfb_11ed_9bf5_88e9fe6f0718\" style='display:inline'><caption>Right table</caption><thead>    <tr>        <th class=\"blank level0\" ></th>        <th class=\"col_heading level0 col0\" >rkey</th>        <th class=\"col_heading level0 col1\" >value</th>    </tr></thead><tbody>\n",
       "                <tr>\n",
       "                        <th id=\"T_e8a786ac_9cfb_11ed_9bf5_88e9fe6f0718level0_row0\" class=\"row_heading level0 row0\" >0</th>\n",
       "                        <td id=\"T_e8a786ac_9cfb_11ed_9bf5_88e9fe6f0718row0_col0\" class=\"data row0 col0\" >foo</td>\n",
       "                        <td id=\"T_e8a786ac_9cfb_11ed_9bf5_88e9fe6f0718row0_col1\" class=\"data row0 col1\" >5</td>\n",
       "            </tr>\n",
       "            <tr>\n",
       "                        <th id=\"T_e8a786ac_9cfb_11ed_9bf5_88e9fe6f0718level0_row1\" class=\"row_heading level0 row1\" >1</th>\n",
       "                        <td id=\"T_e8a786ac_9cfb_11ed_9bf5_88e9fe6f0718row1_col0\" class=\"data row1 col0\" >bar</td>\n",
       "                        <td id=\"T_e8a786ac_9cfb_11ed_9bf5_88e9fe6f0718row1_col1\" class=\"data row1 col1\" >6</td>\n",
       "            </tr>\n",
       "            <tr>\n",
       "                        <th id=\"T_e8a786ac_9cfb_11ed_9bf5_88e9fe6f0718level0_row2\" class=\"row_heading level0 row2\" >2</th>\n",
       "                        <td id=\"T_e8a786ac_9cfb_11ed_9bf5_88e9fe6f0718row2_col0\" class=\"data row2 col0\" >baz</td>\n",
       "                        <td id=\"T_e8a786ac_9cfb_11ed_9bf5_88e9fe6f0718row2_col1\" class=\"data row2 col1\" >7</td>\n",
       "            </tr>\n",
       "            <tr>\n",
       "                        <th id=\"T_e8a786ac_9cfb_11ed_9bf5_88e9fe6f0718level0_row3\" class=\"row_heading level0 row3\" >3</th>\n",
       "                        <td id=\"T_e8a786ac_9cfb_11ed_9bf5_88e9fe6f0718row3_col0\" class=\"data row3 col0\" >foo</td>\n",
       "                        <td id=\"T_e8a786ac_9cfb_11ed_9bf5_88e9fe6f0718row3_col1\" class=\"data row3 col1\" >8</td>\n",
       "            </tr>\n",
       "    </tbody></table>"
      ]
     },
     "metadata": {},
     "output_type": "display_data"
    }
   ],
   "source": [
    "df1_styler = df1_docs.style.set_table_attributes(\"style='display:inline'\").set_caption('Left table')\n",
    "df2_styler = df2_docs.style.set_table_attributes(\"style='display:inline'\").set_caption('Right table')\n",
    "\n",
    "display_html(df1_styler._repr_html_()+ df2_styler._repr_html_(), raw=True)"
   ]
  },
  {
   "cell_type": "markdown",
   "id": "0dda9802",
   "metadata": {},
   "source": [
    "#### Concatenating in two different columns"
   ]
  },
  {
   "cell_type": "code",
   "execution_count": 15,
   "id": "b40c7ccf",
   "metadata": {},
   "outputs": [
    {
     "data": {
      "text/html": [
       "<style  type=\"text/css\" >\n",
       "</style><table id=\"T_e8a9f266_9cfb_11ed_9bf5_88e9fe6f0718\" style='display:inline'><caption>Left table</caption><thead>    <tr>        <th class=\"blank level0\" ></th>        <th class=\"col_heading level0 col0\" >lkey</th>        <th class=\"col_heading level0 col1\" >value</th>    </tr></thead><tbody>\n",
       "                <tr>\n",
       "                        <th id=\"T_e8a9f266_9cfb_11ed_9bf5_88e9fe6f0718level0_row0\" class=\"row_heading level0 row0\" >0</th>\n",
       "                        <td id=\"T_e8a9f266_9cfb_11ed_9bf5_88e9fe6f0718row0_col0\" class=\"data row0 col0\" >foo</td>\n",
       "                        <td id=\"T_e8a9f266_9cfb_11ed_9bf5_88e9fe6f0718row0_col1\" class=\"data row0 col1\" >1</td>\n",
       "            </tr>\n",
       "            <tr>\n",
       "                        <th id=\"T_e8a9f266_9cfb_11ed_9bf5_88e9fe6f0718level0_row1\" class=\"row_heading level0 row1\" >1</th>\n",
       "                        <td id=\"T_e8a9f266_9cfb_11ed_9bf5_88e9fe6f0718row1_col0\" class=\"data row1 col0\" >bar</td>\n",
       "                        <td id=\"T_e8a9f266_9cfb_11ed_9bf5_88e9fe6f0718row1_col1\" class=\"data row1 col1\" >2</td>\n",
       "            </tr>\n",
       "            <tr>\n",
       "                        <th id=\"T_e8a9f266_9cfb_11ed_9bf5_88e9fe6f0718level0_row2\" class=\"row_heading level0 row2\" >2</th>\n",
       "                        <td id=\"T_e8a9f266_9cfb_11ed_9bf5_88e9fe6f0718row2_col0\" class=\"data row2 col0\" >baz</td>\n",
       "                        <td id=\"T_e8a9f266_9cfb_11ed_9bf5_88e9fe6f0718row2_col1\" class=\"data row2 col1\" >3</td>\n",
       "            </tr>\n",
       "            <tr>\n",
       "                        <th id=\"T_e8a9f266_9cfb_11ed_9bf5_88e9fe6f0718level0_row3\" class=\"row_heading level0 row3\" >3</th>\n",
       "                        <td id=\"T_e8a9f266_9cfb_11ed_9bf5_88e9fe6f0718row3_col0\" class=\"data row3 col0\" >foo</td>\n",
       "                        <td id=\"T_e8a9f266_9cfb_11ed_9bf5_88e9fe6f0718row3_col1\" class=\"data row3 col1\" >5</td>\n",
       "            </tr>\n",
       "    </tbody></table><style  type=\"text/css\" >\n",
       "</style><table id=\"T_e8aa1bba_9cfb_11ed_9bf5_88e9fe6f0718\" style='display:inline'><caption>Right table</caption><thead>    <tr>        <th class=\"blank level0\" ></th>        <th class=\"col_heading level0 col0\" >rkey</th>        <th class=\"col_heading level0 col1\" >value</th>    </tr></thead><tbody>\n",
       "                <tr>\n",
       "                        <th id=\"T_e8aa1bba_9cfb_11ed_9bf5_88e9fe6f0718level0_row0\" class=\"row_heading level0 row0\" >0</th>\n",
       "                        <td id=\"T_e8aa1bba_9cfb_11ed_9bf5_88e9fe6f0718row0_col0\" class=\"data row0 col0\" >foo</td>\n",
       "                        <td id=\"T_e8aa1bba_9cfb_11ed_9bf5_88e9fe6f0718row0_col1\" class=\"data row0 col1\" >5</td>\n",
       "            </tr>\n",
       "            <tr>\n",
       "                        <th id=\"T_e8aa1bba_9cfb_11ed_9bf5_88e9fe6f0718level0_row1\" class=\"row_heading level0 row1\" >1</th>\n",
       "                        <td id=\"T_e8aa1bba_9cfb_11ed_9bf5_88e9fe6f0718row1_col0\" class=\"data row1 col0\" >bar</td>\n",
       "                        <td id=\"T_e8aa1bba_9cfb_11ed_9bf5_88e9fe6f0718row1_col1\" class=\"data row1 col1\" >6</td>\n",
       "            </tr>\n",
       "            <tr>\n",
       "                        <th id=\"T_e8aa1bba_9cfb_11ed_9bf5_88e9fe6f0718level0_row2\" class=\"row_heading level0 row2\" >2</th>\n",
       "                        <td id=\"T_e8aa1bba_9cfb_11ed_9bf5_88e9fe6f0718row2_col0\" class=\"data row2 col0\" >baz</td>\n",
       "                        <td id=\"T_e8aa1bba_9cfb_11ed_9bf5_88e9fe6f0718row2_col1\" class=\"data row2 col1\" >7</td>\n",
       "            </tr>\n",
       "            <tr>\n",
       "                        <th id=\"T_e8aa1bba_9cfb_11ed_9bf5_88e9fe6f0718level0_row3\" class=\"row_heading level0 row3\" >3</th>\n",
       "                        <td id=\"T_e8aa1bba_9cfb_11ed_9bf5_88e9fe6f0718row3_col0\" class=\"data row3 col0\" >foo</td>\n",
       "                        <td id=\"T_e8aa1bba_9cfb_11ed_9bf5_88e9fe6f0718row3_col1\" class=\"data row3 col1\" >8</td>\n",
       "            </tr>\n",
       "    </tbody></table><style  type=\"text/css\" >\n",
       "</style><table id=\"T_e8aa4784_9cfb_11ed_9bf5_88e9fe6f0718\" style='display:inline'><caption>concat_docs</caption><thead>    <tr>        <th class=\"blank level0\" ></th>        <th class=\"col_heading level0 col0\" colspan=2>1st table</th>        <th class=\"col_heading level0 col2\" colspan=2>2nd table</th>    </tr>    <tr>        <th class=\"blank level1\" ></th>        <th class=\"col_heading level1 col0\" >lkey</th>        <th class=\"col_heading level1 col1\" >value</th>        <th class=\"col_heading level1 col2\" >rkey</th>        <th class=\"col_heading level1 col3\" >value</th>    </tr></thead><tbody>\n",
       "                <tr>\n",
       "                        <th id=\"T_e8aa4784_9cfb_11ed_9bf5_88e9fe6f0718level0_row0\" class=\"row_heading level0 row0\" >0</th>\n",
       "                        <td id=\"T_e8aa4784_9cfb_11ed_9bf5_88e9fe6f0718row0_col0\" class=\"data row0 col0\" >foo</td>\n",
       "                        <td id=\"T_e8aa4784_9cfb_11ed_9bf5_88e9fe6f0718row0_col1\" class=\"data row0 col1\" >1</td>\n",
       "                        <td id=\"T_e8aa4784_9cfb_11ed_9bf5_88e9fe6f0718row0_col2\" class=\"data row0 col2\" >foo</td>\n",
       "                        <td id=\"T_e8aa4784_9cfb_11ed_9bf5_88e9fe6f0718row0_col3\" class=\"data row0 col3\" >5</td>\n",
       "            </tr>\n",
       "            <tr>\n",
       "                        <th id=\"T_e8aa4784_9cfb_11ed_9bf5_88e9fe6f0718level0_row1\" class=\"row_heading level0 row1\" >1</th>\n",
       "                        <td id=\"T_e8aa4784_9cfb_11ed_9bf5_88e9fe6f0718row1_col0\" class=\"data row1 col0\" >bar</td>\n",
       "                        <td id=\"T_e8aa4784_9cfb_11ed_9bf5_88e9fe6f0718row1_col1\" class=\"data row1 col1\" >2</td>\n",
       "                        <td id=\"T_e8aa4784_9cfb_11ed_9bf5_88e9fe6f0718row1_col2\" class=\"data row1 col2\" >bar</td>\n",
       "                        <td id=\"T_e8aa4784_9cfb_11ed_9bf5_88e9fe6f0718row1_col3\" class=\"data row1 col3\" >6</td>\n",
       "            </tr>\n",
       "            <tr>\n",
       "                        <th id=\"T_e8aa4784_9cfb_11ed_9bf5_88e9fe6f0718level0_row2\" class=\"row_heading level0 row2\" >2</th>\n",
       "                        <td id=\"T_e8aa4784_9cfb_11ed_9bf5_88e9fe6f0718row2_col0\" class=\"data row2 col0\" >baz</td>\n",
       "                        <td id=\"T_e8aa4784_9cfb_11ed_9bf5_88e9fe6f0718row2_col1\" class=\"data row2 col1\" >3</td>\n",
       "                        <td id=\"T_e8aa4784_9cfb_11ed_9bf5_88e9fe6f0718row2_col2\" class=\"data row2 col2\" >baz</td>\n",
       "                        <td id=\"T_e8aa4784_9cfb_11ed_9bf5_88e9fe6f0718row2_col3\" class=\"data row2 col3\" >7</td>\n",
       "            </tr>\n",
       "            <tr>\n",
       "                        <th id=\"T_e8aa4784_9cfb_11ed_9bf5_88e9fe6f0718level0_row3\" class=\"row_heading level0 row3\" >3</th>\n",
       "                        <td id=\"T_e8aa4784_9cfb_11ed_9bf5_88e9fe6f0718row3_col0\" class=\"data row3 col0\" >foo</td>\n",
       "                        <td id=\"T_e8aa4784_9cfb_11ed_9bf5_88e9fe6f0718row3_col1\" class=\"data row3 col1\" >5</td>\n",
       "                        <td id=\"T_e8aa4784_9cfb_11ed_9bf5_88e9fe6f0718row3_col2\" class=\"data row3 col2\" >foo</td>\n",
       "                        <td id=\"T_e8aa4784_9cfb_11ed_9bf5_88e9fe6f0718row3_col3\" class=\"data row3 col3\" >8</td>\n",
       "            </tr>\n",
       "    </tbody></table>"
      ]
     },
     "metadata": {},
     "output_type": "display_data"
    }
   ],
   "source": [
    "concat_docs = pd.concat([df1_docs, df2_docs], axis=1, keys=[\"1st table\", \"2nd table\"])\n",
    "\n",
    "df1_styler = df1_docs.style.set_table_attributes(\"style='display:inline'\").set_caption('Left table')\n",
    "df2_styler = df2_docs.style.set_table_attributes(\"style='display:inline'\").set_caption('Right table')\n",
    "merge_styler = concat_docs.style.set_table_attributes(\"style='display:inline'\").set_caption('concat_docs')\n",
    "\n",
    "display_html(df1_styler._repr_html_()+ df2_styler._repr_html_() + merge_styler._repr_html_(), raw=True)"
   ]
  },
  {
   "cell_type": "markdown",
   "id": "156a8141",
   "metadata": {},
   "source": [
    "#### Merging in two different columns"
   ]
  },
  {
   "cell_type": "code",
   "execution_count": 16,
   "id": "8fb65cb5",
   "metadata": {},
   "outputs": [
    {
     "data": {
      "text/html": [
       "<style  type=\"text/css\" >\n",
       "</style><table id=\"T_e8af5936_9cfb_11ed_9bf5_88e9fe6f0718\" style='display:inline'><caption>Left table</caption><thead>    <tr>        <th class=\"blank level0\" ></th>        <th class=\"col_heading level0 col0\" >lkey</th>        <th class=\"col_heading level0 col1\" >value</th>    </tr></thead><tbody>\n",
       "                <tr>\n",
       "                        <th id=\"T_e8af5936_9cfb_11ed_9bf5_88e9fe6f0718level0_row0\" class=\"row_heading level0 row0\" >0</th>\n",
       "                        <td id=\"T_e8af5936_9cfb_11ed_9bf5_88e9fe6f0718row0_col0\" class=\"data row0 col0\" >foo</td>\n",
       "                        <td id=\"T_e8af5936_9cfb_11ed_9bf5_88e9fe6f0718row0_col1\" class=\"data row0 col1\" >1</td>\n",
       "            </tr>\n",
       "            <tr>\n",
       "                        <th id=\"T_e8af5936_9cfb_11ed_9bf5_88e9fe6f0718level0_row1\" class=\"row_heading level0 row1\" >1</th>\n",
       "                        <td id=\"T_e8af5936_9cfb_11ed_9bf5_88e9fe6f0718row1_col0\" class=\"data row1 col0\" >bar</td>\n",
       "                        <td id=\"T_e8af5936_9cfb_11ed_9bf5_88e9fe6f0718row1_col1\" class=\"data row1 col1\" >2</td>\n",
       "            </tr>\n",
       "            <tr>\n",
       "                        <th id=\"T_e8af5936_9cfb_11ed_9bf5_88e9fe6f0718level0_row2\" class=\"row_heading level0 row2\" >2</th>\n",
       "                        <td id=\"T_e8af5936_9cfb_11ed_9bf5_88e9fe6f0718row2_col0\" class=\"data row2 col0\" >baz</td>\n",
       "                        <td id=\"T_e8af5936_9cfb_11ed_9bf5_88e9fe6f0718row2_col1\" class=\"data row2 col1\" >3</td>\n",
       "            </tr>\n",
       "            <tr>\n",
       "                        <th id=\"T_e8af5936_9cfb_11ed_9bf5_88e9fe6f0718level0_row3\" class=\"row_heading level0 row3\" >3</th>\n",
       "                        <td id=\"T_e8af5936_9cfb_11ed_9bf5_88e9fe6f0718row3_col0\" class=\"data row3 col0\" >foo</td>\n",
       "                        <td id=\"T_e8af5936_9cfb_11ed_9bf5_88e9fe6f0718row3_col1\" class=\"data row3 col1\" >5</td>\n",
       "            </tr>\n",
       "    </tbody></table><style  type=\"text/css\" >\n",
       "</style><table id=\"T_e8af8b86_9cfb_11ed_9bf5_88e9fe6f0718\" style='display:inline'><caption>Right table</caption><thead>    <tr>        <th class=\"blank level0\" ></th>        <th class=\"col_heading level0 col0\" >rkey</th>        <th class=\"col_heading level0 col1\" >value</th>    </tr></thead><tbody>\n",
       "                <tr>\n",
       "                        <th id=\"T_e8af8b86_9cfb_11ed_9bf5_88e9fe6f0718level0_row0\" class=\"row_heading level0 row0\" >0</th>\n",
       "                        <td id=\"T_e8af8b86_9cfb_11ed_9bf5_88e9fe6f0718row0_col0\" class=\"data row0 col0\" >foo</td>\n",
       "                        <td id=\"T_e8af8b86_9cfb_11ed_9bf5_88e9fe6f0718row0_col1\" class=\"data row0 col1\" >5</td>\n",
       "            </tr>\n",
       "            <tr>\n",
       "                        <th id=\"T_e8af8b86_9cfb_11ed_9bf5_88e9fe6f0718level0_row1\" class=\"row_heading level0 row1\" >1</th>\n",
       "                        <td id=\"T_e8af8b86_9cfb_11ed_9bf5_88e9fe6f0718row1_col0\" class=\"data row1 col0\" >bar</td>\n",
       "                        <td id=\"T_e8af8b86_9cfb_11ed_9bf5_88e9fe6f0718row1_col1\" class=\"data row1 col1\" >6</td>\n",
       "            </tr>\n",
       "            <tr>\n",
       "                        <th id=\"T_e8af8b86_9cfb_11ed_9bf5_88e9fe6f0718level0_row2\" class=\"row_heading level0 row2\" >2</th>\n",
       "                        <td id=\"T_e8af8b86_9cfb_11ed_9bf5_88e9fe6f0718row2_col0\" class=\"data row2 col0\" >baz</td>\n",
       "                        <td id=\"T_e8af8b86_9cfb_11ed_9bf5_88e9fe6f0718row2_col1\" class=\"data row2 col1\" >7</td>\n",
       "            </tr>\n",
       "            <tr>\n",
       "                        <th id=\"T_e8af8b86_9cfb_11ed_9bf5_88e9fe6f0718level0_row3\" class=\"row_heading level0 row3\" >3</th>\n",
       "                        <td id=\"T_e8af8b86_9cfb_11ed_9bf5_88e9fe6f0718row3_col0\" class=\"data row3 col0\" >foo</td>\n",
       "                        <td id=\"T_e8af8b86_9cfb_11ed_9bf5_88e9fe6f0718row3_col1\" class=\"data row3 col1\" >8</td>\n",
       "            </tr>\n",
       "    </tbody></table>"
      ]
     },
     "metadata": {},
     "output_type": "display_data"
    }
   ],
   "source": [
    "df1_styler = df1_docs.style.set_table_attributes(\"style='display:inline'\").set_caption('Left table')\n",
    "df2_styler = df2_docs.style.set_table_attributes(\"style='display:inline'\").set_caption('Right table')\n",
    "\n",
    "display_html(df1_styler._repr_html_()+ df2_styler._repr_html_(), raw=True)"
   ]
  },
  {
   "cell_type": "code",
   "execution_count": 17,
   "id": "c8d3a53c",
   "metadata": {},
   "outputs": [],
   "source": [
    "merge_docs = df1_docs.merge(df2_docs, left_on='lkey', right_on='rkey', suffixes = [\"_fromleft\", \"_fromright\"])"
   ]
  },
  {
   "cell_type": "code",
   "execution_count": 18,
   "id": "893ba4c2",
   "metadata": {},
   "outputs": [
    {
     "data": {
      "text/html": [
       "<style  type=\"text/css\" >\n",
       "</style><table id=\"T_e8b3a856_9cfb_11ed_9bf5_88e9fe6f0718\" style='display:inline'><caption>Left table</caption><thead>    <tr>        <th class=\"blank level0\" ></th>        <th class=\"col_heading level0 col0\" >lkey</th>        <th class=\"col_heading level0 col1\" >value</th>    </tr></thead><tbody>\n",
       "                <tr>\n",
       "                        <th id=\"T_e8b3a856_9cfb_11ed_9bf5_88e9fe6f0718level0_row0\" class=\"row_heading level0 row0\" >0</th>\n",
       "                        <td id=\"T_e8b3a856_9cfb_11ed_9bf5_88e9fe6f0718row0_col0\" class=\"data row0 col0\" >foo</td>\n",
       "                        <td id=\"T_e8b3a856_9cfb_11ed_9bf5_88e9fe6f0718row0_col1\" class=\"data row0 col1\" >1</td>\n",
       "            </tr>\n",
       "            <tr>\n",
       "                        <th id=\"T_e8b3a856_9cfb_11ed_9bf5_88e9fe6f0718level0_row1\" class=\"row_heading level0 row1\" >1</th>\n",
       "                        <td id=\"T_e8b3a856_9cfb_11ed_9bf5_88e9fe6f0718row1_col0\" class=\"data row1 col0\" >bar</td>\n",
       "                        <td id=\"T_e8b3a856_9cfb_11ed_9bf5_88e9fe6f0718row1_col1\" class=\"data row1 col1\" >2</td>\n",
       "            </tr>\n",
       "            <tr>\n",
       "                        <th id=\"T_e8b3a856_9cfb_11ed_9bf5_88e9fe6f0718level0_row2\" class=\"row_heading level0 row2\" >2</th>\n",
       "                        <td id=\"T_e8b3a856_9cfb_11ed_9bf5_88e9fe6f0718row2_col0\" class=\"data row2 col0\" >baz</td>\n",
       "                        <td id=\"T_e8b3a856_9cfb_11ed_9bf5_88e9fe6f0718row2_col1\" class=\"data row2 col1\" >3</td>\n",
       "            </tr>\n",
       "            <tr>\n",
       "                        <th id=\"T_e8b3a856_9cfb_11ed_9bf5_88e9fe6f0718level0_row3\" class=\"row_heading level0 row3\" >3</th>\n",
       "                        <td id=\"T_e8b3a856_9cfb_11ed_9bf5_88e9fe6f0718row3_col0\" class=\"data row3 col0\" >foo</td>\n",
       "                        <td id=\"T_e8b3a856_9cfb_11ed_9bf5_88e9fe6f0718row3_col1\" class=\"data row3 col1\" >5</td>\n",
       "            </tr>\n",
       "    </tbody></table><style  type=\"text/css\" >\n",
       "</style><table id=\"T_e8b3cc14_9cfb_11ed_9bf5_88e9fe6f0718\" style='display:inline'><caption>Right table</caption><thead>    <tr>        <th class=\"blank level0\" ></th>        <th class=\"col_heading level0 col0\" >rkey</th>        <th class=\"col_heading level0 col1\" >value</th>    </tr></thead><tbody>\n",
       "                <tr>\n",
       "                        <th id=\"T_e8b3cc14_9cfb_11ed_9bf5_88e9fe6f0718level0_row0\" class=\"row_heading level0 row0\" >0</th>\n",
       "                        <td id=\"T_e8b3cc14_9cfb_11ed_9bf5_88e9fe6f0718row0_col0\" class=\"data row0 col0\" >foo</td>\n",
       "                        <td id=\"T_e8b3cc14_9cfb_11ed_9bf5_88e9fe6f0718row0_col1\" class=\"data row0 col1\" >5</td>\n",
       "            </tr>\n",
       "            <tr>\n",
       "                        <th id=\"T_e8b3cc14_9cfb_11ed_9bf5_88e9fe6f0718level0_row1\" class=\"row_heading level0 row1\" >1</th>\n",
       "                        <td id=\"T_e8b3cc14_9cfb_11ed_9bf5_88e9fe6f0718row1_col0\" class=\"data row1 col0\" >bar</td>\n",
       "                        <td id=\"T_e8b3cc14_9cfb_11ed_9bf5_88e9fe6f0718row1_col1\" class=\"data row1 col1\" >6</td>\n",
       "            </tr>\n",
       "            <tr>\n",
       "                        <th id=\"T_e8b3cc14_9cfb_11ed_9bf5_88e9fe6f0718level0_row2\" class=\"row_heading level0 row2\" >2</th>\n",
       "                        <td id=\"T_e8b3cc14_9cfb_11ed_9bf5_88e9fe6f0718row2_col0\" class=\"data row2 col0\" >baz</td>\n",
       "                        <td id=\"T_e8b3cc14_9cfb_11ed_9bf5_88e9fe6f0718row2_col1\" class=\"data row2 col1\" >7</td>\n",
       "            </tr>\n",
       "            <tr>\n",
       "                        <th id=\"T_e8b3cc14_9cfb_11ed_9bf5_88e9fe6f0718level0_row3\" class=\"row_heading level0 row3\" >3</th>\n",
       "                        <td id=\"T_e8b3cc14_9cfb_11ed_9bf5_88e9fe6f0718row3_col0\" class=\"data row3 col0\" >foo</td>\n",
       "                        <td id=\"T_e8b3cc14_9cfb_11ed_9bf5_88e9fe6f0718row3_col1\" class=\"data row3 col1\" >8</td>\n",
       "            </tr>\n",
       "    </tbody></table><style  type=\"text/css\" >\n",
       "</style><table id=\"T_e8b3ebea_9cfb_11ed_9bf5_88e9fe6f0718\" style='display:inline'><caption>merge_docs</caption><thead>    <tr>        <th class=\"blank level0\" ></th>        <th class=\"col_heading level0 col0\" >lkey</th>        <th class=\"col_heading level0 col1\" >value_from_left</th>        <th class=\"col_heading level0 col2\" >rkey</th>        <th class=\"col_heading level0 col3\" >value_from_right</th>    </tr></thead><tbody>\n",
       "                <tr>\n",
       "                        <th id=\"T_e8b3ebea_9cfb_11ed_9bf5_88e9fe6f0718level0_row0\" class=\"row_heading level0 row0\" >0</th>\n",
       "                        <td id=\"T_e8b3ebea_9cfb_11ed_9bf5_88e9fe6f0718row0_col0\" class=\"data row0 col0\" >foo</td>\n",
       "                        <td id=\"T_e8b3ebea_9cfb_11ed_9bf5_88e9fe6f0718row0_col1\" class=\"data row0 col1\" >1</td>\n",
       "                        <td id=\"T_e8b3ebea_9cfb_11ed_9bf5_88e9fe6f0718row0_col2\" class=\"data row0 col2\" >foo</td>\n",
       "                        <td id=\"T_e8b3ebea_9cfb_11ed_9bf5_88e9fe6f0718row0_col3\" class=\"data row0 col3\" >5</td>\n",
       "            </tr>\n",
       "            <tr>\n",
       "                        <th id=\"T_e8b3ebea_9cfb_11ed_9bf5_88e9fe6f0718level0_row1\" class=\"row_heading level0 row1\" >1</th>\n",
       "                        <td id=\"T_e8b3ebea_9cfb_11ed_9bf5_88e9fe6f0718row1_col0\" class=\"data row1 col0\" >foo</td>\n",
       "                        <td id=\"T_e8b3ebea_9cfb_11ed_9bf5_88e9fe6f0718row1_col1\" class=\"data row1 col1\" >1</td>\n",
       "                        <td id=\"T_e8b3ebea_9cfb_11ed_9bf5_88e9fe6f0718row1_col2\" class=\"data row1 col2\" >foo</td>\n",
       "                        <td id=\"T_e8b3ebea_9cfb_11ed_9bf5_88e9fe6f0718row1_col3\" class=\"data row1 col3\" >8</td>\n",
       "            </tr>\n",
       "            <tr>\n",
       "                        <th id=\"T_e8b3ebea_9cfb_11ed_9bf5_88e9fe6f0718level0_row2\" class=\"row_heading level0 row2\" >2</th>\n",
       "                        <td id=\"T_e8b3ebea_9cfb_11ed_9bf5_88e9fe6f0718row2_col0\" class=\"data row2 col0\" >foo</td>\n",
       "                        <td id=\"T_e8b3ebea_9cfb_11ed_9bf5_88e9fe6f0718row2_col1\" class=\"data row2 col1\" >5</td>\n",
       "                        <td id=\"T_e8b3ebea_9cfb_11ed_9bf5_88e9fe6f0718row2_col2\" class=\"data row2 col2\" >foo</td>\n",
       "                        <td id=\"T_e8b3ebea_9cfb_11ed_9bf5_88e9fe6f0718row2_col3\" class=\"data row2 col3\" >5</td>\n",
       "            </tr>\n",
       "            <tr>\n",
       "                        <th id=\"T_e8b3ebea_9cfb_11ed_9bf5_88e9fe6f0718level0_row3\" class=\"row_heading level0 row3\" >3</th>\n",
       "                        <td id=\"T_e8b3ebea_9cfb_11ed_9bf5_88e9fe6f0718row3_col0\" class=\"data row3 col0\" >foo</td>\n",
       "                        <td id=\"T_e8b3ebea_9cfb_11ed_9bf5_88e9fe6f0718row3_col1\" class=\"data row3 col1\" >5</td>\n",
       "                        <td id=\"T_e8b3ebea_9cfb_11ed_9bf5_88e9fe6f0718row3_col2\" class=\"data row3 col2\" >foo</td>\n",
       "                        <td id=\"T_e8b3ebea_9cfb_11ed_9bf5_88e9fe6f0718row3_col3\" class=\"data row3 col3\" >8</td>\n",
       "            </tr>\n",
       "            <tr>\n",
       "                        <th id=\"T_e8b3ebea_9cfb_11ed_9bf5_88e9fe6f0718level0_row4\" class=\"row_heading level0 row4\" >4</th>\n",
       "                        <td id=\"T_e8b3ebea_9cfb_11ed_9bf5_88e9fe6f0718row4_col0\" class=\"data row4 col0\" >bar</td>\n",
       "                        <td id=\"T_e8b3ebea_9cfb_11ed_9bf5_88e9fe6f0718row4_col1\" class=\"data row4 col1\" >2</td>\n",
       "                        <td id=\"T_e8b3ebea_9cfb_11ed_9bf5_88e9fe6f0718row4_col2\" class=\"data row4 col2\" >bar</td>\n",
       "                        <td id=\"T_e8b3ebea_9cfb_11ed_9bf5_88e9fe6f0718row4_col3\" class=\"data row4 col3\" >6</td>\n",
       "            </tr>\n",
       "            <tr>\n",
       "                        <th id=\"T_e8b3ebea_9cfb_11ed_9bf5_88e9fe6f0718level0_row5\" class=\"row_heading level0 row5\" >5</th>\n",
       "                        <td id=\"T_e8b3ebea_9cfb_11ed_9bf5_88e9fe6f0718row5_col0\" class=\"data row5 col0\" >baz</td>\n",
       "                        <td id=\"T_e8b3ebea_9cfb_11ed_9bf5_88e9fe6f0718row5_col1\" class=\"data row5 col1\" >3</td>\n",
       "                        <td id=\"T_e8b3ebea_9cfb_11ed_9bf5_88e9fe6f0718row5_col2\" class=\"data row5 col2\" >baz</td>\n",
       "                        <td id=\"T_e8b3ebea_9cfb_11ed_9bf5_88e9fe6f0718row5_col3\" class=\"data row5 col3\" >7</td>\n",
       "            </tr>\n",
       "    </tbody></table>"
      ]
     },
     "metadata": {},
     "output_type": "display_data"
    }
   ],
   "source": [
    "merge_docs = df1_docs.merge(df2_docs, left_on='lkey', right_on='rkey', suffixes = [\"_from_left\", \"_from_right\"])\n",
    "\n",
    "\n",
    "df1_styler = df1_docs.style.set_table_attributes(\"style='display:inline'\").set_caption('Left table')\n",
    "df2_styler = df2_docs.style.set_table_attributes(\"style='display:inline'\").set_caption('Right table')\n",
    "merge_styler = merge_docs.style.set_table_attributes(\"style='display:inline'\").set_caption('merge_docs')\n",
    "\n",
    "display_html(df1_styler._repr_html_()+ df2_styler._repr_html_() + merge_styler._repr_html_(), raw=True)"
   ]
  },
  {
   "cell_type": "code",
   "execution_count": 19,
   "id": "9f9262e4",
   "metadata": {},
   "outputs": [],
   "source": [
    "# suffixes: https://pandas.pydata.org/docs/reference/api/pandas.DataFrame.merge.html"
   ]
  },
  {
   "cell_type": "code",
   "execution_count": 20,
   "id": "7f78e514",
   "metadata": {},
   "outputs": [],
   "source": [
    "# concat: putting things together\n",
    "# join/merge: putting things together THAT ARE RELATED\n",
    "    # related info in the same place -> reduces redundancy"
   ]
  },
  {
   "cell_type": "markdown",
   "id": "5e952e34",
   "metadata": {
    "lang": "en"
   },
   "source": [
    "### Join\n",
    "The join, unlike the merge, will join the dataframes and where there are no records in the \"index\" it will put NaN"
   ]
  },
  {
   "cell_type": "code",
   "execution_count": 21,
   "id": "7d4660ec",
   "metadata": {},
   "outputs": [],
   "source": [
    "import numpy as np\n",
    "import pandas as pd   \n",
    "from IPython.display import display_html "
   ]
  },
  {
   "cell_type": "code",
   "execution_count": 22,
   "id": "e56efa8f",
   "metadata": {},
   "outputs": [],
   "source": [
    "left_df = pd.DataFrame(\n",
    "    {\"A\": [\"A0\", \"A1\", \"A2\"], \"B\": [\"B0\", \"B1\", \"B2\"]}, index=[\"K0\", \"K1\", \"K2\"]\n",
    ")\n",
    "\n",
    "\n",
    "right_df = pd.DataFrame(\n",
    "    {\"C\": [\"C0\", \"C2\", \"C3\"], \"D\": [\"D0\", \"D2\", \"D3\"]}, index=[\"K0\", \"K2\", \"K3\"]\n",
    ")"
   ]
  },
  {
   "cell_type": "code",
   "execution_count": 23,
   "id": "081741f1",
   "metadata": {},
   "outputs": [
    {
     "data": {
      "text/html": [
       "<style  type=\"text/css\" >\n",
       "</style><table id=\"T_e8b9fd14_9cfb_11ed_9bf5_88e9fe6f0718\" style='display:inline'><caption>Left table</caption><thead>    <tr>        <th class=\"blank level0\" ></th>        <th class=\"col_heading level0 col0\" >A</th>        <th class=\"col_heading level0 col1\" >B</th>    </tr></thead><tbody>\n",
       "                <tr>\n",
       "                        <th id=\"T_e8b9fd14_9cfb_11ed_9bf5_88e9fe6f0718level0_row0\" class=\"row_heading level0 row0\" >K0</th>\n",
       "                        <td id=\"T_e8b9fd14_9cfb_11ed_9bf5_88e9fe6f0718row0_col0\" class=\"data row0 col0\" >A0</td>\n",
       "                        <td id=\"T_e8b9fd14_9cfb_11ed_9bf5_88e9fe6f0718row0_col1\" class=\"data row0 col1\" >B0</td>\n",
       "            </tr>\n",
       "            <tr>\n",
       "                        <th id=\"T_e8b9fd14_9cfb_11ed_9bf5_88e9fe6f0718level0_row1\" class=\"row_heading level0 row1\" >K1</th>\n",
       "                        <td id=\"T_e8b9fd14_9cfb_11ed_9bf5_88e9fe6f0718row1_col0\" class=\"data row1 col0\" >A1</td>\n",
       "                        <td id=\"T_e8b9fd14_9cfb_11ed_9bf5_88e9fe6f0718row1_col1\" class=\"data row1 col1\" >B1</td>\n",
       "            </tr>\n",
       "            <tr>\n",
       "                        <th id=\"T_e8b9fd14_9cfb_11ed_9bf5_88e9fe6f0718level0_row2\" class=\"row_heading level0 row2\" >K2</th>\n",
       "                        <td id=\"T_e8b9fd14_9cfb_11ed_9bf5_88e9fe6f0718row2_col0\" class=\"data row2 col0\" >A2</td>\n",
       "                        <td id=\"T_e8b9fd14_9cfb_11ed_9bf5_88e9fe6f0718row2_col1\" class=\"data row2 col1\" >B2</td>\n",
       "            </tr>\n",
       "    </tbody></table><style  type=\"text/css\" >\n",
       "</style><table id=\"T_e8ba2302_9cfb_11ed_9bf5_88e9fe6f0718\" style='display:inline'><caption>Right table</caption><thead>    <tr>        <th class=\"blank level0\" ></th>        <th class=\"col_heading level0 col0\" >C</th>        <th class=\"col_heading level0 col1\" >D</th>    </tr></thead><tbody>\n",
       "                <tr>\n",
       "                        <th id=\"T_e8ba2302_9cfb_11ed_9bf5_88e9fe6f0718level0_row0\" class=\"row_heading level0 row0\" >K0</th>\n",
       "                        <td id=\"T_e8ba2302_9cfb_11ed_9bf5_88e9fe6f0718row0_col0\" class=\"data row0 col0\" >C0</td>\n",
       "                        <td id=\"T_e8ba2302_9cfb_11ed_9bf5_88e9fe6f0718row0_col1\" class=\"data row0 col1\" >D0</td>\n",
       "            </tr>\n",
       "            <tr>\n",
       "                        <th id=\"T_e8ba2302_9cfb_11ed_9bf5_88e9fe6f0718level0_row1\" class=\"row_heading level0 row1\" >K2</th>\n",
       "                        <td id=\"T_e8ba2302_9cfb_11ed_9bf5_88e9fe6f0718row1_col0\" class=\"data row1 col0\" >C2</td>\n",
       "                        <td id=\"T_e8ba2302_9cfb_11ed_9bf5_88e9fe6f0718row1_col1\" class=\"data row1 col1\" >D2</td>\n",
       "            </tr>\n",
       "            <tr>\n",
       "                        <th id=\"T_e8ba2302_9cfb_11ed_9bf5_88e9fe6f0718level0_row2\" class=\"row_heading level0 row2\" >K3</th>\n",
       "                        <td id=\"T_e8ba2302_9cfb_11ed_9bf5_88e9fe6f0718row2_col0\" class=\"data row2 col0\" >C3</td>\n",
       "                        <td id=\"T_e8ba2302_9cfb_11ed_9bf5_88e9fe6f0718row2_col1\" class=\"data row2 col1\" >D3</td>\n",
       "            </tr>\n",
       "    </tbody></table>"
      ]
     },
     "metadata": {},
     "output_type": "display_data"
    }
   ],
   "source": [
    "df1_styler = left_df.style.set_table_attributes(\"style='display:inline'\").set_caption('Left table')\n",
    "df2_styler = right_df.style.set_table_attributes(\"style='display:inline'\").set_caption('Right table')\n",
    "\n",
    "display_html(df1_styler._repr_html_()+ df2_styler._repr_html_(), raw=True)"
   ]
  },
  {
   "cell_type": "code",
   "execution_count": 24,
   "id": "d4599a11",
   "metadata": {},
   "outputs": [
    {
     "data": {
      "text/html": [
       "<style  type=\"text/css\" >\n",
       "</style><table id=\"T_e8bbb032_9cfb_11ed_9bf5_88e9fe6f0718\" style='display:inline'><caption>Left table</caption><thead>    <tr>        <th class=\"blank level0\" ></th>        <th class=\"col_heading level0 col0\" >A</th>        <th class=\"col_heading level0 col1\" >B</th>    </tr></thead><tbody>\n",
       "                <tr>\n",
       "                        <th id=\"T_e8bbb032_9cfb_11ed_9bf5_88e9fe6f0718level0_row0\" class=\"row_heading level0 row0\" >K0</th>\n",
       "                        <td id=\"T_e8bbb032_9cfb_11ed_9bf5_88e9fe6f0718row0_col0\" class=\"data row0 col0\" >A0</td>\n",
       "                        <td id=\"T_e8bbb032_9cfb_11ed_9bf5_88e9fe6f0718row0_col1\" class=\"data row0 col1\" >B0</td>\n",
       "            </tr>\n",
       "            <tr>\n",
       "                        <th id=\"T_e8bbb032_9cfb_11ed_9bf5_88e9fe6f0718level0_row1\" class=\"row_heading level0 row1\" >K1</th>\n",
       "                        <td id=\"T_e8bbb032_9cfb_11ed_9bf5_88e9fe6f0718row1_col0\" class=\"data row1 col0\" >A1</td>\n",
       "                        <td id=\"T_e8bbb032_9cfb_11ed_9bf5_88e9fe6f0718row1_col1\" class=\"data row1 col1\" >B1</td>\n",
       "            </tr>\n",
       "            <tr>\n",
       "                        <th id=\"T_e8bbb032_9cfb_11ed_9bf5_88e9fe6f0718level0_row2\" class=\"row_heading level0 row2\" >K2</th>\n",
       "                        <td id=\"T_e8bbb032_9cfb_11ed_9bf5_88e9fe6f0718row2_col0\" class=\"data row2 col0\" >A2</td>\n",
       "                        <td id=\"T_e8bbb032_9cfb_11ed_9bf5_88e9fe6f0718row2_col1\" class=\"data row2 col1\" >B2</td>\n",
       "            </tr>\n",
       "    </tbody></table><style  type=\"text/css\" >\n",
       "</style><table id=\"T_e8bbcdb0_9cfb_11ed_9bf5_88e9fe6f0718\" style='display:inline'><caption>Right table</caption><thead>    <tr>        <th class=\"blank level0\" ></th>        <th class=\"col_heading level0 col0\" >C</th>        <th class=\"col_heading level0 col1\" >D</th>    </tr></thead><tbody>\n",
       "                <tr>\n",
       "                        <th id=\"T_e8bbcdb0_9cfb_11ed_9bf5_88e9fe6f0718level0_row0\" class=\"row_heading level0 row0\" >K0</th>\n",
       "                        <td id=\"T_e8bbcdb0_9cfb_11ed_9bf5_88e9fe6f0718row0_col0\" class=\"data row0 col0\" >C0</td>\n",
       "                        <td id=\"T_e8bbcdb0_9cfb_11ed_9bf5_88e9fe6f0718row0_col1\" class=\"data row0 col1\" >D0</td>\n",
       "            </tr>\n",
       "            <tr>\n",
       "                        <th id=\"T_e8bbcdb0_9cfb_11ed_9bf5_88e9fe6f0718level0_row1\" class=\"row_heading level0 row1\" >K2</th>\n",
       "                        <td id=\"T_e8bbcdb0_9cfb_11ed_9bf5_88e9fe6f0718row1_col0\" class=\"data row1 col0\" >C2</td>\n",
       "                        <td id=\"T_e8bbcdb0_9cfb_11ed_9bf5_88e9fe6f0718row1_col1\" class=\"data row1 col1\" >D2</td>\n",
       "            </tr>\n",
       "            <tr>\n",
       "                        <th id=\"T_e8bbcdb0_9cfb_11ed_9bf5_88e9fe6f0718level0_row2\" class=\"row_heading level0 row2\" >K3</th>\n",
       "                        <td id=\"T_e8bbcdb0_9cfb_11ed_9bf5_88e9fe6f0718row2_col0\" class=\"data row2 col0\" >C3</td>\n",
       "                        <td id=\"T_e8bbcdb0_9cfb_11ed_9bf5_88e9fe6f0718row2_col1\" class=\"data row2 col1\" >D3</td>\n",
       "            </tr>\n",
       "    </tbody></table><style  type=\"text/css\" >\n",
       "</style><table id=\"T_e8bbfe3e_9cfb_11ed_9bf5_88e9fe6f0718\" style='display:inline'><caption>JOIN</caption><thead>    <tr>        <th class=\"blank level0\" ></th>        <th class=\"col_heading level0 col0\" >A</th>        <th class=\"col_heading level0 col1\" >B</th>        <th class=\"col_heading level0 col2\" >C</th>        <th class=\"col_heading level0 col3\" >D</th>    </tr></thead><tbody>\n",
       "                <tr>\n",
       "                        <th id=\"T_e8bbfe3e_9cfb_11ed_9bf5_88e9fe6f0718level0_row0\" class=\"row_heading level0 row0\" >K0</th>\n",
       "                        <td id=\"T_e8bbfe3e_9cfb_11ed_9bf5_88e9fe6f0718row0_col0\" class=\"data row0 col0\" >A0</td>\n",
       "                        <td id=\"T_e8bbfe3e_9cfb_11ed_9bf5_88e9fe6f0718row0_col1\" class=\"data row0 col1\" >B0</td>\n",
       "                        <td id=\"T_e8bbfe3e_9cfb_11ed_9bf5_88e9fe6f0718row0_col2\" class=\"data row0 col2\" >C0</td>\n",
       "                        <td id=\"T_e8bbfe3e_9cfb_11ed_9bf5_88e9fe6f0718row0_col3\" class=\"data row0 col3\" >D0</td>\n",
       "            </tr>\n",
       "            <tr>\n",
       "                        <th id=\"T_e8bbfe3e_9cfb_11ed_9bf5_88e9fe6f0718level0_row1\" class=\"row_heading level0 row1\" >K2</th>\n",
       "                        <td id=\"T_e8bbfe3e_9cfb_11ed_9bf5_88e9fe6f0718row1_col0\" class=\"data row1 col0\" >A2</td>\n",
       "                        <td id=\"T_e8bbfe3e_9cfb_11ed_9bf5_88e9fe6f0718row1_col1\" class=\"data row1 col1\" >B2</td>\n",
       "                        <td id=\"T_e8bbfe3e_9cfb_11ed_9bf5_88e9fe6f0718row1_col2\" class=\"data row1 col2\" >C2</td>\n",
       "                        <td id=\"T_e8bbfe3e_9cfb_11ed_9bf5_88e9fe6f0718row1_col3\" class=\"data row1 col3\" >D2</td>\n",
       "            </tr>\n",
       "    </tbody></table>"
      ]
     },
     "metadata": {},
     "output_type": "display_data"
    }
   ],
   "source": [
    "result = left_df.join(right_df, how=\"inner\")\n",
    "\n",
    "#Rendering the df's in the same line. No need to learn this code\n",
    "\n",
    "df1_styler = left_df.style.set_table_attributes(\"style='display:inline'\").set_caption('Left table')\n",
    "df2_styler = right_df.style.set_table_attributes(\"style='display:inline'\").set_caption('Right table')\n",
    "df1_df2_merged = result.style.set_table_attributes(\"style='display:inline'\").set_caption('JOIN')\n",
    "\n",
    "display_html(df1_styler._repr_html_()+ df2_styler._repr_html_() + df1_df2_merged._repr_html_(), raw=True)\n",
    "#display_html(df1_styler._repr_html_()+ df2_styler._repr_html_(), raw=True)"
   ]
  },
  {
   "cell_type": "markdown",
   "id": "f3ad1415",
   "metadata": {},
   "source": [
    "### Differences between join & merge"
   ]
  },
  {
   "cell_type": "markdown",
   "id": "a158750f",
   "metadata": {},
   "source": [
    "<figure class=\"wp-block-table is-style-stripes\"><table class=\"has-fixed-layout\"><thead><tr><th><strong>Join Feature</strong></th><th class=\"has-text-align-center\" data-align=\"center\"><strong>join()</strong></th><th class=\"has-text-align-center\" data-align=\"center\"><strong>merge()</strong></th></tr></thead><tbody><tr><td>inner</td><td class=\"has-text-align-center\" data-align=\"center\">Yes</td><td class=\"has-text-align-center\" data-align=\"center\">Yes</td></tr><tr><td>left</td><td class=\"has-text-align-center\" data-align=\"center\">Yes</td><td class=\"has-text-align-center\" data-align=\"center\">Yes</td></tr><tr><td>right</td><td class=\"has-text-align-center\" data-align=\"center\">Yes</td><td class=\"has-text-align-center\" data-align=\"center\">Yes</td></tr><tr><td>outer</td><td class=\"has-text-align-center\" data-align=\"center\">Yes</td><td class=\"has-text-align-center\" data-align=\"center\">Yes</td></tr><tr><td>cross</td><td class=\"has-text-align-center\" data-align=\"center\">X</td><td class=\"has-text-align-center\" data-align=\"center\">Yes</td></tr><tr><td>Join on Indices</td><td class=\"has-text-align-center\" data-align=\"center\">Yes</td><td class=\"has-text-align-center\" data-align=\"center\">Yes</td></tr><tr><td>Join on Columns</td><td class=\"has-text-align-center\" data-align=\"center\">X</td><td class=\"has-text-align-center\" data-align=\"center\">Yes</td></tr><tr><td>Left on column, right on index</td><td class=\"has-text-align-center\" data-align=\"center\">Yes</td><td class=\"has-text-align-center\" data-align=\"center\">Yes</td></tr><tr><td>Left on index, right on column</td><td class=\"has-text-align-center\" data-align=\"center\">X</td><td class=\"has-text-align-center\" data-align=\"center\">Yes</td></tr></tbody></table>"
   ]
  },
  {
   "cell_type": "markdown",
   "id": "9a3a34a5",
   "metadata": {
    "lang": "en"
   },
   "source": [
    "## Export data"
   ]
  },
  {
   "cell_type": "markdown",
   "id": "38593104",
   "metadata": {},
   "source": [
    "`to_csv`"
   ]
  },
  {
   "cell_type": "code",
   "execution_count": null,
   "id": "super-milton",
   "metadata": {},
   "outputs": [],
   "source": []
  },
  {
   "cell_type": "markdown",
   "id": "985eeaa7",
   "metadata": {},
   "source": [
    "`to_json`"
   ]
  },
  {
   "cell_type": "code",
   "execution_count": null,
   "id": "b42fb7d0",
   "metadata": {},
   "outputs": [],
   "source": []
  },
  {
   "cell_type": "markdown",
   "id": "4f340806",
   "metadata": {
    "lang": "en"
   },
   "source": [
    "## Pandas usual methods\n",
    "```python\n",
    "df.head() # prints the head, default 5 rows\n",
    "df.tail() # set the tail, default 5 rows\n",
    "df.describe() # statistical description\n",
    "df.info() # df information\n",
    "df.columns # show column\n",
    "df.index # show index\n",
    "df.dtypes # show column data types\n",
    "df.plot() # make a plot\n",
    "df.hist() # make a histogram\n",
    "df.col.value_counts() # counts the unique values ​​of a column\n",
    "df.col.unique() # returns unique values ​​from a column\n",
    "df.copy() # copies the df\n",
    "df.drop() # remove columns or rows (axis=0,1)\n",
    "df.dropna() # remove nulls\n",
    "df.fillna() # fills nulls\n",
    "df.shape # dimensions of the df\n",
    "df._get_numeric_data() # select numeric columns\n",
    "df.rename() # rename columns\n",
    "df.str.replace() # replace columns of strings\n",
    "df.astype(dtype='float32') # change the data type\n",
    "df.iloc[] # locate by index\n",
    "df.loc[] # locate by element\n",
    "df.transpose() # transposes the df\n",
    "df.T\n",
    "df.sample(n, frac) # sample from df\n",
    "df.col.sum() # sum of a column\n",
    "df.col.max() # maximum of a column\n",
    "df.col.min() # minimum of one column\n",
    "df[col] # select column\n",
    "df.col\n",
    "df.isnull() # null values\n",
    "df.isna()\n",
    "df.notna() # not null values\n",
    "df.drop_duplicates() # remove duplicates\n",
    "df.reset_index(inplace=True) # reset the index and overwrite\n",
    "```"
   ]
  },
  {
   "cell_type": "markdown",
   "id": "stylish-jefferson",
   "metadata": {},
   "source": [
    "## Further materials\n",
    "\n",
    "* [Read the docs!](https://pandas.pydata.org/pandas-docs/stable/index.html)\n",
    "* [Cheatsheet](https://pandas.pydata.org/Pandas_Cheat_Sheet.pdf)\n",
    "* [Exercises to practice](https://github.com/guipsamora/pandas_exercises)\n",
    "* [More on merge, concat, and join](https://realpython.com/pandas-merge-join-and-concat/#pandas-join-combining-data-on-a-column-or-index). And [even more!](https://pandas.pydata.org/pandas-docs/stable/user_guide/merging.html)\n",
    " "
   ]
  }
 ],
 "metadata": {
  "kernelspec": {
   "display_name": "Python 3 (ipykernel)",
   "language": "python",
   "name": "python3"
  },
  "language_info": {
   "codemirror_mode": {
    "name": "ipython",
    "version": 3
   },
   "file_extension": ".py",
   "mimetype": "text/x-python",
   "name": "python",
   "nbconvert_exporter": "python",
   "pygments_lexer": "ipython3",
   "version": "3.8.13"
  },
  "nbTranslate": {
   "displayLangs": [
    "en",
    "es"
   ],
   "hotkey": "alt-a",
   "langInMainMenu": true,
   "sourceLang": "es",
   "targetLang": "en",
   "useGoogleTranslate": true
  },
  "toc": {
   "base_numbering": 1,
   "nav_menu": {},
   "number_sections": true,
   "sideBar": true,
   "skip_h1_title": true,
   "title_cell": "Table of Contents",
   "title_sidebar": "Contents",
   "toc_cell": true,
   "toc_position": {
    "height": "calc(100% - 180px)",
    "left": "10px",
    "top": "150px",
    "width": "269.766px"
   },
   "toc_section_display": true,
   "toc_window_display": true
  },
  "varInspector": {
   "cols": {
    "lenName": 16,
    "lenType": 16,
    "lenVar": 40
   },
   "kernels_config": {
    "python": {
     "delete_cmd_postfix": "",
     "delete_cmd_prefix": "del ",
     "library": "var_list.py",
     "varRefreshCmd": "print(var_dic_list())"
    },
    "r": {
     "delete_cmd_postfix": ") ",
     "delete_cmd_prefix": "rm(",
     "library": "var_list.r",
     "varRefreshCmd": "cat(var_dic_list()) "
    }
   },
   "types_to_exclude": [
    "module",
    "function",
    "builtin_function_or_method",
    "instance",
    "_Feature"
   ],
   "window_display": false
  }
 },
 "nbformat": 4,
 "nbformat_minor": 5
}
