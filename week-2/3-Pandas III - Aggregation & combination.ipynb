{
 "cells": [
  {
   "cell_type": "markdown",
   "id": "b823de73",
   "metadata": {
    "toc": true
   },
   "source": [
    "<h1>Table of Contents<span class=\"tocSkip\"></span></h1>\n",
    "<div class=\"toc\"><ul class=\"toc-item\"><li><span><a href=\"#Data-aggregation\" data-toc-modified-id=\"Data-aggregation-1\"><span class=\"toc-item-num\">1&nbsp;&nbsp;</span>Data aggregation</a></span><ul class=\"toc-item\"><li><span><a href=\"#groupby\" data-toc-modified-id=\"groupby-1.1\"><span class=\"toc-item-num\">1.1&nbsp;&nbsp;</span>groupby</a></span><ul class=\"toc-item\"><li><span><a href=\"#groupby-&amp;-aggregate\" data-toc-modified-id=\"groupby-&amp;-aggregate-1.1.1\"><span class=\"toc-item-num\">1.1.1&nbsp;&nbsp;</span>groupby &amp; aggregate</a></span></li></ul></li><li><span><a href=\"#Pivot-Tables\" data-toc-modified-id=\"Pivot-Tables-1.2\"><span class=\"toc-item-num\">1.2&nbsp;&nbsp;</span>Pivot Tables</a></span></li><li><span><a href=\"#Differences-between-pivot-table-and-groupby-function\" data-toc-modified-id=\"Differences-between-pivot-table-and-groupby-function-1.3\"><span class=\"toc-item-num\">1.3&nbsp;&nbsp;</span>Differences between pivot table and groupby function</a></span></li><li><span><a href=\"#crosstab\" data-toc-modified-id=\"crosstab-1.4\"><span class=\"toc-item-num\">1.4&nbsp;&nbsp;</span>crosstab</a></span></li></ul></li><li><span><a href=\"#Data-combination:-mixing-dataframes\" data-toc-modified-id=\"Data-combination:-mixing-dataframes-2\"><span class=\"toc-item-num\">2&nbsp;&nbsp;</span>Data combination: mixing dataframes</a></span><ul class=\"toc-item\"><li><span><a href=\"#Concat:-two-things-together\" data-toc-modified-id=\"Concat:-two-things-together-2.1\"><span class=\"toc-item-num\">2.1&nbsp;&nbsp;</span>Concat: two things together</a></span><ul class=\"toc-item\"><li><span><a href=\"#Concatenating-on-axis-0-(rows)\" data-toc-modified-id=\"Concatenating-on-axis-0-(rows)-2.1.1\"><span class=\"toc-item-num\">2.1.1&nbsp;&nbsp;</span>Concatenating on axis 0 (rows)</a></span></li><li><span><a href=\"#Concatenating-on-axis-1-(columns)\" data-toc-modified-id=\"Concatenating-on-axis-1-(columns)-2.1.2\"><span class=\"toc-item-num\">2.1.2&nbsp;&nbsp;</span>Concatenating on axis 1 (columns)</a></span></li></ul></li><li><span><a href=\"#Merge:-related-columns\" data-toc-modified-id=\"Merge:-related-columns-2.2\"><span class=\"toc-item-num\">2.2&nbsp;&nbsp;</span>Merge: related columns</a></span><ul class=\"toc-item\"><li><span><a href=\"#LEFT-Merge\" data-toc-modified-id=\"LEFT-Merge-2.2.1\"><span class=\"toc-item-num\">2.2.1&nbsp;&nbsp;</span>LEFT Merge</a></span></li><li><span><a href=\"#RIGHT-Merge\" data-toc-modified-id=\"RIGHT-Merge-2.2.2\"><span class=\"toc-item-num\">2.2.2&nbsp;&nbsp;</span>RIGHT Merge</a></span></li><li><span><a href=\"#INNER-Merge\" data-toc-modified-id=\"INNER-Merge-2.2.3\"><span class=\"toc-item-num\">2.2.3&nbsp;&nbsp;</span>INNER Merge</a></span></li><li><span><a href=\"#OUTER-Merge\" data-toc-modified-id=\"OUTER-Merge-2.2.4\"><span class=\"toc-item-num\">2.2.4&nbsp;&nbsp;</span>OUTER Merge</a></span></li></ul></li><li><span><a href=\"#Merging-&amp;-Concatenating-in-two-different-columns\" data-toc-modified-id=\"Merging-&amp;-Concatenating-in-two-different-columns-2.3\"><span class=\"toc-item-num\">2.3&nbsp;&nbsp;</span>Merging &amp; Concatenating in two different columns</a></span><ul class=\"toc-item\"><li><span><a href=\"#Concatenating-in-two-different-columns\" data-toc-modified-id=\"Concatenating-in-two-different-columns-2.3.1\"><span class=\"toc-item-num\">2.3.1&nbsp;&nbsp;</span>Concatenating in two different columns</a></span></li><li><span><a href=\"#Merging-in-two-different-columns\" data-toc-modified-id=\"Merging-in-two-different-columns-2.3.2\"><span class=\"toc-item-num\">2.3.2&nbsp;&nbsp;</span>Merging in two different columns</a></span></li></ul></li><li><span><a href=\"#Join:-relating-index\" data-toc-modified-id=\"Join:-relating-index-2.4\"><span class=\"toc-item-num\">2.4&nbsp;&nbsp;</span>Join: relating index</a></span></li><li><span><a href=\"#Differences-between-join-&amp;-merge\" data-toc-modified-id=\"Differences-between-join-&amp;-merge-2.5\"><span class=\"toc-item-num\">2.5&nbsp;&nbsp;</span>Differences between join &amp; merge</a></span></li></ul></li><li><span><a href=\"#Pandas-usual-methods\" data-toc-modified-id=\"Pandas-usual-methods-3\"><span class=\"toc-item-num\">3&nbsp;&nbsp;</span>Pandas usual methods</a></span></li><li><span><a href=\"#Further-materials\" data-toc-modified-id=\"Further-materials-4\"><span class=\"toc-item-num\">4&nbsp;&nbsp;</span>Further materials</a></span></li></ul></div>"
   ]
  },
  {
   "cell_type": "markdown",
   "id": "ad2d0378",
   "metadata": {},
   "source": [
    "![](https://miro.medium.com/max/1400/1*6d5dw6dPhy4vBp2vRW6uzw.webp)"
   ]
  },
  {
   "cell_type": "code",
   "execution_count": 95,
   "id": "90c4e96b",
   "metadata": {},
   "outputs": [],
   "source": [
    "import pandas as pd\n",
    "import numpy as np"
   ]
  },
  {
   "cell_type": "code",
   "execution_count": 96,
   "id": "a2d91bba",
   "metadata": {},
   "outputs": [],
   "source": [
    "df = pd.read_csv(\"../datasets/employees.csv\")"
   ]
  },
  {
   "cell_type": "markdown",
   "id": "6cc1f24d",
   "metadata": {},
   "source": [
    "## Data aggregation"
   ]
  },
  {
   "cell_type": "markdown",
   "id": "d7cd8b73",
   "metadata": {},
   "source": [
    "`groupby, pivot table & cross_tab`"
   ]
  },
  {
   "cell_type": "markdown",
   "id": "c51e74f4",
   "metadata": {
    "lang": "en"
   },
   "source": [
    "### groupby\n",
    "Pandas GroupBy is a powerful and versatile function in Python. It allows us to split your data into separate groups to perform calculations for better analysis.\n",
    "A DataFrame can be grouped on its rows (axis=0) or on its columns (axis=1). Once this is done, a function is applied to each group, producing a new value. Finally, the results of all those function applications are combined into a result object. The shape of the resulting object will usually depend on what is done with the data."
   ]
  },
  {
   "cell_type": "markdown",
   "id": "a50c2b5d",
   "metadata": {},
   "source": [
    "`df[subset].groupby(category).aggregation()`"
   ]
  },
  {
   "cell_type": "markdown",
   "id": "surprised-malpractice",
   "metadata": {},
   "source": [
    "https://pandas.pydata.org/docs/reference/api/pandas.DataFrame.groupby.html"
   ]
  },
  {
   "cell_type": "code",
   "execution_count": 98,
   "id": "fc2d48fa",
   "metadata": {},
   "outputs": [
    {
     "data": {
      "text/html": [
       "<div>\n",
       "<style scoped>\n",
       "    .dataframe tbody tr th:only-of-type {\n",
       "        vertical-align: middle;\n",
       "    }\n",
       "\n",
       "    .dataframe tbody tr th {\n",
       "        vertical-align: top;\n",
       "    }\n",
       "\n",
       "    .dataframe thead th {\n",
       "        text-align: right;\n",
       "    }\n",
       "</style>\n",
       "<table border=\"1\" class=\"dataframe\">\n",
       "  <thead>\n",
       "    <tr style=\"text-align: right;\">\n",
       "      <th></th>\n",
       "      <th>Age</th>\n",
       "      <th>Attrition</th>\n",
       "      <th>BusinessTravel</th>\n",
       "      <th>DailyRate</th>\n",
       "      <th>Department</th>\n",
       "      <th>DistanceFromHome</th>\n",
       "      <th>Education</th>\n",
       "      <th>EducationField</th>\n",
       "      <th>EmployeeCount</th>\n",
       "      <th>EmployeeNumber</th>\n",
       "      <th>...</th>\n",
       "      <th>RelationshipSatisfaction</th>\n",
       "      <th>StandardHours</th>\n",
       "      <th>StockOptionLevel</th>\n",
       "      <th>TotalWorkingYears</th>\n",
       "      <th>TrainingTimesLastYear</th>\n",
       "      <th>WorkLifeBalance</th>\n",
       "      <th>YearsAtCompany</th>\n",
       "      <th>YearsInCurrentRole</th>\n",
       "      <th>YearsSinceLastPromotion</th>\n",
       "      <th>YearsWithCurrManager</th>\n",
       "    </tr>\n",
       "  </thead>\n",
       "  <tbody>\n",
       "    <tr>\n",
       "      <th>718</th>\n",
       "      <td>45</td>\n",
       "      <td>No</td>\n",
       "      <td>Non-Travel</td>\n",
       "      <td>248</td>\n",
       "      <td>Research &amp; Development</td>\n",
       "      <td>23</td>\n",
       "      <td>2</td>\n",
       "      <td>Life Sciences</td>\n",
       "      <td>1</td>\n",
       "      <td>1002</td>\n",
       "      <td>...</td>\n",
       "      <td>3</td>\n",
       "      <td>80</td>\n",
       "      <td>1</td>\n",
       "      <td>9</td>\n",
       "      <td>2</td>\n",
       "      <td>3</td>\n",
       "      <td>9</td>\n",
       "      <td>8</td>\n",
       "      <td>0</td>\n",
       "      <td>8</td>\n",
       "    </tr>\n",
       "    <tr>\n",
       "      <th>1243</th>\n",
       "      <td>45</td>\n",
       "      <td>No</td>\n",
       "      <td>Travel_Rarely</td>\n",
       "      <td>176</td>\n",
       "      <td>Human Resources</td>\n",
       "      <td>4</td>\n",
       "      <td>3</td>\n",
       "      <td>Life Sciences</td>\n",
       "      <td>1</td>\n",
       "      <td>1744</td>\n",
       "      <td>...</td>\n",
       "      <td>3</td>\n",
       "      <td>80</td>\n",
       "      <td>2</td>\n",
       "      <td>9</td>\n",
       "      <td>2</td>\n",
       "      <td>4</td>\n",
       "      <td>5</td>\n",
       "      <td>0</td>\n",
       "      <td>0</td>\n",
       "      <td>3</td>\n",
       "    </tr>\n",
       "    <tr>\n",
       "      <th>1212</th>\n",
       "      <td>34</td>\n",
       "      <td>No</td>\n",
       "      <td>Travel_Rarely</td>\n",
       "      <td>678</td>\n",
       "      <td>Research &amp; Development</td>\n",
       "      <td>19</td>\n",
       "      <td>3</td>\n",
       "      <td>Life Sciences</td>\n",
       "      <td>1</td>\n",
       "      <td>1701</td>\n",
       "      <td>...</td>\n",
       "      <td>2</td>\n",
       "      <td>80</td>\n",
       "      <td>0</td>\n",
       "      <td>10</td>\n",
       "      <td>3</td>\n",
       "      <td>3</td>\n",
       "      <td>10</td>\n",
       "      <td>9</td>\n",
       "      <td>8</td>\n",
       "      <td>7</td>\n",
       "    </tr>\n",
       "  </tbody>\n",
       "</table>\n",
       "<p>3 rows × 35 columns</p>\n",
       "</div>"
      ],
      "text/plain": [
       "      Age Attrition BusinessTravel  DailyRate              Department  \\\n",
       "718    45        No     Non-Travel        248  Research & Development   \n",
       "1243   45        No  Travel_Rarely        176         Human Resources   \n",
       "1212   34        No  Travel_Rarely        678  Research & Development   \n",
       "\n",
       "      DistanceFromHome  Education EducationField  EmployeeCount  \\\n",
       "718                 23          2  Life Sciences              1   \n",
       "1243                 4          3  Life Sciences              1   \n",
       "1212                19          3  Life Sciences              1   \n",
       "\n",
       "      EmployeeNumber  ...  RelationshipSatisfaction StandardHours  \\\n",
       "718             1002  ...                         3            80   \n",
       "1243            1744  ...                         3            80   \n",
       "1212            1701  ...                         2            80   \n",
       "\n",
       "      StockOptionLevel  TotalWorkingYears  TrainingTimesLastYear  \\\n",
       "718                  1                  9                      2   \n",
       "1243                 2                  9                      2   \n",
       "1212                 0                 10                      3   \n",
       "\n",
       "     WorkLifeBalance  YearsAtCompany YearsInCurrentRole  \\\n",
       "718                3               9                  8   \n",
       "1243               4               5                  0   \n",
       "1212               3              10                  9   \n",
       "\n",
       "      YearsSinceLastPromotion  YearsWithCurrManager  \n",
       "718                         0                     8  \n",
       "1243                        0                     3  \n",
       "1212                        8                     7  \n",
       "\n",
       "[3 rows x 35 columns]"
      ]
     },
     "execution_count": 98,
     "metadata": {},
     "output_type": "execute_result"
    }
   ],
   "source": [
    "df.sample(3)"
   ]
  },
  {
   "cell_type": "markdown",
   "id": "e36c6bb3",
   "metadata": {},
   "source": [
    "`groupby the departments and their mean age`"
   ]
  },
  {
   "cell_type": "code",
   "execution_count": 105,
   "id": "a75e5b9b",
   "metadata": {},
   "outputs": [
    {
     "data": {
      "text/plain": [
       "array(['Sales', 'Research & Development', 'Human Resources'], dtype=object)"
      ]
     },
     "execution_count": 105,
     "metadata": {},
     "output_type": "execute_result"
    }
   ],
   "source": [
    "df[\"Department\"].unique()"
   ]
  },
  {
   "cell_type": "code",
   "execution_count": 112,
   "id": "bd7c7ce1",
   "metadata": {
    "scrolled": false
   },
   "outputs": [
    {
     "data": {
      "text/html": [
       "<div>\n",
       "<style scoped>\n",
       "    .dataframe tbody tr th:only-of-type {\n",
       "        vertical-align: middle;\n",
       "    }\n",
       "\n",
       "    .dataframe tbody tr th {\n",
       "        vertical-align: top;\n",
       "    }\n",
       "\n",
       "    .dataframe thead th {\n",
       "        text-align: right;\n",
       "    }\n",
       "</style>\n",
       "<table border=\"1\" class=\"dataframe\">\n",
       "  <thead>\n",
       "    <tr style=\"text-align: right;\">\n",
       "      <th></th>\n",
       "      <th>Age</th>\n",
       "    </tr>\n",
       "    <tr>\n",
       "      <th>Department</th>\n",
       "      <th></th>\n",
       "    </tr>\n",
       "  </thead>\n",
       "  <tbody>\n",
       "    <tr>\n",
       "      <th>Human Resources</th>\n",
       "      <td>37.809524</td>\n",
       "    </tr>\n",
       "    <tr>\n",
       "      <th>Research &amp; Development</th>\n",
       "      <td>37.042664</td>\n",
       "    </tr>\n",
       "    <tr>\n",
       "      <th>Sales</th>\n",
       "      <td>36.542601</td>\n",
       "    </tr>\n",
       "  </tbody>\n",
       "</table>\n",
       "</div>"
      ],
      "text/plain": [
       "                              Age\n",
       "Department                       \n",
       "Human Resources         37.809524\n",
       "Research & Development  37.042664\n",
       "Sales                   36.542601"
      ]
     },
     "execution_count": 112,
     "metadata": {},
     "output_type": "execute_result"
    }
   ],
   "source": [
    "df[[\"Department\", \"Age\"]].groupbyupby(by=\"Department\").agg(\"mean\")"
   ]
  },
  {
   "cell_type": "code",
   "execution_count": 117,
   "id": "521cc356",
   "metadata": {},
   "outputs": [],
   "source": [
    "#df[[\"Department\", \"Age\"]].groupby(by=\"Department\").agg(lambda x: )\n",
    "# getting the percentage as well as the average"
   ]
  },
  {
   "cell_type": "markdown",
   "id": "a968b6e9",
   "metadata": {},
   "source": [
    "`groupby the departments and their maximum age`"
   ]
  },
  {
   "cell_type": "code",
   "execution_count": 113,
   "id": "aaddcf10",
   "metadata": {},
   "outputs": [
    {
     "data": {
      "text/html": [
       "<div>\n",
       "<style scoped>\n",
       "    .dataframe tbody tr th:only-of-type {\n",
       "        vertical-align: middle;\n",
       "    }\n",
       "\n",
       "    .dataframe tbody tr th {\n",
       "        vertical-align: top;\n",
       "    }\n",
       "\n",
       "    .dataframe thead th {\n",
       "        text-align: right;\n",
       "    }\n",
       "</style>\n",
       "<table border=\"1\" class=\"dataframe\">\n",
       "  <thead>\n",
       "    <tr style=\"text-align: right;\">\n",
       "      <th></th>\n",
       "      <th>Age</th>\n",
       "    </tr>\n",
       "    <tr>\n",
       "      <th>Department</th>\n",
       "      <th></th>\n",
       "    </tr>\n",
       "  </thead>\n",
       "  <tbody>\n",
       "    <tr>\n",
       "      <th>Human Resources</th>\n",
       "      <td>59</td>\n",
       "    </tr>\n",
       "    <tr>\n",
       "      <th>Research &amp; Development</th>\n",
       "      <td>60</td>\n",
       "    </tr>\n",
       "    <tr>\n",
       "      <th>Sales</th>\n",
       "      <td>60</td>\n",
       "    </tr>\n",
       "  </tbody>\n",
       "</table>\n",
       "</div>"
      ],
      "text/plain": [
       "                        Age\n",
       "Department                 \n",
       "Human Resources          59\n",
       "Research & Development   60\n",
       "Sales                    60"
      ]
     },
     "execution_count": 113,
     "metadata": {},
     "output_type": "execute_result"
    }
   ],
   "source": [
    "df[[\"Department\", \"Age\"]].groupby(by=\"Department\").agg(\"max\")"
   ]
  },
  {
   "cell_type": "markdown",
   "id": "28133159",
   "metadata": {},
   "source": [
    "`groupby the departments and their min age`"
   ]
  },
  {
   "cell_type": "code",
   "execution_count": 114,
   "id": "d22af593",
   "metadata": {},
   "outputs": [
    {
     "data": {
      "text/html": [
       "<div>\n",
       "<style scoped>\n",
       "    .dataframe tbody tr th:only-of-type {\n",
       "        vertical-align: middle;\n",
       "    }\n",
       "\n",
       "    .dataframe tbody tr th {\n",
       "        vertical-align: top;\n",
       "    }\n",
       "\n",
       "    .dataframe thead th {\n",
       "        text-align: right;\n",
       "    }\n",
       "</style>\n",
       "<table border=\"1\" class=\"dataframe\">\n",
       "  <thead>\n",
       "    <tr style=\"text-align: right;\">\n",
       "      <th></th>\n",
       "      <th>Age</th>\n",
       "    </tr>\n",
       "    <tr>\n",
       "      <th>Department</th>\n",
       "      <th></th>\n",
       "    </tr>\n",
       "  </thead>\n",
       "  <tbody>\n",
       "    <tr>\n",
       "      <th>Human Resources</th>\n",
       "      <td>19</td>\n",
       "    </tr>\n",
       "    <tr>\n",
       "      <th>Research &amp; Development</th>\n",
       "      <td>18</td>\n",
       "    </tr>\n",
       "    <tr>\n",
       "      <th>Sales</th>\n",
       "      <td>18</td>\n",
       "    </tr>\n",
       "  </tbody>\n",
       "</table>\n",
       "</div>"
      ],
      "text/plain": [
       "                        Age\n",
       "Department                 \n",
       "Human Resources          19\n",
       "Research & Development   18\n",
       "Sales                    18"
      ]
     },
     "execution_count": 114,
     "metadata": {},
     "output_type": "execute_result"
    }
   ],
   "source": [
    "df[[\"Department\", \"Age\"]].groupby(by=\"Department\").agg(\"min\")"
   ]
  },
  {
   "cell_type": "markdown",
   "id": "08947d4b",
   "metadata": {},
   "source": [
    "`groupby: 2+`: Different Education Fields and their Mean Salaries in each of the Department"
   ]
  },
  {
   "cell_type": "code",
   "execution_count": 118,
   "id": "5b4b0582",
   "metadata": {},
   "outputs": [
    {
     "data": {
      "text/html": [
       "<div>\n",
       "<style scoped>\n",
       "    .dataframe tbody tr th:only-of-type {\n",
       "        vertical-align: middle;\n",
       "    }\n",
       "\n",
       "    .dataframe tbody tr th {\n",
       "        vertical-align: top;\n",
       "    }\n",
       "\n",
       "    .dataframe thead th {\n",
       "        text-align: right;\n",
       "    }\n",
       "</style>\n",
       "<table border=\"1\" class=\"dataframe\">\n",
       "  <thead>\n",
       "    <tr style=\"text-align: right;\">\n",
       "      <th></th>\n",
       "      <th>Age</th>\n",
       "      <th>Attrition</th>\n",
       "      <th>BusinessTravel</th>\n",
       "      <th>DailyRate</th>\n",
       "      <th>Department</th>\n",
       "      <th>DistanceFromHome</th>\n",
       "      <th>Education</th>\n",
       "      <th>EducationField</th>\n",
       "      <th>EmployeeCount</th>\n",
       "      <th>EmployeeNumber</th>\n",
       "      <th>...</th>\n",
       "      <th>RelationshipSatisfaction</th>\n",
       "      <th>StandardHours</th>\n",
       "      <th>StockOptionLevel</th>\n",
       "      <th>TotalWorkingYears</th>\n",
       "      <th>TrainingTimesLastYear</th>\n",
       "      <th>WorkLifeBalance</th>\n",
       "      <th>YearsAtCompany</th>\n",
       "      <th>YearsInCurrentRole</th>\n",
       "      <th>YearsSinceLastPromotion</th>\n",
       "      <th>YearsWithCurrManager</th>\n",
       "    </tr>\n",
       "  </thead>\n",
       "  <tbody>\n",
       "    <tr>\n",
       "      <th>337</th>\n",
       "      <td>29</td>\n",
       "      <td>No</td>\n",
       "      <td>Travel_Rarely</td>\n",
       "      <td>738</td>\n",
       "      <td>Research &amp; Development</td>\n",
       "      <td>9</td>\n",
       "      <td>5</td>\n",
       "      <td>Other</td>\n",
       "      <td>1</td>\n",
       "      <td>455</td>\n",
       "      <td>...</td>\n",
       "      <td>3</td>\n",
       "      <td>80</td>\n",
       "      <td>0</td>\n",
       "      <td>4</td>\n",
       "      <td>2</td>\n",
       "      <td>3</td>\n",
       "      <td>3</td>\n",
       "      <td>2</td>\n",
       "      <td>2</td>\n",
       "      <td>2</td>\n",
       "    </tr>\n",
       "  </tbody>\n",
       "</table>\n",
       "<p>1 rows × 35 columns</p>\n",
       "</div>"
      ],
      "text/plain": [
       "     Age Attrition BusinessTravel  DailyRate              Department  \\\n",
       "337   29        No  Travel_Rarely        738  Research & Development   \n",
       "\n",
       "     DistanceFromHome  Education EducationField  EmployeeCount  \\\n",
       "337                 9          5          Other              1   \n",
       "\n",
       "     EmployeeNumber  ...  RelationshipSatisfaction StandardHours  \\\n",
       "337             455  ...                         3            80   \n",
       "\n",
       "     StockOptionLevel  TotalWorkingYears  TrainingTimesLastYear  \\\n",
       "337                 0                  4                      2   \n",
       "\n",
       "    WorkLifeBalance  YearsAtCompany YearsInCurrentRole  \\\n",
       "337               3               3                  2   \n",
       "\n",
       "     YearsSinceLastPromotion  YearsWithCurrManager  \n",
       "337                        2                     2  \n",
       "\n",
       "[1 rows x 35 columns]"
      ]
     },
     "execution_count": 118,
     "metadata": {},
     "output_type": "execute_result"
    }
   ],
   "source": [
    "df.sample()"
   ]
  },
  {
   "cell_type": "code",
   "execution_count": 119,
   "id": "7c76b3b5",
   "metadata": {},
   "outputs": [
    {
     "data": {
      "text/plain": [
       "Index(['Age', 'Attrition', 'BusinessTravel', 'DailyRate', 'Department',\n",
       "       'DistanceFromHome', 'Education', 'EducationField', 'EmployeeCount',\n",
       "       'EmployeeNumber', 'EnvironmentSatisfaction', 'Gender', 'HourlyRate',\n",
       "       'JobInvolvement', 'JobLevel', 'JobRole', 'JobSatisfaction',\n",
       "       'MaritalStatus', 'MonthlyIncome', 'MonthlyRate', 'NumCompaniesWorked',\n",
       "       'Over18', 'OverTime', 'PercentSalaryHike', 'PerformanceRating',\n",
       "       'RelationshipSatisfaction', 'StandardHours', 'StockOptionLevel',\n",
       "       'TotalWorkingYears', 'TrainingTimesLastYear', 'WorkLifeBalance',\n",
       "       'YearsAtCompany', 'YearsInCurrentRole', 'YearsSinceLastPromotion',\n",
       "       'YearsWithCurrManager'],\n",
       "      dtype='object')"
      ]
     },
     "execution_count": 119,
     "metadata": {},
     "output_type": "execute_result"
    }
   ],
   "source": [
    "df.columns"
   ]
  },
  {
   "cell_type": "code",
   "execution_count": null,
   "id": "e482b71a",
   "metadata": {},
   "outputs": [],
   "source": [
    "# gropby = department & education field\n",
    "# department, education field & monthly rate\n",
    "\n",
    "# agg (mean)"
   ]
  },
  {
   "cell_type": "code",
   "execution_count": 132,
   "id": "39e8ffab",
   "metadata": {},
   "outputs": [
    {
     "data": {
      "text/html": [
       "<div>\n",
       "<style scoped>\n",
       "    .dataframe tbody tr th:only-of-type {\n",
       "        vertical-align: middle;\n",
       "    }\n",
       "\n",
       "    .dataframe tbody tr th {\n",
       "        vertical-align: top;\n",
       "    }\n",
       "\n",
       "    .dataframe thead th {\n",
       "        text-align: right;\n",
       "    }\n",
       "</style>\n",
       "<table border=\"1\" class=\"dataframe\">\n",
       "  <thead>\n",
       "    <tr style=\"text-align: right;\">\n",
       "      <th></th>\n",
       "      <th>Department</th>\n",
       "      <th>EducationField</th>\n",
       "      <th>MonthlyRate</th>\n",
       "    </tr>\n",
       "  </thead>\n",
       "  <tbody>\n",
       "    <tr>\n",
       "      <th>0</th>\n",
       "      <td>Sales</td>\n",
       "      <td>Life Sciences</td>\n",
       "      <td>19479</td>\n",
       "    </tr>\n",
       "    <tr>\n",
       "      <th>1</th>\n",
       "      <td>Research &amp; Development</td>\n",
       "      <td>Life Sciences</td>\n",
       "      <td>24907</td>\n",
       "    </tr>\n",
       "    <tr>\n",
       "      <th>2</th>\n",
       "      <td>Research &amp; Development</td>\n",
       "      <td>Other</td>\n",
       "      <td>2396</td>\n",
       "    </tr>\n",
       "    <tr>\n",
       "      <th>3</th>\n",
       "      <td>Research &amp; Development</td>\n",
       "      <td>Life Sciences</td>\n",
       "      <td>23159</td>\n",
       "    </tr>\n",
       "    <tr>\n",
       "      <th>4</th>\n",
       "      <td>Research &amp; Development</td>\n",
       "      <td>Medical</td>\n",
       "      <td>16632</td>\n",
       "    </tr>\n",
       "    <tr>\n",
       "      <th>...</th>\n",
       "      <td>...</td>\n",
       "      <td>...</td>\n",
       "      <td>...</td>\n",
       "    </tr>\n",
       "    <tr>\n",
       "      <th>1465</th>\n",
       "      <td>Research &amp; Development</td>\n",
       "      <td>Medical</td>\n",
       "      <td>12290</td>\n",
       "    </tr>\n",
       "    <tr>\n",
       "      <th>1466</th>\n",
       "      <td>Research &amp; Development</td>\n",
       "      <td>Medical</td>\n",
       "      <td>21457</td>\n",
       "    </tr>\n",
       "    <tr>\n",
       "      <th>1467</th>\n",
       "      <td>Research &amp; Development</td>\n",
       "      <td>Life Sciences</td>\n",
       "      <td>5174</td>\n",
       "    </tr>\n",
       "    <tr>\n",
       "      <th>1468</th>\n",
       "      <td>Sales</td>\n",
       "      <td>Medical</td>\n",
       "      <td>13243</td>\n",
       "    </tr>\n",
       "    <tr>\n",
       "      <th>1469</th>\n",
       "      <td>Research &amp; Development</td>\n",
       "      <td>Medical</td>\n",
       "      <td>10228</td>\n",
       "    </tr>\n",
       "  </tbody>\n",
       "</table>\n",
       "<p>1470 rows × 3 columns</p>\n",
       "</div>"
      ],
      "text/plain": [
       "                  Department EducationField  MonthlyRate\n",
       "0                      Sales  Life Sciences        19479\n",
       "1     Research & Development  Life Sciences        24907\n",
       "2     Research & Development          Other         2396\n",
       "3     Research & Development  Life Sciences        23159\n",
       "4     Research & Development        Medical        16632\n",
       "...                      ...            ...          ...\n",
       "1465  Research & Development        Medical        12290\n",
       "1466  Research & Development        Medical        21457\n",
       "1467  Research & Development  Life Sciences         5174\n",
       "1468                   Sales        Medical        13243\n",
       "1469  Research & Development        Medical        10228\n",
       "\n",
       "[1470 rows x 3 columns]"
      ]
     },
     "execution_count": 132,
     "metadata": {},
     "output_type": "execute_result"
    }
   ],
   "source": [
    "df[[\"Department\", \"EducationField\",\"MonthlyRate\"]]"
   ]
  },
  {
   "cell_type": "code",
   "execution_count": 133,
   "id": "be3bd083",
   "metadata": {},
   "outputs": [
    {
     "data": {
      "text/html": [
       "<div>\n",
       "<style scoped>\n",
       "    .dataframe tbody tr th:only-of-type {\n",
       "        vertical-align: middle;\n",
       "    }\n",
       "\n",
       "    .dataframe tbody tr th {\n",
       "        vertical-align: top;\n",
       "    }\n",
       "\n",
       "    .dataframe thead th {\n",
       "        text-align: right;\n",
       "    }\n",
       "</style>\n",
       "<table border=\"1\" class=\"dataframe\">\n",
       "  <thead>\n",
       "    <tr style=\"text-align: right;\">\n",
       "      <th></th>\n",
       "      <th></th>\n",
       "      <th>MonthlyRate</th>\n",
       "    </tr>\n",
       "    <tr>\n",
       "      <th>Department</th>\n",
       "      <th>EducationField</th>\n",
       "      <th></th>\n",
       "    </tr>\n",
       "  </thead>\n",
       "  <tbody>\n",
       "    <tr>\n",
       "      <th rowspan=\"5\" valign=\"top\">Human Resources</th>\n",
       "      <th>Human Resources</th>\n",
       "      <td>14810.740741</td>\n",
       "    </tr>\n",
       "    <tr>\n",
       "      <th>Life Sciences</th>\n",
       "      <td>12813.875000</td>\n",
       "    </tr>\n",
       "    <tr>\n",
       "      <th>Medical</th>\n",
       "      <td>12668.230769</td>\n",
       "    </tr>\n",
       "    <tr>\n",
       "      <th>Other</th>\n",
       "      <td>9275.000000</td>\n",
       "    </tr>\n",
       "    <tr>\n",
       "      <th>Technical Degree</th>\n",
       "      <td>13158.500000</td>\n",
       "    </tr>\n",
       "    <tr>\n",
       "      <th rowspan=\"4\" valign=\"top\">Research &amp; Development</th>\n",
       "      <th>Life Sciences</th>\n",
       "      <td>14594.704545</td>\n",
       "    </tr>\n",
       "    <tr>\n",
       "      <th>Medical</th>\n",
       "      <td>14163.603306</td>\n",
       "    </tr>\n",
       "    <tr>\n",
       "      <th>Other</th>\n",
       "      <td>13051.765625</td>\n",
       "    </tr>\n",
       "    <tr>\n",
       "      <th>Technical Degree</th>\n",
       "      <td>14142.393617</td>\n",
       "    </tr>\n",
       "    <tr>\n",
       "      <th rowspan=\"5\" valign=\"top\">Sales</th>\n",
       "      <th>Life Sciences</th>\n",
       "      <td>14523.786667</td>\n",
       "    </tr>\n",
       "    <tr>\n",
       "      <th>Marketing</th>\n",
       "      <td>14076.943396</td>\n",
       "    </tr>\n",
       "    <tr>\n",
       "      <th>Medical</th>\n",
       "      <td>15077.625000</td>\n",
       "    </tr>\n",
       "    <tr>\n",
       "      <th>Other</th>\n",
       "      <td>15004.400000</td>\n",
       "    </tr>\n",
       "    <tr>\n",
       "      <th>Technical Degree</th>\n",
       "      <td>14522.029412</td>\n",
       "    </tr>\n",
       "  </tbody>\n",
       "</table>\n",
       "</div>"
      ],
      "text/plain": [
       "                                          MonthlyRate\n",
       "Department             EducationField                \n",
       "Human Resources        Human Resources   14810.740741\n",
       "                       Life Sciences     12813.875000\n",
       "                       Medical           12668.230769\n",
       "                       Other              9275.000000\n",
       "                       Technical Degree  13158.500000\n",
       "Research & Development Life Sciences     14594.704545\n",
       "                       Medical           14163.603306\n",
       "                       Other             13051.765625\n",
       "                       Technical Degree  14142.393617\n",
       "Sales                  Life Sciences     14523.786667\n",
       "                       Marketing         14076.943396\n",
       "                       Medical           15077.625000\n",
       "                       Other             15004.400000\n",
       "                       Technical Degree  14522.029412"
      ]
     },
     "execution_count": 133,
     "metadata": {},
     "output_type": "execute_result"
    }
   ],
   "source": [
    "df_index = df[[\"Department\", \"EducationField\",\"MonthlyRate\"]].groupby(by=[\"Department\", \"EducationField\"]).agg({\"MonthlyRate\":\"mean\"})\n",
    "df_index"
   ]
  },
  {
   "cell_type": "code",
   "execution_count": 135,
   "id": "0510333f",
   "metadata": {},
   "outputs": [
    {
     "data": {
      "text/html": [
       "<div>\n",
       "<style scoped>\n",
       "    .dataframe tbody tr th:only-of-type {\n",
       "        vertical-align: middle;\n",
       "    }\n",
       "\n",
       "    .dataframe tbody tr th {\n",
       "        vertical-align: top;\n",
       "    }\n",
       "\n",
       "    .dataframe thead th {\n",
       "        text-align: right;\n",
       "    }\n",
       "</style>\n",
       "<table border=\"1\" class=\"dataframe\">\n",
       "  <thead>\n",
       "    <tr style=\"text-align: right;\">\n",
       "      <th></th>\n",
       "      <th></th>\n",
       "      <th>MonthlyRate</th>\n",
       "      <th>StandardHours</th>\n",
       "    </tr>\n",
       "    <tr>\n",
       "      <th>Department</th>\n",
       "      <th>EducationField</th>\n",
       "      <th></th>\n",
       "      <th></th>\n",
       "    </tr>\n",
       "  </thead>\n",
       "  <tbody>\n",
       "    <tr>\n",
       "      <th rowspan=\"5\" valign=\"top\">Human Resources</th>\n",
       "      <th>Human Resources</th>\n",
       "      <td>14810.740741</td>\n",
       "      <td>80</td>\n",
       "    </tr>\n",
       "    <tr>\n",
       "      <th>Life Sciences</th>\n",
       "      <td>12813.875000</td>\n",
       "      <td>80</td>\n",
       "    </tr>\n",
       "    <tr>\n",
       "      <th>Medical</th>\n",
       "      <td>12668.230769</td>\n",
       "      <td>80</td>\n",
       "    </tr>\n",
       "    <tr>\n",
       "      <th>Other</th>\n",
       "      <td>9275.000000</td>\n",
       "      <td>80</td>\n",
       "    </tr>\n",
       "    <tr>\n",
       "      <th>Technical Degree</th>\n",
       "      <td>13158.500000</td>\n",
       "      <td>80</td>\n",
       "    </tr>\n",
       "    <tr>\n",
       "      <th rowspan=\"4\" valign=\"top\">Research &amp; Development</th>\n",
       "      <th>Life Sciences</th>\n",
       "      <td>14594.704545</td>\n",
       "      <td>80</td>\n",
       "    </tr>\n",
       "    <tr>\n",
       "      <th>Medical</th>\n",
       "      <td>14163.603306</td>\n",
       "      <td>80</td>\n",
       "    </tr>\n",
       "    <tr>\n",
       "      <th>Other</th>\n",
       "      <td>13051.765625</td>\n",
       "      <td>80</td>\n",
       "    </tr>\n",
       "    <tr>\n",
       "      <th>Technical Degree</th>\n",
       "      <td>14142.393617</td>\n",
       "      <td>80</td>\n",
       "    </tr>\n",
       "    <tr>\n",
       "      <th rowspan=\"5\" valign=\"top\">Sales</th>\n",
       "      <th>Life Sciences</th>\n",
       "      <td>14523.786667</td>\n",
       "      <td>80</td>\n",
       "    </tr>\n",
       "    <tr>\n",
       "      <th>Marketing</th>\n",
       "      <td>14076.943396</td>\n",
       "      <td>80</td>\n",
       "    </tr>\n",
       "    <tr>\n",
       "      <th>Medical</th>\n",
       "      <td>15077.625000</td>\n",
       "      <td>80</td>\n",
       "    </tr>\n",
       "    <tr>\n",
       "      <th>Other</th>\n",
       "      <td>15004.400000</td>\n",
       "      <td>80</td>\n",
       "    </tr>\n",
       "    <tr>\n",
       "      <th>Technical Degree</th>\n",
       "      <td>14522.029412</td>\n",
       "      <td>80</td>\n",
       "    </tr>\n",
       "  </tbody>\n",
       "</table>\n",
       "</div>"
      ],
      "text/plain": [
       "                                          MonthlyRate  StandardHours\n",
       "Department             EducationField                               \n",
       "Human Resources        Human Resources   14810.740741             80\n",
       "                       Life Sciences     12813.875000             80\n",
       "                       Medical           12668.230769             80\n",
       "                       Other              9275.000000             80\n",
       "                       Technical Degree  13158.500000             80\n",
       "Research & Development Life Sciences     14594.704545             80\n",
       "                       Medical           14163.603306             80\n",
       "                       Other             13051.765625             80\n",
       "                       Technical Degree  14142.393617             80\n",
       "Sales                  Life Sciences     14523.786667             80\n",
       "                       Marketing         14076.943396             80\n",
       "                       Medical           15077.625000             80\n",
       "                       Other             15004.400000             80\n",
       "                       Technical Degree  14522.029412             80"
      ]
     },
     "execution_count": 135,
     "metadata": {},
     "output_type": "execute_result"
    }
   ],
   "source": [
    "df[[\"Department\", \"EducationField\",\"MonthlyRate\", \"StandardHours\"]].groupby(by=[\"Department\", \"EducationField\"]).agg({\"MonthlyRate\":\"mean\", \"StandardHours\":\"max\"})\n"
   ]
  },
  {
   "cell_type": "code",
   "execution_count": 140,
   "id": "159af77a",
   "metadata": {},
   "outputs": [
    {
     "data": {
      "text/html": [
       "<div>\n",
       "<style scoped>\n",
       "    .dataframe tbody tr th:only-of-type {\n",
       "        vertical-align: middle;\n",
       "    }\n",
       "\n",
       "    .dataframe tbody tr th {\n",
       "        vertical-align: top;\n",
       "    }\n",
       "\n",
       "    .dataframe thead th {\n",
       "        text-align: right;\n",
       "    }\n",
       "</style>\n",
       "<table border=\"1\" class=\"dataframe\">\n",
       "  <thead>\n",
       "    <tr style=\"text-align: right;\">\n",
       "      <th></th>\n",
       "      <th></th>\n",
       "      <th>MonthlyRate</th>\n",
       "      <th>StandardHours</th>\n",
       "      <th>Age</th>\n",
       "    </tr>\n",
       "    <tr>\n",
       "      <th>Department</th>\n",
       "      <th>EducationField</th>\n",
       "      <th></th>\n",
       "      <th></th>\n",
       "      <th></th>\n",
       "    </tr>\n",
       "  </thead>\n",
       "  <tbody>\n",
       "    <tr>\n",
       "      <th rowspan=\"5\" valign=\"top\">Human Resources</th>\n",
       "      <th>Human Resources</th>\n",
       "      <td>14810.740741</td>\n",
       "      <td>80.0</td>\n",
       "      <td>37.037037</td>\n",
       "    </tr>\n",
       "    <tr>\n",
       "      <th>Life Sciences</th>\n",
       "      <td>12813.875000</td>\n",
       "      <td>80.0</td>\n",
       "      <td>39.375000</td>\n",
       "    </tr>\n",
       "    <tr>\n",
       "      <th>Medical</th>\n",
       "      <td>12668.230769</td>\n",
       "      <td>80.0</td>\n",
       "      <td>39.846154</td>\n",
       "    </tr>\n",
       "    <tr>\n",
       "      <th>Other</th>\n",
       "      <td>9275.000000</td>\n",
       "      <td>80.0</td>\n",
       "      <td>34.666667</td>\n",
       "    </tr>\n",
       "    <tr>\n",
       "      <th>Technical Degree</th>\n",
       "      <td>13158.500000</td>\n",
       "      <td>80.0</td>\n",
       "      <td>32.500000</td>\n",
       "    </tr>\n",
       "    <tr>\n",
       "      <th rowspan=\"4\" valign=\"top\">Research &amp; Development</th>\n",
       "      <th>Life Sciences</th>\n",
       "      <td>14594.704545</td>\n",
       "      <td>80.0</td>\n",
       "      <td>36.997727</td>\n",
       "    </tr>\n",
       "    <tr>\n",
       "      <th>Medical</th>\n",
       "      <td>14163.603306</td>\n",
       "      <td>80.0</td>\n",
       "      <td>37.242424</td>\n",
       "    </tr>\n",
       "    <tr>\n",
       "      <th>Other</th>\n",
       "      <td>13051.765625</td>\n",
       "      <td>80.0</td>\n",
       "      <td>36.187500</td>\n",
       "    </tr>\n",
       "    <tr>\n",
       "      <th>Technical Degree</th>\n",
       "      <td>14142.393617</td>\n",
       "      <td>80.0</td>\n",
       "      <td>37.063830</td>\n",
       "    </tr>\n",
       "    <tr>\n",
       "      <th rowspan=\"5\" valign=\"top\">Sales</th>\n",
       "      <th>Life Sciences</th>\n",
       "      <td>14523.786667</td>\n",
       "      <td>80.0</td>\n",
       "      <td>37.186667</td>\n",
       "    </tr>\n",
       "    <tr>\n",
       "      <th>Marketing</th>\n",
       "      <td>14076.943396</td>\n",
       "      <td>80.0</td>\n",
       "      <td>37.924528</td>\n",
       "    </tr>\n",
       "    <tr>\n",
       "      <th>Medical</th>\n",
       "      <td>15077.625000</td>\n",
       "      <td>80.0</td>\n",
       "      <td>34.727273</td>\n",
       "    </tr>\n",
       "    <tr>\n",
       "      <th>Other</th>\n",
       "      <td>15004.400000</td>\n",
       "      <td>80.0</td>\n",
       "      <td>32.000000</td>\n",
       "    </tr>\n",
       "    <tr>\n",
       "      <th>Technical Degree</th>\n",
       "      <td>14522.029412</td>\n",
       "      <td>80.0</td>\n",
       "      <td>33.941176</td>\n",
       "    </tr>\n",
       "  </tbody>\n",
       "</table>\n",
       "</div>"
      ],
      "text/plain": [
       "                                          MonthlyRate  StandardHours  \\\n",
       "Department             EducationField                                  \n",
       "Human Resources        Human Resources   14810.740741           80.0   \n",
       "                       Life Sciences     12813.875000           80.0   \n",
       "                       Medical           12668.230769           80.0   \n",
       "                       Other              9275.000000           80.0   \n",
       "                       Technical Degree  13158.500000           80.0   \n",
       "Research & Development Life Sciences     14594.704545           80.0   \n",
       "                       Medical           14163.603306           80.0   \n",
       "                       Other             13051.765625           80.0   \n",
       "                       Technical Degree  14142.393617           80.0   \n",
       "Sales                  Life Sciences     14523.786667           80.0   \n",
       "                       Marketing         14076.943396           80.0   \n",
       "                       Medical           15077.625000           80.0   \n",
       "                       Other             15004.400000           80.0   \n",
       "                       Technical Degree  14522.029412           80.0   \n",
       "\n",
       "                                               Age  \n",
       "Department             EducationField               \n",
       "Human Resources        Human Resources   37.037037  \n",
       "                       Life Sciences     39.375000  \n",
       "                       Medical           39.846154  \n",
       "                       Other             34.666667  \n",
       "                       Technical Degree  32.500000  \n",
       "Research & Development Life Sciences     36.997727  \n",
       "                       Medical           37.242424  \n",
       "                       Other             36.187500  \n",
       "                       Technical Degree  37.063830  \n",
       "Sales                  Life Sciences     37.186667  \n",
       "                       Marketing         37.924528  \n",
       "                       Medical           34.727273  \n",
       "                       Other             32.000000  \n",
       "                       Technical Degree  33.941176  "
      ]
     },
     "execution_count": 140,
     "metadata": {},
     "output_type": "execute_result"
    }
   ],
   "source": [
    "df[[\"Department\", \"EducationField\",\"MonthlyRate\", \"StandardHours\", \"Age\"]].groupby(by=[\"Department\", \"EducationField\"]).agg(\"mean\")"
   ]
  },
  {
   "cell_type": "code",
   "execution_count": null,
   "id": "a39989f5",
   "metadata": {},
   "outputs": [],
   "source": [
    "# {\"Age\": \"mean\", \"MonthlyRate\":\"mean\", \"StandardHours\":\"max\"}\n",
    "# {\"Age\": \"mean\", \"MonthlyRate\":\"mean\", \"StandardHours\":\"mean\"} -> \"mean\"\n"
   ]
  },
  {
   "cell_type": "code",
   "execution_count": null,
   "id": "212944ab",
   "metadata": {},
   "outputs": [],
   "source": [
    "# Andrés wishlist: grouping by age IN ranges\n",
    "    # 1. new column: group A if < 18\n",
    "    # 2. built-it method pd.cut()"
   ]
  },
  {
   "cell_type": "code",
   "execution_count": 130,
   "id": "2bc08b02",
   "metadata": {},
   "outputs": [
    {
     "data": {
      "text/plain": [
       "14"
      ]
     },
     "execution_count": 130,
     "metadata": {},
     "output_type": "execute_result"
    }
   ],
   "source": [
    "len(df_index.index)"
   ]
  },
  {
   "cell_type": "code",
   "execution_count": 131,
   "id": "46f39fbb",
   "metadata": {},
   "outputs": [
    {
     "data": {
      "text/plain": [
       "MultiIndex([(       'Human Resources',  'Human Resources'),\n",
       "            (       'Human Resources',    'Life Sciences'),\n",
       "            (       'Human Resources',          'Medical'),\n",
       "            (       'Human Resources',            'Other'),\n",
       "            (       'Human Resources', 'Technical Degree'),\n",
       "            ('Research & Development',    'Life Sciences'),\n",
       "            ('Research & Development',          'Medical'),\n",
       "            ('Research & Development',            'Other'),\n",
       "            ('Research & Development', 'Technical Degree'),\n",
       "            (                 'Sales',    'Life Sciences'),\n",
       "            (                 'Sales',        'Marketing'),\n",
       "            (                 'Sales',          'Medical'),\n",
       "            (                 'Sales',            'Other'),\n",
       "            (                 'Sales', 'Technical Degree')],\n",
       "           names=['Department', 'EducationField'])"
      ]
     },
     "execution_count": 131,
     "metadata": {},
     "output_type": "execute_result"
    }
   ],
   "source": [
    "df_index.index"
   ]
  },
  {
   "cell_type": "code",
   "execution_count": null,
   "id": "6e51d694",
   "metadata": {},
   "outputs": [],
   "source": [
    "# multiindex: https://pandas.pydata.org/docs/user_guide/advanced.html"
   ]
  },
  {
   "cell_type": "markdown",
   "id": "13345cef",
   "metadata": {},
   "source": [
    "`more fields`"
   ]
  },
  {
   "cell_type": "code",
   "execution_count": null,
   "id": "8239824e",
   "metadata": {},
   "outputs": [],
   "source": []
  },
  {
   "cell_type": "markdown",
   "id": "7b533d07",
   "metadata": {},
   "source": [
    "#### groupby & aggregate"
   ]
  },
  {
   "cell_type": "markdown",
   "id": "1d23b8f4",
   "metadata": {
    "lang": "en"
   },
   "source": [
    "Another way to groupby with agg syntax\n",
    "https://pandas.pydata.org/docs/reference/api/pandas.core.groupby.DataFrameGroupBy.aggregate.html\n",
    "\n",
    "- mean\n",
    "- sum\n",
    "-count"
   ]
  },
  {
   "cell_type": "markdown",
   "id": "0acc8190",
   "metadata": {
    "lang": "en"
   },
   "source": [
    "Suppose we want to calculate the mean of column data1 using the labels of key1. There are several ways to do it. One is to access data1 and call groupby with the column (a String) in key1.\n",
    "The data (a Series) has been aggregated based on the group key, producing a new String that is now indexed by the unique values ​​of the key1 column. The resulting index has the name 'key1' because the DataFrame column `df['key1']` did."
   ]
  },
  {
   "cell_type": "code",
   "execution_count": null,
   "id": "2af0ca45",
   "metadata": {},
   "outputs": [],
   "source": []
  },
  {
   "cell_type": "markdown",
   "id": "4930acad",
   "metadata": {},
   "source": [
    "### Pivot Tables"
   ]
  },
  {
   "cell_type": "markdown",
   "id": "d041aaaa",
   "metadata": {},
   "source": [
    "[groupby vs pivot table](https://towardsdatascience.com/a-comparison-of-groupby-and-pivot-in-pythons-pandas-module-527909e78d6b?source=userActivityShare-4c6d9a33c6-1674605913&_branch_match_id=1146490620103499300&_branch_referrer=H4sIAAAAAAAAA8soKSkottLXz8nMy9bLTU3JLM3VS87P1TfKCvCtKvOvCCpPAgAN4ht%2FIwAAAA%3D%3D)"
   ]
  },
  {
   "cell_type": "markdown",
   "id": "c979e8b6",
   "metadata": {},
   "source": [
    "```pivot_table(df, values=None, index=None, columns=None, aggfunc='mean', ...)```"
   ]
  },
  {
   "cell_type": "markdown",
   "id": "6b9f9abd",
   "metadata": {},
   "source": [
    "* We can create a spreadsheet-style pivot table as a DataFrame. The levels in the pivot table will be stored in MultiIndex objects (hierarchical indexes) on the index and columns of the result DataFrame."
   ]
  },
  {
   "cell_type": "markdown",
   "id": "9f7b8eec",
   "metadata": {},
   "source": [
    "`pivot table`: the department and their mean ages"
   ]
  },
  {
   "cell_type": "code",
   "execution_count": 141,
   "id": "0e3cfabd",
   "metadata": {},
   "outputs": [
    {
     "data": {
      "text/html": [
       "<div>\n",
       "<style scoped>\n",
       "    .dataframe tbody tr th:only-of-type {\n",
       "        vertical-align: middle;\n",
       "    }\n",
       "\n",
       "    .dataframe tbody tr th {\n",
       "        vertical-align: top;\n",
       "    }\n",
       "\n",
       "    .dataframe thead th {\n",
       "        text-align: right;\n",
       "    }\n",
       "</style>\n",
       "<table border=\"1\" class=\"dataframe\">\n",
       "  <thead>\n",
       "    <tr style=\"text-align: right;\">\n",
       "      <th></th>\n",
       "      <th>Age</th>\n",
       "      <th>Attrition</th>\n",
       "      <th>BusinessTravel</th>\n",
       "      <th>DailyRate</th>\n",
       "      <th>Department</th>\n",
       "      <th>DistanceFromHome</th>\n",
       "      <th>Education</th>\n",
       "      <th>EducationField</th>\n",
       "      <th>EmployeeCount</th>\n",
       "      <th>EmployeeNumber</th>\n",
       "      <th>...</th>\n",
       "      <th>RelationshipSatisfaction</th>\n",
       "      <th>StandardHours</th>\n",
       "      <th>StockOptionLevel</th>\n",
       "      <th>TotalWorkingYears</th>\n",
       "      <th>TrainingTimesLastYear</th>\n",
       "      <th>WorkLifeBalance</th>\n",
       "      <th>YearsAtCompany</th>\n",
       "      <th>YearsInCurrentRole</th>\n",
       "      <th>YearsSinceLastPromotion</th>\n",
       "      <th>YearsWithCurrManager</th>\n",
       "    </tr>\n",
       "  </thead>\n",
       "  <tbody>\n",
       "    <tr>\n",
       "      <th>254</th>\n",
       "      <td>29</td>\n",
       "      <td>No</td>\n",
       "      <td>Travel_Rarely</td>\n",
       "      <td>1247</td>\n",
       "      <td>Sales</td>\n",
       "      <td>20</td>\n",
       "      <td>2</td>\n",
       "      <td>Marketing</td>\n",
       "      <td>1</td>\n",
       "      <td>349</td>\n",
       "      <td>...</td>\n",
       "      <td>4</td>\n",
       "      <td>80</td>\n",
       "      <td>1</td>\n",
       "      <td>10</td>\n",
       "      <td>2</td>\n",
       "      <td>3</td>\n",
       "      <td>3</td>\n",
       "      <td>2</td>\n",
       "      <td>0</td>\n",
       "      <td>2</td>\n",
       "    </tr>\n",
       "  </tbody>\n",
       "</table>\n",
       "<p>1 rows × 35 columns</p>\n",
       "</div>"
      ],
      "text/plain": [
       "     Age Attrition BusinessTravel  DailyRate Department  DistanceFromHome  \\\n",
       "254   29        No  Travel_Rarely       1247      Sales                20   \n",
       "\n",
       "     Education EducationField  EmployeeCount  EmployeeNumber  ...  \\\n",
       "254          2      Marketing              1             349  ...   \n",
       "\n",
       "     RelationshipSatisfaction StandardHours  StockOptionLevel  \\\n",
       "254                         4            80                 1   \n",
       "\n",
       "     TotalWorkingYears  TrainingTimesLastYear WorkLifeBalance  YearsAtCompany  \\\n",
       "254                 10                      2               3               3   \n",
       "\n",
       "    YearsInCurrentRole  YearsSinceLastPromotion  YearsWithCurrManager  \n",
       "254                  2                        0                     2  \n",
       "\n",
       "[1 rows x 35 columns]"
      ]
     },
     "execution_count": 141,
     "metadata": {},
     "output_type": "execute_result"
    }
   ],
   "source": [
    "df.sample()"
   ]
  },
  {
   "cell_type": "code",
   "execution_count": 143,
   "id": "1d8f01d9",
   "metadata": {},
   "outputs": [
    {
     "data": {
      "text/html": [
       "<div>\n",
       "<style scoped>\n",
       "    .dataframe tbody tr th:only-of-type {\n",
       "        vertical-align: middle;\n",
       "    }\n",
       "\n",
       "    .dataframe tbody tr th {\n",
       "        vertical-align: top;\n",
       "    }\n",
       "\n",
       "    .dataframe thead th {\n",
       "        text-align: right;\n",
       "    }\n",
       "</style>\n",
       "<table border=\"1\" class=\"dataframe\">\n",
       "  <thead>\n",
       "    <tr style=\"text-align: right;\">\n",
       "      <th></th>\n",
       "      <th>Age</th>\n",
       "    </tr>\n",
       "    <tr>\n",
       "      <th>Department</th>\n",
       "      <th></th>\n",
       "    </tr>\n",
       "  </thead>\n",
       "  <tbody>\n",
       "    <tr>\n",
       "      <th>Human Resources</th>\n",
       "      <td>37.809524</td>\n",
       "    </tr>\n",
       "    <tr>\n",
       "      <th>Research &amp; Development</th>\n",
       "      <td>37.042664</td>\n",
       "    </tr>\n",
       "    <tr>\n",
       "      <th>Sales</th>\n",
       "      <td>36.542601</td>\n",
       "    </tr>\n",
       "  </tbody>\n",
       "</table>\n",
       "</div>"
      ],
      "text/plain": [
       "                              Age\n",
       "Department                       \n",
       "Human Resources         37.809524\n",
       "Research & Development  37.042664\n",
       "Sales                   36.542601"
      ]
     },
     "execution_count": 143,
     "metadata": {},
     "output_type": "execute_result"
    }
   ],
   "source": [
    "df.pivot_table(values = \"Age\",\n",
    "                index = \"Department\",\n",
    "                aggfunc = \"mean\")"
   ]
  },
  {
   "cell_type": "markdown",
   "id": "2f4e6d7f",
   "metadata": {},
   "source": [
    "`pivot table`: the department and their max ages"
   ]
  },
  {
   "cell_type": "code",
   "execution_count": 144,
   "id": "66accc9a",
   "metadata": {},
   "outputs": [
    {
     "data": {
      "text/html": [
       "<div>\n",
       "<style scoped>\n",
       "    .dataframe tbody tr th:only-of-type {\n",
       "        vertical-align: middle;\n",
       "    }\n",
       "\n",
       "    .dataframe tbody tr th {\n",
       "        vertical-align: top;\n",
       "    }\n",
       "\n",
       "    .dataframe thead th {\n",
       "        text-align: right;\n",
       "    }\n",
       "</style>\n",
       "<table border=\"1\" class=\"dataframe\">\n",
       "  <thead>\n",
       "    <tr style=\"text-align: right;\">\n",
       "      <th></th>\n",
       "      <th>Age</th>\n",
       "    </tr>\n",
       "    <tr>\n",
       "      <th>Department</th>\n",
       "      <th></th>\n",
       "    </tr>\n",
       "  </thead>\n",
       "  <tbody>\n",
       "    <tr>\n",
       "      <th>Human Resources</th>\n",
       "      <td>59</td>\n",
       "    </tr>\n",
       "    <tr>\n",
       "      <th>Research &amp; Development</th>\n",
       "      <td>60</td>\n",
       "    </tr>\n",
       "    <tr>\n",
       "      <th>Sales</th>\n",
       "      <td>60</td>\n",
       "    </tr>\n",
       "  </tbody>\n",
       "</table>\n",
       "</div>"
      ],
      "text/plain": [
       "                        Age\n",
       "Department                 \n",
       "Human Resources          59\n",
       "Research & Development   60\n",
       "Sales                    60"
      ]
     },
     "execution_count": 144,
     "metadata": {},
     "output_type": "execute_result"
    }
   ],
   "source": [
    "df.pivot_table(values = \"Age\",\n",
    "                index = \"Department\",\n",
    "                aggfunc = \"max\")"
   ]
  },
  {
   "cell_type": "markdown",
   "id": "23fdbbe2",
   "metadata": {},
   "source": [
    "`pivot table`: the department and their min ages"
   ]
  },
  {
   "cell_type": "code",
   "execution_count": 145,
   "id": "cbf6e0b8",
   "metadata": {},
   "outputs": [
    {
     "data": {
      "text/html": [
       "<div>\n",
       "<style scoped>\n",
       "    .dataframe tbody tr th:only-of-type {\n",
       "        vertical-align: middle;\n",
       "    }\n",
       "\n",
       "    .dataframe tbody tr th {\n",
       "        vertical-align: top;\n",
       "    }\n",
       "\n",
       "    .dataframe thead th {\n",
       "        text-align: right;\n",
       "    }\n",
       "</style>\n",
       "<table border=\"1\" class=\"dataframe\">\n",
       "  <thead>\n",
       "    <tr style=\"text-align: right;\">\n",
       "      <th></th>\n",
       "      <th>Age</th>\n",
       "    </tr>\n",
       "    <tr>\n",
       "      <th>Department</th>\n",
       "      <th></th>\n",
       "    </tr>\n",
       "  </thead>\n",
       "  <tbody>\n",
       "    <tr>\n",
       "      <th>Human Resources</th>\n",
       "      <td>19</td>\n",
       "    </tr>\n",
       "    <tr>\n",
       "      <th>Research &amp; Development</th>\n",
       "      <td>18</td>\n",
       "    </tr>\n",
       "    <tr>\n",
       "      <th>Sales</th>\n",
       "      <td>18</td>\n",
       "    </tr>\n",
       "  </tbody>\n",
       "</table>\n",
       "</div>"
      ],
      "text/plain": [
       "                        Age\n",
       "Department                 \n",
       "Human Resources          19\n",
       "Research & Development   18\n",
       "Sales                    18"
      ]
     },
     "execution_count": 145,
     "metadata": {},
     "output_type": "execute_result"
    }
   ],
   "source": [
    "df.pivot_table(values = \"Age\",\n",
    "                index = \"Department\",\n",
    "                aggfunc = \"min\")"
   ]
  },
  {
   "cell_type": "markdown",
   "id": "4b08ccf2",
   "metadata": {},
   "source": [
    "`pivot table`: the department and their median age"
   ]
  },
  {
   "cell_type": "code",
   "execution_count": 146,
   "id": "aa8f6c04",
   "metadata": {},
   "outputs": [
    {
     "data": {
      "text/html": [
       "<div>\n",
       "<style scoped>\n",
       "    .dataframe tbody tr th:only-of-type {\n",
       "        vertical-align: middle;\n",
       "    }\n",
       "\n",
       "    .dataframe tbody tr th {\n",
       "        vertical-align: top;\n",
       "    }\n",
       "\n",
       "    .dataframe thead th {\n",
       "        text-align: right;\n",
       "    }\n",
       "</style>\n",
       "<table border=\"1\" class=\"dataframe\">\n",
       "  <thead>\n",
       "    <tr style=\"text-align: right;\">\n",
       "      <th></th>\n",
       "      <th>Age</th>\n",
       "    </tr>\n",
       "    <tr>\n",
       "      <th>Department</th>\n",
       "      <th></th>\n",
       "    </tr>\n",
       "  </thead>\n",
       "  <tbody>\n",
       "    <tr>\n",
       "      <th>Human Resources</th>\n",
       "      <td>37</td>\n",
       "    </tr>\n",
       "    <tr>\n",
       "      <th>Research &amp; Development</th>\n",
       "      <td>36</td>\n",
       "    </tr>\n",
       "    <tr>\n",
       "      <th>Sales</th>\n",
       "      <td>35</td>\n",
       "    </tr>\n",
       "  </tbody>\n",
       "</table>\n",
       "</div>"
      ],
      "text/plain": [
       "                        Age\n",
       "Department                 \n",
       "Human Resources          37\n",
       "Research & Development   36\n",
       "Sales                    35"
      ]
     },
     "execution_count": 146,
     "metadata": {},
     "output_type": "execute_result"
    }
   ],
   "source": [
    "df.pivot_table(values = \"Age\",\n",
    "                index = \"Department\",\n",
    "                aggfunc = \"median\")"
   ]
  },
  {
   "cell_type": "markdown",
   "id": "d6e9e0c6",
   "metadata": {},
   "source": [
    "`multi-index pivot table`: Department and Education Field and check the maximum salary values of employees\n"
   ]
  },
  {
   "cell_type": "code",
   "execution_count": 149,
   "id": "d6817500",
   "metadata": {},
   "outputs": [
    {
     "data": {
      "text/html": [
       "<div>\n",
       "<style scoped>\n",
       "    .dataframe tbody tr th:only-of-type {\n",
       "        vertical-align: middle;\n",
       "    }\n",
       "\n",
       "    .dataframe tbody tr th {\n",
       "        vertical-align: top;\n",
       "    }\n",
       "\n",
       "    .dataframe thead th {\n",
       "        text-align: right;\n",
       "    }\n",
       "</style>\n",
       "<table border=\"1\" class=\"dataframe\">\n",
       "  <thead>\n",
       "    <tr style=\"text-align: right;\">\n",
       "      <th></th>\n",
       "      <th></th>\n",
       "      <th>Age</th>\n",
       "    </tr>\n",
       "    <tr>\n",
       "      <th>Department</th>\n",
       "      <th>EducationField</th>\n",
       "      <th></th>\n",
       "    </tr>\n",
       "  </thead>\n",
       "  <tbody>\n",
       "    <tr>\n",
       "      <th rowspan=\"5\" valign=\"top\">Human Resources</th>\n",
       "      <th>Human Resources</th>\n",
       "      <td>37.037037</td>\n",
       "    </tr>\n",
       "    <tr>\n",
       "      <th>Life Sciences</th>\n",
       "      <td>39.375000</td>\n",
       "    </tr>\n",
       "    <tr>\n",
       "      <th>Medical</th>\n",
       "      <td>39.846154</td>\n",
       "    </tr>\n",
       "    <tr>\n",
       "      <th>Other</th>\n",
       "      <td>34.666667</td>\n",
       "    </tr>\n",
       "    <tr>\n",
       "      <th>Technical Degree</th>\n",
       "      <td>32.500000</td>\n",
       "    </tr>\n",
       "    <tr>\n",
       "      <th rowspan=\"4\" valign=\"top\">Research &amp; Development</th>\n",
       "      <th>Life Sciences</th>\n",
       "      <td>36.997727</td>\n",
       "    </tr>\n",
       "    <tr>\n",
       "      <th>Medical</th>\n",
       "      <td>37.242424</td>\n",
       "    </tr>\n",
       "    <tr>\n",
       "      <th>Other</th>\n",
       "      <td>36.187500</td>\n",
       "    </tr>\n",
       "    <tr>\n",
       "      <th>Technical Degree</th>\n",
       "      <td>37.063830</td>\n",
       "    </tr>\n",
       "    <tr>\n",
       "      <th rowspan=\"5\" valign=\"top\">Sales</th>\n",
       "      <th>Life Sciences</th>\n",
       "      <td>37.186667</td>\n",
       "    </tr>\n",
       "    <tr>\n",
       "      <th>Marketing</th>\n",
       "      <td>37.924528</td>\n",
       "    </tr>\n",
       "    <tr>\n",
       "      <th>Medical</th>\n",
       "      <td>34.727273</td>\n",
       "    </tr>\n",
       "    <tr>\n",
       "      <th>Other</th>\n",
       "      <td>32.000000</td>\n",
       "    </tr>\n",
       "    <tr>\n",
       "      <th>Technical Degree</th>\n",
       "      <td>33.941176</td>\n",
       "    </tr>\n",
       "  </tbody>\n",
       "</table>\n",
       "</div>"
      ],
      "text/plain": [
       "                                               Age\n",
       "Department             EducationField             \n",
       "Human Resources        Human Resources   37.037037\n",
       "                       Life Sciences     39.375000\n",
       "                       Medical           39.846154\n",
       "                       Other             34.666667\n",
       "                       Technical Degree  32.500000\n",
       "Research & Development Life Sciences     36.997727\n",
       "                       Medical           37.242424\n",
       "                       Other             36.187500\n",
       "                       Technical Degree  37.063830\n",
       "Sales                  Life Sciences     37.186667\n",
       "                       Marketing         37.924528\n",
       "                       Medical           34.727273\n",
       "                       Other             32.000000\n",
       "                       Technical Degree  33.941176"
      ]
     },
     "execution_count": 149,
     "metadata": {},
     "output_type": "execute_result"
    }
   ],
   "source": [
    "df.pivot_table(values = \"Age\",\n",
    "                index = [\"Department\", \"EducationField\"],\n",
    "                aggfunc = \"mean\")"
   ]
  },
  {
   "cell_type": "markdown",
   "id": "86f96d76",
   "metadata": {},
   "source": [
    "### Differences between pivot table and groupby function"
   ]
  },
  {
   "cell_type": "code",
   "execution_count": null,
   "id": "70db1f16",
   "metadata": {},
   "outputs": [],
   "source": []
  },
  {
   "cell_type": "markdown",
   "id": "6c4911c5",
   "metadata": {},
   "source": [
    "`groupby`: team mean age by team abbreviation & season."
   ]
  },
  {
   "cell_type": "code",
   "execution_count": null,
   "id": "2b545d9d",
   "metadata": {},
   "outputs": [],
   "source": []
  },
  {
   "cell_type": "markdown",
   "id": "4176d163",
   "metadata": {},
   "source": [
    "`pivot_table`: team mean age by team abbreviation & season."
   ]
  },
  {
   "cell_type": "code",
   "execution_count": null,
   "id": "58a42f7d",
   "metadata": {},
   "outputs": [],
   "source": []
  },
  {
   "cell_type": "markdown",
   "id": "9b715869",
   "metadata": {},
   "source": [
    "### crosstab"
   ]
  },
  {
   "cell_type": "markdown",
   "id": "cd2a7925",
   "metadata": {},
   "source": [
    "* Compute a simple cross tabulation of two (or more) factors. By default computes a frequency table of the factors unless an array of values and an aggregation function are passed. Usually used to see the frequency of two qualitative variables: how many times the value of one column happens in the other one"
   ]
  },
  {
   "cell_type": "markdown",
   "id": "1c5afb57",
   "metadata": {},
   "source": [
    "```pd.crosstab(df[column1], df[column2])```"
   ]
  },
  {
   "cell_type": "code",
   "execution_count": 150,
   "id": "7544e490",
   "metadata": {},
   "outputs": [
    {
     "data": {
      "text/html": [
       "<div>\n",
       "<style scoped>\n",
       "    .dataframe tbody tr th:only-of-type {\n",
       "        vertical-align: middle;\n",
       "    }\n",
       "\n",
       "    .dataframe tbody tr th {\n",
       "        vertical-align: top;\n",
       "    }\n",
       "\n",
       "    .dataframe thead th {\n",
       "        text-align: right;\n",
       "    }\n",
       "</style>\n",
       "<table border=\"1\" class=\"dataframe\">\n",
       "  <thead>\n",
       "    <tr style=\"text-align: right;\">\n",
       "      <th></th>\n",
       "      <th>Age</th>\n",
       "      <th>Attrition</th>\n",
       "      <th>BusinessTravel</th>\n",
       "      <th>DailyRate</th>\n",
       "      <th>Department</th>\n",
       "      <th>DistanceFromHome</th>\n",
       "      <th>Education</th>\n",
       "      <th>EducationField</th>\n",
       "      <th>EmployeeCount</th>\n",
       "      <th>EmployeeNumber</th>\n",
       "      <th>...</th>\n",
       "      <th>RelationshipSatisfaction</th>\n",
       "      <th>StandardHours</th>\n",
       "      <th>StockOptionLevel</th>\n",
       "      <th>TotalWorkingYears</th>\n",
       "      <th>TrainingTimesLastYear</th>\n",
       "      <th>WorkLifeBalance</th>\n",
       "      <th>YearsAtCompany</th>\n",
       "      <th>YearsInCurrentRole</th>\n",
       "      <th>YearsSinceLastPromotion</th>\n",
       "      <th>YearsWithCurrManager</th>\n",
       "    </tr>\n",
       "  </thead>\n",
       "  <tbody>\n",
       "    <tr>\n",
       "      <th>1262</th>\n",
       "      <td>43</td>\n",
       "      <td>Yes</td>\n",
       "      <td>Travel_Frequently</td>\n",
       "      <td>807</td>\n",
       "      <td>Research &amp; Development</td>\n",
       "      <td>17</td>\n",
       "      <td>3</td>\n",
       "      <td>Technical Degree</td>\n",
       "      <td>1</td>\n",
       "      <td>1767</td>\n",
       "      <td>...</td>\n",
       "      <td>4</td>\n",
       "      <td>80</td>\n",
       "      <td>1</td>\n",
       "      <td>6</td>\n",
       "      <td>4</td>\n",
       "      <td>3</td>\n",
       "      <td>1</td>\n",
       "      <td>0</td>\n",
       "      <td>0</td>\n",
       "      <td>0</td>\n",
       "    </tr>\n",
       "  </tbody>\n",
       "</table>\n",
       "<p>1 rows × 35 columns</p>\n",
       "</div>"
      ],
      "text/plain": [
       "      Age Attrition     BusinessTravel  DailyRate              Department  \\\n",
       "1262   43       Yes  Travel_Frequently        807  Research & Development   \n",
       "\n",
       "      DistanceFromHome  Education    EducationField  EmployeeCount  \\\n",
       "1262                17          3  Technical Degree              1   \n",
       "\n",
       "      EmployeeNumber  ...  RelationshipSatisfaction StandardHours  \\\n",
       "1262            1767  ...                         4            80   \n",
       "\n",
       "      StockOptionLevel  TotalWorkingYears  TrainingTimesLastYear  \\\n",
       "1262                 1                  6                      4   \n",
       "\n",
       "     WorkLifeBalance  YearsAtCompany YearsInCurrentRole  \\\n",
       "1262               3               1                  0   \n",
       "\n",
       "      YearsSinceLastPromotion  YearsWithCurrManager  \n",
       "1262                        0                     0  \n",
       "\n",
       "[1 rows x 35 columns]"
      ]
     },
     "execution_count": 150,
     "metadata": {},
     "output_type": "execute_result"
    }
   ],
   "source": [
    "df.sample()"
   ]
  },
  {
   "cell_type": "code",
   "execution_count": 156,
   "id": "655e487f",
   "metadata": {},
   "outputs": [
    {
     "data": {
      "text/html": [
       "<div>\n",
       "<style scoped>\n",
       "    .dataframe tbody tr th:only-of-type {\n",
       "        vertical-align: middle;\n",
       "    }\n",
       "\n",
       "    .dataframe tbody tr th {\n",
       "        vertical-align: top;\n",
       "    }\n",
       "\n",
       "    .dataframe thead th {\n",
       "        text-align: right;\n",
       "    }\n",
       "</style>\n",
       "<table border=\"1\" class=\"dataframe\">\n",
       "  <thead>\n",
       "    <tr style=\"text-align: right;\">\n",
       "      <th>Department</th>\n",
       "      <th>Human Resources</th>\n",
       "      <th>Research &amp; Development</th>\n",
       "      <th>Sales</th>\n",
       "    </tr>\n",
       "    <tr>\n",
       "      <th>BusinessTravel</th>\n",
       "      <th></th>\n",
       "      <th></th>\n",
       "      <th></th>\n",
       "    </tr>\n",
       "  </thead>\n",
       "  <tbody>\n",
       "    <tr>\n",
       "      <th>Non-Travel</th>\n",
       "      <td>6</td>\n",
       "      <td>97</td>\n",
       "      <td>47</td>\n",
       "    </tr>\n",
       "    <tr>\n",
       "      <th>Travel_Frequently</th>\n",
       "      <td>11</td>\n",
       "      <td>182</td>\n",
       "      <td>84</td>\n",
       "    </tr>\n",
       "    <tr>\n",
       "      <th>Travel_Rarely</th>\n",
       "      <td>46</td>\n",
       "      <td>682</td>\n",
       "      <td>315</td>\n",
       "    </tr>\n",
       "  </tbody>\n",
       "</table>\n",
       "</div>"
      ],
      "text/plain": [
       "Department         Human Resources  Research & Development  Sales\n",
       "BusinessTravel                                                   \n",
       "Non-Travel                       6                      97     47\n",
       "Travel_Frequently               11                     182     84\n",
       "Travel_Rarely                   46                     682    315"
      ]
     },
     "execution_count": 156,
     "metadata": {},
     "output_type": "execute_result"
    }
   ],
   "source": [
    "pd.crosstab(df[\"BusinessTravel\"], df[\"Department\"]) # count"
   ]
  },
  {
   "cell_type": "code",
   "execution_count": 155,
   "id": "2fefe398",
   "metadata": {},
   "outputs": [
    {
     "data": {
      "text/html": [
       "<div>\n",
       "<style scoped>\n",
       "    .dataframe tbody tr th:only-of-type {\n",
       "        vertical-align: middle;\n",
       "    }\n",
       "\n",
       "    .dataframe tbody tr th {\n",
       "        vertical-align: top;\n",
       "    }\n",
       "\n",
       "    .dataframe thead th {\n",
       "        text-align: right;\n",
       "    }\n",
       "</style>\n",
       "<table border=\"1\" class=\"dataframe\">\n",
       "  <thead>\n",
       "    <tr style=\"text-align: right;\">\n",
       "      <th>Department</th>\n",
       "      <th>Human Resources</th>\n",
       "      <th>Research &amp; Development</th>\n",
       "      <th>Sales</th>\n",
       "    </tr>\n",
       "    <tr>\n",
       "      <th>BusinessTravel</th>\n",
       "      <th></th>\n",
       "      <th></th>\n",
       "      <th></th>\n",
       "    </tr>\n",
       "  </thead>\n",
       "  <tbody>\n",
       "    <tr>\n",
       "      <th>Non-Travel</th>\n",
       "      <td>651.500000</td>\n",
       "      <td>822.587629</td>\n",
       "      <td>826.468085</td>\n",
       "    </tr>\n",
       "    <tr>\n",
       "      <th>Travel_Frequently</th>\n",
       "      <td>935.363636</td>\n",
       "      <td>779.181319</td>\n",
       "      <td>803.071429</td>\n",
       "    </tr>\n",
       "    <tr>\n",
       "      <th>Travel_Rarely</th>\n",
       "      <td>720.630435</td>\n",
       "      <td>811.997067</td>\n",
       "      <td>795.622222</td>\n",
       "    </tr>\n",
       "  </tbody>\n",
       "</table>\n",
       "</div>"
      ],
      "text/plain": [
       "Department         Human Resources  Research & Development       Sales\n",
       "BusinessTravel                                                        \n",
       "Non-Travel              651.500000              822.587629  826.468085\n",
       "Travel_Frequently       935.363636              779.181319  803.071429\n",
       "Travel_Rarely           720.630435              811.997067  795.622222"
      ]
     },
     "execution_count": 155,
     "metadata": {},
     "output_type": "execute_result"
    }
   ],
   "source": [
    "pd.crosstab(df[\"BusinessTravel\"], df[\"Department\"], df[\"DailyRate\"], aggfunc=\"mean\")"
   ]
  },
  {
   "cell_type": "code",
   "execution_count": 159,
   "id": "8bd8bbbf",
   "metadata": {},
   "outputs": [
    {
     "data": {
      "text/html": [
       "<div>\n",
       "<style scoped>\n",
       "    .dataframe tbody tr th:only-of-type {\n",
       "        vertical-align: middle;\n",
       "    }\n",
       "\n",
       "    .dataframe tbody tr th {\n",
       "        vertical-align: top;\n",
       "    }\n",
       "\n",
       "    .dataframe thead tr th {\n",
       "        text-align: left;\n",
       "    }\n",
       "\n",
       "    .dataframe thead tr:last-of-type th {\n",
       "        text-align: right;\n",
       "    }\n",
       "</style>\n",
       "<table border=\"1\" class=\"dataframe\">\n",
       "  <thead>\n",
       "    <tr>\n",
       "      <th>Department</th>\n",
       "      <th colspan=\"2\" halign=\"left\">Human Resources</th>\n",
       "      <th colspan=\"2\" halign=\"left\">Research &amp; Development</th>\n",
       "      <th colspan=\"2\" halign=\"left\">Sales</th>\n",
       "    </tr>\n",
       "    <tr>\n",
       "      <th>Attrition</th>\n",
       "      <th>No</th>\n",
       "      <th>Yes</th>\n",
       "      <th>No</th>\n",
       "      <th>Yes</th>\n",
       "      <th>No</th>\n",
       "      <th>Yes</th>\n",
       "    </tr>\n",
       "    <tr>\n",
       "      <th>BusinessTravel</th>\n",
       "      <th></th>\n",
       "      <th></th>\n",
       "      <th></th>\n",
       "      <th></th>\n",
       "      <th></th>\n",
       "      <th></th>\n",
       "    </tr>\n",
       "  </thead>\n",
       "  <tbody>\n",
       "    <tr>\n",
       "      <th>Non-Travel</th>\n",
       "      <td>651.500000</td>\n",
       "      <td>NaN</td>\n",
       "      <td>833.797753</td>\n",
       "      <td>697.875000</td>\n",
       "      <td>796.837209</td>\n",
       "      <td>1145.000000</td>\n",
       "    </tr>\n",
       "    <tr>\n",
       "      <th>Travel_Frequently</th>\n",
       "      <td>991.142857</td>\n",
       "      <td>837.75</td>\n",
       "      <td>801.324138</td>\n",
       "      <td>692.405405</td>\n",
       "      <td>861.321429</td>\n",
       "      <td>686.571429</td>\n",
       "    </tr>\n",
       "    <tr>\n",
       "      <th>Travel_Rarely</th>\n",
       "      <td>723.710526</td>\n",
       "      <td>706.00</td>\n",
       "      <td>815.873737</td>\n",
       "      <td>785.829545</td>\n",
       "      <td>807.619608</td>\n",
       "      <td>744.633333</td>\n",
       "    </tr>\n",
       "  </tbody>\n",
       "</table>\n",
       "</div>"
      ],
      "text/plain": [
       "Department        Human Resources         Research & Development              \\\n",
       "Attrition                      No     Yes                     No         Yes   \n",
       "BusinessTravel                                                                 \n",
       "Non-Travel             651.500000     NaN             833.797753  697.875000   \n",
       "Travel_Frequently      991.142857  837.75             801.324138  692.405405   \n",
       "Travel_Rarely          723.710526  706.00             815.873737  785.829545   \n",
       "\n",
       "Department              Sales               \n",
       "Attrition                  No          Yes  \n",
       "BusinessTravel                              \n",
       "Non-Travel         796.837209  1145.000000  \n",
       "Travel_Frequently  861.321429   686.571429  \n",
       "Travel_Rarely      807.619608   744.633333  "
      ]
     },
     "execution_count": 159,
     "metadata": {},
     "output_type": "execute_result"
    }
   ],
   "source": [
    "pd.crosstab(df[\"BusinessTravel\"], [df[\"Department\"], df[\"Attrition\"]], df[\"DailyRate\"], aggfunc=\"mean\")"
   ]
  },
  {
   "cell_type": "code",
   "execution_count": 161,
   "id": "c6d7161a",
   "metadata": {},
   "outputs": [
    {
     "data": {
      "text/html": [
       "<div>\n",
       "<style scoped>\n",
       "    .dataframe tbody tr th:only-of-type {\n",
       "        vertical-align: middle;\n",
       "    }\n",
       "\n",
       "    .dataframe tbody tr th {\n",
       "        vertical-align: top;\n",
       "    }\n",
       "\n",
       "    .dataframe thead th {\n",
       "        text-align: right;\n",
       "    }\n",
       "</style>\n",
       "<table border=\"1\" class=\"dataframe\">\n",
       "  <thead>\n",
       "    <tr style=\"text-align: right;\">\n",
       "      <th></th>\n",
       "      <th>Department</th>\n",
       "      <th>Human Resources</th>\n",
       "      <th>Research &amp; Development</th>\n",
       "      <th>Sales</th>\n",
       "    </tr>\n",
       "    <tr>\n",
       "      <th>BusinessTravel</th>\n",
       "      <th>Attrition</th>\n",
       "      <th></th>\n",
       "      <th></th>\n",
       "      <th></th>\n",
       "    </tr>\n",
       "  </thead>\n",
       "  <tbody>\n",
       "    <tr>\n",
       "      <th rowspan=\"2\" valign=\"top\">Non-Travel</th>\n",
       "      <th>No</th>\n",
       "      <td>651.500000</td>\n",
       "      <td>833.797753</td>\n",
       "      <td>796.837209</td>\n",
       "    </tr>\n",
       "    <tr>\n",
       "      <th>Yes</th>\n",
       "      <td>NaN</td>\n",
       "      <td>697.875000</td>\n",
       "      <td>1145.000000</td>\n",
       "    </tr>\n",
       "    <tr>\n",
       "      <th rowspan=\"2\" valign=\"top\">Travel_Frequently</th>\n",
       "      <th>No</th>\n",
       "      <td>991.142857</td>\n",
       "      <td>801.324138</td>\n",
       "      <td>861.321429</td>\n",
       "    </tr>\n",
       "    <tr>\n",
       "      <th>Yes</th>\n",
       "      <td>837.750000</td>\n",
       "      <td>692.405405</td>\n",
       "      <td>686.571429</td>\n",
       "    </tr>\n",
       "    <tr>\n",
       "      <th rowspan=\"2\" valign=\"top\">Travel_Rarely</th>\n",
       "      <th>No</th>\n",
       "      <td>723.710526</td>\n",
       "      <td>815.873737</td>\n",
       "      <td>807.619608</td>\n",
       "    </tr>\n",
       "    <tr>\n",
       "      <th>Yes</th>\n",
       "      <td>706.000000</td>\n",
       "      <td>785.829545</td>\n",
       "      <td>744.633333</td>\n",
       "    </tr>\n",
       "  </tbody>\n",
       "</table>\n",
       "</div>"
      ],
      "text/plain": [
       "Department                   Human Resources  Research & Development  \\\n",
       "BusinessTravel    Attrition                                            \n",
       "Non-Travel        No              651.500000              833.797753   \n",
       "                  Yes                    NaN              697.875000   \n",
       "Travel_Frequently No              991.142857              801.324138   \n",
       "                  Yes             837.750000              692.405405   \n",
       "Travel_Rarely     No              723.710526              815.873737   \n",
       "                  Yes             706.000000              785.829545   \n",
       "\n",
       "Department                         Sales  \n",
       "BusinessTravel    Attrition               \n",
       "Non-Travel        No          796.837209  \n",
       "                  Yes        1145.000000  \n",
       "Travel_Frequently No          861.321429  \n",
       "                  Yes         686.571429  \n",
       "Travel_Rarely     No          807.619608  \n",
       "                  Yes         744.633333  "
      ]
     },
     "execution_count": 161,
     "metadata": {},
     "output_type": "execute_result"
    }
   ],
   "source": [
    "pd.crosstab([df[\"BusinessTravel\"], df[\"Attrition\"]], df[\"Department\"], df[\"DailyRate\"], aggfunc=\"mean\")"
   ]
  },
  {
   "cell_type": "markdown",
   "id": "f465cda9",
   "metadata": {},
   "source": [
    "------------------------------------------------------------------------------------------------------------------------------------------------------------------------------------------------------------"
   ]
  },
  {
   "cell_type": "markdown",
   "id": "978c1560",
   "metadata": {},
   "source": [
    "## Data combination: mixing dataframes"
   ]
  },
  {
   "cell_type": "markdown",
   "id": "10d3eb62",
   "metadata": {
    "lang": "en"
   },
   "source": [
    "- https://realpython.com/pandas-merge-join-and-concat/\n",
    "- https://pandas.pydata.org/pandas-docs/stable/user_guide/merging.html"
   ]
  },
  {
   "cell_type": "code",
   "execution_count": 162,
   "id": "607db7d4",
   "metadata": {},
   "outputs": [],
   "source": [
    "# Concat: put things things together side to side (up & bottom)\n",
    "# merge: \n",
    "    # commomn column, and mixing the rows based on the value of the common column\n",
    "\n",
    "# join in pandas\n",
    "    # put tables together based on the value of index"
   ]
  },
  {
   "cell_type": "markdown",
   "id": "82c60a7d",
   "metadata": {},
   "source": [
    "### Concat: two things together\n",
    "We join dataframes along axis 0 one below the other. Align columns by label."
   ]
  },
  {
   "cell_type": "code",
   "execution_count": 163,
   "id": "ac484cd6",
   "metadata": {
    "scrolled": false
   },
   "outputs": [
    {
     "data": {
      "text/html": [
       "<div>\n",
       "<style scoped>\n",
       "    .dataframe tbody tr th:only-of-type {\n",
       "        vertical-align: middle;\n",
       "    }\n",
       "\n",
       "    .dataframe tbody tr th {\n",
       "        vertical-align: top;\n",
       "    }\n",
       "\n",
       "    .dataframe thead th {\n",
       "        text-align: right;\n",
       "    }\n",
       "</style>\n",
       "<table border=\"1\" class=\"dataframe\">\n",
       "  <thead>\n",
       "    <tr style=\"text-align: right;\">\n",
       "      <th></th>\n",
       "      <th>age</th>\n",
       "      <th>gender</th>\n",
       "      <th>occupation</th>\n",
       "      <th>zip_code</th>\n",
       "    </tr>\n",
       "    <tr>\n",
       "      <th>user_id</th>\n",
       "      <th></th>\n",
       "      <th></th>\n",
       "      <th></th>\n",
       "      <th></th>\n",
       "    </tr>\n",
       "  </thead>\n",
       "  <tbody>\n",
       "    <tr>\n",
       "      <th>740</th>\n",
       "      <td>25</td>\n",
       "      <td>F</td>\n",
       "      <td>educator</td>\n",
       "      <td>22206</td>\n",
       "    </tr>\n",
       "  </tbody>\n",
       "</table>\n",
       "</div>"
      ],
      "text/plain": [
       "         age gender occupation zip_code\n",
       "user_id                                \n",
       "740       25      F   educator    22206"
      ]
     },
     "execution_count": 163,
     "metadata": {},
     "output_type": "execute_result"
    }
   ],
   "source": [
    "df = pd.read_csv('https://raw.githubusercontent.com/justmarkham/DAT8/master/data/u.user',\n",
    "                             sep='|', \n",
    "                             index_col='user_id')\n",
    "df.sample()"
   ]
  },
  {
   "cell_type": "code",
   "execution_count": 164,
   "id": "d327cc20",
   "metadata": {},
   "outputs": [
    {
     "data": {
      "text/plain": [
       "943"
      ]
     },
     "execution_count": 164,
     "metadata": {},
     "output_type": "execute_result"
    }
   ],
   "source": [
    "df.shape[0]"
   ]
  },
  {
   "cell_type": "code",
   "execution_count": 168,
   "id": "6dee323d",
   "metadata": {},
   "outputs": [],
   "source": [
    "first_df = df.sample(frac=0.1)\n",
    "second_df = df.sample(frac=0.1)"
   ]
  },
  {
   "cell_type": "code",
   "execution_count": 166,
   "id": "28d9a6c8",
   "metadata": {},
   "outputs": [
    {
     "data": {
      "text/plain": [
       "94"
      ]
     },
     "execution_count": 166,
     "metadata": {},
     "output_type": "execute_result"
    }
   ],
   "source": [
    "first_df.shape[0]"
   ]
  },
  {
   "cell_type": "code",
   "execution_count": 169,
   "id": "62256e9f",
   "metadata": {},
   "outputs": [
    {
     "data": {
      "text/plain": [
       "94"
      ]
     },
     "execution_count": 169,
     "metadata": {},
     "output_type": "execute_result"
    }
   ],
   "source": [
    "second_df.shape[0]"
   ]
  },
  {
   "cell_type": "markdown",
   "id": "0ac7695b",
   "metadata": {},
   "source": [
    "#### Concatenating on axis 0 (rows)"
   ]
  },
  {
   "cell_type": "code",
   "execution_count": 174,
   "id": "643aef33",
   "metadata": {},
   "outputs": [
    {
     "data": {
      "text/html": [
       "<div>\n",
       "<style scoped>\n",
       "    .dataframe tbody tr th:only-of-type {\n",
       "        vertical-align: middle;\n",
       "    }\n",
       "\n",
       "    .dataframe tbody tr th {\n",
       "        vertical-align: top;\n",
       "    }\n",
       "\n",
       "    .dataframe thead th {\n",
       "        text-align: right;\n",
       "    }\n",
       "</style>\n",
       "<table border=\"1\" class=\"dataframe\">\n",
       "  <thead>\n",
       "    <tr style=\"text-align: right;\">\n",
       "      <th></th>\n",
       "      <th></th>\n",
       "      <th>age</th>\n",
       "      <th>gender</th>\n",
       "      <th>occupation</th>\n",
       "      <th>zip_code</th>\n",
       "    </tr>\n",
       "    <tr>\n",
       "      <th></th>\n",
       "      <th>user_id</th>\n",
       "      <th></th>\n",
       "      <th></th>\n",
       "      <th></th>\n",
       "      <th></th>\n",
       "    </tr>\n",
       "  </thead>\n",
       "  <tbody>\n",
       "    <tr>\n",
       "      <th rowspan=\"5\" valign=\"top\">origin one</th>\n",
       "      <th>249</th>\n",
       "      <td>25</td>\n",
       "      <td>M</td>\n",
       "      <td>student</td>\n",
       "      <td>84103</td>\n",
       "    </tr>\n",
       "    <tr>\n",
       "      <th>695</th>\n",
       "      <td>26</td>\n",
       "      <td>M</td>\n",
       "      <td>writer</td>\n",
       "      <td>38115</td>\n",
       "    </tr>\n",
       "    <tr>\n",
       "      <th>528</th>\n",
       "      <td>18</td>\n",
       "      <td>M</td>\n",
       "      <td>student</td>\n",
       "      <td>55104</td>\n",
       "    </tr>\n",
       "    <tr>\n",
       "      <th>597</th>\n",
       "      <td>23</td>\n",
       "      <td>M</td>\n",
       "      <td>other</td>\n",
       "      <td>84116</td>\n",
       "    </tr>\n",
       "    <tr>\n",
       "      <th>698</th>\n",
       "      <td>28</td>\n",
       "      <td>F</td>\n",
       "      <td>programmer</td>\n",
       "      <td>06906</td>\n",
       "    </tr>\n",
       "    <tr>\n",
       "      <th>...</th>\n",
       "      <th>...</th>\n",
       "      <td>...</td>\n",
       "      <td>...</td>\n",
       "      <td>...</td>\n",
       "      <td>...</td>\n",
       "    </tr>\n",
       "    <tr>\n",
       "      <th rowspan=\"5\" valign=\"top\">origin second</th>\n",
       "      <th>426</th>\n",
       "      <td>55</td>\n",
       "      <td>M</td>\n",
       "      <td>educator</td>\n",
       "      <td>01602</td>\n",
       "    </tr>\n",
       "    <tr>\n",
       "      <th>97</th>\n",
       "      <td>43</td>\n",
       "      <td>M</td>\n",
       "      <td>artist</td>\n",
       "      <td>98006</td>\n",
       "    </tr>\n",
       "    <tr>\n",
       "      <th>518</th>\n",
       "      <td>49</td>\n",
       "      <td>F</td>\n",
       "      <td>writer</td>\n",
       "      <td>99709</td>\n",
       "    </tr>\n",
       "    <tr>\n",
       "      <th>447</th>\n",
       "      <td>30</td>\n",
       "      <td>M</td>\n",
       "      <td>administrator</td>\n",
       "      <td>55113</td>\n",
       "    </tr>\n",
       "    <tr>\n",
       "      <th>815</th>\n",
       "      <td>32</td>\n",
       "      <td>M</td>\n",
       "      <td>other</td>\n",
       "      <td>28806</td>\n",
       "    </tr>\n",
       "  </tbody>\n",
       "</table>\n",
       "<p>188 rows × 4 columns</p>\n",
       "</div>"
      ],
      "text/plain": [
       "                       age gender     occupation zip_code\n",
       "              user_id                                    \n",
       "origin one    249       25      M        student    84103\n",
       "              695       26      M         writer    38115\n",
       "              528       18      M        student    55104\n",
       "              597       23      M          other    84116\n",
       "              698       28      F     programmer    06906\n",
       "...                    ...    ...            ...      ...\n",
       "origin second 426       55      M       educator    01602\n",
       "              97        43      M         artist    98006\n",
       "              518       49      F         writer    99709\n",
       "              447       30      M  administrator    55113\n",
       "              815       32      M          other    28806\n",
       "\n",
       "[188 rows x 4 columns]"
      ]
     },
     "execution_count": 174,
     "metadata": {},
     "output_type": "execute_result"
    }
   ],
   "source": [
    "concatenated_axis_zero = pd.concat([first_df, second_df], axis=0, keys=[\"origin one\", \"origin second\"])\n",
    "concatenated_axis_zero"
   ]
  },
  {
   "cell_type": "markdown",
   "id": "7b5d00f5",
   "metadata": {},
   "source": [
    "#### Concatenating on axis 1 (columns)"
   ]
  },
  {
   "cell_type": "code",
   "execution_count": 175,
   "id": "c2184257",
   "metadata": {},
   "outputs": [
    {
     "data": {
      "text/html": [
       "<div>\n",
       "<style scoped>\n",
       "    .dataframe tbody tr th:only-of-type {\n",
       "        vertical-align: middle;\n",
       "    }\n",
       "\n",
       "    .dataframe tbody tr th {\n",
       "        vertical-align: top;\n",
       "    }\n",
       "\n",
       "    .dataframe thead tr th {\n",
       "        text-align: left;\n",
       "    }\n",
       "\n",
       "    .dataframe thead tr:last-of-type th {\n",
       "        text-align: right;\n",
       "    }\n",
       "</style>\n",
       "<table border=\"1\" class=\"dataframe\">\n",
       "  <thead>\n",
       "    <tr>\n",
       "      <th></th>\n",
       "      <th colspan=\"4\" halign=\"left\">This comes from 1st</th>\n",
       "      <th colspan=\"4\" halign=\"left\">This comes from the 2nd</th>\n",
       "    </tr>\n",
       "    <tr>\n",
       "      <th></th>\n",
       "      <th>age</th>\n",
       "      <th>gender</th>\n",
       "      <th>occupation</th>\n",
       "      <th>zip_code</th>\n",
       "      <th>age</th>\n",
       "      <th>gender</th>\n",
       "      <th>occupation</th>\n",
       "      <th>zip_code</th>\n",
       "    </tr>\n",
       "    <tr>\n",
       "      <th>user_id</th>\n",
       "      <th></th>\n",
       "      <th></th>\n",
       "      <th></th>\n",
       "      <th></th>\n",
       "      <th></th>\n",
       "      <th></th>\n",
       "      <th></th>\n",
       "      <th></th>\n",
       "    </tr>\n",
       "  </thead>\n",
       "  <tbody>\n",
       "    <tr>\n",
       "      <th>5</th>\n",
       "      <td>NaN</td>\n",
       "      <td>NaN</td>\n",
       "      <td>NaN</td>\n",
       "      <td>NaN</td>\n",
       "      <td>33.0</td>\n",
       "      <td>F</td>\n",
       "      <td>other</td>\n",
       "      <td>15213</td>\n",
       "    </tr>\n",
       "    <tr>\n",
       "      <th>8</th>\n",
       "      <td>36.0</td>\n",
       "      <td>M</td>\n",
       "      <td>administrator</td>\n",
       "      <td>05201</td>\n",
       "      <td>NaN</td>\n",
       "      <td>NaN</td>\n",
       "      <td>NaN</td>\n",
       "      <td>NaN</td>\n",
       "    </tr>\n",
       "    <tr>\n",
       "      <th>12</th>\n",
       "      <td>28.0</td>\n",
       "      <td>F</td>\n",
       "      <td>other</td>\n",
       "      <td>06405</td>\n",
       "      <td>NaN</td>\n",
       "      <td>NaN</td>\n",
       "      <td>NaN</td>\n",
       "      <td>NaN</td>\n",
       "    </tr>\n",
       "    <tr>\n",
       "      <th>19</th>\n",
       "      <td>40.0</td>\n",
       "      <td>M</td>\n",
       "      <td>librarian</td>\n",
       "      <td>02138</td>\n",
       "      <td>NaN</td>\n",
       "      <td>NaN</td>\n",
       "      <td>NaN</td>\n",
       "      <td>NaN</td>\n",
       "    </tr>\n",
       "    <tr>\n",
       "      <th>23</th>\n",
       "      <td>NaN</td>\n",
       "      <td>NaN</td>\n",
       "      <td>NaN</td>\n",
       "      <td>NaN</td>\n",
       "      <td>30.0</td>\n",
       "      <td>F</td>\n",
       "      <td>artist</td>\n",
       "      <td>48197</td>\n",
       "    </tr>\n",
       "    <tr>\n",
       "      <th>...</th>\n",
       "      <td>...</td>\n",
       "      <td>...</td>\n",
       "      <td>...</td>\n",
       "      <td>...</td>\n",
       "      <td>...</td>\n",
       "      <td>...</td>\n",
       "      <td>...</td>\n",
       "      <td>...</td>\n",
       "    </tr>\n",
       "    <tr>\n",
       "      <th>917</th>\n",
       "      <td>NaN</td>\n",
       "      <td>NaN</td>\n",
       "      <td>NaN</td>\n",
       "      <td>NaN</td>\n",
       "      <td>22.0</td>\n",
       "      <td>F</td>\n",
       "      <td>student</td>\n",
       "      <td>20006</td>\n",
       "    </tr>\n",
       "    <tr>\n",
       "      <th>920</th>\n",
       "      <td>30.0</td>\n",
       "      <td>F</td>\n",
       "      <td>artist</td>\n",
       "      <td>90008</td>\n",
       "      <td>NaN</td>\n",
       "      <td>NaN</td>\n",
       "      <td>NaN</td>\n",
       "      <td>NaN</td>\n",
       "    </tr>\n",
       "    <tr>\n",
       "      <th>921</th>\n",
       "      <td>NaN</td>\n",
       "      <td>NaN</td>\n",
       "      <td>NaN</td>\n",
       "      <td>NaN</td>\n",
       "      <td>20.0</td>\n",
       "      <td>F</td>\n",
       "      <td>student</td>\n",
       "      <td>98801</td>\n",
       "    </tr>\n",
       "    <tr>\n",
       "      <th>938</th>\n",
       "      <td>38.0</td>\n",
       "      <td>F</td>\n",
       "      <td>technician</td>\n",
       "      <td>55038</td>\n",
       "      <td>NaN</td>\n",
       "      <td>NaN</td>\n",
       "      <td>NaN</td>\n",
       "      <td>NaN</td>\n",
       "    </tr>\n",
       "    <tr>\n",
       "      <th>940</th>\n",
       "      <td>32.0</td>\n",
       "      <td>M</td>\n",
       "      <td>administrator</td>\n",
       "      <td>02215</td>\n",
       "      <td>NaN</td>\n",
       "      <td>NaN</td>\n",
       "      <td>NaN</td>\n",
       "      <td>NaN</td>\n",
       "    </tr>\n",
       "  </tbody>\n",
       "</table>\n",
       "<p>185 rows × 8 columns</p>\n",
       "</div>"
      ],
      "text/plain": [
       "        This comes from 1st                                 \\\n",
       "                        age gender     occupation zip_code   \n",
       "user_id                                                      \n",
       "5                       NaN    NaN            NaN      NaN   \n",
       "8                      36.0      M  administrator    05201   \n",
       "12                     28.0      F          other    06405   \n",
       "19                     40.0      M      librarian    02138   \n",
       "23                      NaN    NaN            NaN      NaN   \n",
       "...                     ...    ...            ...      ...   \n",
       "917                     NaN    NaN            NaN      NaN   \n",
       "920                    30.0      F         artist    90008   \n",
       "921                     NaN    NaN            NaN      NaN   \n",
       "938                    38.0      F     technician    55038   \n",
       "940                    32.0      M  administrator    02215   \n",
       "\n",
       "        This comes from the 2nd                             \n",
       "                            age gender occupation zip_code  \n",
       "user_id                                                     \n",
       "5                          33.0      F      other    15213  \n",
       "8                           NaN    NaN        NaN      NaN  \n",
       "12                          NaN    NaN        NaN      NaN  \n",
       "19                          NaN    NaN        NaN      NaN  \n",
       "23                         30.0      F     artist    48197  \n",
       "...                         ...    ...        ...      ...  \n",
       "917                        22.0      F    student    20006  \n",
       "920                         NaN    NaN        NaN      NaN  \n",
       "921                        20.0      F    student    98801  \n",
       "938                         NaN    NaN        NaN      NaN  \n",
       "940                         NaN    NaN        NaN      NaN  \n",
       "\n",
       "[185 rows x 8 columns]"
      ]
     },
     "execution_count": 175,
     "metadata": {},
     "output_type": "execute_result"
    }
   ],
   "source": [
    "concatenated_axis_one = pd.concat([first_df, second_df], axis=1, keys=[\"This comes from 1st\", \"This comes from the 2nd\"])\n",
    "concatenated_axis_one"
   ]
  },
  {
   "cell_type": "markdown",
   "id": "ccd65ff4",
   "metadata": {},
   "source": [
    "![sql joins](https://upload.wikimedia.org/wikipedia/commons/9/9d/SQL_Joins.svg)"
   ]
  },
  {
   "cell_type": "markdown",
   "id": "weekly-klein",
   "metadata": {},
   "source": [
    "### Merge: related columns"
   ]
  },
  {
   "cell_type": "markdown",
   "id": "8efd9a95",
   "metadata": {
    "lang": "en"
   },
   "source": [
    "[Merge()](https://pandas.pydata.org/docs/reference/api/pandas.DataFrame.merge.html) is most useful when you want to merge rows that share data."
   ]
  },
  {
   "cell_type": "code",
   "execution_count": 177,
   "id": "b45d2d37",
   "metadata": {},
   "outputs": [],
   "source": [
    "from IPython.display import display_html "
   ]
  },
  {
   "cell_type": "code",
   "execution_count": 179,
   "id": "94d240f4",
   "metadata": {},
   "outputs": [],
   "source": [
    "df1 = pd.DataFrame(\n",
    "    {\n",
    "        \"key1\": [\"K0\", \"K0\", \"K1\", \"K2\"],\n",
    "        \"key2\": [\"K0\", \"K1\", \"K0\", \"K1\"],\n",
    "        \"A\": [\"A0\", \"A1\", \"A2\", \"A3\"],\n",
    "        \"B\": [\"B0\", \"B1\", \"B2\", \"B3\"],\n",
    "    }\n",
    ")\n",
    "\n",
    "\n",
    "df2 = pd.DataFrame(\n",
    "    {\n",
    "        \"key1\": [\"K0\", \"K1\", \"K1\", \"K2\"],\n",
    "        \"key2\": [\"K0\", \"K0\", \"K0\", \"K0\"],\n",
    "        \"C\": [\"C0\", \"C1\", \"C2\", \"C3\"],\n",
    "        \"D\": [\"D0\", \"D1\", \"D2\", \"D3\"],\n",
    "    }\n",
    ")\n",
    "\n",
    "df3 = pd.DataFrame(\n",
    "    {\n",
    "        \"key1\": [\"K90\", \"K1\", \"K1\", \"K2\"],\n",
    "        \"key2\": [\"K0\", \"K0\", \"K5\", \"K0\"],\n",
    "        \"C\": [\"C0\", \"C1\", \"C2\", \"C3\"],\n",
    "        \"Y\": [\"D0\", \"D70\", \"D2\", \"D5\"],\n",
    "    }\n",
    ")"
   ]
  },
  {
   "cell_type": "code",
   "execution_count": 180,
   "id": "a0378289",
   "metadata": {},
   "outputs": [
    {
     "data": {
      "text/html": [
       "<style  type=\"text/css\" >\n",
       "</style><table id=\"T_e7c7ca0c_9d74_11ed_9c19_88e9fe6f0718\" style='display:inline'><caption>Left table</caption><thead>    <tr>        <th class=\"blank level0\" ></th>        <th class=\"col_heading level0 col0\" >key1</th>        <th class=\"col_heading level0 col1\" >key2</th>        <th class=\"col_heading level0 col2\" >A</th>        <th class=\"col_heading level0 col3\" >B</th>    </tr></thead><tbody>\n",
       "                <tr>\n",
       "                        <th id=\"T_e7c7ca0c_9d74_11ed_9c19_88e9fe6f0718level0_row0\" class=\"row_heading level0 row0\" >0</th>\n",
       "                        <td id=\"T_e7c7ca0c_9d74_11ed_9c19_88e9fe6f0718row0_col0\" class=\"data row0 col0\" >K0</td>\n",
       "                        <td id=\"T_e7c7ca0c_9d74_11ed_9c19_88e9fe6f0718row0_col1\" class=\"data row0 col1\" >K0</td>\n",
       "                        <td id=\"T_e7c7ca0c_9d74_11ed_9c19_88e9fe6f0718row0_col2\" class=\"data row0 col2\" >A0</td>\n",
       "                        <td id=\"T_e7c7ca0c_9d74_11ed_9c19_88e9fe6f0718row0_col3\" class=\"data row0 col3\" >B0</td>\n",
       "            </tr>\n",
       "            <tr>\n",
       "                        <th id=\"T_e7c7ca0c_9d74_11ed_9c19_88e9fe6f0718level0_row1\" class=\"row_heading level0 row1\" >1</th>\n",
       "                        <td id=\"T_e7c7ca0c_9d74_11ed_9c19_88e9fe6f0718row1_col0\" class=\"data row1 col0\" >K0</td>\n",
       "                        <td id=\"T_e7c7ca0c_9d74_11ed_9c19_88e9fe6f0718row1_col1\" class=\"data row1 col1\" >K1</td>\n",
       "                        <td id=\"T_e7c7ca0c_9d74_11ed_9c19_88e9fe6f0718row1_col2\" class=\"data row1 col2\" >A1</td>\n",
       "                        <td id=\"T_e7c7ca0c_9d74_11ed_9c19_88e9fe6f0718row1_col3\" class=\"data row1 col3\" >B1</td>\n",
       "            </tr>\n",
       "            <tr>\n",
       "                        <th id=\"T_e7c7ca0c_9d74_11ed_9c19_88e9fe6f0718level0_row2\" class=\"row_heading level0 row2\" >2</th>\n",
       "                        <td id=\"T_e7c7ca0c_9d74_11ed_9c19_88e9fe6f0718row2_col0\" class=\"data row2 col0\" >K1</td>\n",
       "                        <td id=\"T_e7c7ca0c_9d74_11ed_9c19_88e9fe6f0718row2_col1\" class=\"data row2 col1\" >K0</td>\n",
       "                        <td id=\"T_e7c7ca0c_9d74_11ed_9c19_88e9fe6f0718row2_col2\" class=\"data row2 col2\" >A2</td>\n",
       "                        <td id=\"T_e7c7ca0c_9d74_11ed_9c19_88e9fe6f0718row2_col3\" class=\"data row2 col3\" >B2</td>\n",
       "            </tr>\n",
       "            <tr>\n",
       "                        <th id=\"T_e7c7ca0c_9d74_11ed_9c19_88e9fe6f0718level0_row3\" class=\"row_heading level0 row3\" >3</th>\n",
       "                        <td id=\"T_e7c7ca0c_9d74_11ed_9c19_88e9fe6f0718row3_col0\" class=\"data row3 col0\" >K2</td>\n",
       "                        <td id=\"T_e7c7ca0c_9d74_11ed_9c19_88e9fe6f0718row3_col1\" class=\"data row3 col1\" >K1</td>\n",
       "                        <td id=\"T_e7c7ca0c_9d74_11ed_9c19_88e9fe6f0718row3_col2\" class=\"data row3 col2\" >A3</td>\n",
       "                        <td id=\"T_e7c7ca0c_9d74_11ed_9c19_88e9fe6f0718row3_col3\" class=\"data row3 col3\" >B3</td>\n",
       "            </tr>\n",
       "    </tbody></table> <style  type=\"text/css\" >\n",
       "</style><table id=\"T_e7cb1216_9d74_11ed_9c19_88e9fe6f0718\" style='display:inline'><caption>Right table</caption><thead>    <tr>        <th class=\"blank level0\" ></th>        <th class=\"col_heading level0 col0\" >key1</th>        <th class=\"col_heading level0 col1\" >key2</th>        <th class=\"col_heading level0 col2\" >C</th>        <th class=\"col_heading level0 col3\" >D</th>    </tr></thead><tbody>\n",
       "                <tr>\n",
       "                        <th id=\"T_e7cb1216_9d74_11ed_9c19_88e9fe6f0718level0_row0\" class=\"row_heading level0 row0\" >0</th>\n",
       "                        <td id=\"T_e7cb1216_9d74_11ed_9c19_88e9fe6f0718row0_col0\" class=\"data row0 col0\" >K0</td>\n",
       "                        <td id=\"T_e7cb1216_9d74_11ed_9c19_88e9fe6f0718row0_col1\" class=\"data row0 col1\" >K0</td>\n",
       "                        <td id=\"T_e7cb1216_9d74_11ed_9c19_88e9fe6f0718row0_col2\" class=\"data row0 col2\" >C0</td>\n",
       "                        <td id=\"T_e7cb1216_9d74_11ed_9c19_88e9fe6f0718row0_col3\" class=\"data row0 col3\" >D0</td>\n",
       "            </tr>\n",
       "            <tr>\n",
       "                        <th id=\"T_e7cb1216_9d74_11ed_9c19_88e9fe6f0718level0_row1\" class=\"row_heading level0 row1\" >1</th>\n",
       "                        <td id=\"T_e7cb1216_9d74_11ed_9c19_88e9fe6f0718row1_col0\" class=\"data row1 col0\" >K1</td>\n",
       "                        <td id=\"T_e7cb1216_9d74_11ed_9c19_88e9fe6f0718row1_col1\" class=\"data row1 col1\" >K0</td>\n",
       "                        <td id=\"T_e7cb1216_9d74_11ed_9c19_88e9fe6f0718row1_col2\" class=\"data row1 col2\" >C1</td>\n",
       "                        <td id=\"T_e7cb1216_9d74_11ed_9c19_88e9fe6f0718row1_col3\" class=\"data row1 col3\" >D1</td>\n",
       "            </tr>\n",
       "            <tr>\n",
       "                        <th id=\"T_e7cb1216_9d74_11ed_9c19_88e9fe6f0718level0_row2\" class=\"row_heading level0 row2\" >2</th>\n",
       "                        <td id=\"T_e7cb1216_9d74_11ed_9c19_88e9fe6f0718row2_col0\" class=\"data row2 col0\" >K1</td>\n",
       "                        <td id=\"T_e7cb1216_9d74_11ed_9c19_88e9fe6f0718row2_col1\" class=\"data row2 col1\" >K0</td>\n",
       "                        <td id=\"T_e7cb1216_9d74_11ed_9c19_88e9fe6f0718row2_col2\" class=\"data row2 col2\" >C2</td>\n",
       "                        <td id=\"T_e7cb1216_9d74_11ed_9c19_88e9fe6f0718row2_col3\" class=\"data row2 col3\" >D2</td>\n",
       "            </tr>\n",
       "            <tr>\n",
       "                        <th id=\"T_e7cb1216_9d74_11ed_9c19_88e9fe6f0718level0_row3\" class=\"row_heading level0 row3\" >3</th>\n",
       "                        <td id=\"T_e7cb1216_9d74_11ed_9c19_88e9fe6f0718row3_col0\" class=\"data row3 col0\" >K2</td>\n",
       "                        <td id=\"T_e7cb1216_9d74_11ed_9c19_88e9fe6f0718row3_col1\" class=\"data row3 col1\" >K0</td>\n",
       "                        <td id=\"T_e7cb1216_9d74_11ed_9c19_88e9fe6f0718row3_col2\" class=\"data row3 col2\" >C3</td>\n",
       "                        <td id=\"T_e7cb1216_9d74_11ed_9c19_88e9fe6f0718row3_col3\" class=\"data row3 col3\" >D3</td>\n",
       "            </tr>\n",
       "    </tbody></table>"
      ]
     },
     "metadata": {},
     "output_type": "display_data"
    }
   ],
   "source": [
    "df1_styler = df1.style.set_table_attributes(\"style='display:inline'\").set_caption('Left table')\n",
    "df2_styler = df2.style.set_table_attributes(\"style='display:inline'\").set_caption('Right table')\n",
    "display_html(df1_styler._repr_html_() + \" \" + df2_styler._repr_html_(), raw=True)"
   ]
  },
  {
   "cell_type": "code",
   "execution_count": 59,
   "id": "061cd607",
   "metadata": {},
   "outputs": [
    {
     "data": {
      "text/html": [
       "<div>\n",
       "<style scoped>\n",
       "    .dataframe tbody tr th:only-of-type {\n",
       "        vertical-align: middle;\n",
       "    }\n",
       "\n",
       "    .dataframe tbody tr th {\n",
       "        vertical-align: top;\n",
       "    }\n",
       "\n",
       "    .dataframe thead th {\n",
       "        text-align: right;\n",
       "    }\n",
       "</style>\n",
       "<table border=\"1\" class=\"dataframe\">\n",
       "  <thead>\n",
       "    <tr style=\"text-align: right;\">\n",
       "      <th></th>\n",
       "      <th>key1</th>\n",
       "      <th>key2</th>\n",
       "      <th>A</th>\n",
       "      <th>B</th>\n",
       "      <th>C</th>\n",
       "      <th>D</th>\n",
       "    </tr>\n",
       "  </thead>\n",
       "  <tbody>\n",
       "    <tr>\n",
       "      <th>0</th>\n",
       "      <td>K0</td>\n",
       "      <td>K0</td>\n",
       "      <td>A0</td>\n",
       "      <td>B0</td>\n",
       "      <td>C0</td>\n",
       "      <td>D0</td>\n",
       "    </tr>\n",
       "    <tr>\n",
       "      <th>1</th>\n",
       "      <td>K1</td>\n",
       "      <td>K0</td>\n",
       "      <td>A2</td>\n",
       "      <td>B2</td>\n",
       "      <td>C1</td>\n",
       "      <td>D1</td>\n",
       "    </tr>\n",
       "    <tr>\n",
       "      <th>2</th>\n",
       "      <td>K1</td>\n",
       "      <td>K0</td>\n",
       "      <td>A2</td>\n",
       "      <td>B2</td>\n",
       "      <td>C2</td>\n",
       "      <td>D2</td>\n",
       "    </tr>\n",
       "  </tbody>\n",
       "</table>\n",
       "</div>"
      ],
      "text/plain": [
       "  key1 key2   A   B   C   D\n",
       "0   K0   K0  A0  B0  C0  D0\n",
       "1   K1   K0  A2  B2  C1  D1\n",
       "2   K1   K0  A2  B2  C2  D2"
      ]
     },
     "execution_count": 59,
     "metadata": {},
     "output_type": "execute_result"
    }
   ],
   "source": [
    "# merge, default is inner\n",
    "\n",
    "result = pd.merge(df1, df2)\n",
    "result"
   ]
  },
  {
   "cell_type": "markdown",
   "id": "d71c38f1",
   "metadata": {},
   "source": [
    "#### LEFT Merge"
   ]
  },
  {
   "cell_type": "code",
   "execution_count": 20,
   "id": "d8de1abc",
   "metadata": {},
   "outputs": [
    {
     "data": {
      "text/html": [
       "<style  type=\"text/css\" >\n",
       "</style><table id=\"T_a90da73e_9d0e_11ed_9c19_88e9fe6f0718\" style='display:inline'><caption>Left table</caption><thead>    <tr>        <th class=\"blank level0\" ></th>        <th class=\"col_heading level0 col0\" >key1</th>        <th class=\"col_heading level0 col1\" >key2</th>        <th class=\"col_heading level0 col2\" >A</th>        <th class=\"col_heading level0 col3\" >B</th>    </tr></thead><tbody>\n",
       "                <tr>\n",
       "                        <th id=\"T_a90da73e_9d0e_11ed_9c19_88e9fe6f0718level0_row0\" class=\"row_heading level0 row0\" >0</th>\n",
       "                        <td id=\"T_a90da73e_9d0e_11ed_9c19_88e9fe6f0718row0_col0\" class=\"data row0 col0\" >K0</td>\n",
       "                        <td id=\"T_a90da73e_9d0e_11ed_9c19_88e9fe6f0718row0_col1\" class=\"data row0 col1\" >K0</td>\n",
       "                        <td id=\"T_a90da73e_9d0e_11ed_9c19_88e9fe6f0718row0_col2\" class=\"data row0 col2\" >A0</td>\n",
       "                        <td id=\"T_a90da73e_9d0e_11ed_9c19_88e9fe6f0718row0_col3\" class=\"data row0 col3\" >B0</td>\n",
       "            </tr>\n",
       "            <tr>\n",
       "                        <th id=\"T_a90da73e_9d0e_11ed_9c19_88e9fe6f0718level0_row1\" class=\"row_heading level0 row1\" >1</th>\n",
       "                        <td id=\"T_a90da73e_9d0e_11ed_9c19_88e9fe6f0718row1_col0\" class=\"data row1 col0\" >K0</td>\n",
       "                        <td id=\"T_a90da73e_9d0e_11ed_9c19_88e9fe6f0718row1_col1\" class=\"data row1 col1\" >K1</td>\n",
       "                        <td id=\"T_a90da73e_9d0e_11ed_9c19_88e9fe6f0718row1_col2\" class=\"data row1 col2\" >A1</td>\n",
       "                        <td id=\"T_a90da73e_9d0e_11ed_9c19_88e9fe6f0718row1_col3\" class=\"data row1 col3\" >B1</td>\n",
       "            </tr>\n",
       "            <tr>\n",
       "                        <th id=\"T_a90da73e_9d0e_11ed_9c19_88e9fe6f0718level0_row2\" class=\"row_heading level0 row2\" >2</th>\n",
       "                        <td id=\"T_a90da73e_9d0e_11ed_9c19_88e9fe6f0718row2_col0\" class=\"data row2 col0\" >K1</td>\n",
       "                        <td id=\"T_a90da73e_9d0e_11ed_9c19_88e9fe6f0718row2_col1\" class=\"data row2 col1\" >K0</td>\n",
       "                        <td id=\"T_a90da73e_9d0e_11ed_9c19_88e9fe6f0718row2_col2\" class=\"data row2 col2\" >A2</td>\n",
       "                        <td id=\"T_a90da73e_9d0e_11ed_9c19_88e9fe6f0718row2_col3\" class=\"data row2 col3\" >B2</td>\n",
       "            </tr>\n",
       "            <tr>\n",
       "                        <th id=\"T_a90da73e_9d0e_11ed_9c19_88e9fe6f0718level0_row3\" class=\"row_heading level0 row3\" >3</th>\n",
       "                        <td id=\"T_a90da73e_9d0e_11ed_9c19_88e9fe6f0718row3_col0\" class=\"data row3 col0\" >K2</td>\n",
       "                        <td id=\"T_a90da73e_9d0e_11ed_9c19_88e9fe6f0718row3_col1\" class=\"data row3 col1\" >K1</td>\n",
       "                        <td id=\"T_a90da73e_9d0e_11ed_9c19_88e9fe6f0718row3_col2\" class=\"data row3 col2\" >A3</td>\n",
       "                        <td id=\"T_a90da73e_9d0e_11ed_9c19_88e9fe6f0718row3_col3\" class=\"data row3 col3\" >B3</td>\n",
       "            </tr>\n",
       "    </tbody></table><style  type=\"text/css\" >\n",
       "</style><table id=\"T_a90dd858_9d0e_11ed_9c19_88e9fe6f0718\" style='display:inline'><caption>Right table</caption><thead>    <tr>        <th class=\"blank level0\" ></th>        <th class=\"col_heading level0 col0\" >key1</th>        <th class=\"col_heading level0 col1\" >key2</th>        <th class=\"col_heading level0 col2\" >C</th>        <th class=\"col_heading level0 col3\" >D</th>    </tr></thead><tbody>\n",
       "                <tr>\n",
       "                        <th id=\"T_a90dd858_9d0e_11ed_9c19_88e9fe6f0718level0_row0\" class=\"row_heading level0 row0\" >0</th>\n",
       "                        <td id=\"T_a90dd858_9d0e_11ed_9c19_88e9fe6f0718row0_col0\" class=\"data row0 col0\" >K0</td>\n",
       "                        <td id=\"T_a90dd858_9d0e_11ed_9c19_88e9fe6f0718row0_col1\" class=\"data row0 col1\" >K0</td>\n",
       "                        <td id=\"T_a90dd858_9d0e_11ed_9c19_88e9fe6f0718row0_col2\" class=\"data row0 col2\" >C0</td>\n",
       "                        <td id=\"T_a90dd858_9d0e_11ed_9c19_88e9fe6f0718row0_col3\" class=\"data row0 col3\" >D0</td>\n",
       "            </tr>\n",
       "            <tr>\n",
       "                        <th id=\"T_a90dd858_9d0e_11ed_9c19_88e9fe6f0718level0_row1\" class=\"row_heading level0 row1\" >1</th>\n",
       "                        <td id=\"T_a90dd858_9d0e_11ed_9c19_88e9fe6f0718row1_col0\" class=\"data row1 col0\" >K1</td>\n",
       "                        <td id=\"T_a90dd858_9d0e_11ed_9c19_88e9fe6f0718row1_col1\" class=\"data row1 col1\" >K0</td>\n",
       "                        <td id=\"T_a90dd858_9d0e_11ed_9c19_88e9fe6f0718row1_col2\" class=\"data row1 col2\" >C1</td>\n",
       "                        <td id=\"T_a90dd858_9d0e_11ed_9c19_88e9fe6f0718row1_col3\" class=\"data row1 col3\" >D1</td>\n",
       "            </tr>\n",
       "            <tr>\n",
       "                        <th id=\"T_a90dd858_9d0e_11ed_9c19_88e9fe6f0718level0_row2\" class=\"row_heading level0 row2\" >2</th>\n",
       "                        <td id=\"T_a90dd858_9d0e_11ed_9c19_88e9fe6f0718row2_col0\" class=\"data row2 col0\" >K1</td>\n",
       "                        <td id=\"T_a90dd858_9d0e_11ed_9c19_88e9fe6f0718row2_col1\" class=\"data row2 col1\" >K0</td>\n",
       "                        <td id=\"T_a90dd858_9d0e_11ed_9c19_88e9fe6f0718row2_col2\" class=\"data row2 col2\" >C2</td>\n",
       "                        <td id=\"T_a90dd858_9d0e_11ed_9c19_88e9fe6f0718row2_col3\" class=\"data row2 col3\" >D2</td>\n",
       "            </tr>\n",
       "            <tr>\n",
       "                        <th id=\"T_a90dd858_9d0e_11ed_9c19_88e9fe6f0718level0_row3\" class=\"row_heading level0 row3\" >3</th>\n",
       "                        <td id=\"T_a90dd858_9d0e_11ed_9c19_88e9fe6f0718row3_col0\" class=\"data row3 col0\" >K2</td>\n",
       "                        <td id=\"T_a90dd858_9d0e_11ed_9c19_88e9fe6f0718row3_col1\" class=\"data row3 col1\" >K0</td>\n",
       "                        <td id=\"T_a90dd858_9d0e_11ed_9c19_88e9fe6f0718row3_col2\" class=\"data row3 col2\" >C3</td>\n",
       "                        <td id=\"T_a90dd858_9d0e_11ed_9c19_88e9fe6f0718row3_col3\" class=\"data row3 col3\" >D3</td>\n",
       "            </tr>\n",
       "    </tbody></table>"
      ]
     },
     "metadata": {},
     "output_type": "display_data"
    }
   ],
   "source": [
    "left_merge = pd.merge(df1, df2, how=\"left\")\n",
    "\n",
    "\n",
    "df1_styler = df1.style.set_table_attributes(\"style='display:inline'\").set_caption('Left table')\n",
    "df2_styler = df2.style.set_table_attributes(\"style='display:inline'\").set_caption('Right table')\n",
    "left_merge = left_merge.style.set_table_attributes(\"style='display:inline'\").set_caption(\"left_merge\")\n",
    "\n",
    "display_html(df1_styler._repr_html_() +  \" \" + df2_styler._repr_html_(), raw=True)"
   ]
  },
  {
   "cell_type": "code",
   "execution_count": 181,
   "id": "bea632c6",
   "metadata": {},
   "outputs": [
    {
     "data": {
      "text/html": [
       "<style  type=\"text/css\" >\n",
       "</style><table id=\"T_e1150b96_9d76_11ed_9c19_88e9fe6f0718\" style='display:inline'><caption>left_merge</caption><thead>    <tr>        <th class=\"blank level0\" ></th>        <th class=\"col_heading level0 col0\" >key1</th>        <th class=\"col_heading level0 col1\" >key2</th>        <th class=\"col_heading level0 col2\" >A</th>        <th class=\"col_heading level0 col3\" >B</th>        <th class=\"col_heading level0 col4\" >C</th>        <th class=\"col_heading level0 col5\" >D</th>    </tr></thead><tbody>\n",
       "                <tr>\n",
       "                        <th id=\"T_e1150b96_9d76_11ed_9c19_88e9fe6f0718level0_row0\" class=\"row_heading level0 row0\" >0</th>\n",
       "                        <td id=\"T_e1150b96_9d76_11ed_9c19_88e9fe6f0718row0_col0\" class=\"data row0 col0\" >K0</td>\n",
       "                        <td id=\"T_e1150b96_9d76_11ed_9c19_88e9fe6f0718row0_col1\" class=\"data row0 col1\" >K0</td>\n",
       "                        <td id=\"T_e1150b96_9d76_11ed_9c19_88e9fe6f0718row0_col2\" class=\"data row0 col2\" >A0</td>\n",
       "                        <td id=\"T_e1150b96_9d76_11ed_9c19_88e9fe6f0718row0_col3\" class=\"data row0 col3\" >B0</td>\n",
       "                        <td id=\"T_e1150b96_9d76_11ed_9c19_88e9fe6f0718row0_col4\" class=\"data row0 col4\" >C0</td>\n",
       "                        <td id=\"T_e1150b96_9d76_11ed_9c19_88e9fe6f0718row0_col5\" class=\"data row0 col5\" >D0</td>\n",
       "            </tr>\n",
       "            <tr>\n",
       "                        <th id=\"T_e1150b96_9d76_11ed_9c19_88e9fe6f0718level0_row1\" class=\"row_heading level0 row1\" >1</th>\n",
       "                        <td id=\"T_e1150b96_9d76_11ed_9c19_88e9fe6f0718row1_col0\" class=\"data row1 col0\" >K0</td>\n",
       "                        <td id=\"T_e1150b96_9d76_11ed_9c19_88e9fe6f0718row1_col1\" class=\"data row1 col1\" >K1</td>\n",
       "                        <td id=\"T_e1150b96_9d76_11ed_9c19_88e9fe6f0718row1_col2\" class=\"data row1 col2\" >A1</td>\n",
       "                        <td id=\"T_e1150b96_9d76_11ed_9c19_88e9fe6f0718row1_col3\" class=\"data row1 col3\" >B1</td>\n",
       "                        <td id=\"T_e1150b96_9d76_11ed_9c19_88e9fe6f0718row1_col4\" class=\"data row1 col4\" >nan</td>\n",
       "                        <td id=\"T_e1150b96_9d76_11ed_9c19_88e9fe6f0718row1_col5\" class=\"data row1 col5\" >nan</td>\n",
       "            </tr>\n",
       "            <tr>\n",
       "                        <th id=\"T_e1150b96_9d76_11ed_9c19_88e9fe6f0718level0_row2\" class=\"row_heading level0 row2\" >2</th>\n",
       "                        <td id=\"T_e1150b96_9d76_11ed_9c19_88e9fe6f0718row2_col0\" class=\"data row2 col0\" >K1</td>\n",
       "                        <td id=\"T_e1150b96_9d76_11ed_9c19_88e9fe6f0718row2_col1\" class=\"data row2 col1\" >K0</td>\n",
       "                        <td id=\"T_e1150b96_9d76_11ed_9c19_88e9fe6f0718row2_col2\" class=\"data row2 col2\" >A2</td>\n",
       "                        <td id=\"T_e1150b96_9d76_11ed_9c19_88e9fe6f0718row2_col3\" class=\"data row2 col3\" >B2</td>\n",
       "                        <td id=\"T_e1150b96_9d76_11ed_9c19_88e9fe6f0718row2_col4\" class=\"data row2 col4\" >C1</td>\n",
       "                        <td id=\"T_e1150b96_9d76_11ed_9c19_88e9fe6f0718row2_col5\" class=\"data row2 col5\" >D1</td>\n",
       "            </tr>\n",
       "            <tr>\n",
       "                        <th id=\"T_e1150b96_9d76_11ed_9c19_88e9fe6f0718level0_row3\" class=\"row_heading level0 row3\" >3</th>\n",
       "                        <td id=\"T_e1150b96_9d76_11ed_9c19_88e9fe6f0718row3_col0\" class=\"data row3 col0\" >K1</td>\n",
       "                        <td id=\"T_e1150b96_9d76_11ed_9c19_88e9fe6f0718row3_col1\" class=\"data row3 col1\" >K0</td>\n",
       "                        <td id=\"T_e1150b96_9d76_11ed_9c19_88e9fe6f0718row3_col2\" class=\"data row3 col2\" >A2</td>\n",
       "                        <td id=\"T_e1150b96_9d76_11ed_9c19_88e9fe6f0718row3_col3\" class=\"data row3 col3\" >B2</td>\n",
       "                        <td id=\"T_e1150b96_9d76_11ed_9c19_88e9fe6f0718row3_col4\" class=\"data row3 col4\" >C2</td>\n",
       "                        <td id=\"T_e1150b96_9d76_11ed_9c19_88e9fe6f0718row3_col5\" class=\"data row3 col5\" >D2</td>\n",
       "            </tr>\n",
       "            <tr>\n",
       "                        <th id=\"T_e1150b96_9d76_11ed_9c19_88e9fe6f0718level0_row4\" class=\"row_heading level0 row4\" >4</th>\n",
       "                        <td id=\"T_e1150b96_9d76_11ed_9c19_88e9fe6f0718row4_col0\" class=\"data row4 col0\" >K2</td>\n",
       "                        <td id=\"T_e1150b96_9d76_11ed_9c19_88e9fe6f0718row4_col1\" class=\"data row4 col1\" >K1</td>\n",
       "                        <td id=\"T_e1150b96_9d76_11ed_9c19_88e9fe6f0718row4_col2\" class=\"data row4 col2\" >A3</td>\n",
       "                        <td id=\"T_e1150b96_9d76_11ed_9c19_88e9fe6f0718row4_col3\" class=\"data row4 col3\" >B3</td>\n",
       "                        <td id=\"T_e1150b96_9d76_11ed_9c19_88e9fe6f0718row4_col4\" class=\"data row4 col4\" >nan</td>\n",
       "                        <td id=\"T_e1150b96_9d76_11ed_9c19_88e9fe6f0718row4_col5\" class=\"data row4 col5\" >nan</td>\n",
       "            </tr>\n",
       "    </tbody></table>"
      ]
     },
     "metadata": {},
     "output_type": "display_data"
    }
   ],
   "source": [
    "display_html(left_merge._repr_html_(), raw=True)"
   ]
  },
  {
   "cell_type": "markdown",
   "id": "364ddbeb",
   "metadata": {},
   "source": [
    "#### RIGHT Merge"
   ]
  },
  {
   "cell_type": "code",
   "execution_count": 60,
   "id": "0ccee3bd",
   "metadata": {
    "scrolled": true
   },
   "outputs": [
    {
     "data": {
      "text/html": [
       "<style  type=\"text/css\" >\n",
       "</style><table id=\"T_709311e0_9d0f_11ed_9c19_88e9fe6f0718\" style='display:inline'><caption>Left table</caption><thead>    <tr>        <th class=\"blank level0\" ></th>        <th class=\"col_heading level0 col0\" >key1</th>        <th class=\"col_heading level0 col1\" >key2</th>        <th class=\"col_heading level0 col2\" >A</th>        <th class=\"col_heading level0 col3\" >B</th>    </tr></thead><tbody>\n",
       "                <tr>\n",
       "                        <th id=\"T_709311e0_9d0f_11ed_9c19_88e9fe6f0718level0_row0\" class=\"row_heading level0 row0\" >0</th>\n",
       "                        <td id=\"T_709311e0_9d0f_11ed_9c19_88e9fe6f0718row0_col0\" class=\"data row0 col0\" >K0</td>\n",
       "                        <td id=\"T_709311e0_9d0f_11ed_9c19_88e9fe6f0718row0_col1\" class=\"data row0 col1\" >K0</td>\n",
       "                        <td id=\"T_709311e0_9d0f_11ed_9c19_88e9fe6f0718row0_col2\" class=\"data row0 col2\" >A0</td>\n",
       "                        <td id=\"T_709311e0_9d0f_11ed_9c19_88e9fe6f0718row0_col3\" class=\"data row0 col3\" >B0</td>\n",
       "            </tr>\n",
       "            <tr>\n",
       "                        <th id=\"T_709311e0_9d0f_11ed_9c19_88e9fe6f0718level0_row1\" class=\"row_heading level0 row1\" >1</th>\n",
       "                        <td id=\"T_709311e0_9d0f_11ed_9c19_88e9fe6f0718row1_col0\" class=\"data row1 col0\" >K0</td>\n",
       "                        <td id=\"T_709311e0_9d0f_11ed_9c19_88e9fe6f0718row1_col1\" class=\"data row1 col1\" >K1</td>\n",
       "                        <td id=\"T_709311e0_9d0f_11ed_9c19_88e9fe6f0718row1_col2\" class=\"data row1 col2\" >A1</td>\n",
       "                        <td id=\"T_709311e0_9d0f_11ed_9c19_88e9fe6f0718row1_col3\" class=\"data row1 col3\" >B1</td>\n",
       "            </tr>\n",
       "            <tr>\n",
       "                        <th id=\"T_709311e0_9d0f_11ed_9c19_88e9fe6f0718level0_row2\" class=\"row_heading level0 row2\" >2</th>\n",
       "                        <td id=\"T_709311e0_9d0f_11ed_9c19_88e9fe6f0718row2_col0\" class=\"data row2 col0\" >K1</td>\n",
       "                        <td id=\"T_709311e0_9d0f_11ed_9c19_88e9fe6f0718row2_col1\" class=\"data row2 col1\" >K0</td>\n",
       "                        <td id=\"T_709311e0_9d0f_11ed_9c19_88e9fe6f0718row2_col2\" class=\"data row2 col2\" >A2</td>\n",
       "                        <td id=\"T_709311e0_9d0f_11ed_9c19_88e9fe6f0718row2_col3\" class=\"data row2 col3\" >B2</td>\n",
       "            </tr>\n",
       "            <tr>\n",
       "                        <th id=\"T_709311e0_9d0f_11ed_9c19_88e9fe6f0718level0_row3\" class=\"row_heading level0 row3\" >3</th>\n",
       "                        <td id=\"T_709311e0_9d0f_11ed_9c19_88e9fe6f0718row3_col0\" class=\"data row3 col0\" >K2</td>\n",
       "                        <td id=\"T_709311e0_9d0f_11ed_9c19_88e9fe6f0718row3_col1\" class=\"data row3 col1\" >K1</td>\n",
       "                        <td id=\"T_709311e0_9d0f_11ed_9c19_88e9fe6f0718row3_col2\" class=\"data row3 col2\" >A3</td>\n",
       "                        <td id=\"T_709311e0_9d0f_11ed_9c19_88e9fe6f0718row3_col3\" class=\"data row3 col3\" >B3</td>\n",
       "            </tr>\n",
       "    </tbody></table> <style  type=\"text/css\" >\n",
       "</style><table id=\"T_709342a0_9d0f_11ed_9c19_88e9fe6f0718\" style='display:inline'><caption>Right table</caption><thead>    <tr>        <th class=\"blank level0\" ></th>        <th class=\"col_heading level0 col0\" >key1</th>        <th class=\"col_heading level0 col1\" >key2</th>        <th class=\"col_heading level0 col2\" >C</th>        <th class=\"col_heading level0 col3\" >D</th>    </tr></thead><tbody>\n",
       "                <tr>\n",
       "                        <th id=\"T_709342a0_9d0f_11ed_9c19_88e9fe6f0718level0_row0\" class=\"row_heading level0 row0\" >0</th>\n",
       "                        <td id=\"T_709342a0_9d0f_11ed_9c19_88e9fe6f0718row0_col0\" class=\"data row0 col0\" >K0</td>\n",
       "                        <td id=\"T_709342a0_9d0f_11ed_9c19_88e9fe6f0718row0_col1\" class=\"data row0 col1\" >K0</td>\n",
       "                        <td id=\"T_709342a0_9d0f_11ed_9c19_88e9fe6f0718row0_col2\" class=\"data row0 col2\" >C0</td>\n",
       "                        <td id=\"T_709342a0_9d0f_11ed_9c19_88e9fe6f0718row0_col3\" class=\"data row0 col3\" >D0</td>\n",
       "            </tr>\n",
       "            <tr>\n",
       "                        <th id=\"T_709342a0_9d0f_11ed_9c19_88e9fe6f0718level0_row1\" class=\"row_heading level0 row1\" >1</th>\n",
       "                        <td id=\"T_709342a0_9d0f_11ed_9c19_88e9fe6f0718row1_col0\" class=\"data row1 col0\" >K1</td>\n",
       "                        <td id=\"T_709342a0_9d0f_11ed_9c19_88e9fe6f0718row1_col1\" class=\"data row1 col1\" >K0</td>\n",
       "                        <td id=\"T_709342a0_9d0f_11ed_9c19_88e9fe6f0718row1_col2\" class=\"data row1 col2\" >C1</td>\n",
       "                        <td id=\"T_709342a0_9d0f_11ed_9c19_88e9fe6f0718row1_col3\" class=\"data row1 col3\" >D1</td>\n",
       "            </tr>\n",
       "            <tr>\n",
       "                        <th id=\"T_709342a0_9d0f_11ed_9c19_88e9fe6f0718level0_row2\" class=\"row_heading level0 row2\" >2</th>\n",
       "                        <td id=\"T_709342a0_9d0f_11ed_9c19_88e9fe6f0718row2_col0\" class=\"data row2 col0\" >K1</td>\n",
       "                        <td id=\"T_709342a0_9d0f_11ed_9c19_88e9fe6f0718row2_col1\" class=\"data row2 col1\" >K0</td>\n",
       "                        <td id=\"T_709342a0_9d0f_11ed_9c19_88e9fe6f0718row2_col2\" class=\"data row2 col2\" >C2</td>\n",
       "                        <td id=\"T_709342a0_9d0f_11ed_9c19_88e9fe6f0718row2_col3\" class=\"data row2 col3\" >D2</td>\n",
       "            </tr>\n",
       "            <tr>\n",
       "                        <th id=\"T_709342a0_9d0f_11ed_9c19_88e9fe6f0718level0_row3\" class=\"row_heading level0 row3\" >3</th>\n",
       "                        <td id=\"T_709342a0_9d0f_11ed_9c19_88e9fe6f0718row3_col0\" class=\"data row3 col0\" >K2</td>\n",
       "                        <td id=\"T_709342a0_9d0f_11ed_9c19_88e9fe6f0718row3_col1\" class=\"data row3 col1\" >K0</td>\n",
       "                        <td id=\"T_709342a0_9d0f_11ed_9c19_88e9fe6f0718row3_col2\" class=\"data row3 col2\" >C3</td>\n",
       "                        <td id=\"T_709342a0_9d0f_11ed_9c19_88e9fe6f0718row3_col3\" class=\"data row3 col3\" >D3</td>\n",
       "            </tr>\n",
       "    </tbody></table>"
      ]
     },
     "metadata": {},
     "output_type": "display_data"
    }
   ],
   "source": [
    "right_merge = pd.merge(df1, df2, how=\"right\")\n",
    "\n",
    "\n",
    "df1_styler = df1.style.set_table_attributes(\"style='display:inline'\").set_caption('Left table')\n",
    "df2_styler = df2.style.set_table_attributes(\"style='display:inline'\").set_caption('Right table')\n",
    "right_merge = right_merge.style.set_table_attributes(\"style='display:inline'\").set_caption(\"right_merge\")\n",
    "\n",
    "display_html(df1_styler._repr_html_() + \" \" + df2_styler._repr_html_(),raw=True)"
   ]
  },
  {
   "cell_type": "code",
   "execution_count": 24,
   "id": "8125da98",
   "metadata": {},
   "outputs": [
    {
     "data": {
      "text/html": [
       "<style  type=\"text/css\" >\n",
       "</style><table id=\"T_b7cc5072_9d0e_11ed_9c19_88e9fe6f0718\" style='display:inline'><caption>right_merge</caption><thead>    <tr>        <th class=\"blank level0\" ></th>        <th class=\"col_heading level0 col0\" >key1</th>        <th class=\"col_heading level0 col1\" >key2</th>        <th class=\"col_heading level0 col2\" >A</th>        <th class=\"col_heading level0 col3\" >B</th>        <th class=\"col_heading level0 col4\" >C</th>        <th class=\"col_heading level0 col5\" >D</th>    </tr></thead><tbody>\n",
       "                <tr>\n",
       "                        <th id=\"T_b7cc5072_9d0e_11ed_9c19_88e9fe6f0718level0_row0\" class=\"row_heading level0 row0\" >0</th>\n",
       "                        <td id=\"T_b7cc5072_9d0e_11ed_9c19_88e9fe6f0718row0_col0\" class=\"data row0 col0\" >K0</td>\n",
       "                        <td id=\"T_b7cc5072_9d0e_11ed_9c19_88e9fe6f0718row0_col1\" class=\"data row0 col1\" >K0</td>\n",
       "                        <td id=\"T_b7cc5072_9d0e_11ed_9c19_88e9fe6f0718row0_col2\" class=\"data row0 col2\" >A0</td>\n",
       "                        <td id=\"T_b7cc5072_9d0e_11ed_9c19_88e9fe6f0718row0_col3\" class=\"data row0 col3\" >B0</td>\n",
       "                        <td id=\"T_b7cc5072_9d0e_11ed_9c19_88e9fe6f0718row0_col4\" class=\"data row0 col4\" >C0</td>\n",
       "                        <td id=\"T_b7cc5072_9d0e_11ed_9c19_88e9fe6f0718row0_col5\" class=\"data row0 col5\" >D0</td>\n",
       "            </tr>\n",
       "            <tr>\n",
       "                        <th id=\"T_b7cc5072_9d0e_11ed_9c19_88e9fe6f0718level0_row1\" class=\"row_heading level0 row1\" >1</th>\n",
       "                        <td id=\"T_b7cc5072_9d0e_11ed_9c19_88e9fe6f0718row1_col0\" class=\"data row1 col0\" >K1</td>\n",
       "                        <td id=\"T_b7cc5072_9d0e_11ed_9c19_88e9fe6f0718row1_col1\" class=\"data row1 col1\" >K0</td>\n",
       "                        <td id=\"T_b7cc5072_9d0e_11ed_9c19_88e9fe6f0718row1_col2\" class=\"data row1 col2\" >A2</td>\n",
       "                        <td id=\"T_b7cc5072_9d0e_11ed_9c19_88e9fe6f0718row1_col3\" class=\"data row1 col3\" >B2</td>\n",
       "                        <td id=\"T_b7cc5072_9d0e_11ed_9c19_88e9fe6f0718row1_col4\" class=\"data row1 col4\" >C1</td>\n",
       "                        <td id=\"T_b7cc5072_9d0e_11ed_9c19_88e9fe6f0718row1_col5\" class=\"data row1 col5\" >D1</td>\n",
       "            </tr>\n",
       "            <tr>\n",
       "                        <th id=\"T_b7cc5072_9d0e_11ed_9c19_88e9fe6f0718level0_row2\" class=\"row_heading level0 row2\" >2</th>\n",
       "                        <td id=\"T_b7cc5072_9d0e_11ed_9c19_88e9fe6f0718row2_col0\" class=\"data row2 col0\" >K1</td>\n",
       "                        <td id=\"T_b7cc5072_9d0e_11ed_9c19_88e9fe6f0718row2_col1\" class=\"data row2 col1\" >K0</td>\n",
       "                        <td id=\"T_b7cc5072_9d0e_11ed_9c19_88e9fe6f0718row2_col2\" class=\"data row2 col2\" >A2</td>\n",
       "                        <td id=\"T_b7cc5072_9d0e_11ed_9c19_88e9fe6f0718row2_col3\" class=\"data row2 col3\" >B2</td>\n",
       "                        <td id=\"T_b7cc5072_9d0e_11ed_9c19_88e9fe6f0718row2_col4\" class=\"data row2 col4\" >C2</td>\n",
       "                        <td id=\"T_b7cc5072_9d0e_11ed_9c19_88e9fe6f0718row2_col5\" class=\"data row2 col5\" >D2</td>\n",
       "            </tr>\n",
       "            <tr>\n",
       "                        <th id=\"T_b7cc5072_9d0e_11ed_9c19_88e9fe6f0718level0_row3\" class=\"row_heading level0 row3\" >3</th>\n",
       "                        <td id=\"T_b7cc5072_9d0e_11ed_9c19_88e9fe6f0718row3_col0\" class=\"data row3 col0\" >K2</td>\n",
       "                        <td id=\"T_b7cc5072_9d0e_11ed_9c19_88e9fe6f0718row3_col1\" class=\"data row3 col1\" >K0</td>\n",
       "                        <td id=\"T_b7cc5072_9d0e_11ed_9c19_88e9fe6f0718row3_col2\" class=\"data row3 col2\" >nan</td>\n",
       "                        <td id=\"T_b7cc5072_9d0e_11ed_9c19_88e9fe6f0718row3_col3\" class=\"data row3 col3\" >nan</td>\n",
       "                        <td id=\"T_b7cc5072_9d0e_11ed_9c19_88e9fe6f0718row3_col4\" class=\"data row3 col4\" >C3</td>\n",
       "                        <td id=\"T_b7cc5072_9d0e_11ed_9c19_88e9fe6f0718row3_col5\" class=\"data row3 col5\" >D3</td>\n",
       "            </tr>\n",
       "    </tbody></table>"
      ]
     },
     "metadata": {},
     "output_type": "display_data"
    }
   ],
   "source": [
    "display_html(right_merge._repr_html_(), raw=True)"
   ]
  },
  {
   "cell_type": "markdown",
   "id": "0b9cac56",
   "metadata": {},
   "source": [
    "#### INNER Merge"
   ]
  },
  {
   "cell_type": "code",
   "execution_count": 61,
   "id": "0ebb4de2",
   "metadata": {
    "scrolled": false
   },
   "outputs": [
    {
     "data": {
      "text/html": [
       "<style  type=\"text/css\" >\n",
       "</style><table id=\"T_7338de2a_9d0f_11ed_9c19_88e9fe6f0718\" style='display:inline'><caption>Left table</caption><thead>    <tr>        <th class=\"blank level0\" ></th>        <th class=\"col_heading level0 col0\" >key1</th>        <th class=\"col_heading level0 col1\" >key2</th>        <th class=\"col_heading level0 col2\" >A</th>        <th class=\"col_heading level0 col3\" >B</th>    </tr></thead><tbody>\n",
       "                <tr>\n",
       "                        <th id=\"T_7338de2a_9d0f_11ed_9c19_88e9fe6f0718level0_row0\" class=\"row_heading level0 row0\" >0</th>\n",
       "                        <td id=\"T_7338de2a_9d0f_11ed_9c19_88e9fe6f0718row0_col0\" class=\"data row0 col0\" >K0</td>\n",
       "                        <td id=\"T_7338de2a_9d0f_11ed_9c19_88e9fe6f0718row0_col1\" class=\"data row0 col1\" >K0</td>\n",
       "                        <td id=\"T_7338de2a_9d0f_11ed_9c19_88e9fe6f0718row0_col2\" class=\"data row0 col2\" >A0</td>\n",
       "                        <td id=\"T_7338de2a_9d0f_11ed_9c19_88e9fe6f0718row0_col3\" class=\"data row0 col3\" >B0</td>\n",
       "            </tr>\n",
       "            <tr>\n",
       "                        <th id=\"T_7338de2a_9d0f_11ed_9c19_88e9fe6f0718level0_row1\" class=\"row_heading level0 row1\" >1</th>\n",
       "                        <td id=\"T_7338de2a_9d0f_11ed_9c19_88e9fe6f0718row1_col0\" class=\"data row1 col0\" >K0</td>\n",
       "                        <td id=\"T_7338de2a_9d0f_11ed_9c19_88e9fe6f0718row1_col1\" class=\"data row1 col1\" >K1</td>\n",
       "                        <td id=\"T_7338de2a_9d0f_11ed_9c19_88e9fe6f0718row1_col2\" class=\"data row1 col2\" >A1</td>\n",
       "                        <td id=\"T_7338de2a_9d0f_11ed_9c19_88e9fe6f0718row1_col3\" class=\"data row1 col3\" >B1</td>\n",
       "            </tr>\n",
       "            <tr>\n",
       "                        <th id=\"T_7338de2a_9d0f_11ed_9c19_88e9fe6f0718level0_row2\" class=\"row_heading level0 row2\" >2</th>\n",
       "                        <td id=\"T_7338de2a_9d0f_11ed_9c19_88e9fe6f0718row2_col0\" class=\"data row2 col0\" >K1</td>\n",
       "                        <td id=\"T_7338de2a_9d0f_11ed_9c19_88e9fe6f0718row2_col1\" class=\"data row2 col1\" >K0</td>\n",
       "                        <td id=\"T_7338de2a_9d0f_11ed_9c19_88e9fe6f0718row2_col2\" class=\"data row2 col2\" >A2</td>\n",
       "                        <td id=\"T_7338de2a_9d0f_11ed_9c19_88e9fe6f0718row2_col3\" class=\"data row2 col3\" >B2</td>\n",
       "            </tr>\n",
       "            <tr>\n",
       "                        <th id=\"T_7338de2a_9d0f_11ed_9c19_88e9fe6f0718level0_row3\" class=\"row_heading level0 row3\" >3</th>\n",
       "                        <td id=\"T_7338de2a_9d0f_11ed_9c19_88e9fe6f0718row3_col0\" class=\"data row3 col0\" >K2</td>\n",
       "                        <td id=\"T_7338de2a_9d0f_11ed_9c19_88e9fe6f0718row3_col1\" class=\"data row3 col1\" >K1</td>\n",
       "                        <td id=\"T_7338de2a_9d0f_11ed_9c19_88e9fe6f0718row3_col2\" class=\"data row3 col2\" >A3</td>\n",
       "                        <td id=\"T_7338de2a_9d0f_11ed_9c19_88e9fe6f0718row3_col3\" class=\"data row3 col3\" >B3</td>\n",
       "            </tr>\n",
       "    </tbody></table> <style  type=\"text/css\" >\n",
       "</style><table id=\"T_733912aa_9d0f_11ed_9c19_88e9fe6f0718\" style='display:inline'><caption>Right table</caption><thead>    <tr>        <th class=\"blank level0\" ></th>        <th class=\"col_heading level0 col0\" >key1</th>        <th class=\"col_heading level0 col1\" >key2</th>        <th class=\"col_heading level0 col2\" >C</th>        <th class=\"col_heading level0 col3\" >D</th>    </tr></thead><tbody>\n",
       "                <tr>\n",
       "                        <th id=\"T_733912aa_9d0f_11ed_9c19_88e9fe6f0718level0_row0\" class=\"row_heading level0 row0\" >0</th>\n",
       "                        <td id=\"T_733912aa_9d0f_11ed_9c19_88e9fe6f0718row0_col0\" class=\"data row0 col0\" >K0</td>\n",
       "                        <td id=\"T_733912aa_9d0f_11ed_9c19_88e9fe6f0718row0_col1\" class=\"data row0 col1\" >K0</td>\n",
       "                        <td id=\"T_733912aa_9d0f_11ed_9c19_88e9fe6f0718row0_col2\" class=\"data row0 col2\" >C0</td>\n",
       "                        <td id=\"T_733912aa_9d0f_11ed_9c19_88e9fe6f0718row0_col3\" class=\"data row0 col3\" >D0</td>\n",
       "            </tr>\n",
       "            <tr>\n",
       "                        <th id=\"T_733912aa_9d0f_11ed_9c19_88e9fe6f0718level0_row1\" class=\"row_heading level0 row1\" >1</th>\n",
       "                        <td id=\"T_733912aa_9d0f_11ed_9c19_88e9fe6f0718row1_col0\" class=\"data row1 col0\" >K1</td>\n",
       "                        <td id=\"T_733912aa_9d0f_11ed_9c19_88e9fe6f0718row1_col1\" class=\"data row1 col1\" >K0</td>\n",
       "                        <td id=\"T_733912aa_9d0f_11ed_9c19_88e9fe6f0718row1_col2\" class=\"data row1 col2\" >C1</td>\n",
       "                        <td id=\"T_733912aa_9d0f_11ed_9c19_88e9fe6f0718row1_col3\" class=\"data row1 col3\" >D1</td>\n",
       "            </tr>\n",
       "            <tr>\n",
       "                        <th id=\"T_733912aa_9d0f_11ed_9c19_88e9fe6f0718level0_row2\" class=\"row_heading level0 row2\" >2</th>\n",
       "                        <td id=\"T_733912aa_9d0f_11ed_9c19_88e9fe6f0718row2_col0\" class=\"data row2 col0\" >K1</td>\n",
       "                        <td id=\"T_733912aa_9d0f_11ed_9c19_88e9fe6f0718row2_col1\" class=\"data row2 col1\" >K0</td>\n",
       "                        <td id=\"T_733912aa_9d0f_11ed_9c19_88e9fe6f0718row2_col2\" class=\"data row2 col2\" >C2</td>\n",
       "                        <td id=\"T_733912aa_9d0f_11ed_9c19_88e9fe6f0718row2_col3\" class=\"data row2 col3\" >D2</td>\n",
       "            </tr>\n",
       "            <tr>\n",
       "                        <th id=\"T_733912aa_9d0f_11ed_9c19_88e9fe6f0718level0_row3\" class=\"row_heading level0 row3\" >3</th>\n",
       "                        <td id=\"T_733912aa_9d0f_11ed_9c19_88e9fe6f0718row3_col0\" class=\"data row3 col0\" >K2</td>\n",
       "                        <td id=\"T_733912aa_9d0f_11ed_9c19_88e9fe6f0718row3_col1\" class=\"data row3 col1\" >K0</td>\n",
       "                        <td id=\"T_733912aa_9d0f_11ed_9c19_88e9fe6f0718row3_col2\" class=\"data row3 col2\" >C3</td>\n",
       "                        <td id=\"T_733912aa_9d0f_11ed_9c19_88e9fe6f0718row3_col3\" class=\"data row3 col3\" >D3</td>\n",
       "            </tr>\n",
       "    </tbody></table>"
      ]
     },
     "metadata": {},
     "output_type": "display_data"
    }
   ],
   "source": [
    "inner_merge = pd.merge(df1, df2, how=\"inner\")\n",
    "\n",
    "\n",
    "df1_styler = df1.style.set_table_attributes(\"style='display:inline'\").set_caption('Left table')\n",
    "df2_styler = df2.style.set_table_attributes(\"style='display:inline'\").set_caption('Right table')\n",
    "inner_merge = inner_merge.style.set_table_attributes(\"style='display:inline'\").set_caption(\"inner_merge\")\n",
    "\n",
    "display_html(df1_styler._repr_html_() +  \" \" + df2_styler._repr_html_(), raw=True)"
   ]
  },
  {
   "cell_type": "code",
   "execution_count": 62,
   "id": "84ffe258",
   "metadata": {},
   "outputs": [
    {
     "data": {
      "text/html": [
       "<style  type=\"text/css\" >\n",
       "</style><table id=\"T_73851628_9d0f_11ed_9c19_88e9fe6f0718\" style='display:inline'><caption>inner_merge</caption><thead>    <tr>        <th class=\"blank level0\" ></th>        <th class=\"col_heading level0 col0\" >key1</th>        <th class=\"col_heading level0 col1\" >key2</th>        <th class=\"col_heading level0 col2\" >A</th>        <th class=\"col_heading level0 col3\" >B</th>        <th class=\"col_heading level0 col4\" >C</th>        <th class=\"col_heading level0 col5\" >D</th>    </tr></thead><tbody>\n",
       "                <tr>\n",
       "                        <th id=\"T_73851628_9d0f_11ed_9c19_88e9fe6f0718level0_row0\" class=\"row_heading level0 row0\" >0</th>\n",
       "                        <td id=\"T_73851628_9d0f_11ed_9c19_88e9fe6f0718row0_col0\" class=\"data row0 col0\" >K0</td>\n",
       "                        <td id=\"T_73851628_9d0f_11ed_9c19_88e9fe6f0718row0_col1\" class=\"data row0 col1\" >K0</td>\n",
       "                        <td id=\"T_73851628_9d0f_11ed_9c19_88e9fe6f0718row0_col2\" class=\"data row0 col2\" >A0</td>\n",
       "                        <td id=\"T_73851628_9d0f_11ed_9c19_88e9fe6f0718row0_col3\" class=\"data row0 col3\" >B0</td>\n",
       "                        <td id=\"T_73851628_9d0f_11ed_9c19_88e9fe6f0718row0_col4\" class=\"data row0 col4\" >C0</td>\n",
       "                        <td id=\"T_73851628_9d0f_11ed_9c19_88e9fe6f0718row0_col5\" class=\"data row0 col5\" >D0</td>\n",
       "            </tr>\n",
       "            <tr>\n",
       "                        <th id=\"T_73851628_9d0f_11ed_9c19_88e9fe6f0718level0_row1\" class=\"row_heading level0 row1\" >1</th>\n",
       "                        <td id=\"T_73851628_9d0f_11ed_9c19_88e9fe6f0718row1_col0\" class=\"data row1 col0\" >K1</td>\n",
       "                        <td id=\"T_73851628_9d0f_11ed_9c19_88e9fe6f0718row1_col1\" class=\"data row1 col1\" >K0</td>\n",
       "                        <td id=\"T_73851628_9d0f_11ed_9c19_88e9fe6f0718row1_col2\" class=\"data row1 col2\" >A2</td>\n",
       "                        <td id=\"T_73851628_9d0f_11ed_9c19_88e9fe6f0718row1_col3\" class=\"data row1 col3\" >B2</td>\n",
       "                        <td id=\"T_73851628_9d0f_11ed_9c19_88e9fe6f0718row1_col4\" class=\"data row1 col4\" >C1</td>\n",
       "                        <td id=\"T_73851628_9d0f_11ed_9c19_88e9fe6f0718row1_col5\" class=\"data row1 col5\" >D1</td>\n",
       "            </tr>\n",
       "            <tr>\n",
       "                        <th id=\"T_73851628_9d0f_11ed_9c19_88e9fe6f0718level0_row2\" class=\"row_heading level0 row2\" >2</th>\n",
       "                        <td id=\"T_73851628_9d0f_11ed_9c19_88e9fe6f0718row2_col0\" class=\"data row2 col0\" >K1</td>\n",
       "                        <td id=\"T_73851628_9d0f_11ed_9c19_88e9fe6f0718row2_col1\" class=\"data row2 col1\" >K0</td>\n",
       "                        <td id=\"T_73851628_9d0f_11ed_9c19_88e9fe6f0718row2_col2\" class=\"data row2 col2\" >A2</td>\n",
       "                        <td id=\"T_73851628_9d0f_11ed_9c19_88e9fe6f0718row2_col3\" class=\"data row2 col3\" >B2</td>\n",
       "                        <td id=\"T_73851628_9d0f_11ed_9c19_88e9fe6f0718row2_col4\" class=\"data row2 col4\" >C2</td>\n",
       "                        <td id=\"T_73851628_9d0f_11ed_9c19_88e9fe6f0718row2_col5\" class=\"data row2 col5\" >D2</td>\n",
       "            </tr>\n",
       "    </tbody></table>"
      ]
     },
     "metadata": {},
     "output_type": "display_data"
    }
   ],
   "source": [
    "display_html(inner_merge._repr_html_(), raw=True)"
   ]
  },
  {
   "cell_type": "markdown",
   "id": "d84be3ac",
   "metadata": {},
   "source": [
    "#### OUTER Merge"
   ]
  },
  {
   "cell_type": "code",
   "execution_count": 63,
   "id": "c2d03df5",
   "metadata": {
    "scrolled": false
   },
   "outputs": [
    {
     "data": {
      "text/html": [
       "<style  type=\"text/css\" >\n",
       "</style><table id=\"T_73d60f10_9d0f_11ed_9c19_88e9fe6f0718\" style='display:inline'><caption>Left table</caption><thead>    <tr>        <th class=\"blank level0\" ></th>        <th class=\"col_heading level0 col0\" >key1</th>        <th class=\"col_heading level0 col1\" >key2</th>        <th class=\"col_heading level0 col2\" >A</th>        <th class=\"col_heading level0 col3\" >B</th>    </tr></thead><tbody>\n",
       "                <tr>\n",
       "                        <th id=\"T_73d60f10_9d0f_11ed_9c19_88e9fe6f0718level0_row0\" class=\"row_heading level0 row0\" >0</th>\n",
       "                        <td id=\"T_73d60f10_9d0f_11ed_9c19_88e9fe6f0718row0_col0\" class=\"data row0 col0\" >K0</td>\n",
       "                        <td id=\"T_73d60f10_9d0f_11ed_9c19_88e9fe6f0718row0_col1\" class=\"data row0 col1\" >K0</td>\n",
       "                        <td id=\"T_73d60f10_9d0f_11ed_9c19_88e9fe6f0718row0_col2\" class=\"data row0 col2\" >A0</td>\n",
       "                        <td id=\"T_73d60f10_9d0f_11ed_9c19_88e9fe6f0718row0_col3\" class=\"data row0 col3\" >B0</td>\n",
       "            </tr>\n",
       "            <tr>\n",
       "                        <th id=\"T_73d60f10_9d0f_11ed_9c19_88e9fe6f0718level0_row1\" class=\"row_heading level0 row1\" >1</th>\n",
       "                        <td id=\"T_73d60f10_9d0f_11ed_9c19_88e9fe6f0718row1_col0\" class=\"data row1 col0\" >K0</td>\n",
       "                        <td id=\"T_73d60f10_9d0f_11ed_9c19_88e9fe6f0718row1_col1\" class=\"data row1 col1\" >K1</td>\n",
       "                        <td id=\"T_73d60f10_9d0f_11ed_9c19_88e9fe6f0718row1_col2\" class=\"data row1 col2\" >A1</td>\n",
       "                        <td id=\"T_73d60f10_9d0f_11ed_9c19_88e9fe6f0718row1_col3\" class=\"data row1 col3\" >B1</td>\n",
       "            </tr>\n",
       "            <tr>\n",
       "                        <th id=\"T_73d60f10_9d0f_11ed_9c19_88e9fe6f0718level0_row2\" class=\"row_heading level0 row2\" >2</th>\n",
       "                        <td id=\"T_73d60f10_9d0f_11ed_9c19_88e9fe6f0718row2_col0\" class=\"data row2 col0\" >K1</td>\n",
       "                        <td id=\"T_73d60f10_9d0f_11ed_9c19_88e9fe6f0718row2_col1\" class=\"data row2 col1\" >K0</td>\n",
       "                        <td id=\"T_73d60f10_9d0f_11ed_9c19_88e9fe6f0718row2_col2\" class=\"data row2 col2\" >A2</td>\n",
       "                        <td id=\"T_73d60f10_9d0f_11ed_9c19_88e9fe6f0718row2_col3\" class=\"data row2 col3\" >B2</td>\n",
       "            </tr>\n",
       "            <tr>\n",
       "                        <th id=\"T_73d60f10_9d0f_11ed_9c19_88e9fe6f0718level0_row3\" class=\"row_heading level0 row3\" >3</th>\n",
       "                        <td id=\"T_73d60f10_9d0f_11ed_9c19_88e9fe6f0718row3_col0\" class=\"data row3 col0\" >K2</td>\n",
       "                        <td id=\"T_73d60f10_9d0f_11ed_9c19_88e9fe6f0718row3_col1\" class=\"data row3 col1\" >K1</td>\n",
       "                        <td id=\"T_73d60f10_9d0f_11ed_9c19_88e9fe6f0718row3_col2\" class=\"data row3 col2\" >A3</td>\n",
       "                        <td id=\"T_73d60f10_9d0f_11ed_9c19_88e9fe6f0718row3_col3\" class=\"data row3 col3\" >B3</td>\n",
       "            </tr>\n",
       "    </tbody></table> <style  type=\"text/css\" >\n",
       "</style><table id=\"T_73d641a6_9d0f_11ed_9c19_88e9fe6f0718\" style='display:inline'><caption>Right table</caption><thead>    <tr>        <th class=\"blank level0\" ></th>        <th class=\"col_heading level0 col0\" >key1</th>        <th class=\"col_heading level0 col1\" >key2</th>        <th class=\"col_heading level0 col2\" >C</th>        <th class=\"col_heading level0 col3\" >D</th>    </tr></thead><tbody>\n",
       "                <tr>\n",
       "                        <th id=\"T_73d641a6_9d0f_11ed_9c19_88e9fe6f0718level0_row0\" class=\"row_heading level0 row0\" >0</th>\n",
       "                        <td id=\"T_73d641a6_9d0f_11ed_9c19_88e9fe6f0718row0_col0\" class=\"data row0 col0\" >K0</td>\n",
       "                        <td id=\"T_73d641a6_9d0f_11ed_9c19_88e9fe6f0718row0_col1\" class=\"data row0 col1\" >K0</td>\n",
       "                        <td id=\"T_73d641a6_9d0f_11ed_9c19_88e9fe6f0718row0_col2\" class=\"data row0 col2\" >C0</td>\n",
       "                        <td id=\"T_73d641a6_9d0f_11ed_9c19_88e9fe6f0718row0_col3\" class=\"data row0 col3\" >D0</td>\n",
       "            </tr>\n",
       "            <tr>\n",
       "                        <th id=\"T_73d641a6_9d0f_11ed_9c19_88e9fe6f0718level0_row1\" class=\"row_heading level0 row1\" >1</th>\n",
       "                        <td id=\"T_73d641a6_9d0f_11ed_9c19_88e9fe6f0718row1_col0\" class=\"data row1 col0\" >K1</td>\n",
       "                        <td id=\"T_73d641a6_9d0f_11ed_9c19_88e9fe6f0718row1_col1\" class=\"data row1 col1\" >K0</td>\n",
       "                        <td id=\"T_73d641a6_9d0f_11ed_9c19_88e9fe6f0718row1_col2\" class=\"data row1 col2\" >C1</td>\n",
       "                        <td id=\"T_73d641a6_9d0f_11ed_9c19_88e9fe6f0718row1_col3\" class=\"data row1 col3\" >D1</td>\n",
       "            </tr>\n",
       "            <tr>\n",
       "                        <th id=\"T_73d641a6_9d0f_11ed_9c19_88e9fe6f0718level0_row2\" class=\"row_heading level0 row2\" >2</th>\n",
       "                        <td id=\"T_73d641a6_9d0f_11ed_9c19_88e9fe6f0718row2_col0\" class=\"data row2 col0\" >K1</td>\n",
       "                        <td id=\"T_73d641a6_9d0f_11ed_9c19_88e9fe6f0718row2_col1\" class=\"data row2 col1\" >K0</td>\n",
       "                        <td id=\"T_73d641a6_9d0f_11ed_9c19_88e9fe6f0718row2_col2\" class=\"data row2 col2\" >C2</td>\n",
       "                        <td id=\"T_73d641a6_9d0f_11ed_9c19_88e9fe6f0718row2_col3\" class=\"data row2 col3\" >D2</td>\n",
       "            </tr>\n",
       "            <tr>\n",
       "                        <th id=\"T_73d641a6_9d0f_11ed_9c19_88e9fe6f0718level0_row3\" class=\"row_heading level0 row3\" >3</th>\n",
       "                        <td id=\"T_73d641a6_9d0f_11ed_9c19_88e9fe6f0718row3_col0\" class=\"data row3 col0\" >K2</td>\n",
       "                        <td id=\"T_73d641a6_9d0f_11ed_9c19_88e9fe6f0718row3_col1\" class=\"data row3 col1\" >K0</td>\n",
       "                        <td id=\"T_73d641a6_9d0f_11ed_9c19_88e9fe6f0718row3_col2\" class=\"data row3 col2\" >C3</td>\n",
       "                        <td id=\"T_73d641a6_9d0f_11ed_9c19_88e9fe6f0718row3_col3\" class=\"data row3 col3\" >D3</td>\n",
       "            </tr>\n",
       "    </tbody></table>"
      ]
     },
     "metadata": {},
     "output_type": "display_data"
    }
   ],
   "source": [
    "outer_merge = pd.merge(df1, df2, how=\"outer\")\n",
    "\n",
    "df1_styler = df1.style.set_table_attributes(\"style='display:inline'\").set_caption('Left table')\n",
    "df2_styler = df2.style.set_table_attributes(\"style='display:inline'\").set_caption('Right table')\n",
    "outer_merge = outer_merge.style.set_table_attributes(\"style='display:inline'\").set_caption(\"outer_merge\")\n",
    "\n",
    "display_html(df1_styler._repr_html_() +  \" \" + df2_styler._repr_html_(), raw=True)"
   ]
  },
  {
   "cell_type": "code",
   "execution_count": 64,
   "id": "80fe9a97",
   "metadata": {},
   "outputs": [
    {
     "data": {
      "text/html": [
       "<style  type=\"text/css\" >\n",
       "</style><table id=\"T_740a606c_9d0f_11ed_9c19_88e9fe6f0718\" style='display:inline'><caption>outer_merge</caption><thead>    <tr>        <th class=\"blank level0\" ></th>        <th class=\"col_heading level0 col0\" >key1</th>        <th class=\"col_heading level0 col1\" >key2</th>        <th class=\"col_heading level0 col2\" >A</th>        <th class=\"col_heading level0 col3\" >B</th>        <th class=\"col_heading level0 col4\" >C</th>        <th class=\"col_heading level0 col5\" >D</th>    </tr></thead><tbody>\n",
       "                <tr>\n",
       "                        <th id=\"T_740a606c_9d0f_11ed_9c19_88e9fe6f0718level0_row0\" class=\"row_heading level0 row0\" >0</th>\n",
       "                        <td id=\"T_740a606c_9d0f_11ed_9c19_88e9fe6f0718row0_col0\" class=\"data row0 col0\" >K0</td>\n",
       "                        <td id=\"T_740a606c_9d0f_11ed_9c19_88e9fe6f0718row0_col1\" class=\"data row0 col1\" >K0</td>\n",
       "                        <td id=\"T_740a606c_9d0f_11ed_9c19_88e9fe6f0718row0_col2\" class=\"data row0 col2\" >A0</td>\n",
       "                        <td id=\"T_740a606c_9d0f_11ed_9c19_88e9fe6f0718row0_col3\" class=\"data row0 col3\" >B0</td>\n",
       "                        <td id=\"T_740a606c_9d0f_11ed_9c19_88e9fe6f0718row0_col4\" class=\"data row0 col4\" >C0</td>\n",
       "                        <td id=\"T_740a606c_9d0f_11ed_9c19_88e9fe6f0718row0_col5\" class=\"data row0 col5\" >D0</td>\n",
       "            </tr>\n",
       "            <tr>\n",
       "                        <th id=\"T_740a606c_9d0f_11ed_9c19_88e9fe6f0718level0_row1\" class=\"row_heading level0 row1\" >1</th>\n",
       "                        <td id=\"T_740a606c_9d0f_11ed_9c19_88e9fe6f0718row1_col0\" class=\"data row1 col0\" >K0</td>\n",
       "                        <td id=\"T_740a606c_9d0f_11ed_9c19_88e9fe6f0718row1_col1\" class=\"data row1 col1\" >K1</td>\n",
       "                        <td id=\"T_740a606c_9d0f_11ed_9c19_88e9fe6f0718row1_col2\" class=\"data row1 col2\" >A1</td>\n",
       "                        <td id=\"T_740a606c_9d0f_11ed_9c19_88e9fe6f0718row1_col3\" class=\"data row1 col3\" >B1</td>\n",
       "                        <td id=\"T_740a606c_9d0f_11ed_9c19_88e9fe6f0718row1_col4\" class=\"data row1 col4\" >nan</td>\n",
       "                        <td id=\"T_740a606c_9d0f_11ed_9c19_88e9fe6f0718row1_col5\" class=\"data row1 col5\" >nan</td>\n",
       "            </tr>\n",
       "            <tr>\n",
       "                        <th id=\"T_740a606c_9d0f_11ed_9c19_88e9fe6f0718level0_row2\" class=\"row_heading level0 row2\" >2</th>\n",
       "                        <td id=\"T_740a606c_9d0f_11ed_9c19_88e9fe6f0718row2_col0\" class=\"data row2 col0\" >K1</td>\n",
       "                        <td id=\"T_740a606c_9d0f_11ed_9c19_88e9fe6f0718row2_col1\" class=\"data row2 col1\" >K0</td>\n",
       "                        <td id=\"T_740a606c_9d0f_11ed_9c19_88e9fe6f0718row2_col2\" class=\"data row2 col2\" >A2</td>\n",
       "                        <td id=\"T_740a606c_9d0f_11ed_9c19_88e9fe6f0718row2_col3\" class=\"data row2 col3\" >B2</td>\n",
       "                        <td id=\"T_740a606c_9d0f_11ed_9c19_88e9fe6f0718row2_col4\" class=\"data row2 col4\" >C1</td>\n",
       "                        <td id=\"T_740a606c_9d0f_11ed_9c19_88e9fe6f0718row2_col5\" class=\"data row2 col5\" >D1</td>\n",
       "            </tr>\n",
       "            <tr>\n",
       "                        <th id=\"T_740a606c_9d0f_11ed_9c19_88e9fe6f0718level0_row3\" class=\"row_heading level0 row3\" >3</th>\n",
       "                        <td id=\"T_740a606c_9d0f_11ed_9c19_88e9fe6f0718row3_col0\" class=\"data row3 col0\" >K1</td>\n",
       "                        <td id=\"T_740a606c_9d0f_11ed_9c19_88e9fe6f0718row3_col1\" class=\"data row3 col1\" >K0</td>\n",
       "                        <td id=\"T_740a606c_9d0f_11ed_9c19_88e9fe6f0718row3_col2\" class=\"data row3 col2\" >A2</td>\n",
       "                        <td id=\"T_740a606c_9d0f_11ed_9c19_88e9fe6f0718row3_col3\" class=\"data row3 col3\" >B2</td>\n",
       "                        <td id=\"T_740a606c_9d0f_11ed_9c19_88e9fe6f0718row3_col4\" class=\"data row3 col4\" >C2</td>\n",
       "                        <td id=\"T_740a606c_9d0f_11ed_9c19_88e9fe6f0718row3_col5\" class=\"data row3 col5\" >D2</td>\n",
       "            </tr>\n",
       "            <tr>\n",
       "                        <th id=\"T_740a606c_9d0f_11ed_9c19_88e9fe6f0718level0_row4\" class=\"row_heading level0 row4\" >4</th>\n",
       "                        <td id=\"T_740a606c_9d0f_11ed_9c19_88e9fe6f0718row4_col0\" class=\"data row4 col0\" >K2</td>\n",
       "                        <td id=\"T_740a606c_9d0f_11ed_9c19_88e9fe6f0718row4_col1\" class=\"data row4 col1\" >K1</td>\n",
       "                        <td id=\"T_740a606c_9d0f_11ed_9c19_88e9fe6f0718row4_col2\" class=\"data row4 col2\" >A3</td>\n",
       "                        <td id=\"T_740a606c_9d0f_11ed_9c19_88e9fe6f0718row4_col3\" class=\"data row4 col3\" >B3</td>\n",
       "                        <td id=\"T_740a606c_9d0f_11ed_9c19_88e9fe6f0718row4_col4\" class=\"data row4 col4\" >nan</td>\n",
       "                        <td id=\"T_740a606c_9d0f_11ed_9c19_88e9fe6f0718row4_col5\" class=\"data row4 col5\" >nan</td>\n",
       "            </tr>\n",
       "            <tr>\n",
       "                        <th id=\"T_740a606c_9d0f_11ed_9c19_88e9fe6f0718level0_row5\" class=\"row_heading level0 row5\" >5</th>\n",
       "                        <td id=\"T_740a606c_9d0f_11ed_9c19_88e9fe6f0718row5_col0\" class=\"data row5 col0\" >K2</td>\n",
       "                        <td id=\"T_740a606c_9d0f_11ed_9c19_88e9fe6f0718row5_col1\" class=\"data row5 col1\" >K0</td>\n",
       "                        <td id=\"T_740a606c_9d0f_11ed_9c19_88e9fe6f0718row5_col2\" class=\"data row5 col2\" >nan</td>\n",
       "                        <td id=\"T_740a606c_9d0f_11ed_9c19_88e9fe6f0718row5_col3\" class=\"data row5 col3\" >nan</td>\n",
       "                        <td id=\"T_740a606c_9d0f_11ed_9c19_88e9fe6f0718row5_col4\" class=\"data row5 col4\" >C3</td>\n",
       "                        <td id=\"T_740a606c_9d0f_11ed_9c19_88e9fe6f0718row5_col5\" class=\"data row5 col5\" >D3</td>\n",
       "            </tr>\n",
       "    </tbody></table>"
      ]
     },
     "metadata": {},
     "output_type": "display_data"
    }
   ],
   "source": [
    "display_html(outer_merge._repr_html_(), raw=True)"
   ]
  },
  {
   "cell_type": "markdown",
   "id": "e6ce32d1",
   "metadata": {},
   "source": [
    "### Merging & Concatenating in two different columns"
   ]
  },
  {
   "cell_type": "code",
   "execution_count": 65,
   "id": "7a64637f",
   "metadata": {},
   "outputs": [],
   "source": [
    "df1_docs = pd.DataFrame({'lkey': ['foo', 'bar', 'baz', 'foo'],\n",
    "                    'value': [1, 2, 3, 5]})\n",
    "df2_docs = pd.DataFrame({'rkey': ['foo', 'bar', 'baz', 'foo'],\n",
    "                    'value': [5, 6, 7, 8]})"
   ]
  },
  {
   "cell_type": "code",
   "execution_count": 66,
   "id": "81d632df",
   "metadata": {},
   "outputs": [
    {
     "data": {
      "text/html": [
       "<style  type=\"text/css\" >\n",
       "</style><table id=\"T_748d24f2_9d0f_11ed_9c19_88e9fe6f0718\" style='display:inline'><caption>Left table</caption><thead>    <tr>        <th class=\"blank level0\" ></th>        <th class=\"col_heading level0 col0\" >lkey</th>        <th class=\"col_heading level0 col1\" >value</th>    </tr></thead><tbody>\n",
       "                <tr>\n",
       "                        <th id=\"T_748d24f2_9d0f_11ed_9c19_88e9fe6f0718level0_row0\" class=\"row_heading level0 row0\" >0</th>\n",
       "                        <td id=\"T_748d24f2_9d0f_11ed_9c19_88e9fe6f0718row0_col0\" class=\"data row0 col0\" >foo</td>\n",
       "                        <td id=\"T_748d24f2_9d0f_11ed_9c19_88e9fe6f0718row0_col1\" class=\"data row0 col1\" >1</td>\n",
       "            </tr>\n",
       "            <tr>\n",
       "                        <th id=\"T_748d24f2_9d0f_11ed_9c19_88e9fe6f0718level0_row1\" class=\"row_heading level0 row1\" >1</th>\n",
       "                        <td id=\"T_748d24f2_9d0f_11ed_9c19_88e9fe6f0718row1_col0\" class=\"data row1 col0\" >bar</td>\n",
       "                        <td id=\"T_748d24f2_9d0f_11ed_9c19_88e9fe6f0718row1_col1\" class=\"data row1 col1\" >2</td>\n",
       "            </tr>\n",
       "            <tr>\n",
       "                        <th id=\"T_748d24f2_9d0f_11ed_9c19_88e9fe6f0718level0_row2\" class=\"row_heading level0 row2\" >2</th>\n",
       "                        <td id=\"T_748d24f2_9d0f_11ed_9c19_88e9fe6f0718row2_col0\" class=\"data row2 col0\" >baz</td>\n",
       "                        <td id=\"T_748d24f2_9d0f_11ed_9c19_88e9fe6f0718row2_col1\" class=\"data row2 col1\" >3</td>\n",
       "            </tr>\n",
       "            <tr>\n",
       "                        <th id=\"T_748d24f2_9d0f_11ed_9c19_88e9fe6f0718level0_row3\" class=\"row_heading level0 row3\" >3</th>\n",
       "                        <td id=\"T_748d24f2_9d0f_11ed_9c19_88e9fe6f0718row3_col0\" class=\"data row3 col0\" >foo</td>\n",
       "                        <td id=\"T_748d24f2_9d0f_11ed_9c19_88e9fe6f0718row3_col1\" class=\"data row3 col1\" >5</td>\n",
       "            </tr>\n",
       "    </tbody></table> <style  type=\"text/css\" >\n",
       "</style><table id=\"T_748d4e46_9d0f_11ed_9c19_88e9fe6f0718\" style='display:inline'><caption>Right table</caption><thead>    <tr>        <th class=\"blank level0\" ></th>        <th class=\"col_heading level0 col0\" >rkey</th>        <th class=\"col_heading level0 col1\" >value</th>    </tr></thead><tbody>\n",
       "                <tr>\n",
       "                        <th id=\"T_748d4e46_9d0f_11ed_9c19_88e9fe6f0718level0_row0\" class=\"row_heading level0 row0\" >0</th>\n",
       "                        <td id=\"T_748d4e46_9d0f_11ed_9c19_88e9fe6f0718row0_col0\" class=\"data row0 col0\" >foo</td>\n",
       "                        <td id=\"T_748d4e46_9d0f_11ed_9c19_88e9fe6f0718row0_col1\" class=\"data row0 col1\" >5</td>\n",
       "            </tr>\n",
       "            <tr>\n",
       "                        <th id=\"T_748d4e46_9d0f_11ed_9c19_88e9fe6f0718level0_row1\" class=\"row_heading level0 row1\" >1</th>\n",
       "                        <td id=\"T_748d4e46_9d0f_11ed_9c19_88e9fe6f0718row1_col0\" class=\"data row1 col0\" >bar</td>\n",
       "                        <td id=\"T_748d4e46_9d0f_11ed_9c19_88e9fe6f0718row1_col1\" class=\"data row1 col1\" >6</td>\n",
       "            </tr>\n",
       "            <tr>\n",
       "                        <th id=\"T_748d4e46_9d0f_11ed_9c19_88e9fe6f0718level0_row2\" class=\"row_heading level0 row2\" >2</th>\n",
       "                        <td id=\"T_748d4e46_9d0f_11ed_9c19_88e9fe6f0718row2_col0\" class=\"data row2 col0\" >baz</td>\n",
       "                        <td id=\"T_748d4e46_9d0f_11ed_9c19_88e9fe6f0718row2_col1\" class=\"data row2 col1\" >7</td>\n",
       "            </tr>\n",
       "            <tr>\n",
       "                        <th id=\"T_748d4e46_9d0f_11ed_9c19_88e9fe6f0718level0_row3\" class=\"row_heading level0 row3\" >3</th>\n",
       "                        <td id=\"T_748d4e46_9d0f_11ed_9c19_88e9fe6f0718row3_col0\" class=\"data row3 col0\" >foo</td>\n",
       "                        <td id=\"T_748d4e46_9d0f_11ed_9c19_88e9fe6f0718row3_col1\" class=\"data row3 col1\" >8</td>\n",
       "            </tr>\n",
       "    </tbody></table>"
      ]
     },
     "metadata": {},
     "output_type": "display_data"
    }
   ],
   "source": [
    "df1_styler = df1_docs.style.set_table_attributes(\"style='display:inline'\").set_caption('Left table')\n",
    "df2_styler = df2_docs.style.set_table_attributes(\"style='display:inline'\").set_caption('Right table')\n",
    "\n",
    "display_html(df1_styler._repr_html_() +  \" \" + df2_styler._repr_html_(), raw=True)"
   ]
  },
  {
   "cell_type": "markdown",
   "id": "0dda9802",
   "metadata": {},
   "source": [
    "#### Concatenating in two different columns"
   ]
  },
  {
   "cell_type": "code",
   "execution_count": 67,
   "id": "b40c7ccf",
   "metadata": {},
   "outputs": [
    {
     "data": {
      "text/html": [
       "<style  type=\"text/css\" >\n",
       "</style><table id=\"T_74d6a26c_9d0f_11ed_9c19_88e9fe6f0718\" style='display:inline'><caption>Left table</caption><thead>    <tr>        <th class=\"blank level0\" ></th>        <th class=\"col_heading level0 col0\" >lkey</th>        <th class=\"col_heading level0 col1\" >value</th>    </tr></thead><tbody>\n",
       "                <tr>\n",
       "                        <th id=\"T_74d6a26c_9d0f_11ed_9c19_88e9fe6f0718level0_row0\" class=\"row_heading level0 row0\" >0</th>\n",
       "                        <td id=\"T_74d6a26c_9d0f_11ed_9c19_88e9fe6f0718row0_col0\" class=\"data row0 col0\" >foo</td>\n",
       "                        <td id=\"T_74d6a26c_9d0f_11ed_9c19_88e9fe6f0718row0_col1\" class=\"data row0 col1\" >1</td>\n",
       "            </tr>\n",
       "            <tr>\n",
       "                        <th id=\"T_74d6a26c_9d0f_11ed_9c19_88e9fe6f0718level0_row1\" class=\"row_heading level0 row1\" >1</th>\n",
       "                        <td id=\"T_74d6a26c_9d0f_11ed_9c19_88e9fe6f0718row1_col0\" class=\"data row1 col0\" >bar</td>\n",
       "                        <td id=\"T_74d6a26c_9d0f_11ed_9c19_88e9fe6f0718row1_col1\" class=\"data row1 col1\" >2</td>\n",
       "            </tr>\n",
       "            <tr>\n",
       "                        <th id=\"T_74d6a26c_9d0f_11ed_9c19_88e9fe6f0718level0_row2\" class=\"row_heading level0 row2\" >2</th>\n",
       "                        <td id=\"T_74d6a26c_9d0f_11ed_9c19_88e9fe6f0718row2_col0\" class=\"data row2 col0\" >baz</td>\n",
       "                        <td id=\"T_74d6a26c_9d0f_11ed_9c19_88e9fe6f0718row2_col1\" class=\"data row2 col1\" >3</td>\n",
       "            </tr>\n",
       "            <tr>\n",
       "                        <th id=\"T_74d6a26c_9d0f_11ed_9c19_88e9fe6f0718level0_row3\" class=\"row_heading level0 row3\" >3</th>\n",
       "                        <td id=\"T_74d6a26c_9d0f_11ed_9c19_88e9fe6f0718row3_col0\" class=\"data row3 col0\" >foo</td>\n",
       "                        <td id=\"T_74d6a26c_9d0f_11ed_9c19_88e9fe6f0718row3_col1\" class=\"data row3 col1\" >5</td>\n",
       "            </tr>\n",
       "    </tbody></table> <style  type=\"text/css\" >\n",
       "</style><table id=\"T_74d6ea56_9d0f_11ed_9c19_88e9fe6f0718\" style='display:inline'><caption>Right table</caption><thead>    <tr>        <th class=\"blank level0\" ></th>        <th class=\"col_heading level0 col0\" >rkey</th>        <th class=\"col_heading level0 col1\" >value</th>    </tr></thead><tbody>\n",
       "                <tr>\n",
       "                        <th id=\"T_74d6ea56_9d0f_11ed_9c19_88e9fe6f0718level0_row0\" class=\"row_heading level0 row0\" >0</th>\n",
       "                        <td id=\"T_74d6ea56_9d0f_11ed_9c19_88e9fe6f0718row0_col0\" class=\"data row0 col0\" >foo</td>\n",
       "                        <td id=\"T_74d6ea56_9d0f_11ed_9c19_88e9fe6f0718row0_col1\" class=\"data row0 col1\" >5</td>\n",
       "            </tr>\n",
       "            <tr>\n",
       "                        <th id=\"T_74d6ea56_9d0f_11ed_9c19_88e9fe6f0718level0_row1\" class=\"row_heading level0 row1\" >1</th>\n",
       "                        <td id=\"T_74d6ea56_9d0f_11ed_9c19_88e9fe6f0718row1_col0\" class=\"data row1 col0\" >bar</td>\n",
       "                        <td id=\"T_74d6ea56_9d0f_11ed_9c19_88e9fe6f0718row1_col1\" class=\"data row1 col1\" >6</td>\n",
       "            </tr>\n",
       "            <tr>\n",
       "                        <th id=\"T_74d6ea56_9d0f_11ed_9c19_88e9fe6f0718level0_row2\" class=\"row_heading level0 row2\" >2</th>\n",
       "                        <td id=\"T_74d6ea56_9d0f_11ed_9c19_88e9fe6f0718row2_col0\" class=\"data row2 col0\" >baz</td>\n",
       "                        <td id=\"T_74d6ea56_9d0f_11ed_9c19_88e9fe6f0718row2_col1\" class=\"data row2 col1\" >7</td>\n",
       "            </tr>\n",
       "            <tr>\n",
       "                        <th id=\"T_74d6ea56_9d0f_11ed_9c19_88e9fe6f0718level0_row3\" class=\"row_heading level0 row3\" >3</th>\n",
       "                        <td id=\"T_74d6ea56_9d0f_11ed_9c19_88e9fe6f0718row3_col0\" class=\"data row3 col0\" >foo</td>\n",
       "                        <td id=\"T_74d6ea56_9d0f_11ed_9c19_88e9fe6f0718row3_col1\" class=\"data row3 col1\" >8</td>\n",
       "            </tr>\n",
       "    </tbody></table>"
      ]
     },
     "metadata": {},
     "output_type": "display_data"
    }
   ],
   "source": [
    "concat_docs = pd.concat([df1_docs, df2_docs], axis=1, keys=[\"1st table\", \"2nd table\"])\n",
    "\n",
    "df1_styler = df1_docs.style.set_table_attributes(\"style='display:inline'\").set_caption('Left table')\n",
    "df2_styler = df2_docs.style.set_table_attributes(\"style='display:inline'\").set_caption('Right table')\n",
    "merge_styler = concat_docs.style.set_table_attributes(\"style='display:inline'\").set_caption('concat_docs')\n",
    "\n",
    "display_html(df1_styler._repr_html_() +  \" \" + df2_styler._repr_html_(), raw=True)"
   ]
  },
  {
   "cell_type": "code",
   "execution_count": 68,
   "id": "387e9a7d",
   "metadata": {},
   "outputs": [
    {
     "data": {
      "text/html": [
       "<style  type=\"text/css\" >\n",
       "</style><table id=\"T_74f54c9e_9d0f_11ed_9c19_88e9fe6f0718\" style='display:inline'><caption>concat_docs</caption><thead>    <tr>        <th class=\"blank level0\" ></th>        <th class=\"col_heading level0 col0\" colspan=2>1st table</th>        <th class=\"col_heading level0 col2\" colspan=2>2nd table</th>    </tr>    <tr>        <th class=\"blank level1\" ></th>        <th class=\"col_heading level1 col0\" >lkey</th>        <th class=\"col_heading level1 col1\" >value</th>        <th class=\"col_heading level1 col2\" >rkey</th>        <th class=\"col_heading level1 col3\" >value</th>    </tr></thead><tbody>\n",
       "                <tr>\n",
       "                        <th id=\"T_74f54c9e_9d0f_11ed_9c19_88e9fe6f0718level0_row0\" class=\"row_heading level0 row0\" >0</th>\n",
       "                        <td id=\"T_74f54c9e_9d0f_11ed_9c19_88e9fe6f0718row0_col0\" class=\"data row0 col0\" >foo</td>\n",
       "                        <td id=\"T_74f54c9e_9d0f_11ed_9c19_88e9fe6f0718row0_col1\" class=\"data row0 col1\" >1</td>\n",
       "                        <td id=\"T_74f54c9e_9d0f_11ed_9c19_88e9fe6f0718row0_col2\" class=\"data row0 col2\" >foo</td>\n",
       "                        <td id=\"T_74f54c9e_9d0f_11ed_9c19_88e9fe6f0718row0_col3\" class=\"data row0 col3\" >5</td>\n",
       "            </tr>\n",
       "            <tr>\n",
       "                        <th id=\"T_74f54c9e_9d0f_11ed_9c19_88e9fe6f0718level0_row1\" class=\"row_heading level0 row1\" >1</th>\n",
       "                        <td id=\"T_74f54c9e_9d0f_11ed_9c19_88e9fe6f0718row1_col0\" class=\"data row1 col0\" >bar</td>\n",
       "                        <td id=\"T_74f54c9e_9d0f_11ed_9c19_88e9fe6f0718row1_col1\" class=\"data row1 col1\" >2</td>\n",
       "                        <td id=\"T_74f54c9e_9d0f_11ed_9c19_88e9fe6f0718row1_col2\" class=\"data row1 col2\" >bar</td>\n",
       "                        <td id=\"T_74f54c9e_9d0f_11ed_9c19_88e9fe6f0718row1_col3\" class=\"data row1 col3\" >6</td>\n",
       "            </tr>\n",
       "            <tr>\n",
       "                        <th id=\"T_74f54c9e_9d0f_11ed_9c19_88e9fe6f0718level0_row2\" class=\"row_heading level0 row2\" >2</th>\n",
       "                        <td id=\"T_74f54c9e_9d0f_11ed_9c19_88e9fe6f0718row2_col0\" class=\"data row2 col0\" >baz</td>\n",
       "                        <td id=\"T_74f54c9e_9d0f_11ed_9c19_88e9fe6f0718row2_col1\" class=\"data row2 col1\" >3</td>\n",
       "                        <td id=\"T_74f54c9e_9d0f_11ed_9c19_88e9fe6f0718row2_col2\" class=\"data row2 col2\" >baz</td>\n",
       "                        <td id=\"T_74f54c9e_9d0f_11ed_9c19_88e9fe6f0718row2_col3\" class=\"data row2 col3\" >7</td>\n",
       "            </tr>\n",
       "            <tr>\n",
       "                        <th id=\"T_74f54c9e_9d0f_11ed_9c19_88e9fe6f0718level0_row3\" class=\"row_heading level0 row3\" >3</th>\n",
       "                        <td id=\"T_74f54c9e_9d0f_11ed_9c19_88e9fe6f0718row3_col0\" class=\"data row3 col0\" >foo</td>\n",
       "                        <td id=\"T_74f54c9e_9d0f_11ed_9c19_88e9fe6f0718row3_col1\" class=\"data row3 col1\" >5</td>\n",
       "                        <td id=\"T_74f54c9e_9d0f_11ed_9c19_88e9fe6f0718row3_col2\" class=\"data row3 col2\" >foo</td>\n",
       "                        <td id=\"T_74f54c9e_9d0f_11ed_9c19_88e9fe6f0718row3_col3\" class=\"data row3 col3\" >8</td>\n",
       "            </tr>\n",
       "    </tbody></table>"
      ]
     },
     "metadata": {},
     "output_type": "display_data"
    }
   ],
   "source": [
    "display_html(merge_styler._repr_html_(), raw=True)"
   ]
  },
  {
   "cell_type": "markdown",
   "id": "156a8141",
   "metadata": {},
   "source": [
    "#### Merging in two different columns"
   ]
  },
  {
   "cell_type": "code",
   "execution_count": 69,
   "id": "8fb65cb5",
   "metadata": {},
   "outputs": [
    {
     "data": {
      "text/html": [
       "<style  type=\"text/css\" >\n",
       "</style><table id=\"T_753d52e6_9d0f_11ed_9c19_88e9fe6f0718\" style='display:inline'><caption>Left table</caption><thead>    <tr>        <th class=\"blank level0\" ></th>        <th class=\"col_heading level0 col0\" >lkey</th>        <th class=\"col_heading level0 col1\" >value</th>    </tr></thead><tbody>\n",
       "                <tr>\n",
       "                        <th id=\"T_753d52e6_9d0f_11ed_9c19_88e9fe6f0718level0_row0\" class=\"row_heading level0 row0\" >0</th>\n",
       "                        <td id=\"T_753d52e6_9d0f_11ed_9c19_88e9fe6f0718row0_col0\" class=\"data row0 col0\" >foo</td>\n",
       "                        <td id=\"T_753d52e6_9d0f_11ed_9c19_88e9fe6f0718row0_col1\" class=\"data row0 col1\" >1</td>\n",
       "            </tr>\n",
       "            <tr>\n",
       "                        <th id=\"T_753d52e6_9d0f_11ed_9c19_88e9fe6f0718level0_row1\" class=\"row_heading level0 row1\" >1</th>\n",
       "                        <td id=\"T_753d52e6_9d0f_11ed_9c19_88e9fe6f0718row1_col0\" class=\"data row1 col0\" >bar</td>\n",
       "                        <td id=\"T_753d52e6_9d0f_11ed_9c19_88e9fe6f0718row1_col1\" class=\"data row1 col1\" >2</td>\n",
       "            </tr>\n",
       "            <tr>\n",
       "                        <th id=\"T_753d52e6_9d0f_11ed_9c19_88e9fe6f0718level0_row2\" class=\"row_heading level0 row2\" >2</th>\n",
       "                        <td id=\"T_753d52e6_9d0f_11ed_9c19_88e9fe6f0718row2_col0\" class=\"data row2 col0\" >baz</td>\n",
       "                        <td id=\"T_753d52e6_9d0f_11ed_9c19_88e9fe6f0718row2_col1\" class=\"data row2 col1\" >3</td>\n",
       "            </tr>\n",
       "            <tr>\n",
       "                        <th id=\"T_753d52e6_9d0f_11ed_9c19_88e9fe6f0718level0_row3\" class=\"row_heading level0 row3\" >3</th>\n",
       "                        <td id=\"T_753d52e6_9d0f_11ed_9c19_88e9fe6f0718row3_col0\" class=\"data row3 col0\" >foo</td>\n",
       "                        <td id=\"T_753d52e6_9d0f_11ed_9c19_88e9fe6f0718row3_col1\" class=\"data row3 col1\" >5</td>\n",
       "            </tr>\n",
       "    </tbody></table> <style  type=\"text/css\" >\n",
       "</style><table id=\"T_753d7a64_9d0f_11ed_9c19_88e9fe6f0718\" style='display:inline'><caption>Right table</caption><thead>    <tr>        <th class=\"blank level0\" ></th>        <th class=\"col_heading level0 col0\" >rkey</th>        <th class=\"col_heading level0 col1\" >value</th>    </tr></thead><tbody>\n",
       "                <tr>\n",
       "                        <th id=\"T_753d7a64_9d0f_11ed_9c19_88e9fe6f0718level0_row0\" class=\"row_heading level0 row0\" >0</th>\n",
       "                        <td id=\"T_753d7a64_9d0f_11ed_9c19_88e9fe6f0718row0_col0\" class=\"data row0 col0\" >foo</td>\n",
       "                        <td id=\"T_753d7a64_9d0f_11ed_9c19_88e9fe6f0718row0_col1\" class=\"data row0 col1\" >5</td>\n",
       "            </tr>\n",
       "            <tr>\n",
       "                        <th id=\"T_753d7a64_9d0f_11ed_9c19_88e9fe6f0718level0_row1\" class=\"row_heading level0 row1\" >1</th>\n",
       "                        <td id=\"T_753d7a64_9d0f_11ed_9c19_88e9fe6f0718row1_col0\" class=\"data row1 col0\" >bar</td>\n",
       "                        <td id=\"T_753d7a64_9d0f_11ed_9c19_88e9fe6f0718row1_col1\" class=\"data row1 col1\" >6</td>\n",
       "            </tr>\n",
       "            <tr>\n",
       "                        <th id=\"T_753d7a64_9d0f_11ed_9c19_88e9fe6f0718level0_row2\" class=\"row_heading level0 row2\" >2</th>\n",
       "                        <td id=\"T_753d7a64_9d0f_11ed_9c19_88e9fe6f0718row2_col0\" class=\"data row2 col0\" >baz</td>\n",
       "                        <td id=\"T_753d7a64_9d0f_11ed_9c19_88e9fe6f0718row2_col1\" class=\"data row2 col1\" >7</td>\n",
       "            </tr>\n",
       "            <tr>\n",
       "                        <th id=\"T_753d7a64_9d0f_11ed_9c19_88e9fe6f0718level0_row3\" class=\"row_heading level0 row3\" >3</th>\n",
       "                        <td id=\"T_753d7a64_9d0f_11ed_9c19_88e9fe6f0718row3_col0\" class=\"data row3 col0\" >foo</td>\n",
       "                        <td id=\"T_753d7a64_9d0f_11ed_9c19_88e9fe6f0718row3_col1\" class=\"data row3 col1\" >8</td>\n",
       "            </tr>\n",
       "    </tbody></table>"
      ]
     },
     "metadata": {},
     "output_type": "display_data"
    }
   ],
   "source": [
    "df1_styler = df1_docs.style.set_table_attributes(\"style='display:inline'\").set_caption('Left table')\n",
    "df2_styler = df2_docs.style.set_table_attributes(\"style='display:inline'\").set_caption('Right table')\n",
    "\n",
    "display_html(df1_styler._repr_html_() +  \" \" + df2_styler._repr_html_(), raw=True)"
   ]
  },
  {
   "cell_type": "code",
   "execution_count": 70,
   "id": "c8d3a53c",
   "metadata": {},
   "outputs": [],
   "source": [
    "merge_docs = df1_docs.merge(df2_docs, left_on='lkey', right_on='rkey', suffixes = [\"_fromleft\", \"_fromright\"])"
   ]
  },
  {
   "cell_type": "code",
   "execution_count": 71,
   "id": "893ba4c2",
   "metadata": {},
   "outputs": [
    {
     "data": {
      "text/html": [
       "<style  type=\"text/css\" >\n",
       "</style><table id=\"T_75896f14_9d0f_11ed_9c19_88e9fe6f0718\" style='display:inline'><caption>Left table</caption><thead>    <tr>        <th class=\"blank level0\" ></th>        <th class=\"col_heading level0 col0\" >lkey</th>        <th class=\"col_heading level0 col1\" >value</th>    </tr></thead><tbody>\n",
       "                <tr>\n",
       "                        <th id=\"T_75896f14_9d0f_11ed_9c19_88e9fe6f0718level0_row0\" class=\"row_heading level0 row0\" >0</th>\n",
       "                        <td id=\"T_75896f14_9d0f_11ed_9c19_88e9fe6f0718row0_col0\" class=\"data row0 col0\" >foo</td>\n",
       "                        <td id=\"T_75896f14_9d0f_11ed_9c19_88e9fe6f0718row0_col1\" class=\"data row0 col1\" >1</td>\n",
       "            </tr>\n",
       "            <tr>\n",
       "                        <th id=\"T_75896f14_9d0f_11ed_9c19_88e9fe6f0718level0_row1\" class=\"row_heading level0 row1\" >1</th>\n",
       "                        <td id=\"T_75896f14_9d0f_11ed_9c19_88e9fe6f0718row1_col0\" class=\"data row1 col0\" >bar</td>\n",
       "                        <td id=\"T_75896f14_9d0f_11ed_9c19_88e9fe6f0718row1_col1\" class=\"data row1 col1\" >2</td>\n",
       "            </tr>\n",
       "            <tr>\n",
       "                        <th id=\"T_75896f14_9d0f_11ed_9c19_88e9fe6f0718level0_row2\" class=\"row_heading level0 row2\" >2</th>\n",
       "                        <td id=\"T_75896f14_9d0f_11ed_9c19_88e9fe6f0718row2_col0\" class=\"data row2 col0\" >baz</td>\n",
       "                        <td id=\"T_75896f14_9d0f_11ed_9c19_88e9fe6f0718row2_col1\" class=\"data row2 col1\" >3</td>\n",
       "            </tr>\n",
       "            <tr>\n",
       "                        <th id=\"T_75896f14_9d0f_11ed_9c19_88e9fe6f0718level0_row3\" class=\"row_heading level0 row3\" >3</th>\n",
       "                        <td id=\"T_75896f14_9d0f_11ed_9c19_88e9fe6f0718row3_col0\" class=\"data row3 col0\" >foo</td>\n",
       "                        <td id=\"T_75896f14_9d0f_11ed_9c19_88e9fe6f0718row3_col1\" class=\"data row3 col1\" >5</td>\n",
       "            </tr>\n",
       "    </tbody></table> <style  type=\"text/css\" >\n",
       "</style><table id=\"T_75899246_9d0f_11ed_9c19_88e9fe6f0718\" style='display:inline'><caption>Right table</caption><thead>    <tr>        <th class=\"blank level0\" ></th>        <th class=\"col_heading level0 col0\" >rkey</th>        <th class=\"col_heading level0 col1\" >value</th>    </tr></thead><tbody>\n",
       "                <tr>\n",
       "                        <th id=\"T_75899246_9d0f_11ed_9c19_88e9fe6f0718level0_row0\" class=\"row_heading level0 row0\" >0</th>\n",
       "                        <td id=\"T_75899246_9d0f_11ed_9c19_88e9fe6f0718row0_col0\" class=\"data row0 col0\" >foo</td>\n",
       "                        <td id=\"T_75899246_9d0f_11ed_9c19_88e9fe6f0718row0_col1\" class=\"data row0 col1\" >5</td>\n",
       "            </tr>\n",
       "            <tr>\n",
       "                        <th id=\"T_75899246_9d0f_11ed_9c19_88e9fe6f0718level0_row1\" class=\"row_heading level0 row1\" >1</th>\n",
       "                        <td id=\"T_75899246_9d0f_11ed_9c19_88e9fe6f0718row1_col0\" class=\"data row1 col0\" >bar</td>\n",
       "                        <td id=\"T_75899246_9d0f_11ed_9c19_88e9fe6f0718row1_col1\" class=\"data row1 col1\" >6</td>\n",
       "            </tr>\n",
       "            <tr>\n",
       "                        <th id=\"T_75899246_9d0f_11ed_9c19_88e9fe6f0718level0_row2\" class=\"row_heading level0 row2\" >2</th>\n",
       "                        <td id=\"T_75899246_9d0f_11ed_9c19_88e9fe6f0718row2_col0\" class=\"data row2 col0\" >baz</td>\n",
       "                        <td id=\"T_75899246_9d0f_11ed_9c19_88e9fe6f0718row2_col1\" class=\"data row2 col1\" >7</td>\n",
       "            </tr>\n",
       "            <tr>\n",
       "                        <th id=\"T_75899246_9d0f_11ed_9c19_88e9fe6f0718level0_row3\" class=\"row_heading level0 row3\" >3</th>\n",
       "                        <td id=\"T_75899246_9d0f_11ed_9c19_88e9fe6f0718row3_col0\" class=\"data row3 col0\" >foo</td>\n",
       "                        <td id=\"T_75899246_9d0f_11ed_9c19_88e9fe6f0718row3_col1\" class=\"data row3 col1\" >8</td>\n",
       "            </tr>\n",
       "    </tbody></table>"
      ]
     },
     "metadata": {},
     "output_type": "display_data"
    }
   ],
   "source": [
    "merge_docs = df1_docs.merge(df2_docs, left_on='lkey', right_on='rkey', suffixes = [\"_from_left\", \"_from_right\"])\n",
    "\n",
    "\n",
    "df1_styler = df1_docs.style.set_table_attributes(\"style='display:inline'\").set_caption('Left table')\n",
    "df2_styler = df2_docs.style.set_table_attributes(\"style='display:inline'\").set_caption('Right table')\n",
    "merge_styler = merge_docs.style.set_table_attributes(\"style='display:inline'\").set_caption('merge_docs')\n",
    "\n",
    "display_html(df1_styler._repr_html_() + \" \" + df2_styler._repr_html_(), raw=True)"
   ]
  },
  {
   "cell_type": "code",
   "execution_count": 72,
   "id": "8d2c6ec3",
   "metadata": {},
   "outputs": [
    {
     "data": {
      "text/html": [
       "<style  type=\"text/css\" >\n",
       "</style><table id=\"T_75bc5988_9d0f_11ed_9c19_88e9fe6f0718\" style='display:inline'><caption>merge_docs</caption><thead>    <tr>        <th class=\"blank level0\" ></th>        <th class=\"col_heading level0 col0\" >lkey</th>        <th class=\"col_heading level0 col1\" >value_from_left</th>        <th class=\"col_heading level0 col2\" >rkey</th>        <th class=\"col_heading level0 col3\" >value_from_right</th>    </tr></thead><tbody>\n",
       "                <tr>\n",
       "                        <th id=\"T_75bc5988_9d0f_11ed_9c19_88e9fe6f0718level0_row0\" class=\"row_heading level0 row0\" >0</th>\n",
       "                        <td id=\"T_75bc5988_9d0f_11ed_9c19_88e9fe6f0718row0_col0\" class=\"data row0 col0\" >foo</td>\n",
       "                        <td id=\"T_75bc5988_9d0f_11ed_9c19_88e9fe6f0718row0_col1\" class=\"data row0 col1\" >1</td>\n",
       "                        <td id=\"T_75bc5988_9d0f_11ed_9c19_88e9fe6f0718row0_col2\" class=\"data row0 col2\" >foo</td>\n",
       "                        <td id=\"T_75bc5988_9d0f_11ed_9c19_88e9fe6f0718row0_col3\" class=\"data row0 col3\" >5</td>\n",
       "            </tr>\n",
       "            <tr>\n",
       "                        <th id=\"T_75bc5988_9d0f_11ed_9c19_88e9fe6f0718level0_row1\" class=\"row_heading level0 row1\" >1</th>\n",
       "                        <td id=\"T_75bc5988_9d0f_11ed_9c19_88e9fe6f0718row1_col0\" class=\"data row1 col0\" >foo</td>\n",
       "                        <td id=\"T_75bc5988_9d0f_11ed_9c19_88e9fe6f0718row1_col1\" class=\"data row1 col1\" >1</td>\n",
       "                        <td id=\"T_75bc5988_9d0f_11ed_9c19_88e9fe6f0718row1_col2\" class=\"data row1 col2\" >foo</td>\n",
       "                        <td id=\"T_75bc5988_9d0f_11ed_9c19_88e9fe6f0718row1_col3\" class=\"data row1 col3\" >8</td>\n",
       "            </tr>\n",
       "            <tr>\n",
       "                        <th id=\"T_75bc5988_9d0f_11ed_9c19_88e9fe6f0718level0_row2\" class=\"row_heading level0 row2\" >2</th>\n",
       "                        <td id=\"T_75bc5988_9d0f_11ed_9c19_88e9fe6f0718row2_col0\" class=\"data row2 col0\" >foo</td>\n",
       "                        <td id=\"T_75bc5988_9d0f_11ed_9c19_88e9fe6f0718row2_col1\" class=\"data row2 col1\" >5</td>\n",
       "                        <td id=\"T_75bc5988_9d0f_11ed_9c19_88e9fe6f0718row2_col2\" class=\"data row2 col2\" >foo</td>\n",
       "                        <td id=\"T_75bc5988_9d0f_11ed_9c19_88e9fe6f0718row2_col3\" class=\"data row2 col3\" >5</td>\n",
       "            </tr>\n",
       "            <tr>\n",
       "                        <th id=\"T_75bc5988_9d0f_11ed_9c19_88e9fe6f0718level0_row3\" class=\"row_heading level0 row3\" >3</th>\n",
       "                        <td id=\"T_75bc5988_9d0f_11ed_9c19_88e9fe6f0718row3_col0\" class=\"data row3 col0\" >foo</td>\n",
       "                        <td id=\"T_75bc5988_9d0f_11ed_9c19_88e9fe6f0718row3_col1\" class=\"data row3 col1\" >5</td>\n",
       "                        <td id=\"T_75bc5988_9d0f_11ed_9c19_88e9fe6f0718row3_col2\" class=\"data row3 col2\" >foo</td>\n",
       "                        <td id=\"T_75bc5988_9d0f_11ed_9c19_88e9fe6f0718row3_col3\" class=\"data row3 col3\" >8</td>\n",
       "            </tr>\n",
       "            <tr>\n",
       "                        <th id=\"T_75bc5988_9d0f_11ed_9c19_88e9fe6f0718level0_row4\" class=\"row_heading level0 row4\" >4</th>\n",
       "                        <td id=\"T_75bc5988_9d0f_11ed_9c19_88e9fe6f0718row4_col0\" class=\"data row4 col0\" >bar</td>\n",
       "                        <td id=\"T_75bc5988_9d0f_11ed_9c19_88e9fe6f0718row4_col1\" class=\"data row4 col1\" >2</td>\n",
       "                        <td id=\"T_75bc5988_9d0f_11ed_9c19_88e9fe6f0718row4_col2\" class=\"data row4 col2\" >bar</td>\n",
       "                        <td id=\"T_75bc5988_9d0f_11ed_9c19_88e9fe6f0718row4_col3\" class=\"data row4 col3\" >6</td>\n",
       "            </tr>\n",
       "            <tr>\n",
       "                        <th id=\"T_75bc5988_9d0f_11ed_9c19_88e9fe6f0718level0_row5\" class=\"row_heading level0 row5\" >5</th>\n",
       "                        <td id=\"T_75bc5988_9d0f_11ed_9c19_88e9fe6f0718row5_col0\" class=\"data row5 col0\" >baz</td>\n",
       "                        <td id=\"T_75bc5988_9d0f_11ed_9c19_88e9fe6f0718row5_col1\" class=\"data row5 col1\" >3</td>\n",
       "                        <td id=\"T_75bc5988_9d0f_11ed_9c19_88e9fe6f0718row5_col2\" class=\"data row5 col2\" >baz</td>\n",
       "                        <td id=\"T_75bc5988_9d0f_11ed_9c19_88e9fe6f0718row5_col3\" class=\"data row5 col3\" >7</td>\n",
       "            </tr>\n",
       "    </tbody></table>"
      ]
     },
     "metadata": {},
     "output_type": "display_data"
    }
   ],
   "source": [
    "display_html(merge_styler._repr_html_(), raw=True)"
   ]
  },
  {
   "cell_type": "code",
   "execution_count": 73,
   "id": "9f9262e4",
   "metadata": {},
   "outputs": [],
   "source": [
    "# suffixes: https://pandas.pydata.org/docs/reference/api/pandas.DataFrame.merge.html"
   ]
  },
  {
   "cell_type": "code",
   "execution_count": 74,
   "id": "7f78e514",
   "metadata": {},
   "outputs": [],
   "source": [
    "# concat: putting things together\n",
    "# join/merge: putting things together THAT ARE RELATED\n",
    "    # related info in the same place -> reduces redundancy"
   ]
  },
  {
   "cell_type": "markdown",
   "id": "5e952e34",
   "metadata": {
    "lang": "en"
   },
   "source": [
    "### Join: relating index\n",
    "The join, unlike the merge, will join the dataframes and where there are no records in the \"index\" it will put NaN"
   ]
  },
  {
   "cell_type": "code",
   "execution_count": 182,
   "id": "7d4660ec",
   "metadata": {},
   "outputs": [],
   "source": [
    "import numpy as np\n",
    "import pandas as pd   \n",
    "from IPython.display import display_html "
   ]
  },
  {
   "cell_type": "code",
   "execution_count": 183,
   "id": "e56efa8f",
   "metadata": {},
   "outputs": [],
   "source": [
    "left_df = pd.DataFrame(\n",
    "    {\"A\": [\"A0\", \"A1\", \"A2\"], \"B\": [\"B0\", \"B1\", \"B2\"]}, index=[\"K0\", \"K1\", \"K2\"]\n",
    ")\n",
    "\n",
    "\n",
    "right_df = pd.DataFrame(\n",
    "    {\"C\": [\"C0\", \"C2\", \"C3\"], \"D\": [\"D0\", \"D2\", \"D3\"]}, index=[\"K0\", \"K2\", \"K3\"]\n",
    ")"
   ]
  },
  {
   "cell_type": "code",
   "execution_count": 184,
   "id": "081741f1",
   "metadata": {},
   "outputs": [
    {
     "data": {
      "text/html": [
       "<style  type=\"text/css\" >\n",
       "</style><table id=\"T_316fbfc6_9d79_11ed_9c19_88e9fe6f0718\" style='display:inline'><caption>Left table</caption><thead>    <tr>        <th class=\"blank level0\" ></th>        <th class=\"col_heading level0 col0\" >A</th>        <th class=\"col_heading level0 col1\" >B</th>    </tr></thead><tbody>\n",
       "                <tr>\n",
       "                        <th id=\"T_316fbfc6_9d79_11ed_9c19_88e9fe6f0718level0_row0\" class=\"row_heading level0 row0\" >K0</th>\n",
       "                        <td id=\"T_316fbfc6_9d79_11ed_9c19_88e9fe6f0718row0_col0\" class=\"data row0 col0\" >A0</td>\n",
       "                        <td id=\"T_316fbfc6_9d79_11ed_9c19_88e9fe6f0718row0_col1\" class=\"data row0 col1\" >B0</td>\n",
       "            </tr>\n",
       "            <tr>\n",
       "                        <th id=\"T_316fbfc6_9d79_11ed_9c19_88e9fe6f0718level0_row1\" class=\"row_heading level0 row1\" >K1</th>\n",
       "                        <td id=\"T_316fbfc6_9d79_11ed_9c19_88e9fe6f0718row1_col0\" class=\"data row1 col0\" >A1</td>\n",
       "                        <td id=\"T_316fbfc6_9d79_11ed_9c19_88e9fe6f0718row1_col1\" class=\"data row1 col1\" >B1</td>\n",
       "            </tr>\n",
       "            <tr>\n",
       "                        <th id=\"T_316fbfc6_9d79_11ed_9c19_88e9fe6f0718level0_row2\" class=\"row_heading level0 row2\" >K2</th>\n",
       "                        <td id=\"T_316fbfc6_9d79_11ed_9c19_88e9fe6f0718row2_col0\" class=\"data row2 col0\" >A2</td>\n",
       "                        <td id=\"T_316fbfc6_9d79_11ed_9c19_88e9fe6f0718row2_col1\" class=\"data row2 col1\" >B2</td>\n",
       "            </tr>\n",
       "    </tbody></table><style  type=\"text/css\" >\n",
       "</style><table id=\"T_3170385c_9d79_11ed_9c19_88e9fe6f0718\" style='display:inline'><caption>Right table</caption><thead>    <tr>        <th class=\"blank level0\" ></th>        <th class=\"col_heading level0 col0\" >C</th>        <th class=\"col_heading level0 col1\" >D</th>    </tr></thead><tbody>\n",
       "                <tr>\n",
       "                        <th id=\"T_3170385c_9d79_11ed_9c19_88e9fe6f0718level0_row0\" class=\"row_heading level0 row0\" >K0</th>\n",
       "                        <td id=\"T_3170385c_9d79_11ed_9c19_88e9fe6f0718row0_col0\" class=\"data row0 col0\" >C0</td>\n",
       "                        <td id=\"T_3170385c_9d79_11ed_9c19_88e9fe6f0718row0_col1\" class=\"data row0 col1\" >D0</td>\n",
       "            </tr>\n",
       "            <tr>\n",
       "                        <th id=\"T_3170385c_9d79_11ed_9c19_88e9fe6f0718level0_row1\" class=\"row_heading level0 row1\" >K2</th>\n",
       "                        <td id=\"T_3170385c_9d79_11ed_9c19_88e9fe6f0718row1_col0\" class=\"data row1 col0\" >C2</td>\n",
       "                        <td id=\"T_3170385c_9d79_11ed_9c19_88e9fe6f0718row1_col1\" class=\"data row1 col1\" >D2</td>\n",
       "            </tr>\n",
       "            <tr>\n",
       "                        <th id=\"T_3170385c_9d79_11ed_9c19_88e9fe6f0718level0_row2\" class=\"row_heading level0 row2\" >K3</th>\n",
       "                        <td id=\"T_3170385c_9d79_11ed_9c19_88e9fe6f0718row2_col0\" class=\"data row2 col0\" >C3</td>\n",
       "                        <td id=\"T_3170385c_9d79_11ed_9c19_88e9fe6f0718row2_col1\" class=\"data row2 col1\" >D3</td>\n",
       "            </tr>\n",
       "    </tbody></table>"
      ]
     },
     "metadata": {},
     "output_type": "display_data"
    }
   ],
   "source": [
    "df1_styler = left_df.style.set_table_attributes(\"style='display:inline'\").set_caption('Left table')\n",
    "df2_styler = right_df.style.set_table_attributes(\"style='display:inline'\").set_caption('Right table')\n",
    "\n",
    "display_html(df1_styler._repr_html_()+ df2_styler._repr_html_(), raw=True)"
   ]
  },
  {
   "cell_type": "code",
   "execution_count": 78,
   "id": "d4599a11",
   "metadata": {},
   "outputs": [
    {
     "data": {
      "text/html": [
       "<style  type=\"text/css\" >\n",
       "</style><table id=\"T_a1a3b4ce_9d0f_11ed_9c19_88e9fe6f0718\" style='display:inline'><caption>Left table</caption><thead>    <tr>        <th class=\"blank level0\" ></th>        <th class=\"col_heading level0 col0\" >A</th>        <th class=\"col_heading level0 col1\" >B</th>    </tr></thead><tbody>\n",
       "                <tr>\n",
       "                        <th id=\"T_a1a3b4ce_9d0f_11ed_9c19_88e9fe6f0718level0_row0\" class=\"row_heading level0 row0\" >K0</th>\n",
       "                        <td id=\"T_a1a3b4ce_9d0f_11ed_9c19_88e9fe6f0718row0_col0\" class=\"data row0 col0\" >A0</td>\n",
       "                        <td id=\"T_a1a3b4ce_9d0f_11ed_9c19_88e9fe6f0718row0_col1\" class=\"data row0 col1\" >B0</td>\n",
       "            </tr>\n",
       "            <tr>\n",
       "                        <th id=\"T_a1a3b4ce_9d0f_11ed_9c19_88e9fe6f0718level0_row1\" class=\"row_heading level0 row1\" >K1</th>\n",
       "                        <td id=\"T_a1a3b4ce_9d0f_11ed_9c19_88e9fe6f0718row1_col0\" class=\"data row1 col0\" >A1</td>\n",
       "                        <td id=\"T_a1a3b4ce_9d0f_11ed_9c19_88e9fe6f0718row1_col1\" class=\"data row1 col1\" >B1</td>\n",
       "            </tr>\n",
       "            <tr>\n",
       "                        <th id=\"T_a1a3b4ce_9d0f_11ed_9c19_88e9fe6f0718level0_row2\" class=\"row_heading level0 row2\" >K2</th>\n",
       "                        <td id=\"T_a1a3b4ce_9d0f_11ed_9c19_88e9fe6f0718row2_col0\" class=\"data row2 col0\" >A2</td>\n",
       "                        <td id=\"T_a1a3b4ce_9d0f_11ed_9c19_88e9fe6f0718row2_col1\" class=\"data row2 col1\" >B2</td>\n",
       "            </tr>\n",
       "    </tbody></table><style  type=\"text/css\" >\n",
       "</style><table id=\"T_a1a3d5ee_9d0f_11ed_9c19_88e9fe6f0718\" style='display:inline'><caption>Right table</caption><thead>    <tr>        <th class=\"blank level0\" ></th>        <th class=\"col_heading level0 col0\" >C</th>        <th class=\"col_heading level0 col1\" >D</th>    </tr></thead><tbody>\n",
       "                <tr>\n",
       "                        <th id=\"T_a1a3d5ee_9d0f_11ed_9c19_88e9fe6f0718level0_row0\" class=\"row_heading level0 row0\" >K0</th>\n",
       "                        <td id=\"T_a1a3d5ee_9d0f_11ed_9c19_88e9fe6f0718row0_col0\" class=\"data row0 col0\" >C0</td>\n",
       "                        <td id=\"T_a1a3d5ee_9d0f_11ed_9c19_88e9fe6f0718row0_col1\" class=\"data row0 col1\" >D0</td>\n",
       "            </tr>\n",
       "            <tr>\n",
       "                        <th id=\"T_a1a3d5ee_9d0f_11ed_9c19_88e9fe6f0718level0_row1\" class=\"row_heading level0 row1\" >K2</th>\n",
       "                        <td id=\"T_a1a3d5ee_9d0f_11ed_9c19_88e9fe6f0718row1_col0\" class=\"data row1 col0\" >C2</td>\n",
       "                        <td id=\"T_a1a3d5ee_9d0f_11ed_9c19_88e9fe6f0718row1_col1\" class=\"data row1 col1\" >D2</td>\n",
       "            </tr>\n",
       "            <tr>\n",
       "                        <th id=\"T_a1a3d5ee_9d0f_11ed_9c19_88e9fe6f0718level0_row2\" class=\"row_heading level0 row2\" >K3</th>\n",
       "                        <td id=\"T_a1a3d5ee_9d0f_11ed_9c19_88e9fe6f0718row2_col0\" class=\"data row2 col0\" >C3</td>\n",
       "                        <td id=\"T_a1a3d5ee_9d0f_11ed_9c19_88e9fe6f0718row2_col1\" class=\"data row2 col1\" >D3</td>\n",
       "            </tr>\n",
       "    </tbody></table><style  type=\"text/css\" >\n",
       "</style><table id=\"T_a1a3f2a4_9d0f_11ed_9c19_88e9fe6f0718\" style='display:inline'><caption>JOIN</caption><thead>    <tr>        <th class=\"blank level0\" ></th>        <th class=\"col_heading level0 col0\" >A</th>        <th class=\"col_heading level0 col1\" >B</th>        <th class=\"col_heading level0 col2\" >C</th>        <th class=\"col_heading level0 col3\" >D</th>    </tr></thead><tbody>\n",
       "                <tr>\n",
       "                        <th id=\"T_a1a3f2a4_9d0f_11ed_9c19_88e9fe6f0718level0_row0\" class=\"row_heading level0 row0\" >K0</th>\n",
       "                        <td id=\"T_a1a3f2a4_9d0f_11ed_9c19_88e9fe6f0718row0_col0\" class=\"data row0 col0\" >A0</td>\n",
       "                        <td id=\"T_a1a3f2a4_9d0f_11ed_9c19_88e9fe6f0718row0_col1\" class=\"data row0 col1\" >B0</td>\n",
       "                        <td id=\"T_a1a3f2a4_9d0f_11ed_9c19_88e9fe6f0718row0_col2\" class=\"data row0 col2\" >C0</td>\n",
       "                        <td id=\"T_a1a3f2a4_9d0f_11ed_9c19_88e9fe6f0718row0_col3\" class=\"data row0 col3\" >D0</td>\n",
       "            </tr>\n",
       "            <tr>\n",
       "                        <th id=\"T_a1a3f2a4_9d0f_11ed_9c19_88e9fe6f0718level0_row1\" class=\"row_heading level0 row1\" >K2</th>\n",
       "                        <td id=\"T_a1a3f2a4_9d0f_11ed_9c19_88e9fe6f0718row1_col0\" class=\"data row1 col0\" >A2</td>\n",
       "                        <td id=\"T_a1a3f2a4_9d0f_11ed_9c19_88e9fe6f0718row1_col1\" class=\"data row1 col1\" >B2</td>\n",
       "                        <td id=\"T_a1a3f2a4_9d0f_11ed_9c19_88e9fe6f0718row1_col2\" class=\"data row1 col2\" >C2</td>\n",
       "                        <td id=\"T_a1a3f2a4_9d0f_11ed_9c19_88e9fe6f0718row1_col3\" class=\"data row1 col3\" >D2</td>\n",
       "            </tr>\n",
       "    </tbody></table>"
      ]
     },
     "metadata": {},
     "output_type": "display_data"
    }
   ],
   "source": [
    "result = left_df.join(right_df, how=\"inner\")\n",
    "\n",
    "#Rendering the df's in the same line. No need to learn this code\n",
    "\n",
    "df1_styler = left_df.style.set_table_attributes(\"style='display:inline'\").set_caption('Left table')\n",
    "df2_styler = right_df.style.set_table_attributes(\"style='display:inline'\").set_caption('Right table')\n",
    "df1_df2_merged = result.style.set_table_attributes(\"style='display:inline'\").set_caption('JOIN')\n",
    "\n",
    "display_html(df1_styler._repr_html_()+ df2_styler._repr_html_() + df1_df2_merged._repr_html_(), raw=True)\n",
    "#display_html(df1_styler._repr_html_()+ df2_styler._repr_html_(), raw=True)"
   ]
  },
  {
   "cell_type": "markdown",
   "id": "f3ad1415",
   "metadata": {},
   "source": [
    "### Differences between join & merge"
   ]
  },
  {
   "cell_type": "markdown",
   "id": "a158750f",
   "metadata": {},
   "source": [
    "<figure class=\"wp-block-table is-style-stripes\"><table class=\"has-fixed-layout\"><thead><tr><th><strong>Join Feature</strong></th><th class=\"has-text-align-center\" data-align=\"center\"><strong>join()</strong></th><th class=\"has-text-align-center\" data-align=\"center\"><strong>merge()</strong></th></tr></thead><tbody><tr><td>inner</td><td class=\"has-text-align-center\" data-align=\"center\">Yes</td><td class=\"has-text-align-center\" data-align=\"center\">Yes</td></tr><tr><td>left</td><td class=\"has-text-align-center\" data-align=\"center\">Yes</td><td class=\"has-text-align-center\" data-align=\"center\">Yes</td></tr><tr><td>right</td><td class=\"has-text-align-center\" data-align=\"center\">Yes</td><td class=\"has-text-align-center\" data-align=\"center\">Yes</td></tr><tr><td>outer</td><td class=\"has-text-align-center\" data-align=\"center\">Yes</td><td class=\"has-text-align-center\" data-align=\"center\">Yes</td></tr><tr><td>cross</td><td class=\"has-text-align-center\" data-align=\"center\">X</td><td class=\"has-text-align-center\" data-align=\"center\">Yes</td></tr><tr><td>Join on Indices</td><td class=\"has-text-align-center\" data-align=\"center\">Yes</td><td class=\"has-text-align-center\" data-align=\"center\">Yes</td></tr><tr><td>Join on Columns</td><td class=\"has-text-align-center\" data-align=\"center\">X</td><td class=\"has-text-align-center\" data-align=\"center\">Yes</td></tr><tr><td>Left on column, right on index</td><td class=\"has-text-align-center\" data-align=\"center\">Yes</td><td class=\"has-text-align-center\" data-align=\"center\">Yes</td></tr><tr><td>Left on index, right on column</td><td class=\"has-text-align-center\" data-align=\"center\">X</td><td class=\"has-text-align-center\" data-align=\"center\">Yes</td></tr></tbody></table>"
   ]
  },
  {
   "cell_type": "markdown",
   "id": "4f340806",
   "metadata": {
    "lang": "en"
   },
   "source": [
    "## Pandas usual methods\n",
    "```python\n",
    "df.head() # prints the head, default 5 rows\n",
    "df.tail() # set the tail, default 5 rows\n",
    "df.describe() # statistical description\n",
    "df.info() # df information\n",
    "df.columns # show column\n",
    "df.index # show index\n",
    "df.dtypes # show column data types\n",
    "df.plot() # make a plot\n",
    "df.hist() # make a histogram\n",
    "df.col.value_counts() # counts the unique values ​​of a column\n",
    "df.col.unique() # returns unique values ​​from a column\n",
    "df.copy() # copies the df\n",
    "df.drop() # remove columns or rows (axis=0,1)\n",
    "df.dropna() # remove nulls\n",
    "df.fillna() # fills nulls\n",
    "df.shape # dimensions of the df\n",
    "df._get_numeric_data() # select numeric columns\n",
    "df.rename() # rename columns\n",
    "df.str.replace() # replace columns of strings\n",
    "df.astype(dtype='float32') # change the data type\n",
    "df.iloc[] # locate by index\n",
    "df.loc[] # locate by element\n",
    "df.transpose() # transposes the df\n",
    "df.T\n",
    "df.sample(n, frac) # sample from df\n",
    "df.col.sum() # sum of a column\n",
    "df.col.max() # maximum of a column\n",
    "df.col.min() # minimum of one column\n",
    "df[col] # select column\n",
    "df.col\n",
    "df.isnull() # null values\n",
    "df.isna()\n",
    "df.notna() # not null values\n",
    "df.drop_duplicates() # remove duplicates\n",
    "df.reset_index(inplace=True) # reset the index and overwrite\n",
    "```"
   ]
  },
  {
   "cell_type": "markdown",
   "id": "stylish-jefferson",
   "metadata": {},
   "source": [
    "## Further materials\n",
    "\n",
    "* [Read the docs!](https://pandas.pydata.org/pandas-docs/stable/index.html)\n",
    "* [Cheatsheet](https://pandas.pydata.org/Pandas_Cheat_Sheet.pdf)\n",
    "* [Exercises to practice](https://github.com/guipsamora/pandas_exercises)\n",
    "* [More on merge, concat, and join](https://realpython.com/pandas-merge-join-and-concat/#pandas-join-combining-data-on-a-column-or-index). And [even more!](https://pandas.pydata.org/pandas-docs/stable/user_guide/merging.html)\n",
    " "
   ]
  }
 ],
 "metadata": {
  "kernelspec": {
   "display_name": "Python 3 (ipykernel)",
   "language": "python",
   "name": "python3"
  },
  "language_info": {
   "codemirror_mode": {
    "name": "ipython",
    "version": 3
   },
   "file_extension": ".py",
   "mimetype": "text/x-python",
   "name": "python",
   "nbconvert_exporter": "python",
   "pygments_lexer": "ipython3",
   "version": "3.8.13"
  },
  "nbTranslate": {
   "displayLangs": [
    "en",
    "es"
   ],
   "hotkey": "alt-a",
   "langInMainMenu": true,
   "sourceLang": "es",
   "targetLang": "en",
   "useGoogleTranslate": true
  },
  "toc": {
   "base_numbering": 1,
   "nav_menu": {},
   "number_sections": true,
   "sideBar": true,
   "skip_h1_title": true,
   "title_cell": "Table of Contents",
   "title_sidebar": "Contents",
   "toc_cell": true,
   "toc_position": {
    "height": "calc(100% - 180px)",
    "left": "10px",
    "top": "150px",
    "width": "269.766px"
   },
   "toc_section_display": true,
   "toc_window_display": true
  },
  "varInspector": {
   "cols": {
    "lenName": 16,
    "lenType": 16,
    "lenVar": 40
   },
   "kernels_config": {
    "python": {
     "delete_cmd_postfix": "",
     "delete_cmd_prefix": "del ",
     "library": "var_list.py",
     "varRefreshCmd": "print(var_dic_list())"
    },
    "r": {
     "delete_cmd_postfix": ") ",
     "delete_cmd_prefix": "rm(",
     "library": "var_list.r",
     "varRefreshCmd": "cat(var_dic_list()) "
    }
   },
   "types_to_exclude": [
    "module",
    "function",
    "builtin_function_or_method",
    "instance",
    "_Feature"
   ],
   "window_display": false
  }
 },
 "nbformat": 4,
 "nbformat_minor": 5
}
