{
 "cells": [
  {
   "cell_type": "markdown",
   "id": "adaptive-irrigation",
   "metadata": {
    "toc": true
   },
   "source": [
    "<h1>Table of Contents<span class=\"tocSkip\"></span></h1>\n",
    "<div class=\"toc\"><ul class=\"toc-item\"><li><span><a href=\"#Introduction\" data-toc-modified-id=\"Introduction-1\"><span class=\"toc-item-num\">1&nbsp;&nbsp;</span>Introduction</a></span></li><li><span><a href=\"#Installation\" data-toc-modified-id=\"Installation-2\"><span class=\"toc-item-num\">2&nbsp;&nbsp;</span>Installation</a></span></li><li><span><a href=\"#Introduction-to-pandas-data-structures\" data-toc-modified-id=\"Introduction-to-pandas-data-structures-3\"><span class=\"toc-item-num\">3&nbsp;&nbsp;</span>Introduction to pandas data structures</a></span><ul class=\"toc-item\"><li><span><a href=\"#Series\" data-toc-modified-id=\"Series-3.1\"><span class=\"toc-item-num\">3.1&nbsp;&nbsp;</span>Series</a></span></li><li><span><a href=\"#Dataframes\" data-toc-modified-id=\"Dataframes-3.2\"><span class=\"toc-item-num\">3.2&nbsp;&nbsp;</span>Dataframes</a></span><ul class=\"toc-item\"><li><span><a href=\"#From-data-types\" data-toc-modified-id=\"From-data-types-3.2.1\"><span class=\"toc-item-num\">3.2.1&nbsp;&nbsp;</span>From data types</a></span></li><li><span><a href=\"#From-path\" data-toc-modified-id=\"From-path-3.2.2\"><span class=\"toc-item-num\">3.2.2&nbsp;&nbsp;</span>From path</a></span></li><li><span><a href=\"#From-databases\" data-toc-modified-id=\"From-databases-3.2.3\"><span class=\"toc-item-num\">3.2.3&nbsp;&nbsp;</span>From databases</a></span></li></ul></li></ul></li><li><span><a href=\"#Exploratory-analysis-of-a-dataframe\" data-toc-modified-id=\"Exploratory-analysis-of-a-dataframe-4\"><span class=\"toc-item-num\">4&nbsp;&nbsp;</span>Exploratory analysis of a dataframe</a></span><ul class=\"toc-item\"><li><span><a href=\"#Meta-information\" data-toc-modified-id=\"Meta-information-4.1\"><span class=\"toc-item-num\">4.1&nbsp;&nbsp;</span>Meta information</a></span></li><li><span><a href=\"#Previsualization\" data-toc-modified-id=\"Previsualization-4.2\"><span class=\"toc-item-num\">4.2&nbsp;&nbsp;</span>Previsualization</a></span></li><li><span><a href=\"#Order-a-dataframe\" data-toc-modified-id=\"Order-a-dataframe-4.3\"><span class=\"toc-item-num\">4.3&nbsp;&nbsp;</span>Order a dataframe</a></span></li><li><span><a href=\"#NaN-values\" data-toc-modified-id=\"NaN-values-4.4\"><span class=\"toc-item-num\">4.4&nbsp;&nbsp;</span>NaN values</a></span></li><li><span><a href=\"#Basic-descriptive-statistics\" data-toc-modified-id=\"Basic-descriptive-statistics-4.5\"><span class=\"toc-item-num\">4.5&nbsp;&nbsp;</span>Basic descriptive statistics</a></span></li></ul></li><li><span><a href=\"#Pandas-usual-methods\" data-toc-modified-id=\"Pandas-usual-methods-5\"><span class=\"toc-item-num\">5&nbsp;&nbsp;</span>Pandas usual methods</a></span></li><li><span><a href=\"#Further-materials\" data-toc-modified-id=\"Further-materials-6\"><span class=\"toc-item-num\">6&nbsp;&nbsp;</span>Further materials</a></span></li></ul></div>"
   ]
  },
  {
   "cell_type": "markdown",
   "id": "anonymous-academy",
   "metadata": {},
   "source": [
    "# Pandas"
   ]
  },
  {
   "cell_type": "markdown",
   "id": "residential-needle",
   "metadata": {},
   "source": [
    "![pandas](https://media.giphy.com/media/nVsLCrW5iHf6E/giphy.gif)"
   ]
  },
  {
   "cell_type": "markdown",
   "id": "751721df",
   "metadata": {
    "lang": "en"
   },
   "source": [
    "## Introduction\n",
    "Pandas is undoubtedly the most widely used library in the Python ecosystem for data manipulation and analysis. It's fast, powerful, flexible, easy to use and open source.\n",
    "\n",
    "\n",
    "Among its main features:\n",
    "\n",
    "- A fast and efficient **DataFrame** object for data manipulation with built-in indexing* \n",
    "\n",
    "- **Reading and writing** of data in many formats: Microsoft Excel, CSV, SQL databases, etc;\n",
    "\n",
    "- Integrated and efficient methods for all types of data manipulation: missing data, subset, union, merge, etc;\n",
    "\n",
    "- Ease of working with temporary data (in fact, Pandas is named after \"PANnel DAta\")\n",
    "\n",
    "- Good **integration with other data analysis or Machine learning libraries**: scikit-learn, scipy, seaborn, plotly, etc;\n",
    "\n",
    "- It is **widely used** in both the private and academic sectors\n",
    "\n",
    "\n",
    "Pandas provides high-level data structures and functions designed to make working with structured or tabular data fast, easy, and expressive. Since its introduction in 2010, it has helped make Python a powerful and productive data analysis environment. The main pandas objects that will be used in this book are the DataFrame, a column-oriented tabular data structure with row and column labels, and the Series, a labeled one-dimensional array object.\n",
    "\n",
    "Pandas combines the high performance ideas of NumPy with the flexible data manipulation capabilities of spreadsheets and relational databases (such as SQL). It provides sophisticated indexing functionality to make it easy to reshape, slice and dice, perform aggregations, and select subsets of data."
   ]
  },
  {
   "cell_type": "markdown",
   "id": "hourly-nutrition",
   "metadata": {},
   "source": [
    "![image](https://thumbor.forbes.com/thumbor/960x0/https%3A%2F%2Fblogs-images.forbes.com%2Fgilpress%2Ffiles%2F2016%2F03%2FTime-1200x511.jpg)\n",
    "\n",
    "\n",
    "\n",
    "Source: [Forbes](https://www.forbes.com/sites/gilpress/2016/03/23/data-preparation-most-time-consuming-least-enjoyable-data-science-task-survey-says/#1ba071616f63)"
   ]
  },
  {
   "cell_type": "markdown",
   "id": "b6680d33",
   "metadata": {
    "lang": "en"
   },
   "source": [
    "## Installation"
   ]
  },
  {
   "cell_type": "markdown",
   "id": "58d0e351",
   "metadata": {
    "lang": "en"
   },
   "source": [
    "The first thing you should do will always be\n",
    "`pip install pandas`, `conda install pandas`"
   ]
  },
  {
   "cell_type": "code",
   "execution_count": 1,
   "id": "2a586373",
   "metadata": {},
   "outputs": [],
   "source": [
    "# anaconda\n",
    "    # enviroments: ironhack\n",
    "    #pandas\n",
    "    \n",
    "# miniconda\n",
    "    # conda activate ironhack\n",
    "    #pip install pandas"
   ]
  },
  {
   "cell_type": "code",
   "execution_count": 2,
   "id": "psychological-theorem",
   "metadata": {},
   "outputs": [],
   "source": [
    "import pandas as pd\n",
    "import numpy as np"
   ]
  },
  {
   "cell_type": "markdown",
   "id": "960d4f4b",
   "metadata": {
    "lang": "en"
   },
   "source": [
    "## Introduction to pandas data structures\n",
    "To get started with pandas, you'll need to get comfortable with its two working data structures: Series and DataFrame. Although they are not a universal solution to all problems, they provide a solid and easy-to-use foundation for most applications."
   ]
  },
  {
   "cell_type": "markdown",
   "id": "d636439c",
   "metadata": {
    "lang": "en"
   },
   "source": [
    "### Series\n",
    "A Serie is a one-dimensional array object containing a sequence of values ​​(of NumPy-like types) and an associated array of data labels, called its index. The simplest Series is formed from a single array of data:"
   ]
  },
  {
   "cell_type": "code",
   "execution_count": 3,
   "id": "73e16a3c",
   "metadata": {},
   "outputs": [],
   "source": [
    "my_series = pd.Series([1, 2, 3, \"a_string\", 12, 5])"
   ]
  },
  {
   "cell_type": "code",
   "execution_count": 4,
   "id": "d2056292",
   "metadata": {},
   "outputs": [
    {
     "data": {
      "text/plain": [
       "0           1\n",
       "1           2\n",
       "2           3\n",
       "3    a_string\n",
       "4          12\n",
       "5           5\n",
       "dtype: object"
      ]
     },
     "execution_count": 4,
     "metadata": {},
     "output_type": "execute_result"
    }
   ],
   "source": [
    "my_series"
   ]
  },
  {
   "cell_type": "code",
   "execution_count": 5,
   "id": "9684ac18",
   "metadata": {},
   "outputs": [],
   "source": [
    "random_list = [1, 2, 3, \"a_string\", 12, 5]"
   ]
  },
  {
   "cell_type": "code",
   "execution_count": 6,
   "id": "c5340bfe",
   "metadata": {},
   "outputs": [
    {
     "data": {
      "text/plain": [
       "'a_string'"
      ]
     },
     "execution_count": 6,
     "metadata": {},
     "output_type": "execute_result"
    }
   ],
   "source": [
    "random_list[3]"
   ]
  },
  {
   "cell_type": "code",
   "execution_count": 7,
   "id": "a4a59725",
   "metadata": {},
   "outputs": [
    {
     "data": {
      "text/plain": [
       "list"
      ]
     },
     "execution_count": 7,
     "metadata": {},
     "output_type": "execute_result"
    }
   ],
   "source": [
    "type(random_list)"
   ]
  },
  {
   "cell_type": "code",
   "execution_count": 8,
   "id": "cad47c68",
   "metadata": {},
   "outputs": [
    {
     "data": {
      "text/plain": [
       "pandas.core.series.Series"
      ]
     },
     "execution_count": 8,
     "metadata": {},
     "output_type": "execute_result"
    }
   ],
   "source": [
    "type(my_series)"
   ]
  },
  {
   "cell_type": "code",
   "execution_count": 9,
   "id": "fffda5cd",
   "metadata": {},
   "outputs": [
    {
     "data": {
      "text/plain": [
       "array([1, 2, 3, 'a_string', 12, 5], dtype=object)"
      ]
     },
     "execution_count": 9,
     "metadata": {},
     "output_type": "execute_result"
    }
   ],
   "source": [
    "my_series.values"
   ]
  },
  {
   "cell_type": "code",
   "execution_count": 10,
   "id": "ceae0a13",
   "metadata": {},
   "outputs": [
    {
     "data": {
      "text/plain": [
       "[1, 2, 3, 'a_string', 12, 5]"
      ]
     },
     "execution_count": 10,
     "metadata": {},
     "output_type": "execute_result"
    }
   ],
   "source": [
    "list(my_series.values)"
   ]
  },
  {
   "cell_type": "code",
   "execution_count": 11,
   "id": "6172975d",
   "metadata": {},
   "outputs": [
    {
     "data": {
      "text/plain": [
       "RangeIndex(start=0, stop=6, step=1)"
      ]
     },
     "execution_count": 11,
     "metadata": {},
     "output_type": "execute_result"
    }
   ],
   "source": [
    "my_series.index"
   ]
  },
  {
   "cell_type": "markdown",
   "id": "a8006ecb",
   "metadata": {
    "lang": "en"
   },
   "source": [
    "The string representation of a Series displayed interactively shows the index on the left and the values ​​on the right. Since we didn't specify an index for the data, a default one consisting of the integers 0 to N - 1 (where N is the length of the data) is created. You can get the array representation and the index object of the Series through its values ​​and index attributes, respectively:"
   ]
  },
  {
   "cell_type": "markdown",
   "id": "24f739f4",
   "metadata": {
    "lang": "en"
   },
   "source": [
    "Another way to think of a Series is as a fixed-length ordered dict, since it is a mapping of index values ​​to data values. It can be used in many contexts where a dictionary could be used.\n",
    "If you have data contained in a Python dict, you can create a Series from it by passing the dict:"
   ]
  },
  {
   "cell_type": "code",
   "execution_count": 12,
   "id": "8a272bd9",
   "metadata": {},
   "outputs": [],
   "source": [
    "somedata = {\n",
    "    \"Ohio\": 2000,\n",
    "    \"Texas\":\"2001\",\n",
    "    \"Oregon\":  79865,\n",
    "    \"Utah\":4892383,\n",
    "    \"something else\": \"4984\"\n",
    "}"
   ]
  },
  {
   "cell_type": "code",
   "execution_count": 13,
   "id": "0c009bf2",
   "metadata": {},
   "outputs": [
    {
     "data": {
      "text/plain": [
       "{'Ohio': 2000,\n",
       " 'Texas': '2001',\n",
       " 'Oregon': 79865,\n",
       " 'Utah': 4892383,\n",
       " 'something else': '4984'}"
      ]
     },
     "execution_count": 13,
     "metadata": {},
     "output_type": "execute_result"
    }
   ],
   "source": [
    "somedata"
   ]
  },
  {
   "cell_type": "code",
   "execution_count": 14,
   "id": "78f88b49",
   "metadata": {},
   "outputs": [
    {
     "data": {
      "text/plain": [
       "dict_values([2000, '2001', 79865, 4892383, '4984'])"
      ]
     },
     "execution_count": 14,
     "metadata": {},
     "output_type": "execute_result"
    }
   ],
   "source": [
    "somedata.values()"
   ]
  },
  {
   "cell_type": "code",
   "execution_count": 15,
   "id": "36d8d351",
   "metadata": {},
   "outputs": [
    {
     "data": {
      "text/plain": [
       "dict_keys(['Ohio', 'Texas', 'Oregon', 'Utah', 'something else'])"
      ]
     },
     "execution_count": 15,
     "metadata": {},
     "output_type": "execute_result"
    }
   ],
   "source": [
    "somedata.keys()"
   ]
  },
  {
   "cell_type": "code",
   "execution_count": 16,
   "id": "93ebc888",
   "metadata": {},
   "outputs": [],
   "source": [
    "# Q: Capitalization of Series and DataFrame?\n",
    "# A: needed\n",
    "#pd.Series\n",
    "#pd.DataFrame "
   ]
  },
  {
   "cell_type": "code",
   "execution_count": 17,
   "id": "5f53ea91",
   "metadata": {},
   "outputs": [
    {
     "data": {
      "text/plain": [
       "Ohio                 2000\n",
       "Texas                2001\n",
       "Oregon              79865\n",
       "Utah              4892383\n",
       "something else       4984\n",
       "dtype: object"
      ]
     },
     "execution_count": 17,
     "metadata": {},
     "output_type": "execute_result"
    }
   ],
   "source": [
    "somedata_series = pd.Series(somedata)\n",
    "somedata_series"
   ]
  },
  {
   "cell_type": "code",
   "execution_count": 18,
   "id": "3c14cc1d",
   "metadata": {},
   "outputs": [
    {
     "data": {
      "text/plain": [
       "Index(['Ohio', 'Texas', 'Oregon', 'Utah', 'something else'], dtype='object')"
      ]
     },
     "execution_count": 18,
     "metadata": {},
     "output_type": "execute_result"
    }
   ],
   "source": [
    "somedata_series.index"
   ]
  },
  {
   "cell_type": "code",
   "execution_count": 19,
   "id": "d187c4f0",
   "metadata": {},
   "outputs": [
    {
     "data": {
      "text/plain": [
       "array([2000, '2001', 79865, 4892383, '4984'], dtype=object)"
      ]
     },
     "execution_count": 19,
     "metadata": {},
     "output_type": "execute_result"
    }
   ],
   "source": [
    "somedata_series.values"
   ]
  },
  {
   "cell_type": "code",
   "execution_count": 20,
   "id": "c38be542",
   "metadata": {},
   "outputs": [],
   "source": [
    "states = [\"California\", \"Ohio\", \"Oregon\", \"Texas\", \"something else\"]"
   ]
  },
  {
   "cell_type": "code",
   "execution_count": 21,
   "id": "79de2a29",
   "metadata": {},
   "outputs": [
    {
     "data": {
      "text/plain": [
       "{'Ohio': 2000,\n",
       " 'Texas': '2001',\n",
       " 'Oregon': 79865,\n",
       " 'Utah': 4892383,\n",
       " 'something else': '4984'}"
      ]
     },
     "execution_count": 21,
     "metadata": {},
     "output_type": "execute_result"
    }
   ],
   "source": [
    "somedata"
   ]
  },
  {
   "cell_type": "code",
   "execution_count": 22,
   "id": "ec506343",
   "metadata": {},
   "outputs": [
    {
     "data": {
      "text/plain": [
       "Ohio                 2000\n",
       "Texas                2001\n",
       "Oregon              79865\n",
       "Utah              4892383\n",
       "something else       4984\n",
       "dtype: object"
      ]
     },
     "execution_count": 22,
     "metadata": {},
     "output_type": "execute_result"
    }
   ],
   "source": [
    "somedata_series = pd.Series(somedata)\n",
    "somedata_series"
   ]
  },
  {
   "cell_type": "code",
   "execution_count": 23,
   "id": "9b0e9238",
   "metadata": {},
   "outputs": [
    {
     "data": {
      "text/plain": [
       "California          NaN\n",
       "Ohio               2000\n",
       "Oregon            79865\n",
       "Texas              2001\n",
       "something else     4984\n",
       "dtype: object"
      ]
     },
     "execution_count": 23,
     "metadata": {},
     "output_type": "execute_result"
    }
   ],
   "source": [
    "somedata_series = pd.Series(somedata, index = states)\n",
    "somedata_series"
   ]
  },
  {
   "cell_type": "code",
   "execution_count": 24,
   "id": "64c3921c",
   "metadata": {},
   "outputs": [
    {
     "name": "stdout",
     "output_type": "stream",
     "text": [
      "<class 'float'>\n",
      "<class 'int'>\n",
      "<class 'int'>\n",
      "<class 'str'>\n",
      "<class 'str'>\n"
     ]
    }
   ],
   "source": [
    "for i in somedata_series.values:\n",
    "    print(type(i))"
   ]
  },
  {
   "cell_type": "code",
   "execution_count": 25,
   "id": "b342c9d8",
   "metadata": {},
   "outputs": [],
   "source": [
    "# NaN: missing value\n",
    "# Not a number\n",
    "# missing values -> are type float"
   ]
  },
  {
   "cell_type": "code",
   "execution_count": 26,
   "id": "f9b1facb",
   "metadata": {},
   "outputs": [],
   "source": [
    "# type float cannot do whatever you're trying to applay"
   ]
  },
  {
   "cell_type": "markdown",
   "id": "eb3ede87",
   "metadata": {
    "lang": "en"
   },
   "source": [
    "When only one dict is passed, the resulting String index will have the keys of the dict in order. You can override this by passing the keys of the dict in the order you want them to appear in the resulting String:"
   ]
  },
  {
   "cell_type": "code",
   "execution_count": null,
   "id": "c9e956d8",
   "metadata": {},
   "outputs": [],
   "source": []
  },
  {
   "cell_type": "markdown",
   "id": "73a97ba9",
   "metadata": {
    "lang": "en"
   },
   "source": [
    "Here, the three values ​​found in sdata were placed in the appropriate places, but since no value was found for 'California', it appears as NaN (not a number), which is considered in pandas to mark missing values ​​or NA. Since \"Utah\" was not included in the states, it is excluded from the resulting object."
   ]
  },
  {
   "cell_type": "code",
   "execution_count": 27,
   "id": "64b2d33f",
   "metadata": {},
   "outputs": [
    {
     "data": {
      "text/plain": [
       "Index(['California', 'Ohio', 'Oregon', 'Texas', 'something else'], dtype='object')"
      ]
     },
     "execution_count": 27,
     "metadata": {},
     "output_type": "execute_result"
    }
   ],
   "source": [
    "somedata_series.index"
   ]
  },
  {
   "cell_type": "code",
   "execution_count": 28,
   "id": "903b95d6",
   "metadata": {},
   "outputs": [
    {
     "data": {
      "text/plain": [
       "array([nan, 2000, 79865, '2001', '4984'], dtype=object)"
      ]
     },
     "execution_count": 28,
     "metadata": {},
     "output_type": "execute_result"
    }
   ],
   "source": [
    "somedata_series.values"
   ]
  },
  {
   "cell_type": "markdown",
   "id": "6686773c",
   "metadata": {
    "lang": "en"
   },
   "source": [
    "### Dataframes\n",
    "Pandas can read and write data from a wide variety of formats. [Read the documentation](https://pandas.pydata.org/pandas-docs/stable/user_guide/io.html)\n",
    "Although one of the most common is from a dict of lists of equal length or NumPy arrays:"
   ]
  },
  {
   "cell_type": "markdown",
   "id": "06ca0560",
   "metadata": {},
   "source": [
    "#### From data types"
   ]
  },
  {
   "cell_type": "markdown",
   "id": "12bcad45",
   "metadata": {},
   "source": [
    "`from dictionaries with lists as values`"
   ]
  },
  {
   "cell_type": "code",
   "execution_count": 29,
   "id": "c8b9ff33",
   "metadata": {},
   "outputs": [],
   "source": [
    "dictionary_with_lists = {\n",
    "    \"state\": [\"Ohio\", \"Texas\", \"Nevada\", \"Michigan\"],\n",
    "    \"year\": [19900, 28374, 3044, 50554],\n",
    "    \"something\": [1.6, \"THIS IS TEXAS\", 3434, np.nan]\n",
    "}"
   ]
  },
  {
   "cell_type": "code",
   "execution_count": 30,
   "id": "e09733ee",
   "metadata": {
    "scrolled": true
   },
   "outputs": [
    {
     "data": {
      "text/html": [
       "<div>\n",
       "<style scoped>\n",
       "    .dataframe tbody tr th:only-of-type {\n",
       "        vertical-align: middle;\n",
       "    }\n",
       "\n",
       "    .dataframe tbody tr th {\n",
       "        vertical-align: top;\n",
       "    }\n",
       "\n",
       "    .dataframe thead th {\n",
       "        text-align: right;\n",
       "    }\n",
       "</style>\n",
       "<table border=\"1\" class=\"dataframe\">\n",
       "  <thead>\n",
       "    <tr style=\"text-align: right;\">\n",
       "      <th></th>\n",
       "      <th>state</th>\n",
       "      <th>year</th>\n",
       "      <th>something</th>\n",
       "    </tr>\n",
       "  </thead>\n",
       "  <tbody>\n",
       "    <tr>\n",
       "      <th>0</th>\n",
       "      <td>Ohio</td>\n",
       "      <td>19900</td>\n",
       "      <td>1.6</td>\n",
       "    </tr>\n",
       "    <tr>\n",
       "      <th>1</th>\n",
       "      <td>Texas</td>\n",
       "      <td>28374</td>\n",
       "      <td>THIS IS TEXAS</td>\n",
       "    </tr>\n",
       "    <tr>\n",
       "      <th>2</th>\n",
       "      <td>Nevada</td>\n",
       "      <td>3044</td>\n",
       "      <td>3434</td>\n",
       "    </tr>\n",
       "    <tr>\n",
       "      <th>3</th>\n",
       "      <td>Michigan</td>\n",
       "      <td>50554</td>\n",
       "      <td>NaN</td>\n",
       "    </tr>\n",
       "  </tbody>\n",
       "</table>\n",
       "</div>"
      ],
      "text/plain": [
       "      state   year      something\n",
       "0      Ohio  19900            1.6\n",
       "1     Texas  28374  THIS IS TEXAS\n",
       "2    Nevada   3044           3434\n",
       "3  Michigan  50554            NaN"
      ]
     },
     "execution_count": 30,
     "metadata": {},
     "output_type": "execute_result"
    }
   ],
   "source": [
    "df = pd.DataFrame(dictionary_with_lists)\n",
    "df"
   ]
  },
  {
   "cell_type": "markdown",
   "id": "52162b19",
   "metadata": {
    "lang": "en"
   },
   "source": [
    "Since we are using Jupyter Notebook, pandas DataFrame objects will be displayed as a more browser-friendly HTML table. [More info on this](https://pandas.pydata.org/pandas-docs/stable/user_guide/options.html)"
   ]
  },
  {
   "cell_type": "code",
   "execution_count": null,
   "id": "dfba0c5a",
   "metadata": {},
   "outputs": [],
   "source": []
  },
  {
   "cell_type": "markdown",
   "id": "d396870e",
   "metadata": {},
   "source": [
    "`from list of dictionaries`"
   ]
  },
  {
   "cell_type": "markdown",
   "id": "9ef077da",
   "metadata": {
    "lang": "en"
   },
   "source": [
    "If I create a dataframe through a list of dictionaries:\n",
    "- Each dictionary will be a row\n",
    "- The keys will be the names of the columns\n",
    "- They have to have the same structure"
   ]
  },
  {
   "cell_type": "code",
   "execution_count": 31,
   "id": "494aa18b",
   "metadata": {},
   "outputs": [],
   "source": [
    "list_of_dictionaries = [\n",
    "        {\"state\":\"Ohio\", \"year\": 1900, \"something\": 1.6},\n",
    "        {\"state\":\"texas\", \"year\": 3434, \"something\": 2},\n",
    "        {\"state\":\"nevada\", \"year\": 3434, \"something\": \"hello\"},\n",
    "        {\"state\":\"michigan\", \"year\": 1212, \"something\": 1.6}\n",
    "        #{\"esteit\":\"michigan\", \"year\": 1212, \"something\": 1.6}\n",
    "\n",
    "]"
   ]
  },
  {
   "cell_type": "code",
   "execution_count": 32,
   "id": "934b6b99",
   "metadata": {},
   "outputs": [
    {
     "data": {
      "text/html": [
       "<div>\n",
       "<style scoped>\n",
       "    .dataframe tbody tr th:only-of-type {\n",
       "        vertical-align: middle;\n",
       "    }\n",
       "\n",
       "    .dataframe tbody tr th {\n",
       "        vertical-align: top;\n",
       "    }\n",
       "\n",
       "    .dataframe thead th {\n",
       "        text-align: right;\n",
       "    }\n",
       "</style>\n",
       "<table border=\"1\" class=\"dataframe\">\n",
       "  <thead>\n",
       "    <tr style=\"text-align: right;\">\n",
       "      <th></th>\n",
       "      <th>state</th>\n",
       "      <th>year</th>\n",
       "      <th>something</th>\n",
       "    </tr>\n",
       "  </thead>\n",
       "  <tbody>\n",
       "    <tr>\n",
       "      <th>0</th>\n",
       "      <td>Ohio</td>\n",
       "      <td>1900</td>\n",
       "      <td>1.6</td>\n",
       "    </tr>\n",
       "    <tr>\n",
       "      <th>1</th>\n",
       "      <td>texas</td>\n",
       "      <td>3434</td>\n",
       "      <td>2</td>\n",
       "    </tr>\n",
       "    <tr>\n",
       "      <th>2</th>\n",
       "      <td>nevada</td>\n",
       "      <td>3434</td>\n",
       "      <td>hello</td>\n",
       "    </tr>\n",
       "    <tr>\n",
       "      <th>3</th>\n",
       "      <td>michigan</td>\n",
       "      <td>1212</td>\n",
       "      <td>1.6</td>\n",
       "    </tr>\n",
       "  </tbody>\n",
       "</table>\n",
       "</div>"
      ],
      "text/plain": [
       "      state  year something\n",
       "0      Ohio  1900       1.6\n",
       "1     texas  3434         2\n",
       "2    nevada  3434     hello\n",
       "3  michigan  1212       1.6"
      ]
     },
     "execution_count": 32,
     "metadata": {},
     "output_type": "execute_result"
    }
   ],
   "source": [
    "df = pd.DataFrame(list_of_dictionaries)\n",
    "df"
   ]
  },
  {
   "cell_type": "markdown",
   "id": "a7c63fee",
   "metadata": {},
   "source": [
    "[pandas from dict](https://pandas.pydata.org/docs/reference/api/pandas.DataFrame.from_dict.html)"
   ]
  },
  {
   "cell_type": "markdown",
   "id": "3fbaae69",
   "metadata": {
    "lang": "en"
   },
   "source": [
    "#### From path"
   ]
  },
  {
   "cell_type": "markdown",
   "id": "8818e830",
   "metadata": {},
   "source": [
    "`.csv`"
   ]
  },
  {
   "cell_type": "code",
   "execution_count": 33,
   "id": "b43e387d",
   "metadata": {
    "scrolled": false
   },
   "outputs": [
    {
     "data": {
      "text/html": [
       "<div>\n",
       "<style scoped>\n",
       "    .dataframe tbody tr th:only-of-type {\n",
       "        vertical-align: middle;\n",
       "    }\n",
       "\n",
       "    .dataframe tbody tr th {\n",
       "        vertical-align: top;\n",
       "    }\n",
       "\n",
       "    .dataframe thead th {\n",
       "        text-align: right;\n",
       "    }\n",
       "</style>\n",
       "<table border=\"1\" class=\"dataframe\">\n",
       "  <thead>\n",
       "    <tr style=\"text-align: right;\">\n",
       "      <th></th>\n",
       "      <th>TV</th>\n",
       "      <th>Radio</th>\n",
       "      <th>Newspaper</th>\n",
       "      <th>Sales</th>\n",
       "    </tr>\n",
       "  </thead>\n",
       "  <tbody>\n",
       "    <tr>\n",
       "      <th>0</th>\n",
       "      <td>230.1</td>\n",
       "      <td>37.8</td>\n",
       "      <td>69.2</td>\n",
       "      <td>22.1</td>\n",
       "    </tr>\n",
       "    <tr>\n",
       "      <th>1</th>\n",
       "      <td>44.5</td>\n",
       "      <td>39.3</td>\n",
       "      <td>45.1</td>\n",
       "      <td>10.4</td>\n",
       "    </tr>\n",
       "    <tr>\n",
       "      <th>2</th>\n",
       "      <td>17.2</td>\n",
       "      <td>45.9</td>\n",
       "      <td>69.3</td>\n",
       "      <td>9.3</td>\n",
       "    </tr>\n",
       "    <tr>\n",
       "      <th>3</th>\n",
       "      <td>151.5</td>\n",
       "      <td>41.3</td>\n",
       "      <td>58.5</td>\n",
       "      <td>18.5</td>\n",
       "    </tr>\n",
       "    <tr>\n",
       "      <th>4</th>\n",
       "      <td>180.8</td>\n",
       "      <td>10.8</td>\n",
       "      <td>58.4</td>\n",
       "      <td>12.9</td>\n",
       "    </tr>\n",
       "    <tr>\n",
       "      <th>...</th>\n",
       "      <td>...</td>\n",
       "      <td>...</td>\n",
       "      <td>...</td>\n",
       "      <td>...</td>\n",
       "    </tr>\n",
       "    <tr>\n",
       "      <th>195</th>\n",
       "      <td>38.2</td>\n",
       "      <td>3.7</td>\n",
       "      <td>13.8</td>\n",
       "      <td>7.6</td>\n",
       "    </tr>\n",
       "    <tr>\n",
       "      <th>196</th>\n",
       "      <td>94.2</td>\n",
       "      <td>4.9</td>\n",
       "      <td>8.1</td>\n",
       "      <td>9.7</td>\n",
       "    </tr>\n",
       "    <tr>\n",
       "      <th>197</th>\n",
       "      <td>177.0</td>\n",
       "      <td>9.3</td>\n",
       "      <td>6.4</td>\n",
       "      <td>12.8</td>\n",
       "    </tr>\n",
       "    <tr>\n",
       "      <th>198</th>\n",
       "      <td>283.6</td>\n",
       "      <td>42.0</td>\n",
       "      <td>66.2</td>\n",
       "      <td>25.5</td>\n",
       "    </tr>\n",
       "    <tr>\n",
       "      <th>199</th>\n",
       "      <td>232.1</td>\n",
       "      <td>8.6</td>\n",
       "      <td>8.7</td>\n",
       "      <td>13.4</td>\n",
       "    </tr>\n",
       "  </tbody>\n",
       "</table>\n",
       "<p>200 rows × 4 columns</p>\n",
       "</div>"
      ],
      "text/plain": [
       "        TV  Radio  Newspaper  Sales\n",
       "0    230.1   37.8       69.2   22.1\n",
       "1     44.5   39.3       45.1   10.4\n",
       "2     17.2   45.9       69.3    9.3\n",
       "3    151.5   41.3       58.5   18.5\n",
       "4    180.8   10.8       58.4   12.9\n",
       "..     ...    ...        ...    ...\n",
       "195   38.2    3.7       13.8    7.6\n",
       "196   94.2    4.9        8.1    9.7\n",
       "197  177.0    9.3        6.4   12.8\n",
       "198  283.6   42.0       66.2   25.5\n",
       "199  232.1    8.6        8.7   13.4\n",
       "\n",
       "[200 rows x 4 columns]"
      ]
     },
     "execution_count": 33,
     "metadata": {},
     "output_type": "execute_result"
    }
   ],
   "source": [
    "df = pd.read_csv(\"../datasets/Advertising.csv\")\n",
    "df"
   ]
  },
  {
   "cell_type": "code",
   "execution_count": 34,
   "id": "e4c127b0",
   "metadata": {},
   "outputs": [],
   "source": [
    "#csv: comma separated values"
   ]
  },
  {
   "cell_type": "code",
   "execution_count": 35,
   "id": "9857c65d",
   "metadata": {},
   "outputs": [],
   "source": [
    "#csv, separator = \";\""
   ]
  },
  {
   "cell_type": "markdown",
   "id": "985db2a6",
   "metadata": {},
   "source": [
    "`.xlsx`, `xls`, `xlsm`, `xlsb`, `odf`, `ods`, `odt`"
   ]
  },
  {
   "cell_type": "code",
   "execution_count": 36,
   "id": "317e070f",
   "metadata": {
    "scrolled": true
   },
   "outputs": [],
   "source": [
    "#df_from_excel = pd.read_excel(\"../datasets/Online Retail.xlsx\", engine=\"openpyxl\", nrows=5)\n",
    "#df_from_excel.head()"
   ]
  },
  {
   "cell_type": "markdown",
   "id": "0f9178b7",
   "metadata": {},
   "source": [
    "`Reading different sheeets`"
   ]
  },
  {
   "cell_type": "code",
   "execution_count": 37,
   "id": "0407b54f",
   "metadata": {},
   "outputs": [],
   "source": [
    "# Default tab (first one)\n",
    "\n",
    "#df_from_excel_new_tab = pd.read_excel(\"../datasets/Online Retail.xlsx\", engine=\"openpyxl\", nrows=5)\n",
    "#df_from_excel_new_tab.head()"
   ]
  },
  {
   "cell_type": "code",
   "execution_count": 38,
   "id": "bfeb8fef",
   "metadata": {},
   "outputs": [],
   "source": [
    "# Other tab: (new_tab)\n",
    "#df_from_excel_new_tab = pd.read_excel(\"../datasets/Online Retail.xlsx\", engine=\"openpyxl\", \"new_tab\", nrows=5)\n",
    "#df_from_excel_new_tab.head()"
   ]
  },
  {
   "cell_type": "markdown",
   "id": "8ef0b2ac",
   "metadata": {},
   "source": [
    "`web`: https://raw.githubusercontent.com/datapackage-examples/sample-csv/master/sample.csv"
   ]
  },
  {
   "cell_type": "code",
   "execution_count": 39,
   "id": "64af4d76",
   "metadata": {},
   "outputs": [
    {
     "data": {
      "text/html": [
       "<div>\n",
       "<style scoped>\n",
       "    .dataframe tbody tr th:only-of-type {\n",
       "        vertical-align: middle;\n",
       "    }\n",
       "\n",
       "    .dataframe tbody tr th {\n",
       "        vertical-align: top;\n",
       "    }\n",
       "\n",
       "    .dataframe thead th {\n",
       "        text-align: right;\n",
       "    }\n",
       "</style>\n",
       "<table border=\"1\" class=\"dataframe\">\n",
       "  <thead>\n",
       "    <tr style=\"text-align: right;\">\n",
       "      <th></th>\n",
       "      <th>header 0</th>\n",
       "      <th>header 1</th>\n",
       "      <th>header 2</th>\n",
       "      <th>header 3</th>\n",
       "      <th>header 4</th>\n",
       "      <th>header 5</th>\n",
       "      <th>header 6</th>\n",
       "      <th>header 7</th>\n",
       "      <th>header 8</th>\n",
       "      <th>header 9</th>\n",
       "    </tr>\n",
       "  </thead>\n",
       "  <tbody>\n",
       "    <tr>\n",
       "      <th>0</th>\n",
       "      <td>row 1 col 0</td>\n",
       "      <td>row 1 col 1</td>\n",
       "      <td>row 1 col 2</td>\n",
       "      <td>row 1 col 3</td>\n",
       "      <td>row 1 col 4</td>\n",
       "      <td>row 1 col 5</td>\n",
       "      <td>row 1 col 6</td>\n",
       "      <td>row 1 col 7</td>\n",
       "      <td>row 1 col 8</td>\n",
       "      <td>row 1 col 9</td>\n",
       "    </tr>\n",
       "    <tr>\n",
       "      <th>1</th>\n",
       "      <td>row 2 col 0</td>\n",
       "      <td>row 2 col 1</td>\n",
       "      <td>row 2 col 2</td>\n",
       "      <td>row 2 col 3</td>\n",
       "      <td>row 2 col 4</td>\n",
       "      <td>row 2 col 5</td>\n",
       "      <td>row 2 col 6</td>\n",
       "      <td>row 2 col 7</td>\n",
       "      <td>row 2 col 8</td>\n",
       "      <td>row 2 col 9</td>\n",
       "    </tr>\n",
       "    <tr>\n",
       "      <th>2</th>\n",
       "      <td>row 3 col 0</td>\n",
       "      <td>row 3 col 1</td>\n",
       "      <td>row 3 col 2</td>\n",
       "      <td>row 3 col 3</td>\n",
       "      <td>row 3 col 4</td>\n",
       "      <td>row 3 col 5</td>\n",
       "      <td>row 3 col 6</td>\n",
       "      <td>row 3 col 7</td>\n",
       "      <td>row 3 col 8</td>\n",
       "      <td>row 3 col 9</td>\n",
       "    </tr>\n",
       "    <tr>\n",
       "      <th>3</th>\n",
       "      <td>row 4 col 0</td>\n",
       "      <td>row 4 col 1</td>\n",
       "      <td>row 4 col 2</td>\n",
       "      <td>row 4 col 3</td>\n",
       "      <td>row 4 col 4</td>\n",
       "      <td>row 4 col 5</td>\n",
       "      <td>row 4 col 6</td>\n",
       "      <td>row 4 col 7</td>\n",
       "      <td>row 4 col 8</td>\n",
       "      <td>row 4 col 9</td>\n",
       "    </tr>\n",
       "    <tr>\n",
       "      <th>4</th>\n",
       "      <td>row 5 col 0</td>\n",
       "      <td>row 5 col 1</td>\n",
       "      <td>row 5 col 2</td>\n",
       "      <td>row 5 col 3</td>\n",
       "      <td>row 5 col 4</td>\n",
       "      <td>row 5 col 5</td>\n",
       "      <td>row 5 col 6</td>\n",
       "      <td>row 5 col 7</td>\n",
       "      <td>row 5 col 8</td>\n",
       "      <td>row 5 col 9</td>\n",
       "    </tr>\n",
       "    <tr>\n",
       "      <th>5</th>\n",
       "      <td>row 6 col 0</td>\n",
       "      <td>row 6 col 1</td>\n",
       "      <td>row 6 col 2</td>\n",
       "      <td>row 6 col 3</td>\n",
       "      <td>row 6 col 4</td>\n",
       "      <td>row 6 col 5</td>\n",
       "      <td>row 6 col 6</td>\n",
       "      <td>row 6 col 7</td>\n",
       "      <td>row 6 col 8</td>\n",
       "      <td>row 6 col 9</td>\n",
       "    </tr>\n",
       "    <tr>\n",
       "      <th>6</th>\n",
       "      <td>row 7 col 0</td>\n",
       "      <td>row 7 col 1</td>\n",
       "      <td>row 7 col 2</td>\n",
       "      <td>row 7 col 3</td>\n",
       "      <td>row 7 col 4</td>\n",
       "      <td>row 7 col 5</td>\n",
       "      <td>row 7 col 6</td>\n",
       "      <td>row 7 col 7</td>\n",
       "      <td>row 7 col 8</td>\n",
       "      <td>row 7 col 9</td>\n",
       "    </tr>\n",
       "    <tr>\n",
       "      <th>7</th>\n",
       "      <td>row 8 col 0</td>\n",
       "      <td>row 8 col 1</td>\n",
       "      <td>row 8 col 2</td>\n",
       "      <td>row 8 col 3</td>\n",
       "      <td>row 8 col 4</td>\n",
       "      <td>row 8 col 5</td>\n",
       "      <td>row 8 col 6</td>\n",
       "      <td>row 8 col 7</td>\n",
       "      <td>row 8 col 8</td>\n",
       "      <td>row 8 col 9</td>\n",
       "    </tr>\n",
       "    <tr>\n",
       "      <th>8</th>\n",
       "      <td>row 9 col 0</td>\n",
       "      <td>row 9 col 1</td>\n",
       "      <td>row 9 col 2</td>\n",
       "      <td>row 9 col 3</td>\n",
       "      <td>row 9 col 4</td>\n",
       "      <td>row 9 col 5</td>\n",
       "      <td>row 9 col 6</td>\n",
       "      <td>row 9 col 7</td>\n",
       "      <td>row 9 col 8</td>\n",
       "      <td>row 9 col 9</td>\n",
       "    </tr>\n",
       "    <tr>\n",
       "      <th>9</th>\n",
       "      <td>row 10 col 0</td>\n",
       "      <td>row 10 col 1</td>\n",
       "      <td>row 10 col 2</td>\n",
       "      <td>row 10 col 3</td>\n",
       "      <td>row 10 col 4</td>\n",
       "      <td>row 10 col 5</td>\n",
       "      <td>row 10 col 6</td>\n",
       "      <td>row 10 col 7</td>\n",
       "      <td>row 10 col 8</td>\n",
       "      <td>row 10 col 9</td>\n",
       "    </tr>\n",
       "  </tbody>\n",
       "</table>\n",
       "</div>"
      ],
      "text/plain": [
       "       header 0      header 1      header 2      header 3      header 4  \\\n",
       "0   row 1 col 0   row 1 col 1   row 1 col 2   row 1 col 3   row 1 col 4   \n",
       "1   row 2 col 0   row 2 col 1   row 2 col 2   row 2 col 3   row 2 col 4   \n",
       "2   row 3 col 0   row 3 col 1   row 3 col 2   row 3 col 3   row 3 col 4   \n",
       "3   row 4 col 0   row 4 col 1   row 4 col 2   row 4 col 3   row 4 col 4   \n",
       "4   row 5 col 0   row 5 col 1   row 5 col 2   row 5 col 3   row 5 col 4   \n",
       "5   row 6 col 0   row 6 col 1   row 6 col 2   row 6 col 3   row 6 col 4   \n",
       "6   row 7 col 0   row 7 col 1   row 7 col 2   row 7 col 3   row 7 col 4   \n",
       "7   row 8 col 0   row 8 col 1   row 8 col 2   row 8 col 3   row 8 col 4   \n",
       "8   row 9 col 0   row 9 col 1   row 9 col 2   row 9 col 3   row 9 col 4   \n",
       "9  row 10 col 0  row 10 col 1  row 10 col 2  row 10 col 3  row 10 col 4   \n",
       "\n",
       "       header 5      header 6      header 7      header 8      header 9  \n",
       "0   row 1 col 5   row 1 col 6   row 1 col 7   row 1 col 8   row 1 col 9  \n",
       "1   row 2 col 5   row 2 col 6   row 2 col 7   row 2 col 8   row 2 col 9  \n",
       "2   row 3 col 5   row 3 col 6   row 3 col 7   row 3 col 8   row 3 col 9  \n",
       "3   row 4 col 5   row 4 col 6   row 4 col 7   row 4 col 8   row 4 col 9  \n",
       "4   row 5 col 5   row 5 col 6   row 5 col 7   row 5 col 8   row 5 col 9  \n",
       "5   row 6 col 5   row 6 col 6   row 6 col 7   row 6 col 8   row 6 col 9  \n",
       "6   row 7 col 5   row 7 col 6   row 7 col 7   row 7 col 8   row 7 col 9  \n",
       "7   row 8 col 5   row 8 col 6   row 8 col 7   row 8 col 8   row 8 col 9  \n",
       "8   row 9 col 5   row 9 col 6   row 9 col 7   row 9 col 8   row 9 col 9  \n",
       "9  row 10 col 5  row 10 col 6  row 10 col 7  row 10 col 8  row 10 col 9  "
      ]
     },
     "execution_count": 39,
     "metadata": {},
     "output_type": "execute_result"
    }
   ],
   "source": [
    "df = pd.read_csv(\"https://raw.githubusercontent.com/datapackage-examples/sample-csv/master/sample.csv\")\n",
    "df"
   ]
  },
  {
   "cell_type": "markdown",
   "id": "13a9ea58",
   "metadata": {},
   "source": [
    "#### From databases"
   ]
  },
  {
   "cell_type": "markdown",
   "id": "0ffcaa3c",
   "metadata": {},
   "source": [
    "`sql`: [docs](https://pandas.pydata.org/docs/reference/api/pandas.read_sql.html) "
   ]
  },
  {
   "cell_type": "markdown",
   "id": "f2380f09",
   "metadata": {},
   "source": [
    "```python\n",
    "from sqlite3 import connect\n",
    "\n",
    "conn = connect(':memory:')\n",
    "df = pd.read_sql('SELECT column_1, column_2 FROM sample_data', conn)\n",
    "\n",
    "df.to_sql('test_data', conn)\n",
    "```"
   ]
  },
  {
   "cell_type": "markdown",
   "id": "8c92c595",
   "metadata": {},
   "source": [
    "`mongodb`"
   ]
  },
  {
   "cell_type": "markdown",
   "id": "431cee4b",
   "metadata": {},
   "source": [
    "```python\n",
    "import pymongo\n",
    "from pymongo import MongoClient\n",
    "\n",
    "client = MongoClient()\n",
    "db = client.database_name\n",
    "collection = db.collection_name\n",
    "data = pd.DataFrame(list(collection.find()))\n",
    "```"
   ]
  },
  {
   "cell_type": "markdown",
   "id": "adf7fbf8",
   "metadata": {
    "lang": "en"
   },
   "source": [
    "## Exploratory analysis of a dataframe"
   ]
  },
  {
   "cell_type": "code",
   "execution_count": 40,
   "id": "26afb4e2",
   "metadata": {},
   "outputs": [
    {
     "data": {
      "text/html": [
       "<div>\n",
       "<style scoped>\n",
       "    .dataframe tbody tr th:only-of-type {\n",
       "        vertical-align: middle;\n",
       "    }\n",
       "\n",
       "    .dataframe tbody tr th {\n",
       "        vertical-align: top;\n",
       "    }\n",
       "\n",
       "    .dataframe thead th {\n",
       "        text-align: right;\n",
       "    }\n",
       "</style>\n",
       "<table border=\"1\" class=\"dataframe\">\n",
       "  <thead>\n",
       "    <tr style=\"text-align: right;\">\n",
       "      <th></th>\n",
       "      <th>TV</th>\n",
       "      <th>Radio</th>\n",
       "      <th>Newspaper</th>\n",
       "      <th>Sales</th>\n",
       "    </tr>\n",
       "  </thead>\n",
       "  <tbody>\n",
       "    <tr>\n",
       "      <th>0</th>\n",
       "      <td>230.1</td>\n",
       "      <td>37.8</td>\n",
       "      <td>69.2</td>\n",
       "      <td>22.1</td>\n",
       "    </tr>\n",
       "    <tr>\n",
       "      <th>1</th>\n",
       "      <td>44.5</td>\n",
       "      <td>39.3</td>\n",
       "      <td>45.1</td>\n",
       "      <td>10.4</td>\n",
       "    </tr>\n",
       "    <tr>\n",
       "      <th>2</th>\n",
       "      <td>17.2</td>\n",
       "      <td>45.9</td>\n",
       "      <td>69.3</td>\n",
       "      <td>9.3</td>\n",
       "    </tr>\n",
       "    <tr>\n",
       "      <th>3</th>\n",
       "      <td>151.5</td>\n",
       "      <td>41.3</td>\n",
       "      <td>58.5</td>\n",
       "      <td>18.5</td>\n",
       "    </tr>\n",
       "    <tr>\n",
       "      <th>4</th>\n",
       "      <td>180.8</td>\n",
       "      <td>10.8</td>\n",
       "      <td>58.4</td>\n",
       "      <td>12.9</td>\n",
       "    </tr>\n",
       "    <tr>\n",
       "      <th>...</th>\n",
       "      <td>...</td>\n",
       "      <td>...</td>\n",
       "      <td>...</td>\n",
       "      <td>...</td>\n",
       "    </tr>\n",
       "    <tr>\n",
       "      <th>195</th>\n",
       "      <td>38.2</td>\n",
       "      <td>3.7</td>\n",
       "      <td>13.8</td>\n",
       "      <td>7.6</td>\n",
       "    </tr>\n",
       "    <tr>\n",
       "      <th>196</th>\n",
       "      <td>94.2</td>\n",
       "      <td>4.9</td>\n",
       "      <td>8.1</td>\n",
       "      <td>9.7</td>\n",
       "    </tr>\n",
       "    <tr>\n",
       "      <th>197</th>\n",
       "      <td>177.0</td>\n",
       "      <td>9.3</td>\n",
       "      <td>6.4</td>\n",
       "      <td>12.8</td>\n",
       "    </tr>\n",
       "    <tr>\n",
       "      <th>198</th>\n",
       "      <td>283.6</td>\n",
       "      <td>42.0</td>\n",
       "      <td>66.2</td>\n",
       "      <td>25.5</td>\n",
       "    </tr>\n",
       "    <tr>\n",
       "      <th>199</th>\n",
       "      <td>232.1</td>\n",
       "      <td>8.6</td>\n",
       "      <td>8.7</td>\n",
       "      <td>13.4</td>\n",
       "    </tr>\n",
       "  </tbody>\n",
       "</table>\n",
       "<p>200 rows × 4 columns</p>\n",
       "</div>"
      ],
      "text/plain": [
       "        TV  Radio  Newspaper  Sales\n",
       "0    230.1   37.8       69.2   22.1\n",
       "1     44.5   39.3       45.1   10.4\n",
       "2     17.2   45.9       69.3    9.3\n",
       "3    151.5   41.3       58.5   18.5\n",
       "4    180.8   10.8       58.4   12.9\n",
       "..     ...    ...        ...    ...\n",
       "195   38.2    3.7       13.8    7.6\n",
       "196   94.2    4.9        8.1    9.7\n",
       "197  177.0    9.3        6.4   12.8\n",
       "198  283.6   42.0       66.2   25.5\n",
       "199  232.1    8.6        8.7   13.4\n",
       "\n",
       "[200 rows x 4 columns]"
      ]
     },
     "execution_count": 40,
     "metadata": {},
     "output_type": "execute_result"
    }
   ],
   "source": [
    "df = pd.read_csv(\"../datasets/Advertising.csv\")\n",
    "df"
   ]
  },
  {
   "cell_type": "markdown",
   "id": "0b9482a5",
   "metadata": {},
   "source": [
    "### Meta information"
   ]
  },
  {
   "cell_type": "markdown",
   "id": "f9974075",
   "metadata": {},
   "source": [
    "`shape, columns, dtypes, info, describe`"
   ]
  },
  {
   "cell_type": "code",
   "execution_count": 41,
   "id": "70888240",
   "metadata": {},
   "outputs": [
    {
     "data": {
      "text/plain": [
       "'\\nclass DataFrame ():\\n    def __init__ (self, data):\\n        self.shape = shape\\n        self.columns = []\\n'"
      ]
     },
     "execution_count": 41,
     "metadata": {},
     "output_type": "execute_result"
    }
   ],
   "source": [
    "\"\"\"\n",
    "class DataFrame ():\n",
    "    def __init__ (self, data):\n",
    "        self.shape = shape\n",
    "        self.columns = []\n",
    "\"\"\""
   ]
  },
  {
   "cell_type": "code",
   "execution_count": 42,
   "id": "08c126dd",
   "metadata": {},
   "outputs": [
    {
     "data": {
      "text/plain": [
       "(200, 4)"
      ]
     },
     "execution_count": 42,
     "metadata": {},
     "output_type": "execute_result"
    }
   ],
   "source": [
    "df.shape"
   ]
  },
  {
   "cell_type": "code",
   "execution_count": 43,
   "id": "d84a0776",
   "metadata": {},
   "outputs": [
    {
     "data": {
      "text/plain": [
       "Index(['TV', 'Radio', 'Newspaper', 'Sales'], dtype='object')"
      ]
     },
     "execution_count": 43,
     "metadata": {},
     "output_type": "execute_result"
    }
   ],
   "source": [
    "df.columns"
   ]
  },
  {
   "cell_type": "code",
   "execution_count": 44,
   "id": "3ac4d773",
   "metadata": {},
   "outputs": [
    {
     "data": {
      "text/plain": [
       "['TV', 'Radio', 'Newspaper', 'Sales']"
      ]
     },
     "execution_count": 44,
     "metadata": {},
     "output_type": "execute_result"
    }
   ],
   "source": [
    "list(df.columns)"
   ]
  },
  {
   "cell_type": "code",
   "execution_count": 45,
   "id": "f93a77d1",
   "metadata": {},
   "outputs": [
    {
     "data": {
      "text/plain": [
       "TV           float64\n",
       "Radio        float64\n",
       "Newspaper    float64\n",
       "Sales        float64\n",
       "dtype: object"
      ]
     },
     "execution_count": 45,
     "metadata": {},
     "output_type": "execute_result"
    }
   ],
   "source": [
    "df.dtypes"
   ]
  },
  {
   "cell_type": "code",
   "execution_count": 46,
   "id": "e90f27ee",
   "metadata": {},
   "outputs": [
    {
     "name": "stdout",
     "output_type": "stream",
     "text": [
      "<class 'pandas.core.frame.DataFrame'>\n",
      "RangeIndex: 200 entries, 0 to 199\n",
      "Data columns (total 4 columns):\n",
      " #   Column     Non-Null Count  Dtype  \n",
      "---  ------     --------------  -----  \n",
      " 0   TV         200 non-null    float64\n",
      " 1   Radio      200 non-null    float64\n",
      " 2   Newspaper  200 non-null    float64\n",
      " 3   Sales      200 non-null    float64\n",
      "dtypes: float64(4)\n",
      "memory usage: 6.4 KB\n"
     ]
    }
   ],
   "source": [
    "df.info()"
   ]
  },
  {
   "cell_type": "code",
   "execution_count": 47,
   "id": "cc13a107",
   "metadata": {},
   "outputs": [
    {
     "data": {
      "text/html": [
       "<div>\n",
       "<style scoped>\n",
       "    .dataframe tbody tr th:only-of-type {\n",
       "        vertical-align: middle;\n",
       "    }\n",
       "\n",
       "    .dataframe tbody tr th {\n",
       "        vertical-align: top;\n",
       "    }\n",
       "\n",
       "    .dataframe thead th {\n",
       "        text-align: right;\n",
       "    }\n",
       "</style>\n",
       "<table border=\"1\" class=\"dataframe\">\n",
       "  <thead>\n",
       "    <tr style=\"text-align: right;\">\n",
       "      <th></th>\n",
       "      <th>TV</th>\n",
       "      <th>Radio</th>\n",
       "      <th>Newspaper</th>\n",
       "      <th>Sales</th>\n",
       "    </tr>\n",
       "  </thead>\n",
       "  <tbody>\n",
       "    <tr>\n",
       "      <th>count</th>\n",
       "      <td>200.000000</td>\n",
       "      <td>200.000000</td>\n",
       "      <td>200.000000</td>\n",
       "      <td>200.000000</td>\n",
       "    </tr>\n",
       "    <tr>\n",
       "      <th>mean</th>\n",
       "      <td>147.042500</td>\n",
       "      <td>23.264000</td>\n",
       "      <td>30.554000</td>\n",
       "      <td>14.022500</td>\n",
       "    </tr>\n",
       "    <tr>\n",
       "      <th>std</th>\n",
       "      <td>85.854236</td>\n",
       "      <td>14.846809</td>\n",
       "      <td>21.778621</td>\n",
       "      <td>5.217457</td>\n",
       "    </tr>\n",
       "    <tr>\n",
       "      <th>min</th>\n",
       "      <td>0.700000</td>\n",
       "      <td>0.000000</td>\n",
       "      <td>0.300000</td>\n",
       "      <td>1.600000</td>\n",
       "    </tr>\n",
       "    <tr>\n",
       "      <th>25%</th>\n",
       "      <td>74.375000</td>\n",
       "      <td>9.975000</td>\n",
       "      <td>12.750000</td>\n",
       "      <td>10.375000</td>\n",
       "    </tr>\n",
       "    <tr>\n",
       "      <th>50%</th>\n",
       "      <td>149.750000</td>\n",
       "      <td>22.900000</td>\n",
       "      <td>25.750000</td>\n",
       "      <td>12.900000</td>\n",
       "    </tr>\n",
       "    <tr>\n",
       "      <th>75%</th>\n",
       "      <td>218.825000</td>\n",
       "      <td>36.525000</td>\n",
       "      <td>45.100000</td>\n",
       "      <td>17.400000</td>\n",
       "    </tr>\n",
       "    <tr>\n",
       "      <th>max</th>\n",
       "      <td>296.400000</td>\n",
       "      <td>49.600000</td>\n",
       "      <td>114.000000</td>\n",
       "      <td>27.000000</td>\n",
       "    </tr>\n",
       "  </tbody>\n",
       "</table>\n",
       "</div>"
      ],
      "text/plain": [
       "               TV       Radio   Newspaper       Sales\n",
       "count  200.000000  200.000000  200.000000  200.000000\n",
       "mean   147.042500   23.264000   30.554000   14.022500\n",
       "std     85.854236   14.846809   21.778621    5.217457\n",
       "min      0.700000    0.000000    0.300000    1.600000\n",
       "25%     74.375000    9.975000   12.750000   10.375000\n",
       "50%    149.750000   22.900000   25.750000   12.900000\n",
       "75%    218.825000   36.525000   45.100000   17.400000\n",
       "max    296.400000   49.600000  114.000000   27.000000"
      ]
     },
     "execution_count": 47,
     "metadata": {},
     "output_type": "execute_result"
    }
   ],
   "source": [
    "df.describe() # Generate descriptive statistics"
   ]
  },
  {
   "cell_type": "markdown",
   "id": "df76790c",
   "metadata": {},
   "source": [
    "[How dtypes work](https://numpy.org/doc/stable/reference/arrays.dtypes.html)"
   ]
  },
  {
   "cell_type": "markdown",
   "id": "e7886577",
   "metadata": {
    "lang": "en"
   },
   "source": [
    "### Previsualization"
   ]
  },
  {
   "cell_type": "markdown",
   "id": "9209b64c",
   "metadata": {},
   "source": [
    "`head`"
   ]
  },
  {
   "cell_type": "code",
   "execution_count": 48,
   "id": "ea5f94b4",
   "metadata": {},
   "outputs": [],
   "source": [
    "# bash: head & tail"
   ]
  },
  {
   "cell_type": "code",
   "execution_count": 49,
   "id": "f7deefb1",
   "metadata": {},
   "outputs": [
    {
     "data": {
      "text/html": [
       "<div>\n",
       "<style scoped>\n",
       "    .dataframe tbody tr th:only-of-type {\n",
       "        vertical-align: middle;\n",
       "    }\n",
       "\n",
       "    .dataframe tbody tr th {\n",
       "        vertical-align: top;\n",
       "    }\n",
       "\n",
       "    .dataframe thead th {\n",
       "        text-align: right;\n",
       "    }\n",
       "</style>\n",
       "<table border=\"1\" class=\"dataframe\">\n",
       "  <thead>\n",
       "    <tr style=\"text-align: right;\">\n",
       "      <th></th>\n",
       "      <th>TV</th>\n",
       "      <th>Radio</th>\n",
       "      <th>Newspaper</th>\n",
       "      <th>Sales</th>\n",
       "    </tr>\n",
       "  </thead>\n",
       "  <tbody>\n",
       "    <tr>\n",
       "      <th>0</th>\n",
       "      <td>230.1</td>\n",
       "      <td>37.8</td>\n",
       "      <td>69.2</td>\n",
       "      <td>22.1</td>\n",
       "    </tr>\n",
       "    <tr>\n",
       "      <th>1</th>\n",
       "      <td>44.5</td>\n",
       "      <td>39.3</td>\n",
       "      <td>45.1</td>\n",
       "      <td>10.4</td>\n",
       "    </tr>\n",
       "    <tr>\n",
       "      <th>2</th>\n",
       "      <td>17.2</td>\n",
       "      <td>45.9</td>\n",
       "      <td>69.3</td>\n",
       "      <td>9.3</td>\n",
       "    </tr>\n",
       "    <tr>\n",
       "      <th>3</th>\n",
       "      <td>151.5</td>\n",
       "      <td>41.3</td>\n",
       "      <td>58.5</td>\n",
       "      <td>18.5</td>\n",
       "    </tr>\n",
       "    <tr>\n",
       "      <th>4</th>\n",
       "      <td>180.8</td>\n",
       "      <td>10.8</td>\n",
       "      <td>58.4</td>\n",
       "      <td>12.9</td>\n",
       "    </tr>\n",
       "  </tbody>\n",
       "</table>\n",
       "</div>"
      ],
      "text/plain": [
       "      TV  Radio  Newspaper  Sales\n",
       "0  230.1   37.8       69.2   22.1\n",
       "1   44.5   39.3       45.1   10.4\n",
       "2   17.2   45.9       69.3    9.3\n",
       "3  151.5   41.3       58.5   18.5\n",
       "4  180.8   10.8       58.4   12.9"
      ]
     },
     "execution_count": 49,
     "metadata": {},
     "output_type": "execute_result"
    }
   ],
   "source": [
    "df.head()"
   ]
  },
  {
   "cell_type": "markdown",
   "id": "d5c6520b",
   "metadata": {
    "lang": "en"
   },
   "source": [
    "By default head shows me the first 5 rows, I can see some more or less by passing a number as a parameter"
   ]
  },
  {
   "cell_type": "code",
   "execution_count": 50,
   "id": "e9674cf1",
   "metadata": {},
   "outputs": [
    {
     "data": {
      "text/html": [
       "<div>\n",
       "<style scoped>\n",
       "    .dataframe tbody tr th:only-of-type {\n",
       "        vertical-align: middle;\n",
       "    }\n",
       "\n",
       "    .dataframe tbody tr th {\n",
       "        vertical-align: top;\n",
       "    }\n",
       "\n",
       "    .dataframe thead th {\n",
       "        text-align: right;\n",
       "    }\n",
       "</style>\n",
       "<table border=\"1\" class=\"dataframe\">\n",
       "  <thead>\n",
       "    <tr style=\"text-align: right;\">\n",
       "      <th></th>\n",
       "      <th>TV</th>\n",
       "      <th>Radio</th>\n",
       "      <th>Newspaper</th>\n",
       "      <th>Sales</th>\n",
       "    </tr>\n",
       "  </thead>\n",
       "  <tbody>\n",
       "    <tr>\n",
       "      <th>0</th>\n",
       "      <td>230.1</td>\n",
       "      <td>37.8</td>\n",
       "      <td>69.2</td>\n",
       "      <td>22.1</td>\n",
       "    </tr>\n",
       "    <tr>\n",
       "      <th>1</th>\n",
       "      <td>44.5</td>\n",
       "      <td>39.3</td>\n",
       "      <td>45.1</td>\n",
       "      <td>10.4</td>\n",
       "    </tr>\n",
       "    <tr>\n",
       "      <th>2</th>\n",
       "      <td>17.2</td>\n",
       "      <td>45.9</td>\n",
       "      <td>69.3</td>\n",
       "      <td>9.3</td>\n",
       "    </tr>\n",
       "    <tr>\n",
       "      <th>3</th>\n",
       "      <td>151.5</td>\n",
       "      <td>41.3</td>\n",
       "      <td>58.5</td>\n",
       "      <td>18.5</td>\n",
       "    </tr>\n",
       "    <tr>\n",
       "      <th>4</th>\n",
       "      <td>180.8</td>\n",
       "      <td>10.8</td>\n",
       "      <td>58.4</td>\n",
       "      <td>12.9</td>\n",
       "    </tr>\n",
       "    <tr>\n",
       "      <th>5</th>\n",
       "      <td>8.7</td>\n",
       "      <td>48.9</td>\n",
       "      <td>75.0</td>\n",
       "      <td>7.2</td>\n",
       "    </tr>\n",
       "    <tr>\n",
       "      <th>6</th>\n",
       "      <td>57.5</td>\n",
       "      <td>32.8</td>\n",
       "      <td>23.5</td>\n",
       "      <td>11.8</td>\n",
       "    </tr>\n",
       "    <tr>\n",
       "      <th>7</th>\n",
       "      <td>120.2</td>\n",
       "      <td>19.6</td>\n",
       "      <td>11.6</td>\n",
       "      <td>13.2</td>\n",
       "    </tr>\n",
       "  </tbody>\n",
       "</table>\n",
       "</div>"
      ],
      "text/plain": [
       "      TV  Radio  Newspaper  Sales\n",
       "0  230.1   37.8       69.2   22.1\n",
       "1   44.5   39.3       45.1   10.4\n",
       "2   17.2   45.9       69.3    9.3\n",
       "3  151.5   41.3       58.5   18.5\n",
       "4  180.8   10.8       58.4   12.9\n",
       "5    8.7   48.9       75.0    7.2\n",
       "6   57.5   32.8       23.5   11.8\n",
       "7  120.2   19.6       11.6   13.2"
      ]
     },
     "execution_count": 50,
     "metadata": {},
     "output_type": "execute_result"
    }
   ],
   "source": [
    "df.head(8)"
   ]
  },
  {
   "cell_type": "markdown",
   "id": "c9283b27",
   "metadata": {},
   "source": [
    "`tail`"
   ]
  },
  {
   "cell_type": "code",
   "execution_count": 51,
   "id": "90dfa844",
   "metadata": {
    "scrolled": true
   },
   "outputs": [
    {
     "data": {
      "text/html": [
       "<div>\n",
       "<style scoped>\n",
       "    .dataframe tbody tr th:only-of-type {\n",
       "        vertical-align: middle;\n",
       "    }\n",
       "\n",
       "    .dataframe tbody tr th {\n",
       "        vertical-align: top;\n",
       "    }\n",
       "\n",
       "    .dataframe thead th {\n",
       "        text-align: right;\n",
       "    }\n",
       "</style>\n",
       "<table border=\"1\" class=\"dataframe\">\n",
       "  <thead>\n",
       "    <tr style=\"text-align: right;\">\n",
       "      <th></th>\n",
       "      <th>TV</th>\n",
       "      <th>Radio</th>\n",
       "      <th>Newspaper</th>\n",
       "      <th>Sales</th>\n",
       "    </tr>\n",
       "  </thead>\n",
       "  <tbody>\n",
       "    <tr>\n",
       "      <th>195</th>\n",
       "      <td>38.2</td>\n",
       "      <td>3.7</td>\n",
       "      <td>13.8</td>\n",
       "      <td>7.6</td>\n",
       "    </tr>\n",
       "    <tr>\n",
       "      <th>196</th>\n",
       "      <td>94.2</td>\n",
       "      <td>4.9</td>\n",
       "      <td>8.1</td>\n",
       "      <td>9.7</td>\n",
       "    </tr>\n",
       "    <tr>\n",
       "      <th>197</th>\n",
       "      <td>177.0</td>\n",
       "      <td>9.3</td>\n",
       "      <td>6.4</td>\n",
       "      <td>12.8</td>\n",
       "    </tr>\n",
       "    <tr>\n",
       "      <th>198</th>\n",
       "      <td>283.6</td>\n",
       "      <td>42.0</td>\n",
       "      <td>66.2</td>\n",
       "      <td>25.5</td>\n",
       "    </tr>\n",
       "    <tr>\n",
       "      <th>199</th>\n",
       "      <td>232.1</td>\n",
       "      <td>8.6</td>\n",
       "      <td>8.7</td>\n",
       "      <td>13.4</td>\n",
       "    </tr>\n",
       "  </tbody>\n",
       "</table>\n",
       "</div>"
      ],
      "text/plain": [
       "        TV  Radio  Newspaper  Sales\n",
       "195   38.2    3.7       13.8    7.6\n",
       "196   94.2    4.9        8.1    9.7\n",
       "197  177.0    9.3        6.4   12.8\n",
       "198  283.6   42.0       66.2   25.5\n",
       "199  232.1    8.6        8.7   13.4"
      ]
     },
     "execution_count": 51,
     "metadata": {},
     "output_type": "execute_result"
    }
   ],
   "source": [
    "df.tail()"
   ]
  },
  {
   "cell_type": "markdown",
   "id": "71547174",
   "metadata": {
    "lang": "en"
   },
   "source": [
    "### Order a dataframe"
   ]
  },
  {
   "cell_type": "code",
   "execution_count": 52,
   "id": "e5ce91c8",
   "metadata": {},
   "outputs": [],
   "source": [
    "df = pd.read_csv(\"../datasets/avocado_kaggle.csv\")"
   ]
  },
  {
   "cell_type": "code",
   "execution_count": 53,
   "id": "df0b1ed0",
   "metadata": {},
   "outputs": [
    {
     "data": {
      "text/html": [
       "<div>\n",
       "<style scoped>\n",
       "    .dataframe tbody tr th:only-of-type {\n",
       "        vertical-align: middle;\n",
       "    }\n",
       "\n",
       "    .dataframe tbody tr th {\n",
       "        vertical-align: top;\n",
       "    }\n",
       "\n",
       "    .dataframe thead th {\n",
       "        text-align: right;\n",
       "    }\n",
       "</style>\n",
       "<table border=\"1\" class=\"dataframe\">\n",
       "  <thead>\n",
       "    <tr style=\"text-align: right;\">\n",
       "      <th></th>\n",
       "      <th>Unnamed: 0</th>\n",
       "      <th>Date</th>\n",
       "      <th>AveragePrice</th>\n",
       "      <th>Total Volume</th>\n",
       "      <th>4046</th>\n",
       "      <th>4225</th>\n",
       "      <th>4770</th>\n",
       "      <th>Total Bags</th>\n",
       "      <th>Small Bags</th>\n",
       "      <th>Large Bags</th>\n",
       "      <th>XLarge Bags</th>\n",
       "      <th>type</th>\n",
       "      <th>year</th>\n",
       "      <th>region</th>\n",
       "    </tr>\n",
       "  </thead>\n",
       "  <tbody>\n",
       "    <tr>\n",
       "      <th>5647</th>\n",
       "      <td>31</td>\n",
       "      <td>2017-05-28</td>\n",
       "      <td>1.8</td>\n",
       "      <td>121869.11</td>\n",
       "      <td>2345.65</td>\n",
       "      <td>106690.16</td>\n",
       "      <td>105.74</td>\n",
       "      <td>12727.56</td>\n",
       "      <td>6141.75</td>\n",
       "      <td>6029.14</td>\n",
       "      <td>556.67</td>\n",
       "      <td>conventional</td>\n",
       "      <td>2017</td>\n",
       "      <td>Albany</td>\n",
       "    </tr>\n",
       "  </tbody>\n",
       "</table>\n",
       "</div>"
      ],
      "text/plain": [
       "      Unnamed: 0        Date  AveragePrice  Total Volume     4046       4225  \\\n",
       "5647          31  2017-05-28           1.8     121869.11  2345.65  106690.16   \n",
       "\n",
       "        4770  Total Bags  Small Bags  Large Bags  XLarge Bags          type  \\\n",
       "5647  105.74    12727.56     6141.75     6029.14       556.67  conventional   \n",
       "\n",
       "      year  region  \n",
       "5647  2017  Albany  "
      ]
     },
     "execution_count": 53,
     "metadata": {},
     "output_type": "execute_result"
    }
   ],
   "source": [
    "df.sample()"
   ]
  },
  {
   "cell_type": "code",
   "execution_count": 54,
   "id": "d05716ad",
   "metadata": {},
   "outputs": [
    {
     "data": {
      "text/html": [
       "<div>\n",
       "<style scoped>\n",
       "    .dataframe tbody tr th:only-of-type {\n",
       "        vertical-align: middle;\n",
       "    }\n",
       "\n",
       "    .dataframe tbody tr th {\n",
       "        vertical-align: top;\n",
       "    }\n",
       "\n",
       "    .dataframe thead th {\n",
       "        text-align: right;\n",
       "    }\n",
       "</style>\n",
       "<table border=\"1\" class=\"dataframe\">\n",
       "  <thead>\n",
       "    <tr style=\"text-align: right;\">\n",
       "      <th></th>\n",
       "      <th>Unnamed: 0</th>\n",
       "      <th>Date</th>\n",
       "      <th>AveragePrice</th>\n",
       "      <th>Total Volume</th>\n",
       "      <th>4046</th>\n",
       "      <th>4225</th>\n",
       "      <th>4770</th>\n",
       "      <th>Total Bags</th>\n",
       "      <th>Small Bags</th>\n",
       "      <th>Large Bags</th>\n",
       "      <th>XLarge Bags</th>\n",
       "      <th>type</th>\n",
       "      <th>year</th>\n",
       "      <th>region</th>\n",
       "    </tr>\n",
       "  </thead>\n",
       "  <tbody>\n",
       "    <tr>\n",
       "      <th>17601</th>\n",
       "      <td>0</td>\n",
       "      <td>2018-03-25</td>\n",
       "      <td>1.71</td>\n",
       "      <td>2321.82</td>\n",
       "      <td>42.95</td>\n",
       "      <td>272.41</td>\n",
       "      <td>0.00</td>\n",
       "      <td>2006.46</td>\n",
       "      <td>1996.46</td>\n",
       "      <td>10.00</td>\n",
       "      <td>0.0</td>\n",
       "      <td>organic</td>\n",
       "      <td>2018</td>\n",
       "      <td>Albany</td>\n",
       "    </tr>\n",
       "    <tr>\n",
       "      <th>17602</th>\n",
       "      <td>1</td>\n",
       "      <td>2018-03-18</td>\n",
       "      <td>1.66</td>\n",
       "      <td>3154.45</td>\n",
       "      <td>275.89</td>\n",
       "      <td>297.96</td>\n",
       "      <td>0.00</td>\n",
       "      <td>2580.60</td>\n",
       "      <td>2577.27</td>\n",
       "      <td>3.33</td>\n",
       "      <td>0.0</td>\n",
       "      <td>organic</td>\n",
       "      <td>2018</td>\n",
       "      <td>Albany</td>\n",
       "    </tr>\n",
       "    <tr>\n",
       "      <th>17603</th>\n",
       "      <td>2</td>\n",
       "      <td>2018-03-11</td>\n",
       "      <td>1.68</td>\n",
       "      <td>2570.52</td>\n",
       "      <td>131.67</td>\n",
       "      <td>229.56</td>\n",
       "      <td>0.00</td>\n",
       "      <td>2209.29</td>\n",
       "      <td>2209.29</td>\n",
       "      <td>0.00</td>\n",
       "      <td>0.0</td>\n",
       "      <td>organic</td>\n",
       "      <td>2018</td>\n",
       "      <td>Albany</td>\n",
       "    </tr>\n",
       "    <tr>\n",
       "      <th>17604</th>\n",
       "      <td>3</td>\n",
       "      <td>2018-03-04</td>\n",
       "      <td>1.48</td>\n",
       "      <td>3851.30</td>\n",
       "      <td>311.55</td>\n",
       "      <td>296.77</td>\n",
       "      <td>0.00</td>\n",
       "      <td>3242.98</td>\n",
       "      <td>3239.65</td>\n",
       "      <td>3.33</td>\n",
       "      <td>0.0</td>\n",
       "      <td>organic</td>\n",
       "      <td>2018</td>\n",
       "      <td>Albany</td>\n",
       "    </tr>\n",
       "    <tr>\n",
       "      <th>17605</th>\n",
       "      <td>4</td>\n",
       "      <td>2018-02-25</td>\n",
       "      <td>1.56</td>\n",
       "      <td>5356.63</td>\n",
       "      <td>816.56</td>\n",
       "      <td>532.59</td>\n",
       "      <td>0.00</td>\n",
       "      <td>4007.48</td>\n",
       "      <td>4007.48</td>\n",
       "      <td>0.00</td>\n",
       "      <td>0.0</td>\n",
       "      <td>organic</td>\n",
       "      <td>2018</td>\n",
       "      <td>Albany</td>\n",
       "    </tr>\n",
       "    <tr>\n",
       "      <th>...</th>\n",
       "      <td>...</td>\n",
       "      <td>...</td>\n",
       "      <td>...</td>\n",
       "      <td>...</td>\n",
       "      <td>...</td>\n",
       "      <td>...</td>\n",
       "      <td>...</td>\n",
       "      <td>...</td>\n",
       "      <td>...</td>\n",
       "      <td>...</td>\n",
       "      <td>...</td>\n",
       "      <td>...</td>\n",
       "      <td>...</td>\n",
       "      <td>...</td>\n",
       "    </tr>\n",
       "    <tr>\n",
       "      <th>2803</th>\n",
       "      <td>47</td>\n",
       "      <td>2015-02-01</td>\n",
       "      <td>0.71</td>\n",
       "      <td>916367.42</td>\n",
       "      <td>611270.39</td>\n",
       "      <td>205181.23</td>\n",
       "      <td>14107.36</td>\n",
       "      <td>85808.44</td>\n",
       "      <td>82065.70</td>\n",
       "      <td>3742.74</td>\n",
       "      <td>0.0</td>\n",
       "      <td>conventional</td>\n",
       "      <td>2015</td>\n",
       "      <td>WestTexNewMexico</td>\n",
       "    </tr>\n",
       "    <tr>\n",
       "      <th>2804</th>\n",
       "      <td>48</td>\n",
       "      <td>2015-01-25</td>\n",
       "      <td>0.80</td>\n",
       "      <td>720800.61</td>\n",
       "      <td>519142.82</td>\n",
       "      <td>124248.86</td>\n",
       "      <td>10573.29</td>\n",
       "      <td>66835.64</td>\n",
       "      <td>65072.69</td>\n",
       "      <td>1762.95</td>\n",
       "      <td>0.0</td>\n",
       "      <td>conventional</td>\n",
       "      <td>2015</td>\n",
       "      <td>WestTexNewMexico</td>\n",
       "    </tr>\n",
       "    <tr>\n",
       "      <th>2805</th>\n",
       "      <td>49</td>\n",
       "      <td>2015-01-18</td>\n",
       "      <td>0.80</td>\n",
       "      <td>729795.72</td>\n",
       "      <td>516446.41</td>\n",
       "      <td>128438.87</td>\n",
       "      <td>12473.14</td>\n",
       "      <td>72437.30</td>\n",
       "      <td>71564.22</td>\n",
       "      <td>873.08</td>\n",
       "      <td>0.0</td>\n",
       "      <td>conventional</td>\n",
       "      <td>2015</td>\n",
       "      <td>WestTexNewMexico</td>\n",
       "    </tr>\n",
       "    <tr>\n",
       "      <th>2806</th>\n",
       "      <td>50</td>\n",
       "      <td>2015-01-11</td>\n",
       "      <td>0.92</td>\n",
       "      <td>584896.99</td>\n",
       "      <td>347125.63</td>\n",
       "      <td>129717.42</td>\n",
       "      <td>27944.07</td>\n",
       "      <td>80109.87</td>\n",
       "      <td>78503.46</td>\n",
       "      <td>1606.41</td>\n",
       "      <td>0.0</td>\n",
       "      <td>conventional</td>\n",
       "      <td>2015</td>\n",
       "      <td>WestTexNewMexico</td>\n",
       "    </tr>\n",
       "    <tr>\n",
       "      <th>2807</th>\n",
       "      <td>51</td>\n",
       "      <td>2015-01-04</td>\n",
       "      <td>0.75</td>\n",
       "      <td>758118.95</td>\n",
       "      <td>426878.87</td>\n",
       "      <td>147958.43</td>\n",
       "      <td>15267.89</td>\n",
       "      <td>168013.76</td>\n",
       "      <td>165202.22</td>\n",
       "      <td>2811.54</td>\n",
       "      <td>0.0</td>\n",
       "      <td>conventional</td>\n",
       "      <td>2015</td>\n",
       "      <td>WestTexNewMexico</td>\n",
       "    </tr>\n",
       "  </tbody>\n",
       "</table>\n",
       "<p>18249 rows × 14 columns</p>\n",
       "</div>"
      ],
      "text/plain": [
       "       Unnamed: 0        Date  AveragePrice  Total Volume       4046  \\\n",
       "17601           0  2018-03-25          1.71       2321.82      42.95   \n",
       "17602           1  2018-03-18          1.66       3154.45     275.89   \n",
       "17603           2  2018-03-11          1.68       2570.52     131.67   \n",
       "17604           3  2018-03-04          1.48       3851.30     311.55   \n",
       "17605           4  2018-02-25          1.56       5356.63     816.56   \n",
       "...           ...         ...           ...           ...        ...   \n",
       "2803           47  2015-02-01          0.71     916367.42  611270.39   \n",
       "2804           48  2015-01-25          0.80     720800.61  519142.82   \n",
       "2805           49  2015-01-18          0.80     729795.72  516446.41   \n",
       "2806           50  2015-01-11          0.92     584896.99  347125.63   \n",
       "2807           51  2015-01-04          0.75     758118.95  426878.87   \n",
       "\n",
       "            4225      4770  Total Bags  Small Bags  Large Bags  XLarge Bags  \\\n",
       "17601     272.41      0.00     2006.46     1996.46       10.00          0.0   \n",
       "17602     297.96      0.00     2580.60     2577.27        3.33          0.0   \n",
       "17603     229.56      0.00     2209.29     2209.29        0.00          0.0   \n",
       "17604     296.77      0.00     3242.98     3239.65        3.33          0.0   \n",
       "17605     532.59      0.00     4007.48     4007.48        0.00          0.0   \n",
       "...          ...       ...         ...         ...         ...          ...   \n",
       "2803   205181.23  14107.36    85808.44    82065.70     3742.74          0.0   \n",
       "2804   124248.86  10573.29    66835.64    65072.69     1762.95          0.0   \n",
       "2805   128438.87  12473.14    72437.30    71564.22      873.08          0.0   \n",
       "2806   129717.42  27944.07    80109.87    78503.46     1606.41          0.0   \n",
       "2807   147958.43  15267.89   168013.76   165202.22     2811.54          0.0   \n",
       "\n",
       "               type  year            region  \n",
       "17601       organic  2018            Albany  \n",
       "17602       organic  2018            Albany  \n",
       "17603       organic  2018            Albany  \n",
       "17604       organic  2018            Albany  \n",
       "17605       organic  2018            Albany  \n",
       "...             ...   ...               ...  \n",
       "2803   conventional  2015  WestTexNewMexico  \n",
       "2804   conventional  2015  WestTexNewMexico  \n",
       "2805   conventional  2015  WestTexNewMexico  \n",
       "2806   conventional  2015  WestTexNewMexico  \n",
       "2807   conventional  2015  WestTexNewMexico  \n",
       "\n",
       "[18249 rows x 14 columns]"
      ]
     },
     "execution_count": 54,
     "metadata": {},
     "output_type": "execute_result"
    }
   ],
   "source": [
    "df.sort_values(by=[\"year\", \"type\"], ascending=False) # with two args"
   ]
  },
  {
   "cell_type": "markdown",
   "id": "ec024b5f",
   "metadata": {
    "lang": "en"
   },
   "source": [
    "Same operation, but give me only concrete columns"
   ]
  },
  {
   "cell_type": "code",
   "execution_count": 55,
   "id": "5206f14e",
   "metadata": {},
   "outputs": [
    {
     "data": {
      "text/html": [
       "<div>\n",
       "<style scoped>\n",
       "    .dataframe tbody tr th:only-of-type {\n",
       "        vertical-align: middle;\n",
       "    }\n",
       "\n",
       "    .dataframe tbody tr th {\n",
       "        vertical-align: top;\n",
       "    }\n",
       "\n",
       "    .dataframe thead th {\n",
       "        text-align: right;\n",
       "    }\n",
       "</style>\n",
       "<table border=\"1\" class=\"dataframe\">\n",
       "  <thead>\n",
       "    <tr style=\"text-align: right;\">\n",
       "      <th></th>\n",
       "      <th>year</th>\n",
       "      <th>region</th>\n",
       "    </tr>\n",
       "  </thead>\n",
       "  <tbody>\n",
       "    <tr>\n",
       "      <th>17601</th>\n",
       "      <td>2018</td>\n",
       "      <td>Albany</td>\n",
       "    </tr>\n",
       "    <tr>\n",
       "      <th>17602</th>\n",
       "      <td>2018</td>\n",
       "      <td>Albany</td>\n",
       "    </tr>\n",
       "    <tr>\n",
       "      <th>17603</th>\n",
       "      <td>2018</td>\n",
       "      <td>Albany</td>\n",
       "    </tr>\n",
       "    <tr>\n",
       "      <th>17604</th>\n",
       "      <td>2018</td>\n",
       "      <td>Albany</td>\n",
       "    </tr>\n",
       "    <tr>\n",
       "      <th>17605</th>\n",
       "      <td>2018</td>\n",
       "      <td>Albany</td>\n",
       "    </tr>\n",
       "    <tr>\n",
       "      <th>...</th>\n",
       "      <td>...</td>\n",
       "      <td>...</td>\n",
       "    </tr>\n",
       "    <tr>\n",
       "      <th>2803</th>\n",
       "      <td>2015</td>\n",
       "      <td>WestTexNewMexico</td>\n",
       "    </tr>\n",
       "    <tr>\n",
       "      <th>2804</th>\n",
       "      <td>2015</td>\n",
       "      <td>WestTexNewMexico</td>\n",
       "    </tr>\n",
       "    <tr>\n",
       "      <th>2805</th>\n",
       "      <td>2015</td>\n",
       "      <td>WestTexNewMexico</td>\n",
       "    </tr>\n",
       "    <tr>\n",
       "      <th>2806</th>\n",
       "      <td>2015</td>\n",
       "      <td>WestTexNewMexico</td>\n",
       "    </tr>\n",
       "    <tr>\n",
       "      <th>2807</th>\n",
       "      <td>2015</td>\n",
       "      <td>WestTexNewMexico</td>\n",
       "    </tr>\n",
       "  </tbody>\n",
       "</table>\n",
       "<p>18249 rows × 2 columns</p>\n",
       "</div>"
      ],
      "text/plain": [
       "       year            region\n",
       "17601  2018            Albany\n",
       "17602  2018            Albany\n",
       "17603  2018            Albany\n",
       "17604  2018            Albany\n",
       "17605  2018            Albany\n",
       "...     ...               ...\n",
       "2803   2015  WestTexNewMexico\n",
       "2804   2015  WestTexNewMexico\n",
       "2805   2015  WestTexNewMexico\n",
       "2806   2015  WestTexNewMexico\n",
       "2807   2015  WestTexNewMexico\n",
       "\n",
       "[18249 rows x 2 columns]"
      ]
     },
     "execution_count": 55,
     "metadata": {},
     "output_type": "execute_result"
    }
   ],
   "source": [
    "df.sort_values(by=[\"year\", \"type\"], ascending=False)[[\"year\", \"region\"]]\n",
    "#df[[\"year_2\", \"region\"]]"
   ]
  },
  {
   "cell_type": "markdown",
   "id": "44fd2f0d",
   "metadata": {},
   "source": [
    "`sample`"
   ]
  },
  {
   "cell_type": "code",
   "execution_count": 56,
   "id": "0d64bfff",
   "metadata": {},
   "outputs": [
    {
     "data": {
      "text/html": [
       "<div>\n",
       "<style scoped>\n",
       "    .dataframe tbody tr th:only-of-type {\n",
       "        vertical-align: middle;\n",
       "    }\n",
       "\n",
       "    .dataframe tbody tr th {\n",
       "        vertical-align: top;\n",
       "    }\n",
       "\n",
       "    .dataframe thead th {\n",
       "        text-align: right;\n",
       "    }\n",
       "</style>\n",
       "<table border=\"1\" class=\"dataframe\">\n",
       "  <thead>\n",
       "    <tr style=\"text-align: right;\">\n",
       "      <th></th>\n",
       "      <th>Unnamed: 0</th>\n",
       "      <th>Date</th>\n",
       "      <th>AveragePrice</th>\n",
       "      <th>Total Volume</th>\n",
       "      <th>4046</th>\n",
       "      <th>4225</th>\n",
       "      <th>4770</th>\n",
       "      <th>Total Bags</th>\n",
       "      <th>Small Bags</th>\n",
       "      <th>Large Bags</th>\n",
       "      <th>XLarge Bags</th>\n",
       "      <th>type</th>\n",
       "      <th>year</th>\n",
       "      <th>region</th>\n",
       "    </tr>\n",
       "  </thead>\n",
       "  <tbody>\n",
       "    <tr>\n",
       "      <th>9385</th>\n",
       "      <td>51</td>\n",
       "      <td>2015-01-04</td>\n",
       "      <td>1.83</td>\n",
       "      <td>2192.13</td>\n",
       "      <td>8.66</td>\n",
       "      <td>939.43</td>\n",
       "      <td>0.0</td>\n",
       "      <td>1244.04</td>\n",
       "      <td>1244.04</td>\n",
       "      <td>0.0</td>\n",
       "      <td>0.0</td>\n",
       "      <td>organic</td>\n",
       "      <td>2015</td>\n",
       "      <td>Boston</td>\n",
       "    </tr>\n",
       "  </tbody>\n",
       "</table>\n",
       "</div>"
      ],
      "text/plain": [
       "      Unnamed: 0        Date  AveragePrice  Total Volume  4046    4225  4770  \\\n",
       "9385          51  2015-01-04          1.83       2192.13  8.66  939.43   0.0   \n",
       "\n",
       "      Total Bags  Small Bags  Large Bags  XLarge Bags     type  year  region  \n",
       "9385     1244.04     1244.04         0.0          0.0  organic  2015  Boston  "
      ]
     },
     "execution_count": 56,
     "metadata": {},
     "output_type": "execute_result"
    }
   ],
   "source": [
    "df.sample()"
   ]
  },
  {
   "cell_type": "code",
   "execution_count": 57,
   "id": "c4ae7e01",
   "metadata": {},
   "outputs": [
    {
     "data": {
      "text/html": [
       "<div>\n",
       "<style scoped>\n",
       "    .dataframe tbody tr th:only-of-type {\n",
       "        vertical-align: middle;\n",
       "    }\n",
       "\n",
       "    .dataframe tbody tr th {\n",
       "        vertical-align: top;\n",
       "    }\n",
       "\n",
       "    .dataframe thead th {\n",
       "        text-align: right;\n",
       "    }\n",
       "</style>\n",
       "<table border=\"1\" class=\"dataframe\">\n",
       "  <thead>\n",
       "    <tr style=\"text-align: right;\">\n",
       "      <th></th>\n",
       "      <th>Unnamed: 0</th>\n",
       "      <th>Date</th>\n",
       "      <th>AveragePrice</th>\n",
       "      <th>Total Volume</th>\n",
       "      <th>4046</th>\n",
       "      <th>4225</th>\n",
       "      <th>4770</th>\n",
       "      <th>Total Bags</th>\n",
       "      <th>Small Bags</th>\n",
       "      <th>Large Bags</th>\n",
       "      <th>XLarge Bags</th>\n",
       "      <th>type</th>\n",
       "      <th>year</th>\n",
       "      <th>region</th>\n",
       "    </tr>\n",
       "  </thead>\n",
       "  <tbody>\n",
       "    <tr>\n",
       "      <th>15493</th>\n",
       "      <td>10</td>\n",
       "      <td>2017-10-22</td>\n",
       "      <td>1.32</td>\n",
       "      <td>9171.48</td>\n",
       "      <td>15.63</td>\n",
       "      <td>686.14</td>\n",
       "      <td>0.00</td>\n",
       "      <td>8469.71</td>\n",
       "      <td>8469.71</td>\n",
       "      <td>0.00</td>\n",
       "      <td>0.00</td>\n",
       "      <td>organic</td>\n",
       "      <td>2017</td>\n",
       "      <td>GrandRapids</td>\n",
       "    </tr>\n",
       "    <tr>\n",
       "      <th>17883</th>\n",
       "      <td>6</td>\n",
       "      <td>2018-02-11</td>\n",
       "      <td>1.56</td>\n",
       "      <td>2174.66</td>\n",
       "      <td>6.00</td>\n",
       "      <td>883.15</td>\n",
       "      <td>0.00</td>\n",
       "      <td>1285.51</td>\n",
       "      <td>1027.05</td>\n",
       "      <td>258.46</td>\n",
       "      <td>0.00</td>\n",
       "      <td>organic</td>\n",
       "      <td>2018</td>\n",
       "      <td>Louisville</td>\n",
       "    </tr>\n",
       "    <tr>\n",
       "      <th>8032</th>\n",
       "      <td>31</td>\n",
       "      <td>2017-05-28</td>\n",
       "      <td>0.96</td>\n",
       "      <td>6549043.84</td>\n",
       "      <td>3495036.65</td>\n",
       "      <td>1267551.42</td>\n",
       "      <td>27015.73</td>\n",
       "      <td>1759440.04</td>\n",
       "      <td>1322192.06</td>\n",
       "      <td>405650.84</td>\n",
       "      <td>31597.14</td>\n",
       "      <td>conventional</td>\n",
       "      <td>2017</td>\n",
       "      <td>SouthCentral</td>\n",
       "    </tr>\n",
       "    <tr>\n",
       "      <th>795</th>\n",
       "      <td>15</td>\n",
       "      <td>2015-09-13</td>\n",
       "      <td>1.03</td>\n",
       "      <td>3532480.92</td>\n",
       "      <td>492741.15</td>\n",
       "      <td>1958150.00</td>\n",
       "      <td>447108.50</td>\n",
       "      <td>634481.27</td>\n",
       "      <td>448051.74</td>\n",
       "      <td>132685.58</td>\n",
       "      <td>53743.95</td>\n",
       "      <td>conventional</td>\n",
       "      <td>2015</td>\n",
       "      <td>GreatLakes</td>\n",
       "    </tr>\n",
       "    <tr>\n",
       "      <th>8024</th>\n",
       "      <td>23</td>\n",
       "      <td>2017-07-23</td>\n",
       "      <td>1.05</td>\n",
       "      <td>5550586.51</td>\n",
       "      <td>2881726.68</td>\n",
       "      <td>1185462.48</td>\n",
       "      <td>16702.54</td>\n",
       "      <td>1466694.81</td>\n",
       "      <td>1013213.46</td>\n",
       "      <td>427812.72</td>\n",
       "      <td>25668.63</td>\n",
       "      <td>conventional</td>\n",
       "      <td>2017</td>\n",
       "      <td>SouthCentral</td>\n",
       "    </tr>\n",
       "    <tr>\n",
       "      <th>...</th>\n",
       "      <td>...</td>\n",
       "      <td>...</td>\n",
       "      <td>...</td>\n",
       "      <td>...</td>\n",
       "      <td>...</td>\n",
       "      <td>...</td>\n",
       "      <td>...</td>\n",
       "      <td>...</td>\n",
       "      <td>...</td>\n",
       "      <td>...</td>\n",
       "      <td>...</td>\n",
       "      <td>...</td>\n",
       "      <td>...</td>\n",
       "      <td>...</td>\n",
       "    </tr>\n",
       "    <tr>\n",
       "      <th>16069</th>\n",
       "      <td>3</td>\n",
       "      <td>2017-12-10</td>\n",
       "      <td>1.61</td>\n",
       "      <td>140885.30</td>\n",
       "      <td>3274.32</td>\n",
       "      <td>33387.67</td>\n",
       "      <td>675.89</td>\n",
       "      <td>103547.42</td>\n",
       "      <td>97646.59</td>\n",
       "      <td>5900.83</td>\n",
       "      <td>0.00</td>\n",
       "      <td>organic</td>\n",
       "      <td>2017</td>\n",
       "      <td>Midsouth</td>\n",
       "    </tr>\n",
       "    <tr>\n",
       "      <th>8648</th>\n",
       "      <td>2</td>\n",
       "      <td>2018-03-11</td>\n",
       "      <td>1.43</td>\n",
       "      <td>191286.89</td>\n",
       "      <td>3195.61</td>\n",
       "      <td>75173.54</td>\n",
       "      <td>55327.24</td>\n",
       "      <td>57590.50</td>\n",
       "      <td>32676.64</td>\n",
       "      <td>8368.93</td>\n",
       "      <td>16544.93</td>\n",
       "      <td>conventional</td>\n",
       "      <td>2018</td>\n",
       "      <td>GrandRapids</td>\n",
       "    </tr>\n",
       "    <tr>\n",
       "      <th>7070</th>\n",
       "      <td>23</td>\n",
       "      <td>2017-07-23</td>\n",
       "      <td>1.39</td>\n",
       "      <td>262774.91</td>\n",
       "      <td>155838.78</td>\n",
       "      <td>38067.91</td>\n",
       "      <td>78.00</td>\n",
       "      <td>68790.22</td>\n",
       "      <td>49217.00</td>\n",
       "      <td>12526.55</td>\n",
       "      <td>7046.67</td>\n",
       "      <td>conventional</td>\n",
       "      <td>2017</td>\n",
       "      <td>NewOrleansMobile</td>\n",
       "    </tr>\n",
       "    <tr>\n",
       "      <th>2603</th>\n",
       "      <td>3</td>\n",
       "      <td>2015-12-06</td>\n",
       "      <td>1.17</td>\n",
       "      <td>227131.21</td>\n",
       "      <td>145404.19</td>\n",
       "      <td>29926.02</td>\n",
       "      <td>43.83</td>\n",
       "      <td>51757.17</td>\n",
       "      <td>33251.65</td>\n",
       "      <td>18505.52</td>\n",
       "      <td>0.00</td>\n",
       "      <td>conventional</td>\n",
       "      <td>2015</td>\n",
       "      <td>Tampa</td>\n",
       "    </tr>\n",
       "    <tr>\n",
       "      <th>18099</th>\n",
       "      <td>6</td>\n",
       "      <td>2018-02-11</td>\n",
       "      <td>1.88</td>\n",
       "      <td>18517.54</td>\n",
       "      <td>1101.05</td>\n",
       "      <td>8243.72</td>\n",
       "      <td>0.00</td>\n",
       "      <td>9172.77</td>\n",
       "      <td>9172.77</td>\n",
       "      <td>0.00</td>\n",
       "      <td>0.00</td>\n",
       "      <td>organic</td>\n",
       "      <td>2018</td>\n",
       "      <td>SanDiego</td>\n",
       "    </tr>\n",
       "  </tbody>\n",
       "</table>\n",
       "<p>182 rows × 14 columns</p>\n",
       "</div>"
      ],
      "text/plain": [
       "       Unnamed: 0        Date  AveragePrice  Total Volume        4046  \\\n",
       "15493          10  2017-10-22          1.32       9171.48       15.63   \n",
       "17883           6  2018-02-11          1.56       2174.66        6.00   \n",
       "8032           31  2017-05-28          0.96    6549043.84  3495036.65   \n",
       "795            15  2015-09-13          1.03    3532480.92   492741.15   \n",
       "8024           23  2017-07-23          1.05    5550586.51  2881726.68   \n",
       "...           ...         ...           ...           ...         ...   \n",
       "16069           3  2017-12-10          1.61     140885.30     3274.32   \n",
       "8648            2  2018-03-11          1.43     191286.89     3195.61   \n",
       "7070           23  2017-07-23          1.39     262774.91   155838.78   \n",
       "2603            3  2015-12-06          1.17     227131.21   145404.19   \n",
       "18099           6  2018-02-11          1.88      18517.54     1101.05   \n",
       "\n",
       "             4225       4770  Total Bags  Small Bags  Large Bags  XLarge Bags  \\\n",
       "15493      686.14       0.00     8469.71     8469.71        0.00         0.00   \n",
       "17883      883.15       0.00     1285.51     1027.05      258.46         0.00   \n",
       "8032   1267551.42   27015.73  1759440.04  1322192.06   405650.84     31597.14   \n",
       "795    1958150.00  447108.50   634481.27   448051.74   132685.58     53743.95   \n",
       "8024   1185462.48   16702.54  1466694.81  1013213.46   427812.72     25668.63   \n",
       "...           ...        ...         ...         ...         ...          ...   \n",
       "16069    33387.67     675.89   103547.42    97646.59     5900.83         0.00   \n",
       "8648     75173.54   55327.24    57590.50    32676.64     8368.93     16544.93   \n",
       "7070     38067.91      78.00    68790.22    49217.00    12526.55      7046.67   \n",
       "2603     29926.02      43.83    51757.17    33251.65    18505.52         0.00   \n",
       "18099     8243.72       0.00     9172.77     9172.77        0.00         0.00   \n",
       "\n",
       "               type  year            region  \n",
       "15493       organic  2017       GrandRapids  \n",
       "17883       organic  2018        Louisville  \n",
       "8032   conventional  2017      SouthCentral  \n",
       "795    conventional  2015        GreatLakes  \n",
       "8024   conventional  2017      SouthCentral  \n",
       "...             ...   ...               ...  \n",
       "16069       organic  2017          Midsouth  \n",
       "8648   conventional  2018       GrandRapids  \n",
       "7070   conventional  2017  NewOrleansMobile  \n",
       "2603   conventional  2015             Tampa  \n",
       "18099       organic  2018          SanDiego  \n",
       "\n",
       "[182 rows x 14 columns]"
      ]
     },
     "execution_count": 57,
     "metadata": {},
     "output_type": "execute_result"
    }
   ],
   "source": [
    "df.sample(frac=0.01) # %"
   ]
  },
  {
   "cell_type": "code",
   "execution_count": 58,
   "id": "2d8f9bd4",
   "metadata": {},
   "outputs": [
    {
     "data": {
      "text/html": [
       "<div>\n",
       "<style scoped>\n",
       "    .dataframe tbody tr th:only-of-type {\n",
       "        vertical-align: middle;\n",
       "    }\n",
       "\n",
       "    .dataframe tbody tr th {\n",
       "        vertical-align: top;\n",
       "    }\n",
       "\n",
       "    .dataframe thead th {\n",
       "        text-align: right;\n",
       "    }\n",
       "</style>\n",
       "<table border=\"1\" class=\"dataframe\">\n",
       "  <thead>\n",
       "    <tr style=\"text-align: right;\">\n",
       "      <th></th>\n",
       "      <th>Unnamed: 0</th>\n",
       "      <th>Date</th>\n",
       "      <th>AveragePrice</th>\n",
       "      <th>Total Volume</th>\n",
       "      <th>4046</th>\n",
       "      <th>4225</th>\n",
       "      <th>4770</th>\n",
       "      <th>Total Bags</th>\n",
       "      <th>Small Bags</th>\n",
       "      <th>Large Bags</th>\n",
       "      <th>XLarge Bags</th>\n",
       "      <th>type</th>\n",
       "      <th>year</th>\n",
       "      <th>region</th>\n",
       "    </tr>\n",
       "  </thead>\n",
       "  <tbody>\n",
       "    <tr>\n",
       "      <th>7189</th>\n",
       "      <td>36</td>\n",
       "      <td>2017-04-23</td>\n",
       "      <td>1.59</td>\n",
       "      <td>3846196.30</td>\n",
       "      <td>244168.62</td>\n",
       "      <td>2440599.66</td>\n",
       "      <td>12331.97</td>\n",
       "      <td>1149096.05</td>\n",
       "      <td>892014.05</td>\n",
       "      <td>250892.40</td>\n",
       "      <td>6189.6</td>\n",
       "      <td>conventional</td>\n",
       "      <td>2017</td>\n",
       "      <td>Northeast</td>\n",
       "    </tr>\n",
       "    <tr>\n",
       "      <th>13113</th>\n",
       "      <td>36</td>\n",
       "      <td>2016-04-17</td>\n",
       "      <td>1.01</td>\n",
       "      <td>106228.91</td>\n",
       "      <td>10528.54</td>\n",
       "      <td>24399.57</td>\n",
       "      <td>0.00</td>\n",
       "      <td>71300.80</td>\n",
       "      <td>70842.07</td>\n",
       "      <td>458.73</td>\n",
       "      <td>0.0</td>\n",
       "      <td>organic</td>\n",
       "      <td>2016</td>\n",
       "      <td>LosAngeles</td>\n",
       "    </tr>\n",
       "    <tr>\n",
       "      <th>6496</th>\n",
       "      <td>32</td>\n",
       "      <td>2017-05-21</td>\n",
       "      <td>1.51</td>\n",
       "      <td>244638.89</td>\n",
       "      <td>52736.28</td>\n",
       "      <td>119601.86</td>\n",
       "      <td>179.49</td>\n",
       "      <td>72121.26</td>\n",
       "      <td>70371.47</td>\n",
       "      <td>1749.79</td>\n",
       "      <td>0.0</td>\n",
       "      <td>conventional</td>\n",
       "      <td>2017</td>\n",
       "      <td>HarrisburgScranton</td>\n",
       "    </tr>\n",
       "    <tr>\n",
       "      <th>4250</th>\n",
       "      <td>38</td>\n",
       "      <td>2016-04-03</td>\n",
       "      <td>0.89</td>\n",
       "      <td>316709.44</td>\n",
       "      <td>183584.86</td>\n",
       "      <td>29117.49</td>\n",
       "      <td>4574.45</td>\n",
       "      <td>99432.64</td>\n",
       "      <td>80521.66</td>\n",
       "      <td>18910.98</td>\n",
       "      <td>0.0</td>\n",
       "      <td>conventional</td>\n",
       "      <td>2016</td>\n",
       "      <td>NewOrleansMobile</td>\n",
       "    </tr>\n",
       "    <tr>\n",
       "      <th>4115</th>\n",
       "      <td>7</td>\n",
       "      <td>2016-11-06</td>\n",
       "      <td>1.54</td>\n",
       "      <td>2077507.41</td>\n",
       "      <td>569735.76</td>\n",
       "      <td>697011.92</td>\n",
       "      <td>122472.40</td>\n",
       "      <td>688287.33</td>\n",
       "      <td>588028.35</td>\n",
       "      <td>99508.98</td>\n",
       "      <td>750.0</td>\n",
       "      <td>conventional</td>\n",
       "      <td>2016</td>\n",
       "      <td>Midsouth</td>\n",
       "    </tr>\n",
       "  </tbody>\n",
       "</table>\n",
       "</div>"
      ],
      "text/plain": [
       "       Unnamed: 0        Date  AveragePrice  Total Volume       4046  \\\n",
       "7189           36  2017-04-23          1.59    3846196.30  244168.62   \n",
       "13113          36  2016-04-17          1.01     106228.91   10528.54   \n",
       "6496           32  2017-05-21          1.51     244638.89   52736.28   \n",
       "4250           38  2016-04-03          0.89     316709.44  183584.86   \n",
       "4115            7  2016-11-06          1.54    2077507.41  569735.76   \n",
       "\n",
       "             4225       4770  Total Bags  Small Bags  Large Bags  XLarge Bags  \\\n",
       "7189   2440599.66   12331.97  1149096.05   892014.05   250892.40       6189.6   \n",
       "13113    24399.57       0.00    71300.80    70842.07      458.73          0.0   \n",
       "6496    119601.86     179.49    72121.26    70371.47     1749.79          0.0   \n",
       "4250     29117.49    4574.45    99432.64    80521.66    18910.98          0.0   \n",
       "4115    697011.92  122472.40   688287.33   588028.35    99508.98        750.0   \n",
       "\n",
       "               type  year              region  \n",
       "7189   conventional  2017           Northeast  \n",
       "13113       organic  2016          LosAngeles  \n",
       "6496   conventional  2017  HarrisburgScranton  \n",
       "4250   conventional  2016    NewOrleansMobile  \n",
       "4115   conventional  2016            Midsouth  "
      ]
     },
     "execution_count": 58,
     "metadata": {},
     "output_type": "execute_result"
    }
   ],
   "source": [
    "df.sample(5)"
   ]
  },
  {
   "cell_type": "code",
   "execution_count": 59,
   "id": "fb9f4259",
   "metadata": {
    "scrolled": true
   },
   "outputs": [
    {
     "data": {
      "text/html": [
       "<div>\n",
       "<style scoped>\n",
       "    .dataframe tbody tr th:only-of-type {\n",
       "        vertical-align: middle;\n",
       "    }\n",
       "\n",
       "    .dataframe tbody tr th {\n",
       "        vertical-align: top;\n",
       "    }\n",
       "\n",
       "    .dataframe thead th {\n",
       "        text-align: right;\n",
       "    }\n",
       "</style>\n",
       "<table border=\"1\" class=\"dataframe\">\n",
       "  <thead>\n",
       "    <tr style=\"text-align: right;\">\n",
       "      <th></th>\n",
       "      <th>Unnamed: 0</th>\n",
       "      <th>Date</th>\n",
       "      <th>AveragePrice</th>\n",
       "      <th>Total Volume</th>\n",
       "      <th>4046</th>\n",
       "      <th>4225</th>\n",
       "      <th>4770</th>\n",
       "      <th>Total Bags</th>\n",
       "      <th>Small Bags</th>\n",
       "      <th>Large Bags</th>\n",
       "      <th>XLarge Bags</th>\n",
       "      <th>type</th>\n",
       "      <th>year</th>\n",
       "      <th>region</th>\n",
       "    </tr>\n",
       "  </thead>\n",
       "  <tbody>\n",
       "    <tr>\n",
       "      <th>16508</th>\n",
       "      <td>18</td>\n",
       "      <td>2017-08-27</td>\n",
       "      <td>2.00</td>\n",
       "      <td>16505.49</td>\n",
       "      <td>5358.19</td>\n",
       "      <td>2591.23</td>\n",
       "      <td>0.00</td>\n",
       "      <td>8556.07</td>\n",
       "      <td>8501.90</td>\n",
       "      <td>54.17</td>\n",
       "      <td>0.00</td>\n",
       "      <td>organic</td>\n",
       "      <td>2017</td>\n",
       "      <td>PhoenixTucson</td>\n",
       "    </tr>\n",
       "    <tr>\n",
       "      <th>8098</th>\n",
       "      <td>44</td>\n",
       "      <td>2017-02-26</td>\n",
       "      <td>1.09</td>\n",
       "      <td>3780081.91</td>\n",
       "      <td>2009302.02</td>\n",
       "      <td>536981.39</td>\n",
       "      <td>6635.90</td>\n",
       "      <td>1227162.60</td>\n",
       "      <td>876737.08</td>\n",
       "      <td>337642.19</td>\n",
       "      <td>12783.33</td>\n",
       "      <td>conventional</td>\n",
       "      <td>2017</td>\n",
       "      <td>Southeast</td>\n",
       "    </tr>\n",
       "    <tr>\n",
       "      <th>4380</th>\n",
       "      <td>12</td>\n",
       "      <td>2016-10-02</td>\n",
       "      <td>1.52</td>\n",
       "      <td>291185.37</td>\n",
       "      <td>18423.35</td>\n",
       "      <td>222357.93</td>\n",
       "      <td>3193.18</td>\n",
       "      <td>47210.91</td>\n",
       "      <td>47207.35</td>\n",
       "      <td>3.56</td>\n",
       "      <td>0.00</td>\n",
       "      <td>conventional</td>\n",
       "      <td>2016</td>\n",
       "      <td>NorthernNewEngland</td>\n",
       "    </tr>\n",
       "    <tr>\n",
       "      <th>4208</th>\n",
       "      <td>48</td>\n",
       "      <td>2016-01-24</td>\n",
       "      <td>0.87</td>\n",
       "      <td>167159.24</td>\n",
       "      <td>78105.34</td>\n",
       "      <td>33125.00</td>\n",
       "      <td>6297.48</td>\n",
       "      <td>49631.42</td>\n",
       "      <td>25723.50</td>\n",
       "      <td>23907.92</td>\n",
       "      <td>0.00</td>\n",
       "      <td>conventional</td>\n",
       "      <td>2016</td>\n",
       "      <td>Nashville</td>\n",
       "    </tr>\n",
       "    <tr>\n",
       "      <th>13740</th>\n",
       "      <td>39</td>\n",
       "      <td>2016-03-27</td>\n",
       "      <td>1.18</td>\n",
       "      <td>1702.84</td>\n",
       "      <td>96.59</td>\n",
       "      <td>220.18</td>\n",
       "      <td>26.36</td>\n",
       "      <td>1359.71</td>\n",
       "      <td>1356.26</td>\n",
       "      <td>3.45</td>\n",
       "      <td>0.00</td>\n",
       "      <td>organic</td>\n",
       "      <td>2016</td>\n",
       "      <td>Pittsburgh</td>\n",
       "    </tr>\n",
       "  </tbody>\n",
       "</table>\n",
       "</div>"
      ],
      "text/plain": [
       "       Unnamed: 0        Date  AveragePrice  Total Volume        4046  \\\n",
       "16508          18  2017-08-27          2.00      16505.49     5358.19   \n",
       "8098           44  2017-02-26          1.09    3780081.91  2009302.02   \n",
       "4380           12  2016-10-02          1.52     291185.37    18423.35   \n",
       "4208           48  2016-01-24          0.87     167159.24    78105.34   \n",
       "13740          39  2016-03-27          1.18       1702.84       96.59   \n",
       "\n",
       "            4225     4770  Total Bags  Small Bags  Large Bags  XLarge Bags  \\\n",
       "16508    2591.23     0.00     8556.07     8501.90       54.17         0.00   \n",
       "8098   536981.39  6635.90  1227162.60   876737.08   337642.19     12783.33   \n",
       "4380   222357.93  3193.18    47210.91    47207.35        3.56         0.00   \n",
       "4208    33125.00  6297.48    49631.42    25723.50    23907.92         0.00   \n",
       "13740     220.18    26.36     1359.71     1356.26        3.45         0.00   \n",
       "\n",
       "               type  year              region  \n",
       "16508       organic  2017       PhoenixTucson  \n",
       "8098   conventional  2017           Southeast  \n",
       "4380   conventional  2016  NorthernNewEngland  \n",
       "4208   conventional  2016           Nashville  \n",
       "13740       organic  2016          Pittsburgh  "
      ]
     },
     "execution_count": 59,
     "metadata": {},
     "output_type": "execute_result"
    }
   ],
   "source": [
    "df.sample(n=5)"
   ]
  },
  {
   "cell_type": "markdown",
   "id": "cfc4bc9c",
   "metadata": {},
   "source": [
    "`display`"
   ]
  },
  {
   "cell_type": "code",
   "execution_count": 60,
   "id": "5dc90855",
   "metadata": {},
   "outputs": [
    {
     "data": {
      "text/html": [
       "<div>\n",
       "<style scoped>\n",
       "    .dataframe tbody tr th:only-of-type {\n",
       "        vertical-align: middle;\n",
       "    }\n",
       "\n",
       "    .dataframe tbody tr th {\n",
       "        vertical-align: top;\n",
       "    }\n",
       "\n",
       "    .dataframe thead th {\n",
       "        text-align: right;\n",
       "    }\n",
       "</style>\n",
       "<table border=\"1\" class=\"dataframe\">\n",
       "  <thead>\n",
       "    <tr style=\"text-align: right;\">\n",
       "      <th></th>\n",
       "      <th>Unnamed: 0</th>\n",
       "      <th>Date</th>\n",
       "      <th>AveragePrice</th>\n",
       "      <th>Total Volume</th>\n",
       "      <th>4046</th>\n",
       "      <th>4225</th>\n",
       "      <th>4770</th>\n",
       "      <th>Total Bags</th>\n",
       "      <th>Small Bags</th>\n",
       "      <th>Large Bags</th>\n",
       "      <th>XLarge Bags</th>\n",
       "      <th>type</th>\n",
       "      <th>year</th>\n",
       "      <th>region</th>\n",
       "    </tr>\n",
       "  </thead>\n",
       "  <tbody>\n",
       "    <tr>\n",
       "      <th>0</th>\n",
       "      <td>0</td>\n",
       "      <td>2015-12-27</td>\n",
       "      <td>1.33</td>\n",
       "      <td>64236.62</td>\n",
       "      <td>1036.74</td>\n",
       "      <td>54454.85</td>\n",
       "      <td>48.16</td>\n",
       "      <td>8696.87</td>\n",
       "      <td>8603.62</td>\n",
       "      <td>93.25</td>\n",
       "      <td>0.0</td>\n",
       "      <td>conventional</td>\n",
       "      <td>2015</td>\n",
       "      <td>Albany</td>\n",
       "    </tr>\n",
       "    <tr>\n",
       "      <th>1</th>\n",
       "      <td>1</td>\n",
       "      <td>2015-12-20</td>\n",
       "      <td>1.35</td>\n",
       "      <td>54876.98</td>\n",
       "      <td>674.28</td>\n",
       "      <td>44638.81</td>\n",
       "      <td>58.33</td>\n",
       "      <td>9505.56</td>\n",
       "      <td>9408.07</td>\n",
       "      <td>97.49</td>\n",
       "      <td>0.0</td>\n",
       "      <td>conventional</td>\n",
       "      <td>2015</td>\n",
       "      <td>Albany</td>\n",
       "    </tr>\n",
       "    <tr>\n",
       "      <th>2</th>\n",
       "      <td>2</td>\n",
       "      <td>2015-12-13</td>\n",
       "      <td>0.93</td>\n",
       "      <td>118220.22</td>\n",
       "      <td>794.70</td>\n",
       "      <td>109149.67</td>\n",
       "      <td>130.50</td>\n",
       "      <td>8145.35</td>\n",
       "      <td>8042.21</td>\n",
       "      <td>103.14</td>\n",
       "      <td>0.0</td>\n",
       "      <td>conventional</td>\n",
       "      <td>2015</td>\n",
       "      <td>Albany</td>\n",
       "    </tr>\n",
       "    <tr>\n",
       "      <th>3</th>\n",
       "      <td>3</td>\n",
       "      <td>2015-12-06</td>\n",
       "      <td>1.08</td>\n",
       "      <td>78992.15</td>\n",
       "      <td>1132.00</td>\n",
       "      <td>71976.41</td>\n",
       "      <td>72.58</td>\n",
       "      <td>5811.16</td>\n",
       "      <td>5677.40</td>\n",
       "      <td>133.76</td>\n",
       "      <td>0.0</td>\n",
       "      <td>conventional</td>\n",
       "      <td>2015</td>\n",
       "      <td>Albany</td>\n",
       "    </tr>\n",
       "    <tr>\n",
       "      <th>4</th>\n",
       "      <td>4</td>\n",
       "      <td>2015-11-29</td>\n",
       "      <td>1.28</td>\n",
       "      <td>51039.60</td>\n",
       "      <td>941.48</td>\n",
       "      <td>43838.39</td>\n",
       "      <td>75.78</td>\n",
       "      <td>6183.95</td>\n",
       "      <td>5986.26</td>\n",
       "      <td>197.69</td>\n",
       "      <td>0.0</td>\n",
       "      <td>conventional</td>\n",
       "      <td>2015</td>\n",
       "      <td>Albany</td>\n",
       "    </tr>\n",
       "    <tr>\n",
       "      <th>...</th>\n",
       "      <td>...</td>\n",
       "      <td>...</td>\n",
       "      <td>...</td>\n",
       "      <td>...</td>\n",
       "      <td>...</td>\n",
       "      <td>...</td>\n",
       "      <td>...</td>\n",
       "      <td>...</td>\n",
       "      <td>...</td>\n",
       "      <td>...</td>\n",
       "      <td>...</td>\n",
       "      <td>...</td>\n",
       "      <td>...</td>\n",
       "      <td>...</td>\n",
       "    </tr>\n",
       "    <tr>\n",
       "      <th>18244</th>\n",
       "      <td>7</td>\n",
       "      <td>2018-02-04</td>\n",
       "      <td>1.63</td>\n",
       "      <td>17074.83</td>\n",
       "      <td>2046.96</td>\n",
       "      <td>1529.20</td>\n",
       "      <td>0.00</td>\n",
       "      <td>13498.67</td>\n",
       "      <td>13066.82</td>\n",
       "      <td>431.85</td>\n",
       "      <td>0.0</td>\n",
       "      <td>organic</td>\n",
       "      <td>2018</td>\n",
       "      <td>WestTexNewMexico</td>\n",
       "    </tr>\n",
       "    <tr>\n",
       "      <th>18245</th>\n",
       "      <td>8</td>\n",
       "      <td>2018-01-28</td>\n",
       "      <td>1.71</td>\n",
       "      <td>13888.04</td>\n",
       "      <td>1191.70</td>\n",
       "      <td>3431.50</td>\n",
       "      <td>0.00</td>\n",
       "      <td>9264.84</td>\n",
       "      <td>8940.04</td>\n",
       "      <td>324.80</td>\n",
       "      <td>0.0</td>\n",
       "      <td>organic</td>\n",
       "      <td>2018</td>\n",
       "      <td>WestTexNewMexico</td>\n",
       "    </tr>\n",
       "    <tr>\n",
       "      <th>18246</th>\n",
       "      <td>9</td>\n",
       "      <td>2018-01-21</td>\n",
       "      <td>1.87</td>\n",
       "      <td>13766.76</td>\n",
       "      <td>1191.92</td>\n",
       "      <td>2452.79</td>\n",
       "      <td>727.94</td>\n",
       "      <td>9394.11</td>\n",
       "      <td>9351.80</td>\n",
       "      <td>42.31</td>\n",
       "      <td>0.0</td>\n",
       "      <td>organic</td>\n",
       "      <td>2018</td>\n",
       "      <td>WestTexNewMexico</td>\n",
       "    </tr>\n",
       "    <tr>\n",
       "      <th>18247</th>\n",
       "      <td>10</td>\n",
       "      <td>2018-01-14</td>\n",
       "      <td>1.93</td>\n",
       "      <td>16205.22</td>\n",
       "      <td>1527.63</td>\n",
       "      <td>2981.04</td>\n",
       "      <td>727.01</td>\n",
       "      <td>10969.54</td>\n",
       "      <td>10919.54</td>\n",
       "      <td>50.00</td>\n",
       "      <td>0.0</td>\n",
       "      <td>organic</td>\n",
       "      <td>2018</td>\n",
       "      <td>WestTexNewMexico</td>\n",
       "    </tr>\n",
       "    <tr>\n",
       "      <th>18248</th>\n",
       "      <td>11</td>\n",
       "      <td>2018-01-07</td>\n",
       "      <td>1.62</td>\n",
       "      <td>17489.58</td>\n",
       "      <td>2894.77</td>\n",
       "      <td>2356.13</td>\n",
       "      <td>224.53</td>\n",
       "      <td>12014.15</td>\n",
       "      <td>11988.14</td>\n",
       "      <td>26.01</td>\n",
       "      <td>0.0</td>\n",
       "      <td>organic</td>\n",
       "      <td>2018</td>\n",
       "      <td>WestTexNewMexico</td>\n",
       "    </tr>\n",
       "  </tbody>\n",
       "</table>\n",
       "<p>18249 rows × 14 columns</p>\n",
       "</div>"
      ],
      "text/plain": [
       "       Unnamed: 0        Date  AveragePrice  Total Volume     4046       4225  \\\n",
       "0               0  2015-12-27          1.33      64236.62  1036.74   54454.85   \n",
       "1               1  2015-12-20          1.35      54876.98   674.28   44638.81   \n",
       "2               2  2015-12-13          0.93     118220.22   794.70  109149.67   \n",
       "3               3  2015-12-06          1.08      78992.15  1132.00   71976.41   \n",
       "4               4  2015-11-29          1.28      51039.60   941.48   43838.39   \n",
       "...           ...         ...           ...           ...      ...        ...   \n",
       "18244           7  2018-02-04          1.63      17074.83  2046.96    1529.20   \n",
       "18245           8  2018-01-28          1.71      13888.04  1191.70    3431.50   \n",
       "18246           9  2018-01-21          1.87      13766.76  1191.92    2452.79   \n",
       "18247          10  2018-01-14          1.93      16205.22  1527.63    2981.04   \n",
       "18248          11  2018-01-07          1.62      17489.58  2894.77    2356.13   \n",
       "\n",
       "         4770  Total Bags  Small Bags  Large Bags  XLarge Bags          type  \\\n",
       "0       48.16     8696.87     8603.62       93.25          0.0  conventional   \n",
       "1       58.33     9505.56     9408.07       97.49          0.0  conventional   \n",
       "2      130.50     8145.35     8042.21      103.14          0.0  conventional   \n",
       "3       72.58     5811.16     5677.40      133.76          0.0  conventional   \n",
       "4       75.78     6183.95     5986.26      197.69          0.0  conventional   \n",
       "...       ...         ...         ...         ...          ...           ...   \n",
       "18244    0.00    13498.67    13066.82      431.85          0.0       organic   \n",
       "18245    0.00     9264.84     8940.04      324.80          0.0       organic   \n",
       "18246  727.94     9394.11     9351.80       42.31          0.0       organic   \n",
       "18247  727.01    10969.54    10919.54       50.00          0.0       organic   \n",
       "18248  224.53    12014.15    11988.14       26.01          0.0       organic   \n",
       "\n",
       "       year            region  \n",
       "0      2015            Albany  \n",
       "1      2015            Albany  \n",
       "2      2015            Albany  \n",
       "3      2015            Albany  \n",
       "4      2015            Albany  \n",
       "...     ...               ...  \n",
       "18244  2018  WestTexNewMexico  \n",
       "18245  2018  WestTexNewMexico  \n",
       "18246  2018  WestTexNewMexico  \n",
       "18247  2018  WestTexNewMexico  \n",
       "18248  2018  WestTexNewMexico  \n",
       "\n",
       "[18249 rows x 14 columns]"
      ]
     },
     "metadata": {},
     "output_type": "display_data"
    }
   ],
   "source": [
    "display(df)"
   ]
  },
  {
   "cell_type": "markdown",
   "id": "8ee7446f",
   "metadata": {
    "lang": "en"
   },
   "source": [
    "### NaN values\n",
    "NaN stands for Not A Number and is one of the common ways to represent the missing value in the data. It is a special floating point value and cannot be converted to a type other than float.\n",
    "The NaN value is one of the main problems in data analysis. It is very essential to deal with NaN to get the desired results."
   ]
  },
  {
   "cell_type": "code",
   "execution_count": 61,
   "id": "09aa2f4b",
   "metadata": {},
   "outputs": [
    {
     "name": "stdout",
     "output_type": "stream",
     "text": [
      "<class 'pandas.core.frame.DataFrame'>\n",
      "RangeIndex: 18249 entries, 0 to 18248\n",
      "Data columns (total 14 columns):\n",
      " #   Column        Non-Null Count  Dtype  \n",
      "---  ------        --------------  -----  \n",
      " 0   Unnamed: 0    18249 non-null  int64  \n",
      " 1   Date          18249 non-null  object \n",
      " 2   AveragePrice  18249 non-null  float64\n",
      " 3   Total Volume  18249 non-null  float64\n",
      " 4   4046          18249 non-null  float64\n",
      " 5   4225          18249 non-null  float64\n",
      " 6   4770          18249 non-null  float64\n",
      " 7   Total Bags    18249 non-null  float64\n",
      " 8   Small Bags    18249 non-null  float64\n",
      " 9   Large Bags    18249 non-null  float64\n",
      " 10  XLarge Bags   18249 non-null  float64\n",
      " 11  type          18249 non-null  object \n",
      " 12  year          18249 non-null  int64  \n",
      " 13  region        18249 non-null  object \n",
      "dtypes: float64(9), int64(2), object(3)\n",
      "memory usage: 1.9+ MB\n"
     ]
    }
   ],
   "source": [
    "df.info()"
   ]
  },
  {
   "cell_type": "code",
   "execution_count": 62,
   "id": "1d84178e",
   "metadata": {},
   "outputs": [
    {
     "data": {
      "text/plain": [
       "Unnamed: 0      0\n",
       "Date            0\n",
       "AveragePrice    0\n",
       "Total Volume    0\n",
       "4046            0\n",
       "4225            0\n",
       "4770            0\n",
       "Total Bags      0\n",
       "Small Bags      0\n",
       "Large Bags      0\n",
       "XLarge Bags     0\n",
       "type            0\n",
       "year            0\n",
       "region          0\n",
       "dtype: int64"
      ]
     },
     "execution_count": 62,
     "metadata": {},
     "output_type": "execute_result"
    }
   ],
   "source": [
    "pd.isnull(df).sum() # If Null -> it's True -> sum() a True, the result will be 1"
   ]
  },
  {
   "cell_type": "code",
   "execution_count": 63,
   "id": "2bc23a8b",
   "metadata": {},
   "outputs": [
    {
     "data": {
      "text/plain": [
       "Unnamed: 0      0\n",
       "Date            0\n",
       "AveragePrice    0\n",
       "Total Volume    0\n",
       "4046            0\n",
       "4225            0\n",
       "4770            0\n",
       "Total Bags      0\n",
       "Small Bags      0\n",
       "Large Bags      0\n",
       "XLarge Bags     0\n",
       "type            0\n",
       "year            0\n",
       "region          0\n",
       "dtype: int64"
      ]
     },
     "execution_count": 63,
     "metadata": {},
     "output_type": "execute_result"
    }
   ],
   "source": [
    "pd.isna(df).sum() #same method "
   ]
  },
  {
   "cell_type": "markdown",
   "id": "3c75ab18",
   "metadata": {},
   "source": [
    "###  Basic descriptive statistics"
   ]
  },
  {
   "cell_type": "code",
   "execution_count": 64,
   "id": "e832d87f",
   "metadata": {
    "scrolled": true
   },
   "outputs": [
    {
     "data": {
      "text/html": [
       "<div>\n",
       "<style scoped>\n",
       "    .dataframe tbody tr th:only-of-type {\n",
       "        vertical-align: middle;\n",
       "    }\n",
       "\n",
       "    .dataframe tbody tr th {\n",
       "        vertical-align: top;\n",
       "    }\n",
       "\n",
       "    .dataframe thead th {\n",
       "        text-align: right;\n",
       "    }\n",
       "</style>\n",
       "<table border=\"1\" class=\"dataframe\">\n",
       "  <thead>\n",
       "    <tr style=\"text-align: right;\">\n",
       "      <th></th>\n",
       "      <th>Unnamed: 0</th>\n",
       "      <th>Date</th>\n",
       "      <th>AveragePrice</th>\n",
       "      <th>Total Volume</th>\n",
       "      <th>4046</th>\n",
       "      <th>4225</th>\n",
       "      <th>4770</th>\n",
       "      <th>Total Bags</th>\n",
       "      <th>Small Bags</th>\n",
       "      <th>Large Bags</th>\n",
       "      <th>XLarge Bags</th>\n",
       "      <th>type</th>\n",
       "      <th>year</th>\n",
       "      <th>region</th>\n",
       "    </tr>\n",
       "  </thead>\n",
       "  <tbody>\n",
       "    <tr>\n",
       "      <th>10406</th>\n",
       "      <td>32</td>\n",
       "      <td>2015-05-17</td>\n",
       "      <td>1.79</td>\n",
       "      <td>2141.08</td>\n",
       "      <td>1251.61</td>\n",
       "      <td>48.24</td>\n",
       "      <td>0.0</td>\n",
       "      <td>841.23</td>\n",
       "      <td>827.49</td>\n",
       "      <td>13.74</td>\n",
       "      <td>0.0</td>\n",
       "      <td>organic</td>\n",
       "      <td>2015</td>\n",
       "      <td>MiamiFtLauderdale</td>\n",
       "    </tr>\n",
       "  </tbody>\n",
       "</table>\n",
       "</div>"
      ],
      "text/plain": [
       "       Unnamed: 0        Date  AveragePrice  Total Volume     4046   4225  \\\n",
       "10406          32  2015-05-17          1.79       2141.08  1251.61  48.24   \n",
       "\n",
       "       4770  Total Bags  Small Bags  Large Bags  XLarge Bags     type  year  \\\n",
       "10406   0.0      841.23      827.49       13.74          0.0  organic  2015   \n",
       "\n",
       "                  region  \n",
       "10406  MiamiFtLauderdale  "
      ]
     },
     "execution_count": 64,
     "metadata": {},
     "output_type": "execute_result"
    }
   ],
   "source": [
    "df.sample()"
   ]
  },
  {
   "cell_type": "code",
   "execution_count": 65,
   "id": "2622bfb6",
   "metadata": {},
   "outputs": [
    {
     "data": {
      "text/plain": [
       "1.15    202\n",
       "1.18    199\n",
       "1.08    194\n",
       "1.26    193\n",
       "1.13    192\n",
       "       ... \n",
       "3.05      1\n",
       "3.03      1\n",
       "2.91      1\n",
       "0.48      1\n",
       "2.96      1\n",
       "Name: AveragePrice, Length: 259, dtype: int64"
      ]
     },
     "execution_count": 65,
     "metadata": {},
     "output_type": "execute_result"
    }
   ],
   "source": [
    "df.AveragePrice.value_counts() #dot notation: capital letter"
   ]
  },
  {
   "cell_type": "code",
   "execution_count": 66,
   "id": "685d0f0a",
   "metadata": {},
   "outputs": [
    {
     "data": {
      "text/plain": [
       "1.15    202\n",
       "1.18    199\n",
       "1.08    194\n",
       "1.26    193\n",
       "1.13    192\n",
       "       ... \n",
       "3.05      1\n",
       "3.03      1\n",
       "2.91      1\n",
       "0.48      1\n",
       "2.96      1\n",
       "Name: AveragePrice, Length: 259, dtype: int64"
      ]
     },
     "execution_count": 66,
     "metadata": {},
     "output_type": "execute_result"
    }
   ],
   "source": [
    "df[\"AveragePrice\"].value_counts() #"
   ]
  },
  {
   "cell_type": "code",
   "execution_count": 67,
   "id": "ca841633",
   "metadata": {},
   "outputs": [],
   "source": [
    "dict_ = {\n",
    "    \"age\": 30\n",
    "}"
   ]
  },
  {
   "cell_type": "code",
   "execution_count": 68,
   "id": "f7d4f16d",
   "metadata": {},
   "outputs": [],
   "source": [
    "#dict_[\"AveragePrice\"] #key error"
   ]
  },
  {
   "cell_type": "code",
   "execution_count": 69,
   "id": "869a1ec0",
   "metadata": {},
   "outputs": [],
   "source": [
    "#df[\" AveragePrice \"] #key error"
   ]
  },
  {
   "cell_type": "code",
   "execution_count": 70,
   "id": "a86f1236",
   "metadata": {},
   "outputs": [
    {
     "data": {
      "text/plain": [
       "0        1.33\n",
       "1        1.35\n",
       "2        0.93\n",
       "3        1.08\n",
       "4        1.28\n",
       "         ... \n",
       "18244    1.63\n",
       "18245    1.71\n",
       "18246    1.87\n",
       "18247    1.93\n",
       "18248    1.62\n",
       "Name: AveragePrice, Length: 18249, dtype: float64"
      ]
     },
     "execution_count": 70,
     "metadata": {},
     "output_type": "execute_result"
    }
   ],
   "source": [
    "df.AveragePrice"
   ]
  },
  {
   "cell_type": "code",
   "execution_count": 71,
   "id": "f04fc017",
   "metadata": {},
   "outputs": [
    {
     "data": {
      "text/plain": [
       "0.44"
      ]
     },
     "execution_count": 71,
     "metadata": {},
     "output_type": "execute_result"
    }
   ],
   "source": [
    "df[\"AveragePrice\"].min()"
   ]
  },
  {
   "cell_type": "code",
   "execution_count": 72,
   "id": "3dd18cea",
   "metadata": {},
   "outputs": [
    {
     "data": {
      "text/plain": [
       "3.25"
      ]
     },
     "execution_count": 72,
     "metadata": {},
     "output_type": "execute_result"
    }
   ],
   "source": [
    "df[\"AveragePrice\"].max()"
   ]
  },
  {
   "cell_type": "code",
   "execution_count": 73,
   "id": "815eee01",
   "metadata": {},
   "outputs": [
    {
     "data": {
      "text/plain": [
       "0.40267655549555004"
      ]
     },
     "execution_count": 73,
     "metadata": {},
     "output_type": "execute_result"
    }
   ],
   "source": [
    "df[\"AveragePrice\"].std()"
   ]
  },
  {
   "cell_type": "code",
   "execution_count": 74,
   "id": "5894dcc0",
   "metadata": {},
   "outputs": [
    {
     "data": {
      "text/plain": [
       "1.4059784097758825"
      ]
     },
     "execution_count": 74,
     "metadata": {},
     "output_type": "execute_result"
    }
   ],
   "source": [
    "df.AveragePrice.mean()"
   ]
  },
  {
   "cell_type": "code",
   "execution_count": 75,
   "id": "3ff56a66",
   "metadata": {},
   "outputs": [],
   "source": [
    "#np.array.max()\n",
    "#pd.Series.max()"
   ]
  },
  {
   "cell_type": "markdown",
   "id": "4f340806",
   "metadata": {
    "lang": "en"
   },
   "source": [
    "## Pandas usual methods\n",
    "```python\n",
    "df.head() # prints the head, default 5 rows\n",
    "df.tail() # set the tail, default 5 rows\n",
    "df.describe() # statistical description\n",
    "df.info() # df information\n",
    "df.columns # show column\n",
    "df.index # show index\n",
    "df.dtypes # show column data types\n",
    "df.plot() # make a plot\n",
    "df.hist() # make a histogram\n",
    "df.col.value_counts() # counts the unique values ​​of a column\n",
    "df.col.unique() # returns unique values ​​from a column\n",
    "df.copy() # copies the df\n",
    "df.drop() # remove columns or rows (axis=0,1)\n",
    "df.dropna() # remove nulls\n",
    "df.fillna() # fills nulls\n",
    "df.shape # dimensions of the df\n",
    "df._get_numeric_data() # select numeric columns\n",
    "df.rename() # rename columns\n",
    "df.str.replace() # replace columns of strings\n",
    "df.astype(dtype='float32') # change the data type\n",
    "df.iloc[] # locate by index\n",
    "df.loc[] # locate by element\n",
    "df.transpose() # transposes the df\n",
    "df.T\n",
    "df.sample(n, frac) # sample from df\n",
    "df.col.sum() # sum of a column\n",
    "df.col.max() # maximum of a column\n",
    "df.col.min() # minimum of one column\n",
    "df[col] # select column\n",
    "df.col\n",
    "df.isnull() # null values\n",
    "df.isna()\n",
    "df.notna() # not null values\n",
    "df.drop_duplicates() # remove duplicates\n",
    "df.reset_index(inplace=True) # reset the index and overwrite\n",
    "```"
   ]
  },
  {
   "cell_type": "markdown",
   "id": "stylish-jefferson",
   "metadata": {},
   "source": [
    "## Further materials\n",
    "\n",
    "* [Read the docs!](https://pandas.pydata.org/pandas-docs/stable/index.html)\n",
    "* [Cheatsheet](https://pandas.pydata.org/Pandas_Cheat_Sheet.pdf)\n",
    "* [Exercises to practice](https://github.com/guipsamora/pandas_exercises)\n",
    "* [More on merge, concat, and join](https://realpython.com/pandas-merge-join-and-concat/#pandas-join-combining-data-on-a-column-or-index). And [even more!](https://pandas.pydata.org/pandas-docs/stable/user_guide/merging.html)\n",
    " "
   ]
  }
 ],
 "metadata": {
  "kernelspec": {
   "display_name": "Python 3 (ipykernel)",
   "language": "python",
   "name": "python3"
  },
  "language_info": {
   "codemirror_mode": {
    "name": "ipython",
    "version": 3
   },
   "file_extension": ".py",
   "mimetype": "text/x-python",
   "name": "python",
   "nbconvert_exporter": "python",
   "pygments_lexer": "ipython3",
   "version": "3.8.13"
  },
  "nbTranslate": {
   "displayLangs": [
    "en",
    "es"
   ],
   "hotkey": "alt-a",
   "langInMainMenu": true,
   "sourceLang": "es",
   "targetLang": "en",
   "useGoogleTranslate": true
  },
  "toc": {
   "base_numbering": 1,
   "nav_menu": {},
   "number_sections": true,
   "sideBar": true,
   "skip_h1_title": true,
   "title_cell": "Table of Contents",
   "title_sidebar": "Contents",
   "toc_cell": true,
   "toc_position": {
    "height": "calc(100% - 180px)",
    "left": "10px",
    "top": "150px",
    "width": "269.766px"
   },
   "toc_section_display": true,
   "toc_window_display": true
  },
  "varInspector": {
   "cols": {
    "lenName": 16,
    "lenType": 16,
    "lenVar": 40
   },
   "kernels_config": {
    "python": {
     "delete_cmd_postfix": "",
     "delete_cmd_prefix": "del ",
     "library": "var_list.py",
     "varRefreshCmd": "print(var_dic_list())"
    },
    "r": {
     "delete_cmd_postfix": ") ",
     "delete_cmd_prefix": "rm(",
     "library": "var_list.r",
     "varRefreshCmd": "cat(var_dic_list()) "
    }
   },
   "types_to_exclude": [
    "module",
    "function",
    "builtin_function_or_method",
    "instance",
    "_Feature"
   ],
   "window_display": false
  }
 },
 "nbformat": 4,
 "nbformat_minor": 5
}
