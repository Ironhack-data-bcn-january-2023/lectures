{
 "cells": [
  {
   "cell_type": "markdown",
   "id": "72c99a37",
   "metadata": {
    "lang": "en"
   },
   "source": [
    "# Visualization"
   ]
  },
  {
   "cell_type": "markdown",
   "id": "inside-estonia",
   "metadata": {},
   "source": [
    "![elgif](https://media.giphy.com/media/3og0IExSrnfW2kUaaI/giphy.gif)"
   ]
  },
  {
   "cell_type": "markdown",
   "id": "c5eef447",
   "metadata": {
    "lang": "en"
   },
   "source": [
    "# Motivation\n",
    "\n",
    "In Python we can make visualizations of all kinds. In this class we will see some tools that will allow us to create graphs. Some psychedelic examples...:\n",
    "\n",
    "\n",
    "![squares](../images/cuadrados.png)\n",
    "\n",
    "\n",
    "![julia](../images/julia.png)\n",
    "\n",
    "\n",
    "![mandelbrot](../images/mandelbrot.png)\n",
    "\n",
    "\n",
    "But... **WAIT**\n",
    "This is not our goal.\n",
    "\n",
    "Actually, our objectives are two, firstly to visualize the data to carry out an exploratory analysis of the data, EDA for the acronym in English. We need to correctly describe the data and visualization is a great tool for this. \n",
    "\n",
    "**Matplotlib/Pylab - Seaborn**"
   ]
  },
  {
   "cell_type": "markdown",
   "id": "ranging-premiere",
   "metadata": {
    "toc": true
   },
   "source": [
    "<h1>Table of Contents<span class=\"tocSkip\"></span></h1>\n",
    "<div class=\"toc\"><ul class=\"toc-item\"><li><span><a href=\"#COMPARISON\" data-toc-modified-id=\"COMPARISON-1\"><span class=\"toc-item-num\">1&nbsp;&nbsp;</span>COMPARISON</a></span><ul class=\"toc-item\"><li><span><a href=\"#Bar-chart\" data-toc-modified-id=\"Bar-chart-1.1\"><span class=\"toc-item-num\">1.1&nbsp;&nbsp;</span>Bar chart</a></span><ul class=\"toc-item\"><li><span><a href=\"#seaborn:-countplot\" data-toc-modified-id=\"seaborn:-countplot-1.1.1\"><span class=\"toc-item-num\">1.1.1&nbsp;&nbsp;</span>seaborn: countplot</a></span></li><li><span><a href=\"#seaborn:-barplot\" data-toc-modified-id=\"seaborn:-barplot-1.1.2\"><span class=\"toc-item-num\">1.1.2&nbsp;&nbsp;</span>seaborn: barplot</a></span></li><li><span><a href=\"#matplotlib:-barplot\" data-toc-modified-id=\"matplotlib:-barplot-1.1.3\"><span class=\"toc-item-num\">1.1.3&nbsp;&nbsp;</span>matplotlib: barplot</a></span></li></ul></li><li><span><a href=\"#Column:-grouped-bar-chart\" data-toc-modified-id=\"Column:-grouped-bar-chart-1.2\"><span class=\"toc-item-num\">1.2&nbsp;&nbsp;</span>Column: grouped bar chart</a></span><ul class=\"toc-item\"><li><span><a href=\"#seaborn:-countplot\" data-toc-modified-id=\"seaborn:-countplot-1.2.1\"><span class=\"toc-item-num\">1.2.1&nbsp;&nbsp;</span>seaborn: countplot</a></span></li></ul></li><li><span><a href=\"#matplotlib:-bar-chart\" data-toc-modified-id=\"matplotlib:-bar-chart-1.3\"><span class=\"toc-item-num\">1.3&nbsp;&nbsp;</span>matplotlib: bar chart</a></span></li><li><span><a href=\"#Line-chart\" data-toc-modified-id=\"Line-chart-1.4\"><span class=\"toc-item-num\">1.4&nbsp;&nbsp;</span>Line chart</a></span></li><li><span><a href=\"#Scatter-plot\" data-toc-modified-id=\"Scatter-plot-1.5\"><span class=\"toc-item-num\">1.5&nbsp;&nbsp;</span>Scatter plot</a></span><ul class=\"toc-item\"><li><span><a href=\"#seaborn:-scatterplot\" data-toc-modified-id=\"seaborn:-scatterplot-1.5.1\"><span class=\"toc-item-num\">1.5.1&nbsp;&nbsp;</span>seaborn: scatterplot</a></span></li><li><span><a href=\"#matplotlib:-scatterplot\" data-toc-modified-id=\"matplotlib:-scatterplot-1.5.2\"><span class=\"toc-item-num\">1.5.2&nbsp;&nbsp;</span>matplotlib: scatterplot</a></span></li></ul></li></ul></li><li><span><a href=\"#DISTRIBUTION\" data-toc-modified-id=\"DISTRIBUTION-2\"><span class=\"toc-item-num\">2&nbsp;&nbsp;</span>DISTRIBUTION</a></span><ul class=\"toc-item\"><li><span><a href=\"#Histograms\" data-toc-modified-id=\"Histograms-2.1\"><span class=\"toc-item-num\">2.1&nbsp;&nbsp;</span>Histograms</a></span><ul class=\"toc-item\"><li><span><a href=\"#seaborn:-histograms\" data-toc-modified-id=\"seaborn:-histograms-2.1.1\"><span class=\"toc-item-num\">2.1.1&nbsp;&nbsp;</span>seaborn: histograms</a></span></li><li><span><a href=\"#matplotlib:-histograms\" data-toc-modified-id=\"matplotlib:-histograms-2.1.2\"><span class=\"toc-item-num\">2.1.2&nbsp;&nbsp;</span>matplotlib: histograms</a></span></li></ul></li><li><span><a href=\"#With-categorical-variables\" data-toc-modified-id=\"With-categorical-variables-2.2\"><span class=\"toc-item-num\">2.2&nbsp;&nbsp;</span>With categorical variables</a></span></li><li><span><a href=\"#swarmplot\" data-toc-modified-id=\"swarmplot-2.3\"><span class=\"toc-item-num\">2.3&nbsp;&nbsp;</span>swarmplot</a></span></li><li><span><a href=\"#Boxplot\" data-toc-modified-id=\"Boxplot-2.4\"><span class=\"toc-item-num\">2.4&nbsp;&nbsp;</span>Boxplot</a></span></li><li><span><a href=\"#ViolinPlot\" data-toc-modified-id=\"ViolinPlot-2.5\"><span class=\"toc-item-num\">2.5&nbsp;&nbsp;</span>ViolinPlot</a></span></li><li><span><a href=\"#KDE-plot\" data-toc-modified-id=\"KDE-plot-2.6\"><span class=\"toc-item-num\">2.6&nbsp;&nbsp;</span>KDE plot</a></span><ul class=\"toc-item\"><li><span><a href=\"#With-more-variables\" data-toc-modified-id=\"With-more-variables-2.6.1\"><span class=\"toc-item-num\">2.6.1&nbsp;&nbsp;</span>With more variables</a></span></li><li><span><a href=\"#Add-KDE-to-the-histplot\" data-toc-modified-id=\"Add-KDE-to-the-histplot-2.6.2\"><span class=\"toc-item-num\">2.6.2&nbsp;&nbsp;</span>Add KDE to the histplot</a></span></li></ul></li></ul></li><li><span><a href=\"#PART-OF-A-WHOLE\" data-toc-modified-id=\"PART-OF-A-WHOLE-3\"><span class=\"toc-item-num\">3&nbsp;&nbsp;</span>PART OF A WHOLE</a></span><ul class=\"toc-item\"><li><span><a href=\"#Pie-plot-👀\" data-toc-modified-id=\"Pie-plot-👀-3.1\"><span class=\"toc-item-num\">3.1&nbsp;&nbsp;</span>Pie plot 👀</a></span></li><li><span><a href=\"#Stacked-column-chart\" data-toc-modified-id=\"Stacked-column-chart-3.2\"><span class=\"toc-item-num\">3.2&nbsp;&nbsp;</span>Stacked column chart</a></span><ul class=\"toc-item\"><li><span><a href=\"#seaborn:-stacked-column-(histogram)\" data-toc-modified-id=\"seaborn:-stacked-column-(histogram)-3.2.1\"><span class=\"toc-item-num\">3.2.1&nbsp;&nbsp;</span>seaborn: stacked column (histogram)</a></span></li></ul></li></ul></li><li><span><a href=\"#RELATIONSHIPS\" data-toc-modified-id=\"RELATIONSHIPS-4\"><span class=\"toc-item-num\">4&nbsp;&nbsp;</span>RELATIONSHIPS</a></span><ul class=\"toc-item\"><li><span><a href=\"#Scatter-plot\" data-toc-modified-id=\"Scatter-plot-4.1\"><span class=\"toc-item-num\">4.1&nbsp;&nbsp;</span>Scatter plot</a></span></li><li><span><a href=\"#Line-chart\" data-toc-modified-id=\"Line-chart-4.2\"><span class=\"toc-item-num\">4.2&nbsp;&nbsp;</span>Line chart</a></span></li><li><span><a href=\"#Correlation-Matrix\" data-toc-modified-id=\"Correlation-Matrix-4.3\"><span class=\"toc-item-num\">4.3&nbsp;&nbsp;</span>Correlation Matrix</a></span></li><li><span><a href=\"#Pairplot\" data-toc-modified-id=\"Pairplot-4.4\"><span class=\"toc-item-num\">4.4&nbsp;&nbsp;</span>Pairplot</a></span></li></ul></li><li><span><a href=\"#TRENDS\" data-toc-modified-id=\"TRENDS-5\"><span class=\"toc-item-num\">5&nbsp;&nbsp;</span>TRENDS</a></span><ul class=\"toc-item\"><li><span><a href=\"#Line-chart\" data-toc-modified-id=\"Line-chart-5.1\"><span class=\"toc-item-num\">5.1&nbsp;&nbsp;</span>Line chart</a></span></li><li><span><a href=\"#Area-chart\" data-toc-modified-id=\"Area-chart-5.2\"><span class=\"toc-item-num\">5.2&nbsp;&nbsp;</span>Area chart</a></span></li><li><span><a href=\"#Column-chart:-grouped-bar-chart\" data-toc-modified-id=\"Column-chart:-grouped-bar-chart-5.3\"><span class=\"toc-item-num\">5.3&nbsp;&nbsp;</span>Column chart: grouped bar chart</a></span></li><li><span><a href=\"#Jointplot:-histograms-&amp;-scatterplot\" data-toc-modified-id=\"Jointplot:-histograms-&amp;-scatterplot-5.4\"><span class=\"toc-item-num\">5.4&nbsp;&nbsp;</span>Jointplot: histograms &amp; scatterplot</a></span></li></ul></li><li><span><a href=\"#Subplots\" data-toc-modified-id=\"Subplots-6\"><span class=\"toc-item-num\">6&nbsp;&nbsp;</span>Subplots</a></span></li><li><span><a href=\"#Save-Plots\" data-toc-modified-id=\"Save-Plots-7\"><span class=\"toc-item-num\">7&nbsp;&nbsp;</span>Save Plots</a></span></li></ul></div>"
   ]
  },
  {
   "cell_type": "markdown",
   "id": "aad8edf7",
   "metadata": {
    "lang": "en"
   },
   "source": [
    "# We import libraries"
   ]
  },
  {
   "cell_type": "code",
   "execution_count": null,
   "id": "handmade-czech",
   "metadata": {},
   "outputs": [],
   "source": [
    "import seaborn as sns\n",
    "import matplotlib.pyplot as plt\n",
    "import pandas as pd\n",
    "import numpy as np"
   ]
  },
  {
   "cell_type": "code",
   "execution_count": null,
   "id": "597381f4",
   "metadata": {},
   "outputs": [],
   "source": [
    "# conda activate ironhack\n",
    "# pip install seaborn\n",
    "# pip install matplotlib (maybe not needed)"
   ]
  },
  {
   "cell_type": "markdown",
   "id": "543ce03b",
   "metadata": {
    "lang": "en"
   },
   "source": [
    "# We load data"
   ]
  },
  {
   "cell_type": "code",
   "execution_count": null,
   "id": "baking-saturday",
   "metadata": {},
   "outputs": [],
   "source": [
    "titanic = pd.read_csv('../datasets/titanic.csv')\n",
    "\n",
    "penguins = sns.load_dataset(\"penguins\")\n",
    "tips = sns.load_dataset(\"tips\")\n",
    "#titanic2=sns.load_dataset(\"titanic\")\n",
    "flights = sns.load_dataset(\"flights\")"
   ]
  },
  {
   "cell_type": "code",
   "execution_count": null,
   "id": "descending-algorithm",
   "metadata": {},
   "outputs": [],
   "source": [
    "penguins.sample(5)"
   ]
  },
  {
   "cell_type": "code",
   "execution_count": null,
   "id": "d712f218",
   "metadata": {},
   "outputs": [],
   "source": [
    "tips.sample()"
   ]
  },
  {
   "cell_type": "code",
   "execution_count": null,
   "id": "85b80abe",
   "metadata": {},
   "outputs": [],
   "source": [
    "flights.sample()"
   ]
  },
  {
   "cell_type": "markdown",
   "id": "9a60ef1d",
   "metadata": {
    "lang": "en"
   },
   "source": [
    "# Display Settings"
   ]
  },
  {
   "cell_type": "code",
   "execution_count": null,
   "id": "motivated-october",
   "metadata": {},
   "outputs": [],
   "source": [
    "# Matplotlib inline to visualize Matplotlib graphs\n",
    "%matplotlib inline\n",
    "%config Inlinebackend.figure_format= 'retina'"
   ]
  },
  {
   "cell_type": "code",
   "execution_count": null,
   "id": "threaded-dispute",
   "metadata": {},
   "outputs": [],
   "source": [
    "# Configuration to set so that all the Seaborn figs come out with this size\n",
    "sns.set_context(\"poster\")\n",
    "sns.set(rc={\"figure.figsize\": (12.,6.)})\n",
    "sns.set_style(\"whitegrid\")"
   ]
  },
  {
   "cell_type": "markdown",
   "id": "9f780e6c",
   "metadata": {},
   "source": [
    "## COMPARISON"
   ]
  },
  {
   "cell_type": "markdown",
   "id": "7e1560f8",
   "metadata": {},
   "source": [
    "- Bar chart\n",
    "- Grouped bar chart\n",
    "- Line chart\n",
    "- Scatter plot"
   ]
  },
  {
   "cell_type": "markdown",
   "id": "16005202",
   "metadata": {},
   "source": [
    "### Bar chart"
   ]
  },
  {
   "cell_type": "markdown",
   "id": "aff1475d",
   "metadata": {
    "lang": "en"
   },
   "source": [
    "#### seaborn: countplot\n",
    "Basic bar chart, where we count the number of items in each species of penguin"
   ]
  },
  {
   "cell_type": "markdown",
   "id": "7c60816b",
   "metadata": {},
   "source": [
    "`penguin by species❓`"
   ]
  },
  {
   "cell_type": "code",
   "execution_count": null,
   "id": "flying-overhead",
   "metadata": {
    "scrolled": true
   },
   "outputs": [],
   "source": [
    "penguins.sample(5)"
   ]
  },
  {
   "cell_type": "code",
   "execution_count": null,
   "id": "23a9a25e",
   "metadata": {},
   "outputs": [],
   "source": [
    "penguins.groupby(\"species\").agg(\"count\")"
   ]
  },
  {
   "cell_type": "code",
   "execution_count": null,
   "id": "unusual-jonathan",
   "metadata": {
    "scrolled": false
   },
   "outputs": [],
   "source": [
    "sns.countplot(x=penguins.species);"
   ]
  },
  {
   "cell_type": "markdown",
   "id": "ee41651a",
   "metadata": {
    "lang": "en"
   },
   "source": [
    "We can change the colors of the graphs using the argument `palette = \"color code\"`\n",
    "Check seaborn palettes --> [Here](https://seaborn.pydata.org/tutorial/color_palettes.html)"
   ]
  },
  {
   "cell_type": "code",
   "execution_count": null,
   "id": "22fb3f0f",
   "metadata": {},
   "outputs": [],
   "source": [
    "sns.countplot(x=penguins[\"species\"], palette=\"magma\");"
   ]
  },
  {
   "cell_type": "code",
   "execution_count": null,
   "id": "patent-employer",
   "metadata": {
    "scrolled": false
   },
   "outputs": [],
   "source": [
    "sns.countplot(x=\"species\", data=penguins, palette=\"magma\");"
   ]
  },
  {
   "cell_type": "code",
   "execution_count": null,
   "id": "d0ca65c5",
   "metadata": {},
   "outputs": [],
   "source": [
    "titanic.sample(4)"
   ]
  },
  {
   "cell_type": "markdown",
   "id": "18ebb7f6",
   "metadata": {
    "lang": "en"
   },
   "source": [
    "#### seaborn: barplot"
   ]
  },
  {
   "cell_type": "markdown",
   "id": "dc4a5345",
   "metadata": {
    "lang": "en"
   },
   "source": [
    "Not to be confused with the countplot, the seaborn barplot plots an estimate of the central tendency of a numerical variable with the height of each rectangle and provides some indication of the uncertainty around that estimate using error bars.\n",
    "`ci=\"sd\"` to change the confidence interval to the standard deviation"
   ]
  },
  {
   "cell_type": "markdown",
   "id": "615af9ed",
   "metadata": {},
   "source": [
    "`average passengers by year❓`"
   ]
  },
  {
   "cell_type": "code",
   "execution_count": null,
   "id": "north-victorian",
   "metadata": {},
   "outputs": [],
   "source": [
    "flights.head()"
   ]
  },
  {
   "cell_type": "code",
   "execution_count": null,
   "id": "d690ceda",
   "metadata": {},
   "outputs": [],
   "source": [
    "flights.groupby(\"year\")[\"passengers\"].mean()"
   ]
  },
  {
   "cell_type": "markdown",
   "id": "508b716d",
   "metadata": {},
   "source": [
    "[seaborn barplot](https://seaborn.pydata.org/generated/seaborn.barplot.html)"
   ]
  },
  {
   "cell_type": "code",
   "execution_count": null,
   "id": "brutal-interpretation",
   "metadata": {},
   "outputs": [],
   "source": [
    "# Doing the avg by year: mean by default\n",
    "barplot = sns.barplot(x=\"year\", y=\"passengers\", data=flights)"
   ]
  },
  {
   "cell_type": "markdown",
   "id": "21a3d35d",
   "metadata": {},
   "source": [
    "`total passengers by year❓`"
   ]
  },
  {
   "cell_type": "code",
   "execution_count": null,
   "id": "8ca5d911",
   "metadata": {},
   "outputs": [],
   "source": [
    "sns.barplot(x=flights[\"year\"], y=flights[\"passengers\"], palette=\"magma\", estimator=sum);"
   ]
  },
  {
   "cell_type": "markdown",
   "id": "0fd77645",
   "metadata": {
    "lang": "en"
   },
   "source": [
    "Take a look at the seaborn barplot --> https://seaborn.pydata.org/generated/seaborn.barplot.html"
   ]
  },
  {
   "cell_type": "markdown",
   "id": "d9b18c3d",
   "metadata": {
    "lang": "en"
   },
   "source": [
    "When to use one or the other? We can really do the same with both, Matplotlib is tremendously powerful and Seaborn is built on Matplotlib but is syntactically simpler and visually a bit more modern.\n"
   ]
  },
  {
   "cell_type": "markdown",
   "id": "0f8139dc",
   "metadata": {
    "lang": "en"
   },
   "source": [
    "#### matplotlib: barplot\n",
    "The same countplot we have done in seaborn is called \"bar plot\" in matplotlib. It is a bar graph.\n",
    "Just have the dataframe grouped and add `.plot`"
   ]
  },
  {
   "cell_type": "markdown",
   "id": "e9edc67c",
   "metadata": {},
   "source": [
    "`penguins by species❓`"
   ]
  },
  {
   "cell_type": "code",
   "execution_count": null,
   "id": "6d819412",
   "metadata": {
    "scrolled": true
   },
   "outputs": [],
   "source": [
    "penguins[\"species\"].value_counts()"
   ]
  },
  {
   "cell_type": "code",
   "execution_count": null,
   "id": "numeric-narrative",
   "metadata": {
    "scrolled": false
   },
   "outputs": [],
   "source": [
    "penguins[\"species\"].value_counts().plot(kind=\"bar\", color=\"salmon\", title=\"Number of penguins by species\")\n",
    "plt.xticks(rotation=0);"
   ]
  },
  {
   "cell_type": "markdown",
   "id": "ad0e64c5",
   "metadata": {},
   "source": [
    "### Column: grouped bar chart"
   ]
  },
  {
   "cell_type": "markdown",
   "id": "a7320fdd",
   "metadata": {
    "lang": "en"
   },
   "source": [
    "We can create clustered bar charts and thus add an extra dimension to the chart by using the hue parameter, which causes each bar to be multiplied by the number of distinct values ​​of the variable indicated by this argument."
   ]
  },
  {
   "cell_type": "markdown",
   "id": "19132f5f",
   "metadata": {},
   "source": [
    "`how many people survived/didn't survive by class❓`"
   ]
  },
  {
   "cell_type": "code",
   "execution_count": null,
   "id": "9c948257",
   "metadata": {
    "scrolled": false
   },
   "outputs": [],
   "source": [
    "#People surviving per class\n",
    "\n",
    "sns.countplot(x=titanic[\"Pclass\"], hue=titanic[\"Survived\"], palette=\"magma\")"
   ]
  },
  {
   "cell_type": "markdown",
   "id": "50d6552b",
   "metadata": {},
   "source": [
    "`how many penguins are male/female by species❓`"
   ]
  },
  {
   "cell_type": "markdown",
   "id": "50c93b10",
   "metadata": {},
   "source": [
    "#### seaborn: countplot"
   ]
  },
  {
   "cell_type": "code",
   "execution_count": null,
   "id": "signal-guitar",
   "metadata": {
    "scrolled": false
   },
   "outputs": [],
   "source": [
    "sns.countplot(x=\"species\", hue=\"sex\", data = penguins);"
   ]
  },
  {
   "cell_type": "code",
   "execution_count": null,
   "id": "hungarian-stretch",
   "metadata": {},
   "outputs": [],
   "source": [
    "sns.countplot(x=penguins.species, hue=penguins.sex); #Same function, different syntax"
   ]
  },
  {
   "cell_type": "markdown",
   "id": "b208193c",
   "metadata": {
    "lang": "en"
   },
   "source": [
    "The same graph but horizontal 🙃"
   ]
  },
  {
   "cell_type": "code",
   "execution_count": null,
   "id": "decimal-strategy",
   "metadata": {},
   "outputs": [],
   "source": [
    "sns.countplot(y=penguins.species, hue=penguins.sex);"
   ]
  },
  {
   "cell_type": "markdown",
   "id": "e6a14a28",
   "metadata": {},
   "source": [
    "`how many people are men/women by class❓`"
   ]
  },
  {
   "cell_type": "markdown",
   "id": "c8728e73",
   "metadata": {
    "lang": "en"
   },
   "source": [
    "We add another variable that has more categories, in seaborn the bars are colored by themselves 🌈"
   ]
  },
  {
   "cell_type": "code",
   "execution_count": null,
   "id": "ae0f5937",
   "metadata": {},
   "outputs": [],
   "source": [
    "titanic.head()"
   ]
  },
  {
   "cell_type": "code",
   "execution_count": null,
   "id": "veterinary-nelson",
   "metadata": {},
   "outputs": [],
   "source": [
    "sns.countplot(data = titanic, x=\"Sex\", hue=\"Pclass\") # order of the arguements don't matter when using name of variable"
   ]
  },
  {
   "cell_type": "markdown",
   "id": "c36e0a4e",
   "metadata": {},
   "source": [
    "### matplotlib: bar chart"
   ]
  },
  {
   "cell_type": "markdown",
   "id": "a3daedf4",
   "metadata": {},
   "source": [
    "`how many penguins are male/female by species❓`"
   ]
  },
  {
   "cell_type": "markdown",
   "id": "3d928d9d",
   "metadata": {
    "lang": "en"
   },
   "source": [
    "We are going to try, in parts, to get the same graph that we have above, in which we count the penguins by species and sex.\n",
    "\n",
    "First we have to group the data:"
   ]
  },
  {
   "cell_type": "code",
   "execution_count": null,
   "id": "e194aae0",
   "metadata": {},
   "outputs": [],
   "source": [
    "penguins.groupby([\"species\", \"sex\"])[\"sex\"].count().plot(kind=\"bar\")"
   ]
  },
  {
   "cell_type": "markdown",
   "id": "d915054f",
   "metadata": {
    "lang": "en"
   },
   "source": [
    "Ok, nothing happens, we add the color parameter.\n",
    "List of colors in matplotlib --> https://matplotlib.org/stable/gallery/color/named_colors.html"
   ]
  },
  {
   "cell_type": "code",
   "execution_count": null,
   "id": "substantial-joseph",
   "metadata": {},
   "outputs": [],
   "source": [
    "penguins.groupby([\"species\", \"sex\"])[\"sex\"].count().plot(kind=\"bar\", color=[\"slategray\",\"coral\"]);"
   ]
  },
  {
   "cell_type": "markdown",
   "id": "b6e0c4ad",
   "metadata": {
    "lang": "en"
   },
   "source": [
    "Please bars, can you get together? Ok, we have to do a ... [unstack()](https://pandas.pydata.org/docs/reference/api/pandas.DataFrame.unstack.html) with the indexes, since we have [multiindex]( https://pandas.pydata.org/pandas-docs/stable/user_guide/advanced.html)"
   ]
  },
  {
   "cell_type": "markdown",
   "id": "92189557",
   "metadata": {},
   "source": [
    "![stack and unstack](https://miro.medium.com/max/1400/1*DYDOif_qBEgtWfFKUDSf0Q.png)"
   ]
  },
  {
   "cell_type": "code",
   "execution_count": null,
   "id": "a7eefe85",
   "metadata": {},
   "outputs": [],
   "source": [
    "pd.DataFrame(penguins.groupby([\"species\", \"sex\"])[\"sex\"].count())"
   ]
  },
  {
   "cell_type": "code",
   "execution_count": null,
   "id": "reasonable-carrier",
   "metadata": {},
   "outputs": [],
   "source": [
    "hola2 = pd.DataFrame(penguins.groupby([\"species\", \"sex\"])[\"sex\"].count()).unstack()\n",
    "hola2.head()"
   ]
  },
  {
   "cell_type": "code",
   "execution_count": null,
   "id": "946849f9",
   "metadata": {},
   "outputs": [],
   "source": [
    "# unstacking after doing groupby will allow us to group only one thing, instead of the two"
   ]
  },
  {
   "cell_type": "code",
   "execution_count": null,
   "id": "advised-pakistan",
   "metadata": {},
   "outputs": [],
   "source": [
    "hola2.plot(kind=\"bar\");\n",
    "plt.show()"
   ]
  },
  {
   "cell_type": "code",
   "execution_count": null,
   "id": "bigger-accused",
   "metadata": {},
   "outputs": [],
   "source": [
    "save = penguins.groupby([\"species\", \"sex\"])[\"sex\"].count().unstack().plot(kind=\"bar\")\n",
    "plt.show()"
   ]
  },
  {
   "cell_type": "markdown",
   "id": "4f74260f",
   "metadata": {
    "lang": "en"
   },
   "source": [
    "We turn it upside down"
   ]
  },
  {
   "cell_type": "code",
   "execution_count": null,
   "id": "criminal-highway",
   "metadata": {},
   "outputs": [],
   "source": [
    "save = penguins.groupby([\"species\", \"sex\"])[\"sex\"].count().unstack().plot(kind=\"barh\")\n",
    "plt.show()"
   ]
  },
  {
   "cell_type": "markdown",
   "id": "ae872310",
   "metadata": {},
   "source": [
    "`average of all three lengths by species❓`"
   ]
  },
  {
   "cell_type": "code",
   "execution_count": null,
   "id": "wrong-objective",
   "metadata": {},
   "outputs": [],
   "source": [
    "penguins.sample(5)"
   ]
  },
  {
   "cell_type": "markdown",
   "id": "eca42775",
   "metadata": {
    "lang": "en"
   },
   "source": [
    "I leave you a reminder of the .agg with its [documentation](https://pandas.pydata.org/docs/reference/api/pandas.DataFrame.agg.html)"
   ]
  },
  {
   "cell_type": "code",
   "execution_count": null,
   "id": "combined-details",
   "metadata": {},
   "outputs": [],
   "source": [
    "flaps = penguins.groupby(\"species\").agg({\"bill_length_mm\": \"mean\",\"bill_depth_mm\": \"mean\", \"flipper_length_mm\": \"mean\" })"
   ]
  },
  {
   "cell_type": "code",
   "execution_count": null,
   "id": "lasting-pharmacy",
   "metadata": {},
   "outputs": [],
   "source": [
    "flaps.head()"
   ]
  },
  {
   "cell_type": "code",
   "execution_count": null,
   "id": "published-albany",
   "metadata": {
    "scrolled": false
   },
   "outputs": [],
   "source": [
    "flaps.plot(kind=\"bar\")"
   ]
  },
  {
   "cell_type": "markdown",
   "id": "23b8d31a",
   "metadata": {},
   "source": [
    "### Line chart"
   ]
  },
  {
   "cell_type": "markdown",
   "id": "01bedbed",
   "metadata": {},
   "source": [
    "`evolution of total passengers by year❓`"
   ]
  },
  {
   "cell_type": "code",
   "execution_count": null,
   "id": "photographic-guyana",
   "metadata": {},
   "outputs": [],
   "source": [
    "flights.head()"
   ]
  },
  {
   "cell_type": "code",
   "execution_count": null,
   "id": "stock-orbit",
   "metadata": {},
   "outputs": [],
   "source": [
    "sns.lineplot(data=flights, x=\"year\", y=\"passengers\", ci=None);"
   ]
  },
  {
   "cell_type": "markdown",
   "id": "96b2ccd3",
   "metadata": {},
   "source": [
    "`evolution of total passengers by year broken down by month❓`"
   ]
  },
  {
   "cell_type": "code",
   "execution_count": null,
   "id": "governmental-interpretation",
   "metadata": {
    "scrolled": false
   },
   "outputs": [],
   "source": [
    "sns.lineplot(data=flights, x=\"year\", y=\"passengers\", hue=\"month\")"
   ]
  },
  {
   "cell_type": "markdown",
   "id": "e2294520",
   "metadata": {},
   "source": [
    "### Scatter plot"
   ]
  },
  {
   "cell_type": "markdown",
   "id": "504c6efe",
   "metadata": {},
   "source": [
    "`how are these two quantitative variables (body mass & flipper length) related❓`"
   ]
  },
  {
   "cell_type": "markdown",
   "id": "fdd009d2",
   "metadata": {
    "lang": "en"
   },
   "source": [
    "A scatterplot uses points to represent the values ​​of two different numerical variables. The position of each point on the horizontal and vertical axes indicates the values ​​of an individual data point. Scatter plots are used to look at relationships between variables."
   ]
  },
  {
   "cell_type": "markdown",
   "id": "pressed-mainstream",
   "metadata": {},
   "source": [
    "#### seaborn: scatterplot"
   ]
  },
  {
   "cell_type": "code",
   "execution_count": null,
   "id": "41502d76",
   "metadata": {},
   "outputs": [],
   "source": [
    "sns.scatterplot(x=\"body_mass_g\", y=\"flipper_length_mm\", data=penguins);"
   ]
  },
  {
   "cell_type": "markdown",
   "id": "f9306c7d",
   "metadata": {},
   "source": [
    "`how are these quantitative variables (body mass & flipper length) related to this categorial (species)❓`"
   ]
  },
  {
   "cell_type": "code",
   "execution_count": null,
   "id": "0421cc43",
   "metadata": {},
   "outputs": [],
   "source": [
    "sns.scatterplot(x=\"body_mass_g\", y=\"flipper_length_mm\", hue=\"species\",data=penguins);"
   ]
  },
  {
   "cell_type": "markdown",
   "id": "fd6a1433",
   "metadata": {
    "lang": "en"
   },
   "source": [
    "We can make the size of the dotsdepend on a numeric variable"
   ]
  },
  {
   "cell_type": "code",
   "execution_count": null,
   "id": "f6fb2296",
   "metadata": {},
   "outputs": [],
   "source": [
    "sns.scatterplot(x=\"body_mass_g\", y=\"flipper_length_mm\", hue=\"species\",data=penguins, size=\"flipper_length_mm\");"
   ]
  },
  {
   "cell_type": "code",
   "execution_count": null,
   "id": "instructional-ferry",
   "metadata": {},
   "outputs": [],
   "source": [
    "sns.scatterplot(x=\"body_mass_g\", y=\"flipper_length_mm\", hue=\"species\",data=penguins, size=\"bill_length_mm\");"
   ]
  },
  {
   "cell_type": "code",
   "execution_count": null,
   "id": "expected-pleasure",
   "metadata": {
    "scrolled": false
   },
   "outputs": [],
   "source": [
    "sns.scatterplot(x=\"body_mass_g\", y=\"flipper_length_mm\", hue=\"species\",data=penguins, size=\"bill_length_mm\", style=\"island\");"
   ]
  },
  {
   "cell_type": "markdown",
   "id": "heard-processing",
   "metadata": {},
   "source": [
    "#### matplotlib: scatterplot"
   ]
  },
  {
   "cell_type": "markdown",
   "id": "b9ddde4b",
   "metadata": {},
   "source": [
    "`how are these two quantitative variables (body mass & flipper length) related❓`"
   ]
  },
  {
   "cell_type": "code",
   "execution_count": null,
   "id": "violent-heaven",
   "metadata": {},
   "outputs": [],
   "source": [
    "plt.scatter(x=penguins[\"body_mass_g\"], y=penguins[\"flipper_length_mm\"]);"
   ]
  },
  {
   "cell_type": "markdown",
   "id": "edcb04c7",
   "metadata": {},
   "source": [
    "## DISTRIBUTION"
   ]
  },
  {
   "cell_type": "markdown",
   "id": "0763ca78",
   "metadata": {},
   "source": [
    "- Histograms\n",
    "- Boxplot\n",
    "- KDE"
   ]
  },
  {
   "cell_type": "markdown",
   "id": "39b887c8",
   "metadata": {
    "lang": "en"
   },
   "source": [
    "### Histograms\n",
    "Histograms resemble vertical bar charts. However, histograms represent the underlying frequency of a discrete or continuous data set that is measured on an interval scale. This representation makes it easy to visualize the underlying distribution of the data set and to inspect other properties, such as skewness and kurtosis (a measure that determines how concentrated values ​​are in the central region of the distribution)."
   ]
  },
  {
   "cell_type": "markdown",
   "id": "private-procurement",
   "metadata": {},
   "source": [
    "![assymetry](https://d2mk45aasx86xg.cloudfront.net/image1_11zon_4542aedc45.webp)"
   ]
  },
  {
   "cell_type": "markdown",
   "id": "d90f39b6",
   "metadata": {},
   "source": [
    "#### seaborn: histograms"
   ]
  },
  {
   "cell_type": "markdown",
   "id": "fc0689e8",
   "metadata": {},
   "source": [
    "`how is the age distributed❓`"
   ]
  },
  {
   "cell_type": "code",
   "execution_count": null,
   "id": "b6dcae2b",
   "metadata": {},
   "outputs": [],
   "source": [
    "titanic.sample(4)"
   ]
  },
  {
   "cell_type": "code",
   "execution_count": null,
   "id": "10dca1f7",
   "metadata": {},
   "outputs": [],
   "source": [
    "sns.histplot(x=titanic.Age)"
   ]
  },
  {
   "cell_type": "code",
   "execution_count": null,
   "id": "fc0d1d3d",
   "metadata": {
    "scrolled": true
   },
   "outputs": [],
   "source": [
    "sns.histplot(x=titanic.Age, bins=200) # do we want this much detail?"
   ]
  },
  {
   "cell_type": "code",
   "execution_count": null,
   "id": "chubby-championship",
   "metadata": {},
   "outputs": [],
   "source": [
    "titanic.Age.min()"
   ]
  },
  {
   "cell_type": "code",
   "execution_count": null,
   "id": "d086d1a9",
   "metadata": {},
   "outputs": [],
   "source": [
    "titanic.shape"
   ]
  },
  {
   "cell_type": "code",
   "execution_count": null,
   "id": "overhead-collar",
   "metadata": {},
   "outputs": [],
   "source": [
    "# Histplots ignore NaN\n",
    "titanic.isna().sum()"
   ]
  },
  {
   "cell_type": "code",
   "execution_count": null,
   "id": "living-colors",
   "metadata": {},
   "outputs": [],
   "source": [
    "titanic.Age.fillna(0, inplace=True)"
   ]
  },
  {
   "cell_type": "markdown",
   "id": "e9ffe896",
   "metadata": {
    "lang": "en"
   },
   "source": [
    "We have manipulated the data by padding the NaNs with 0 and we have changed the distribution of the data"
   ]
  },
  {
   "cell_type": "code",
   "execution_count": null,
   "id": "ready-martin",
   "metadata": {},
   "outputs": [],
   "source": [
    "sns.histplot(x=titanic.Age)"
   ]
  },
  {
   "cell_type": "markdown",
   "id": "fc6d896e",
   "metadata": {
    "lang": "en"
   },
   "source": [
    "We can manually specify the number of `boxes`."
   ]
  },
  {
   "cell_type": "code",
   "execution_count": null,
   "id": "patient-spyware",
   "metadata": {
    "scrolled": false
   },
   "outputs": [],
   "source": [
    "sns.histplot(x=titanic.Age, bins=30)"
   ]
  },
  {
   "cell_type": "markdown",
   "id": "a2c9701b",
   "metadata": {
    "lang": "en"
   },
   "source": [
    "We can choose if we fill it or not..."
   ]
  },
  {
   "cell_type": "code",
   "execution_count": null,
   "id": "bulgarian-jacket",
   "metadata": {},
   "outputs": [],
   "source": [
    "sns.histplot(x=titanic.Age, bins=40, fill=None);"
   ]
  },
  {
   "cell_type": "code",
   "execution_count": null,
   "id": "welsh-vintage",
   "metadata": {},
   "outputs": [],
   "source": [
    "sns.histplot(x=titanic.Age, bins=30, fill=None, kde=True);"
   ]
  },
  {
   "cell_type": "markdown",
   "id": "5fe9a307",
   "metadata": {
    "lang": "en"
   },
   "source": [
    "We can ask for an approximation of the distribution / kernel density estimation"
   ]
  },
  {
   "cell_type": "code",
   "execution_count": null,
   "id": "7fc60df0",
   "metadata": {},
   "outputs": [],
   "source": [
    "sns.histplot(x=titanic.Age, bins=12, kde=True);"
   ]
  },
  {
   "cell_type": "code",
   "execution_count": null,
   "id": "936a071f",
   "metadata": {},
   "outputs": [],
   "source": [
    "# histogram: gives the distribution\n",
    "    # histograms: work with numerical data: age\n",
    "    \n",
    "# barplot: total amount of values\n",
    "    \n",
    "# histograms: it has bins, the bins are the ranges\n",
    "    # ranges that are very small\n",
    "    # might be adding noise to the visualization"
   ]
  },
  {
   "cell_type": "markdown",
   "id": "ea29b1a5",
   "metadata": {},
   "source": [
    "#### matplotlib: histograms"
   ]
  },
  {
   "cell_type": "markdown",
   "id": "c4e63f68",
   "metadata": {},
   "source": [
    "`how is the age distributed❓`"
   ]
  },
  {
   "cell_type": "markdown",
   "id": "combined-specialist",
   "metadata": {},
   "source": [
    "https://htmlcolorcodes.com"
   ]
  },
  {
   "cell_type": "code",
   "execution_count": null,
   "id": "floppy-vitamin",
   "metadata": {},
   "outputs": [],
   "source": [
    "titanic.Age.plot.hist(bins=10, color=\"#fd7e14\", rwidth=0.7)"
   ]
  },
  {
   "cell_type": "code",
   "execution_count": null,
   "id": "enormous-omega",
   "metadata": {
    "scrolled": true
   },
   "outputs": [],
   "source": [
    "titanic.Age.plot.hist(bins=30, color=\"#fd7e14\",rwidth=0.90, histtype=\"step\")"
   ]
  },
  {
   "cell_type": "markdown",
   "id": "88f57286",
   "metadata": {
    "lang": "en"
   },
   "source": [
    "### With categorical variables"
   ]
  },
  {
   "cell_type": "markdown",
   "id": "4875fc19",
   "metadata": {},
   "source": [
    "`how is the body mass distributed across species❓`"
   ]
  },
  {
   "cell_type": "code",
   "execution_count": null,
   "id": "4078bf55",
   "metadata": {},
   "outputs": [],
   "source": [
    "sns.scatterplot(data=penguins, x=\"species\", y=\"body_mass_g\")"
   ]
  },
  {
   "cell_type": "markdown",
   "id": "d8cc24a6",
   "metadata": {
    "lang": "en"
   },
   "source": [
    "The default representation of data in catplot() uses a scatter plot. There are actually two different categorical scatterplots in seaborn. They take different approaches to solve the main challenge of representing categorical data with a scatter plot, which is that all the points that belong to a category fall in the same position along the axis corresponding to the categorical variable."
   ]
  },
  {
   "cell_type": "code",
   "execution_count": null,
   "id": "7c5ab299",
   "metadata": {},
   "outputs": [],
   "source": [
    "sns.catplot(data=penguins, x=\"species\", y=\"body_mass_g\");"
   ]
  },
  {
   "cell_type": "code",
   "execution_count": null,
   "id": "11025862",
   "metadata": {},
   "outputs": [],
   "source": [
    "sns.catplot(data=penguins, x=\"species\", y=\"body_mass_g\",hue=\"sex\", jitter=True);"
   ]
  },
  {
   "cell_type": "code",
   "execution_count": null,
   "id": "photographic-johns",
   "metadata": {},
   "outputs": [],
   "source": [
    "sns.catplot(data=penguins, x=\"species\", y=\"body_mass_g\",hue=\"sex\", alpha=0.5);"
   ]
  },
  {
   "cell_type": "markdown",
   "id": "64024789",
   "metadata": {
    "lang": "en"
   },
   "source": [
    "### swarmplot\n",
    "Draws a categorical scatter plot with non-overlapping points."
   ]
  },
  {
   "cell_type": "markdown",
   "id": "cd25252b",
   "metadata": {},
   "source": [
    "`how is the body mass distributed across species & male/female❓`"
   ]
  },
  {
   "cell_type": "code",
   "execution_count": null,
   "id": "5a8eedaa",
   "metadata": {},
   "outputs": [],
   "source": [
    "sns.swarmplot(data=penguins, x=\"body_mass_g\", y=\"sex\", hue=\"species\");"
   ]
  },
  {
   "cell_type": "code",
   "execution_count": null,
   "id": "abandoned-utility",
   "metadata": {},
   "outputs": [],
   "source": [
    "sns.swarmplot(data=penguins, x=\"body_mass_g\", y=\"species\", hue=\"sex\", alpha = 0.9);"
   ]
  },
  {
   "cell_type": "markdown",
   "id": "f64aeb8f",
   "metadata": {},
   "source": [
    "### Boxplot"
   ]
  },
  {
   "cell_type": "markdown",
   "id": "20877bba",
   "metadata": {
    "lang": "en"
   },
   "source": [
    "This type of chart displays the three quartile values ​​of the distribution along with the extreme values. The lines are extended to points that are within 1.5 IQRs of the lower and upper quartile, and then observations that fall outside this range are displayed independently. This means that each value in the boxplot corresponds to an actual observation in the data."
   ]
  },
  {
   "cell_type": "markdown",
   "id": "72616963",
   "metadata": {
    "lang": "en"
   },
   "source": [
    "The lines:\n",
    " - The one in the middle: the median\n",
    " - The one in the middle to the left: Q1: percentile 25%\n",
    " - Mean on the right: Q3: percentile 75%\n",
    " \n",
    " - Left: Q1 - 1.5 IQR\n",
    " - Right: Q3 + 1.5 IQR"
   ]
  },
  {
   "cell_type": "markdown",
   "id": "8f41af0b",
   "metadata": {
    "lang": "en"
   },
   "source": [
    "+ First quartile: 25% of the values ​​are less than or equal to this value (point 2 in the graph above).\n",
    "+ Median or Second Quartile: Divides the distribution into two equal parts. So that 50% of the values ​​are less than or equal to this value (point 3 in the following graph).\n",
    "+ Third quartile: 75% of the values ​​are less than or equal to this value (point 4 in the graph below).\n",
    "Interquartile Range (IQR): Difference between the value of the third quartile and the first quartile."
   ]
  },
  {
   "cell_type": "markdown",
   "id": "da927fb5",
   "metadata": {},
   "source": [
    "![boxplots](https://www.simplypsychology.org/box-whisker-plot.jpg)"
   ]
  },
  {
   "cell_type": "markdown",
   "id": "2162a01e",
   "metadata": {},
   "source": [
    "`how is the age distributed❓`"
   ]
  },
  {
   "cell_type": "code",
   "execution_count": null,
   "id": "b60de83e",
   "metadata": {
    "scrolled": false
   },
   "outputs": [],
   "source": [
    "sns.boxplot(x=\"Age\", data=titanic)"
   ]
  },
  {
   "cell_type": "code",
   "execution_count": null,
   "id": "ee8af664",
   "metadata": {},
   "outputs": [],
   "source": [
    "titanic.Age.max()"
   ]
  },
  {
   "cell_type": "code",
   "execution_count": null,
   "id": "d43ed5eb",
   "metadata": {},
   "outputs": [],
   "source": [
    "titanic.Age.dropna().quantile(.50)"
   ]
  },
  {
   "cell_type": "code",
   "execution_count": null,
   "id": "24b05e24",
   "metadata": {},
   "outputs": [],
   "source": [
    "titanic.Age.dropna().quantile(.25)"
   ]
  },
  {
   "cell_type": "code",
   "execution_count": null,
   "id": "5a50d6c0",
   "metadata": {},
   "outputs": [],
   "source": [
    "titanic.Age.dropna().quantile(.75)"
   ]
  },
  {
   "cell_type": "code",
   "execution_count": null,
   "id": "expanded-balance",
   "metadata": {},
   "outputs": [],
   "source": [
    "titanic.Age.median()"
   ]
  },
  {
   "cell_type": "markdown",
   "id": "7d75629a",
   "metadata": {},
   "source": [
    "`how is the age distributed across classes❓`"
   ]
  },
  {
   "cell_type": "code",
   "execution_count": null,
   "id": "856743ae",
   "metadata": {
    "scrolled": false
   },
   "outputs": [],
   "source": [
    "sns.boxplot(x=\"Pclass\", y=\"Age\", data=titanic)"
   ]
  },
  {
   "cell_type": "markdown",
   "id": "4aaf0ccb",
   "metadata": {
    "lang": "en"
   },
   "source": [
    "### ViolinPlot\n",
    "A violin chart is a method of representing numerical data. It is similar to a box plot, with the addition of a rotated kernel density plot on each side"
   ]
  },
  {
   "cell_type": "markdown",
   "id": "d86b9caf",
   "metadata": {},
   "source": [
    "`how is the age distributed❓`"
   ]
  },
  {
   "cell_type": "code",
   "execution_count": null,
   "id": "b0d54d9d",
   "metadata": {},
   "outputs": [],
   "source": [
    "violin = sns.violinplot(x=titanic.Age)\n",
    "violin.axvline(x=titanic.Age.median(), c=\"red\", label=\"median\")\n",
    "plt.legend()"
   ]
  },
  {
   "cell_type": "markdown",
   "id": "1b347a10",
   "metadata": {},
   "source": [
    "`how is the bill_legth distributed across species❓`"
   ]
  },
  {
   "cell_type": "code",
   "execution_count": null,
   "id": "4474840d",
   "metadata": {},
   "outputs": [],
   "source": [
    "sns.violinplot(x=penguins.bill_length_mm, y=penguins.species);"
   ]
  },
  {
   "cell_type": "markdown",
   "id": "4f96ec30",
   "metadata": {
    "lang": "en"
   },
   "source": [
    "### KDE plot\n",
    "This function allows much more control over the resulting plot than the seaborn.distplot function. If we pass as the first argument the set of y values ​​calculated in the previous section, we get exactly the same graph.\n",
    "\n",
    "[Seaborn: kdeplot](https://seaborn.pydata.org/generated/seaborn.kdeplot.html)"
   ]
  },
  {
   "cell_type": "markdown",
   "id": "9c59debe",
   "metadata": {},
   "source": [
    "`how is the age distributed❓`"
   ]
  },
  {
   "cell_type": "code",
   "execution_count": null,
   "id": "fatty-sound",
   "metadata": {},
   "outputs": [],
   "source": [
    "sns.kdeplot(x=titanic.Age);"
   ]
  },
  {
   "cell_type": "markdown",
   "id": "e9bbdcc6",
   "metadata": {
    "lang": "en"
   },
   "source": [
    "#### With more variables\n"
   ]
  },
  {
   "cell_type": "markdown",
   "id": "11f4d88b",
   "metadata": {},
   "source": [
    "`how is the age across class❓`"
   ]
  },
  {
   "cell_type": "code",
   "execution_count": null,
   "id": "fitted-invasion",
   "metadata": {},
   "outputs": [],
   "source": [
    "sns.kdeplot(x=titanic.Age, hue=titanic.Pclass);"
   ]
  },
  {
   "cell_type": "code",
   "execution_count": null,
   "id": "operational-notification",
   "metadata": {},
   "outputs": [],
   "source": [
    "sns.kdeplot(x=titanic.Age, hue=titanic.Pclass, fill=True);"
   ]
  },
  {
   "cell_type": "markdown",
   "id": "ba3a2310",
   "metadata": {
    "lang": "en"
   },
   "source": [
    "#### Add KDE to the histplot\n",
    "The lines that we are going to add are from the matplotlib library, but... the good thing is that we can combine both libraries"
   ]
  },
  {
   "cell_type": "code",
   "execution_count": null,
   "id": "352a911c",
   "metadata": {},
   "outputs": [],
   "source": [
    "graf = sns.histplot(x=titanic.Age, kde=True) # Saving the graph as a variable\n",
    "\n",
    "graf.axvline(x=titanic.Age.mean(), c=\"red\", label=\"mean\")\n",
    "graf.axvline(x=titanic.Age.median(), c=\"green\", label=\"median\")\n",
    "graf.axvline(x=titanic.Age.max(), c=\"blue\", label=\"max\") #X axis\n",
    "\n",
    "graf.axhline(y=60, c=\"black\", label=\"Horizontal\") #Y axis\n",
    "plt.legend();"
   ]
  },
  {
   "cell_type": "code",
   "execution_count": null,
   "id": "dominant-asian",
   "metadata": {},
   "outputs": [],
   "source": [
    "# There's a NaN on the column, but is omitted when doing the mean calculation\n",
    "print(titanic.Age.isna().sum())\n",
    "print(titanic.Age.mean())"
   ]
  },
  {
   "cell_type": "markdown",
   "id": "0e85ac35",
   "metadata": {},
   "source": [
    "## PART OF A WHOLE"
   ]
  },
  {
   "cell_type": "markdown",
   "id": "35f82dad",
   "metadata": {},
   "source": [
    "- Pie plot\n",
    "- Stacked bar chart\n",
    "- Stacked column bar"
   ]
  },
  {
   "cell_type": "markdown",
   "id": "cdeaaeb6",
   "metadata": {
    "lang": "en"
   },
   "source": [
    "### Pie plot 👀\n",
    "- ⚠️ DOES NOT display quantitative data very effectively.\n",
    "- ⚠️ Small portions, for example 2% of the total, run the risk of being invisible on the Chart.\n",
    "- ⚠️ People find it very difficult to compare areas and angles with each other, especially when they present similar values."
   ]
  },
  {
   "cell_type": "markdown",
   "id": "efc5fd6e",
   "metadata": {},
   "source": [
    "`what is the proportion of species❓`"
   ]
  },
  {
   "cell_type": "code",
   "execution_count": null,
   "id": "returning-energy",
   "metadata": {},
   "outputs": [],
   "source": [
    "pens = penguins[\"species\"].value_counts()\n",
    "pens"
   ]
  },
  {
   "cell_type": "code",
   "execution_count": null,
   "id": "changing-anchor",
   "metadata": {
    "scrolled": false
   },
   "outputs": [],
   "source": [
    "pens.plot.pie(autopct=\"%.1f%%\");"
   ]
  },
  {
   "cell_type": "code",
   "execution_count": null,
   "id": "712ab207",
   "metadata": {},
   "outputs": [],
   "source": [
    "# Juliana: the only thing worse than a pie chart is two pie charts"
   ]
  },
  {
   "cell_type": "markdown",
   "id": "5c34a7e8",
   "metadata": {},
   "source": [
    "### Stacked column chart"
   ]
  },
  {
   "cell_type": "markdown",
   "id": "16671acc",
   "metadata": {},
   "source": [
    "#### seaborn: stacked column (histogram)"
   ]
  },
  {
   "cell_type": "markdown",
   "id": "b7f66c0b",
   "metadata": {},
   "source": [
    "`how is the age of people that survived/didnt survive distributed❓`"
   ]
  },
  {
   "cell_type": "code",
   "execution_count": null,
   "id": "225fe610",
   "metadata": {},
   "outputs": [],
   "source": [
    "sns.histplot(data=titanic, x=\"Age\", hue=\"Survived\", multiple=\"stack\");"
   ]
  },
  {
   "cell_type": "code",
   "execution_count": null,
   "id": "b03c5ba9",
   "metadata": {},
   "outputs": [],
   "source": [
    "sns.histplot(data=titanic, x= \"Age\", hue=\"Pclass\", multiple=\"stack\");"
   ]
  },
  {
   "cell_type": "markdown",
   "id": "7f82621e",
   "metadata": {},
   "source": [
    "`how is the flippter_length of penguins across species distributed❓`"
   ]
  },
  {
   "cell_type": "code",
   "execution_count": null,
   "id": "daily-warrior",
   "metadata": {},
   "outputs": [],
   "source": [
    "sns.histplot(data=penguins, x=\"flipper_length_mm\", hue=\"species\");"
   ]
  },
  {
   "cell_type": "code",
   "execution_count": null,
   "id": "3c7c9f29",
   "metadata": {},
   "outputs": [],
   "source": [
    "sns.histplot(data=penguins, x=\"flipper_length_mm\", hue=\"species\", alpha = 0.9); #watchout"
   ]
  },
  {
   "cell_type": "markdown",
   "id": "5453feee",
   "metadata": {
    "lang": "en"
   },
   "source": [
    "Not only can I condition a histplot (that is, show me the data with a condition in the dataframe), but also, instead of choosing all the categories in the hue, I can choose only the ones I want."
   ]
  },
  {
   "cell_type": "markdown",
   "id": "3fb73cef",
   "metadata": {},
   "source": [
    "`how is the flippter_length > 170 of penguins across species distributed❓`"
   ]
  },
  {
   "cell_type": "code",
   "execution_count": null,
   "id": "0deda42a",
   "metadata": {},
   "outputs": [],
   "source": [
    "sns.histplot(palette=\"mako\", x=penguins[penguins.flipper_length_mm > 170].flipper_length_mm, hue=penguins[\"species\"]);"
   ]
  },
  {
   "cell_type": "markdown",
   "id": "971b3ddc",
   "metadata": {},
   "source": [
    "`how is the flippter_length > 170 of penguins across Adelie & Chinstrap species distributed❓`"
   ]
  },
  {
   "cell_type": "code",
   "execution_count": null,
   "id": "359835cb",
   "metadata": {},
   "outputs": [],
   "source": [
    "#Multiple conditions when plotting\n",
    "\n",
    "sns.histplot(palette=\"mako\", x=penguins[penguins.flipper_length_mm > 170].flipper_length_mm, hue=penguins[(penguins.species==\"Adelie\")|(penguins.species==\"Chinstrap\")].species)"
   ]
  },
  {
   "cell_type": "markdown",
   "id": "b6764fa8",
   "metadata": {
    "lang": "en"
   },
   "source": [
    "I can filter the data before, in pandas, because it is more comfortable, and pass it filtered to seaborn"
   ]
  },
  {
   "cell_type": "code",
   "execution_count": null,
   "id": "a5ec5547",
   "metadata": {},
   "outputs": [],
   "source": [
    "pens = penguins[((penguins.species==\"Chinstrap\")| (penguins.species==\"Adelie\")) & (penguins.flipper_length_mm > 170)]\n",
    "pens.head()"
   ]
  },
  {
   "cell_type": "code",
   "execution_count": null,
   "id": "arbitrary-agreement",
   "metadata": {},
   "outputs": [],
   "source": [
    "sns.histplot(palette=\"mako\", x=pens.flipper_length_mm, hue=pens.species)"
   ]
  },
  {
   "cell_type": "markdown",
   "id": "04511dce",
   "metadata": {
    "lang": "en"
   },
   "source": [
    "Documentation of histograms --> https://seaborn.pydata.org/generated/seaborn.histplot.html"
   ]
  },
  {
   "cell_type": "markdown",
   "id": "ce5ceace",
   "metadata": {},
   "source": [
    "`how can I compare three different compound distributions at once❓`"
   ]
  },
  {
   "cell_type": "code",
   "execution_count": null,
   "id": "03b767cb",
   "metadata": {},
   "outputs": [],
   "source": [
    "fig, axs = plt.subplots(nrows=1, ncols=3, figsize=(5,5))"
   ]
  },
  {
   "cell_type": "code",
   "execution_count": null,
   "id": "sudden-point",
   "metadata": {},
   "outputs": [],
   "source": [
    "# Emtpy plots\n",
    "fig, axs = plt.subplots(nrows=1, ncols=3, figsize=(20,15))\n",
    "\n",
    "# For each plot, plot it somwhere\n",
    "\n",
    "# 1. Regular \n",
    "sns.histplot(data=penguins, x=\"flipper_length_mm\", hue=\"species\", ax=axs[0])\n",
    "\n",
    "# 2. Above 70\n",
    "sns.histplot(palette=\"mako\", x=penguins[penguins.flipper_length_mm > 170].flipper_length_mm, hue=penguins[\"species\"],multiple=\"stack\", ax=axs[1]);\n",
    "\n",
    "# 3. Above 70 & only two species\n",
    "sns.histplot(palette=\"mako\", x=pens.flipper_length_mm, hue=pens.species, ax=axs[2]);"
   ]
  },
  {
   "cell_type": "markdown",
   "id": "102e9a22",
   "metadata": {},
   "source": [
    "`how is the distribution of age across class❓: stacked & side to side`"
   ]
  },
  {
   "cell_type": "code",
   "execution_count": null,
   "id": "196cccee",
   "metadata": {
    "scrolled": false
   },
   "outputs": [],
   "source": [
    "sns.histplot(data=titanic, x=\"Age\", hue=\"Pclass\", multiple=\"layer\", bins=10);"
   ]
  },
  {
   "cell_type": "code",
   "execution_count": null,
   "id": "ac8090ec",
   "metadata": {},
   "outputs": [],
   "source": [
    "sns.histplot(data=titanic, x=\"Age\", hue=\"Pclass\", multiple=\"dodge\", bins=10);"
   ]
  },
  {
   "cell_type": "markdown",
   "id": "1610a83b",
   "metadata": {},
   "source": [
    "## RELATIONSHIPS"
   ]
  },
  {
   "cell_type": "markdown",
   "id": "a0ebb230",
   "metadata": {},
   "source": [
    "- Scatter plot\n",
    "- Line chart\n",
    "- Correlation matrix"
   ]
  },
  {
   "cell_type": "markdown",
   "id": "5414ba7e",
   "metadata": {},
   "source": [
    "### Scatter plot"
   ]
  },
  {
   "cell_type": "markdown",
   "id": "7f9924b2",
   "metadata": {},
   "source": [
    "`how are these quantitative variables (body mass & flipper length) related❓`"
   ]
  },
  {
   "cell_type": "code",
   "execution_count": null,
   "id": "676db073",
   "metadata": {},
   "outputs": [],
   "source": [
    "sns.scatterplot(x=\"body_mass_g\", y=\"flipper_length_mm\", hue=\"species\",data=penguins);"
   ]
  },
  {
   "cell_type": "markdown",
   "id": "86578d0a",
   "metadata": {},
   "source": [
    "### Line chart"
   ]
  },
  {
   "cell_type": "markdown",
   "id": "07e87377",
   "metadata": {},
   "source": [
    "`how are these quantitative variables changing over time❓`"
   ]
  },
  {
   "cell_type": "code",
   "execution_count": null,
   "id": "ecc586b3",
   "metadata": {
    "scrolled": true
   },
   "outputs": [],
   "source": [
    "df = pd.DataFrame({'year': [2016, 2017, 2018, 2019, 2020, 2021, 2022, 2023],\n",
    "                   'A': [10, 12, 14, 15, 15, 14, 13, 18],\n",
    "                   'B': [18, 18, 19, 14, 14, 11, 20, 28],\n",
    "                   'C': [5, 7, 7, 9, 12, 9, 9, 4],\n",
    "                   'D': [11, 8, 10, 6, 6, 5, 9, 12]})\n",
    "df"
   ]
  },
  {
   "cell_type": "markdown",
   "id": "84b77cea",
   "metadata": {},
   "source": [
    "[Pandas melt](https://pub.towardsai.net/understanding-pandas-melt-pd-melt-362954f8c125)"
   ]
  },
  {
   "cell_type": "code",
   "execution_count": null,
   "id": "2e8fb30c",
   "metadata": {},
   "outputs": [],
   "source": [
    "data = pd.melt(df, ['year'])"
   ]
  },
  {
   "cell_type": "code",
   "execution_count": null,
   "id": "0139c6bf",
   "metadata": {},
   "outputs": [],
   "source": [
    "sns.lineplot(x='year', y=\"value\", hue='variable', \n",
    "             data=data,\n",
    "             palette=['red', 'blue', 'purple', 'pink']);"
   ]
  },
  {
   "cell_type": "markdown",
   "id": "87598c92",
   "metadata": {
    "lang": "en"
   },
   "source": [
    "### Correlation Matrix\n",
    "The correlation matrix is ​​an important data analysis metric that is calculated to summarize the data in order to understand the relationship between the various variables and make decisions accordingly."
   ]
  },
  {
   "cell_type": "markdown",
   "id": "37c78b0e",
   "metadata": {},
   "source": [
    "`to what extent are these quantitative variables related❓`"
   ]
  },
  {
   "cell_type": "code",
   "execution_count": null,
   "id": "macro-remove",
   "metadata": {},
   "outputs": [],
   "source": [
    "corr = titanic.corr()\n",
    "corr"
   ]
  },
  {
   "cell_type": "markdown",
   "id": "ranking-trade",
   "metadata": {},
   "source": [
    "[np triu doc ](https://numpy.org/doc/stable/reference/generated/numpy.triu.html)       \n",
    "[np ones_like doc](https://numpy.org/doc/stable/reference/generated/numpy.ones_like.html)"
   ]
  },
  {
   "cell_type": "markdown",
   "id": "2bc883d7",
   "metadata": {
    "lang": "en"
   },
   "source": [
    "Titanic heat map"
   ]
  },
  {
   "cell_type": "code",
   "execution_count": null,
   "id": "apart-drain",
   "metadata": {},
   "outputs": [],
   "source": [
    "mask = np.triu(np.ones_like(corr, dtype=bool)) \n",
    "color_map = sns.diverging_palette(0, 10, as_cmap=True)\n",
    "sns.heatmap(corr,  \n",
    "            mask = mask,\n",
    "            cmap=color_map,\n",
    "            square=True, z\n",
    "            linewidth=0.5,\n",
    "            vmax=1, #defining max range\n",
    "            vmin=-1, #defining min range\n",
    "            cbar_kws={\"shrink\": .5} #steps for the scale\n",
    ");"
   ]
  },
  {
   "cell_type": "code",
   "execution_count": null,
   "id": "restricted-germany",
   "metadata": {
    "scrolled": false
   },
   "outputs": [],
   "source": [
    "mask = np.triu(np.ones_like(corr2, dtype=bool))\n",
    "color_map = sns.diverging_palette(0, 10, as_cmap=True)\n",
    "sns.heatmap(corr2,  \n",
    "            mask = mask,\n",
    "            cmap=\"viridis\",\n",
    "            square=True, \n",
    "            linewidth=0.5,\n",
    "            vmax=1,\n",
    "            cbar_kws={\"shrink\": .5}\n",
    ");"
   ]
  },
  {
   "cell_type": "markdown",
   "id": "294bb12d",
   "metadata": {
    "lang": "en"
   },
   "source": [
    "### Pairplot\n",
    "We plot relations between the variables"
   ]
  },
  {
   "cell_type": "markdown",
   "id": "6ab1a132",
   "metadata": {},
   "source": [
    "`how are all these variables compared❓`"
   ]
  },
  {
   "cell_type": "code",
   "execution_count": null,
   "id": "hearing-royalty",
   "metadata": {},
   "outputs": [],
   "source": [
    "sns.pairplot(penguins);"
   ]
  },
  {
   "cell_type": "markdown",
   "id": "3acf9bd0",
   "metadata": {},
   "source": [
    "`how are all these variables compared across species❓`"
   ]
  },
  {
   "cell_type": "code",
   "execution_count": null,
   "id": "female-petersburg",
   "metadata": {},
   "outputs": [],
   "source": [
    "sns.pairplot(penguins, hue=\"species\");"
   ]
  },
  {
   "cell_type": "markdown",
   "id": "d8377c16",
   "metadata": {},
   "source": [
    "## TRENDS"
   ]
  },
  {
   "cell_type": "markdown",
   "id": "744763e9",
   "metadata": {},
   "source": [
    "### Line chart"
   ]
  },
  {
   "cell_type": "markdown",
   "id": "c4b9692b",
   "metadata": {},
   "source": [
    "`how are all these groups changing over time❓`"
   ]
  },
  {
   "cell_type": "code",
   "execution_count": null,
   "id": "ce27a926",
   "metadata": {},
   "outputs": [],
   "source": [
    "df = pd.DataFrame({'years': [2016, 2017, 2018, 2019, 2020, 2021, 2022, 2023],\n",
    "                   'Data': [20, 12, 15, 14, 19, 23, 25, 29],\n",
    "                   'UX': [5, 7, 7, 9, 12, 9, 9, 4],\n",
    "                   'Web dev': [1, 1, 10, 6, 6, 5, 9, 12]})\n",
    "df"
   ]
  },
  {
   "cell_type": "code",
   "execution_count": null,
   "id": "5473067d",
   "metadata": {},
   "outputs": [],
   "source": [
    "data = pd.melt(df, ['years'])\n",
    "sns.lineplot(x='years', y=\"value\", hue='variable', \n",
    "             data=data,\n",
    "             palette=['red', 'blue', 'purple']);"
   ]
  },
  {
   "cell_type": "markdown",
   "id": "a441b7e7",
   "metadata": {},
   "source": [
    "### Area chart"
   ]
  },
  {
   "cell_type": "markdown",
   "id": "9c37fde5",
   "metadata": {},
   "source": [
    "`how is the population changing over time and how is it different across these cities❓`"
   ]
  },
  {
   "cell_type": "code",
   "execution_count": null,
   "id": "5514b2db",
   "metadata": {},
   "outputs": [],
   "source": [
    "df = pd.DataFrame({'years': [2016, 2017, 2018, 2019, 2020, 2021, 2022, 2023],\n",
    "                   'Barcelona': [20000, 12000, 15000, 14000, 19000, 23000, 25000, 29000],\n",
    "                   'Madrid': [5000, 7000, 7000, 9000, 12000, 9000, 9000, 4000],\n",
    "                   'Valencia': [1000, 8000, 10000, 6000, 6000, 5000, 9000, 12000]})\n",
    "df"
   ]
  },
  {
   "cell_type": "code",
   "execution_count": null,
   "id": "771babb3",
   "metadata": {},
   "outputs": [],
   "source": [
    "#define colors to use in chart\n",
    "color_map = ['red', 'steelblue', 'pink']\n",
    "    \n",
    "#create area chart\n",
    "plt.stackplot(df.years, df.Barcelona, df.Madrid, df.Valencia,\n",
    "              labels=['Barcelona', 'Madrid', 'Valencia'],\n",
    "              colors=color_map)\n",
    "\n",
    "#add legend\n",
    "plt.legend(loc='upper left')\n",
    "\n",
    "#add axis labels\n",
    "plt.xlabel('Years')\n",
    "plt.ylabel('Population')\n",
    "\n",
    "#display area chart\n",
    "plt.show()"
   ]
  },
  {
   "cell_type": "markdown",
   "id": "cd2a0301",
   "metadata": {},
   "source": [
    "### Column chart: grouped bar chart"
   ]
  },
  {
   "cell_type": "markdown",
   "id": "ea014330",
   "metadata": {},
   "source": [
    "`how does the body mass different in different islands by male/female❓`"
   ]
  },
  {
   "cell_type": "code",
   "execution_count": null,
   "id": "d48c7f4a",
   "metadata": {},
   "outputs": [],
   "source": [
    "sns.barplot(data=penguins, x=\"island\", y=\"body_mass_g\", hue=\"sex\");"
   ]
  },
  {
   "cell_type": "markdown",
   "id": "7a33b425",
   "metadata": {},
   "source": [
    "----------------------------------------------------------------"
   ]
  },
  {
   "cell_type": "markdown",
   "id": "7fd735fd",
   "metadata": {
    "lang": "en"
   },
   "source": [
    "### Jointplot: histograms & scatterplot\n",
    "Draw a two-variable graph with bivariate and univariate graphs. It is similar to a scatterplot but adds the individual histograms of both variables"
   ]
  },
  {
   "cell_type": "code",
   "execution_count": null,
   "id": "russian-bones",
   "metadata": {},
   "outputs": [],
   "source": [
    "penguins.head()"
   ]
  },
  {
   "cell_type": "code",
   "execution_count": null,
   "id": "c6d50352",
   "metadata": {},
   "outputs": [],
   "source": [
    "sns.jointplot(data=penguins, x= \"bill_depth_mm\", y= \"flipper_length_mm\");"
   ]
  },
  {
   "cell_type": "markdown",
   "id": "60bb0872",
   "metadata": {
    "lang": "en"
   },
   "source": [
    "Assigning a `hue` variable will add conditional colors to the scatterplot and draw separate density curves (using kdeplot()) on the marginal axes"
   ]
  },
  {
   "cell_type": "code",
   "execution_count": null,
   "id": "casual-organizer",
   "metadata": {},
   "outputs": [],
   "source": [
    "sns.jointplot(data=penguins, x= \"bill_depth_mm\", y= \"flipper_length_mm\", hue=\"species\");"
   ]
  },
  {
   "cell_type": "code",
   "execution_count": null,
   "id": "electoral-swing",
   "metadata": {},
   "outputs": [],
   "source": [
    "sns.jointplot(data=penguins, x= \"body_mass_g\", y= \"flipper_length_mm\", hue=\"species\");"
   ]
  },
  {
   "cell_type": "markdown",
   "id": "49b9e017",
   "metadata": {
    "lang": "en"
   },
   "source": [
    "- Can you do a Jointplot with matplotlib?\n",
    "Yes, but you have to set the figures and do it independently... here's a [tutorial](https://stackabuse.com/matplotlib-scatter-plot-with-distribution-plots-histograms-jointplot/)"
   ]
  },
  {
   "cell_type": "markdown",
   "id": "b3b6e655",
   "metadata": {
    "lang": "en"
   },
   "source": [
    "Penguins heatmap"
   ]
  },
  {
   "cell_type": "markdown",
   "id": "cedde1fa",
   "metadata": {
    "lang": "en"
   },
   "source": [
    "## Subplots\n",
    "Used to paint several graphics in the same \"image\""
   ]
  },
  {
   "cell_type": "code",
   "execution_count": null,
   "id": "9dd2b673",
   "metadata": {
    "lang": "es"
   },
   "outputs": [],
   "source": [
    "# We create a figure and axes, where we will later access them in the form of coordinates [row,column]\n",
    "\n",
    "fig, ax = plt.subplots(nrows=2, ncols=3, figsize=(20,15))"
   ]
  },
  {
   "cell_type": "code",
   "execution_count": null,
   "id": "infrared-influence",
   "metadata": {},
   "outputs": [],
   "source": [
    "import warnings\n",
    "warnings.filterwarnings(\"ignore\")"
   ]
  },
  {
   "cell_type": "code",
   "execution_count": null,
   "id": "lonely-playing",
   "metadata": {},
   "outputs": [],
   "source": [
    "fig, axs = plt.subplots(nrows=2, ncols=3, figsize=(20,15))\n",
    "\n",
    "penguins.groupby([\"species\",\"sex\"])[\"sex\"].count().unstack().plot(kind=\"barh\", ax=axs[0,0])\n",
    "sns.violinplot(x =penguins.bill_length_mm, y=penguins.species,ax=axs[0,1])\n",
    "sns.histplot(data=penguins, x=\"flipper_length_mm\", hue=\"species\", multiple=\"stack\", ax=axs[0,2])\n",
    "sns.swarmplot(data=penguins, x=\"body_mass_g\", y=\"sex\", hue=\"species\", ax=axs[1,0])\n",
    "pens.plot.pie(autopct=\"%.1f%%\",ax=axs[1,1])\n",
    "sns.countplot(x=penguins.sex, ax=axs[1, 2])"
   ]
  },
  {
   "cell_type": "markdown",
   "id": "a0c29a9c",
   "metadata": {
    "lang": "en"
   },
   "source": [
    "## Save Plots"
   ]
  },
  {
   "cell_type": "code",
   "execution_count": null,
   "id": "expected-audio",
   "metadata": {},
   "outputs": [],
   "source": [
    "scatter = sns.scatterplot(x=\"body_mass_g\", y=\"flipper_length_mm\", data=penguins, hue=\"species\");\n",
    "scatter.figure.savefig(\"../images/scatter.jpg\", dpi=1000)"
   ]
  },
  {
   "cell_type": "code",
   "execution_count": null,
   "id": "positive-intro",
   "metadata": {},
   "outputs": [],
   "source": [
    "graf = sns.histplot(x=titanic.Age, kde=True)\n",
    "graf.axvline(x=titanic.Age.dropna().mean(), c=\"red\", label=\"mean\")\n",
    "graf.axvline(x=titanic.Age.dropna().median(), c=\"green\", label=\"median\")\n",
    "plt.legend()\n",
    "graf.figure.savefig(\"../images/graph.png\", dpi=1000)"
   ]
  }
 ],
 "metadata": {
  "kernelspec": {
   "display_name": "Python 3 (ipykernel)",
   "language": "python",
   "name": "python3"
  },
  "language_info": {
   "codemirror_mode": {
    "name": "ipython",
    "version": 3
   },
   "file_extension": ".py",
   "mimetype": "text/x-python",
   "name": "python",
   "nbconvert_exporter": "python",
   "pygments_lexer": "ipython3",
   "version": "3.8.13"
  },
  "nbTranslate": {
   "displayLangs": [
    "en",
    "es"
   ],
   "hotkey": "alt-a",
   "langInMainMenu": true,
   "sourceLang": "es",
   "targetLang": "en",
   "useGoogleTranslate": true
  },
  "toc": {
   "base_numbering": 1,
   "nav_menu": {},
   "number_sections": true,
   "sideBar": true,
   "skip_h1_title": true,
   "title_cell": "Table of Contents",
   "title_sidebar": "Contents",
   "toc_cell": true,
   "toc_position": {
    "height": "calc(100% - 180px)",
    "left": "10px",
    "top": "150px",
    "width": "291.771px"
   },
   "toc_section_display": true,
   "toc_window_display": true
  }
 },
 "nbformat": 4,
 "nbformat_minor": 5
}
