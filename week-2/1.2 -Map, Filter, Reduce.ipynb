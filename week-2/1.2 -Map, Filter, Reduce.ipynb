{
 "cells": [
  {
   "cell_type": "markdown",
   "id": "bottom-commerce",
   "metadata": {},
   "source": [
    "# Map, Filter, Reduce"
   ]
  },
  {
   "cell_type": "markdown",
   "id": "rising-buyer",
   "metadata": {
    "toc": true
   },
   "source": [
    "<h1>Table of Contents<span class=\"tocSkip\"></span></h1>\n",
    "<div class=\"toc\"><ul class=\"toc-item\"><li><ul class=\"toc-item\"><li><span><a href=\"#Each-student-is-randomly-assigned-a-topic\" data-toc-modified-id=\"Each-student-is-randomly-assigned-a-topic-0.1\"><span class=\"toc-item-num\">0.1&nbsp;&nbsp;</span>Each student is randomly assigned a topic</a></span></li></ul></li><li><span><a href=\"#Let's-start\" data-toc-modified-id=\"Let's-start-1\"><span class=\"toc-item-num\">1&nbsp;&nbsp;</span>Let's start</a></span><ul class=\"toc-item\"><li><span><a href=\"#Create-groups-with-other-people-who-have-studied-the-same-function\" data-toc-modified-id=\"Create-groups-with-other-people-who-have-studied-the-same-function-1.1\"><span class=\"toc-item-num\">1.1&nbsp;&nbsp;</span>Create groups with other people who have studied the same function</a></span></li></ul></li><li><span><a href=\"#Map,-Filter,-Reduce\" data-toc-modified-id=\"Map,-Filter,-Reduce-2\"><span class=\"toc-item-num\">2&nbsp;&nbsp;</span>Map, Filter, Reduce</a></span><ul class=\"toc-item\"><li><span><a href=\"#Map\" data-toc-modified-id=\"Map-2.1\"><span class=\"toc-item-num\">2.1&nbsp;&nbsp;</span>Map</a></span><ul class=\"toc-item\"><li><span><a href=\"#First-we-do-it-with-functions\" data-toc-modified-id=\"First-we-do-it-with-functions-2.1.1\"><span class=\"toc-item-num\">2.1.1&nbsp;&nbsp;</span>First we do it with functions</a></span></li><li><span><a href=\"#Extra:-Do-it-with-lambda!\" data-toc-modified-id=\"Extra:-Do-it-with-lambda!-2.1.2\"><span class=\"toc-item-num\">2.1.2&nbsp;&nbsp;</span>Extra: Do it with lambda!</a></span></li></ul></li><li><span><a href=\"#Filter\" data-toc-modified-id=\"Filter-2.2\"><span class=\"toc-item-num\">2.2&nbsp;&nbsp;</span>Filter</a></span><ul class=\"toc-item\"><li><span><a href=\"#First-we-do-it-with-functions\" data-toc-modified-id=\"First-we-do-it-with-functions-2.2.1\"><span class=\"toc-item-num\">2.2.1&nbsp;&nbsp;</span>First we do it with functions</a></span></li><li><span><a href=\"#Extra:-Do-it-with-lambda!\" data-toc-modified-id=\"Extra:-Do-it-with-lambda!-2.2.2\"><span class=\"toc-item-num\">2.2.2&nbsp;&nbsp;</span>Extra: Do it with lambda!</a></span></li></ul></li><li><span><a href=\"#Reduce\" data-toc-modified-id=\"Reduce-2.3\"><span class=\"toc-item-num\">2.3&nbsp;&nbsp;</span>Reduce</a></span><ul class=\"toc-item\"><li><span><a href=\"#What-happened?\" data-toc-modified-id=\"What-happened?-2.3.1\"><span class=\"toc-item-num\">2.3.1&nbsp;&nbsp;</span>What happened?</a></span></li></ul></li><li><span><a href=\"#First-we-do-it-with-functions\" data-toc-modified-id=\"First-we-do-it-with-functions-2.4\"><span class=\"toc-item-num\">2.4&nbsp;&nbsp;</span>First we do it with functions</a></span></li><li><span><a href=\"#Bonus:-Do-it-with-lambda!\" data-toc-modified-id=\"Bonus:-Do-it-with-lambda!-2.5\"><span class=\"toc-item-num\">2.5&nbsp;&nbsp;</span>Bonus: Do it with lambda!</a></span></li></ul></li><li><span><a href=\"#Summary\" data-toc-modified-id=\"Summary-3\"><span class=\"toc-item-num\">3&nbsp;&nbsp;</span>Summary</a></span></li><li><span><a href=\"#Further-materials\" data-toc-modified-id=\"Further-materials-4\"><span class=\"toc-item-num\">4&nbsp;&nbsp;</span>Further materials</a></span></li></ul></div>"
   ]
  },
  {
   "cell_type": "markdown",
   "id": "07c5496e",
   "metadata": {
    "lang": "en"
   },
   "source": [
    "### Each student is randomly assigned a topic"
   ]
  },
  {
   "cell_type": "code",
   "execution_count": 1,
   "id": "823322a8",
   "metadata": {},
   "outputs": [
    {
     "data": {
      "text/plain": [
       "'A STRING'"
      ]
     },
     "execution_count": 1,
     "metadata": {},
     "output_type": "execute_result"
    }
   ],
   "source": [
    "\"a string\".upper()"
   ]
  },
  {
   "cell_type": "code",
   "execution_count": 12,
   "id": "blessed-scale",
   "metadata": {},
   "outputs": [],
   "source": [
    "students = [\n",
    "    \"@Andrés Castro\", \n",
    "    \"@Dani\",\n",
    "    \"@David TC\", \n",
    "    \"@David Vicente\",\n",
    "    \"@Germán Ortolá DA FT JAN2023\", \n",
    "    \"@Gerard Rius\", \n",
    "    \"@Gonzalo\", \n",
    "    \"@Graham\",\n",
    "    \"@imanol\", \n",
    "    \"@Laura Sarabia\", \n",
    "    \"@Nicolas Blasi\", \n",
    "    \"@Santiago\", \n",
    "    \"@Sergi Coll\", \n",
    "    \"@Tim\", \n",
    "    \"@Tom\",\n",
    "    \"@Victor Ramos\",\n",
    "    \"@Archie Hulse\", \n",
    "    \"placeholder\"\n",
    "\n",
    "]"
   ]
  },
  {
   "cell_type": "code",
   "execution_count": 13,
   "id": "33d37aa7",
   "metadata": {},
   "outputs": [],
   "source": [
    "import random"
   ]
  },
  {
   "cell_type": "code",
   "execution_count": 14,
   "id": "726b3b8b",
   "metadata": {
    "scrolled": true
   },
   "outputs": [
    {
     "data": {
      "text/plain": [
       "['@Andrés Castro',\n",
       " '@Dani',\n",
       " '@David TC',\n",
       " '@David Vicente',\n",
       " '@Germán Ortolá DA FT JAN2023',\n",
       " '@Gerard Rius',\n",
       " '@Gonzalo',\n",
       " '@Graham',\n",
       " '@imanol',\n",
       " '@Laura Sarabia',\n",
       " '@Nicolas Blasi',\n",
       " '@Santiago',\n",
       " '@Sergi Coll',\n",
       " '@Tim',\n",
       " '@Tom',\n",
       " '@Victor Ramos',\n",
       " '@Archie Hulse',\n",
       " 'placeholder']"
      ]
     },
     "execution_count": 14,
     "metadata": {},
     "output_type": "execute_result"
    }
   ],
   "source": [
    "students"
   ]
  },
  {
   "cell_type": "code",
   "execution_count": 15,
   "id": "c900d2bf",
   "metadata": {},
   "outputs": [],
   "source": [
    "# Group 1: [(\"Andres\", \"map\"), (\"dani\", \"filter\"), (\"David\", \"reduce\")]\n",
    "# Group 2: [(\"Andres\", \"map\"), (\"dani\", \"filter\"), (\"David\", \"reduce\")]"
   ]
  },
  {
   "cell_type": "code",
   "execution_count": 16,
   "id": "fe13a7be",
   "metadata": {},
   "outputs": [],
   "source": [
    "topics = [\"map\"] * 6 +  [\"filter\"] * 6 + [\"reduce\"] * 6"
   ]
  },
  {
   "cell_type": "code",
   "execution_count": 17,
   "id": "a2985f88",
   "metadata": {},
   "outputs": [
    {
     "data": {
      "text/plain": [
       "['map',\n",
       " 'map',\n",
       " 'map',\n",
       " 'map',\n",
       " 'map',\n",
       " 'map',\n",
       " 'filter',\n",
       " 'filter',\n",
       " 'filter',\n",
       " 'filter',\n",
       " 'filter',\n",
       " 'filter',\n",
       " 'reduce',\n",
       " 'reduce',\n",
       " 'reduce',\n",
       " 'reduce',\n",
       " 'reduce',\n",
       " 'reduce']"
      ]
     },
     "execution_count": 17,
     "metadata": {},
     "output_type": "execute_result"
    }
   ],
   "source": [
    "topics"
   ]
  },
  {
   "cell_type": "code",
   "execution_count": 18,
   "id": "885d112e",
   "metadata": {},
   "outputs": [],
   "source": [
    "# Group 1: [(\"Andres\", \"map\"), (\"dani\", \"filter\"), (\"David\", \"reduce\")]\n",
    "# Group 2: [(\"Andres\", \"map\"), (\"dani\", \"filter\"), (\"David\", \"reduce\")]"
   ]
  },
  {
   "cell_type": "code",
   "execution_count": 38,
   "id": "78f87209",
   "metadata": {},
   "outputs": [
    {
     "data": {
      "text/plain": [
       "['@Sergi Coll',\n",
       " 'placeholder',\n",
       " '@Gerard Rius',\n",
       " '@Andrés Castro',\n",
       " '@Tim',\n",
       " '@imanol',\n",
       " '@Victor Ramos',\n",
       " '@Germán Ortolá DA FT JAN2023',\n",
       " '@Tom',\n",
       " '@Laura Sarabia',\n",
       " '@David TC',\n",
       " '@David Vicente',\n",
       " '@Gonzalo',\n",
       " '@Graham',\n",
       " '@Archie Hulse',\n",
       " '@Dani',\n",
       " '@Nicolas Blasi',\n",
       " '@Santiago']"
      ]
     },
     "execution_count": 38,
     "metadata": {},
     "output_type": "execute_result"
    }
   ],
   "source": [
    "random.shuffle(students) #this returns None, modifies in place\n",
    "students"
   ]
  },
  {
   "cell_type": "code",
   "execution_count": 40,
   "id": "480c2ecf",
   "metadata": {},
   "outputs": [
    {
     "data": {
      "text/plain": [
       "[('@Sergi Coll', 'map'),\n",
       " ('placeholder', 'map'),\n",
       " ('@Gerard Rius', 'map'),\n",
       " ('@Andrés Castro', 'map'),\n",
       " ('@Tim', 'map'),\n",
       " ('@imanol', 'map'),\n",
       " ('@Victor Ramos', 'filter'),\n",
       " ('@Germán Ortolá DA FT JAN2023', 'filter'),\n",
       " ('@Tom', 'filter'),\n",
       " ('@Laura Sarabia', 'filter'),\n",
       " ('@David TC', 'filter'),\n",
       " ('@David Vicente', 'filter'),\n",
       " ('@Gonzalo', 'reduce'),\n",
       " ('@Graham', 'reduce'),\n",
       " ('@Archie Hulse', 'reduce'),\n",
       " ('@Dani', 'reduce'),\n",
       " ('@Nicolas Blasi', 'reduce'),\n",
       " ('@Santiago', 'reduce')]"
      ]
     },
     "execution_count": 40,
     "metadata": {},
     "output_type": "execute_result"
    }
   ],
   "source": [
    "# two lists: zip\n",
    "\n",
    "alltogether = list(zip(students, topics))\n",
    "alltogether"
   ]
  },
  {
   "cell_type": "markdown",
   "id": "67ba83fd",
   "metadata": {
    "lang": "en"
   },
   "source": [
    "## Let's start"
   ]
  },
  {
   "cell_type": "markdown",
   "id": "2044e738",
   "metadata": {
    "lang": "en"
   },
   "source": [
    "You have 10 minutes to explore and understand the role you have been assigned on your own. You may find these links useful:\n",
    "\n",
    "- [map, filter, reduce - I](https://medium.com/swlh/higher-order-functions-in-python-map-filter-and-reduce-34299fee1b21)\n",
    "- [map, filter, reduce - II](https://www.learnpython.org/en/Map,_Filter,_Reduce)\n",
    "- [map, filter, reduce - III](https://stackabuse.com/map-filter-and-reduce-in-python-with-examples)"
   ]
  },
  {
   "cell_type": "markdown",
   "id": "1494059b",
   "metadata": {},
   "source": [
    "### Create groups with other people who have studied the same function"
   ]
  },
  {
   "cell_type": "markdown",
   "id": "closing-referral",
   "metadata": {},
   "source": [
    "![otrogif](https://media.giphy.com/media/UatRnEUNX8iCQ/giphy.gif)"
   ]
  },
  {
   "cell_type": "markdown",
   "id": "ad055efd",
   "metadata": {
    "lang": "en"
   },
   "source": [
    "In this part of the game you are assigned to a group in which you are the expert in your role.\n",
    "Each group member has 5 minutes to explain their role to the other team members."
   ]
  },
  {
   "cell_type": "code",
   "execution_count": 41,
   "id": "0fe8555d",
   "metadata": {},
   "outputs": [
    {
     "data": {
      "text/plain": [
       "('@Sergi Coll', 'map')"
      ]
     },
     "execution_count": 41,
     "metadata": {},
     "output_type": "execute_result"
    }
   ],
   "source": [
    "alltogether[0]"
   ]
  },
  {
   "cell_type": "code",
   "execution_count": 44,
   "id": "df0f9ccd",
   "metadata": {},
   "outputs": [],
   "source": [
    "map_experts = list(filter(lambda x: x[1] == \"map\", alltogether))\n",
    "filter_experts = list(filter(lambda x: x[1] == \"filter\", alltogether))\n",
    "reduce_experts = list(filter(lambda x: x[1] == \"reduce\", alltogether))"
   ]
  },
  {
   "cell_type": "code",
   "execution_count": 45,
   "id": "798360c8",
   "metadata": {},
   "outputs": [
    {
     "data": {
      "text/plain": [
       "[('@Gonzalo', 'reduce'),\n",
       " ('@Graham', 'reduce'),\n",
       " ('@Archie Hulse', 'reduce'),\n",
       " ('@Dani', 'reduce'),\n",
       " ('@Nicolas Blasi', 'reduce'),\n",
       " ('@Santiago', 'reduce')]"
      ]
     },
     "execution_count": 45,
     "metadata": {},
     "output_type": "execute_result"
    }
   ],
   "source": [
    "reduce_experts"
   ]
  },
  {
   "cell_type": "code",
   "execution_count": 48,
   "id": "f9d0dd7a",
   "metadata": {},
   "outputs": [
    {
     "name": "stdout",
     "output_type": "stream",
     "text": [
      "Group 1: [('@Sergi Coll', 'map'), ('@Victor Ramos', 'filter'), ('@Gonzalo', 'reduce')]\n",
      "Group 2: [('placeholder', 'map'), ('@Germán Ortolá DA FT JAN2023', 'filter'), ('@Graham', 'reduce')]\n",
      "Group 3: [('@Gerard Rius', 'map'), ('@Tom', 'filter'), ('@Archie Hulse', 'reduce')]\n",
      "Group 4: [('@Andrés Castro', 'map'), ('@Laura Sarabia', 'filter'), ('@Dani', 'reduce')]\n",
      "Group 5: [('@Tim', 'map'), ('@David TC', 'filter'), ('@Nicolas Blasi', 'reduce')]\n",
      "Group 6: [('@imanol', 'map'), ('@David Vicente', 'filter'), ('@Santiago', 'reduce')]\n"
     ]
    }
   ],
   "source": [
    "counter = 1\n",
    "for everyone in zip(map_experts, filter_experts, reduce_experts):\n",
    "    print(f\"Group {counter}: {[[i][0] for i in everyone]}\")\n",
    "    counter += 1"
   ]
  },
  {
   "cell_type": "markdown",
   "id": "8fd5c1b9",
   "metadata": {
    "lang": "en"
   },
   "source": [
    "## Map, Filter, Reduce"
   ]
  },
  {
   "cell_type": "markdown",
   "id": "55e1da7a",
   "metadata": {
    "lang": "en"
   },
   "source": [
    "There are three functions that will come in very handy when working with iterators. These functions facilitate certain basic and common operations on iterable collections of data, such as removing elements that do not meet a certain condition, calculating a result from the contained data, or applying a transformation to each element. Let's see them with examples of use:"
   ]
  },
  {
   "cell_type": "markdown",
   "id": "distinct-translator",
   "metadata": {},
   "source": [
    "### Map"
   ]
  },
  {
   "cell_type": "markdown",
   "id": "3bbb0048",
   "metadata": {
    "lang": "en"
   },
   "source": [
    "The map() function takes a function and a list and applies that function to each element in that list, producing a new list.\n",
    "```python\n",
    "map(function_to_apply, list_of_inputs)\n",
    "```"
   ]
  },
  {
   "cell_type": "code",
   "execution_count": 52,
   "id": "9e108049",
   "metadata": {},
   "outputs": [
    {
     "data": {
      "text/plain": [
       "('@imanol', 'map')"
      ]
     },
     "execution_count": 52,
     "metadata": {},
     "output_type": "execute_result"
    }
   ],
   "source": [
    "random.choice(map_experts)"
   ]
  },
  {
   "cell_type": "markdown",
   "id": "6279886e",
   "metadata": {},
   "source": [
    "- function\n",
    "    - does things: combine iterables, it can combine\n",
    "    - it can be one\n",
    "    - tell them what to do\n",
    "    \n",
    "    - like a for loop: takes iterables & functions\n",
    "    - returns a map object\n",
    "    - which you can cast into a list"
   ]
  },
  {
   "cell_type": "markdown",
   "id": "3a2fc244",
   "metadata": {},
   "source": [
    "`goal: square of numbers`"
   ]
  },
  {
   "cell_type": "markdown",
   "id": "848ef234",
   "metadata": {
    "lang": "en"
   },
   "source": [
    "#### First we do it with functions"
   ]
  },
  {
   "cell_type": "code",
   "execution_count": 53,
   "id": "c2d055e5",
   "metadata": {},
   "outputs": [],
   "source": [
    "def square (n):\n",
    "    return n ** 2"
   ]
  },
  {
   "cell_type": "code",
   "execution_count": 54,
   "id": "d60fc220",
   "metadata": {},
   "outputs": [
    {
     "data": {
      "text/plain": [
       "4"
      ]
     },
     "execution_count": 54,
     "metadata": {},
     "output_type": "execute_result"
    }
   ],
   "source": [
    "square (2)"
   ]
  },
  {
   "cell_type": "code",
   "execution_count": 55,
   "id": "bb125700",
   "metadata": {},
   "outputs": [],
   "source": [
    "list_ = [2, 4, 6]"
   ]
  },
  {
   "cell_type": "code",
   "execution_count": 59,
   "id": "3d0a9b58",
   "metadata": {},
   "outputs": [
    {
     "data": {
      "text/plain": [
       "[4, 16, 36]"
      ]
     },
     "execution_count": 59,
     "metadata": {},
     "output_type": "execute_result"
    }
   ],
   "source": [
    "# 1. Manually\n",
    "\n",
    "new_list = []\n",
    "for i in list_:\n",
    "    new_list.append(i ** 2)\n",
    "new_list"
   ]
  },
  {
   "cell_type": "code",
   "execution_count": 58,
   "id": "ad070e6f",
   "metadata": {},
   "outputs": [
    {
     "data": {
      "text/plain": [
       "[4, 16, 36]"
      ]
     },
     "execution_count": 58,
     "metadata": {},
     "output_type": "execute_result"
    }
   ],
   "source": [
    "# 2. In a loop with a function\n",
    "\n",
    "new_list = []\n",
    "for i in list_:\n",
    "    new_list.append(square(i))\n",
    "new_list"
   ]
  },
  {
   "cell_type": "code",
   "execution_count": 60,
   "id": "9dbee427",
   "metadata": {},
   "outputs": [
    {
     "data": {
      "text/plain": [
       "[2, 4, 6]"
      ]
     },
     "execution_count": 60,
     "metadata": {},
     "output_type": "execute_result"
    }
   ],
   "source": [
    "# 3. map: function & iterable \n",
    "\n",
    "list_"
   ]
  },
  {
   "cell_type": "code",
   "execution_count": 61,
   "id": "f605df31",
   "metadata": {},
   "outputs": [
    {
     "data": {
      "text/plain": [
       "[4, 16, 36]"
      ]
     },
     "execution_count": 61,
     "metadata": {},
     "output_type": "execute_result"
    }
   ],
   "source": [
    "new_list_map = list(map(square, list_))\n",
    "new_list_map"
   ]
  },
  {
   "cell_type": "code",
   "execution_count": 63,
   "id": "2851bc1a",
   "metadata": {},
   "outputs": [
    {
     "data": {
      "text/plain": [
       "<map at 0x7f994c556340>"
      ]
     },
     "execution_count": 63,
     "metadata": {},
     "output_type": "execute_result"
    }
   ],
   "source": [
    "# 1. function already defined\n",
    "# 2. to every single element\n",
    "\n",
    "map(square, list_)"
   ]
  },
  {
   "cell_type": "code",
   "execution_count": 64,
   "id": "ebfb94cd",
   "metadata": {},
   "outputs": [
    {
     "data": {
      "text/plain": [
       "[4, 16, 36]"
      ]
     },
     "execution_count": 64,
     "metadata": {},
     "output_type": "execute_result"
    }
   ],
   "source": [
    "list(map(square, list_))"
   ]
  },
  {
   "cell_type": "code",
   "execution_count": 67,
   "id": "6f9580c9",
   "metadata": {},
   "outputs": [
    {
     "data": {
      "text/plain": [
       "[4, 16, 36]"
      ]
     },
     "execution_count": 67,
     "metadata": {},
     "output_type": "execute_result"
    }
   ],
   "source": [
    "# 4. list comprehension\n",
    "\n",
    "new_list = [i ** 2 for i in list_]\n",
    "new_list\n",
    "\n",
    "new_list_comp = [square(i) for i in list_]\n",
    "new_list_comp"
   ]
  },
  {
   "cell_type": "markdown",
   "id": "209cfe9b",
   "metadata": {
    "lang": "en"
   },
   "source": [
    "The map function returns an iterator, so we have to use `list(map_iterator)`"
   ]
  },
  {
   "cell_type": "code",
   "execution_count": null,
   "id": "c438a51a",
   "metadata": {
    "scrolled": true
   },
   "outputs": [],
   "source": []
  },
  {
   "cell_type": "markdown",
   "id": "7ac78fc9",
   "metadata": {
    "lang": "en"
   },
   "source": [
    "#### Extra: Do it with lambda!"
   ]
  },
  {
   "cell_type": "code",
   "execution_count": null,
   "id": "5a55ad42",
   "metadata": {},
   "outputs": [],
   "source": [
    "# lambda x: x ** 2\n",
    "# 1. x = 2\n",
    "# 2. x = 4\n",
    "# 3. x = 6 \n",
    "# ..."
   ]
  },
  {
   "cell_type": "code",
   "execution_count": null,
   "id": "8ac37c65",
   "metadata": {},
   "outputs": [],
   "source": [
    "lambda arguemnt: argument + 1\n",
    "\n",
    "def ___ (arguemnt):\n",
    "    return argument + 1"
   ]
  },
  {
   "cell_type": "code",
   "execution_count": 69,
   "id": "0e1ffa8f",
   "metadata": {},
   "outputs": [
    {
     "data": {
      "text/plain": [
       "[4, 16, 36]"
      ]
     },
     "execution_count": 69,
     "metadata": {},
     "output_type": "execute_result"
    }
   ],
   "source": [
    "new_list_lambda = list(map(lambda x: x ** 2 + 100 + 344358, list_))\n",
    "new_list_lambda"
   ]
  },
  {
   "cell_type": "code",
   "execution_count": null,
   "id": "6eab3e05",
   "metadata": {},
   "outputs": [],
   "source": [
    "\" sdsdUDD \".apply(lambda x: x.strip().lower()[:2]) #once"
   ]
  },
  {
   "cell_type": "code",
   "execution_count": null,
   "id": "358d40a7",
   "metadata": {},
   "outputs": [],
   "source": [
    "def cleaning_string (x):\n",
    "    return x.strip().lower()[:2]"
   ]
  },
  {
   "cell_type": "code",
   "execution_count": null,
   "id": "5cef3db0",
   "metadata": {},
   "outputs": [],
   "source": [
    "cleaning_string() #pipeline: donwload every day the same csv updated\n",
    "\n",
    "\"\"\"It takes\n",
    "What it returns\n",
    "what it does\n",
    "\"\"\""
   ]
  },
  {
   "cell_type": "code",
   "execution_count": 70,
   "id": "d9df0dc8",
   "metadata": {},
   "outputs": [
    {
     "data": {
      "text/plain": [
       "16"
      ]
     },
     "execution_count": 70,
     "metadata": {},
     "output_type": "execute_result"
    }
   ],
   "source": [
    "square(4)"
   ]
  },
  {
   "cell_type": "code",
   "execution_count": 71,
   "id": "b0cd61c1",
   "metadata": {},
   "outputs": [
    {
     "data": {
      "text/plain": [
       "10000"
      ]
     },
     "execution_count": 71,
     "metadata": {},
     "output_type": "execute_result"
    }
   ],
   "source": [
    "square(100)"
   ]
  },
  {
   "cell_type": "code",
   "execution_count": null,
   "id": "645bddaa",
   "metadata": {},
   "outputs": [],
   "source": [
    "# an aux way to write function without having to define them\n",
    "# a lambda has no name"
   ]
  },
  {
   "cell_type": "code",
   "execution_count": 104,
   "id": "b5d0b9c2",
   "metadata": {},
   "outputs": [],
   "source": [
    "import time\n",
    "import random"
   ]
  },
  {
   "cell_type": "code",
   "execution_count": 101,
   "id": "2258c6b9",
   "metadata": {},
   "outputs": [],
   "source": [
    "list_ = [2, 4, 6, 10 , 10000, 100, 90, 80, 1000000, 9000000, 100000000000000000, 10000000, 1, 2, 34, 45, 5, 4, 5, 65]"
   ]
  },
  {
   "cell_type": "code",
   "execution_count": 109,
   "id": "7481c4af",
   "metadata": {},
   "outputs": [],
   "source": [
    "# a list with random numbers\n",
    "\n",
    "# empty list\n",
    "# append random value\n",
    "# limit\n",
    "# range"
   ]
  },
  {
   "cell_type": "code",
   "execution_count": 3,
   "id": "7576b9b0",
   "metadata": {},
   "outputs": [],
   "source": [
    "import time\n",
    "import random"
   ]
  },
  {
   "cell_type": "code",
   "execution_count": 4,
   "id": "1d5262eb",
   "metadata": {},
   "outputs": [
    {
     "data": {
      "text/plain": [
       "9"
      ]
     },
     "execution_count": 4,
     "metadata": {},
     "output_type": "execute_result"
    }
   ],
   "source": [
    "new_random_list = [i for i in range(10000000)]\n",
    "new_random_list[9]"
   ]
  },
  {
   "cell_type": "code",
   "execution_count": 6,
   "id": "f015a754",
   "metadata": {},
   "outputs": [],
   "source": [
    "def square (n):\n",
    "    return n ** 2"
   ]
  },
  {
   "cell_type": "code",
   "execution_count": 7,
   "id": "2f256253",
   "metadata": {},
   "outputs": [
    {
     "name": "stdout",
     "output_type": "stream",
     "text": [
      "CPU times: user 2 µs, sys: 1 µs, total: 3 µs\n",
      "Wall time: 5.25 µs\n"
     ]
    },
    {
     "data": {
      "text/plain": [
       "1"
      ]
     },
     "execution_count": 7,
     "metadata": {},
     "output_type": "execute_result"
    }
   ],
   "source": [
    "# 1. Create a list and append\n",
    "\n",
    "%time\n",
    "new_list = []\n",
    "for i in new_random_list:\n",
    "    new_list.append(square(i))\n",
    "new_list[1]"
   ]
  },
  {
   "cell_type": "code",
   "execution_count": 9,
   "id": "4bd73893",
   "metadata": {},
   "outputs": [
    {
     "name": "stdout",
     "output_type": "stream",
     "text": [
      "CPU times: user 2 µs, sys: 0 ns, total: 2 µs\n",
      "Wall time: 5.01 µs\n"
     ]
    },
    {
     "data": {
      "text/plain": [
       "1"
      ]
     },
     "execution_count": 9,
     "metadata": {},
     "output_type": "execute_result"
    }
   ],
   "source": [
    "# 2. Run function through map\n",
    "\n",
    "%time\n",
    "new_list = list(map(square, new_random_list))\n",
    "new_list[1]"
   ]
  },
  {
   "cell_type": "code",
   "execution_count": null,
   "id": "994622f4",
   "metadata": {},
   "outputs": [],
   "source": [
    "# YOU ALWAYS DO THINGS TO ONE ITEM:\n",
    "    # scale things up"
   ]
  },
  {
   "cell_type": "code",
   "execution_count": null,
   "id": "c8f3641c",
   "metadata": {},
   "outputs": [],
   "source": [
    "[({key: [(\" sdsdUDD \")]}), \n",
    "     ({key: [()]}), \n",
    "         ({key: [()]})]"
   ]
  },
  {
   "cell_type": "code",
   "execution_count": null,
   "id": "7d18ee73",
   "metadata": {},
   "outputs": [],
   "source": [
    "map(function_specific, to_many_things)"
   ]
  },
  {
   "cell_type": "code",
   "execution_count": null,
   "id": "f44ccfe6",
   "metadata": {},
   "outputs": [],
   "source": [
    "# map\n",
    "# filter\n",
    "# reduce"
   ]
  },
  {
   "cell_type": "code",
   "execution_count": 11,
   "id": "a265b101",
   "metadata": {},
   "outputs": [],
   "source": [
    "# Q Sergi: more arguments\n",
    "\n",
    "def addition (a, b):\n",
    "    return a + b"
   ]
  },
  {
   "cell_type": "code",
   "execution_count": 14,
   "id": "a6fef5ff",
   "metadata": {},
   "outputs": [
    {
     "data": {
      "text/plain": [
       "[5, 7, 9]"
      ]
     },
     "execution_count": 14,
     "metadata": {},
     "output_type": "execute_result"
    }
   ],
   "source": [
    "list_1 = [1, 2, 3]\n",
    "list_2 = [4, 5 ,6]\n",
    "\n",
    "new_list_two_args = list(map(addition, list_1, list_2))\n",
    "new_list_two_args"
   ]
  },
  {
   "cell_type": "code",
   "execution_count": 15,
   "id": "b91ed166",
   "metadata": {},
   "outputs": [
    {
     "data": {
      "text/plain": [
       "[5, 7, 9]"
      ]
     },
     "execution_count": 15,
     "metadata": {},
     "output_type": "execute_result"
    }
   ],
   "source": [
    "# Q Gerard: what if the length is mismatched: \n",
    "# A: docs say:  Stops when the shortest iterable is exhausted.\n",
    "\n",
    "list_1 = [1, 2, 3]\n",
    "list_2 = [4, 5 ,6, 8]\n",
    "\n",
    "new_list_two_args = list(map(addition, list_1, list_2))\n",
    "new_list_two_args"
   ]
  },
  {
   "cell_type": "code",
   "execution_count": 16,
   "id": "c7f86083",
   "metadata": {},
   "outputs": [],
   "source": [
    "# Added value of map -> I can include a function!"
   ]
  },
  {
   "cell_type": "markdown",
   "id": "connected-found",
   "metadata": {},
   "source": [
    "### Filter"
   ]
  },
  {
   "cell_type": "markdown",
   "id": "b0fd2478",
   "metadata": {
    "lang": "en"
   },
   "source": [
    "The filter() function filters a list of items for which a function returns True.\n",
    "```python\n",
    "filter(a_function, a_list)\n",
    "```"
   ]
  },
  {
   "cell_type": "markdown",
   "id": "3ac537c7",
   "metadata": {
    "lang": "en"
   },
   "source": [
    "Imagine you want to filter a list of numbers to get only even values."
   ]
  },
  {
   "cell_type": "code",
   "execution_count": 19,
   "id": "3d3129d4",
   "metadata": {},
   "outputs": [],
   "source": [
    "#filter_experts"
   ]
  },
  {
   "cell_type": "markdown",
   "id": "c0053dff",
   "metadata": {},
   "source": [
    "#### Filter\n",
    "    - Function \n",
    "    - it will run in each iteration to see if the condition is true/false\n",
    "    - it creartes a list with the functions that are true\n",
    "    \n",
    "    \n",
    "    - list of # n\n",
    "    - odd numbers\n",
    "    \n",
    "    - output -> list with odd numbers\n",
    "    \n",
    "    - filter()\n",
    "        - does things: filters based on a boolean condition\n",
    "        - returns: same object (iterable) but filtered based on boolean condition"
   ]
  },
  {
   "cell_type": "markdown",
   "id": "1df16233",
   "metadata": {
    "lang": "en"
   },
   "source": [
    "#### First we do it with functions"
   ]
  },
  {
   "cell_type": "code",
   "execution_count": 40,
   "id": "c8cebc95",
   "metadata": {},
   "outputs": [],
   "source": [
    "def odd_even (number):\n",
    "    if number % 2 == 0:\n",
    "        return number"
   ]
  },
  {
   "cell_type": "code",
   "execution_count": 41,
   "id": "cfd15e16",
   "metadata": {},
   "outputs": [],
   "source": [
    "list_ = [1, 2, 3, 4 , 5, 6, 7, 8, 9, 10, 11]"
   ]
  },
  {
   "cell_type": "code",
   "execution_count": 42,
   "id": "32bd3597",
   "metadata": {},
   "outputs": [
    {
     "data": {
      "text/plain": [
       "[None, 2, None, 4, None, 6, None, 8, None, 10, None]"
      ]
     },
     "execution_count": 42,
     "metadata": {},
     "output_type": "execute_result"
    }
   ],
   "source": [
    "new_list = []\n",
    "\n",
    "for i in list_:\n",
    "    new_list.append(odd_even(i))\n",
    "new_list"
   ]
  },
  {
   "cell_type": "code",
   "execution_count": 45,
   "id": "fc0351b5",
   "metadata": {},
   "outputs": [
    {
     "data": {
      "text/plain": [
       "[2, 4, 6, 8, 10]"
      ]
     },
     "execution_count": 45,
     "metadata": {},
     "output_type": "execute_result"
    }
   ],
   "source": [
    "new_list_filtered_through_comp = [i for i in new_list if i]\n",
    "new_list_filtered_through_comp"
   ]
  },
  {
   "cell_type": "code",
   "execution_count": 35,
   "id": "2796882c",
   "metadata": {},
   "outputs": [],
   "source": [
    "def odd_even (number):\n",
    "    if number % 2 == 0:\n",
    "        return True"
   ]
  },
  {
   "cell_type": "code",
   "execution_count": 36,
   "id": "badfa66a",
   "metadata": {},
   "outputs": [
    {
     "data": {
      "text/plain": [
       "[2, 4, 6, 8, 10]"
      ]
     },
     "execution_count": 36,
     "metadata": {},
     "output_type": "execute_result"
    }
   ],
   "source": [
    "new_list = list(filter(odd_even, list_))\n",
    "new_list"
   ]
  },
  {
   "cell_type": "code",
   "execution_count": 47,
   "id": "762f4617",
   "metadata": {
    "scrolled": true
   },
   "outputs": [
    {
     "data": {
      "text/plain": [
       "[1, 2, 3, 4, 5, 6, 7, 8, 9, 10, 11]"
      ]
     },
     "execution_count": 47,
     "metadata": {},
     "output_type": "execute_result"
    }
   ],
   "source": [
    "# Q 1: filter applies a func to an iterable. does it change the original list\n",
    "# A: original object is not modified\n",
    "filter(odd_even, list_)\n",
    "list_\n",
    "    \n",
    "# Q 2: methods on lists only?\n",
    "# A: On anything you can loop"
   ]
  },
  {
   "cell_type": "code",
   "execution_count": null,
   "id": "f2a8f5e7",
   "metadata": {},
   "outputs": [],
   "source": [
    "# Q: one argument\n",
    "# A: for pandas: pandas or numpy (same-ish)"
   ]
  },
  {
   "cell_type": "code",
   "execution_count": null,
   "id": "5c3d7ae2",
   "metadata": {},
   "outputs": [],
   "source": [
    "# Q: filter(funcction, list_)\n",
    "\n",
    "list(filter(function, iterable))"
   ]
  },
  {
   "cell_type": "markdown",
   "id": "24d5f21b",
   "metadata": {
    "lang": "en"
   },
   "source": [
    "Imagine that you want to filter a list and keep only the groups that start with the letter R"
   ]
  },
  {
   "cell_type": "code",
   "execution_count": 66,
   "id": "7419cd95",
   "metadata": {},
   "outputs": [],
   "source": [
    "list_of_words = [\"Rufus\", \"Rosalía\", \"Bad Bunny\", \"Bizarrap\"]"
   ]
  },
  {
   "cell_type": "code",
   "execution_count": 67,
   "id": "cbdd16d1",
   "metadata": {},
   "outputs": [
    {
     "data": {
      "text/plain": [
       "['Rufus', 'Rosalía']"
      ]
     },
     "execution_count": 67,
     "metadata": {},
     "output_type": "execute_result"
    }
   ],
   "source": [
    "new_list_r = []\n",
    "for i in list_of_words:\n",
    "    if i.startswith(\"R\"):\n",
    "        new_list_r.append(i)\n",
    "new_list_r"
   ]
  },
  {
   "cell_type": "code",
   "execution_count": 68,
   "id": "fd9bacea",
   "metadata": {},
   "outputs": [],
   "source": [
    "def checks_r (x):\n",
    "    if x.lower().startswith(\"r\"):\n",
    "        return True"
   ]
  },
  {
   "cell_type": "code",
   "execution_count": 69,
   "id": "f6db9152",
   "metadata": {},
   "outputs": [
    {
     "data": {
      "text/plain": [
       "['Rufus', 'Rosalía']"
      ]
     },
     "execution_count": 69,
     "metadata": {},
     "output_type": "execute_result"
    }
   ],
   "source": [
    "new_list_r = list(filter(checks_r, list_of_words))\n",
    "new_list_r"
   ]
  },
  {
   "cell_type": "markdown",
   "id": "498aae32",
   "metadata": {
    "lang": "en"
   },
   "source": [
    "#### Extra: Do it with lambda!"
   ]
  },
  {
   "cell_type": "code",
   "execution_count": 72,
   "id": "0fc2a519",
   "metadata": {},
   "outputs": [
    {
     "data": {
      "text/plain": [
       "['Rufus', 'Rosalía']"
      ]
     },
     "execution_count": 72,
     "metadata": {},
     "output_type": "execute_result"
    }
   ],
   "source": [
    "new_list_r_lamba = list(filter(lambda x: x.startswith(\"R\"), list_of_words))\n",
    "new_list_r_lamba"
   ]
  },
  {
   "cell_type": "markdown",
   "id": "9b923a35",
   "metadata": {
    "lang": "en"
   },
   "source": [
    "### Reduce"
   ]
  },
  {
   "cell_type": "markdown",
   "id": "5e2eb96a",
   "metadata": {
    "lang": "en"
   },
   "source": [
    "This function is not a built-in function, which means you must first import the functools library for use. The reduce() function cumulatively applies the f() function to the elements of the iterable. The accumulator can be initialized with an optional third argument. The result is the final value of the accumulator.\n",
    "\n",
    "```python\n",
    "reduce(function, iterable[, initial])\n",
    "```"
   ]
  },
  {
   "cell_type": "code",
   "execution_count": null,
   "id": "c731b8db",
   "metadata": {},
   "outputs": [],
   "source": [
    "#random.choice(reduce_experts)"
   ]
  },
  {
   "cell_type": "code",
   "execution_count": 74,
   "id": "408b7fe6",
   "metadata": {},
   "outputs": [],
   "source": [
    "from functools import reduce "
   ]
  },
  {
   "cell_type": "markdown",
   "id": "54940f3b",
   "metadata": {},
   "source": [
    "- one final VALUE\n",
    "- two arguments:\n",
    "    - 1st: function\n",
    "    - 2nd: looped object\n",
    "    - needs to be imported\n",
    "    - flow:\n",
    "        - first item: apply function -> one value\n",
    "        - one value: apply function -> another value\n",
    "        - another value: apply function -> last result\n",
    "        - return last result\n",
    "    - optional argument: initial: first value you want to begin with\n",
    "    "
   ]
  },
  {
   "cell_type": "code",
   "execution_count": 93,
   "id": "9117b5a3",
   "metadata": {},
   "outputs": [],
   "source": [
    "list_ = [1, 1, 1, 1, 1, 1, 1]\n",
    "#list_ = [2, 1, 1, 1, 1, 1]\n",
    "#list_ = [3, 1, 1, 1, 1]\n",
    "#list_ = [4, 1, 1, 1]\n",
    "#list_ = [5, 1, 1]\n",
    "#list_ = [6, 1]\n",
    "#list_ = 7\n",
    "\n",
    "# The result of an operation will be the input for the next one\n",
    "\n",
    "def addition (a, b):\n",
    "    print(\"First argument: \", a)\n",
    "    print(\"Second argument: \", b)\n",
    "    print(\"-----------\")\n",
    "\n",
    "    #print(f\"Iteration: {a + b}\")\n",
    "    return a + b"
   ]
  },
  {
   "cell_type": "code",
   "execution_count": 92,
   "id": "9d41065b",
   "metadata": {},
   "outputs": [
    {
     "name": "stdout",
     "output_type": "stream",
     "text": [
      "First argument:  1\n",
      "Second argument:  1\n",
      "-----------\n",
      "First argument:  2\n",
      "Second argument:  1\n",
      "-----------\n",
      "First argument:  3\n",
      "Second argument:  1\n",
      "-----------\n",
      "First argument:  4\n",
      "Second argument:  1\n",
      "-----------\n",
      "First argument:  5\n",
      "Second argument:  1\n",
      "-----------\n",
      "First argument:  6\n",
      "Second argument:  1\n",
      "-----------\n"
     ]
    },
    {
     "data": {
      "text/plain": [
       "7"
      ]
     },
     "execution_count": 92,
     "metadata": {},
     "output_type": "execute_result"
    }
   ],
   "source": [
    "var = reduce(addition, list_)\n",
    "var"
   ]
  },
  {
   "cell_type": "code",
   "execution_count": 78,
   "id": "d71ba01b",
   "metadata": {},
   "outputs": [
    {
     "data": {
      "text/plain": [
       "20"
      ]
     },
     "execution_count": 78,
     "metadata": {},
     "output_type": "execute_result"
    }
   ],
   "source": [
    "var = reduce(addition, list_, 10)\n",
    "var"
   ]
  },
  {
   "cell_type": "code",
   "execution_count": null,
   "id": "de7cc0fa",
   "metadata": {},
   "outputs": [],
   "source": [
    "# Initial: not specifying where it starts\n",
    "# How: with what actual number/value (instead of the item)"
   ]
  },
  {
   "cell_type": "code",
   "execution_count": 97,
   "id": "d0b054a8",
   "metadata": {},
   "outputs": [
    {
     "ename": "TypeError",
     "evalue": "addition() missing 1 required positional argument: 'c'",
     "output_type": "error",
     "traceback": [
      "\u001b[0;31m---------------------------------------------------------------------------\u001b[0m",
      "\u001b[0;31mTypeError\u001b[0m                                 Traceback (most recent call last)",
      "Input \u001b[0;32mIn [97]\u001b[0m, in \u001b[0;36m<cell line: 21>\u001b[0;34m()\u001b[0m\n\u001b[1;32m     18\u001b[0m     \u001b[38;5;66;03m#print(f\"Iteration: {a + b}\")\u001b[39;00m\n\u001b[1;32m     19\u001b[0m     \u001b[38;5;28;01mreturn\u001b[39;00m a \u001b[38;5;241m+\u001b[39m b \u001b[38;5;241m+\u001b[39m c\n\u001b[0;32m---> 21\u001b[0m new_list_three_arguments \u001b[38;5;241m=\u001b[39m \u001b[43mreduce\u001b[49m\u001b[43m(\u001b[49m\u001b[43maddition\u001b[49m\u001b[43m,\u001b[49m\u001b[43m \u001b[49m\u001b[43mlist_\u001b[49m\u001b[43m)\u001b[49m\n\u001b[1;32m     22\u001b[0m new_list_three_arguments\n",
      "\u001b[0;31mTypeError\u001b[0m: addition() missing 1 required positional argument: 'c'"
     ]
    }
   ],
   "source": [
    "list_ = [1, 1, 1, 1, 1, 1, 1]\n",
    "#list_ = [2, 1, 1, 1, 1, 1]\n",
    "#list_ = [3, 1, 1, 1, 1]\n",
    "#list_ = [4, 1, 1, 1]\n",
    "#list_ = [5, 1, 1]\n",
    "#list_ = [6, 1]\n",
    "#list_ = 7\n",
    "\n",
    "# The result of an operation will be the input for the next one\n",
    "\n",
    "\n",
    "def addition (a, b, c):\n",
    "    print(\"First argument: \", a)\n",
    "    print(\"Second argument: \", b)\n",
    "    print(\"Third argument: \", b)\n",
    "    \n",
    "    print(\"-----------\")\n",
    "\n",
    "    #print(f\"Iteration: {a + b}\")\n",
    "    return a + b + c\n",
    "\n",
    "new_list_three_arguments = reduce(addition, list_)\n",
    "new_list_three_arguments\n",
    "\n",
    "# ⚠️: Apply a function of two arguments cumulatively to the items of a sequence -> only two\n",
    "# *args"
   ]
  },
  {
   "cell_type": "markdown",
   "id": "be41def2",
   "metadata": {
    "lang": "en"
   },
   "source": [
    "⚠️ Reduce is a bit more complicated to understand than map() and filter() so let's walk through the following example ⚠️"
   ]
  },
  {
   "cell_type": "code",
   "execution_count": null,
   "id": "52fcf783",
   "metadata": {},
   "outputs": [],
   "source": []
  },
  {
   "cell_type": "markdown",
   "id": "9bcc559e",
   "metadata": {
    "lang": "en"
   },
   "source": [
    "#### What happened?\n",
    "- We start with a list [2, 4, 7, 3] and pass the function add (x, y) to reduce ( ) along with this list, without an initial value\n",
    "\n",
    "- reduce() calls add(2, 4), and add() returns 6\n",
    "\n",
    "- reduce() calls sum(6, 7) (result of the previous call to sum() and the next element in the list as parameters), and sum() returns 13\n",
    "\n",
    "- reduce() calls sum(13, 3), and sum() returns 16\n",
    "\n",
    "Since there are no more elements left in the sequence, reduce() returns 16"
   ]
  },
  {
   "cell_type": "markdown",
   "id": "04ecdfe8",
   "metadata": {
    "lang": "en"
   },
   "source": [
    "Factorial:\n",
    "Amount that results from the multiplication of a certain natural number by all the natural numbers that precede it, excluding zero; is represented by n!"
   ]
  },
  {
   "cell_type": "markdown",
   "id": "0334080d",
   "metadata": {
    "lang": "en"
   },
   "source": [
    "### First we do it with functions"
   ]
  },
  {
   "cell_type": "code",
   "execution_count": null,
   "id": "electrical-knitting",
   "metadata": {},
   "outputs": [],
   "source": []
  },
  {
   "cell_type": "markdown",
   "id": "d678c6ca",
   "metadata": {
    "lang": "en"
   },
   "source": [
    "### Bonus: Do it with lambda!"
   ]
  },
  {
   "cell_type": "code",
   "execution_count": null,
   "id": "72c750b8",
   "metadata": {},
   "outputs": [],
   "source": []
  },
  {
   "cell_type": "markdown",
   "id": "69ae8c39",
   "metadata": {
    "lang": "en"
   },
   "source": [
    "## Summary"
   ]
  },
  {
   "cell_type": "code",
   "execution_count": null,
   "id": "e62e372d",
   "metadata": {},
   "outputs": [],
   "source": [
    "loops / comprehension lists\n",
    "\n",
    "map (fn, iterable)\n",
    "filter(fn ,iterable)\n",
    "reduce(fn, iterable)\n",
    "\n",
    "\n",
    "target -> minmum thing to change\n",
    "    - loop or map\n"
   ]
  },
  {
   "cell_type": "markdown",
   "id": "jewish-configuration",
   "metadata": {},
   "source": [
    "## Further materials\n",
    "http://web.mit.edu/6.005/www/sp16/classes/25-map-filter-reduce/    \n"
   ]
  }
 ],
 "metadata": {
  "kernelspec": {
   "display_name": "ironhack",
   "language": "python",
   "name": "ironhack"
  },
  "language_info": {
   "codemirror_mode": {
    "name": "ipython",
    "version": 3
   },
   "file_extension": ".py",
   "mimetype": "text/x-python",
   "name": "python",
   "nbconvert_exporter": "python",
   "pygments_lexer": "ipython3",
   "version": "3.8.13"
  },
  "nbTranslate": {
   "displayLangs": [
    "en",
    "es"
   ],
   "hotkey": "alt-a",
   "langInMainMenu": true,
   "sourceLang": "es",
   "targetLang": "en",
   "useGoogleTranslate": true
  },
  "toc": {
   "base_numbering": 1,
   "nav_menu": {},
   "number_sections": true,
   "sideBar": true,
   "skip_h1_title": true,
   "title_cell": "Table of Contents",
   "title_sidebar": "Contents",
   "toc_cell": true,
   "toc_position": {
    "height": "calc(100% - 180px)",
    "left": "10px",
    "top": "150px",
    "width": "266px"
   },
   "toc_section_display": true,
   "toc_window_display": false
  }
 },
 "nbformat": 4,
 "nbformat_minor": 5
}
