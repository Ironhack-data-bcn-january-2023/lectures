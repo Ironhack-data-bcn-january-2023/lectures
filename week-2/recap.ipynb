{
 "cells": [
  {
   "cell_type": "markdown",
   "id": "448c73c0",
   "metadata": {},
   "source": [
    "# week 1 - recap"
   ]
  },
  {
   "cell_type": "markdown",
   "id": "18459431",
   "metadata": {},
   "source": [
    "- **bash**\n",
    "    - navigating the system\n",
    "    - git\n",
    "    - bash within python: automate tasks\n",
    "        - pipelines: \n",
    "            - download something from the internet\n",
    "            - modify that content you downloaded\n",
    "            - output: something new\n",
    "\n",
    "\n",
    "- **git & github**\n",
    "    - VSC: version control system \n",
    "    - \"commit, push, pull\" \n",
    "    - git is local and github is online: remote\n",
    "    - repos: directories / folders where we group our project\n",
    "        - a repo is a repo if it is relate to git -> `.git`\n",
    "    - `forking`:\n",
    "        \"copy of the original repo\": a copy with a different owner -> modify our code\n",
    "    - `pull requests`: asking someone else to pull our changes into their project/repo\n",
    "    - `branches`\n",
    "        - alternate timelines: develop something new, try to fix things, we don't alter\n",
    "        the original version until we're ready\n",
    "    - code can be public but not necessarily the access -> so we fork & pull request\n",
    "    - On git -> you can find open source libraries for anyone to contribute\n",
    "    - github -> portfolio\n",
    "        - readme.md: context, instructions, content, details\n",
    "        - code: good practices\n",
    "            - if it is commmented: # hashtags\n",
    "            - if it is documented: \"\"\"docstrings\"\"\"\n",
    "            -  meaningful names to files: functions.py (to avoid) -> cleaning.py\n",
    "            - commit history: frequency and name of the commits\n",
    "            - general organization of the repo\n",
    "            - technically accurate & someone with zero idea should be able to kind of know what worked on\n",
    "\n",
    "- **flow control**\n",
    "    - conditional statements\n",
    "        - if, else, elif\n",
    "        - if, if, ifs -> only if we're checking for not mutually exclusive conditions -> if we want more than one thing to be checked\n",
    "        - if, elif -> if tyey're exclusive\n",
    "        - booleans/truthy and falsie: \n",
    "            `if not in`\n",
    "            `if something`:\n",
    "    - while loops\n",
    "        - do something until a condition es met\n",
    "        - watch out for inifinite loops\n",
    "    - for loops\n",
    "        - sometimes you don't know how long something will be\n",
    "    - `pass` & `break`\n",
    "        - help us manage the flow\n",
    "        \n",
    "       \n",
    "- **lists comprehensions**\n",
    "    - more efficient code: it takes slightly less time\n",
    "    - one-line\n",
    "    - creates a list: when you have an iterable\n",
    "        - based on iterations\n",
    "        - you can have conditions: if & if/else BUT not elif\n",
    "    - useful for unnesting structures\n",
    "            \n",
    "- **data types**\n",
    "    - int\n",
    "    - floats\n",
    "    - strings\n",
    "    - booleans\n",
    "\n",
    "- **data structures**\n",
    "    - lists\n",
    "    - tuples\n",
    "    - sets\n",
    "        - they don't have an order\n",
    "    - dictionaries\n",
    "        - they don't have an order\n",
    "        - access through the key instead of accessing through the index\n",
    "\n",
    "- **functions**: functional programming\n",
    "    - things that do things\n",
    "    - re-usable code: encapsulate things\n",
    "    - execute or return: return and no-return functions\n",
    "        - NoneType if no return is included\n",
    "        - otherwise the value is the value of the return \n",
    "    - if can have parameters (when defined) -> arguments (when called)\n",
    "    - do things vs return things\n",
    "        - do: update the value of health/strength\n",
    "        - return: message / another value / something else\n",
    "    \n",
    "- **object oriented programming**: oop programming\n",
    "    - just like functions\n",
    "        - re-use code\n",
    "        - encapsulation\n",
    "    - attributes (variables) & methods (functions)\n",
    "    - inheritance\n",
    "        - replicate and \"copy & paste\" these methods and attributes\n",
    "    - `__init__`: create a new instance with whatever is in the class.\n",
    "    - `self`: auto-reference keyword\n",
    "        - if a dictionary: dict[\"key\"]\n",
    "        - if an instance: self[\"attribute\"]\n",
    "    - get attributes\n",
    "    \n",
    "- the whole process:\n",
    "    - gather the data: extraction\n",
    "        - datasets\n",
    "            - download from any source\n",
    "        - databases\n",
    "            - non-relational: mongoDB\n",
    "            - relational: MySQL\n",
    "        - API\n",
    "            - someone else is nice enough for me to give access to their database\n",
    "        - web-scrapping\n",
    "            - acess the elements of a website\n",
    "        - build any dataset we need\n",
    "            - 1. Explore\n",
    "            - 2. Clean \n",
    "            - 3. Enrich\n",
    "            - 4. Visualization\n",
    "            [optional]: \n",
    "            - 5. Predictive modelling\n"
   ]
  },
  {
   "cell_type": "code",
   "execution_count": 9,
   "id": "7d84cea5",
   "metadata": {},
   "outputs": [],
   "source": [
    "# For week 2\n",
    "    # map, filter, reduce\n",
    "    # error handling\n",
    "    # numpy: numerical python library\n",
    "    # pandas: tables\n",
    "    # visualizations through python"
   ]
  },
  {
   "cell_type": "code",
   "execution_count": null,
   "id": "1c98f6ed",
   "metadata": {},
   "outputs": [],
   "source": [
    "# Difference between priunting & return"
   ]
  },
  {
   "cell_type": "code",
   "execution_count": 2,
   "id": "9109cde5",
   "metadata": {},
   "outputs": [
    {
     "name": "stdout",
     "output_type": "stream",
     "text": [
      "Hello Nerea\n"
     ]
    }
   ],
   "source": [
    "def greeting_print (name):\n",
    "    print (f\"Hello {name}\")\n",
    "\n",
    "greeting_print(\"Nerea\")"
   ]
  },
  {
   "cell_type": "code",
   "execution_count": 3,
   "id": "a82f1141",
   "metadata": {
    "scrolled": true
   },
   "outputs": [
    {
     "data": {
      "text/plain": [
       "'Hello Nerea'"
      ]
     },
     "execution_count": 3,
     "metadata": {},
     "output_type": "execute_result"
    }
   ],
   "source": [
    "def greeting_return (name):\n",
    "    return f\"Hello {name}\"\n",
    "\n",
    "greeting_return(\"Nerea\")"
   ]
  },
  {
   "cell_type": "code",
   "execution_count": 4,
   "id": "1a3a4823",
   "metadata": {},
   "outputs": [
    {
     "name": "stdout",
     "output_type": "stream",
     "text": [
      "Hello Nerea\n"
     ]
    }
   ],
   "source": [
    "g_print = greeting_print(\"Nerea\")"
   ]
  },
  {
   "cell_type": "code",
   "execution_count": 5,
   "id": "1500773b",
   "metadata": {},
   "outputs": [],
   "source": [
    "g_return = greeting_return(\"Nerea\")"
   ]
  },
  {
   "cell_type": "code",
   "execution_count": 6,
   "id": "2584d45b",
   "metadata": {},
   "outputs": [
    {
     "ename": "AttributeError",
     "evalue": "'NoneType' object has no attribute 'upper'",
     "output_type": "error",
     "traceback": [
      "\u001b[0;31m---------------------------------------------------------------------------\u001b[0m",
      "\u001b[0;31mAttributeError\u001b[0m                            Traceback (most recent call last)",
      "Input \u001b[0;32mIn [6]\u001b[0m, in \u001b[0;36m<cell line: 1>\u001b[0;34m()\u001b[0m\n\u001b[0;32m----> 1\u001b[0m \u001b[43mg_print\u001b[49m\u001b[38;5;241;43m.\u001b[39;49m\u001b[43mupper\u001b[49m()\n",
      "\u001b[0;31mAttributeError\u001b[0m: 'NoneType' object has no attribute 'upper'"
     ]
    }
   ],
   "source": [
    "g_print.upper()"
   ]
  },
  {
   "cell_type": "code",
   "execution_count": 7,
   "id": "7f068c44",
   "metadata": {},
   "outputs": [
    {
     "data": {
      "text/plain": [
       "'HELLO NEREA'"
      ]
     },
     "execution_count": 7,
     "metadata": {},
     "output_type": "execute_result"
    }
   ],
   "source": [
    "g_return.upper()"
   ]
  },
  {
   "cell_type": "code",
   "execution_count": null,
   "id": "92137b75",
   "metadata": {},
   "outputs": [],
   "source": [
    "# war class ()\n",
    "    # "
   ]
  },
  {
   "cell_type": "code",
   "execution_count": null,
   "id": "56a04ee4",
   "metadata": {},
   "outputs": [],
   "source": [
    "# Q: Dani\n",
    "    # random saxon = list.random (lista de saxons)\n",
    "    # the damage is equal to the strength\n",
    "    \n"
   ]
  },
  {
   "cell_type": "code",
   "execution_count": 37,
   "id": "b9a4b0ed",
   "metadata": {},
   "outputs": [],
   "source": [
    "class Staff ():\n",
    "    def __init__ (self, name, age=30):\n",
    "        self.name = name\n",
    "        self.age = age"
   ]
  },
  {
   "cell_type": "code",
   "execution_count": 38,
   "id": "12b4bc0d",
   "metadata": {},
   "outputs": [],
   "source": [
    "albert = Staff(\"Albert Coca\")"
   ]
  },
  {
   "cell_type": "code",
   "execution_count": 39,
   "id": "002cb478",
   "metadata": {},
   "outputs": [
    {
     "data": {
      "text/plain": [
       "30"
      ]
     },
     "execution_count": 39,
     "metadata": {},
     "output_type": "execute_result"
    }
   ],
   "source": [
    "albert.age"
   ]
  },
  {
   "cell_type": "code",
   "execution_count": 34,
   "id": "7a449df3",
   "metadata": {},
   "outputs": [],
   "source": [
    "def addition (age):\n",
    "    return age + 1"
   ]
  },
  {
   "cell_type": "code",
   "execution_count": 35,
   "id": "c77cb7ff",
   "metadata": {},
   "outputs": [
    {
     "ename": "NameError",
     "evalue": "name 'saxon' is not defined",
     "output_type": "error",
     "traceback": [
      "\u001b[0;31m---------------------------------------------------------------------------\u001b[0m",
      "\u001b[0;31mNameError\u001b[0m                                 Traceback (most recent call last)",
      "Input \u001b[0;32mIn [35]\u001b[0m, in \u001b[0;36m<cell line: 4>\u001b[0;34m()\u001b[0m\n\u001b[1;32m      1\u001b[0m albert_updated \u001b[38;5;241m=\u001b[39m addition(albert\u001b[38;5;241m.\u001b[39mage)\n\u001b[0;32m----> 4\u001b[0m attackDamage \u001b[38;5;241m=\u001b[39m \u001b[43msaxon\u001b[49m\u001b[38;5;241m.\u001b[39mreceiveDamage(viking\u001b[38;5;241m.\u001b[39mstrength)\n",
      "\u001b[0;31mNameError\u001b[0m: name 'saxon' is not defined"
     ]
    }
   ],
   "source": [
    "albert_updated = addition(albert.age) #this function is on its own\n",
    "\n",
    "\n",
    "attackDamage = saxon.receiveDamage(viking.strength) # this funcion is a method -> instance of a class \n",
    "# make strenght be equal to the result of receiving damage"
   ]
  },
  {
   "cell_type": "code",
   "execution_count": null,
   "id": "f9a24755",
   "metadata": {},
   "outputs": [],
   "source": [
    "# list = [viking_1, viking_2, laura]"
   ]
  },
  {
   "cell_type": "code",
   "execution_count": null,
   "id": "35341b49",
   "metadata": {},
   "outputs": [],
   "source": [
    "vikingArmy\n",
    "saxonArmy\n",
    "\n",
    "Harald = Saxon(\"Harald\", 30)\n",
    "    # harald.health = 30\n",
    "Nerea = Viking(\"Nerea\", 50)\n",
    "    # harald.health = 50\n",
    "\n",
    "\n",
    "list_army = [Harald, SomeoneElse, saxonInstance_1, albert, clara]"
   ]
  },
  {
   "cell_type": "code",
   "execution_count": null,
   "id": "1e52c445",
   "metadata": {},
   "outputs": [],
   "source": [
    "# Q Germán: \n",
    "\n",
    "viking_one.health "
   ]
  },
  {
   "cell_type": "code",
   "execution_count": 44,
   "id": "f8592655",
   "metadata": {},
   "outputs": [
    {
     "data": {
      "text/plain": [
       "30"
      ]
     },
     "execution_count": 44,
     "metadata": {},
     "output_type": "execute_result"
    }
   ],
   "source": [
    "# Q: Sergi, the same as dictionaries?\n",
    "# A: techincally no, but could be read as such\n",
    "\n",
    "albert_as_dict = albert.__dict__"
   ]
  },
  {
   "cell_type": "code",
   "execution_count": 45,
   "id": "024f1981",
   "metadata": {},
   "outputs": [
    {
     "data": {
      "text/plain": [
       "30"
      ]
     },
     "execution_count": 45,
     "metadata": {},
     "output_type": "execute_result"
    }
   ],
   "source": [
    "albert_as_dict[\"age\"] # if it's a dictionary\n",
    "albert.age # attribute"
   ]
  },
  {
   "cell_type": "code",
   "execution_count": 42,
   "id": "24edc277",
   "metadata": {},
   "outputs": [
    {
     "data": {
      "text/plain": [
       "__main__.Staff"
      ]
     },
     "execution_count": 42,
     "metadata": {},
     "output_type": "execute_result"
    }
   ],
   "source": [
    "type(albert)"
   ]
  },
  {
   "cell_type": "code",
   "execution_count": null,
   "id": "5421770c",
   "metadata": {},
   "outputs": [],
   "source": [
    "Harald.health"
   ]
  },
  {
   "cell_type": "code",
   "execution_count": null,
   "id": "94825cf9",
   "metadata": {},
   "outputs": [],
   "source": [
    "for att in dir(your_object):\n",
    "    print (att, getattr(your_object,att))\n"
   ]
  }
 ],
 "metadata": {
  "kernelspec": {
   "display_name": "ironhack",
   "language": "python",
   "name": "ironhack"
  },
  "language_info": {
   "codemirror_mode": {
    "name": "ipython",
    "version": 3
   },
   "file_extension": ".py",
   "mimetype": "text/x-python",
   "name": "python",
   "nbconvert_exporter": "python",
   "pygments_lexer": "ipython3",
   "version": "3.8.13"
  },
  "toc": {
   "base_numbering": 1,
   "nav_menu": {},
   "number_sections": true,
   "sideBar": true,
   "skip_h1_title": false,
   "title_cell": "Table of Contents",
   "title_sidebar": "Contents",
   "toc_cell": false,
   "toc_position": {},
   "toc_section_display": true,
   "toc_window_display": false
  }
 },
 "nbformat": 4,
 "nbformat_minor": 5
}
